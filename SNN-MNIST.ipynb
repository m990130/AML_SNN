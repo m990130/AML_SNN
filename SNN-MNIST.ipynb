{
 "cells": [
  {
   "cell_type": "code",
   "execution_count": 1,
   "metadata": {},
   "outputs": [],
   "source": [
    "from datetime import datetime\n",
    "import matplotlib.pyplot as plt\n",
    "import torch\n",
    "from torch.utils.data import Dataset, DataLoader\n",
    "import lib.snn as snn\n",
    "import lib.spikeFileIO as io\n",
    "import zipfile\n",
    "import os\n",
    "from lib.datasets.mnistdataset import SMNIST\n",
    "from IPython.display import HTML\n",
    "\n"
   ]
  },
  {
   "cell_type": "code",
   "execution_count": 2,
   "metadata": {},
   "outputs": [],
   "source": [
    "# CONSTANTS\n",
    "\n",
    "USE_CUDA = torch.cuda.is_available()\n",
    "#\n"
   ]
  },
  {
   "cell_type": "code",
   "execution_count": 3,
   "metadata": {},
   "outputs": [
    {
     "name": "stdout",
     "output_type": "stream",
     "text": [
      "<lib.snn.slayerParams.yamlParams object at 0x7fa2d0340250>\n"
     ]
    }
   ],
   "source": [
    "\n",
    "netParams = snn.params('data/mnist/network.yaml')\n",
    "print(netParams)"
   ]
  },
  {
   "cell_type": "code",
   "execution_count": 4,
   "metadata": {},
   "outputs": [],
   "source": [
    "\n",
    "# Network definition\n",
    "class Network(torch.nn.Module):\n",
    "    def __init__(self, netParams):\n",
    "        super(Network, self).__init__()\n",
    "        # initialize slayer\n",
    "        slayer = snn.layer(netParams['neuron'], netParams['simulation'])\n",
    "        self.slayer = slayer\n",
    "        # define network functions\n",
    "        self.conv1 = slayer.conv(1, 12, 5, padding=1)\n",
    "        self.conv2 = slayer.conv(12, 64, 5, padding=1)\n",
    "        self.pool1 = slayer.pool(2)\n",
    "        self.pool2 = slayer.pool(2)\n",
    "        self.fc1   = slayer.dense((6* 6 * 64), 10)\n",
    "\n",
    "    def forward(self, spikeInput):\n",
    "        spikeLayer1 = self.slayer.spike(self.conv1(self.slayer.psp(spikeInput ))) # 32, 32, 16\n",
    "        spikeLayer2 = self.slayer.spike(self.pool1(self.slayer.psp(spikeLayer1))) # 16, 16, 16\n",
    "        spikeLayer3 = self.slayer.spike(self.conv2(self.slayer.psp(spikeLayer2))) # 16, 16, 32\n",
    "        spikeLayer4 = self.slayer.spike(self.pool2(self.slayer.psp(spikeLayer3))) #  8,  8, 32\n",
    "        spikeLayer4 = spikeLayer4.reshape((-1, 6* 6 * 64, 1, 1, spikeLayer4.shape[-1]))\n",
    "        spikeOut    = self.slayer.spike(self.fc1  (self.slayer.psp(spikeLayer4))) #  10\n",
    "\n",
    "        return spikeOut\n",
    "\n",
    "# class Network(torch.nn.Module):\n",
    "#     def __init__(self, netParams):\n",
    "#         super(Network, self).__init__()\n",
    "#         # initialize slayer\n",
    "#         slayer = snn.layer(netParams['neuron'], netParams['simulation'])\n",
    "#         self.slayer = slayer\n",
    "#         # define network functions\n",
    "#         # self.conv1 = slayer.conv(1, 16, 5, padding=1)\n",
    "#         # self.conv2 = slayer.conv(16, 32, 3, padding=1)\n",
    "#         # self.conv3 = slayer.conv(32, 64, 3, padding=1)\n",
    "#         # self.pool1 = slayer.pool(2)\n",
    "#         # self.pool2 = slayer.pool(2)\n",
    "#         self.fc1   = slayer.dense((28, 28, 1), 512)\n",
    "#         # self.fc1 = slayer.dense((34 * 34 * 2), 512)\n",
    "#         self.fc2 = slayer.dense(512, 10)\n",
    "\n",
    "#     def forward(self, spikeInput):\n",
    "#         spikeLayer1 = self.slayer.spike(self.slayer.psp(self.fc1(spikeInput)))\n",
    "#         spikeLayer2 = self.slayer.spike(self.slayer.psp(self.fc2(spikeLayer1)))\n",
    "\n",
    "#         return spikeLayer2\n",
    "#         # spikeLayer1 = self.slayer.spike(self.conv1(self.slayer.psp(spikeInput ))) # 32, 32, 16\n",
    "#         # spikeLayer2 = self.slayer.spike(self.pool1(self.slayer.psp(spikeLayer1))) # 16, 16, 16\n",
    "#         # spikeLayer3 = self.slayer.spike(self.conv2(self.slayer.psp(spikeLayer2))) # 16, 16, 32\n",
    "#         # spikeLayer4 = self.slayer.spike(self.pool2(self.slayer.psp(spikeLayer3))) #  8,  8, 32\n",
    "#         # spikeLayer5 = self.slayer.spike(self.conv3(self.slayer.psp(spikeLayer4))) #  8,  8, 64\n",
    "#         # spikeOut    = self.slayer.spike(self.fc1  (self.slayer.psp(spikeLayer5))) #  10\n",
    "#         #\n",
    "#         # return spikeOut"
   ]
  },
  {
   "cell_type": "code",
   "execution_count": 5,
   "metadata": {},
   "outputs": [],
   "source": [
    "def save_model(name, model):\n",
    "    print(\"Saving models...\")\n",
    "    model.eval()\n",
    "\n",
    "    save_model_filename = 'saved_models/' + name + '.pt'\n",
    "\n",
    "    torch.save(model.state_dict(), save_model_filename)\n",
    "    \n",
    "def load_model(name, model):\n",
    "    model.load_state_dict(torch.load('saved_models/' + name + '.pt'))\n",
    "    \n",
    "def load_dict(name):\n",
    "    return torch.load('saved_models/' + name + '.pt')"
   ]
  },
  {
   "cell_type": "code",
   "execution_count": 6,
   "metadata": {},
   "outputs": [],
   "source": [
    "# INITIALIZATION \n",
    "\n",
    "\n",
    "device = torch.device(\"cuda\" if USE_CUDA else \"cpu\")\n",
    "\n",
    "#Create network instance.\n",
    "net = Network(netParams).to(device)\n",
    "\n",
    "# Create snn loss instance.\n",
    "error = snn.loss(netParams).to(device)\n",
    "\n",
    "# Define optimizer module.\n",
    "optimizer = torch.optim.Adam(net.parameters(), lr = 0.01, amsgrad = True)\n",
    "\n",
    "# Dataset and dataLoader instances.\n",
    "trainingSet = SMNIST(datasetPath =netParams['training']['path']['in'],\n",
    "                            samplingTime=netParams['simulation']['Ts'],\n",
    "                            sampleLength=netParams['simulation']['tSample'],\n",
    "                    train=True)\n",
    "trainLoader = DataLoader(dataset=trainingSet, batch_size=8, shuffle=False, num_workers=4)\n",
    "\n",
    "testingSet = SMNIST(datasetPath  =netParams['training']['path']['in'],\n",
    "                            samplingTime=netParams['simulation']['Ts'],\n",
    "                            sampleLength=netParams['simulation']['tSample'],\n",
    "                    train=False)\n",
    "testLoader = DataLoader(dataset=testingSet, batch_size=2, shuffle=False, num_workers=4)\n",
    "\n",
    "# Learning stats instance.\n",
    "stats = snn.learningStats()"
   ]
  },
  {
   "cell_type": "code",
   "execution_count": null,
   "metadata": {},
   "outputs": [],
   "source": [
    "\n"
   ]
  },
  {
   "cell_type": "code",
   "execution_count": 7,
   "metadata": {},
   "outputs": [
    {
     "data": {
      "text/html": [
       "\n",
       "<link rel=\"stylesheet\"\n",
       "href=\"https://maxcdn.bootstrapcdn.com/font-awesome/4.4.0/\n",
       "css/font-awesome.min.css\">\n",
       "<script language=\"javascript\">\n",
       "  /* Define the Animation class */\n",
       "  function Animation(frames, img_id, slider_id, interval, loop_select_id){\n",
       "    this.img_id = img_id;\n",
       "    this.slider_id = slider_id;\n",
       "    this.loop_select_id = loop_select_id;\n",
       "    this.interval = interval;\n",
       "    this.current_frame = 0;\n",
       "    this.direction = 0;\n",
       "    this.timer = null;\n",
       "    this.frames = new Array(frames.length);\n",
       "\n",
       "    for (var i=0; i<frames.length; i++)\n",
       "    {\n",
       "     this.frames[i] = new Image();\n",
       "     this.frames[i].src = frames[i];\n",
       "    }\n",
       "    document.getElementById(this.slider_id).max = this.frames.length - 1;\n",
       "    this.set_frame(this.current_frame);\n",
       "  }\n",
       "\n",
       "  Animation.prototype.get_loop_state = function(){\n",
       "    var button_group = document[this.loop_select_id].state;\n",
       "    for (var i = 0; i < button_group.length; i++) {\n",
       "        var button = button_group[i];\n",
       "        if (button.checked) {\n",
       "            return button.value;\n",
       "        }\n",
       "    }\n",
       "    return undefined;\n",
       "  }\n",
       "\n",
       "  Animation.prototype.set_frame = function(frame){\n",
       "    this.current_frame = frame;\n",
       "    document.getElementById(this.img_id).src =\n",
       "            this.frames[this.current_frame].src;\n",
       "    document.getElementById(this.slider_id).value = this.current_frame;\n",
       "  }\n",
       "\n",
       "  Animation.prototype.next_frame = function()\n",
       "  {\n",
       "    this.set_frame(Math.min(this.frames.length - 1, this.current_frame + 1));\n",
       "  }\n",
       "\n",
       "  Animation.prototype.previous_frame = function()\n",
       "  {\n",
       "    this.set_frame(Math.max(0, this.current_frame - 1));\n",
       "  }\n",
       "\n",
       "  Animation.prototype.first_frame = function()\n",
       "  {\n",
       "    this.set_frame(0);\n",
       "  }\n",
       "\n",
       "  Animation.prototype.last_frame = function()\n",
       "  {\n",
       "    this.set_frame(this.frames.length - 1);\n",
       "  }\n",
       "\n",
       "  Animation.prototype.slower = function()\n",
       "  {\n",
       "    this.interval /= 0.7;\n",
       "    if(this.direction > 0){this.play_animation();}\n",
       "    else if(this.direction < 0){this.reverse_animation();}\n",
       "  }\n",
       "\n",
       "  Animation.prototype.faster = function()\n",
       "  {\n",
       "    this.interval *= 0.7;\n",
       "    if(this.direction > 0){this.play_animation();}\n",
       "    else if(this.direction < 0){this.reverse_animation();}\n",
       "  }\n",
       "\n",
       "  Animation.prototype.anim_step_forward = function()\n",
       "  {\n",
       "    this.current_frame += 1;\n",
       "    if(this.current_frame < this.frames.length){\n",
       "      this.set_frame(this.current_frame);\n",
       "    }else{\n",
       "      var loop_state = this.get_loop_state();\n",
       "      if(loop_state == \"loop\"){\n",
       "        this.first_frame();\n",
       "      }else if(loop_state == \"reflect\"){\n",
       "        this.last_frame();\n",
       "        this.reverse_animation();\n",
       "      }else{\n",
       "        this.pause_animation();\n",
       "        this.last_frame();\n",
       "      }\n",
       "    }\n",
       "  }\n",
       "\n",
       "  Animation.prototype.anim_step_reverse = function()\n",
       "  {\n",
       "    this.current_frame -= 1;\n",
       "    if(this.current_frame >= 0){\n",
       "      this.set_frame(this.current_frame);\n",
       "    }else{\n",
       "      var loop_state = this.get_loop_state();\n",
       "      if(loop_state == \"loop\"){\n",
       "        this.last_frame();\n",
       "      }else if(loop_state == \"reflect\"){\n",
       "        this.first_frame();\n",
       "        this.play_animation();\n",
       "      }else{\n",
       "        this.pause_animation();\n",
       "        this.first_frame();\n",
       "      }\n",
       "    }\n",
       "  }\n",
       "\n",
       "  Animation.prototype.pause_animation = function()\n",
       "  {\n",
       "    this.direction = 0;\n",
       "    if (this.timer){\n",
       "      clearInterval(this.timer);\n",
       "      this.timer = null;\n",
       "    }\n",
       "  }\n",
       "\n",
       "  Animation.prototype.play_animation = function()\n",
       "  {\n",
       "    this.pause_animation();\n",
       "    this.direction = 1;\n",
       "    var t = this;\n",
       "    if (!this.timer) this.timer = setInterval(function() {\n",
       "        t.anim_step_forward();\n",
       "    }, this.interval);\n",
       "  }\n",
       "\n",
       "  Animation.prototype.reverse_animation = function()\n",
       "  {\n",
       "    this.pause_animation();\n",
       "    this.direction = -1;\n",
       "    var t = this;\n",
       "    if (!this.timer) this.timer = setInterval(function() {\n",
       "        t.anim_step_reverse();\n",
       "    }, this.interval);\n",
       "  }\n",
       "</script>\n",
       "\n",
       "<div class=\"animation\" align=\"center\">\n",
       "    <img id=\"_anim_img4bccf43a1a954a8e9baa821664b2d210\">\n",
       "    <br>\n",
       "    <input id=\"_anim_slider4bccf43a1a954a8e9baa821664b2d210\" type=\"range\" style=\"width:350px\"\n",
       "           name=\"points\" min=\"0\" max=\"1\" step=\"1\" value=\"0\"\n",
       "           onchange=\"anim4bccf43a1a954a8e9baa821664b2d210.set_frame(parseInt(this.value));\"></input>\n",
       "    <br>\n",
       "    <button onclick=\"anim4bccf43a1a954a8e9baa821664b2d210.slower()\"><i class=\"fa fa-minus\"></i></button>\n",
       "    <button onclick=\"anim4bccf43a1a954a8e9baa821664b2d210.first_frame()\"><i class=\"fa fa-fast-backward\">\n",
       "        </i></button>\n",
       "    <button onclick=\"anim4bccf43a1a954a8e9baa821664b2d210.previous_frame()\">\n",
       "        <i class=\"fa fa-step-backward\"></i></button>\n",
       "    <button onclick=\"anim4bccf43a1a954a8e9baa821664b2d210.reverse_animation()\">\n",
       "        <i class=\"fa fa-play fa-flip-horizontal\"></i></button>\n",
       "    <button onclick=\"anim4bccf43a1a954a8e9baa821664b2d210.pause_animation()\"><i class=\"fa fa-pause\">\n",
       "        </i></button>\n",
       "    <button onclick=\"anim4bccf43a1a954a8e9baa821664b2d210.play_animation()\"><i class=\"fa fa-play\"></i>\n",
       "        </button>\n",
       "    <button onclick=\"anim4bccf43a1a954a8e9baa821664b2d210.next_frame()\"><i class=\"fa fa-step-forward\">\n",
       "        </i></button>\n",
       "    <button onclick=\"anim4bccf43a1a954a8e9baa821664b2d210.last_frame()\"><i class=\"fa fa-fast-forward\">\n",
       "        </i></button>\n",
       "    <button onclick=\"anim4bccf43a1a954a8e9baa821664b2d210.faster()\"><i class=\"fa fa-plus\"></i></button>\n",
       "  <form action=\"#n\" name=\"_anim_loop_select4bccf43a1a954a8e9baa821664b2d210\" class=\"anim_control\">\n",
       "    <input type=\"radio\" name=\"state\"\n",
       "           value=\"once\" > Once </input>\n",
       "    <input type=\"radio\" name=\"state\"\n",
       "           value=\"loop\" checked> Loop </input>\n",
       "    <input type=\"radio\" name=\"state\"\n",
       "           value=\"reflect\" > Reflect </input>\n",
       "  </form>\n",
       "</div>\n",
       "\n",
       "\n",
       "<script language=\"javascript\">\n",
       "  /* Instantiate the Animation class. */\n",
       "  /* The IDs given should match those used in the template above. */\n",
       "  (function() {\n",
       "    var img_id = \"_anim_img4bccf43a1a954a8e9baa821664b2d210\";\n",
       "    var slider_id = \"_anim_slider4bccf43a1a954a8e9baa821664b2d210\";\n",
       "    var loop_select_id = \"_anim_loop_select4bccf43a1a954a8e9baa821664b2d210\";\n",
       "    var frames = new Array(0);\n",
       "    \n",
       "  frames[0] = \"data:image/png;base64,iVBORw0KGgoAAAANSUhEUgAAAbAAAAEgCAYAAADVKCZpAAAABHNCSVQICAgIfAhkiAAAAAlwSFlz\\\n",
       "AAALEgAACxIB0t1+/AAAADl0RVh0U29mdHdhcmUAbWF0cGxvdGxpYiB2ZXJzaW9uIDIuMi4zLCBo\\\n",
       "dHRwOi8vbWF0cGxvdGxpYi5vcmcvIxREBQAADk9JREFUeJzt3V9o1fX/wPHX0dFVemG1OWY0xFHq\\\n",
       "tNEW0kVCjVUETVII+wOTmYPoItIuvFwQsRvBQC861MWuim5yF+qooCgvQg65bgYxJMnWWJlelDea\\\n",
       "fH4XX777Iv5b/dY+n9f2eMBg5+Nxvvy4+dz7c857p1YURREAkMyKsgcAgH9CwABIScAASEnAAEhJ\\\n",
       "wABIScAASEnAAEhJwABIScAASEnAAEhJwABIScAASEnAAEhJwABIScAASEnAAEhJwABIScAASEnA\\\n",
       "AEhJwABIScAASEnAAEhJwABIScAASEnAAEhJwABIScAASEnAAEhJwABIScAASEnAAEhJwABIScAA\\\n",
       "SEnAAEipqewBuLPx8fF444034tq1a/Hqq6/GwYMHb3v/Wq22SJPB0nTPPffEhQsXyh6DO7ACq7hr\\\n",
       "167F66+/HidPnozJycn46KOPYnJysuyxYElrb28vewTmQcAq7vTp07Fhw4ZYv3593HXXXbF79+4Y\\\n",
       "GxsreyyA0glYxU1PT8f9998/d3vdunUxPT1d4kQA1eAxsCWiXq9HvV4vewyARSNgFdfW1hbnz5+f\\\n",
       "u/3zzz9HW1vbDfcbGhqKoaGhiPAkDmB5cAmx4h599NGYmpqKH3/8Ma5cuRIff/xx9Pf3lz0WQOms\\\n",
       "wCquqakpjhw5Ek8//XRcu3YtBgcHY/PmzWWPBVC6WlEURdlDsLBcQoT/n+7u7mg0GmWPwR24hAhA\\\n",
       "SgIGQEoCBkBKAgZASgIGQEoCBkBKAgZASgIGQEoCBkBKAgZASgIGQEoCBkBKAgZASgIGQEoCBkBK\\\n",
       "AgZASgIGQEoCBkBKAgZASgIGQEoCBkBKAgZASgIGQEoCBkBKAgZASgIGQEoCBkBKAgZASgIGQEoC\\\n",
       "BkBKAgZASgIGQEoCBkBKAgZASk1lD8Cdtbe3x6pVq2LlypXR1NQUjUaj7JGohGIe96ktwMdYjnrK\\\n",
       "HoB5ELAkvvzyy7j33nvLHgOgMlxCBCAlAUugVqvFU089Fd3d3VGv18seB6ASXEJM4NSpU9HW1ha/\\\n",
       "/vpr9PX1xUMPPRTbt2+/7j71el3cgGWlVhSFR3ETGR4ejrvvvjveeuutW96nVrvTA/csDZ7E8W/p\\\n",
       "7u7xZKkEXEKsuMuXL8cff/wx9/5nn30WnZ2dJU8FUD6XECtudnY2nn/++YiI+Ouvv+Kll16KZ555\\\n",
       "puSpAMonYBW3fv36+P7778seY4lYjpfLluPfmeXCJUQAUhIwAFISMABSEjAAUhIwAFISMABSEjAA\\\n",
       "UhIwAFISMJaIYh5vEPGfnw95pzcyEDAAUhIwAFISMABSEjAAUhIwAFISMABSEjAAUhIwAFLyiszA\\\n",
       "ArD5l8VnBQZASgIGQEoCBkBKAgZASgIGQEoCBkBKAgZASvaBsUQsxD6kbC96uRz/zvA/VmAApCRg\\\n",
       "AKQkYACkJGAApCRgAKQkYACkJGAApCRgAKRkIzP8LfPZPJxpc7AXoiQvK7AKGRwcjObm5ujs7Jw7\\\n",
       "dvHixejr64uOjo7o6+uLS5culTghQHUIWIXs2bMnxsfHrzs2MjISvb29MTU1Fb29vTEyMlLSdADV\\\n",
       "ImAVsn379lizZs11x8bGxmJgYCAiIgYGBuLYsWNljAZQOQJWcbOzs9Ha2hoREWvXro3Z2dmSJwKo\\\n",
       "Bk/iSKRWq0WtdvMH3ev1etTr9UWeCKA8VmAV19LSEjMzMxERMTMzE83NzTe939DQUDQajWg0Gos5\\\n",
       "HkBpBKzi+vv7Y3R0NCIiRkdHY8eOHSVPBFANAlYhL774Yjz22GPxww8/xLp16+LDDz+MgwcPxuef\\\n",
       "fx4dHR3xxRdfxMGDB8seE6ASakVRZNp1yTzc6nEyFstifUn5d/63dHd3uxyfgBUYACkJGAApCRgA\\\n",
       "KQkYACkJGAApCRgAKQkYACkJGAAp+WG+kNZ8Nkzb7MzSZQUGQEoCBkBKAgZASgIGQEoCBkBKAgZA\\\n",
       "SgIGQEr2gcGCW4i9Vwv1opgL8XHsJaOarMAASEnAAEhJwABIScAASEnAAEhJwABIScAASEnAAEjJ\\\n",
       "RmbgDrxwJtVkBQZASgIGQEoCBkBKAgZASgIGQEoCBkBKAgZASgIGQEoCVhGDg4PR3NwcnZ2dc8eG\\\n",
       "h4ejra0turq6oqurK06cOFHihCyu2jzeqqRYgDf4ewSsIvbs2RPj4+M3HH/zzTdjYmIiJiYm4tln\\\n",
       "ny1hMoBqErCK2L59e6xZs6bsMQDSELCKO3LkSGzdujUGBwfj0qVLZY8DUBkCVmGvvfZanD17NiYm\\\n",
       "JqK1tTUOHDhwy/vW6/Xo6emJnp6eRZwQoDwCVmEtLS2xcuXKWLFiRezbty9Onz59y/sODQ1Fo9GI\\\n",
       "RqOxiBMClEfAKmxmZmbu/U8//fS6ZygCLHdeD6wiXnzxxfjqq6/iwoULsW7dunj77bfjq6++iomJ\\\n",
       "iajVatHe3h7vv/9+2WMCVEatKAobMJaYWq1qe4T4dyy1L93qfN52d3e7HJ+AFRiktRD/4S+1CLKc\\\n",
       "eAwMgJQEDICUBAyAlAQMgJQEDICUBAyAlAQMgJTsA4NlbT57yRZrr9h8/pzqbHamfFZgAKQkYACk\\\n",
       "JGAApCRgAKQkYACkJGAApCRgAKQkYACkZCMzpLXUXozSJmX+HiswAFISMABSEjAAUhIwAFISMABS\\\n",
       "EjAAUhIwAFISMABSspEZKmmpbVKGhWcFBkBKAgZASgIGQEoCBkBKAgZASgIGQEoCBkBK9oHBgrOH\\\n",
       "60ZerJKFZwVWEefPn48nnngiNm3aFJs3b4733nsvIiIuXrwYfX190dHREX19fXHp0qWSJwWoBgGr\\\n",
       "iKampjh06FBMTk7Gt99+G0ePHo3JyckYGRmJ3t7emJqait7e3hgZGSl7VIBKELCKaG1tjUceeSQi\\\n",
       "IlatWhUbN26M6enpGBsbi4GBgYiIGBgYiGPHjpU5JkBlCFgFnTt3Ls6cORPbtm2L2dnZaG1tjYiI\\\n",
       "tWvXxuzsbMnTAVSDJ3FUzJ9//hm7du2Kw4cPx+rVq6/7tVqtFrXazR8Mr9frUa/XF2NEgEqwAquQ\\\n",
       "q1evxq5du+Lll1+OnTt3RkRES0tLzMzMRETEzMxMNDc33/T3Dg0NRaPRiEajsWjzApRJwCqiKIrY\\\n",
       "u3dvbNy4Mfbv3z93vL+/P0ZHRyMiYnR0NHbs2FHWiACVUiuKwqaVCjh16lQ8/vjjsWXLllix4j/f\\\n",
       "V7z77ruxbdu2eOGFF+Knn36KBx54ID755JNYs2bNbT/WrS4zslh8Sd0o1+dkd3e3qxkJCNgSJGC3\\\n",
       "4lP9n1l+n08CloNLiACkJGAApCRgAKQkYACkJGAApCRgAKQkYACkJGAApOSH+ZKADcg3N58Nxnc6\\\n",
       "d8tvkzJLhxUYACkJGAApCRgAKQkYACkJGAApCRgAKQkYACkJGAAp2cjMv8wm5H9moTYY26jM0mUF\\\n",
       "BkBKAgZASgIGQEoCBkBKAgZASgIGQEoCBkBK9oHBorM3CxaCFRgAKQkYACkJGAApCRgAKQkYACkJ\\\n",
       "GAApCRgAKQkYACnViqLwioNLzL333hvt7e1zt3/77be47777yhvob8o0b6ZZI3LNW+as586diwsX\\\n",
       "LpTyZzN/ArYM9PT0RKPRKHuMecs0b6ZZI3LNm2lWyuESIgApCRgAKa0cHh4eLnsI/n3d3d1lj/C3\\\n",
       "ZJo306wRuebNNCuLz2NgAKTkEiIAKQnYEjc+Ph4PPvhgbNiwIUZGRsoe57ba29tjy5Yt0dXVFT09\\\n",
       "PWWPc4PBwcFobm6Ozs7OuWMXL16Mvr6+6OjoiL6+vrh06VKJE17vZvMODw9HW1tbdHV1RVdXV5w4\\\n",
       "caLECf/n/Pnz8cQTT8SmTZti8+bN8d5770VEtc8v5ROwJezatWvx+uuvx8mTJ2NycjI++uijmJyc\\\n",
       "LHus2/ryyy9jYmKikk+f3rNnT4yPj193bGRkJHp7e2Nqaip6e3sr9U3CzeaNiHjzzTdjYmIiJiYm\\\n",
       "4tlnny1hshs1NTXFoUOHYnJyMr799ts4evRoTE5OVvr8Uj4BW8JOnz4dGzZsiPXr18ddd90Vu3fv\\\n",
       "jrGxsbLHSmv79u2xZs2a646NjY3FwMBAREQMDAzEsWPHyhjtpm42b1W1trbGI488EhERq1atio0b\\\n",
       "N8b09HSlzy/lE7AlbHp6Ou6///652+vWrYvp6ekSJ7q9Wq0WTz31VHR3d0e9Xi97nHmZnZ2N1tbW\\\n",
       "iIhYu3ZtzM7OljzRnR05ciS2bt0ag4ODlbwkd+7cuThz5kxs27Yt5fll8QgYlXHq1Kn47rvv4uTJ\\\n",
       "k3H06NH4+uuvyx7pb6nValGr1coe47Zee+21OHv2bExMTERra2scOHCg7JGu8+eff8auXbvi8OHD\\\n",
       "sXr16ut+LcP5ZXEJ2BLW1tYW58+fn7v9888/R1tbW4kT3d5/Z2tubo7nn38+Tp8+XfJEd9bS0hIz\\\n",
       "MzMRETEzMxPNzc0lT3R7LS0tsXLlylixYkXs27evUuf46tWrsWvXrnj55Zdj586dEZHv/LK4BGwJ\\\n",
       "e/TRR2Nqaip+/PHHuHLlSnz88cfR399f9lg3dfny5fjjjz/m3v/ss8+ue/ZcVfX398fo6GhERIyO\\\n",
       "jsaOHTtKnuj2/huDiIhPP/20Mue4KIrYu3dvbNy4Mfbv3z93PNv5ZZEVLGnHjx8vOjo6ivXr1xfv\\\n",
       "vPNO2ePc0tmzZ4utW7cWW7duLTZt2lTJWXfv3l2sXbu2aGpqKtra2ooPPviguHDhQvHkk08WGzZs\\\n",
       "KHp7e4vff/+97DHn3GzeV155pejs7Cy2bNlSPPfcc8Uvv/xS9phFURTFN998U0REsWXLluLhhx8u\\\n",
       "Hn744eL48eOVPr+Uz0/iACAllxABSEnAAEhJwABIScAASEnAAEhJwABIScAASEnAAEhJwABIScAA\\\n",
       "SEnAAEhJwABIScAASEnAAEhJwABIScAASEnAAEhJwABIScAASEnAAEjp/wAzhW1CzJ7YtwAAAABJ\\\n",
       "RU5ErkJggg==\\\n",
       "\"\n",
       "\n",
       "\n",
       "    /* set a timeout to make sure all the above elements are created before\n",
       "       the object is initialized. */\n",
       "    setTimeout(function() {\n",
       "        anim4bccf43a1a954a8e9baa821664b2d210 = new Animation(frames, img_id, slider_id, 41.0,\n",
       "                                 loop_select_id);\n",
       "    }, 0);\n",
       "  })()\n",
       "</script>\n"
      ],
      "text/plain": [
       "<IPython.core.display.HTML object>"
      ]
     },
     "execution_count": 7,
     "metadata": {},
     "output_type": "execute_result"
    }
   ],
   "source": [
    "## VISUALIZATION\n",
    "\n",
    "input, target, label = trainingSet[0]\n",
    "anim = io.animTD(io.spikeArrayToEvent(input.reshape((1, 28, 28, -1)).cpu().data.numpy()))\n",
    "HTML(anim.to_jshtml())\n",
    "\n"
   ]
  },
  {
   "cell_type": "code",
   "execution_count": 8,
   "metadata": {},
   "outputs": [
    {
     "name": "stdout",
     "output_type": "stream",
     "text": [
      "\u001b[0A\n",
      "Epoch :          0,    7920.2120 ms elapsed\n",
      "loss = 4.2091       (min = 4.2091      )  \taccuracy = 0.582      (max = 0.582     )\n",
      "loss = 3.4794       (min = 3.4794      )  \taccuracy = 0.672      (max = 0.672     )\n",
      "\u001b[4A\n",
      "Epoch :          4,    5504.9870 ms elapsed\n",
      "loss = 2.2969       (min = 2.2969      )  \taccuracy = 0.922      (max = 0.922     )\n",
      "loss = 2.6042       (min = 2.6042      )  \taccuracy = 0.818      (max = 0.818     )\n",
      "Saving models...\n"
     ]
    }
   ],
   "source": [
    "## Training\n",
    "\n",
    "# training loop\n",
    "Nepochs = 5\n",
    "for epoch in range(Nepochs):\n",
    "    # Reset training stats.\n",
    "    stats.training.reset()\n",
    "    tSt = datetime.now()\n",
    "    \n",
    "    # Training loop.\n",
    "    for i, (input, target, label) in enumerate(trainLoader, 0):\n",
    "        # Move the input and target to correct GPU.\n",
    "        input = input.to(device)\n",
    "        target = target.to(device)\n",
    "\n",
    "        # Forward pass of the network.\n",
    "        output = net.forward(input)\n",
    "\n",
    "        # Gather the training stats.\n",
    "        stats.training.correctSamples += torch.sum(snn.predict.getClass(output) == label).data.item()\n",
    "        stats.training.numSamples += len(label)\n",
    "\n",
    "        # Calculate loss.\n",
    "        loss = error.numSpikes(output, target)\n",
    "\n",
    "        # Reset gradients to zero.\n",
    "        optimizer.zero_grad()\n",
    "\n",
    "        # Backward pass of the network.\n",
    "        loss.backward()\n",
    "\n",
    "        # Update weights.\n",
    "        optimizer.step()\n",
    "\n",
    "        # Gather training loss stats.\n",
    "        stats.training.lossSum += loss.cpu().data.item()\n",
    "        \n",
    "        # print(\"SRMkernel: {}\".format(net.state_dict()['slayer.srmKernel']))\n",
    "        # print(\"Refkernel: {}\".format(net.state_dict()['slayer.refKernel']))\n",
    "\n",
    "        # Display training stats.\n",
    "        # if i%10 == 0: stats.print(epoch, i, (datetime.now() - tSt).total_seconds())\n",
    "    # Update training stats.\n",
    "    stats.training.update()\n",
    "    # Reset testing stats.\n",
    "    stats.testing.reset()\n",
    "    # Testing loop.\n",
    "    # Same steps as Training loops except loss backpropagation and weight update.\n",
    "    for i, (input, target, label) in enumerate(testLoader, 0):\n",
    "        input = input.to(device)\n",
    "        target = target.to(device)\n",
    "\n",
    "        output = net.forward(input)\n",
    "\n",
    "        stats.testing.correctSamples += torch.sum(snn.predict.getClass(output) == label).data.item()\n",
    "        stats.testing.numSamples += len(label)\n",
    "\n",
    "        loss = error.numSpikes(output, target)\n",
    "        stats.testing.lossSum += loss.cpu().data.item()\n",
    "        \n",
    "        # if i%10 == 0: stats.print(epoch, i)\n",
    "\n",
    "\n",
    "    # Update stats.\n",
    "    stats.testing.update()\n",
    "    if epoch%10==0 or epoch == Nepochs-1: stats.print(epoch, timeElapsed=(datetime.now() - tSt).total_seconds())\n",
    "\n",
    "save_model(\"SNN\", net)"
   ]
  },
  {
   "cell_type": "code",
   "execution_count": 9,
   "metadata": {},
   "outputs": [
    {
     "data": {
      "image/png": "[encoded data removed]",
      "text/plain": [
       "<Figure size 432x288 with 1 Axes>"
      ]
     },
     "metadata": {
      "needs_background": "light"
     },
     "output_type": "display_data"
    },
    {
     "data": {
      "image/png": "[encoded data removed]",
      "text/plain": [
       "<Figure size 432x288 with 1 Axes>"
      ]
     },
     "metadata": {
      "needs_background": "light"
     },
     "output_type": "display_data"
    }
   ],
   "source": [
    "# Plot the results.\n",
    "plt.figure(1)\n",
    "plt.semilogy(stats.training.lossLog, label='Training')\n",
    "plt.semilogy(stats.testing.lossLog, label='Testing')\n",
    "plt.xlabel('Epoch')\n",
    "plt.ylabel('Loss')\n",
    "plt.legend()\n",
    "\n",
    "plt.figure(2)\n",
    "plt.plot(stats.training.accuracyLog, label='Training')\n",
    "plt.plot(stats.testing.accuracyLog, label='Testing')\n",
    "plt.xlabel('Epoch')\n",
    "plt.ylabel('Accuracy')\n",
    "plt.legend()\n",
    "\n",
    "plt.show()"
   ]
  },
  {
   "cell_type": "code",
   "execution_count": 10,
   "metadata": {},
   "outputs": [
    {
     "name": "stdout",
     "output_type": "stream",
     "text": [
      "Layer slayer.srmKernel\n",
      "torch.Size([25])\n",
      "Layer slayer.refKernel\n",
      "torch.Size([11])\n",
      "Layer conv1.weight\n",
      "torch.Size([12, 1, 5, 5, 1])\n",
      "Layer conv2.weight\n",
      "torch.Size([64, 12, 5, 5, 1])\n",
      "Layer pool1.weight\n",
      "torch.Size([1, 1, 2, 2, 1])\n",
      "Layer pool2.weight\n",
      "torch.Size([1, 1, 2, 2, 1])\n",
      "Layer fc1.weight\n",
      "torch.Size([10, 2304, 1, 1, 1])\n"
     ]
    }
   ],
   "source": [
    "for k in iter(net.state_dict()):\n",
    "    print(\"Layer {}\".format(k))\n",
    "    print(net.state_dict()[k].shape)"
   ]
  },
  {
   "cell_type": "code",
   "execution_count": 11,
   "metadata": {},
   "outputs": [
    {
     "name": "stdout",
     "output_type": "stream",
     "text": [
      "tensor([[[[[11.],\n",
      "           [11.]],\n",
      "\n",
      "          [[11.],\n",
      "           [11.]]]]], device='cuda:0')\n"
     ]
    }
   ],
   "source": [
    "print(net.state_dict()['pool1.weight'])"
   ]
  },
  {
   "cell_type": "code",
   "execution_count": 12,
   "metadata": {},
   "outputs": [],
   "source": [
    "# Test loading of the model \n",
    "device = torch.device(\"cuda\" if USE_CUDA else \"cpu\")\n",
    "\n",
    "#Create network instance.\n",
    "net2 = Network(netParams).to(device)\n",
    "\n",
    "load_model(\"SNN\", net2)"
   ]
  },
  {
   "cell_type": "code",
   "execution_count": 13,
   "metadata": {},
   "outputs": [],
   "source": [
    "def test_acc(dataloader , model):\n",
    "    correct = 0\n",
    "    total = 0\n",
    "    with torch.no_grad():\n",
    "        for data in dataloader:\n",
    "            images, labels =  data[0].to(device), data[2]\n",
    "            outputs = model.forward(images)\n",
    "            predicted = snn.predict.getClass(outputs)\n",
    "            total += len(labels)\n",
    "            correct += (predicted == labels).sum().item()\n",
    "    print('Accuracy of the network: %1.2f %%' % (100 * correct / total))"
   ]
  },
  {
   "cell_type": "code",
   "execution_count": 14,
   "metadata": {},
   "outputs": [
    {
     "name": "stdout",
     "output_type": "stream",
     "text": [
      "Accuracy of the network: 83.00 %\n"
     ]
    }
   ],
   "source": [
    "test_acc(testLoader, net2)"
   ]
  },
  {
   "cell_type": "code",
   "execution_count": 15,
   "metadata": {},
   "outputs": [],
   "source": [
    "tailor_cnn_weights = load_dict(\"tailor_cnn\")\n",
    "snn_weights = net2.state_dict()"
   ]
  },
  {
   "cell_type": "code",
   "execution_count": 16,
   "metadata": {},
   "outputs": [
    {
     "name": "stdout",
     "output_type": "stream",
     "text": [
      "Layer conv1.weight\n",
      "torch.Size([12, 1, 5, 5])\n",
      "Layer conv2.weight\n",
      "torch.Size([64, 12, 5, 5])\n",
      "Layer fc1.weight\n",
      "torch.Size([10, 2304, 1, 1, 1])\n"
     ]
    }
   ],
   "source": [
    "for k in iter(tailor_cnn_weights):\n",
    "    print(\"Layer {}\".format(k))\n",
    "    print(tailor_cnn_weights[k].shape)\n",
    "    if k.startswith('conv') or k.startswith('fc'):\n",
    "        snn_weights[k] = tailor_cnn_weights[k].reshape(snn_weights[k].shape)"
   ]
  },
  {
   "cell_type": "code",
   "execution_count": 17,
   "metadata": {},
   "outputs": [
    {
     "data": {
      "text/plain": [
       "<All keys matched successfully>"
      ]
     },
     "execution_count": 17,
     "metadata": {},
     "output_type": "execute_result"
    }
   ],
   "source": [
    "net2.load_state_dict(snn_weights)"
   ]
  },
  {
   "cell_type": "code",
   "execution_count": 18,
   "metadata": {},
   "outputs": [
    {
     "name": "stdout",
     "output_type": "stream",
     "text": [
      "Accuracy of the network: 10.80 %\n"
     ]
    }
   ],
   "source": [
    "test_acc(testLoader, net2)"
   ]
  },
  {
   "cell_type": "code",
   "execution_count": 20,
   "metadata": {},
   "outputs": [],
   "source": [
    "# for k in iter(net.state_dict()):\n",
    "#     print(\"Layer {}\".format(k))\n",
    "#     if k.startswith('conv') or k.startswith('fc'):\n",
    "#         print(\"A:  \", net.state_dict()[k])\n",
    "#         print(\"B: \", tailor_cnn_weights[k].reshape(snn_weights[k].shape))\n",
    "#         break\n"
   ]
  },
  {
   "cell_type": "code",
   "execution_count": 22,
   "metadata": {},
   "outputs": [
    {
     "name": "stdout",
     "output_type": "stream",
     "text": [
      "Saving models...\n"
     ]
    }
   ],
   "source": [
    "save_model('snn_slayer', net)"
   ]
  },
  {
   "cell_type": "code",
   "execution_count": null,
   "metadata": {},
   "outputs": [],
   "source": []
  }
 ],
 "metadata": {
  "kernelspec": {
   "display_name": "KERNEL AML(aml)",
   "language": "python",
   "name": "aml"
  },
  "language_info": {
   "codemirror_mode": {
    "name": "ipython",
    "version": 3
   },
   "file_extension": ".py",
   "mimetype": "text/x-python",
   "name": "python",
   "nbconvert_exporter": "python",
   "pygments_lexer": "ipython3",
   "version": "3.7.4"
  }
 },
 "nbformat": 4,
 "nbformat_minor": 2
}
