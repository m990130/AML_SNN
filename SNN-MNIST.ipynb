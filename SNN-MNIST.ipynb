{
 "cells": [
  {
   "cell_type": "code",
   "execution_count": 1,
   "metadata": {},
   "outputs": [],
   "source": [
    "from datetime import datetime\n",
    "import matplotlib.pyplot as plt\n",
    "import torch\n",
    "from torch.utils.data import Dataset, DataLoader\n",
    "import lib.snn as snn\n",
    "import lib.spikeFileIO as io\n",
    "import zipfile\n",
    "import os\n",
    "from lib.datasets.mnistdataset import SMNIST\n",
    "from IPython.display import HTML\n",
    "\n"
   ]
  },
  {
   "cell_type": "code",
   "execution_count": 2,
   "metadata": {},
   "outputs": [],
   "source": [
    "# CONSTANTS\n",
    "\n",
    "USE_CUDA = torch.cuda.is_available()\n",
    "#\n"
   ]
  },
  {
   "cell_type": "code",
   "execution_count": 3,
   "metadata": {},
   "outputs": [
    {
     "name": "stdout",
     "output_type": "stream",
     "text": [
      "<lib.snn.slayerParams.yamlParams object at 0x7f435536cd90>\n"
     ]
    }
   ],
   "source": [
    "netParams = snn.params('network_specs/slayer_snn.yaml')\n",
    "print(netParams)"
   ]
  },
  {
   "cell_type": "code",
   "execution_count": 4,
   "metadata": {},
   "outputs": [],
   "source": [
    "\n",
    "# Network definition\n",
    "class Network(torch.nn.Module):\n",
    "    def __init__(self, netParams):\n",
    "        super(Network, self).__init__()\n",
    "        # initialize slayer\n",
    "        slayer = snn.layer(netParams['neuron'], netParams['simulation'])\n",
    "        self.slayer = slayer\n",
    "        # define network functions\n",
    "        self.conv1 = slayer.conv(1, 12, 5, padding=1)\n",
    "        self.conv2 = slayer.conv(12, 64, 5, padding=1)\n",
    "        self.pool1 = slayer.pool(2)\n",
    "        self.pool2 = slayer.pool(2)\n",
    "        self.fc1   = slayer.dense((6* 6 * 64), 10)\n",
    "\n",
    "    def forward(self, spikeInput):\n",
    "        spikeLayer1 = self.slayer.spike(self.conv1(self.slayer.psp(spikeInput ))) # 32, 32, 16\n",
    "        spikeLayer2 = self.slayer.spike(self.pool1(self.slayer.psp(spikeLayer1))) # 16, 16, 16\n",
    "        spikeLayer3 = self.slayer.spike(self.conv2(self.slayer.psp(spikeLayer2))) # 16, 16, 32\n",
    "        spikeLayer4 = self.slayer.spike(self.pool2(self.slayer.psp(spikeLayer3))) #  8,  8, 32\n",
    "        spikeLayer4 = spikeLayer4.reshape((-1, 6* 6 * 64, 1, 1, spikeLayer4.shape[-1]))\n",
    "        spikeOut    = self.slayer.spike(self.fc1  (self.slayer.psp(spikeLayer4))) #  10\n",
    "\n",
    "        return spikeOut\n",
    "\n",
    "# class Network(torch.nn.Module):\n",
    "#     def __init__(self, netParams):\n",
    "#         super(Network, self).__init__()\n",
    "#         # initialize slayer\n",
    "#         slayer = snn.layer(netParams['neuron'], netParams['simulation'])\n",
    "#         self.slayer = slayer\n",
    "#         # define network functions\n",
    "#         # self.conv1 = slayer.conv(1, 16, 5, padding=1)\n",
    "#         # self.conv2 = slayer.conv(16, 32, 3, padding=1)\n",
    "#         # self.conv3 = slayer.conv(32, 64, 3, padding=1)\n",
    "#         # self.pool1 = slayer.pool(2)\n",
    "#         # self.pool2 = slayer.pool(2)\n",
    "#         self.fc1   = slayer.dense((28, 28, 1), 512)\n",
    "#         # self.fc1 = slayer.dense((34 * 34 * 2), 512)\n",
    "#         self.fc2 = slayer.dense(512, 10)\n",
    "\n",
    "#     def forward(self, spikeInput):\n",
    "#         spikeLayer1 = self.slayer.spike(self.slayer.psp(self.fc1(spikeInput)))\n",
    "#         spikeLayer2 = self.slayer.spike(self.slayer.psp(self.fc2(spikeLayer1)))\n",
    "\n",
    "#         return spikeLayer2\n",
    "#         # spikeLayer1 = self.slayer.spike(self.conv1(self.slayer.psp(spikeInput ))) # 32, 32, 16\n",
    "#         # spikeLayer2 = self.slayer.spike(self.pool1(self.slayer.psp(spikeLayer1))) # 16, 16, 16\n",
    "#         # spikeLayer3 = self.slayer.spike(self.conv2(self.slayer.psp(spikeLayer2))) # 16, 16, 32\n",
    "#         # spikeLayer4 = self.slayer.spike(self.pool2(self.slayer.psp(spikeLayer3))) #  8,  8, 32\n",
    "#         # spikeLayer5 = self.slayer.spike(self.conv3(self.slayer.psp(spikeLayer4))) #  8,  8, 64\n",
    "#         # spikeOut    = self.slayer.spike(self.fc1  (self.slayer.psp(spikeLayer5))) #  10\n",
    "#         #\n",
    "#         # return spikeOut"
   ]
  },
  {
   "cell_type": "code",
   "execution_count": 5,
   "metadata": {},
   "outputs": [],
   "source": [
    "def save_model(name, model):\n",
    "    print(\"Saving models...\")\n",
    "    model.eval()\n",
    "\n",
    "    save_model_filename = 'saved_models/' + name + '.pt'\n",
    "\n",
    "    torch.save(model.state_dict(), save_model_filename)\n",
    "    \n",
    "def load_model(name, model):\n",
    "    model.load_state_dict(torch.load('saved_models/' + name + '.pt'))\n",
    "    \n",
    "def load_dict(name):\n",
    "    return torch.load('saved_models/' + name + '.pt')"
   ]
  },
  {
   "cell_type": "code",
   "execution_count": 6,
   "metadata": {},
   "outputs": [],
   "source": [
    "# INITIALIZATION \n",
    "\n",
    "\n",
    "device = torch.device(\"cuda\" if USE_CUDA else \"cpu\")\n",
    "\n",
    "#Create network instance.\n",
    "net = Network(netParams).to(device)\n",
    "\n",
    "# Create snn loss instance.\n",
    "error = snn.loss(netParams).to(device)\n",
    "\n",
    "# Define optimizer module.\n",
    "optimizer = torch.optim.Adam(net.parameters(), lr = 0.01, amsgrad = True)\n",
    "\n",
    "# Dataset and dataLoader instances.\n",
    "trainingSet = SMNIST(datasetPath =netParams['training']['path']['in'],\n",
    "                            samplingTime=netParams['simulation']['Ts'],\n",
    "                            sampleLength=netParams['simulation']['tSample'],\n",
    "                    train=True)\n",
    "trainLoader = DataLoader(dataset=trainingSet, batch_size=8, shuffle=False, num_workers=4)\n",
    "\n",
    "testingSet = SMNIST(datasetPath  =netParams['training']['path']['in'],\n",
    "                            samplingTime=netParams['simulation']['Ts'],\n",
    "                            sampleLength=netParams['simulation']['tSample'],\n",
    "                    train=False)\n",
    "testLoader = DataLoader(dataset=testingSet, batch_size=2, shuffle=False, num_workers=4)\n",
    "\n",
    "# Learning stats instance.\n",
    "stats = snn.learningStats()"
   ]
  },
  {
   "cell_type": "code",
   "execution_count": 7,
   "metadata": {},
   "outputs": [
    {
     "data": {
      "text/html": [
       "\n",
       "<link rel=\"stylesheet\"\n",
       "href=\"https://maxcdn.bootstrapcdn.com/font-awesome/4.4.0/\n",
       "css/font-awesome.min.css\">\n",
       "<script language=\"javascript\">\n",
       "  function isInternetExplorer() {\n",
       "    ua = navigator.userAgent;\n",
       "    /* MSIE used to detect old browsers and Trident used to newer ones*/\n",
       "    return ua.indexOf(\"MSIE \") > -1 || ua.indexOf(\"Trident/\") > -1;\n",
       "  }\n",
       "\n",
       "  /* Define the Animation class */\n",
       "  function Animation(frames, img_id, slider_id, interval, loop_select_id){\n",
       "    this.img_id = img_id;\n",
       "    this.slider_id = slider_id;\n",
       "    this.loop_select_id = loop_select_id;\n",
       "    this.interval = interval;\n",
       "    this.current_frame = 0;\n",
       "    this.direction = 0;\n",
       "    this.timer = null;\n",
       "    this.frames = new Array(frames.length);\n",
       "\n",
       "    for (var i=0; i<frames.length; i++)\n",
       "    {\n",
       "     this.frames[i] = new Image();\n",
       "     this.frames[i].src = frames[i];\n",
       "    }\n",
       "    var slider = document.getElementById(this.slider_id);\n",
       "    slider.max = this.frames.length - 1;\n",
       "    if (isInternetExplorer()) {\n",
       "        // switch from oninput to onchange because IE <= 11 does not conform\n",
       "        // with W3C specification. It ignores oninput and onchange behaves\n",
       "        // like oninput. In contrast, Mircosoft Edge behaves correctly.\n",
       "        slider.setAttribute('onchange', slider.getAttribute('oninput'));\n",
       "        slider.setAttribute('oninput', null);\n",
       "    }\n",
       "    this.set_frame(this.current_frame);\n",
       "  }\n",
       "\n",
       "  Animation.prototype.get_loop_state = function(){\n",
       "    var button_group = document[this.loop_select_id].state;\n",
       "    for (var i = 0; i < button_group.length; i++) {\n",
       "        var button = button_group[i];\n",
       "        if (button.checked) {\n",
       "            return button.value;\n",
       "        }\n",
       "    }\n",
       "    return undefined;\n",
       "  }\n",
       "\n",
       "  Animation.prototype.set_frame = function(frame){\n",
       "    this.current_frame = frame;\n",
       "    document.getElementById(this.img_id).src =\n",
       "            this.frames[this.current_frame].src;\n",
       "    document.getElementById(this.slider_id).value = this.current_frame;\n",
       "  }\n",
       "\n",
       "  Animation.prototype.next_frame = function()\n",
       "  {\n",
       "    this.set_frame(Math.min(this.frames.length - 1, this.current_frame + 1));\n",
       "  }\n",
       "\n",
       "  Animation.prototype.previous_frame = function()\n",
       "  {\n",
       "    this.set_frame(Math.max(0, this.current_frame - 1));\n",
       "  }\n",
       "\n",
       "  Animation.prototype.first_frame = function()\n",
       "  {\n",
       "    this.set_frame(0);\n",
       "  }\n",
       "\n",
       "  Animation.prototype.last_frame = function()\n",
       "  {\n",
       "    this.set_frame(this.frames.length - 1);\n",
       "  }\n",
       "\n",
       "  Animation.prototype.slower = function()\n",
       "  {\n",
       "    this.interval /= 0.7;\n",
       "    if(this.direction > 0){this.play_animation();}\n",
       "    else if(this.direction < 0){this.reverse_animation();}\n",
       "  }\n",
       "\n",
       "  Animation.prototype.faster = function()\n",
       "  {\n",
       "    this.interval *= 0.7;\n",
       "    if(this.direction > 0){this.play_animation();}\n",
       "    else if(this.direction < 0){this.reverse_animation();}\n",
       "  }\n",
       "\n",
       "  Animation.prototype.anim_step_forward = function()\n",
       "  {\n",
       "    this.current_frame += 1;\n",
       "    if(this.current_frame < this.frames.length){\n",
       "      this.set_frame(this.current_frame);\n",
       "    }else{\n",
       "      var loop_state = this.get_loop_state();\n",
       "      if(loop_state == \"loop\"){\n",
       "        this.first_frame();\n",
       "      }else if(loop_state == \"reflect\"){\n",
       "        this.last_frame();\n",
       "        this.reverse_animation();\n",
       "      }else{\n",
       "        this.pause_animation();\n",
       "        this.last_frame();\n",
       "      }\n",
       "    }\n",
       "  }\n",
       "\n",
       "  Animation.prototype.anim_step_reverse = function()\n",
       "  {\n",
       "    this.current_frame -= 1;\n",
       "    if(this.current_frame >= 0){\n",
       "      this.set_frame(this.current_frame);\n",
       "    }else{\n",
       "      var loop_state = this.get_loop_state();\n",
       "      if(loop_state == \"loop\"){\n",
       "        this.last_frame();\n",
       "      }else if(loop_state == \"reflect\"){\n",
       "        this.first_frame();\n",
       "        this.play_animation();\n",
       "      }else{\n",
       "        this.pause_animation();\n",
       "        this.first_frame();\n",
       "      }\n",
       "    }\n",
       "  }\n",
       "\n",
       "  Animation.prototype.pause_animation = function()\n",
       "  {\n",
       "    this.direction = 0;\n",
       "    if (this.timer){\n",
       "      clearInterval(this.timer);\n",
       "      this.timer = null;\n",
       "    }\n",
       "  }\n",
       "\n",
       "  Animation.prototype.play_animation = function()\n",
       "  {\n",
       "    this.pause_animation();\n",
       "    this.direction = 1;\n",
       "    var t = this;\n",
       "    if (!this.timer) this.timer = setInterval(function() {\n",
       "        t.anim_step_forward();\n",
       "    }, this.interval);\n",
       "  }\n",
       "\n",
       "  Animation.prototype.reverse_animation = function()\n",
       "  {\n",
       "    this.pause_animation();\n",
       "    this.direction = -1;\n",
       "    var t = this;\n",
       "    if (!this.timer) this.timer = setInterval(function() {\n",
       "        t.anim_step_reverse();\n",
       "    }, this.interval);\n",
       "  }\n",
       "</script>\n",
       "\n",
       "<style>\n",
       ".animation {\n",
       "    display: inline-block;\n",
       "    text-align: center;\n",
       "}\n",
       "input[type=range].anim-slider {\n",
       "    width: 374px;\n",
       "    margin-left: auto;\n",
       "    margin-right: auto;\n",
       "}\n",
       ".anim-buttons {\n",
       "    margin: 8px 0px;\n",
       "}\n",
       ".anim-buttons button {\n",
       "    padding: 0;\n",
       "    width: 36px;\n",
       "}\n",
       ".anim-state label {\n",
       "    margin-right: 8px;\n",
       "}\n",
       ".anim-state input {\n",
       "    margin: 0;\n",
       "    vertical-align: middle;\n",
       "}\n",
       "</style>\n",
       "\n",
       "<div class=\"animation\">\n",
       "  <img id=\"_anim_img9450fedfd03640628f02438dd50451c0\">\n",
       "  <div class=\"anim-controls\">\n",
       "    <input id=\"_anim_slider9450fedfd03640628f02438dd50451c0\" type=\"range\" class=\"anim-slider\"\n",
       "           name=\"points\" min=\"0\" max=\"1\" step=\"1\" value=\"0\"\n",
       "           oninput=\"anim9450fedfd03640628f02438dd50451c0.set_frame(parseInt(this.value));\"></input>\n",
       "    <div class=\"anim-buttons\">\n",
       "      <button onclick=\"anim9450fedfd03640628f02438dd50451c0.slower()\"><i class=\"fa fa-minus\"></i></button>\n",
       "      <button onclick=\"anim9450fedfd03640628f02438dd50451c0.first_frame()\"><i class=\"fa fa-fast-backward\">\n",
       "          </i></button>\n",
       "      <button onclick=\"anim9450fedfd03640628f02438dd50451c0.previous_frame()\">\n",
       "          <i class=\"fa fa-step-backward\"></i></button>\n",
       "      <button onclick=\"anim9450fedfd03640628f02438dd50451c0.reverse_animation()\">\n",
       "          <i class=\"fa fa-play fa-flip-horizontal\"></i></button>\n",
       "      <button onclick=\"anim9450fedfd03640628f02438dd50451c0.pause_animation()\"><i class=\"fa fa-pause\">\n",
       "          </i></button>\n",
       "      <button onclick=\"anim9450fedfd03640628f02438dd50451c0.play_animation()\"><i class=\"fa fa-play\"></i>\n",
       "          </button>\n",
       "      <button onclick=\"anim9450fedfd03640628f02438dd50451c0.next_frame()\"><i class=\"fa fa-step-forward\">\n",
       "          </i></button>\n",
       "      <button onclick=\"anim9450fedfd03640628f02438dd50451c0.last_frame()\"><i class=\"fa fa-fast-forward\">\n",
       "          </i></button>\n",
       "      <button onclick=\"anim9450fedfd03640628f02438dd50451c0.faster()\"><i class=\"fa fa-plus\"></i></button>\n",
       "    </div>\n",
       "    <form action=\"#n\" name=\"_anim_loop_select9450fedfd03640628f02438dd50451c0\" class=\"anim-state\">\n",
       "      <input type=\"radio\" name=\"state\" value=\"once\" id=\"_anim_radio1_9450fedfd03640628f02438dd50451c0\"\n",
       "             >\n",
       "      <label for=\"_anim_radio1_9450fedfd03640628f02438dd50451c0\">Once</label>\n",
       "      <input type=\"radio\" name=\"state\" value=\"loop\" id=\"_anim_radio2_9450fedfd03640628f02438dd50451c0\"\n",
       "             checked>\n",
       "      <label for=\"_anim_radio2_9450fedfd03640628f02438dd50451c0\">Loop</label>\n",
       "      <input type=\"radio\" name=\"state\" value=\"reflect\" id=\"_anim_radio3_9450fedfd03640628f02438dd50451c0\"\n",
       "             >\n",
       "      <label for=\"_anim_radio3_9450fedfd03640628f02438dd50451c0\">Reflect</label>\n",
       "    </form>\n",
       "  </div>\n",
       "</div>\n",
       "\n",
       "\n",
       "<script language=\"javascript\">\n",
       "  /* Instantiate the Animation class. */\n",
       "  /* The IDs given should match those used in the template above. */\n",
       "  (function() {\n",
       "    var img_id = \"_anim_img9450fedfd03640628f02438dd50451c0\";\n",
       "    var slider_id = \"_anim_slider9450fedfd03640628f02438dd50451c0\";\n",
       "    var loop_select_id = \"_anim_loop_select9450fedfd03640628f02438dd50451c0\";\n",
       "    var frames = new Array(1);\n",
       "    \n",
       "  frames[0] = \"data:image/png;base64,iVBORw0KGgoAAAANSUhEUgAAAbAAAAEgCAYAAADVKCZpAAAABHNCSVQICAgIfAhkiAAAAAlwSFlz\\\n",
       "AAALEgAACxIB0t1+/AAAADh0RVh0U29mdHdhcmUAbWF0cGxvdGxpYiB2ZXJzaW9uMy4xLjEsIGh0\\\n",
       "dHA6Ly9tYXRwbG90bGliLm9yZy8QZhcZAAAOPklEQVR4nO3dT2jXhf/A8ddHh6evHcy2piuGOGo5\\\n",
       "dbSFdEiosYqgSQmhFUxmDaJD9OfgcUHELkGBHvpQh50KOuQO6tBDUQkiH3JdJjFESdfQTA/ZRZP3\\\n",
       "7xDffRFNVz/b+/2ajwcMtjcf3cuPm0/f78/ntU+tKIoiACCZJWUPAAD/hIABkJKAAZCSgAGQkoAB\\\n",
       "kJKAAZCSgAGQkoABkJKAAZCSgAGQkoABkJKAAZCSgAGQkoABkJKAAZCSgAGQkoABkJKAAZCSgAGQ\\\n",
       "koABkJKAAZCSgAGQkoABkJKAAZCSgAGQkoABkJKAAZCSgAGQkoABkJKAAZCSgAGQkoABkJKAAZCS\\\n",
       "gAGQUlPZA3BrExMT8cYbb8TVq1fjlVdeiV27dt309rVabYEmg8Xp7rvvjvPnz5c9BrfgDKzirl69\\\n",
       "Gq+//nocOHAgpqam4rPPPoupqamyx4JFrb29vewRmAcBq7ijR4/G2rVrY82aNbFs2bLYtm1bjI+P\\\n",
       "lz0WQOkErOJmZmbivvvum/u4ra0tZmZmSpwIoBo8BlZxRVFcd+xGj3HV6/Wo1+sLMRJAJQhYxbW1\\\n",
       "tcXp06fnPj5z5kysWrXqutsNDw/H8PBwRHgSB3BncAmx4h555JGYnp6OkydPxuXLl+Pzzz+PgYGB\\\n",
       "sscCKJ0zsIpramqK3bt3x1NPPRVXr16NoaGhWLduXdljAZSuVtzoQRZScwkR/n96enqi0WiUPQa3\\\n",
       "4BIiACkJGAApCRgAKQkYACkJGAApCRgAKQkYACkJGAApCRgAKQkYACkJGAApCRgAKQkYACkJGAAp\\\n",
       "CRgAKQkYACkJGAApCRgAKQkYACkJGAApCRgAKQkYACkJGAApCRgAKQkYACkJGAApCRgAKQkYACkJ\\\n",
       "GAApCRgAKQkYACkJGAApCRgAKQkYACk1lT0At9be3h7Lly+PpUuXRlNTUzQajbJHIo2i7AGS6i17\\\n",
       "AOZBwJL46quvYuXKlWWPAVAZLiECkJKAJVCr1eLJJ5+Mnp6eqNfrZY8DUAkuISZw+PDhWLVqVZw7\\\n",
       "dy76+/vjwQcfjM2bN19zm3q9Lm7AHaVWFIVHeRMZGRmJ//znP/HOO+/85W1qtdoCTkS1+fb+J3p6\\\n",
       "ej1ZKgGXECvu999/j99++23u/YMHD0ZXV1fJUwGUzyXEijt79mw899xzERHxxx9/xIsvvhhPP/10\\\n",
       "yVMBlE/AKm7NmjXxww8/lD0Gf4vLdrAQXEIEICUBAyAlAQMgJQEDICUBAyAlAQMgJQEDICUBAyAl\\\n",
       "AWORKCr0RrXV5vFGBgIGQEoCBkBKAgZASgIGQEoCBkBKAgZASgIGQEoCBkBKXpGZRWI+y6eWjP89\\\n",
       "ln9ZeM7AAEhJwABIScAASEnAAEhJwABIScAASEnAAEjJHhh3kFvtKmXbE7sdu1fZ/szwP87AAEhJ\\\n",
       "wABIScAASEnAAEhJwABIScAASEnAAEhJwABIySIz/C2L7YUzvRAleTkDq5ChoaFobm6Orq6uuWMX\\\n",
       "LlyI/v7+6OjoiP7+/rh48WKJEwJUh4BVyI4dO2JiYuKaY6Ojo9HX1xfT09PR19cXo6OjJU0HUC0C\\\n",
       "ViGbN2+OFStWXHNsfHw8BgcHIyJicHAw9u7dW8ZoAJUjYBV39uzZaG1tjYiI1tbWOHfuXMkTAVSD\\\n",
       "J3EsEvV6Per1etljACwYZ2AV19LSErOzsxERMTs7G83NzTe83fDwcDQajWg0Ggs5HkBpBKziBgYG\\\n",
       "YmxsLCIixsbGYsuWLSVPBFANAlYh27dvj0cffTR+/PHHaGtri08//TR27doVhw4dio6Ojjh06FDs\\\n",
       "2rWr7DEBKqFWFEWmrUvmoVaznFquhfqW8vf8b+np6XE5PgFnYACkJGAApCRgAKQkYACkJGAApCRg\\\n",
       "AKQkYACkJGAApOSH+cJtd6sF49u16Dyf38eyM4uXMzAAUhIwAFISMABSEjAAUhIwAFISMABSEjAA\\\n",
       "UrIHBmnNZ8frduyc2SWjmpyBAZCSgAGQkoABkJKAAZCSgAGQkoABkJKAAZCSgAGQkkVmWHC3awH5\\\n",
       "dr0w5kJ8HsvQ3H7OwABIScAASEnAAEhJwABIScAASEnAAEhJwABIScAASEnAKmJoaCiam5ujq6tr\\\n",
       "7tjIyEisXr06uru7o7u7O/bv31/ihCys2jzeMinm8QZ/j4BVxI4dO2JiYuK642+++WZMTk7G5ORk\\\n",
       "PPPMMyVMBlBNAlYRmzdvjhUrVpQ9BkAaAlZxu3fvjg0bNsTQ0FBcvHix7HEAKkPAKuy1116LEydO\\\n",
       "xOTkZLS2tsbbb7/9l7et1+vR29sbvb29CzghQHkErMJaWlpi6dKlsWTJknj11Vfj6NGjf3nb4eHh\\\n",
       "aDQa0Wg0FnBCgPIIWIXNzs7Ovf/ll19e8wxFgDud1wOriO3bt8fXX38d58+fj7a2tnj33Xfj66+/\\\n",
       "jsnJyajVatHe3h4ff/xx2WMCVEatKAoLGItMrZZtR4h/ZrF961bn67anp8fl+AScgUFat+Mf/MUW\\\n",
       "Qe4kHgMDICUBAyAlAQMgJQEDICUBAyAlAQMgJQEDICV7YHBHm88u2ULtis3n81Rn2ZnyOQMDICUB\\\n",
       "AyAlAQMgJQEDICUBAyAlAQMgJQEDICUBAyAli8ywqGV6wUpLyvw9zsAASEnAAEhJwABIScAASEnA\\\n",
       "AEhJwABIScAASEnAAEjJIjMsuEzLxVBdzsAASEnAAEhJwABIScAASEnAAEhJwABIScAASMkeGNx2\\\n",
       "9ryu58Uquf2cgVXE6dOn4/HHH4/Ozs5Yt25dfPTRRxERceHChejv74+Ojo7o7++PixcvljwpQDUI\\\n",
       "WEU0NTXFBx98EMePH48jR47Enj17YmpqKkZHR6Ovry+mp6ejr68vRkdHyx4VoBIErCJaW1vj4Ycf\\\n",
       "joiI5cuXR2dnZ8zMzMT4+HgMDg5GRMTg4GDs3bu3zDEBKkPAKujUqVNx7Nix2LRpU5w9ezZaW1sj\\\n",
       "4s/InTt3ruTpAKrBkzgq5tKlS7F169b48MMP46677pr3r6vX61Gv1//FyQCqxRlYhVy5ciW2bt0a\\\n",
       "L730Ujz//PMREdHS0hKzs7MRETE7OxvNzc03/LXDw8PRaDSi0Wgs2LwAZRKwiiiKInbu3BmdnZ3x\\\n",
       "1ltvzR0fGBiIsbGxiIgYGxuLLVu2lDUiQKXUiqKwtFIB3333XTz22GOxfv36WLLkz/9XvP/++7Fp\\\n",
       "06Z44YUX4qeffor7778/vvjii1ixYsVNf69azc5NuXxLXS/X12RPT4+rGQkI2CIkYP+Ub4Ubu/O+\\\n",
       "ngQsB5cQAUhJwABIScAASEnAAEhJwABIScAASEnAAEhJwABIyQ/zJQELxv/cnbeEzJ3DGRgAKQkY\\\n",
       "ACkJGAApCRgAKQkYACkJGAApCRgAKQkYAClZZOZfZgn5n7GADLfiDAyAlAQMgJQEDICUBAyAlAQM\\\n",
       "gJQEDICUBAyAlOyBwYKz4wW3gzMwAFISMABSEjAAUhIwAFISMABSEjAAUhIwAFISMABSqhVF4RUH\\\n",
       "F5mVK1dGe3v73Me//PJL3HPPPeUN9DdlmjfTrBG55i1z1lOnTsX58+dL+dzMn4DdAXp7e6PRaJQ9\\\n",
       "xrxlmjfTrBG55s00K+VwCRGAlAQMgJSWjoyMjJQ9BP++np6eskf4WzLNm2nWiFzzZpqVhecxMABS\\\n",
       "cgkRgJQEbJGbmJiIBx54INauXRujo6Nlj3NT7e3tsX79+uju7o7e3t6yx7nO0NBQNDc3R1dX19yx\\\n",
       "CxcuRH9/f3R0dER/f39cvHixxAmvdaN5R0ZGYvXq1dHd3R3d3d2xf//+Eif8n9OnT8fjjz8enZ2d\\\n",
       "sW7duvjoo48iotr3L+UTsEXs6tWr8frrr8eBAwdiamoqPvvss5iamip7rJv66quvYnJyspJPn96x\\\n",
       "Y0dMTExcc2x0dDT6+vpieno6+vr6KvWfhBvNGxHx5ptvxuTkZExOTsYzzzxTwmTXa2pqig8++CCO\\\n",
       "Hz8eR44ciT179sTU1FSl71/KJ2CL2NGjR2Pt2rWxZs2aWLZsWWzbti3Gx8fLHiutzZs3x4oVK645\\\n",
       "Nj4+HoODgxERMTg4GHv37i1jtBu60bxV1draGg8//HBERCxfvjw6OztjZmam0vcv5ROwRWxmZibu\\\n",
       "u+++uY/b2tpiZmamxIlurlarxZNPPhk9PT1Rr9fLHmdezp49G62trRHx5z/C586dK3miW9u9e3ds\\\n",
       "2LAhhoaGKnlJ7tSpU3Hs2LHYtGlTyvuXhSNgi9iNnmBaq9VKmGR+Dh8+HN9//30cOHAg9uzZE998\\\n",
       "803ZIy06r732Wpw4cSImJyejtbU13n777bJHusalS5di69at8eGHH8Zdd91V9jhUnIAtYm1tbXH6\\\n",
       "9Om5j8+cOROrVq0qcaKb++9szc3N8dxzz8XRo0dLnujWWlpaYnZ2NiIiZmdno7m5ueSJbq6lpSWW\\\n",
       "Ll0aS5YsiVdffbVS9/GVK1di69at8dJLL8Xzzz8fEfnuXxaWgC1ijzzySExPT8fJkyfj8uXL8fnn\\\n",
       "n8fAwEDZY93Q77//Hr/99tvc+wcPHrzm2XNVNTAwEGNjYxERMTY2Flu2bCl5opv7bwwiIr788svK\\\n",
       "3MdFUcTOnTujs7Mz3nrrrbnj2e5fFljBorZv376io6OjWLNmTfHee++VPc5fOnHiRLFhw4Ziw4YN\\\n",
       "xUMPPVTJWbdt21bce++9RVNTU7F69erik08+Kc6fP1888cQTxdq1a4snnnii+PXXX8sec86N5n35\\\n",
       "5ZeLrq6uYv369cWzzz5b/Pzzz2WPWRRFUXz77bdFRBTr168vNm7cWGzcuLHYt29fpe9fyucncQCQ\\\n",
       "kkuIAKQkYACkJGAApCRgAKQkYACkJGAApCRgAKQkYACkJGAApCRgAKQkYACkJGAApCRgAKQkYACk\\\n",
       "JGAApCRgAKQkYACkJGAApCRgAKQkYACk9H93+YQnIQpSZQAAAABJRU5ErkJggg==\\\n",
       "\"\n",
       "\n",
       "\n",
       "    /* set a timeout to make sure all the above elements are created before\n",
       "       the object is initialized. */\n",
       "    setTimeout(function() {\n",
       "        anim9450fedfd03640628f02438dd50451c0 = new Animation(frames, img_id, slider_id, 41.0,\n",
       "                                 loop_select_id);\n",
       "    }, 0);\n",
       "  })()\n",
       "</script>\n"
      ],
      "text/plain": [
       "<IPython.core.display.HTML object>"
      ]
     },
     "execution_count": 7,
     "metadata": {},
     "output_type": "execute_result"
    }
   ],
   "source": [
    "## VISUALIZATION\n",
    "\n",
    "input, target, label = trainingSet[0]\n",
    "anim = io.animTD(io.spikeArrayToEvent(input.reshape((1, 28, 28, -1)).cpu().data.numpy()))\n",
    "HTML(anim.to_jshtml())\n",
    "\n"
   ]
  },
  {
   "cell_type": "code",
   "execution_count": null,
   "metadata": {},
   "outputs": [],
   "source": []
  },
  {
   "cell_type": "code",
   "execution_count": 8,
   "metadata": {},
   "outputs": [
    {
     "name": "stdout",
     "output_type": "stream",
     "text": [
      "\u001b[0A\n",
      "Epoch :          0,    5546.3940 ms elapsed\n",
      "loss = 11.611       (min = 11.611      )  \taccuracy = 0.224      (max = 0.224     )\n",
      "loss = 11.927       (min = 11.927      )  \taccuracy = 0.23       (max = 0.23      )\n",
      "\u001b[4A\n",
      "Epoch :         10,    5524.6550 ms elapsed\n",
      "loss = 1.1063       (min = 1.1063      )  \taccuracy = 0.926      (max = 0.926     )\n",
      "loss = 1.6317       (min = 1.6317      )  \taccuracy = 0.838      (max = 0.838     )\n",
      "\u001b[4A\n",
      "Epoch :         20,    5297.7720 ms elapsed\n",
      "loss = 0.65596      (min = 0.63744     )  \taccuracy = 0.962      (max = 0.964     )\n",
      "loss = 1.4134       (min = 1.3378      )  \taccuracy = 0.85       (max = 0.856     )\n",
      "\u001b[4A\n",
      "Epoch :         30,    5306.0420 ms elapsed\n",
      "loss = 0.51448      (min = 0.42968     )  \taccuracy = 0.974      (max = 0.986     )\n",
      "loss = 1.2223       (min = 1.1059      )  \taccuracy = 0.858      (max = 0.89      )\n",
      "\u001b[4A\n",
      "Epoch :         40,    5629.4150 ms elapsed\n",
      "loss = 0.40648      (min = 0.40648     )  \taccuracy = 0.98       (max = 0.986     )\n",
      "loss = 1.0201       (min = 1.0201      )  \taccuracy = 0.91       (max = 0.912     )\n",
      "\u001b[4A\n",
      "Epoch :         50,    5385.6150 ms elapsed\n",
      "loss = 0.42036      (min = 0.3376      )  \taccuracy = 0.978      (max = 0.99      )\n",
      "loss = 1.0607       (min = 0.93264     )  \taccuracy = 0.888      (max = 0.922     )\n",
      "\u001b[4A\n",
      "Epoch :         60,    9094.1450 ms elapsed\n",
      "loss = 0.29464      (min = 0.29464     )  \taccuracy = 0.994      (max = 0.994     )\n",
      "loss = 1.0043       (min = 0.89844     )  \taccuracy = 0.888      (max = 0.922     )\n",
      "\u001b[4A\n",
      "Epoch :         70,    8814.4550 ms elapsed\n",
      "loss = 0.2922       (min = 0.2698      )  \taccuracy = 0.992      (max = 0.994     )\n",
      "loss = 1.039        (min = 0.89844     )  \taccuracy = 0.906      (max = 0.922     )\n",
      "\u001b[4A\n",
      "Epoch :         80,    5601.8510 ms elapsed\n",
      "loss = 0.2796       (min = 0.24564     )  \taccuracy = 0.99       (max = 0.994     )\n",
      "loss = 0.85932      (min = 0.85932     )  \taccuracy = 0.906      (max = 0.922     )\n",
      "\u001b[4A\n",
      "Epoch :         90,    5363.4620 ms elapsed\n",
      "loss = 0.20812      (min = 0.20812     )  \taccuracy = 0.994      (max = 0.998     )\n",
      "loss = 1.033        (min = 0.85932     )  \taccuracy = 0.908      (max = 0.932     )\n",
      "\u001b[4A\n",
      "Epoch :         99,    5259.9390 ms elapsed\n",
      "loss = 0.3024       (min = 0.20812     )  \taccuracy = 0.992      (max = 0.998     )\n",
      "loss = 0.87688      (min = 0.85932     )  \taccuracy = 0.926      (max = 0.932     )\n",
      "Saving models...\n"
     ]
    }
   ],
   "source": [
    "## Training\n",
    "\n",
    "# training loop\n",
    "Nepochs = 100\n",
    "for epoch in range(Nepochs):\n",
    "    # Reset training stats.\n",
    "    stats.training.reset()\n",
    "    tSt = datetime.now()\n",
    "    \n",
    "    # Training loop.\n",
    "    for i, (input, target, label) in enumerate(trainLoader, 0):\n",
    "        # Move the input and target to correct GPU.\n",
    "        input = input.to(device)\n",
    "        target = target.to(device)\n",
    "\n",
    "        # Forward pass of the network.\n",
    "        output = net.forward(input)\n",
    "\n",
    "        # Gather the training stats.\n",
    "        stats.training.correctSamples += torch.sum(snn.predict.getClass(output) == label).data.item()\n",
    "        stats.training.numSamples += len(label)\n",
    "\n",
    "        # Calculate loss.\n",
    "        loss = error.numSpikes(output, target)\n",
    "\n",
    "        # Reset gradients to zero.\n",
    "        optimizer.zero_grad()\n",
    "\n",
    "        # Backward pass of the network.\n",
    "        loss.backward()\n",
    "\n",
    "        # Update weights.\n",
    "        optimizer.step()\n",
    "\n",
    "        # Gather training loss stats.\n",
    "        stats.training.lossSum += loss.cpu().data.item()\n",
    "        \n",
    "        # print(\"SRMkernel: {}\".format(net.state_dict()['slayer.srmKernel']))\n",
    "        # print(\"Refkernel: {}\".format(net.state_dict()['slayer.refKernel']))\n",
    "\n",
    "        # Display training stats.\n",
    "        # if i%10 == 0: stats.print(epoch, i, (datetime.now() - tSt).total_seconds())\n",
    "    # Update training stats.\n",
    "    stats.training.update()\n",
    "    # Reset testing stats.\n",
    "    stats.testing.reset()\n",
    "    # Testing loop.\n",
    "    # Same steps as Training loops except loss backpropagation and weight update.\n",
    "    for i, (input, target, label) in enumerate(testLoader, 0):\n",
    "        input = input.to(device)\n",
    "        target = target.to(device)\n",
    "\n",
    "        output = net.forward(input)\n",
    "\n",
    "        stats.testing.correctSamples += torch.sum(snn.predict.getClass(output) == label).data.item()\n",
    "        stats.testing.numSamples += len(label)\n",
    "\n",
    "        loss = error.numSpikes(output, target)\n",
    "        stats.testing.lossSum += loss.cpu().data.item()\n",
    "        \n",
    "        # if i%10 == 0: stats.print(epoch, i)\n",
    "\n",
    "\n",
    "    # Update stats.\n",
    "    stats.testing.update()\n",
    "    if epoch%10==0 or epoch == Nepochs-1: stats.print(epoch, timeElapsed=(datetime.now() - tSt).total_seconds())\n",
    "\n",
    "save_model(\"SNN\", net)"
   ]
  },
  {
   "cell_type": "code",
   "execution_count": 9,
   "metadata": {},
   "outputs": [
    {
     "data": {
      "image/png": "[encoded data removed]",
      "text/plain": [
       "<Figure size 432x288 with 1 Axes>"
      ]
     },
     "metadata": {
      "needs_background": "light"
     },
     "output_type": "display_data"
    },
    {
     "data": {
      "image/png": "[encoded data removed]",
      "text/plain": [
       "<Figure size 432x288 with 1 Axes>"
      ]
     },
     "metadata": {
      "needs_background": "light"
     },
     "output_type": "display_data"
    }
   ],
   "source": [
    "# Plot the results.\n",
    "plt.figure(1)\n",
    "plt.semilogy(stats.training.lossLog, label='Training')\n",
    "plt.semilogy(stats.testing.lossLog, label='Testing')\n",
    "plt.xlabel('Epoch')\n",
    "plt.ylabel('Loss')\n",
    "plt.legend()\n",
    "\n",
    "plt.figure(2)\n",
    "plt.plot(stats.training.accuracyLog, label='Training')\n",
    "plt.plot(stats.testing.accuracyLog, label='Testing')\n",
    "plt.xlabel('Epoch')\n",
    "plt.ylabel('Accuracy')\n",
    "plt.legend()\n",
    "\n",
    "plt.show()"
   ]
  },
  {
   "cell_type": "code",
   "execution_count": 10,
   "metadata": {},
   "outputs": [
    {
     "name": "stdout",
     "output_type": "stream",
     "text": [
      "Layer slayer.srmKernel\n",
      "torch.Size([25])\n",
      "Layer slayer.refKernel\n",
      "torch.Size([10])\n",
      "Layer conv1.weight\n",
      "torch.Size([12, 1, 5, 5, 1])\n",
      "Layer conv2.weight\n",
      "torch.Size([64, 12, 5, 5, 1])\n",
      "Layer pool1.weight\n",
      "torch.Size([1, 1, 2, 2, 1])\n",
      "Layer pool2.weight\n",
      "torch.Size([1, 1, 2, 2, 1])\n",
      "Layer fc1.weight\n",
      "torch.Size([10, 2304, 1, 1, 1])\n"
     ]
    }
   ],
   "source": [
    "for k in iter(net.state_dict()):\n",
    "    print(\"Layer {}\".format(k))\n",
    "    print(net.state_dict()[k].shape)"
   ]
  },
  {
   "cell_type": "code",
   "execution_count": 11,
   "metadata": {},
   "outputs": [
    {
     "name": "stdout",
     "output_type": "stream",
     "text": [
      "tensor([[[[[3.1900],\n",
      "           [3.1900]],\n",
      "\n",
      "          [[3.1900],\n",
      "           [3.1900]]]]], device='cuda:0')\n"
     ]
    }
   ],
   "source": [
    "print(net.state_dict()['pool1.weight'])"
   ]
  },
  {
   "cell_type": "markdown",
   "metadata": {},
   "source": [
    "# Loading model tailored CNN"
   ]
  },
  {
   "cell_type": "code",
   "execution_count": 35,
   "metadata": {},
   "outputs": [],
   "source": [
    "netParams2 = snn.params('network_specs/slayer_trailored_cnn.yaml')\n"
   ]
  },
  {
   "cell_type": "code",
   "execution_count": 36,
   "metadata": {},
   "outputs": [],
   "source": [
    "# Test loading of the model \n",
    "device = torch.device(\"cuda\" if USE_CUDA else \"cpu\")\n",
    "\n",
    "#Create network instance.\n",
    "net2 = Network(netParams2).to(device)\n",
    "\n",
    "load_model(\"SNN\", net2)"
   ]
  },
  {
   "cell_type": "code",
   "execution_count": 37,
   "metadata": {},
   "outputs": [],
   "source": [
    "def test_acc(dataloader , model):\n",
    "    correct = 0\n",
    "    total = 0\n",
    "    with torch.no_grad():\n",
    "        for data in dataloader:\n",
    "            images, labels =  data[0].to(device), data[2]\n",
    "            outputs = model.forward(images)\n",
    "            predicted = snn.predict.getClass(outputs)\n",
    "            total += len(labels)\n",
    "            correct += (predicted == labels).sum().item()\n",
    "    print('Accuracy of the network: %1.2f %%' % (100 * correct / total))"
   ]
  },
  {
   "cell_type": "code",
   "execution_count": 38,
   "metadata": {},
   "outputs": [
    {
     "name": "stdout",
     "output_type": "stream",
     "text": [
      "Accuracy of the network: 91.60 %\n"
     ]
    }
   ],
   "source": [
    "test_acc(testLoader, net2)"
   ]
  },
  {
   "cell_type": "code",
   "execution_count": 39,
   "metadata": {},
   "outputs": [],
   "source": [
    "tailor_cnn_weights = load_dict(\"tailor_cnn\")\n",
    "snn_weights = net2.state_dict()"
   ]
  },
  {
   "cell_type": "code",
   "execution_count": 40,
   "metadata": {},
   "outputs": [
    {
     "name": "stdout",
     "output_type": "stream",
     "text": [
      "Layer conv1.weight\n",
      "torch.Size([12, 1, 5, 5])\n",
      "Layer conv2.weight\n",
      "torch.Size([64, 12, 5, 5])\n",
      "Layer fc1.weight\n",
      "torch.Size([10, 2304])\n"
     ]
    }
   ],
   "source": [
    "for k in iter(tailor_cnn_weights):\n",
    "    print(\"Layer {}\".format(k))\n",
    "    print(tailor_cnn_weights[k].shape)\n",
    "    if k.startswith('conv') or k.startswith('fc'):\n",
    "        snn_weights[k] = tailor_cnn_weights[k].reshape(snn_weights[k].shape)"
   ]
  },
  {
   "cell_type": "code",
   "execution_count": 41,
   "metadata": {},
   "outputs": [
    {
     "data": {
      "text/plain": [
       "<All keys matched successfully>"
      ]
     },
     "execution_count": 41,
     "metadata": {},
     "output_type": "execute_result"
    }
   ],
   "source": [
    "net2.load_state_dict(snn_weights)"
   ]
  },
  {
   "cell_type": "code",
   "execution_count": 43,
   "metadata": {},
   "outputs": [
    {
     "name": "stdout",
     "output_type": "stream",
     "text": [
      "Accuracy of the network: 26.40 %\n"
     ]
    }
   ],
   "source": [
    "test_acc(testLoader, net2)"
   ]
  },
  {
   "cell_type": "code",
   "execution_count": 44,
   "metadata": {},
   "outputs": [],
   "source": [
    "# for k in iter(net.state_dict()):\n",
    "#     print(\"Layer {}\".format(k))\n",
    "#     if k.startswith('conv') or k.startswith('fc'):\n",
    "#         print(\"A:  \", net.state_dict()[k])\n",
    "#         print(\"B: \", tailor_cnn_weights[k].reshape(snn_weights[k].shape))\n",
    "#         break\n"
   ]
  },
  {
   "cell_type": "code",
   "execution_count": 45,
   "metadata": {},
   "outputs": [
    {
     "name": "stdout",
     "output_type": "stream",
     "text": [
      "Saving models...\n"
     ]
    }
   ],
   "source": [
    "save_model('snn_slayer', net)"
   ]
  },
  {
   "cell_type": "code",
   "execution_count": 46,
   "metadata": {},
   "outputs": [
    {
     "name": "stdout",
     "output_type": "stream",
     "text": [
      "Saving models...\n"
     ]
    }
   ],
   "source": [
    "save_model('snn_tailored', net2)"
   ]
  },
  {
   "cell_type": "code",
   "execution_count": null,
   "metadata": {},
   "outputs": [],
   "source": []
  },
  {
   "cell_type": "code",
   "execution_count": null,
   "metadata": {},
   "outputs": [],
   "source": []
  }
 ],
 "metadata": {
  "kernelspec": {
   "display_name": "KERNEL AML(aml)",
   "language": "python",
   "name": "aml"
  },
  "language_info": {
   "codemirror_mode": {
    "name": "ipython",
    "version": 3
   },
   "file_extension": ".py",
   "mimetype": "text/x-python",
   "name": "python",
   "nbconvert_exporter": "python",
   "pygments_lexer": "ipython3",
   "version": "3.7.4"
  }
 },
 "nbformat": 4,
 "nbformat_minor": 2
}
