{
 "cells": [
  {
   "cell_type": "code",
   "execution_count": 1,
   "metadata": {},
   "outputs": [],
   "source": [
    "import torch\n",
    "import torch.nn as nn\n",
    "import torch.nn.functional as F\n",
    "import torch.optim as optim\n",
    "from torchvision import datasets, transforms\n",
    "from lib.datasets.mnistdataset import MNIST500\n",
    "import torchvision.transforms.functional as tvF\n",
    "import lib.snn as snn\n",
    "from datetime import datetime\n"
   ]
  },
  {
   "cell_type": "code",
   "execution_count": 2,
   "metadata": {},
   "outputs": [],
   "source": [
    "import matplotlib\n",
    "#matplotlib.use('Inline')\n",
    "import matplotlib.pyplot as plt\n",
    "from tqdm import tqdm"
   ]
  },
  {
   "cell_type": "markdown",
   "metadata": {},
   "source": [
    "## Prepare Data\n",
    "* download data, prepare DataLoader\n",
    "* prepocess:\n",
    "    1. Color transform. (RGB to YUV; for mnist Grey to RGB to YUV)\n",
    "        * for mnist, no preprocessing, since it is in gray value\n",
    "        * for Cifar-10, RGB and scale to [0.0, 1.0]. No abs\n",
    "        \n",
    "    2. RandomResizedCrop(size=24) for Cifar-10"
   ]
  },
  {
   "cell_type": "code",
   "execution_count": 3,
   "metadata": {},
   "outputs": [],
   "source": [
    "def save_model(name, model):\n",
    "    print(\"Saving models...\")\n",
    "    model.eval()\n",
    "\n",
    "    save_model_filename = 'saved_models/' + name + '.pt'\n",
    "\n",
    "    torch.save(model.state_dict(), save_model_filename)\n",
    "    \n",
    "def load_model(name, model):\n",
    "    model.load_state_dict(torch.load('saved_models/' + name + '.pt'))\n",
    "    \n",
    "def test_acc(dataloader ,model):\n",
    "    correct = 0\n",
    "    total = 0\n",
    "    with torch.no_grad():\n",
    "        for data in dataloader:\n",
    "            images, labels =  data[0].to(device), data[1].to(device)\n",
    "            outputs = model(images)\n",
    "            _, predicted = torch.max(outputs.data, 1)\n",
    "            total += labels.size(0)\n",
    "            correct += (predicted == labels).sum().item()\n",
    "\n",
    "    print('Accuracy of the network on the 10000 test images: %d %%' % (\n",
    "        100 * correct / total))\n"
   ]
  },
  {
   "cell_type": "code",
   "execution_count": 13,
   "metadata": {},
   "outputs": [],
   "source": [
    "BATCH_SIZE  = 4\n",
    "\n",
    "EPOCH = 500\n",
    "\n",
    "use_cuda = torch.cuda.is_available()\n",
    "\n",
    "torch.manual_seed(1024)\n",
    "\n",
    "device = torch.device(\"cuda\" if use_cuda else \"cpu\")\n",
    "\n",
    "kwargs = {'num_workers': 1, 'pin_memory': True} if use_cuda else {}"
   ]
  },
  {
   "cell_type": "code",
   "execution_count": 14,
   "metadata": {
    "code_folding": [
     0.0
    ]
   },
   "outputs": [],
   "source": [
    "# # MNIST\n",
    "# train_loader = torch.utils.data.DataLoader(\n",
    "#     datasets.MNIST('./data', train=True, download=True,\n",
    "#                    transform=transforms.Compose([\n",
    "#                        transforms.ToTensor(),\n",
    "#                        transforms.Normalize((0.1307,), (0.3081,)),\n",
    "#                        # the Abs was done here\n",
    "#                        transforms.Lambda(lambda x: x.abs()),\n",
    "#                    ])),\n",
    "#     batch_size=BATCH_SIZE, shuffle=True, **kwargs)\n",
    "\n",
    "# test_loader = torch.utils.data.DataLoader(\n",
    "#     datasets.MNIST('./data', train=False, \n",
    "#                    transform=transforms.Compose([\n",
    "#                        transforms.ToTensor(),\n",
    "#                        transforms.Normalize((0.1307,), (0.3081,)),\n",
    "#                        transforms.Lambda(lambda x: x.abs()),\n",
    "#                    ])),\n",
    "#     batch_size=BATCH_SIZE, shuffle=True, **kwargs)"
   ]
  },
  {
   "cell_type": "code",
   "execution_count": 15,
   "metadata": {},
   "outputs": [],
   "source": [
    "class Identity(): # used for skipping transforms\n",
    "    def __call__(self, im):\n",
    "        return im\n",
    "    \n",
    "def transform_cifar(is_train):\n",
    "    \n",
    "    return transforms.Compose([\n",
    "                                transforms.RandomCrop(size=24) if is_train else Identity(),\n",
    "                                transforms.RandomHorizontalFlip(p=0.5) if is_train else Identity(),\n",
    "                                transforms.CenterCrop(size=24) if not is_train else Identity(),\n",
    "                                transforms.ToTensor(),\n",
    "                                #transforms.Normalize((0.5, 0.5, 0.5), (0.5, 0.5, 0.5)),\n",
    "                                #transforms.Lambda(lambda x: x.abs()),\n",
    "                            ])\n",
    "\n",
    "class ConvLayer(torch.nn.Module):\n",
    "    \"\"\"\n",
    "        out = ((in+2*padding-(kernel_size-1)-1)/stride)+1\n",
    "        \n",
    "        when kernel_size is: odd number, the output is only affected by stride\n",
    "                             even number, use the formula.\n",
    "        \n",
    "        For example: if kernel size is odd, and with stride 1 then out = in, but\n",
    "        channel changes. With stride 2, out is halved.\n",
    "    \"\"\"\n",
    "    def __init__(self, in_channels, out_channels, kernel_size, stride):\n",
    "        super(ConvLayer, self).__init__()\n",
    "        reflection_padding = kernel_size // 2\n",
    "        self.reflection_pad = torch.nn.ReflectionPad2d(reflection_padding)\n",
    "        self.conv2d = torch.nn.Conv2d(in_channels, out_channels, kernel_size, stride)\n",
    "\n",
    "    def forward(self, x):\n",
    "        out = self.reflection_pad(x)\n",
    "        out = self.conv2d(out)\n",
    "        return out"
   ]
  },
  {
   "cell_type": "code",
   "execution_count": 16,
   "metadata": {},
   "outputs": [],
   "source": [
    "# Cifar-10\n",
    "\n",
    "is_train = True\n",
    "\n",
    "trainset = MNIST500(datasetPath='./data', train=True)\n",
    "\n",
    "trainloader = torch.utils.data.DataLoader(trainset, batch_size=BATCH_SIZE,\n",
    "                                          shuffle=True, num_workers=2)\n",
    "\n",
    "is_train = False\n",
    "\n",
    "testset = MNIST500(datasetPath='./data', train=False)\n",
    "\n",
    "testloader = torch.utils.data.DataLoader(testset, batch_size=BATCH_SIZE,\n",
    "                                         shuffle=False, num_workers=2)\n",
    "\n",
    "classes = ('zero', 'one', 'two', 'three',\n",
    "           'four', 'five', 'six', 'seven', 'eight', 'nine')\n",
    "\n",
    "# Learning stats instance.\n",
    "stats = snn.learningStats()"
   ]
  },
  {
   "cell_type": "code",
   "execution_count": 17,
   "metadata": {},
   "outputs": [],
   "source": [
    "data, label = next(iter(trainloader))"
   ]
  },
  {
   "cell_type": "code",
   "execution_count": 18,
   "metadata": {},
   "outputs": [
    {
     "data": {
      "text/plain": [
       "tensor(1.)"
      ]
     },
     "execution_count": 18,
     "metadata": {},
     "output_type": "execute_result"
    }
   ],
   "source": [
    "torch.max(data[:10])"
   ]
  },
  {
   "cell_type": "code",
   "execution_count": 19,
   "metadata": {},
   "outputs": [
    {
     "data": {
      "image/png": "[encoded data removed]",
      "text/plain": [
       "<Figure size 432x288 with 1 Axes>"
      ]
     },
     "metadata": {
      "needs_background": "light"
     },
     "output_type": "display_data"
    }
   ],
   "source": [
    "idx = 2\n",
    "plt.imshow(data[idx].permute(1,2,0).squeeze())\n",
    "plt.title(classes[label[idx]])\n",
    "plt.show()"
   ]
  },
  {
   "cell_type": "code",
   "execution_count": 20,
   "metadata": {},
   "outputs": [],
   "source": [
    "class Raw_CNN(nn.Module):\n",
    "    def __init__(self):\n",
    "        super(Raw_CNN, self).__init__()\n",
    "        self.conv1 = nn.Conv2d(1, 12, 5, padding=1, bias=True)\n",
    "        self.conv2 = nn.Conv2d(12, 64, 5, padding=1, bias=True)\n",
    "        self.m1 = nn.MaxPool2d(2)\n",
    "        self.m2 = nn.MaxPool2d(2,padding=1)\n",
    "        self.fc1 = nn.Linear(64 * 6 * 6, 10, bias=True)\n",
    "\n",
    "    def forward(self, x):\n",
    "        x = F.relu(self.conv1(x)) #(3, 24, 24) -> (64, 20, 20)\n",
    "        x = self.m1(x) #(64, 10, 10)\n",
    "        x = F.relu(self.conv2(x)) #(64, 6, 6)\n",
    "        x = self.m2(x) #(64, 3, 3)\n",
    "        x = x.view(-1, 64 * 6 * 6)    #(64*3*3)\n",
    "        x = self.fc1(x)\n",
    "        return F.log_softmax(x, dim=1)\n",
    "\n",
    "class Tailored_CNN(nn.Module):\n",
    "    def __init__(self):\n",
    "        super(Tailored_CNN, self).__init__()\n",
    "        self.conv1 = nn.Conv2d(1, 12, 5, padding=1, bias=False)\n",
    "        self.conv2 = nn.Conv2d(12, 64, 5, padding=1, bias=False)\n",
    "        self.a1 = nn.AvgPool2d(2)\n",
    "        self.a2 = nn.AvgPool2d(2,padding=1)\n",
    "        self.fc1 = nn.Linear(64 * 6 * 6, 10, bias=False)\n",
    "\n",
    "    def forward(self, x):\n",
    "        x = F.relu(self.conv1(x)) #(3, 24, 24) -> (64, 20, 20)\n",
    "        x = self.a1(x) #(64, 10, 10)\n",
    "        x = F.relu(self.conv2(x)) #(64, 6, 6)\n",
    "        x = self.a2(x) #(64, 3, 3)\n",
    "        x = x.view(-1, 64 * 6 * 6)    #(64*3*3)\n",
    "        x = self.fc1(x) #(10*1*1)\n",
    "        return F.log_softmax(x, dim=1)"
   ]
  },
  {
   "cell_type": "code",
   "execution_count": 21,
   "metadata": {},
   "outputs": [],
   "source": [
    "raw_cnn = Raw_CNN().to(device)"
   ]
  },
  {
   "cell_type": "code",
   "execution_count": 22,
   "metadata": {},
   "outputs": [
    {
     "name": "stderr",
     "output_type": "stream",
     "text": [
      "  0%|          | 1/500 [00:00<05:44,  1.45it/s]"
     ]
    },
    {
     "name": "stdout",
     "output_type": "stream",
     "text": [
      "\u001b[0A\n",
      "Epoch :          0,     689.5740 ms elapsed\n",
      "loss = 0.31526      (min = 0.31526     )  \taccuracy = 0.622      (max = 0.622     )\n",
      "loss = 0.13775      (min = 0.13775     )  \taccuracy = 0.812      (max = 0.812     )\n"
     ]
    },
    {
     "name": "stderr",
     "output_type": "stream",
     "text": [
      "  2%|▏         | 11/500 [00:05<03:44,  2.18it/s]"
     ]
    },
    {
     "name": "stdout",
     "output_type": "stream",
     "text": [
      "\u001b[4A\n",
      "Epoch :         10,     448.6770 ms elapsed\n",
      "loss = 0.00027424   (min = 0.00027424  )  \taccuracy = 1          (max = 1         )\n",
      "loss = 0.047793     (min = 0.043856    )  \taccuracy = 0.942      (max = 0.946     )\n"
     ]
    },
    {
     "name": "stderr",
     "output_type": "stream",
     "text": [
      "  4%|▍         | 21/500 [00:09<03:34,  2.23it/s]"
     ]
    },
    {
     "name": "stdout",
     "output_type": "stream",
     "text": [
      "\u001b[4A\n",
      "Epoch :         20,     448.2440 ms elapsed\n",
      "loss = 5.6014e-05   (min = 5.6014e-05  )  \taccuracy = 1          (max = 1         )\n",
      "loss = 0.052513     (min = 0.043856    )  \taccuracy = 0.944      (max = 0.946     )\n"
     ]
    },
    {
     "name": "stderr",
     "output_type": "stream",
     "text": [
      "  6%|▌         | 31/500 [00:14<03:40,  2.13it/s]"
     ]
    },
    {
     "name": "stdout",
     "output_type": "stream",
     "text": [
      "\u001b[4A\n",
      "Epoch :         30,     454.0980 ms elapsed\n",
      "loss = 1.926e-05    (min = 1.926e-05   )  \taccuracy = 1          (max = 1         )\n",
      "loss = 0.056133     (min = 0.043856    )  \taccuracy = 0.942      (max = 0.946     )\n"
     ]
    },
    {
     "name": "stderr",
     "output_type": "stream",
     "text": [
      "  8%|▊         | 41/500 [00:19<03:30,  2.18it/s]"
     ]
    },
    {
     "name": "stdout",
     "output_type": "stream",
     "text": [
      "\u001b[4A\n",
      "Epoch :         40,     446.5300 ms elapsed\n",
      "loss = 7.8828e-06   (min = 7.8828e-06  )  \taccuracy = 1          (max = 1         )\n",
      "loss = 0.060058     (min = 0.043856    )  \taccuracy = 0.94       (max = 0.946     )\n"
     ]
    },
    {
     "name": "stderr",
     "output_type": "stream",
     "text": [
      " 10%|█         | 51/500 [00:23<03:29,  2.14it/s]"
     ]
    },
    {
     "name": "stdout",
     "output_type": "stream",
     "text": [
      "\u001b[4A\n",
      "Epoch :         50,     475.5330 ms elapsed\n",
      "loss = 3.4263e-06   (min = 3.4263e-06  )  \taccuracy = 1          (max = 1         )\n",
      "loss = 0.063191     (min = 0.043856    )  \taccuracy = 0.94       (max = 0.946     )\n"
     ]
    },
    {
     "name": "stderr",
     "output_type": "stream",
     "text": [
      " 12%|█▏        | 61/500 [00:28<03:20,  2.19it/s]"
     ]
    },
    {
     "name": "stdout",
     "output_type": "stream",
     "text": [
      "\u001b[4A\n",
      "Epoch :         60,     456.0190 ms elapsed\n",
      "loss = 1.5605e-06   (min = 1.5605e-06  )  \taccuracy = 1          (max = 1         )\n",
      "loss = 0.065604     (min = 0.043856    )  \taccuracy = 0.94       (max = 0.946     )\n"
     ]
    },
    {
     "name": "stderr",
     "output_type": "stream",
     "text": [
      " 14%|█▍        | 71/500 [00:33<04:24,  1.62it/s]"
     ]
    },
    {
     "name": "stdout",
     "output_type": "stream",
     "text": [
      "\u001b[4A\n",
      "Epoch :         70,     775.5440 ms elapsed\n",
      "loss = 7.345e-07    (min = 7.345e-07   )  \taccuracy = 1          (max = 1         )\n",
      "loss = 0.069566     (min = 0.043856    )  \taccuracy = 0.942      (max = 0.946     )\n"
     ]
    },
    {
     "name": "stderr",
     "output_type": "stream",
     "text": [
      " 16%|█▌        | 81/500 [00:38<03:15,  2.15it/s]"
     ]
    },
    {
     "name": "stdout",
     "output_type": "stream",
     "text": [
      "\u001b[4A\n",
      "Epoch :         80,     455.3550 ms elapsed\n",
      "loss = 3.472e-07    (min = 3.472e-07   )  \taccuracy = 1          (max = 1         )\n",
      "loss = 0.072553     (min = 0.043856    )  \taccuracy = 0.942      (max = 0.946     )\n"
     ]
    },
    {
     "name": "stderr",
     "output_type": "stream",
     "text": [
      " 18%|█▊        | 91/500 [00:43<04:15,  1.60it/s]"
     ]
    },
    {
     "name": "stdout",
     "output_type": "stream",
     "text": [
      "\u001b[4A\n",
      "Epoch :         90,     759.7570 ms elapsed\n",
      "loss = 1.6445e-07   (min = 1.6445e-07  )  \taccuracy = 1          (max = 1         )\n",
      "loss = 0.076444     (min = 0.043856    )  \taccuracy = 0.942      (max = 0.946     )\n"
     ]
    },
    {
     "name": "stderr",
     "output_type": "stream",
     "text": [
      " 20%|██        | 101/500 [00:48<03:06,  2.14it/s]"
     ]
    },
    {
     "name": "stdout",
     "output_type": "stream",
     "text": [
      "\u001b[4A\n",
      "Epoch :        100,     468.7700 ms elapsed\n",
      "loss = 8.0407e-08   (min = 8.0407e-08  )  \taccuracy = 1          (max = 1         )\n",
      "loss = 0.078281     (min = 0.043856    )  \taccuracy = 0.942      (max = 0.946     )\n"
     ]
    },
    {
     "name": "stderr",
     "output_type": "stream",
     "text": [
      " 22%|██▏       | 111/500 [00:53<03:30,  1.85it/s]"
     ]
    },
    {
     "name": "stdout",
     "output_type": "stream",
     "text": [
      "\u001b[4A\n",
      "Epoch :        110,     721.4090 ms elapsed\n",
      "loss = 3.8922e-08   (min = 3.8922e-08  )  \taccuracy = 1          (max = 1         )\n",
      "loss = 0.081717     (min = 0.043856    )  \taccuracy = 0.944      (max = 0.946     )\n"
     ]
    },
    {
     "name": "stderr",
     "output_type": "stream",
     "text": [
      " 24%|██▍       | 121/500 [00:59<04:03,  1.55it/s]"
     ]
    },
    {
     "name": "stdout",
     "output_type": "stream",
     "text": [
      "\u001b[4A\n",
      "Epoch :        120,     677.0510 ms elapsed\n",
      "loss = 1.9133e-08   (min = 1.9133e-08  )  \taccuracy = 1          (max = 1         )\n",
      "loss = 0.085075     (min = 0.043856    )  \taccuracy = 0.944      (max = 0.946     )\n"
     ]
    },
    {
     "name": "stderr",
     "output_type": "stream",
     "text": [
      " 26%|██▌       | 131/500 [01:05<03:04,  2.00it/s]"
     ]
    },
    {
     "name": "stdout",
     "output_type": "stream",
     "text": [
      "\u001b[4A\n",
      "Epoch :        130,     452.9850 ms elapsed\n",
      "loss = 8.7619e-09   (min = 8.7619e-09  )  \taccuracy = 1          (max = 1         )\n",
      "loss = 0.087846     (min = 0.043856    )  \taccuracy = 0.944      (max = 0.946     )\n"
     ]
    },
    {
     "name": "stderr",
     "output_type": "stream",
     "text": [
      " 28%|██▊       | 141/500 [01:09<02:47,  2.14it/s]"
     ]
    },
    {
     "name": "stdout",
     "output_type": "stream",
     "text": [
      "\u001b[4A\n",
      "Epoch :        140,     462.0040 ms elapsed\n",
      "loss = 3.7551e-09   (min = 3.7551e-09  )  \taccuracy = 1          (max = 1         )\n",
      "loss = 0.091266     (min = 0.043856    )  \taccuracy = 0.944      (max = 0.946     )\n"
     ]
    },
    {
     "name": "stderr",
     "output_type": "stream",
     "text": [
      " 30%|███       | 151/500 [01:14<02:40,  2.18it/s]"
     ]
    },
    {
     "name": "stdout",
     "output_type": "stream",
     "text": [
      "\u001b[4A\n",
      "Epoch :        150,     450.1520 ms elapsed\n",
      "loss = 1.1921e-09   (min = 1.1921e-09  )  \taccuracy = 1          (max = 1         )\n",
      "loss = 0.093693     (min = 0.043856    )  \taccuracy = 0.944      (max = 0.946     )\n"
     ]
    },
    {
     "name": "stderr",
     "output_type": "stream",
     "text": [
      " 32%|███▏      | 161/500 [01:19<02:34,  2.19it/s]"
     ]
    },
    {
     "name": "stdout",
     "output_type": "stream",
     "text": [
      "\u001b[4A\n",
      "Epoch :        160,     442.4590 ms elapsed\n",
      "loss = 1.1921e-10   (min = 1.1921e-10  )  \taccuracy = 1          (max = 1         )\n",
      "loss = 0.096778     (min = 0.043856    )  \taccuracy = 0.944      (max = 0.946     )\n"
     ]
    },
    {
     "name": "stderr",
     "output_type": "stream",
     "text": [
      " 34%|███▍      | 171/500 [01:23<02:29,  2.21it/s]"
     ]
    },
    {
     "name": "stdout",
     "output_type": "stream",
     "text": [
      "\u001b[4A\n",
      "Epoch :        170,     449.9020 ms elapsed\n",
      "loss = 0            (min = 0           )  \taccuracy = 1          (max = 1         )\n",
      "loss = 0.10019      (min = 0.043856    )  \taccuracy = 0.946      (max = 0.946     )\n"
     ]
    },
    {
     "name": "stderr",
     "output_type": "stream",
     "text": [
      " 36%|███▌      | 181/500 [01:28<02:28,  2.15it/s]"
     ]
    },
    {
     "name": "stdout",
     "output_type": "stream",
     "text": [
      "\u001b[4A\n",
      "Epoch :        180,     467.8930 ms elapsed\n",
      "loss = 0            (min = 0           )  \taccuracy = 1          (max = 1         )\n",
      "loss = 0.102        (min = 0.043856    )  \taccuracy = 0.946      (max = 0.946     )\n"
     ]
    },
    {
     "name": "stderr",
     "output_type": "stream",
     "text": [
      " 38%|███▊      | 191/500 [01:33<02:21,  2.18it/s]"
     ]
    },
    {
     "name": "stdout",
     "output_type": "stream",
     "text": [
      "\u001b[4A\n",
      "Epoch :        190,     466.2340 ms elapsed\n",
      "loss = 0            (min = 0           )  \taccuracy = 1          (max = 1         )\n",
      "loss = 0.10563      (min = 0.043856    )  \taccuracy = 0.946      (max = 0.946     )\n"
     ]
    },
    {
     "name": "stderr",
     "output_type": "stream",
     "text": [
      " 40%|████      | 201/500 [01:37<02:19,  2.14it/s]"
     ]
    },
    {
     "name": "stdout",
     "output_type": "stream",
     "text": [
      "\u001b[4A\n",
      "Epoch :        200,     469.3210 ms elapsed\n",
      "loss = 0            (min = 0           )  \taccuracy = 1          (max = 1         )\n",
      "loss = 0.10872      (min = 0.043856    )  \taccuracy = 0.946      (max = 0.946     )\n"
     ]
    },
    {
     "name": "stderr",
     "output_type": "stream",
     "text": [
      " 42%|████▏     | 211/500 [01:42<02:15,  2.13it/s]"
     ]
    },
    {
     "name": "stdout",
     "output_type": "stream",
     "text": [
      "\u001b[4A\n",
      "Epoch :        210,     459.5840 ms elapsed\n",
      "loss = 0            (min = 0           )  \taccuracy = 1          (max = 1         )\n",
      "loss = 0.11161      (min = 0.043856    )  \taccuracy = 0.946      (max = 0.946     )\n"
     ]
    },
    {
     "name": "stderr",
     "output_type": "stream",
     "text": [
      " 44%|████▍     | 221/500 [01:47<02:16,  2.05it/s]"
     ]
    },
    {
     "name": "stdout",
     "output_type": "stream",
     "text": [
      "\u001b[4A\n",
      "Epoch :        220,     487.7240 ms elapsed\n",
      "loss = 0            (min = 0           )  \taccuracy = 1          (max = 1         )\n",
      "loss = 0.11405      (min = 0.043856    )  \taccuracy = 0.946      (max = 0.946     )\n"
     ]
    },
    {
     "name": "stderr",
     "output_type": "stream",
     "text": [
      " 46%|████▌     | 231/500 [01:51<02:09,  2.08it/s]"
     ]
    },
    {
     "name": "stdout",
     "output_type": "stream",
     "text": [
      "\u001b[4A\n",
      "Epoch :        230,     483.9490 ms elapsed\n",
      "loss = 0            (min = 0           )  \taccuracy = 1          (max = 1         )\n",
      "loss = 0.11641      (min = 0.043856    )  \taccuracy = 0.946      (max = 0.946     )\n"
     ]
    },
    {
     "name": "stderr",
     "output_type": "stream",
     "text": [
      " 48%|████▊     | 241/500 [01:56<02:04,  2.09it/s]"
     ]
    },
    {
     "name": "stdout",
     "output_type": "stream",
     "text": [
      "\u001b[4A\n",
      "Epoch :        240,     483.5260 ms elapsed\n",
      "loss = 0            (min = 0           )  \taccuracy = 1          (max = 1         )\n",
      "loss = 0.11855      (min = 0.043856    )  \taccuracy = 0.946      (max = 0.948     )\n"
     ]
    },
    {
     "name": "stderr",
     "output_type": "stream",
     "text": [
      " 50%|█████     | 251/500 [02:01<01:58,  2.10it/s]"
     ]
    },
    {
     "name": "stdout",
     "output_type": "stream",
     "text": [
      "\u001b[4A\n",
      "Epoch :        250,     488.2950 ms elapsed\n",
      "loss = 0            (min = 0           )  \taccuracy = 1          (max = 1         )\n",
      "loss = 0.12062      (min = 0.043856    )  \taccuracy = 0.946      (max = 0.948     )\n"
     ]
    },
    {
     "name": "stderr",
     "output_type": "stream",
     "text": [
      " 52%|█████▏    | 261/500 [02:06<01:51,  2.15it/s]"
     ]
    },
    {
     "name": "stdout",
     "output_type": "stream",
     "text": [
      "\u001b[4A\n",
      "Epoch :        260,     475.2460 ms elapsed\n",
      "loss = 0            (min = 0           )  \taccuracy = 1          (max = 1         )\n",
      "loss = 0.1222       (min = 0.043856    )  \taccuracy = 0.946      (max = 0.948     )\n"
     ]
    },
    {
     "name": "stderr",
     "output_type": "stream",
     "text": [
      " 54%|█████▍    | 271/500 [02:10<01:43,  2.22it/s]"
     ]
    },
    {
     "name": "stdout",
     "output_type": "stream",
     "text": [
      "\u001b[4A\n",
      "Epoch :        270,     449.5050 ms elapsed\n",
      "loss = 0            (min = 0           )  \taccuracy = 1          (max = 1         )\n",
      "loss = 0.12363      (min = 0.043856    )  \taccuracy = 0.946      (max = 0.948     )\n"
     ]
    },
    {
     "name": "stderr",
     "output_type": "stream",
     "text": [
      " 56%|█████▌    | 281/500 [02:15<01:38,  2.22it/s]"
     ]
    },
    {
     "name": "stdout",
     "output_type": "stream",
     "text": [
      "\u001b[4A\n",
      "Epoch :        280,     450.5270 ms elapsed\n",
      "loss = 0            (min = 0           )  \taccuracy = 1          (max = 1         )\n",
      "loss = 0.12507      (min = 0.043856    )  \taccuracy = 0.946      (max = 0.948     )\n"
     ]
    },
    {
     "name": "stderr",
     "output_type": "stream",
     "text": [
      " 58%|█████▊    | 291/500 [02:19<01:34,  2.21it/s]"
     ]
    },
    {
     "name": "stdout",
     "output_type": "stream",
     "text": [
      "\u001b[4A\n",
      "Epoch :        290,     452.3090 ms elapsed\n",
      "loss = 0            (min = 0           )  \taccuracy = 1          (max = 1         )\n",
      "loss = 0.12596      (min = 0.043856    )  \taccuracy = 0.946      (max = 0.948     )\n"
     ]
    },
    {
     "name": "stderr",
     "output_type": "stream",
     "text": [
      " 60%|██████    | 301/500 [02:24<01:30,  2.19it/s]"
     ]
    },
    {
     "name": "stdout",
     "output_type": "stream",
     "text": [
      "\u001b[4A\n",
      "Epoch :        300,     453.0030 ms elapsed\n",
      "loss = 0            (min = 0           )  \taccuracy = 1          (max = 1         )\n",
      "loss = 0.12667      (min = 0.043856    )  \taccuracy = 0.946      (max = 0.948     )\n"
     ]
    },
    {
     "name": "stderr",
     "output_type": "stream",
     "text": [
      " 62%|██████▏   | 311/500 [02:28<01:25,  2.22it/s]"
     ]
    },
    {
     "name": "stdout",
     "output_type": "stream",
     "text": [
      "\u001b[4A\n",
      "Epoch :        310,     446.0960 ms elapsed\n",
      "loss = 0            (min = 0           )  \taccuracy = 1          (max = 1         )\n",
      "loss = 0.12762      (min = 0.043856    )  \taccuracy = 0.946      (max = 0.948     )\n"
     ]
    },
    {
     "name": "stderr",
     "output_type": "stream",
     "text": [
      " 64%|██████▍   | 321/500 [02:33<01:20,  2.21it/s]"
     ]
    },
    {
     "name": "stdout",
     "output_type": "stream",
     "text": [
      "\u001b[4A\n",
      "Epoch :        320,     446.7310 ms elapsed\n",
      "loss = 0            (min = 0           )  \taccuracy = 1          (max = 1         )\n",
      "loss = 0.12828      (min = 0.043856    )  \taccuracy = 0.946      (max = 0.948     )\n"
     ]
    },
    {
     "name": "stderr",
     "output_type": "stream",
     "text": [
      " 66%|██████▌   | 331/500 [02:37<01:16,  2.21it/s]"
     ]
    },
    {
     "name": "stdout",
     "output_type": "stream",
     "text": [
      "\u001b[4A\n",
      "Epoch :        330,     451.4730 ms elapsed\n",
      "loss = 0            (min = 0           )  \taccuracy = 1          (max = 1         )\n",
      "loss = 0.12903      (min = 0.043856    )  \taccuracy = 0.946      (max = 0.948     )\n"
     ]
    },
    {
     "name": "stderr",
     "output_type": "stream",
     "text": [
      " 68%|██████▊   | 341/500 [02:42<01:11,  2.21it/s]"
     ]
    },
    {
     "name": "stdout",
     "output_type": "stream",
     "text": [
      "\u001b[4A\n",
      "Epoch :        340,     453.8960 ms elapsed\n",
      "loss = 0            (min = 0           )  \taccuracy = 1          (max = 1         )\n",
      "loss = 0.12957      (min = 0.043856    )  \taccuracy = 0.946      (max = 0.948     )\n"
     ]
    },
    {
     "name": "stderr",
     "output_type": "stream",
     "text": [
      " 70%|███████   | 351/500 [02:46<01:07,  2.22it/s]"
     ]
    },
    {
     "name": "stdout",
     "output_type": "stream",
     "text": [
      "\u001b[4A\n",
      "Epoch :        350,     449.6290 ms elapsed\n",
      "loss = 0            (min = 0           )  \taccuracy = 1          (max = 1         )\n",
      "loss = 0.13005      (min = 0.043856    )  \taccuracy = 0.946      (max = 0.948     )\n"
     ]
    },
    {
     "name": "stderr",
     "output_type": "stream",
     "text": [
      " 72%|███████▏  | 361/500 [02:51<01:02,  2.22it/s]"
     ]
    },
    {
     "name": "stdout",
     "output_type": "stream",
     "text": [
      "\u001b[4A\n",
      "Epoch :        360,     445.3470 ms elapsed\n",
      "loss = 0            (min = 0           )  \taccuracy = 1          (max = 1         )\n",
      "loss = 0.13051      (min = 0.043856    )  \taccuracy = 0.946      (max = 0.948     )\n"
     ]
    },
    {
     "name": "stderr",
     "output_type": "stream",
     "text": [
      " 74%|███████▍  | 371/500 [02:55<00:58,  2.22it/s]"
     ]
    },
    {
     "name": "stdout",
     "output_type": "stream",
     "text": [
      "\u001b[4A\n",
      "Epoch :        370,     450.9550 ms elapsed\n",
      "loss = 0            (min = 0           )  \taccuracy = 1          (max = 1         )\n",
      "loss = 0.13101      (min = 0.043856    )  \taccuracy = 0.946      (max = 0.948     )\n"
     ]
    },
    {
     "name": "stderr",
     "output_type": "stream",
     "text": [
      " 76%|███████▌  | 381/500 [03:00<00:54,  2.19it/s]"
     ]
    },
    {
     "name": "stdout",
     "output_type": "stream",
     "text": [
      "\u001b[4A\n",
      "Epoch :        380,     463.7870 ms elapsed\n",
      "loss = 0            (min = 0           )  \taccuracy = 1          (max = 1         )\n",
      "loss = 0.1313       (min = 0.043856    )  \taccuracy = 0.946      (max = 0.948     )\n"
     ]
    },
    {
     "name": "stderr",
     "output_type": "stream",
     "text": [
      " 78%|███████▊  | 391/500 [03:04<00:50,  2.16it/s]"
     ]
    },
    {
     "name": "stdout",
     "output_type": "stream",
     "text": [
      "\u001b[4A\n",
      "Epoch :        390,     451.7930 ms elapsed\n",
      "loss = 0            (min = 0           )  \taccuracy = 1          (max = 1         )\n",
      "loss = 0.13168      (min = 0.043856    )  \taccuracy = 0.946      (max = 0.948     )\n"
     ]
    },
    {
     "name": "stderr",
     "output_type": "stream",
     "text": [
      " 80%|████████  | 401/500 [03:09<00:44,  2.20it/s]"
     ]
    },
    {
     "name": "stdout",
     "output_type": "stream",
     "text": [
      "\u001b[4A\n",
      "Epoch :        400,     450.5520 ms elapsed\n",
      "loss = 0            (min = 0           )  \taccuracy = 1          (max = 1         )\n",
      "loss = 0.13204      (min = 0.043856    )  \taccuracy = 0.946      (max = 0.948     )\n"
     ]
    },
    {
     "name": "stderr",
     "output_type": "stream",
     "text": [
      " 82%|████████▏ | 411/500 [03:14<00:40,  2.20it/s]"
     ]
    },
    {
     "name": "stdout",
     "output_type": "stream",
     "text": [
      "\u001b[4A\n",
      "Epoch :        410,     448.9190 ms elapsed\n",
      "loss = 0            (min = 0           )  \taccuracy = 1          (max = 1         )\n",
      "loss = 0.13239      (min = 0.043856    )  \taccuracy = 0.946      (max = 0.948     )\n"
     ]
    },
    {
     "name": "stderr",
     "output_type": "stream",
     "text": [
      " 84%|████████▍ | 421/500 [03:18<00:35,  2.20it/s]"
     ]
    },
    {
     "name": "stdout",
     "output_type": "stream",
     "text": [
      "\u001b[4A\n",
      "Epoch :        420,     459.3830 ms elapsed\n",
      "loss = 0            (min = 0           )  \taccuracy = 1          (max = 1         )\n",
      "loss = 0.13263      (min = 0.043856    )  \taccuracy = 0.946      (max = 0.948     )\n"
     ]
    },
    {
     "name": "stderr",
     "output_type": "stream",
     "text": [
      " 86%|████████▌ | 431/500 [03:23<00:32,  2.15it/s]"
     ]
    },
    {
     "name": "stdout",
     "output_type": "stream",
     "text": [
      "\u001b[4A\n",
      "Epoch :        430,     480.3050 ms elapsed\n",
      "loss = 0            (min = 0           )  \taccuracy = 1          (max = 1         )\n",
      "loss = 0.13292      (min = 0.043856    )  \taccuracy = 0.946      (max = 0.948     )\n"
     ]
    },
    {
     "name": "stderr",
     "output_type": "stream",
     "text": [
      " 88%|████████▊ | 441/500 [03:27<00:27,  2.18it/s]"
     ]
    },
    {
     "name": "stdout",
     "output_type": "stream",
     "text": [
      "\u001b[4A\n",
      "Epoch :        440,     449.0330 ms elapsed\n",
      "loss = 0            (min = 0           )  \taccuracy = 1          (max = 1         )\n",
      "loss = 0.13322      (min = 0.043856    )  \taccuracy = 0.946      (max = 0.948     )\n"
     ]
    },
    {
     "name": "stderr",
     "output_type": "stream",
     "text": [
      " 90%|█████████ | 451/500 [03:32<00:22,  2.19it/s]"
     ]
    },
    {
     "name": "stdout",
     "output_type": "stream",
     "text": [
      "\u001b[4A\n",
      "Epoch :        450,     468.2830 ms elapsed\n",
      "loss = 0            (min = 0           )  \taccuracy = 1          (max = 1         )\n",
      "loss = 0.13348      (min = 0.043856    )  \taccuracy = 0.946      (max = 0.948     )\n"
     ]
    },
    {
     "name": "stderr",
     "output_type": "stream",
     "text": [
      " 92%|█████████▏| 461/500 [03:37<00:17,  2.18it/s]"
     ]
    },
    {
     "name": "stdout",
     "output_type": "stream",
     "text": [
      "\u001b[4A\n",
      "Epoch :        460,     443.6230 ms elapsed\n",
      "loss = 0            (min = 0           )  \taccuracy = 1          (max = 1         )\n",
      "loss = 0.1337       (min = 0.043856    )  \taccuracy = 0.946      (max = 0.948     )\n"
     ]
    },
    {
     "name": "stderr",
     "output_type": "stream",
     "text": [
      " 94%|█████████▍| 471/500 [03:41<00:13,  2.22it/s]"
     ]
    },
    {
     "name": "stdout",
     "output_type": "stream",
     "text": [
      "\u001b[4A\n",
      "Epoch :        470,     447.9960 ms elapsed\n",
      "loss = 0            (min = 0           )  \taccuracy = 1          (max = 1         )\n",
      "loss = 0.13398      (min = 0.043856    )  \taccuracy = 0.946      (max = 0.948     )\n"
     ]
    },
    {
     "name": "stderr",
     "output_type": "stream",
     "text": [
      " 96%|█████████▌| 481/500 [03:46<00:08,  2.22it/s]"
     ]
    },
    {
     "name": "stdout",
     "output_type": "stream",
     "text": [
      "\u001b[4A\n",
      "Epoch :        480,     446.6770 ms elapsed\n",
      "loss = 0            (min = 0           )  \taccuracy = 1          (max = 1         )\n",
      "loss = 0.13418      (min = 0.043856    )  \taccuracy = 0.946      (max = 0.948     )\n"
     ]
    },
    {
     "name": "stderr",
     "output_type": "stream",
     "text": [
      " 98%|█████████▊| 491/500 [03:50<00:04,  2.17it/s]"
     ]
    },
    {
     "name": "stdout",
     "output_type": "stream",
     "text": [
      "\u001b[4A\n",
      "Epoch :        490,     445.1080 ms elapsed\n",
      "loss = 0            (min = 0           )  \taccuracy = 1          (max = 1         )\n",
      "loss = 0.13445      (min = 0.043856    )  \taccuracy = 0.946      (max = 0.948     )\n"
     ]
    },
    {
     "name": "stderr",
     "output_type": "stream",
     "text": [
      "100%|██████████| 500/500 [03:54<00:00,  2.20it/s]"
     ]
    },
    {
     "name": "stdout",
     "output_type": "stream",
     "text": [
      "Finished Training\n",
      "Saving models...\n"
     ]
    },
    {
     "name": "stderr",
     "output_type": "stream",
     "text": [
      "\n"
     ]
    }
   ],
   "source": [
    "criterion = nn.CrossEntropyLoss()\n",
    "optimizer = optim.Adam(raw_cnn.parameters(), lr=0.001)\n",
    "stats = snn.learningStats()\n",
    "\n",
    "## Training\n",
    "\n",
    "# training loop\n",
    "for epoch in tqdm(range(EPOCH)):\n",
    "    # Reset training stats.\n",
    "    stats.training.reset()\n",
    "    tSt = datetime.now()\n",
    "    raw_cnn.train()    \n",
    "    # Training loop.\n",
    "    for i, data in enumerate(trainloader, 0):\n",
    "        # get the inputs; data is a list of [inputs, labels]\n",
    "        inputs, labels = data[0].to(device), data[1].to(device)\n",
    "\n",
    "        # zero the parameter gradients\n",
    "        optimizer.zero_grad()\n",
    "\n",
    "        # forward + backward + optimize\n",
    "        outputs = raw_cnn(inputs)\n",
    "        \n",
    "        loss = criterion(outputs, labels)\n",
    "        \n",
    "        loss.backward()\n",
    "        \n",
    "        optimizer.step()\n",
    "\n",
    "        # Gather training loss stats.\n",
    "        stats.training.lossSum += loss.cpu().data.item()\n",
    "\n",
    "        # Gather the training stats.\n",
    "        _, predicted = torch.max(outputs.data, 1)\n",
    "        \n",
    "        stats.training.correctSamples += torch.sum(predicted == labels).data.item()\n",
    "        stats.training.numSamples += len(labels)\n",
    "\n",
    "        # Display training stats.\n",
    "        # if i%10 == 0: stats.print(epoch, i, (datetime.now() - tSt).total_seconds())\n",
    "    # Update training stats.\n",
    "    stats.training.update()\n",
    "    # Reset testing stats.\n",
    "    stats.testing.reset()\n",
    "    raw_cnn.eval()    \n",
    "    # Testing loop.\n",
    "    # Same steps as Training loops except loss backpropagation and weight update.\n",
    "    for i, data in enumerate(testloader, 0):\n",
    "        inputs, labels = data[0].to(device), data[1].to(device)\n",
    "\n",
    "        outputs = raw_cnn.forward(inputs)\n",
    "        _, predicted = torch.max(outputs.data, 1)\n",
    "\n",
    "        stats.testing.correctSamples += torch.sum(predicted == labels).data.item()\n",
    "        stats.testing.numSamples += len(labels)\n",
    "\n",
    "        loss = criterion(outputs, labels)\n",
    "        stats.testing.lossSum += loss.cpu().data.item()\n",
    "        \n",
    "        # if i%10 == 0: stats.print(epoch, i)\n",
    "\n",
    "\n",
    "    # Update stats.\n",
    "    stats.testing.update()\n",
    "    if epoch%10==0:  stats.print(epoch, timeElapsed=(datetime.now() - tSt).total_seconds())\n",
    "print('Finished Training')\n",
    "save_model('raw_cnn', raw_cnn)"
   ]
  },
  {
   "cell_type": "code",
   "execution_count": 23,
   "metadata": {},
   "outputs": [
    {
     "name": "stdout",
     "output_type": "stream",
     "text": [
      "Accuracy of the network on the 10000 test images: 94 %\n"
     ]
    }
   ],
   "source": [
    "test_acc(testloader, raw_cnn)"
   ]
  },
  {
   "cell_type": "code",
   "execution_count": 24,
   "metadata": {},
   "outputs": [
    {
     "data": {
      "image/png": "[encoded data removed]",
      "text/plain": [
       "<Figure size 432x288 with 1 Axes>"
      ]
     },
     "metadata": {
      "needs_background": "light"
     },
     "output_type": "display_data"
    },
    {
     "data": {
      "image/png": "[encoded data removed]",
      "text/plain": [
       "<Figure size 432x288 with 1 Axes>"
      ]
     },
     "metadata": {
      "needs_background": "light"
     },
     "output_type": "display_data"
    }
   ],
   "source": [
    "# Plot the results.\n",
    "plt.figure(1)\n",
    "plt.semilogy(stats.training.lossLog, label='Training')\n",
    "plt.semilogy(stats.testing.lossLog, label='Testing')\n",
    "plt.xlabel('Epoch')\n",
    "plt.ylabel('Loss')\n",
    "plt.legend()\n",
    "\n",
    "plt.figure(2)\n",
    "plt.plot(stats.training.accuracyLog, label='Training')\n",
    "plt.plot(stats.testing.accuracyLog, label='Testing')\n",
    "plt.xlabel('Epoch')\n",
    "plt.ylabel('Accuracy')\n",
    "plt.legend()\n",
    "\n",
    "plt.show()"
   ]
  },
  {
   "cell_type": "code",
   "execution_count": 25,
   "metadata": {},
   "outputs": [],
   "source": [
    "tailored_cnn = Tailored_CNN().to(device)"
   ]
  },
  {
   "cell_type": "code",
   "execution_count": 26,
   "metadata": {
    "scrolled": true
   },
   "outputs": [
    {
     "name": "stderr",
     "output_type": "stream",
     "text": [
      "  0%|          | 1/500 [00:00<03:40,  2.27it/s]"
     ]
    },
    {
     "name": "stdout",
     "output_type": "stream",
     "text": [
      "\u001b[0A\n",
      "Epoch :          0,     440.8630 ms elapsed\n",
      "loss = 0.31956      (min = 0.31956     )  \taccuracy = 0.602      (max = 0.602     )\n",
      "loss = 0.1683       (min = 0.1683      )  \taccuracy = 0.808      (max = 0.808     )\n"
     ]
    },
    {
     "name": "stderr",
     "output_type": "stream",
     "text": [
      "  2%|▏         | 11/500 [00:04<03:20,  2.44it/s]"
     ]
    },
    {
     "name": "stdout",
     "output_type": "stream",
     "text": [
      "\u001b[4A\n",
      "Epoch :         10,     406.2970 ms elapsed\n",
      "loss = 0.0062208    (min = 0.0030943   )  \taccuracy = 0.994      (max = 0.998     )\n",
      "loss = 0.069535     (min = 0.062021    )  \taccuracy = 0.918      (max = 0.92      )\n"
     ]
    },
    {
     "name": "stderr",
     "output_type": "stream",
     "text": [
      "  4%|▍         | 21/500 [00:08<03:16,  2.43it/s]"
     ]
    },
    {
     "name": "stdout",
     "output_type": "stream",
     "text": [
      "\u001b[4A\n",
      "Epoch :         20,     407.2830 ms elapsed\n",
      "loss = 0.00011676   (min = 0.00011676  )  \taccuracy = 1          (max = 1         )\n",
      "loss = 0.070472     (min = 0.059815    )  \taccuracy = 0.934      (max = 0.936     )\n"
     ]
    },
    {
     "name": "stderr",
     "output_type": "stream",
     "text": [
      "  6%|▌         | 31/500 [00:12<03:12,  2.44it/s]"
     ]
    },
    {
     "name": "stdout",
     "output_type": "stream",
     "text": [
      "\u001b[4A\n",
      "Epoch :         30,     410.3890 ms elapsed\n",
      "loss = 3.7294e-05   (min = 3.7294e-05  )  \taccuracy = 1          (max = 1         )\n",
      "loss = 0.080778     (min = 0.059815    )  \taccuracy = 0.932      (max = 0.936     )\n"
     ]
    },
    {
     "name": "stderr",
     "output_type": "stream",
     "text": [
      "  8%|▊         | 41/500 [00:16<03:08,  2.44it/s]"
     ]
    },
    {
     "name": "stdout",
     "output_type": "stream",
     "text": [
      "\u001b[4A\n",
      "Epoch :         40,     406.6520 ms elapsed\n",
      "loss = 1.5613e-05   (min = 1.5613e-05  )  \taccuracy = 1          (max = 1         )\n",
      "loss = 0.089979     (min = 0.059815    )  \taccuracy = 0.93       (max = 0.936     )\n"
     ]
    },
    {
     "name": "stderr",
     "output_type": "stream",
     "text": [
      " 10%|█         | 51/500 [00:20<03:03,  2.44it/s]"
     ]
    },
    {
     "name": "stdout",
     "output_type": "stream",
     "text": [
      "\u001b[4A\n",
      "Epoch :         50,     407.5620 ms elapsed\n",
      "loss = 7.4093e-06   (min = 7.4093e-06  )  \taccuracy = 1          (max = 1         )\n",
      "loss = 0.098361     (min = 0.059815    )  \taccuracy = 0.928      (max = 0.936     )\n"
     ]
    },
    {
     "name": "stderr",
     "output_type": "stream",
     "text": [
      " 12%|█▏        | 61/500 [00:25<03:03,  2.39it/s]"
     ]
    },
    {
     "name": "stdout",
     "output_type": "stream",
     "text": [
      "\u001b[4A\n",
      "Epoch :         60,     409.4340 ms elapsed\n",
      "loss = 3.6102e-06   (min = 3.6102e-06  )  \taccuracy = 1          (max = 1         )\n",
      "loss = 0.10597      (min = 0.059815    )  \taccuracy = 0.922      (max = 0.936     )\n"
     ]
    },
    {
     "name": "stderr",
     "output_type": "stream",
     "text": [
      " 14%|█▍        | 71/500 [00:29<03:20,  2.14it/s]"
     ]
    },
    {
     "name": "stdout",
     "output_type": "stream",
     "text": [
      "\u001b[4A\n",
      "Epoch :         70,     414.6100 ms elapsed\n",
      "loss = 1.7764e-06   (min = 1.7764e-06  )  \taccuracy = 1          (max = 1         )\n",
      "loss = 0.11428      (min = 0.059815    )  \taccuracy = 0.922      (max = 0.936     )\n"
     ]
    },
    {
     "name": "stderr",
     "output_type": "stream",
     "text": [
      " 16%|█▌        | 81/500 [00:33<02:52,  2.42it/s]"
     ]
    },
    {
     "name": "stdout",
     "output_type": "stream",
     "text": [
      "\u001b[4A\n",
      "Epoch :         80,     414.4480 ms elapsed\n",
      "loss = 8.7659e-07   (min = 8.7659e-07  )  \taccuracy = 1          (max = 1         )\n",
      "loss = 0.12228      (min = 0.059815    )  \taccuracy = 0.922      (max = 0.936     )\n"
     ]
    },
    {
     "name": "stderr",
     "output_type": "stream",
     "text": [
      " 18%|█▊        | 91/500 [00:38<02:47,  2.44it/s]"
     ]
    },
    {
     "name": "stdout",
     "output_type": "stream",
     "text": [
      "\u001b[4A\n",
      "Epoch :         90,     406.4220 ms elapsed\n",
      "loss = 4.4357e-07   (min = 4.4357e-07  )  \taccuracy = 1          (max = 1         )\n",
      "loss = 0.12988      (min = 0.059815    )  \taccuracy = 0.922      (max = 0.936     )\n"
     ]
    },
    {
     "name": "stderr",
     "output_type": "stream",
     "text": [
      " 20%|██        | 101/500 [00:42<02:43,  2.44it/s]"
     ]
    },
    {
     "name": "stdout",
     "output_type": "stream",
     "text": [
      "\u001b[4A\n",
      "Epoch :        100,     411.3550 ms elapsed\n",
      "loss = 2.163e-07    (min = 2.163e-07   )  \taccuracy = 1          (max = 1         )\n",
      "loss = 0.13786      (min = 0.059815    )  \taccuracy = 0.924      (max = 0.936     )\n"
     ]
    },
    {
     "name": "stderr",
     "output_type": "stream",
     "text": [
      " 22%|██▏       | 111/500 [00:46<02:38,  2.45it/s]"
     ]
    },
    {
     "name": "stdout",
     "output_type": "stream",
     "text": [
      "\u001b[4A\n",
      "Epoch :        110,     405.1080 ms elapsed\n",
      "loss = 1.0866e-07   (min = 1.0866e-07  )  \taccuracy = 1          (max = 1         )\n",
      "loss = 0.14575      (min = 0.059815    )  \taccuracy = 0.92       (max = 0.936     )\n"
     ]
    },
    {
     "name": "stderr",
     "output_type": "stream",
     "text": [
      " 24%|██▍       | 121/500 [00:50<02:35,  2.44it/s]"
     ]
    },
    {
     "name": "stdout",
     "output_type": "stream",
     "text": [
      "\u001b[4A\n",
      "Epoch :        120,     405.6390 ms elapsed\n",
      "loss = 5.5253e-08   (min = 5.5253e-08  )  \taccuracy = 1          (max = 1         )\n",
      "loss = 0.1542       (min = 0.059815    )  \taccuracy = 0.918      (max = 0.936     )\n"
     ]
    },
    {
     "name": "stderr",
     "output_type": "stream",
     "text": [
      " 26%|██▌       | 131/500 [00:54<02:31,  2.43it/s]"
     ]
    },
    {
     "name": "stdout",
     "output_type": "stream",
     "text": [
      "\u001b[4A\n",
      "Epoch :        130,     408.3800 ms elapsed\n",
      "loss = 2.7418e-08   (min = 2.7418e-08  )  \taccuracy = 1          (max = 1         )\n",
      "loss = 0.16298      (min = 0.059815    )  \taccuracy = 0.918      (max = 0.936     )\n"
     ]
    },
    {
     "name": "stderr",
     "output_type": "stream",
     "text": [
      " 28%|██▊       | 141/500 [00:58<02:26,  2.44it/s]"
     ]
    },
    {
     "name": "stdout",
     "output_type": "stream",
     "text": [
      "\u001b[4A\n",
      "Epoch :        140,     410.9510 ms elapsed\n",
      "loss = 1.3113e-08   (min = 1.3113e-08  )  \taccuracy = 1          (max = 1         )\n",
      "loss = 0.17044      (min = 0.059815    )  \taccuracy = 0.916      (max = 0.936     )\n"
     ]
    },
    {
     "name": "stderr",
     "output_type": "stream",
     "text": [
      " 30%|███       | 151/500 [01:02<02:22,  2.45it/s]"
     ]
    },
    {
     "name": "stdout",
     "output_type": "stream",
     "text": [
      "\u001b[4A\n",
      "Epoch :        150,     407.5610 ms elapsed\n",
      "loss = 6.6161e-09   (min = 6.6161e-09  )  \taccuracy = 1          (max = 1         )\n",
      "loss = 0.17891      (min = 0.059815    )  \taccuracy = 0.916      (max = 0.936     )\n"
     ]
    },
    {
     "name": "stderr",
     "output_type": "stream",
     "text": [
      " 32%|███▏      | 161/500 [01:06<02:23,  2.36it/s]"
     ]
    },
    {
     "name": "stdout",
     "output_type": "stream",
     "text": [
      "\u001b[4A\n",
      "Epoch :        160,     410.5960 ms elapsed\n",
      "loss = 3.3379e-09   (min = 3.2187e-09  )  \taccuracy = 1          (max = 1         )\n",
      "loss = 0.18744      (min = 0.059815    )  \taccuracy = 0.916      (max = 0.936     )\n"
     ]
    },
    {
     "name": "stderr",
     "output_type": "stream",
     "text": [
      " 34%|███▍      | 171/500 [01:11<02:17,  2.40it/s]"
     ]
    },
    {
     "name": "stdout",
     "output_type": "stream",
     "text": [
      "\u001b[4A\n",
      "Epoch :        170,     416.5260 ms elapsed\n",
      "loss = 8.9407e-10   (min = 8.9407e-10  )  \taccuracy = 1          (max = 1         )\n",
      "loss = 0.19514      (min = 0.059815    )  \taccuracy = 0.916      (max = 0.936     )\n"
     ]
    },
    {
     "name": "stderr",
     "output_type": "stream",
     "text": [
      " 36%|███▌      | 181/500 [01:15<02:13,  2.40it/s]"
     ]
    },
    {
     "name": "stdout",
     "output_type": "stream",
     "text": [
      "\u001b[4A\n",
      "Epoch :        180,     422.1130 ms elapsed\n",
      "loss = 2.3842e-10   (min = 1.7881e-10  )  \taccuracy = 1          (max = 1         )\n",
      "loss = 0.20305      (min = 0.059815    )  \taccuracy = 0.916      (max = 0.936     )\n"
     ]
    },
    {
     "name": "stderr",
     "output_type": "stream",
     "text": [
      " 38%|███▊      | 191/500 [01:19<02:24,  2.14it/s]"
     ]
    },
    {
     "name": "stdout",
     "output_type": "stream",
     "text": [
      "\u001b[4A\n",
      "Epoch :        190,     494.2610 ms elapsed\n",
      "loss = 5.9605e-11   (min = 0           )  \taccuracy = 1          (max = 1         )\n",
      "loss = 0.21098      (min = 0.059815    )  \taccuracy = 0.916      (max = 0.936     )\n"
     ]
    },
    {
     "name": "stderr",
     "output_type": "stream",
     "text": [
      " 40%|████      | 201/500 [01:23<02:08,  2.33it/s]"
     ]
    },
    {
     "name": "stdout",
     "output_type": "stream",
     "text": [
      "\u001b[4A\n",
      "Epoch :        200,     432.1640 ms elapsed\n",
      "loss = 0            (min = 0           )  \taccuracy = 1          (max = 1         )\n",
      "loss = 0.21821      (min = 0.059815    )  \taccuracy = 0.916      (max = 0.936     )\n"
     ]
    },
    {
     "name": "stderr",
     "output_type": "stream",
     "text": [
      " 42%|████▏     | 211/500 [01:28<02:00,  2.40it/s]"
     ]
    },
    {
     "name": "stdout",
     "output_type": "stream",
     "text": [
      "\u001b[4A\n",
      "Epoch :        210,     410.0510 ms elapsed\n",
      "loss = 0            (min = 0           )  \taccuracy = 1          (max = 1         )\n",
      "loss = 0.22561      (min = 0.059815    )  \taccuracy = 0.916      (max = 0.936     )\n"
     ]
    },
    {
     "name": "stderr",
     "output_type": "stream",
     "text": [
      " 44%|████▍     | 221/500 [01:32<02:03,  2.26it/s]"
     ]
    },
    {
     "name": "stdout",
     "output_type": "stream",
     "text": [
      "\u001b[4A\n",
      "Epoch :        220,     451.3310 ms elapsed\n",
      "loss = 0            (min = 0           )  \taccuracy = 1          (max = 1         )\n",
      "loss = 0.23272      (min = 0.059815    )  \taccuracy = 0.916      (max = 0.936     )\n"
     ]
    },
    {
     "name": "stderr",
     "output_type": "stream",
     "text": [
      " 46%|████▌     | 231/500 [01:37<02:13,  2.01it/s]"
     ]
    },
    {
     "name": "stdout",
     "output_type": "stream",
     "text": [
      "\u001b[4A\n",
      "Epoch :        230,     470.6290 ms elapsed\n",
      "loss = 0            (min = 0           )  \taccuracy = 1          (max = 1         )\n",
      "loss = 0.23988      (min = 0.059815    )  \taccuracy = 0.916      (max = 0.936     )\n"
     ]
    },
    {
     "name": "stderr",
     "output_type": "stream",
     "text": [
      " 48%|████▊     | 241/500 [01:41<01:58,  2.19it/s]"
     ]
    },
    {
     "name": "stdout",
     "output_type": "stream",
     "text": [
      "\u001b[4A\n",
      "Epoch :        240,     445.7900 ms elapsed\n",
      "loss = 0            (min = 0           )  \taccuracy = 1          (max = 1         )\n",
      "loss = 0.24578      (min = 0.059815    )  \taccuracy = 0.916      (max = 0.936     )\n"
     ]
    },
    {
     "name": "stderr",
     "output_type": "stream",
     "text": [
      " 50%|█████     | 251/500 [01:46<01:46,  2.34it/s]"
     ]
    },
    {
     "name": "stdout",
     "output_type": "stream",
     "text": [
      "\u001b[4A\n",
      "Epoch :        250,     417.4210 ms elapsed\n",
      "loss = 0            (min = 0           )  \taccuracy = 1          (max = 1         )\n",
      "loss = 0.25134      (min = 0.059815    )  \taccuracy = 0.916      (max = 0.936     )\n"
     ]
    },
    {
     "name": "stderr",
     "output_type": "stream",
     "text": [
      " 52%|█████▏    | 261/500 [01:50<01:38,  2.44it/s]"
     ]
    },
    {
     "name": "stdout",
     "output_type": "stream",
     "text": [
      "\u001b[4A\n",
      "Epoch :        260,     409.8960 ms elapsed\n",
      "loss = 0            (min = 0           )  \taccuracy = 1          (max = 1         )\n",
      "loss = 0.25574      (min = 0.059815    )  \taccuracy = 0.916      (max = 0.936     )\n"
     ]
    },
    {
     "name": "stderr",
     "output_type": "stream",
     "text": [
      " 54%|█████▍    | 271/500 [01:54<01:34,  2.43it/s]"
     ]
    },
    {
     "name": "stdout",
     "output_type": "stream",
     "text": [
      "\u001b[4A\n",
      "Epoch :        270,     411.4690 ms elapsed\n",
      "loss = 0            (min = 0           )  \taccuracy = 1          (max = 1         )\n",
      "loss = 0.25963      (min = 0.059815    )  \taccuracy = 0.916      (max = 0.936     )\n"
     ]
    },
    {
     "name": "stderr",
     "output_type": "stream",
     "text": [
      " 56%|█████▌    | 281/500 [01:58<01:29,  2.45it/s]"
     ]
    },
    {
     "name": "stdout",
     "output_type": "stream",
     "text": [
      "\u001b[4A\n",
      "Epoch :        280,     409.1350 ms elapsed\n",
      "loss = 0            (min = 0           )  \taccuracy = 1          (max = 1         )\n",
      "loss = 0.26336      (min = 0.059815    )  \taccuracy = 0.916      (max = 0.936     )\n"
     ]
    },
    {
     "name": "stderr",
     "output_type": "stream",
     "text": [
      " 58%|█████▊    | 291/500 [02:02<01:25,  2.44it/s]"
     ]
    },
    {
     "name": "stdout",
     "output_type": "stream",
     "text": [
      "\u001b[4A\n",
      "Epoch :        290,     405.7580 ms elapsed\n",
      "loss = 0            (min = 0           )  \taccuracy = 1          (max = 1         )\n",
      "loss = 0.26549      (min = 0.059815    )  \taccuracy = 0.916      (max = 0.936     )\n"
     ]
    },
    {
     "name": "stderr",
     "output_type": "stream",
     "text": [
      " 60%|██████    | 301/500 [02:06<01:21,  2.45it/s]"
     ]
    },
    {
     "name": "stdout",
     "output_type": "stream",
     "text": [
      "\u001b[4A\n",
      "Epoch :        300,     408.8990 ms elapsed\n",
      "loss = 0            (min = 0           )  \taccuracy = 1          (max = 1         )\n",
      "loss = 0.26722      (min = 0.059815    )  \taccuracy = 0.916      (max = 0.936     )\n"
     ]
    },
    {
     "name": "stderr",
     "output_type": "stream",
     "text": [
      " 62%|██████▏   | 311/500 [02:10<01:17,  2.44it/s]"
     ]
    },
    {
     "name": "stdout",
     "output_type": "stream",
     "text": [
      "\u001b[4A\n",
      "Epoch :        310,     410.2480 ms elapsed\n",
      "loss = 0            (min = 0           )  \taccuracy = 1          (max = 1         )\n",
      "loss = 0.26945      (min = 0.059815    )  \taccuracy = 0.916      (max = 0.936     )\n"
     ]
    },
    {
     "name": "stderr",
     "output_type": "stream",
     "text": [
      " 64%|██████▍   | 321/500 [02:14<01:13,  2.45it/s]"
     ]
    },
    {
     "name": "stdout",
     "output_type": "stream",
     "text": [
      "\u001b[4A\n",
      "Epoch :        320,     404.6940 ms elapsed\n",
      "loss = 0            (min = 0           )  \taccuracy = 1          (max = 1         )\n",
      "loss = 0.27129      (min = 0.059815    )  \taccuracy = 0.916      (max = 0.936     )\n"
     ]
    },
    {
     "name": "stderr",
     "output_type": "stream",
     "text": [
      " 66%|██████▌   | 331/500 [02:18<01:09,  2.45it/s]"
     ]
    },
    {
     "name": "stdout",
     "output_type": "stream",
     "text": [
      "\u001b[4A\n",
      "Epoch :        330,     407.9640 ms elapsed\n",
      "loss = 0            (min = 0           )  \taccuracy = 1          (max = 1         )\n",
      "loss = 0.27277      (min = 0.059815    )  \taccuracy = 0.916      (max = 0.936     )\n"
     ]
    },
    {
     "name": "stderr",
     "output_type": "stream",
     "text": [
      " 68%|██████▊   | 341/500 [02:23<01:09,  2.27it/s]"
     ]
    },
    {
     "name": "stdout",
     "output_type": "stream",
     "text": [
      "\u001b[4A\n",
      "Epoch :        340,     416.4180 ms elapsed\n",
      "loss = 0            (min = 0           )  \taccuracy = 1          (max = 1         )\n",
      "loss = 0.27427      (min = 0.059815    )  \taccuracy = 0.916      (max = 0.936     )\n"
     ]
    },
    {
     "name": "stderr",
     "output_type": "stream",
     "text": [
      " 70%|███████   | 351/500 [02:27<01:06,  2.24it/s]"
     ]
    },
    {
     "name": "stdout",
     "output_type": "stream",
     "text": [
      "\u001b[4A\n",
      "Epoch :        350,     445.0060 ms elapsed\n",
      "loss = 0            (min = 0           )  \taccuracy = 1          (max = 1         )\n",
      "loss = 0.27552      (min = 0.059815    )  \taccuracy = 0.916      (max = 0.936     )\n"
     ]
    },
    {
     "name": "stderr",
     "output_type": "stream",
     "text": [
      " 72%|███████▏  | 361/500 [02:32<00:59,  2.35it/s]"
     ]
    },
    {
     "name": "stdout",
     "output_type": "stream",
     "text": [
      "\u001b[4A\n",
      "Epoch :        360,     408.6190 ms elapsed\n",
      "loss = 0            (min = 0           )  \taccuracy = 1          (max = 1         )\n",
      "loss = 0.27681      (min = 0.059815    )  \taccuracy = 0.916      (max = 0.936     )\n"
     ]
    },
    {
     "name": "stderr",
     "output_type": "stream",
     "text": [
      " 74%|███████▍  | 371/500 [02:36<00:54,  2.36it/s]"
     ]
    },
    {
     "name": "stdout",
     "output_type": "stream",
     "text": [
      "\u001b[4A\n",
      "Epoch :        370,     412.5840 ms elapsed\n",
      "loss = 0            (min = 0           )  \taccuracy = 1          (max = 1         )\n",
      "loss = 0.27808      (min = 0.059815    )  \taccuracy = 0.918      (max = 0.936     )\n"
     ]
    },
    {
     "name": "stderr",
     "output_type": "stream",
     "text": [
      " 76%|███████▌  | 381/500 [02:40<00:50,  2.38it/s]"
     ]
    },
    {
     "name": "stdout",
     "output_type": "stream",
     "text": [
      "\u001b[4A\n",
      "Epoch :        380,     417.0290 ms elapsed\n",
      "loss = 0            (min = 0           )  \taccuracy = 1          (max = 1         )\n",
      "loss = 0.27882      (min = 0.059815    )  \taccuracy = 0.918      (max = 0.936     )\n"
     ]
    },
    {
     "name": "stderr",
     "output_type": "stream",
     "text": [
      " 78%|███████▊  | 391/500 [02:44<00:46,  2.37it/s]"
     ]
    },
    {
     "name": "stdout",
     "output_type": "stream",
     "text": [
      "\u001b[4A\n",
      "Epoch :        390,     411.1700 ms elapsed\n",
      "loss = 0            (min = 0           )  \taccuracy = 1          (max = 1         )\n",
      "loss = 0.27956      (min = 0.059815    )  \taccuracy = 0.918      (max = 0.936     )\n"
     ]
    },
    {
     "name": "stderr",
     "output_type": "stream",
     "text": [
      " 80%|████████  | 401/500 [02:48<00:41,  2.37it/s]"
     ]
    },
    {
     "name": "stdout",
     "output_type": "stream",
     "text": [
      "\u001b[4A\n",
      "Epoch :        400,     419.0740 ms elapsed\n",
      "loss = 0            (min = 0           )  \taccuracy = 1          (max = 1         )\n",
      "loss = 0.28056      (min = 0.059815    )  \taccuracy = 0.918      (max = 0.936     )\n"
     ]
    },
    {
     "name": "stderr",
     "output_type": "stream",
     "text": [
      " 82%|████████▏ | 411/500 [02:53<00:40,  2.19it/s]"
     ]
    },
    {
     "name": "stdout",
     "output_type": "stream",
     "text": [
      "\u001b[4A\n",
      "Epoch :        410,     457.9800 ms elapsed\n",
      "loss = 0            (min = 0           )  \taccuracy = 1          (max = 1         )\n",
      "loss = 0.28113      (min = 0.059815    )  \taccuracy = 0.918      (max = 0.936     )\n"
     ]
    },
    {
     "name": "stderr",
     "output_type": "stream",
     "text": [
      " 84%|████████▍ | 421/500 [02:57<00:34,  2.28it/s]"
     ]
    },
    {
     "name": "stdout",
     "output_type": "stream",
     "text": [
      "\u001b[4A\n",
      "Epoch :        420,     435.0940 ms elapsed\n",
      "loss = 0            (min = 0           )  \taccuracy = 1          (max = 1         )\n",
      "loss = 0.28206      (min = 0.059815    )  \taccuracy = 0.918      (max = 0.936     )\n"
     ]
    },
    {
     "name": "stderr",
     "output_type": "stream",
     "text": [
      " 86%|████████▌ | 431/500 [03:02<00:31,  2.23it/s]"
     ]
    },
    {
     "name": "stdout",
     "output_type": "stream",
     "text": [
      "\u001b[4A\n",
      "Epoch :        430,     440.0850 ms elapsed\n",
      "loss = 0            (min = 0           )  \taccuracy = 1          (max = 1         )\n",
      "loss = 0.28257      (min = 0.059815    )  \taccuracy = 0.918      (max = 0.936     )\n"
     ]
    },
    {
     "name": "stderr",
     "output_type": "stream",
     "text": [
      " 88%|████████▊ | 441/500 [03:07<00:26,  2.23it/s]"
     ]
    },
    {
     "name": "stdout",
     "output_type": "stream",
     "text": [
      "\u001b[4A\n",
      "Epoch :        440,     425.6790 ms elapsed\n",
      "loss = 0            (min = 0           )  \taccuracy = 1          (max = 1         )\n",
      "loss = 0.28326      (min = 0.059815    )  \taccuracy = 0.918      (max = 0.936     )\n"
     ]
    },
    {
     "name": "stderr",
     "output_type": "stream",
     "text": [
      " 90%|█████████ | 451/500 [03:11<00:24,  1.98it/s]"
     ]
    },
    {
     "name": "stdout",
     "output_type": "stream",
     "text": [
      "\u001b[4A\n",
      "Epoch :        450,     524.6380 ms elapsed\n",
      "loss = 0            (min = 0           )  \taccuracy = 1          (max = 1         )\n",
      "loss = 0.28384      (min = 0.059815    )  \taccuracy = 0.918      (max = 0.936     )\n"
     ]
    },
    {
     "name": "stderr",
     "output_type": "stream",
     "text": [
      " 92%|█████████▏| 461/500 [03:16<00:17,  2.29it/s]"
     ]
    },
    {
     "name": "stdout",
     "output_type": "stream",
     "text": [
      "\u001b[4A\n",
      "Epoch :        460,     412.0790 ms elapsed\n",
      "loss = 0            (min = 0           )  \taccuracy = 1          (max = 1         )\n",
      "loss = 0.28449      (min = 0.059815    )  \taccuracy = 0.918      (max = 0.936     )\n"
     ]
    },
    {
     "name": "stderr",
     "output_type": "stream",
     "text": [
      " 94%|█████████▍| 471/500 [03:20<00:12,  2.29it/s]"
     ]
    },
    {
     "name": "stdout",
     "output_type": "stream",
     "text": [
      "\u001b[4A\n",
      "Epoch :        470,     421.2020 ms elapsed\n",
      "loss = 0            (min = 0           )  \taccuracy = 1          (max = 1         )\n",
      "loss = 0.28495      (min = 0.059815    )  \taccuracy = 0.918      (max = 0.936     )\n"
     ]
    },
    {
     "name": "stderr",
     "output_type": "stream",
     "text": [
      " 96%|█████████▌| 481/500 [03:25<00:08,  2.34it/s]"
     ]
    },
    {
     "name": "stdout",
     "output_type": "stream",
     "text": [
      "\u001b[4A\n",
      "Epoch :        480,     424.3360 ms elapsed\n",
      "loss = 0            (min = 0           )  \taccuracy = 1          (max = 1         )\n",
      "loss = 0.2856       (min = 0.059815    )  \taccuracy = 0.918      (max = 0.936     )\n"
     ]
    },
    {
     "name": "stderr",
     "output_type": "stream",
     "text": [
      " 98%|█████████▊| 491/500 [03:29<00:03,  2.36it/s]"
     ]
    },
    {
     "name": "stdout",
     "output_type": "stream",
     "text": [
      "\u001b[4A\n",
      "Epoch :        490,     432.7300 ms elapsed\n",
      "loss = 0            (min = 0           )  \taccuracy = 1          (max = 1         )\n",
      "loss = 0.28605      (min = 0.059815    )  \taccuracy = 0.918      (max = 0.936     )\n"
     ]
    },
    {
     "name": "stderr",
     "output_type": "stream",
     "text": [
      "100%|██████████| 500/500 [03:33<00:00,  2.25it/s]"
     ]
    },
    {
     "name": "stdout",
     "output_type": "stream",
     "text": [
      "Finished Training\n",
      "Saving models...\n"
     ]
    },
    {
     "name": "stderr",
     "output_type": "stream",
     "text": [
      "\n"
     ]
    }
   ],
   "source": [
    "criterion = nn.CrossEntropyLoss()\n",
    "optimizer = optim.Adam(tailored_cnn.parameters(), lr=0.001)\n",
    "stats = snn.learningStats()\n",
    "## Training\n",
    "# training loop\n",
    "for epoch in tqdm(range(EPOCH)):\n",
    "    # Reset training stats.\n",
    "    stats.training.reset()\n",
    "    tSt = datetime.now()\n",
    "    tailored_cnn.train()    \n",
    "    # Training loop.\n",
    "    for i, data in enumerate(trainloader, 0):\n",
    "        # get the inputs; data is a list of [inputs, labels]\n",
    "        inputs, labels = data[0].to(device), data[1].to(device)\n",
    "\n",
    "        # zero the parameter gradients\n",
    "        optimizer.zero_grad()\n",
    "\n",
    "        # forward + backward + optimize\n",
    "        outputs = tailored_cnn(inputs)\n",
    "        \n",
    "        loss = criterion(outputs, labels)\n",
    "        \n",
    "        loss.backward()\n",
    "        \n",
    "        optimizer.step()\n",
    "\n",
    "        # Gather training loss stats.\n",
    "        stats.training.lossSum += loss.cpu().data.item()\n",
    "\n",
    "        # Gather the training stats.\n",
    "        _, predicted = torch.max(outputs.data, 1)\n",
    "        \n",
    "        stats.training.correctSamples += torch.sum(predicted == labels).data.item()\n",
    "        stats.training.numSamples += len(labels)\n",
    "\n",
    "        # Display training stats.\n",
    "        # if i%10 == 0: stats.print(epoch, i, (datetime.now() - tSt).total_seconds())\n",
    "    # Update training stats.\n",
    "    stats.training.update()\n",
    "    # Reset testing stats.\n",
    "    stats.testing.reset()\n",
    "    tailored_cnn.eval()    \n",
    "    # Testing loop.\n",
    "    # Same steps as Training loops except loss backpropagation and weight update.\n",
    "    for i, data in enumerate(testloader, 0):\n",
    "        inputs, labels = data[0].to(device), data[1].to(device)\n",
    "\n",
    "        outputs = tailored_cnn.forward(inputs)\n",
    "        _, predicted = torch.max(outputs.data, 1)\n",
    "\n",
    "        stats.testing.correctSamples += torch.sum(predicted == labels).data.item()\n",
    "        stats.testing.numSamples += len(labels)\n",
    "\n",
    "        loss = criterion(outputs, labels)\n",
    "        stats.testing.lossSum += loss.cpu().data.item()\n",
    "        \n",
    "        # if i%10 == 0: stats.print(epoch, i)\n",
    "\n",
    "\n",
    "    # Update stats.\n",
    "    stats.testing.update()\n",
    "    if epoch%10==0:  stats.print(epoch, timeElapsed=(datetime.now() - tSt).total_seconds())\n",
    "\n",
    "print('Finished Training')\n",
    "save_model('tailor_cnn', tailored_cnn)"
   ]
  },
  {
   "cell_type": "code",
   "execution_count": 27,
   "metadata": {},
   "outputs": [
    {
     "data": {
      "image/png": "[encoded data removed]",
      "text/plain": [
       "<Figure size 432x288 with 1 Axes>"
      ]
     },
     "metadata": {
      "needs_background": "light"
     },
     "output_type": "display_data"
    },
    {
     "data": {
      "image/png": "[encoded data removed]",
      "text/plain": [
       "<Figure size 432x288 with 1 Axes>"
      ]
     },
     "metadata": {
      "needs_background": "light"
     },
     "output_type": "display_data"
    }
   ],
   "source": [
    "# Plot the results.\n",
    "plt.figure(1)\n",
    "plt.semilogy(stats.training.lossLog, label='Training')\n",
    "plt.semilogy(stats.testing.lossLog, label='Testing')\n",
    "plt.xlabel('Epoch')\n",
    "plt.ylabel('Loss')\n",
    "plt.legend()\n",
    "\n",
    "plt.figure(2)\n",
    "plt.plot(stats.training.accuracyLog, label='Training')\n",
    "plt.plot(stats.testing.accuracyLog, label='Testing')\n",
    "plt.xlabel('Epoch')\n",
    "plt.ylabel('Accuracy')\n",
    "plt.legend()\n",
    "\n",
    "plt.show()"
   ]
  },
  {
   "cell_type": "code",
   "execution_count": 28,
   "metadata": {},
   "outputs": [
    {
     "name": "stdout",
     "output_type": "stream",
     "text": [
      "Accuracy of the network on the 10000 test images: 91 %\n"
     ]
    }
   ],
   "source": [
    "test_acc(testloader, tailored_cnn)"
   ]
  },
  {
   "cell_type": "code",
   "execution_count": 29,
   "metadata": {},
   "outputs": [],
   "source": [
    "load_model('tailor_cnn', tailored_cnn)"
   ]
  },
  {
   "cell_type": "markdown",
   "metadata": {},
   "source": [
    "# how to access the weights for each layer"
   ]
  },
  {
   "cell_type": "code",
   "execution_count": 30,
   "metadata": {},
   "outputs": [
    {
     "name": "stdout",
     "output_type": "stream",
     "text": [
      "Layer conv1.weight\n",
      "torch.Size([12, 1, 5, 5])\n",
      "Layer conv2.weight\n",
      "torch.Size([64, 12, 5, 5])\n",
      "Layer fc1.weight\n",
      "torch.Size([10, 2304])\n"
     ]
    }
   ],
   "source": [
    "for k in iter(tailored_cnn.state_dict()):\n",
    "    print(\"Layer {}\".format(k))\n",
    "    print(tailored_cnn.state_dict()[k].shape)"
   ]
  },
  {
   "cell_type": "code",
   "execution_count": 31,
   "metadata": {},
   "outputs": [
    {
     "data": {
      "text/plain": [
       "OrderedDict([('conv1.weight',\n",
       "              tensor([[[[-0.0720,  0.2392,  0.2181,  0.0532,  0.2760],\n",
       "                        [ 0.3195,  0.3805,  0.5051,  0.3752,  0.2410],\n",
       "                        [ 0.0789,  0.4169,  0.4111,  0.1030,  0.1592],\n",
       "                        [ 0.0211,  0.3118,  0.2989,  0.0875,  0.1523],\n",
       "                        [ 0.1148,  0.1689, -0.0975, -0.2469, -0.2345]]],\n",
       "              \n",
       "              \n",
       "                      [[[-0.1299, -0.2203, -0.1893, -0.0390,  0.0571],\n",
       "                        [ 0.1845, -0.1001,  0.1539, -0.0259,  0.3271],\n",
       "                        [ 0.1931,  0.1292,  0.3173,  0.4069,  0.3780],\n",
       "                        [ 0.1548,  0.3684,  0.4479,  0.5769,  0.2614],\n",
       "                        [-0.0347, -0.0011,  0.0641,  0.4637,  0.0597]]],\n",
       "              \n",
       "              \n",
       "                      [[[ 0.2774,  0.3690,  0.4362,  0.4219,  0.3936],\n",
       "                        [ 0.0350,  0.2315,  0.4570,  0.4341,  0.0970],\n",
       "                        [-0.0939, -0.0992,  0.2931,  0.2118,  0.1548],\n",
       "                        [ 0.0864, -0.1027, -0.2094, -0.0590, -0.0562],\n",
       "                        [-0.3430, -0.3156, -0.2389, -0.1083,  0.0626]]],\n",
       "              \n",
       "              \n",
       "                      [[[-0.0370,  0.2795,  0.3876,  0.3757,  0.4524],\n",
       "                        [ 0.2027,  0.3652,  0.5067,  0.4173,  0.1653],\n",
       "                        [ 0.0202,  0.0752,  0.1225,  0.0614,  0.1407],\n",
       "                        [-0.0928,  0.2745,  0.1225, -0.0725, -0.1779],\n",
       "                        [-0.0705,  0.2174,  0.0044, -0.0903, -0.1445]]],\n",
       "              \n",
       "              \n",
       "                      [[[ 0.0281, -0.1991,  0.0828, -0.1033,  0.1828],\n",
       "                        [-0.2655, -0.0931, -0.0052,  0.2949,  0.0709],\n",
       "                        [-0.1147, -0.1140, -0.0608,  0.3001,  0.0051],\n",
       "                        [-0.0395,  0.2191,  0.2011,  0.2943,  0.4585],\n",
       "                        [-0.0034,  0.0866,  0.3108,  0.1744,  0.3876]]],\n",
       "              \n",
       "              \n",
       "                      [[[ 0.2036,  0.4150,  0.2176,  0.4036,  0.3073],\n",
       "                        [ 0.1029,  0.2528,  0.0660,  0.1830,  0.1537],\n",
       "                        [-0.0918,  0.0408,  0.1322,  0.3140,  0.2935],\n",
       "                        [-0.2183, -0.1628, -0.0345, -0.2096, -0.0214],\n",
       "                        [-0.2120, -0.3284, -0.2213,  0.1046, -0.1205]]],\n",
       "              \n",
       "              \n",
       "                      [[[ 0.0418,  0.2086,  0.2446, -0.0666, -0.1485],\n",
       "                        [ 0.1071,  0.2951,  0.2868,  0.0029,  0.1321],\n",
       "                        [ 0.2618,  0.2580,  0.2674,  0.4308,  0.3859],\n",
       "                        [ 0.0385,  0.2154,  0.3119,  0.3832,  0.0584],\n",
       "                        [ 0.0830, -0.0208,  0.1928,  0.1540,  0.1427]]],\n",
       "              \n",
       "              \n",
       "                      [[[ 0.0180,  0.3385,  0.4206,  0.3951,  0.3154],\n",
       "                        [ 0.1822,  0.1915,  0.5263,  0.3129,  0.0479],\n",
       "                        [ 0.3549,  0.4511,  0.2192,  0.3468,  0.0032],\n",
       "                        [-0.0252,  0.2290,  0.1907, -0.0113,  0.1065],\n",
       "                        [-0.2091,  0.0221, -0.1126,  0.0475, -0.0024]]],\n",
       "              \n",
       "              \n",
       "                      [[[ 0.0378,  0.4015,  0.4434,  0.1429,  0.0064],\n",
       "                        [ 0.1717,  0.1947,  0.4394,  0.5198,  0.3560],\n",
       "                        [ 0.2494,  0.3229,  0.1435,  0.2814,  0.1907],\n",
       "                        [-0.2054,  0.0421,  0.1714,  0.0429, -0.0212],\n",
       "                        [-0.3051, -0.1815,  0.1505, -0.0895,  0.1702]]],\n",
       "              \n",
       "              \n",
       "                      [[[ 0.1815,  0.0447, -0.0538, -0.0701, -0.2117],\n",
       "                        [ 0.2058,  0.0476, -0.0902, -0.1159, -0.0946],\n",
       "                        [ 0.1178,  0.2654,  0.0913,  0.3260,  0.3114],\n",
       "                        [ 0.4876,  0.5665,  0.5124,  0.1275,  0.3267],\n",
       "                        [ 0.3936,  0.2398,  0.3601,  0.0785,  0.3334]]],\n",
       "              \n",
       "              \n",
       "                      [[[-0.1711, -0.2215,  0.0997,  0.2006,  0.1981],\n",
       "                        [-0.1528, -0.0940,  0.0562,  0.0759,  0.1430],\n",
       "                        [-0.0278,  0.2855,  0.2315,  0.3875,  0.1115],\n",
       "                        [ 0.4085,  0.5193,  0.4240,  0.1095,  0.1496],\n",
       "                        [ 0.4000,  0.3159,  0.3228,  0.3209, -0.0699]]],\n",
       "              \n",
       "              \n",
       "                      [[[-0.2040,  0.0990, -0.1182,  0.2560,  0.0471],\n",
       "                        [-0.2821,  0.1045,  0.2506,  0.2408,  0.3377],\n",
       "                        [-0.1007, -0.2319, -0.1016,  0.0582,  0.4137],\n",
       "                        [-0.2583, -0.1043, -0.0413,  0.4025,  0.1630],\n",
       "                        [-0.0939,  0.1757, -0.0382,  0.2706,  0.1297]]]], device='cuda:0')),\n",
       "             ('conv2.weight',\n",
       "              tensor([[[[-5.2728e-02,  1.4850e-02,  6.6585e-02,  5.2932e-02,  1.1128e-01],\n",
       "                        [ 9.5246e-02,  9.6526e-02,  7.0983e-02,  9.3057e-02,  1.0962e-01],\n",
       "                        [ 4.3667e-02, -1.1425e-03, -8.8509e-02, -6.0646e-02, -3.3169e-02],\n",
       "                        [ 3.7402e-03, -1.0553e-01, -1.2650e-01, -1.7311e-01, -9.5105e-02],\n",
       "                        [ 1.1198e-01, -3.7846e-02, -2.9515e-02, -4.1501e-02,  7.6217e-02]],\n",
       "              \n",
       "                       [[ 5.6526e-02,  6.1166e-02,  1.0656e-01,  1.0314e-01,  1.1394e-01],\n",
       "                        [ 1.5241e-01,  1.3346e-01,  4.6430e-03,  5.0193e-02, -3.1329e-02],\n",
       "                        [-3.3878e-02, -1.6499e-01, -1.7861e-01, -1.6709e-01, -4.0628e-02],\n",
       "                        [ 7.2773e-02, -7.8174e-02, -1.8878e-02,  4.2130e-02,  1.2703e-01],\n",
       "                        [ 1.3088e-01,  3.4436e-02, -1.9639e-03,  1.3673e-01, -5.6962e-03]],\n",
       "              \n",
       "                       [[-1.4489e-01, -4.6495e-03,  6.4335e-02,  1.0923e-01,  1.0053e-01],\n",
       "                        [ 9.5443e-02,  5.4469e-02,  1.5517e-01,  2.1327e-01,  1.3753e-01],\n",
       "                        [ 8.0612e-02,  9.9985e-02,  3.2930e-02,  1.0381e-01,  4.8739e-02],\n",
       "                        [-5.4455e-02, -9.7951e-02, -1.5215e-01, -1.8607e-01, -9.9486e-02],\n",
       "                        [ 3.9906e-02, -4.7002e-02, -1.1371e-02, -5.3928e-02, -4.3837e-03]],\n",
       "              \n",
       "                       ...,\n",
       "              \n",
       "                       [[ 1.4903e-01,  5.0506e-02,  1.0296e-01,  7.0539e-02,  4.0177e-02],\n",
       "                        [-2.1294e-02, -4.0763e-02, -7.4305e-02, -6.9900e-02, -7.1290e-02],\n",
       "                        [-6.6811e-02, -6.4265e-02, -1.4956e-01, -9.0833e-02, -1.3133e-01],\n",
       "                        [ 1.1660e-01,  5.5453e-02, -6.0434e-02, -3.5528e-02,  4.4349e-02],\n",
       "                        [ 1.1446e-01,  1.6529e-02, -2.7450e-02, -6.4620e-02, -7.2674e-02]],\n",
       "              \n",
       "                       [[ 1.0108e-01,  1.4856e-01,  1.2567e-01,  1.0035e-01,  2.1344e-02],\n",
       "                        [ 1.6881e-02,  4.4056e-02,  3.7828e-02, -3.8083e-02,  3.1985e-03],\n",
       "                        [ 2.9350e-02, -9.1047e-02, -1.4629e-01, -1.5536e-01, -4.3132e-02],\n",
       "                        [ 1.0583e-01, -6.3549e-02, -5.2690e-02, -4.5133e-03,  7.4426e-02],\n",
       "                        [ 1.3084e-01, -4.4895e-02, -4.8669e-02, -4.9229e-03,  4.8588e-02]],\n",
       "              \n",
       "                       [[-1.1511e-03,  1.2228e-01,  1.8053e-01,  8.8945e-02,  3.2687e-02],\n",
       "                        [ 5.2578e-02, -4.0248e-02,  6.7983e-02,  5.4966e-02, -1.3643e-02],\n",
       "                        [ 5.2285e-03, -3.9255e-02, -4.6759e-02,  7.8946e-03,  3.7805e-02],\n",
       "                        [-1.6333e-02, -1.5595e-01, -7.0436e-02,  9.5925e-02,  4.3326e-02],\n",
       "                        [ 4.4774e-02, -4.9240e-04,  1.2199e-02,  1.0543e-01,  2.8412e-02]]],\n",
       "              \n",
       "              \n",
       "                      [[[-1.5574e-02, -1.8893e-02,  6.5459e-02, -6.4878e-02, -1.3718e-01],\n",
       "                        [-9.2613e-03, -7.4856e-02, -1.7595e-02, -1.3346e-01, -2.3135e-02],\n",
       "                        [-3.0330e-02,  2.6135e-02,  5.2427e-02, -1.2711e-02,  3.5059e-02],\n",
       "                        [-9.2772e-03,  5.6005e-02,  1.0001e-01,  1.3640e-01,  8.0779e-02],\n",
       "                        [-2.9884e-02,  4.2372e-02,  1.6556e-01,  5.3294e-02,  7.4775e-02]],\n",
       "              \n",
       "                       [[-6.9755e-02,  8.0834e-02, -8.6464e-02, -1.2376e-01, -4.7865e-02],\n",
       "                        [ 2.7528e-03,  8.3811e-02, -1.2898e-02, -6.2154e-02,  9.2318e-03],\n",
       "                        [-3.2233e-03,  1.2589e-01,  7.5919e-02,  1.6513e-01,  2.1475e-02],\n",
       "                        [ 3.5585e-02,  1.1648e-01,  5.7969e-02,  8.8513e-02,  5.3678e-02],\n",
       "                        [-9.6169e-02,  3.6352e-02, -4.6890e-02,  4.4985e-02, -2.0460e-02]],\n",
       "              \n",
       "                       [[-6.3692e-02,  1.0863e-02, -5.4489e-02, -1.1296e-01, -5.4585e-02],\n",
       "                        [-5.0535e-02,  1.7655e-02, -6.8464e-02, -1.6626e-01, -7.4840e-02],\n",
       "                        [ 3.5482e-02,  1.0032e-01, -1.3108e-01, -1.9260e-01, -8.9548e-03],\n",
       "                        [ 5.9388e-02,  5.1808e-02,  6.8465e-02,  8.9060e-02,  5.9516e-02],\n",
       "                        [ 1.6514e-02,  7.6524e-02,  1.8164e-01,  6.9358e-02,  3.3964e-02]],\n",
       "              \n",
       "                       ...,\n",
       "              \n",
       "                       [[-8.2951e-02, -5.3965e-02, -2.8672e-02, -7.7506e-02, -1.5409e-01],\n",
       "                        [ 2.8610e-02,  1.3718e-02,  6.3643e-02,  5.2654e-02, -1.0872e-01],\n",
       "                        [-1.7865e-02, -4.1305e-02,  7.1040e-02,  9.5744e-02,  5.3493e-02],\n",
       "                        [-1.0167e-01, -4.4096e-02,  1.3743e-01,  1.2367e-01,  2.7145e-02],\n",
       "                        [-3.2404e-02, -1.0531e-01,  3.2233e-02, -3.5345e-02,  6.3798e-02]],\n",
       "              \n",
       "                       [[-5.1282e-02,  5.2622e-02, -3.4498e-02, -1.5058e-01, -7.0074e-02],\n",
       "                        [ 3.6640e-02,  6.7754e-02,  2.9497e-02, -5.6830e-02,  1.1394e-02],\n",
       "                        [ 2.8739e-02,  7.9481e-02, -1.4329e-02,  6.1464e-02,  7.8037e-02],\n",
       "                        [-2.5627e-02,  2.3454e-03,  5.5088e-02,  5.7725e-02,  6.2660e-02],\n",
       "                        [-2.7209e-02,  6.2365e-03,  1.1621e-02, -6.4670e-02, -5.5069e-02]],\n",
       "              \n",
       "                       [[-9.1681e-03,  9.2796e-02, -1.5066e-01, -2.4945e-02,  8.7980e-03],\n",
       "                        [ 7.7436e-02,  1.0653e-01, -9.3248e-02, -1.3893e-02,  5.6939e-02],\n",
       "                        [ 1.0438e-01,  1.1465e-01,  9.2858e-03, -2.3021e-02, -6.7689e-02],\n",
       "                        [ 7.7666e-02,  1.9443e-01,  8.8322e-02, -2.9225e-02, -1.7145e-02],\n",
       "                        [-6.2428e-02,  6.9104e-02,  6.3287e-02, -3.5934e-02, -6.9376e-02]]],\n",
       "              \n",
       "              \n",
       "                      [[[ 1.0661e-01, -8.3938e-02, -3.8048e-02,  6.5029e-02, -1.9645e-02],\n",
       "                        [ 1.4285e-01, -1.5791e-02, -4.5464e-02, -8.9773e-02, -2.5665e-02],\n",
       "                        [ 1.8454e-01,  2.7532e-02, -1.4543e-02,  2.6360e-02, -4.1311e-02],\n",
       "                        [ 1.8006e-01,  1.1340e-01,  1.5369e-02,  5.2378e-02,  8.3198e-02],\n",
       "                        [ 6.0459e-02, -2.0582e-02, -4.1490e-02, -8.7464e-02, -5.3751e-02]],\n",
       "              \n",
       "                       [[-9.2417e-02, -4.4391e-02,  9.5777e-03, -3.1487e-02, -1.1737e-02],\n",
       "                        [ 1.1697e-01,  2.3932e-03,  5.6071e-04,  2.0026e-03, -2.2946e-02],\n",
       "                        [ 3.5130e-02,  1.2214e-01,  2.5018e-02,  2.6459e-02,  1.1720e-01],\n",
       "                        [ 1.3637e-02, -5.4542e-04,  1.2027e-01,  6.5767e-02,  6.1598e-02],\n",
       "                        [-1.9444e-01, -1.2608e-01, -8.5466e-02, -2.0472e-01, -5.9661e-02]],\n",
       "              \n",
       "                       [[-1.4615e-01, -1.5390e-01, -7.7325e-03, -8.4599e-05, -6.0613e-02],\n",
       "                        [-1.2745e-01, -1.0428e-01, -3.2896e-02,  5.4321e-02, -1.5738e-02],\n",
       "                        [-6.4457e-03, -2.3915e-02, -6.7661e-02,  3.9978e-02,  4.8986e-02],\n",
       "                        [ 1.7659e-01,  7.5908e-02,  1.1647e-01,  7.2921e-02,  1.5756e-01],\n",
       "                        [ 1.2565e-01,  1.6554e-01,  1.1858e-01,  4.6910e-02,  1.4006e-02]],\n",
       "              \n",
       "                       ...,\n",
       "              \n",
       "                       [[ 1.4080e-01,  3.7198e-02, -9.5094e-02, -6.5620e-02,  4.2341e-03],\n",
       "                        [ 1.8162e-01,  3.1720e-02,  3.6354e-02,  1.2987e-02,  6.5587e-02],\n",
       "                        [ 1.9771e-01,  9.4334e-02,  7.5674e-02,  1.0598e-01,  1.1266e-01],\n",
       "                        [ 1.8777e-02, -4.0730e-02,  3.1643e-03, -6.1002e-02, -2.2375e-02],\n",
       "                        [-3.2528e-02, -1.4695e-01, -1.5204e-01, -1.0753e-01, -9.3605e-02]],\n",
       "              \n",
       "                       [[ 3.3233e-02, -7.5031e-02,  2.7285e-02, -6.1516e-02, -1.9801e-02],\n",
       "                        [ 9.0206e-02,  1.0229e-01,  4.3218e-02, -5.0418e-02,  1.6433e-02],\n",
       "                        [ 1.2238e-01,  2.6509e-02,  3.3862e-02,  3.6791e-02,  3.1218e-02],\n",
       "                        [ 2.4843e-03, -3.7117e-02,  2.2542e-02, -2.8297e-02,  1.7692e-02],\n",
       "                        [-7.2054e-02, -1.6726e-01, -1.1261e-01, -9.4414e-02, -1.0842e-01]],\n",
       "              \n",
       "                       [[-1.7672e-01, -8.3015e-02,  5.0557e-02,  2.9114e-02, -6.3361e-02],\n",
       "                        [-1.8542e-01, -1.4869e-01, -3.4619e-02,  9.5747e-02, -5.5717e-02],\n",
       "                        [-3.5346e-02, -1.1190e-01, -7.5940e-02,  8.1142e-02,  2.2785e-02],\n",
       "                        [-4.3028e-02, -3.4103e-02, -2.1014e-03,  6.7612e-03,  4.7601e-03],\n",
       "                        [-5.5770e-02,  9.4021e-02, -6.1962e-02, -1.1137e-01,  1.1470e-01]]],\n",
       "              \n",
       "              \n",
       "                      ...,\n",
       "              \n",
       "              \n",
       "                      [[[ 5.0630e-02,  8.8920e-03,  3.7568e-02,  1.0662e-02,  1.8594e-02],\n",
       "                        [-1.0011e-02, -3.7149e-03, -1.2495e-01,  4.0053e-03,  1.5343e-01],\n",
       "                        [-6.3097e-02, -7.8028e-02, -8.8232e-02,  2.1405e-02,  1.4363e-01],\n",
       "                        [ 1.1897e-01,  1.2739e-01,  1.0678e-01,  4.1803e-02,  3.6251e-02],\n",
       "                        [ 1.3992e-01,  1.2687e-01,  3.4267e-02, -6.3900e-02, -2.7981e-04]],\n",
       "              \n",
       "                       [[ 7.4454e-02,  5.5855e-03,  5.0628e-03,  1.0011e-01,  6.4950e-02],\n",
       "                        [-1.0421e-01, -2.5104e-01, -1.2986e-01,  4.4710e-02,  7.6952e-03],\n",
       "                        [ 6.6091e-02, -8.3744e-03,  4.2765e-02,  9.4126e-02, -5.9610e-02],\n",
       "                        [ 1.6876e-01,  1.5434e-01,  1.2235e-01,  4.2292e-02, -1.6227e-01],\n",
       "                        [-3.2264e-03, -7.3313e-03, -6.0233e-02, -5.3705e-02, -7.7900e-02]],\n",
       "              \n",
       "                       [[ 7.7443e-02,  1.8242e-02,  7.4330e-02, -1.8076e-02, -1.1000e-01],\n",
       "                        [ 3.5248e-02,  5.0592e-02,  7.1144e-02,  3.7977e-02,  6.9893e-03],\n",
       "                        [-1.3538e-01, -1.2170e-01, -9.1924e-02,  5.7326e-02,  1.0933e-01],\n",
       "                        [ 8.7237e-02,  1.6580e-02, -3.7639e-02,  3.7300e-02,  9.2290e-02],\n",
       "                        [ 1.9213e-01,  1.8546e-01,  1.1167e-01,  1.1374e-01, -4.2469e-02]],\n",
       "              \n",
       "                       ...,\n",
       "              \n",
       "                       [[ 2.6598e-02, -5.6302e-02, -1.0468e-02, -3.1562e-02,  1.0992e-01],\n",
       "                        [-1.2004e-01, -1.5804e-01, -8.5404e-02,  2.0723e-02,  2.7870e-02],\n",
       "                        [ 1.0789e-01,  7.9105e-02,  4.8218e-02,  4.1389e-02,  4.1145e-02],\n",
       "                        [ 1.1662e-01,  7.1068e-02,  6.6210e-02, -8.4832e-02,  2.9194e-02],\n",
       "                        [-1.1232e-02, -1.9918e-02, -1.1399e-01, -1.2641e-01, -3.6824e-02]],\n",
       "              \n",
       "                       [[-6.4826e-02, -2.6286e-02,  9.2491e-03,  2.0539e-02,  2.0024e-02],\n",
       "                        [-6.7523e-02, -1.2777e-01, -1.1610e-01,  4.6704e-02,  9.1134e-02],\n",
       "                        [ 8.8500e-02, -3.7651e-03,  1.0717e-01,  1.2604e-01,  1.2538e-02],\n",
       "                        [ 4.3482e-02,  7.0270e-02,  3.2544e-02,  4.6832e-03,  7.5673e-03],\n",
       "                        [-5.7103e-02, -1.1089e-01, -8.6100e-02, -4.4601e-02, -6.3628e-02]],\n",
       "              \n",
       "                       [[ 4.0197e-02, -8.2174e-02, -3.0473e-05,  9.0460e-02,  2.1349e-02],\n",
       "                        [-3.8984e-02, -1.5120e-01,  1.7463e-02,  2.1974e-01,  4.7081e-02],\n",
       "                        [-1.2398e-01, -8.2306e-02,  4.4582e-02,  2.3951e-01,  5.7130e-02],\n",
       "                        [-2.8293e-02, -9.1949e-02, -8.4174e-02,  4.1436e-02, -2.5086e-02],\n",
       "                        [-7.6619e-02, -5.5021e-02, -2.9503e-02,  2.3037e-02, -7.0482e-02]]],\n",
       "              \n",
       "              \n",
       "                      [[[-3.9302e-03,  4.7369e-02,  3.5340e-02, -4.2070e-02, -3.5507e-02],\n",
       "                        [-5.8119e-03,  1.2834e-01,  1.5811e-02,  6.1350e-02, -2.0180e-02],\n",
       "                        [-5.5549e-02, -1.2645e-02, -1.0993e-01, -4.4673e-02,  4.9580e-03],\n",
       "                        [-5.7451e-02, -1.4769e-01, -1.7303e-01,  3.9094e-02,  9.8073e-02],\n",
       "                        [ 6.5121e-02, -3.2776e-02, -6.2411e-02,  6.7748e-02,  4.5948e-02]],\n",
       "              \n",
       "                       [[ 1.2239e-01,  6.6044e-02,  4.4632e-02,  1.1963e-01,  3.7740e-03],\n",
       "                        [ 8.6748e-02,  5.6045e-03,  3.9769e-02,  6.1954e-02,  1.0165e-01],\n",
       "                        [-6.8773e-02, -2.2290e-01, -1.8844e-01, -4.5945e-02,  5.4772e-02],\n",
       "                        [ 3.6521e-02, -1.4937e-01,  2.3825e-02,  1.2243e-01, -1.0851e-01],\n",
       "                        [ 1.3150e-01,  1.6527e-01,  1.8659e-01,  2.0522e-01, -1.0155e-01]],\n",
       "              \n",
       "                       [[ 4.5017e-02,  6.0950e-02,  8.1275e-02, -2.9563e-02, -1.5290e-01],\n",
       "                        [ 6.3522e-02,  9.2558e-02,  7.7899e-02,  8.9218e-02, -6.9143e-02],\n",
       "                        [ 8.4685e-02,  1.2484e-01,  1.2000e-01,  1.0456e-01,  1.8541e-02],\n",
       "                        [-6.1883e-02, -1.1916e-01, -1.6829e-01, -9.6650e-02, -3.8826e-02],\n",
       "                        [ 8.7088e-03, -1.2823e-01, -1.2473e-01, -6.6291e-02, -4.7358e-02]],\n",
       "              \n",
       "                       ...,\n",
       "              \n",
       "                       [[ 4.2388e-02,  2.7253e-02,  1.1039e-01,  1.0703e-01,  6.3701e-02],\n",
       "                        [-6.4431e-02, -5.4311e-02,  3.8859e-02, -4.6527e-02, -1.5277e-02],\n",
       "                        [-1.2676e-01, -1.1238e-01, -1.2159e-01, -9.1598e-02,  1.6139e-02],\n",
       "                        [ 5.5742e-03, -7.4255e-03,  1.4853e-02, -7.6131e-04,  1.5301e-02],\n",
       "                        [ 1.4002e-01,  1.3722e-01,  1.3303e-01,  1.1876e-01,  5.6571e-02]],\n",
       "              \n",
       "                       [[ 5.4127e-02,  1.0765e-02,  7.6762e-02,  6.6819e-02,  2.3174e-02],\n",
       "                        [-4.7384e-02,  6.3298e-02, -9.1703e-02, -1.1769e-01,  4.5678e-02],\n",
       "                        [ 2.0788e-02, -7.0636e-02, -1.7167e-01, -5.9130e-02,  7.3027e-02],\n",
       "                        [ 1.1282e-01,  2.1600e-02,  9.8242e-03,  1.0460e-01,  1.0431e-01],\n",
       "                        [ 3.4975e-02,  9.7015e-02,  1.3706e-01,  1.6240e-01,  6.3287e-02]],\n",
       "              \n",
       "                       [[ 8.2571e-02,  2.1367e-01, -1.3322e-03, -3.3776e-02, -5.0500e-02],\n",
       "                        [ 1.7839e-01,  1.1975e-01,  1.8968e-02, -8.0952e-03,  6.4937e-02],\n",
       "                        [ 8.9224e-02, -1.9839e-01, -4.9384e-02,  1.5941e-01,  1.1104e-01],\n",
       "                        [-2.0020e-02, -1.2925e-01,  1.1378e-01,  1.8547e-01, -2.6914e-02],\n",
       "                        [ 5.7126e-02,  1.3048e-03,  1.6747e-01,  1.2759e-01, -1.9902e-01]]],\n",
       "              \n",
       "              \n",
       "                      [[[-6.1360e-02, -1.2717e-01, -1.5476e-01, -1.7281e-02,  1.2311e-01],\n",
       "                        [ 6.5823e-03,  1.8287e-02,  6.4214e-02,  1.3972e-01,  7.1374e-02],\n",
       "                        [-6.5702e-03, -1.9174e-03,  1.0534e-01,  8.9374e-02, -3.2854e-02],\n",
       "                        [ 9.4844e-03, -1.8965e-02, -5.7571e-02, -1.2983e-01, -6.1359e-02],\n",
       "                        [ 4.5316e-02, -1.3477e-02, -6.0074e-02,  8.7552e-03,  6.6929e-02]],\n",
       "              \n",
       "                       [[-8.9628e-02, -6.8812e-02, -7.1502e-03,  9.1060e-02,  1.3664e-02],\n",
       "                        [ 6.2702e-02,  1.4006e-01,  2.1226e-01,  1.2140e-01,  3.4515e-02],\n",
       "                        [ 3.1794e-02,  6.1799e-02, -2.5682e-02, -2.6202e-02, -8.4430e-02],\n",
       "                        [-1.4424e-02, -1.0105e-02, -1.1283e-01, -6.8263e-02, -1.2140e-02],\n",
       "                        [ 9.0426e-02,  5.5550e-02,  4.9002e-02,  1.0069e-01,  1.5148e-01]],\n",
       "              \n",
       "                       [[ 1.6585e-02, -8.5674e-02, -1.6350e-01,  8.4567e-03,  8.5826e-02],\n",
       "                        [-1.1630e-01, -3.9255e-02, -5.1635e-02,  9.8432e-02,  4.7115e-02],\n",
       "                        [ 5.9070e-02,  8.6669e-02,  1.8361e-01,  1.3025e-01,  1.7292e-02],\n",
       "                        [-8.4458e-02, -4.2077e-02,  5.1777e-02, -5.5031e-03, -1.1897e-01],\n",
       "                        [-1.5292e-02, -8.3545e-02, -5.7565e-02, -7.2908e-02, -8.2020e-02]],\n",
       "              \n",
       "                       ...,\n",
       "              \n",
       "                       [[-4.5770e-02, -1.1724e-02,  1.4028e-02,  6.1165e-02,  7.4128e-02],\n",
       "                        [ 8.8101e-04,  2.0929e-02,  1.0569e-01,  1.6107e-02, -5.3443e-03],\n",
       "                        [-5.0012e-03, -8.2352e-02, -1.1801e-01, -7.7178e-02, -9.4543e-02],\n",
       "                        [-3.5398e-02, -2.0720e-02, -9.6726e-02, -5.3897e-02, -1.6501e-03],\n",
       "                        [ 1.0304e-01,  3.5502e-02,  9.6570e-02,  1.1330e-01,  6.4453e-02]],\n",
       "              \n",
       "                       [[-7.5392e-02, -1.0769e-01, -3.3423e-02,  9.1872e-02,  1.4027e-01],\n",
       "                        [-3.1739e-02,  5.5136e-02,  1.1460e-01,  1.3308e-01,  1.3224e-02],\n",
       "                        [ 7.9895e-03, -3.7773e-02,  8.6614e-03, -2.9510e-02, -1.0671e-01],\n",
       "                        [ 5.0725e-02,  4.1185e-02,  3.9633e-02, -1.1479e-01, -7.2954e-02],\n",
       "                        [-1.8504e-03,  1.1906e-01,  5.3093e-02,  1.1180e-01,  1.0565e-01]],\n",
       "              \n",
       "                       [[-9.9255e-02, -9.8606e-02,  1.5201e-01,  1.8483e-01,  9.6358e-02],\n",
       "                        [-8.9184e-02,  5.2010e-02,  7.7062e-02, -2.9050e-02, -2.3780e-02],\n",
       "                        [-4.2307e-02,  6.6401e-02,  3.0288e-02,  1.8759e-02, -7.8052e-02],\n",
       "                        [-1.9187e-02,  1.5600e-02, -1.1114e-01, -3.3981e-03,  6.6065e-03],\n",
       "                        [ 8.3589e-02,  7.6572e-02, -4.7580e-02,  6.2644e-02,  4.0682e-02]]]],\n",
       "                     device='cuda:0')),\n",
       "             ('fc1.weight',\n",
       "              tensor([[ 0.0362,  0.0366, -0.0250,  ...,  0.0154, -0.0195,  0.0357],\n",
       "                      [-0.1906, -0.0335,  0.0557,  ...,  0.0493, -0.1335, -0.0944],\n",
       "                      [ 0.0085, -0.0807, -0.1550,  ..., -0.1290,  0.0008,  0.0830],\n",
       "                      ...,\n",
       "                      [ 0.0132,  0.0516, -0.0620,  ..., -0.0405, -0.0735, -0.0824],\n",
       "                      [-0.0323,  0.0426, -0.0191,  ..., -0.0601, -0.0032, -0.0773],\n",
       "                      [ 0.0132, -0.0328,  0.0171,  ..., -0.0137, -0.0307, -0.0185]],\n",
       "                     device='cuda:0'))])"
      ]
     },
     "execution_count": 31,
     "metadata": {},
     "output_type": "execute_result"
    }
   ],
   "source": [
    "tailored_cnn.state_dict()"
   ]
  }
 ],
 "metadata": {
  "kernelspec": {
   "display_name": "Python 3",
   "language": "python",
   "name": "python3"
  },
  "language_info": {
   "codemirror_mode": {
    "name": "ipython",
    "version": 3
   },
   "file_extension": ".py",
   "mimetype": "text/x-python",
   "name": "python",
   "nbconvert_exporter": "python",
   "pygments_lexer": "ipython3",
   "version": "3.6.8"
  }
 },
 "nbformat": 4,
 "nbformat_minor": 2
}
