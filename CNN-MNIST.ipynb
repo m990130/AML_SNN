{
 "cells": [
  {
   "cell_type": "code",
   "execution_count": null,
   "metadata": {},
   "outputs": [],
   "source": [
    "import torch\n",
    "import torch.nn as nn\n",
    "import torch.nn.functional as F\n",
    "import torch.optim as optim\n",
    "from torchvision import datasets, transforms\n",
    "from lib.datasets.mnistdataset import MNIST500\n",
    "import torchvision.transforms.functional as tvF\n",
    "import lib.snn as snn\n",
    "from datetime import datetime\n"
   ]
  },
  {
   "cell_type": "code",
   "execution_count": 2,
   "metadata": {},
   "outputs": [],
   "source": [
    "import matplotlib\n",
    "#matplotlib.use('Inline')\n",
    "import matplotlib.pyplot as plt\n",
    "from tqdm import tqdm"
   ]
  },
  {
   "cell_type": "markdown",
   "metadata": {},
   "source": [
    "## Prepare Data\n",
    "* download data, prepare DataLoader\n",
    "* prepocess:\n",
    "    1. Color transform. (RGB to YUV; for mnist Grey to RGB to YUV)\n",
    "        * for mnist, no preprocessing, since it is in gray value\n",
    "        * for Cifar-10, RGB and scale to [0.0, 1.0]. No abs\n",
    "        \n",
    "    2. RandomResizedCrop(size=24) for Cifar-10"
   ]
  },
  {
   "cell_type": "code",
   "execution_count": 3,
   "metadata": {},
   "outputs": [],
   "source": [
    "def save_model(name, model):\n",
    "    print(\"Saving models...\")\n",
    "    model.eval()\n",
    "\n",
    "    save_model_filename = 'saved_models/' + name + '.pt'\n",
    "\n",
    "    torch.save(model.state_dict(), save_model_filename)\n",
    "    \n",
    "def load_model(name, model):\n",
    "    model.load_state_dict(torch.load('saved_models/' + name + '.pt'))\n",
    "    \n",
    "def test_acc(dataloader ,model):\n",
    "    correct = 0\n",
    "    total = 0\n",
    "    with torch.no_grad():\n",
    "        for data in dataloader:\n",
    "            images, labels =  data[0].to(device), data[1].to(device)\n",
    "            outputs = model(images)\n",
    "            _, predicted = torch.max(outputs.data, 1)\n",
    "            total += labels.size(0)\n",
    "            correct += (predicted == labels).sum().item()\n",
    "\n",
    "    print('Accuracy of the network on the 10000 test images: %d %%' % (\n",
    "        100 * correct / total))\n"
   ]
  },
  {
   "cell_type": "code",
   "execution_count": 4,
   "metadata": {},
   "outputs": [],
   "source": [
    "BATCH_SIZE  = 4\n",
    "\n",
    "EPOCH = 100\n",
    "\n",
    "use_cuda = torch.cuda.is_available()\n",
    "\n",
    "torch.manual_seed(1024)\n",
    "\n",
    "device = torch.device(\"cuda\" if use_cuda else \"cpu\")\n",
    "\n",
    "kwargs = {'num_workers': 1, 'pin_memory': True} if use_cuda else {}"
   ]
  },
  {
   "cell_type": "code",
   "execution_count": 5,
   "metadata": {
    "code_folding": [
     0.0
    ]
   },
   "outputs": [],
   "source": [
    "# # MNIST\n",
    "# train_loader = torch.utils.data.DataLoader(\n",
    "#     datasets.MNIST('./data', train=True, download=True,\n",
    "#                    transform=transforms.Compose([\n",
    "#                        transforms.ToTensor(),\n",
    "#                        transforms.Normalize((0.1307,), (0.3081,)),\n",
    "#                        # the Abs was done here\n",
    "#                        transforms.Lambda(lambda x: x.abs()),\n",
    "#                    ])),\n",
    "#     batch_size=BATCH_SIZE, shuffle=True, **kwargs)\n",
    "\n",
    "# test_loader = torch.utils.data.DataLoader(\n",
    "#     datasets.MNIST('./data', train=False, \n",
    "#                    transform=transforms.Compose([\n",
    "#                        transforms.ToTensor(),\n",
    "#                        transforms.Normalize((0.1307,), (0.3081,)),\n",
    "#                        transforms.Lambda(lambda x: x.abs()),\n",
    "#                    ])),\n",
    "#     batch_size=BATCH_SIZE, shuffle=True, **kwargs)"
   ]
  },
  {
   "cell_type": "code",
   "execution_count": 6,
   "metadata": {},
   "outputs": [],
   "source": [
    "class Identity(): # used for skipping transforms\n",
    "    def __call__(self, im):\n",
    "        return im\n",
    "    \n",
    "def transform_cifar(is_train):\n",
    "    \n",
    "    return transforms.Compose([\n",
    "                                transforms.RandomCrop(size=24) if is_train else Identity(),\n",
    "                                transforms.RandomHorizontalFlip(p=0.5) if is_train else Identity(),\n",
    "                                transforms.CenterCrop(size=24) if not is_train else Identity(),\n",
    "                                transforms.ToTensor(),\n",
    "                                #transforms.Normalize((0.5, 0.5, 0.5), (0.5, 0.5, 0.5)),\n",
    "                                #transforms.Lambda(lambda x: x.abs()),\n",
    "                            ])\n",
    "\n",
    "class ConvLayer(torch.nn.Module):\n",
    "    \"\"\"\n",
    "        out = ((in+2*padding-(kernel_size-1)-1)/stride)+1\n",
    "        \n",
    "        when kernel_size is: odd number, the output is only affected by stride\n",
    "                             even number, use the formula.\n",
    "        \n",
    "        For example: if kernel size is odd, and with stride 1 then out = in, but\n",
    "        channel changes. With stride 2, out is halved.\n",
    "    \"\"\"\n",
    "    def __init__(self, in_channels, out_channels, kernel_size, stride):\n",
    "        super(ConvLayer, self).__init__()\n",
    "        reflection_padding = kernel_size // 2\n",
    "        self.reflection_pad = torch.nn.ReflectionPad2d(reflection_padding)\n",
    "        self.conv2d = torch.nn.Conv2d(in_channels, out_channels, kernel_size, stride)\n",
    "\n",
    "    def forward(self, x):\n",
    "        out = self.reflection_pad(x)\n",
    "        out = self.conv2d(out)\n",
    "        return out"
   ]
  },
  {
   "cell_type": "code",
   "execution_count": 7,
   "metadata": {},
   "outputs": [],
   "source": [
    "# Cifar-10\n",
    "\n",
    "is_train = True\n",
    "\n",
    "trainset = MNIST500(datasetPath='./data', train=True)\n",
    "\n",
    "trainloader = torch.utils.data.DataLoader(trainset, batch_size=BATCH_SIZE,\n",
    "                                          shuffle=True, num_workers=2)\n",
    "\n",
    "is_train = False\n",
    "\n",
    "testset = MNIST500(datasetPath='./data', train=False)\n",
    "\n",
    "testloader = torch.utils.data.DataLoader(testset, batch_size=BATCH_SIZE,\n",
    "                                         shuffle=False, num_workers=2)\n",
    "\n",
    "classes = ('zero', 'one', 'two', 'three',\n",
    "           'four', 'five', 'six', 'seven', 'eight', 'nine')\n",
    "\n",
    "# Learning stats instance.\n",
    "stats = snn.learningStats()"
   ]
  },
  {
   "cell_type": "code",
   "execution_count": 8,
   "metadata": {},
   "outputs": [],
   "source": [
    "data, label = next(iter(trainloader))"
   ]
  },
  {
   "cell_type": "code",
   "execution_count": 9,
   "metadata": {},
   "outputs": [
    {
     "data": {
      "text/plain": [
       "tensor(1.)"
      ]
     },
     "execution_count": 9,
     "metadata": {},
     "output_type": "execute_result"
    }
   ],
   "source": [
    "torch.max(data[:10])"
   ]
  },
  {
   "cell_type": "code",
   "execution_count": 10,
   "metadata": {},
   "outputs": [
    {
     "data": {
      "image/png": "[encoded data removed]",
      "text/plain": [
       "<Figure size 432x288 with 1 Axes>"
      ]
     },
     "metadata": {
      "needs_background": "light"
     },
     "output_type": "display_data"
    }
   ],
   "source": [
    "idx = 2\n",
    "plt.imshow(data[idx].permute(1,2,0).squeeze())\n",
    "plt.title(classes[label[idx]])\n",
    "plt.show()"
   ]
  },
  {
   "cell_type": "code",
   "execution_count": 31,
   "metadata": {},
   "outputs": [],
   "source": [
    "class Raw_CNN(nn.Module):\n",
    "    def __init__(self):\n",
    "        super(Raw_CNN, self).__init__()\n",
    "        self.conv1 = nn.Conv2d(1, 12, 5, padding=1, bias=True)\n",
    "        self.conv2 = nn.Conv2d(12, 64, 5, padding=1, bias=True)\n",
    "        self.m1 = nn.MaxPool2d(2)\n",
    "        self.m2 = nn.MaxPool2d(2,padding=1)\n",
    "        self.fc1 = nn.Linear(64 * 6 * 6, 10, bias=True)\n",
    "\n",
    "    def forward(self, x):\n",
    "        x = F.relu(self.conv1(x)) #(3, 24, 24) -> (64, 20, 20)\n",
    "        x = self.m1(x) #(64, 10, 10)\n",
    "        x = F.relu(self.conv2(x)) #(64, 6, 6)\n",
    "        x = self.m2(x) #(64, 3, 3)\n",
    "        x = x.view(-1, 64 * 6 * 6)    #(64*3*3)\n",
    "        x = self.fc1(x)\n",
    "        return F.log_softmax(x, dim=1)\n",
    "\n",
    "class Tailored_CNN(nn.Module):\n",
    "    def __init__(self):\n",
    "        super(Tailored_CNN, self).__init__()\n",
    "        self.conv1 = nn.Conv2d(1, 12, 5, padding=1, bias=False)\n",
    "        self.conv2 = nn.Conv2d(12, 64, 5, padding=1, bias=False)\n",
    "        self.a1 = nn.AvgPool2d(2)\n",
    "        self.a2 = nn.AvgPool2d(2,padding=1)\n",
    "        self.fc1 = nn.Linear(64 * 6 * 6, 10, bias=False)\n",
    "\n",
    "    def forward(self, x):\n",
    "        x = F.relu(self.conv1(x)) #(3, 24, 24) -> (64, 20, 20)\n",
    "        x = self.a1(x) #(64, 10, 10)\n",
    "        x = F.relu(self.conv2(x)) #(64, 6, 6)\n",
    "        x = self.a2(x) #(64, 3, 3)\n",
    "        x = x.view(-1, 64 * 6 * 6)    #(64*3*3)\n",
    "        x = self.fc1(x) #(10*1*1)\n",
    "        return F.log_softmax(x, dim=1)"
   ]
  },
  {
   "cell_type": "code",
   "execution_count": 32,
   "metadata": {},
   "outputs": [],
   "source": [
    "raw_cnn = Raw_CNN().to(device)"
   ]
  },
  {
   "cell_type": "code",
   "execution_count": 34,
   "metadata": {},
   "outputs": [
    {
     "name": "stderr",
     "output_type": "stream",
     "text": [
      "  1%|          | 1/100 [00:00<00:46,  2.14it/s]"
     ]
    },
    {
     "name": "stdout",
     "output_type": "stream",
     "text": [
      "\u001b[0A\n",
      "Epoch :          0,     467.0160 ms elapsed\n",
      "loss = 0.30528      (min = 0.30528     )  \taccuracy = 0.618      (max = 0.618     )\n",
      "loss = 0.16188      (min = 0.16188     )  \taccuracy = 0.786      (max = 0.786     )\n"
     ]
    },
    {
     "name": "stderr",
     "output_type": "stream",
     "text": [
      " 11%|█         | 11/100 [00:04<00:40,  2.22it/s]"
     ]
    },
    {
     "name": "stdout",
     "output_type": "stream",
     "text": [
      "\u001b[4A\n",
      "Epoch :         10,     448.1870 ms elapsed\n",
      "loss = 0.00032371   (min = 0.00032371  )  \taccuracy = 1          (max = 1         )\n",
      "loss = 0.051625     (min = 0.048427    )  \taccuracy = 0.936      (max = 0.936     )\n"
     ]
    },
    {
     "name": "stderr",
     "output_type": "stream",
     "text": [
      " 21%|██        | 21/100 [00:09<00:35,  2.22it/s]"
     ]
    },
    {
     "name": "stdout",
     "output_type": "stream",
     "text": [
      "\u001b[4A\n",
      "Epoch :         20,     451.2590 ms elapsed\n",
      "loss = 6.8769e-05   (min = 6.8769e-05  )  \taccuracy = 1          (max = 1         )\n",
      "loss = 0.056315     (min = 0.048427    )  \taccuracy = 0.938      (max = 0.94      )\n"
     ]
    },
    {
     "name": "stderr",
     "output_type": "stream",
     "text": [
      " 31%|███       | 31/100 [00:13<00:31,  2.21it/s]"
     ]
    },
    {
     "name": "stdout",
     "output_type": "stream",
     "text": [
      "\u001b[4A\n",
      "Epoch :         30,     448.2110 ms elapsed\n",
      "loss = 2.3645e-05   (min = 2.3645e-05  )  \taccuracy = 1          (max = 1         )\n",
      "loss = 0.059985     (min = 0.048427    )  \taccuracy = 0.936      (max = 0.94      )\n"
     ]
    },
    {
     "name": "stderr",
     "output_type": "stream",
     "text": [
      " 41%|████      | 41/100 [00:18<00:28,  2.11it/s]"
     ]
    },
    {
     "name": "stdout",
     "output_type": "stream",
     "text": [
      "\u001b[4A\n",
      "Epoch :         40,     459.6230 ms elapsed\n",
      "loss = 9.0716e-06   (min = 9.0716e-06  )  \taccuracy = 1          (max = 1         )\n",
      "loss = 0.063586     (min = 0.048427    )  \taccuracy = 0.94       (max = 0.942     )\n"
     ]
    },
    {
     "name": "stderr",
     "output_type": "stream",
     "text": [
      " 51%|█████     | 51/100 [00:23<00:22,  2.18it/s]"
     ]
    },
    {
     "name": "stdout",
     "output_type": "stream",
     "text": [
      "\u001b[4A\n",
      "Epoch :         50,     452.5870 ms elapsed\n",
      "loss = 3.2429e-06   (min = 3.2429e-06  )  \taccuracy = 1          (max = 1         )\n",
      "loss = 0.066026     (min = 0.048427    )  \taccuracy = 0.94       (max = 0.942     )\n"
     ]
    },
    {
     "name": "stderr",
     "output_type": "stream",
     "text": [
      " 61%|██████    | 61/100 [00:28<00:17,  2.20it/s]"
     ]
    },
    {
     "name": "stdout",
     "output_type": "stream",
     "text": [
      "\u001b[4A\n",
      "Epoch :         60,     449.4410 ms elapsed\n",
      "loss = 1.3142e-06   (min = 1.3142e-06  )  \taccuracy = 1          (max = 1         )\n",
      "loss = 0.068857     (min = 0.048427    )  \taccuracy = 0.94       (max = 0.942     )\n"
     ]
    },
    {
     "name": "stderr",
     "output_type": "stream",
     "text": [
      " 71%|███████   | 71/100 [00:32<00:13,  2.20it/s]"
     ]
    },
    {
     "name": "stdout",
     "output_type": "stream",
     "text": [
      "\u001b[4A\n",
      "Epoch :         70,     455.2570 ms elapsed\n",
      "loss = 5.6344e-07   (min = 5.6344e-07  )  \taccuracy = 1          (max = 1         )\n",
      "loss = 0.071407     (min = 0.048427    )  \taccuracy = 0.94       (max = 0.942     )\n"
     ]
    },
    {
     "name": "stderr",
     "output_type": "stream",
     "text": [
      " 81%|████████  | 81/100 [00:37<00:08,  2.17it/s]"
     ]
    },
    {
     "name": "stdout",
     "output_type": "stream",
     "text": [
      "\u001b[4A\n",
      "Epoch :         80,     453.1830 ms elapsed\n",
      "loss = 2.6238e-07   (min = 2.6238e-07  )  \taccuracy = 1          (max = 1         )\n",
      "loss = 0.074122     (min = 0.048427    )  \taccuracy = 0.94       (max = 0.942     )\n"
     ]
    },
    {
     "name": "stderr",
     "output_type": "stream",
     "text": [
      " 91%|█████████ | 91/100 [00:41<00:04,  2.19it/s]"
     ]
    },
    {
     "name": "stdout",
     "output_type": "stream",
     "text": [
      "\u001b[4A\n",
      "Epoch :         90,     452.1500 ms elapsed\n",
      "loss = 1.2559e-07   (min = 1.2559e-07  )  \taccuracy = 1          (max = 1         )\n",
      "loss = 0.077445     (min = 0.048427    )  \taccuracy = 0.942      (max = 0.942     )\n"
     ]
    },
    {
     "name": "stderr",
     "output_type": "stream",
     "text": [
      "100%|██████████| 100/100 [00:45<00:00,  2.19it/s]"
     ]
    },
    {
     "name": "stdout",
     "output_type": "stream",
     "text": [
      "Finished Training\n",
      "Saving models...\n"
     ]
    },
    {
     "name": "stderr",
     "output_type": "stream",
     "text": [
      "\n"
     ]
    }
   ],
   "source": [
    "criterion = nn.CrossEntropyLoss()\n",
    "optimizer = optim.Adam(raw_cnn.parameters(), lr=0.001)\n",
    "stats = snn.learningStats()\n",
    "\n",
    "## Training\n",
    "\n",
    "# training loop\n",
    "for epoch in tqdm(range(EPOCH)):\n",
    "    # Reset training stats.\n",
    "    stats.training.reset()\n",
    "    tSt = datetime.now()\n",
    "    raw_cnn.train()    \n",
    "    # Training loop.\n",
    "    for i, data in enumerate(trainloader, 0):\n",
    "        # get the inputs; data is a list of [inputs, labels]\n",
    "        inputs, labels = data[0].to(device), data[1].to(device)\n",
    "\n",
    "        # zero the parameter gradients\n",
    "        optimizer.zero_grad()\n",
    "\n",
    "        # forward + backward + optimize\n",
    "        outputs = raw_cnn(inputs)\n",
    "        \n",
    "        loss = criterion(outputs, labels)\n",
    "        \n",
    "        loss.backward()\n",
    "        \n",
    "        optimizer.step()\n",
    "\n",
    "        # Gather training loss stats.\n",
    "        stats.training.lossSum += loss.cpu().data.item()\n",
    "\n",
    "        # Gather the training stats.\n",
    "        _, predicted = torch.max(outputs.data, 1)\n",
    "        \n",
    "        stats.training.correctSamples += torch.sum(predicted == labels).data.item()\n",
    "        stats.training.numSamples += len(labels)\n",
    "\n",
    "        # Display training stats.\n",
    "        # if i%10 == 0: stats.print(epoch, i, (datetime.now() - tSt).total_seconds())\n",
    "    # Update training stats.\n",
    "    stats.training.update()\n",
    "    # Reset testing stats.\n",
    "    stats.testing.reset()\n",
    "    raw_cnn.eval()    \n",
    "    # Testing loop.\n",
    "    # Same steps as Training loops except loss backpropagation and weight update.\n",
    "    for i, data in enumerate(testloader, 0):\n",
    "        inputs, labels = data[0].to(device), data[1].to(device)\n",
    "\n",
    "        outputs = raw_cnn.forward(inputs)\n",
    "        _, predicted = torch.max(outputs.data, 1)\n",
    "\n",
    "        stats.testing.correctSamples += torch.sum(predicted == labels).data.item()\n",
    "        stats.testing.numSamples += len(label)\n",
    "\n",
    "        loss = criterion(outputs, labels)\n",
    "        stats.testing.lossSum += loss.cpu().data.item()\n",
    "        \n",
    "        # if i%10 == 0: stats.print(epoch, i)\n",
    "\n",
    "\n",
    "    # Update stats.\n",
    "    stats.testing.update()\n",
    "    if epoch%10==0:  stats.print(epoch, timeElapsed=(datetime.now() - tSt).total_seconds())\n",
    "print('Finished Training')\n",
    "save_model('raw_cnn', raw_cnn)"
   ]
  },
  {
   "cell_type": "code",
   "execution_count": 35,
   "metadata": {},
   "outputs": [
    {
     "name": "stdout",
     "output_type": "stream",
     "text": [
      "Accuracy of the network on the 10000 test images: 94 %\n"
     ]
    }
   ],
   "source": [
    "test_acc(testloader, raw_cnn)"
   ]
  },
  {
   "cell_type": "code",
   "execution_count": 36,
   "metadata": {},
   "outputs": [
    {
     "data": {
      "image/png": "[encoded data removed]",
      "text/plain": [
       "<Figure size 432x288 with 1 Axes>"
      ]
     },
     "metadata": {
      "needs_background": "light"
     },
     "output_type": "display_data"
    },
    {
     "data": {
      "image/png": "[encoded data removed]",
      "text/plain": [
       "<Figure size 432x288 with 1 Axes>"
      ]
     },
     "metadata": {
      "needs_background": "light"
     },
     "output_type": "display_data"
    }
   ],
   "source": [
    "# Plot the results.\n",
    "plt.figure(1)\n",
    "plt.semilogy(stats.training.lossLog, label='Training')\n",
    "plt.semilogy(stats.testing.lossLog, label='Testing')\n",
    "plt.xlabel('Epoch')\n",
    "plt.ylabel('Loss')\n",
    "plt.legend()\n",
    "\n",
    "plt.figure(2)\n",
    "plt.plot(stats.training.accuracyLog, label='Training')\n",
    "plt.plot(stats.testing.accuracyLog, label='Testing')\n",
    "plt.xlabel('Epoch')\n",
    "plt.ylabel('Accuracy')\n",
    "plt.legend()\n",
    "\n",
    "plt.show()"
   ]
  },
  {
   "cell_type": "code",
   "execution_count": 37,
   "metadata": {},
   "outputs": [],
   "source": [
    "tailored_cnn = Tailored_CNN().to(device)"
   ]
  },
  {
   "cell_type": "code",
   "execution_count": 38,
   "metadata": {
    "scrolled": true
   },
   "outputs": [
    {
     "name": "stderr",
     "output_type": "stream",
     "text": [
      "  1%|          | 1/100 [00:00<00:41,  2.39it/s]"
     ]
    },
    {
     "name": "stdout",
     "output_type": "stream",
     "text": [
      "\u001b[0A\n",
      "Epoch :          0,     418.3760 ms elapsed\n",
      "loss = 0.33083      (min = 0.33083     )  \taccuracy = 0.592      (max = 0.592     )\n",
      "loss = 0.18405      (min = 0.18405     )  \taccuracy = 0.758      (max = 0.758     )\n"
     ]
    },
    {
     "name": "stderr",
     "output_type": "stream",
     "text": [
      " 11%|█         | 11/100 [00:04<00:36,  2.45it/s]"
     ]
    },
    {
     "name": "stdout",
     "output_type": "stream",
     "text": [
      "\u001b[4A\n",
      "Epoch :         10,     405.5560 ms elapsed\n",
      "loss = 0.0018167    (min = 0.0018167   )  \taccuracy = 0.996      (max = 1         )\n",
      "loss = 0.06086      (min = 0.053523    )  \taccuracy = 0.938      (max = 0.938     )\n"
     ]
    },
    {
     "name": "stderr",
     "output_type": "stream",
     "text": [
      " 21%|██        | 21/100 [00:08<00:32,  2.46it/s]"
     ]
    },
    {
     "name": "stdout",
     "output_type": "stream",
     "text": [
      "\u001b[4A\n",
      "Epoch :         20,     406.6800 ms elapsed\n",
      "loss = 0.00010976   (min = 0.00010976  )  \taccuracy = 1          (max = 1         )\n",
      "loss = 0.072515     (min = 0.053523    )  \taccuracy = 0.936      (max = 0.942     )\n"
     ]
    },
    {
     "name": "stderr",
     "output_type": "stream",
     "text": [
      " 31%|███       | 31/100 [00:12<00:28,  2.42it/s]"
     ]
    },
    {
     "name": "stdout",
     "output_type": "stream",
     "text": [
      "\u001b[4A\n",
      "Epoch :         30,     422.0690 ms elapsed\n",
      "loss = 4.0491e-05   (min = 4.0491e-05  )  \taccuracy = 1          (max = 1         )\n",
      "loss = 0.080962     (min = 0.053523    )  \taccuracy = 0.934      (max = 0.942     )\n"
     ]
    },
    {
     "name": "stderr",
     "output_type": "stream",
     "text": [
      " 41%|████      | 41/100 [00:16<00:24,  2.45it/s]"
     ]
    },
    {
     "name": "stdout",
     "output_type": "stream",
     "text": [
      "\u001b[4A\n",
      "Epoch :         40,     406.1290 ms elapsed\n",
      "loss = 1.6732e-05   (min = 1.6732e-05  )  \taccuracy = 1          (max = 1         )\n",
      "loss = 0.089868     (min = 0.053523    )  \taccuracy = 0.936      (max = 0.942     )\n"
     ]
    },
    {
     "name": "stderr",
     "output_type": "stream",
     "text": [
      " 51%|█████     | 51/100 [00:20<00:20,  2.43it/s]"
     ]
    },
    {
     "name": "stdout",
     "output_type": "stream",
     "text": [
      "\u001b[4A\n",
      "Epoch :         50,     408.9730 ms elapsed\n",
      "loss = 7.4465e-06   (min = 7.4465e-06  )  \taccuracy = 1          (max = 1         )\n",
      "loss = 0.096803     (min = 0.053523    )  \taccuracy = 0.934      (max = 0.942     )\n"
     ]
    },
    {
     "name": "stderr",
     "output_type": "stream",
     "text": [
      " 61%|██████    | 61/100 [00:25<00:16,  2.31it/s]"
     ]
    },
    {
     "name": "stdout",
     "output_type": "stream",
     "text": [
      "\u001b[4A\n",
      "Epoch :         60,     436.7510 ms elapsed\n",
      "loss = 3.5117e-06   (min = 3.5117e-06  )  \taccuracy = 1          (max = 1         )\n",
      "loss = 0.10451      (min = 0.053523    )  \taccuracy = 0.932      (max = 0.942     )\n"
     ]
    },
    {
     "name": "stderr",
     "output_type": "stream",
     "text": [
      " 71%|███████   | 71/100 [00:29<00:12,  2.40it/s]"
     ]
    },
    {
     "name": "stdout",
     "output_type": "stream",
     "text": [
      "\u001b[4A\n",
      "Epoch :         70,     413.6990 ms elapsed\n",
      "loss = 1.798e-06    (min = 1.798e-06   )  \taccuracy = 1          (max = 1         )\n",
      "loss = 0.11227      (min = 0.053523    )  \taccuracy = 0.932      (max = 0.942     )\n"
     ]
    },
    {
     "name": "stderr",
     "output_type": "stream",
     "text": [
      " 81%|████████  | 81/100 [00:33<00:07,  2.40it/s]"
     ]
    },
    {
     "name": "stdout",
     "output_type": "stream",
     "text": [
      "\u001b[4A\n",
      "Epoch :         80,     411.7170 ms elapsed\n",
      "loss = 8.2992e-07   (min = 8.2992e-07  )  \taccuracy = 1          (max = 1         )\n",
      "loss = 0.11846      (min = 0.053523    )  \taccuracy = 0.932      (max = 0.942     )\n"
     ]
    },
    {
     "name": "stderr",
     "output_type": "stream",
     "text": [
      " 91%|█████████ | 91/100 [00:37<00:03,  2.38it/s]"
     ]
    },
    {
     "name": "stdout",
     "output_type": "stream",
     "text": [
      "\u001b[4A\n",
      "Epoch :         90,     411.9270 ms elapsed\n",
      "loss = 4.0316e-07   (min = 4.0316e-07  )  \taccuracy = 1          (max = 1         )\n",
      "loss = 0.12632      (min = 0.053523    )  \taccuracy = 0.932      (max = 0.942     )\n"
     ]
    },
    {
     "name": "stderr",
     "output_type": "stream",
     "text": [
      "100%|██████████| 100/100 [00:41<00:00,  2.37it/s]"
     ]
    },
    {
     "name": "stdout",
     "output_type": "stream",
     "text": [
      "Finished Training\n",
      "Saving models...\n"
     ]
    },
    {
     "name": "stderr",
     "output_type": "stream",
     "text": [
      "\n"
     ]
    }
   ],
   "source": [
    "criterion = nn.CrossEntropyLoss()\n",
    "optimizer = optim.Adam(tailored_cnn.parameters(), lr=0.001)\n",
    "stats = snn.learningStats()\n",
    "## Training\n",
    "# training loop\n",
    "for epoch in tqdm(range(EPOCH)):\n",
    "    # Reset training stats.\n",
    "    stats.training.reset()\n",
    "    tSt = datetime.now()\n",
    "    tailored_cnn.train()    \n",
    "    # Training loop.\n",
    "    for i, data in enumerate(trainloader, 0):\n",
    "        # get the inputs; data is a list of [inputs, labels]\n",
    "        inputs, labels = data[0].to(device), data[1].to(device)\n",
    "\n",
    "        # zero the parameter gradients\n",
    "        optimizer.zero_grad()\n",
    "\n",
    "        # forward + backward + optimize\n",
    "        outputs = tailored_cnn(inputs)\n",
    "        \n",
    "        loss = criterion(outputs, labels)\n",
    "        \n",
    "        loss.backward()\n",
    "        \n",
    "        optimizer.step()\n",
    "\n",
    "        # Gather training loss stats.\n",
    "        stats.training.lossSum += loss.cpu().data.item()\n",
    "\n",
    "        # Gather the training stats.\n",
    "        _, predicted = torch.max(outputs.data, 1)\n",
    "        \n",
    "        stats.training.correctSamples += torch.sum(predicted == labels).data.item()\n",
    "        stats.training.numSamples += len(labels)\n",
    "\n",
    "        # Display training stats.\n",
    "        # if i%10 == 0: stats.print(epoch, i, (datetime.now() - tSt).total_seconds())\n",
    "    # Update training stats.\n",
    "    stats.training.update()\n",
    "    # Reset testing stats.\n",
    "    stats.testing.reset()\n",
    "    tailored_cnn.eval()    \n",
    "    # Testing loop.\n",
    "    # Same steps as Training loops except loss backpropagation and weight update.\n",
    "    for i, data in enumerate(testloader, 0):\n",
    "        inputs, labels = data[0].to(device), data[1].to(device)\n",
    "\n",
    "        outputs = tailored_cnn.forward(inputs)\n",
    "        _, predicted = torch.max(outputs.data, 1)\n",
    "\n",
    "        stats.testing.correctSamples += torch.sum(predicted == labels).data.item()\n",
    "        stats.testing.numSamples += len(label)\n",
    "\n",
    "        loss = criterion(outputs, labels)\n",
    "        stats.testing.lossSum += loss.cpu().data.item()\n",
    "        \n",
    "        # if i%10 == 0: stats.print(epoch, i)\n",
    "\n",
    "\n",
    "    # Update stats.\n",
    "    stats.testing.update()\n",
    "    if epoch%10==0:  stats.print(epoch, timeElapsed=(datetime.now() - tSt).total_seconds())\n",
    "\n",
    "print('Finished Training')\n",
    "save_model('tailor_cnn', tailored_cnn)"
   ]
  },
  {
   "cell_type": "code",
   "execution_count": 42,
   "metadata": {},
   "outputs": [
    {
     "data": {
      "image/png": "[encoded data removed]",
      "text/plain": [
       "<Figure size 432x288 with 1 Axes>"
      ]
     },
     "metadata": {
      "needs_background": "light"
     },
     "output_type": "display_data"
    },
    {
     "data": {
      "image/png": "[encoded data removed]",
      "text/plain": [
       "<Figure size 432x288 with 1 Axes>"
      ]
     },
     "metadata": {
      "needs_background": "light"
     },
     "output_type": "display_data"
    }
   ],
   "source": [
    "# Plot the results.\n",
    "plt.figure(1)\n",
    "plt.semilogy(stats.training.lossLog, label='Training')\n",
    "plt.semilogy(stats.testing.lossLog, label='Testing')\n",
    "plt.xlabel('Epoch')\n",
    "plt.ylabel('Loss')\n",
    "plt.legend()\n",
    "\n",
    "plt.figure(2)\n",
    "plt.plot(stats.training.accuracyLog, label='Training')\n",
    "plt.plot(stats.testing.accuracyLog, label='Testing')\n",
    "plt.xlabel('Epoch')\n",
    "plt.ylabel('Accuracy')\n",
    "plt.legend()\n",
    "\n",
    "plt.show()"
   ]
  },
  {
   "cell_type": "code",
   "execution_count": 43,
   "metadata": {},
   "outputs": [
    {
     "name": "stdout",
     "output_type": "stream",
     "text": [
      "Accuracy of the network on the 10000 test images: 93 %\n"
     ]
    }
   ],
   "source": [
    "test_acc(testloader, tailored_cnn)"
   ]
  },
  {
   "cell_type": "code",
   "execution_count": 44,
   "metadata": {},
   "outputs": [],
   "source": [
    "load_model('tailor_cnn', tailored_cnn)"
   ]
  },
  {
   "cell_type": "markdown",
   "metadata": {},
   "source": [
    "# how to access the weights for each layer"
   ]
  },
  {
   "cell_type": "code",
   "execution_count": 45,
   "metadata": {},
   "outputs": [
    {
     "name": "stdout",
     "output_type": "stream",
     "text": [
      "Layer conv1.weight\n",
      "torch.Size([12, 1, 5, 5])\n",
      "Layer conv2.weight\n",
      "torch.Size([64, 12, 5, 5])\n",
      "Layer fc1.weight\n",
      "torch.Size([10, 2304])\n"
     ]
    }
   ],
   "source": [
    "for k in iter(tailored_cnn.state_dict()):\n",
    "    print(\"Layer {}\".format(k))\n",
    "    print(tailored_cnn.state_dict()[k].shape)"
   ]
  },
  {
   "cell_type": "code",
   "execution_count": 38,
   "metadata": {},
   "outputs": [
    {
     "data": {
      "text/plain": [
       "OrderedDict([('conv1.weight',\n",
       "              tensor([[[[-0.0148,  0.1083,  0.2091,  0.0521,  0.2172],\n",
       "                        [-0.0428,  0.1968,  0.2187,  0.3102,  0.1050],\n",
       "                        [-0.0264,  0.0270,  0.2343,  0.4080,  0.3028],\n",
       "                        [ 0.1264, -0.1512,  0.0053,  0.0594,  0.3287],\n",
       "                        [-0.2567, -0.1848,  0.0199,  0.2736,  0.1826]]],\n",
       "              \n",
       "              \n",
       "                      [[[-0.0434,  0.0501, -0.0453, -0.0645, -0.0099],\n",
       "                        [ 0.1126,  0.0540, -0.1087,  0.1727, -0.0813],\n",
       "                        [ 0.0325,  0.2856,  0.3630, -0.0363, -0.0229],\n",
       "                        [ 0.4693,  0.5071,  0.3312,  0.0737,  0.1089],\n",
       "                        [ 0.3859,  0.4826,  0.2852,  0.2652, -0.0162]]],\n",
       "              \n",
       "              \n",
       "                      [[[-0.0815, -0.1633,  0.0514, -0.1104,  0.1616],\n",
       "                        [ 0.2045,  0.1866,  0.2127,  0.2451,  0.1226],\n",
       "                        [ 0.1288,  0.2893,  0.3589,  0.1429,  0.2761],\n",
       "                        [ 0.0085, -0.0630,  0.1070,  0.2894,  0.4027],\n",
       "                        [-0.0775, -0.1386, -0.0815,  0.1485,  0.1899]]],\n",
       "              \n",
       "              \n",
       "                      [[[ 0.3264,  0.4687,  0.3963,  0.2757,  0.2356],\n",
       "                        [ 0.0734,  0.3856,  0.0485, -0.0735,  0.0411],\n",
       "                        [ 0.2759,  0.3379, -0.0380,  0.0111, -0.0873],\n",
       "                        [ 0.2451, -0.0973,  0.0203,  0.0474,  0.0269],\n",
       "                        [ 0.1069, -0.1847,  0.0986,  0.0530, -0.2129]]],\n",
       "              \n",
       "              \n",
       "                      [[[ 0.2918,  0.3635,  0.2511,  0.1267,  0.3449],\n",
       "                        [ 0.0578,  0.1555,  0.2601,  0.1176,  0.2466],\n",
       "                        [-0.0313, -0.0410, -0.0022,  0.2351, -0.0190],\n",
       "                        [-0.2703,  0.0561, -0.1459, -0.1917, -0.0275],\n",
       "                        [-0.1261, -0.1982, -0.2139, -0.0894,  0.1316]]],\n",
       "              \n",
       "              \n",
       "                      [[[ 0.2917,  0.2699,  0.0810, -0.1248, -0.1393],\n",
       "                        [ 0.1082,  0.3702,  0.1480, -0.1979, -0.1233],\n",
       "                        [ 0.1661,  0.2131,  0.1475, -0.1095, -0.2751],\n",
       "                        [ 0.1393,  0.3321,  0.1997,  0.1168, -0.0991],\n",
       "                        [ 0.1281,  0.1764, -0.1352, -0.1708, -0.2183]]],\n",
       "              \n",
       "              \n",
       "                      [[[-0.3407, -0.0093, -0.0290,  0.1646,  0.2966],\n",
       "                        [-0.3628, -0.1374, -0.0992,  0.2649,  0.1876],\n",
       "                        [-0.1985, -0.2281,  0.0540,  0.3164,  0.2127],\n",
       "                        [ 0.0483, -0.2032,  0.0531,  0.3022,  0.1903],\n",
       "                        [-0.1136, -0.1032,  0.2788,  0.1947, -0.0068]]],\n",
       "              \n",
       "              \n",
       "                      [[[-0.2845, -0.2807, -0.3614,  0.1592,  0.1572],\n",
       "                        [-0.4094, -0.2295, -0.1978, -0.0786, -0.0565],\n",
       "                        [ 0.0400,  0.0210,  0.0951, -0.0059,  0.3541],\n",
       "                        [-0.0157,  0.0861,  0.1017,  0.0889,  0.2912],\n",
       "                        [-0.0628,  0.2661,  0.2215,  0.2910,  0.4098]]],\n",
       "              \n",
       "              \n",
       "                      [[[ 0.1500,  0.4302,  0.3544,  0.4924,  0.1339],\n",
       "                        [ 0.0456,  0.1495,  0.1242,  0.1072,  0.1225],\n",
       "                        [ 0.1234, -0.0909, -0.0986, -0.0207,  0.0714],\n",
       "                        [-0.1262, -0.1718, -0.2858, -0.2180,  0.1131],\n",
       "                        [-0.3043, -0.3500, -0.1500, -0.0534, -0.1644]]],\n",
       "              \n",
       "              \n",
       "                      [[[ 0.2919,  0.2909,  0.3344,  0.3109,  0.1750],\n",
       "                        [ 0.0335,  0.1565,  0.3402,  0.1676,  0.2057],\n",
       "                        [-0.1075,  0.2238, -0.1185,  0.0890, -0.0803],\n",
       "                        [-0.1463, -0.2920, -0.2626,  0.1152,  0.0435],\n",
       "                        [-0.2385, -0.3779, -0.0789, -0.1738, -0.0039]]],\n",
       "              \n",
       "              \n",
       "                      [[[ 0.3730,  0.0083,  0.3101, -0.1836,  0.0044],\n",
       "                        [ 0.3375,  0.1913,  0.0501, -0.2274, -0.4546],\n",
       "                        [ 0.0741,  0.2306, -0.1472, -0.1625, -0.3015],\n",
       "                        [ 0.1628,  0.0583, -0.1188, -0.0025, -0.1656],\n",
       "                        [ 0.1259,  0.2943,  0.2380,  0.2154, -0.0618]]],\n",
       "              \n",
       "              \n",
       "                      [[[ 0.2426,  0.1607,  0.1977,  0.2344, -0.0171],\n",
       "                        [ 0.3455,  0.4174,  0.4007,  0.0417,  0.2452],\n",
       "                        [ 0.1848,  0.4742,  0.4233,  0.0926,  0.2415],\n",
       "                        [ 0.3253, -0.0006, -0.0173,  0.0729, -0.0411],\n",
       "                        [-0.0110,  0.1814, -0.0026, -0.1898, -0.0298]]]], device='cuda:0')),\n",
       "             ('conv2.weight',\n",
       "              tensor([[[[ 4.1754e-02,  8.8983e-02,  3.9691e-02, -9.0607e-02, -1.3030e-02],\n",
       "                        [ 6.1658e-02,  7.2088e-02,  1.5006e-02,  1.1004e-02, -6.0149e-02],\n",
       "                        [ 8.7992e-02,  9.1921e-02, -5.3252e-02, -6.4415e-02, -8.2053e-02],\n",
       "                        [ 6.5277e-02, -7.3546e-03, -8.7246e-02, -1.0190e-01, -6.2987e-02],\n",
       "                        [-5.8304e-02, -1.1032e-01, -1.3430e-01,  1.5333e-02, -3.1588e-02]],\n",
       "              \n",
       "                       [[ 2.6897e-02,  4.3576e-02,  1.4428e-01,  1.0734e-01,  5.4382e-02],\n",
       "                        [-7.0139e-02,  3.6215e-02,  1.0374e-01, -4.8586e-02, -1.2217e-01],\n",
       "                        [-1.0571e-01, -5.1911e-02,  2.6018e-02, -5.7977e-02, -8.6505e-02],\n",
       "                        [-6.5923e-02,  4.0603e-02, -7.8388e-02, -1.5038e-01, -1.1065e-01],\n",
       "                        [ 5.4769e-02,  1.6235e-02, -6.6369e-02, -8.5598e-03, -2.7070e-03]],\n",
       "              \n",
       "                       [[ 7.1444e-02,  7.8944e-02,  4.4152e-03, -4.6718e-02, -3.6286e-02],\n",
       "                        [ 9.5613e-02,  1.4550e-01,  1.1287e-01,  2.4132e-02,  5.6880e-02],\n",
       "                        [-5.7512e-03,  1.5531e-02, -6.9017e-02, -9.3583e-02, -9.8616e-02],\n",
       "                        [ 1.4181e-02, -2.4855e-02, -1.0222e-01, -9.8186e-02, -9.6046e-02],\n",
       "                        [-2.9646e-02, -5.5233e-02, -1.3090e-01, -1.7059e-02, -5.3490e-02]],\n",
       "              \n",
       "                       ...,\n",
       "              \n",
       "                       [[ 8.1105e-02, -9.0808e-02, -2.3183e-01, -9.5449e-02,  9.4156e-02],\n",
       "                        [ 8.1321e-02,  4.1344e-03, -3.6436e-02,  1.5401e-02,  6.4077e-02],\n",
       "                        [ 9.0572e-02,  1.6317e-01,  2.0319e-01,  9.3603e-02,  5.8458e-02],\n",
       "                        [ 1.3575e-01,  9.9181e-02,  5.4000e-02, -2.6245e-02, -1.3306e-01],\n",
       "                        [-1.5043e-02, -3.0064e-02, -1.5553e-01, -1.2026e-01, -7.0345e-02]],\n",
       "              \n",
       "                       [[-6.0140e-02,  1.1214e-01,  6.8258e-02,  8.5610e-03,  1.3667e-01],\n",
       "                        [-3.1914e-02, -1.5956e-02,  1.0464e-01,  1.1858e-01,  7.4366e-02],\n",
       "                        [-4.3408e-02,  1.2568e-01,  1.8177e-01,  4.7924e-02, -1.0417e-01],\n",
       "                        [ 3.2561e-02,  9.2588e-02,  8.6467e-02, -8.6021e-02, -1.3859e-01],\n",
       "                        [ 1.7385e-02,  8.8037e-02,  9.4959e-03, -1.3887e-01, -1.2271e-01]],\n",
       "              \n",
       "                       [[ 9.4057e-02,  4.1253e-02, -1.2369e-02,  8.9778e-02,  1.1478e-02],\n",
       "                        [ 8.7784e-02,  1.0263e-01,  1.5866e-01,  9.0655e-02, -3.2166e-02],\n",
       "                        [ 1.3386e-02,  1.1823e-02,  8.6299e-02,  4.5830e-02, -6.8180e-02],\n",
       "                        [-4.8742e-02,  7.2364e-03, -7.8044e-03, -9.0348e-02, -1.2467e-01],\n",
       "                        [-7.2389e-02, -4.6186e-02, -1.1203e-01, -1.0496e-01, -1.0219e-01]]],\n",
       "              \n",
       "              \n",
       "                      [[[ 2.3983e-02, -5.6255e-02,  1.0339e-01,  5.9697e-02, -1.0126e-02],\n",
       "                        [-2.4435e-02,  1.2902e-02,  1.4661e-01,  1.2765e-01,  3.9097e-02],\n",
       "                        [-5.7496e-03,  6.6329e-02,  8.8983e-02,  2.4995e-02,  9.4239e-02],\n",
       "                        [-2.2854e-02,  2.9304e-02,  1.0102e-02, -5.7883e-02,  5.4223e-02],\n",
       "                        [-4.0859e-02, -3.2026e-02,  1.2387e-03, -1.0843e-01, -1.5375e-02]],\n",
       "              \n",
       "                       [[ 1.0136e-02,  7.5637e-02, -5.7848e-03,  1.3777e-01,  1.5474e-01],\n",
       "                        [-2.5206e-02, -2.0672e-02, -1.2216e-02,  6.9138e-02,  3.6064e-02],\n",
       "                        [-1.1608e-01, -1.2523e-01, -5.3114e-02, -1.3736e-02, -6.5945e-02],\n",
       "                        [-4.9377e-02, -7.3263e-02,  1.3821e-02, -5.7363e-02, -8.8885e-02],\n",
       "                        [ 3.5121e-02,  8.1117e-03, -4.0113e-02, -9.6880e-03,  2.2578e-02]],\n",
       "              \n",
       "                       [[-6.7485e-02, -3.7822e-02,  9.5456e-02,  9.7218e-02,  2.1026e-02],\n",
       "                        [ 1.6678e-02,  1.1204e-01,  1.6200e-01,  1.1227e-01,  1.0821e-01],\n",
       "                        [-2.2003e-03, -5.5011e-02, -4.9843e-02, -1.0850e-02, -8.5686e-04],\n",
       "                        [-5.1201e-02, -8.1209e-02, -3.8459e-02, -1.1540e-01, -8.2916e-02],\n",
       "                        [-2.2864e-02, -3.7266e-02, -6.9406e-02, -8.4609e-02, -2.2870e-02]],\n",
       "              \n",
       "                       ...,\n",
       "              \n",
       "                       [[ 7.7566e-03, -7.7017e-02, -6.1157e-02, -1.2237e-01, -2.1197e-01],\n",
       "                        [-2.4674e-02, -7.2745e-02, -4.3594e-02, -2.3796e-02,  3.6631e-02],\n",
       "                        [ 5.2468e-02,  8.4918e-02,  6.3079e-02,  1.8892e-01,  1.5971e-01],\n",
       "                        [ 4.6985e-02, -1.0078e-02,  4.0366e-03,  6.9901e-02,  1.1424e-01],\n",
       "                        [-1.4204e-01, -4.7206e-02,  5.9572e-02, -6.9782e-02, -5.7524e-02]],\n",
       "              \n",
       "                       [[ 3.7480e-02,  6.9525e-02,  3.2201e-02,  1.2747e-01,  1.1043e-01],\n",
       "                        [-5.6448e-02, -1.4155e-01, -8.9465e-02, -3.6570e-02,  8.2215e-02],\n",
       "                        [-1.0249e-02, -8.0374e-02, -1.0461e-01,  4.3627e-02,  5.2454e-02],\n",
       "                        [ 1.5671e-02, -2.3447e-02, -7.7339e-02,  4.4982e-02, -2.6384e-02],\n",
       "                        [ 2.2818e-02, -4.6698e-03, -1.0174e-01,  1.2256e-02, -8.2248e-02]],\n",
       "              \n",
       "                       [[-2.1995e-02, -9.3880e-02, -6.0305e-02,  3.2126e-02,  2.8758e-04],\n",
       "                        [-2.9712e-02,  2.0135e-02,  9.3446e-02,  1.5331e-01,  9.3828e-02],\n",
       "                        [ 4.1690e-02, -6.4596e-02, -3.8229e-02,  2.1325e-02,  1.2717e-01],\n",
       "                        [-1.1757e-01, -1.4154e-01, -6.6097e-02,  6.0047e-03, -7.2603e-03],\n",
       "                        [-4.8355e-02, -1.1330e-01, -6.2946e-02, -5.0088e-02, -9.3579e-02]]],\n",
       "              \n",
       "              \n",
       "                      [[[ 7.1639e-02,  8.7584e-02,  7.5074e-02,  3.8223e-02, -8.6917e-02],\n",
       "                        [-3.0679e-02,  2.3232e-02,  7.7932e-02,  9.0720e-02, -2.7885e-02],\n",
       "                        [-1.1141e-01, -4.5415e-02,  3.6579e-02,  5.4793e-02,  2.5009e-02],\n",
       "                        [-1.2384e-01, -1.3525e-01,  6.6229e-04, -3.3255e-02,  1.5145e-02],\n",
       "                        [ 2.4305e-02, -2.2668e-02, -2.4958e-02,  2.2925e-02, -5.4165e-02]],\n",
       "              \n",
       "                       [[-2.0347e-02,  4.8697e-02,  9.3175e-02,  1.5617e-01,  1.0290e-01],\n",
       "                        [-4.0740e-02, -1.3334e-01, -6.0143e-02,  6.6689e-03,  7.0992e-02],\n",
       "                        [-7.0473e-02, -2.0848e-01, -1.7901e-01, -2.8552e-02,  7.0826e-02],\n",
       "                        [-3.8630e-03, -7.9696e-02, -8.7363e-02, -2.8477e-02,  3.1988e-03],\n",
       "                        [ 3.6130e-02,  2.9645e-02,  7.8716e-02, -3.1288e-02, -8.9900e-02]],\n",
       "              \n",
       "                       [[ 1.9564e-03,  1.0208e-01,  1.0004e-01,  1.1994e-01, -9.8344e-03],\n",
       "                        [ 1.9633e-02,  4.6413e-02,  1.5531e-01,  1.2111e-01,  3.1150e-02],\n",
       "                        [-1.4409e-01, -1.4465e-02,  5.0618e-02, -8.5894e-03, -4.9836e-02],\n",
       "                        [-1.2172e-01, -1.1411e-01, -1.4736e-03,  3.8991e-03,  8.0695e-03],\n",
       "                        [-1.0855e-02,  3.0519e-02,  5.5835e-02,  2.0558e-03,  2.4821e-02]],\n",
       "              \n",
       "                       ...,\n",
       "              \n",
       "                       [[ 6.7620e-02,  1.0178e-01,  5.6887e-02, -9.7784e-02, -5.6827e-02],\n",
       "                        [ 6.5346e-02,  2.2516e-01,  2.7809e-01,  1.6602e-01,  6.3239e-02],\n",
       "                        [ 9.8487e-02,  1.6805e-01,  1.5873e-01,  1.1518e-01,  1.6754e-03],\n",
       "                        [-3.3661e-02, -8.6359e-02, -1.2792e-01, -2.3888e-02, -9.7743e-02],\n",
       "                        [-1.2999e-02, -1.0507e-01, -1.2614e-01, -4.2137e-02,  3.5651e-02]],\n",
       "              \n",
       "                       [[-2.0661e-02,  1.7267e-03,  3.6277e-02,  5.6609e-02,  8.2225e-02],\n",
       "                        [-1.4207e-01, -2.3582e-01, -1.1903e-01,  1.0804e-01,  1.1919e-01],\n",
       "                        [-4.2196e-03, -6.5005e-02, -9.9326e-02, -1.2070e-02,  7.3080e-02],\n",
       "                        [ 4.1540e-02, -3.0817e-02, -1.8872e-01, -8.3682e-02, -1.6756e-02],\n",
       "                        [ 1.0813e-01,  5.1277e-02, -1.0594e-01,  3.7101e-02, -2.9058e-02]],\n",
       "              \n",
       "                       [[-4.3799e-02,  5.7837e-02,  6.5785e-02,  6.5382e-02,  6.7710e-02],\n",
       "                        [ 4.5598e-02, -1.2336e-03,  1.3971e-01,  9.1285e-02,  3.5625e-02],\n",
       "                        [-2.6692e-02, -7.5494e-02, -8.6750e-02, -3.1475e-02,  4.0073e-02],\n",
       "                        [-1.1564e-01, -1.8018e-01, -1.4155e-01,  2.7634e-02,  5.2378e-03],\n",
       "                        [ 4.8521e-02, -6.9653e-03, -1.7686e-02,  7.2211e-02,  1.0255e-03]]],\n",
       "              \n",
       "              \n",
       "                      ...,\n",
       "              \n",
       "              \n",
       "                      [[[-6.7487e-02, -6.5830e-02,  9.6279e-02, -2.6002e-04,  2.0587e-02],\n",
       "                        [ 4.8897e-03,  2.1550e-03,  1.2570e-01, -2.4112e-02,  1.1779e-02],\n",
       "                        [ 1.4429e-02,  1.0426e-01,  5.5603e-02,  2.8313e-02, -3.8074e-02],\n",
       "                        [ 8.5272e-02,  7.7747e-02,  6.3483e-03, -7.8361e-02, -4.2089e-02],\n",
       "                        [ 2.1417e-03, -1.6876e-02,  6.9283e-02, -7.5093e-02, -1.0803e-01]],\n",
       "              \n",
       "                       [[ 9.9838e-02,  4.5379e-03, -5.4093e-02,  1.4498e-01,  8.9308e-02],\n",
       "                        [ 3.8120e-02,  6.0439e-02,  4.6112e-02,  6.2095e-02,  4.6662e-02],\n",
       "                        [ 2.3355e-03,  1.2165e-01,  3.6134e-02,  8.4120e-02, -4.9920e-02],\n",
       "                        [-2.1765e-02, -5.0448e-02, -8.5469e-03,  4.7231e-02, -2.3748e-02],\n",
       "                        [-8.1704e-02, -3.6703e-02,  4.6971e-04,  5.3145e-02, -6.9280e-02]],\n",
       "              \n",
       "                       [[-9.8697e-03, -3.4070e-02,  5.6711e-02, -1.5069e-03,  3.0861e-03],\n",
       "                        [ 3.7873e-02,  1.9224e-02,  1.3967e-01,  9.1608e-02,  6.1957e-02],\n",
       "                        [ 5.2311e-02,  4.2752e-02,  2.6323e-02,  3.0905e-02, -1.1663e-01],\n",
       "                        [ 7.5396e-02,  5.0309e-02,  8.7241e-02, -9.1690e-02, -1.0325e-01],\n",
       "                        [ 1.2409e-02, -7.0990e-02,  2.2433e-02, -6.1955e-02, -7.2083e-02]],\n",
       "              \n",
       "                       ...,\n",
       "              \n",
       "                       [[-1.6317e-01, -1.2445e-01, -1.6689e-01, -2.5031e-01,  2.3381e-03],\n",
       "                        [ 5.5234e-02, -1.3563e-01, -5.1223e-02, -1.1804e-03,  9.5418e-02],\n",
       "                        [ 7.6765e-02, -2.8821e-02, -1.0155e-02, -8.3941e-02, -1.4304e-01],\n",
       "                        [ 2.2156e-02,  7.0431e-03,  2.1930e-02, -1.2076e-01, -8.1559e-02],\n",
       "                        [ 1.4751e-02,  4.1417e-02,  1.7030e-02, -5.4945e-02, -3.8957e-02]],\n",
       "              \n",
       "                       [[ 4.7895e-02,  4.7052e-02, -1.1244e-01, -7.3676e-02, -3.0852e-02],\n",
       "                        [ 5.7685e-02, -1.7495e-02, -6.0075e-02, -4.6630e-02,  8.2273e-02],\n",
       "                        [-7.9858e-02, -4.7183e-02, -1.6157e-02,  1.3376e-01,  8.9942e-02],\n",
       "                        [-1.5572e-01,  5.2088e-02, -4.7016e-03,  1.1446e-01,  7.5970e-02],\n",
       "                        [-1.0376e-01,  5.1290e-02,  1.3740e-03,  2.3639e-02,  2.3755e-02]],\n",
       "              \n",
       "                       [[ 3.6098e-03, -5.4483e-02, -3.2712e-02,  6.5711e-02,  5.6553e-02],\n",
       "                        [ 9.2742e-02,  3.7738e-02, -4.3834e-02,  1.4056e-01,  6.3331e-02],\n",
       "                        [ 1.1923e-02,  1.7701e-02,  1.6432e-02,  9.9613e-02, -1.9596e-02],\n",
       "                        [ 3.8411e-02,  1.0583e-01,  9.0867e-02,  9.8883e-02, -1.6994e-02],\n",
       "                        [ 2.1232e-02,  2.3568e-03,  1.5732e-02,  5.9418e-02, -2.3104e-02]]],\n",
       "              \n",
       "              \n",
       "                      [[[ 2.0114e-02, -9.1137e-02, -9.3194e-02, -1.3344e-01, -2.0379e-02],\n",
       "                        [ 6.1708e-03, -3.0814e-02,  7.1165e-02, -1.3881e-03,  9.5073e-02],\n",
       "                        [-5.5761e-03,  1.6880e-02,  4.7470e-02,  2.9476e-02,  4.7558e-02],\n",
       "                        [-7.9456e-02, -3.8436e-02, -3.5979e-02, -6.8549e-02,  4.5640e-02],\n",
       "                        [ 2.2776e-02, -6.1766e-02, -2.8377e-03, -5.2374e-02, -6.2177e-02]],\n",
       "              \n",
       "                       [[ 9.7953e-02,  7.1789e-02,  4.2161e-02,  1.8331e-02, -6.9137e-03],\n",
       "                        [ 9.0815e-02,  3.8266e-02, -1.5034e-02,  3.3552e-02,  6.1579e-02],\n",
       "                        [ 5.1846e-02, -5.8376e-04, -3.9394e-02, -9.4212e-03, -9.1899e-02],\n",
       "                        [ 4.3645e-02,  1.7493e-02, -8.8298e-02, -4.4433e-02, -5.4661e-02],\n",
       "                        [-4.1056e-02, -5.2367e-02, -4.5674e-02, -8.8071e-03, -2.8633e-02]],\n",
       "              \n",
       "                       [[-6.3859e-03, -9.6508e-02, -1.2392e-01, -1.4131e-01,  4.1867e-03],\n",
       "                        [ 8.7414e-02,  9.6877e-02,  3.5223e-02,  9.9491e-02,  9.8863e-02],\n",
       "                        [-4.2059e-02,  5.1686e-02, -1.1896e-02,  6.7262e-02,  9.8559e-02],\n",
       "                        [-1.4474e-02, -6.1140e-02, -1.1530e-01, -5.2398e-02, -1.1473e-03],\n",
       "                        [-1.7629e-02, -2.6676e-02,  4.0101e-02, -3.0374e-02, -2.4729e-02]],\n",
       "              \n",
       "                       ...,\n",
       "              \n",
       "                       [[-2.6607e-01, -1.9106e-01, -1.7802e-01, -1.8974e-01, -1.6432e-01],\n",
       "                        [-3.9863e-02, -9.7081e-02, -1.0398e-01, -3.9032e-04,  6.4462e-02],\n",
       "                        [ 5.0002e-02,  8.3602e-02,  8.8013e-02,  1.9288e-01,  1.6534e-01],\n",
       "                        [ 6.8547e-02,  8.9825e-02,  9.2009e-02,  6.0213e-02,  1.2203e-01],\n",
       "                        [ 7.7727e-02, -1.7491e-02, -3.3997e-03, -1.1350e-01, -9.9503e-02]],\n",
       "              \n",
       "                       [[ 1.8481e-01,  8.0520e-02,  1.0819e-01,  7.5693e-02, -3.0614e-03],\n",
       "                        [ 9.7434e-02,  1.2148e-02,  4.3575e-02, -8.8214e-02, -1.2214e-01],\n",
       "                        [ 9.7168e-02,  8.7569e-02, -3.3195e-02, -8.6846e-02, -3.5301e-02],\n",
       "                        [ 7.2606e-02, -7.1301e-04, -6.3472e-02, -2.3260e-02,  3.0849e-02],\n",
       "                        [ 7.9283e-02,  2.9988e-03, -8.8505e-02, -1.0702e-02, -2.2786e-02]],\n",
       "              \n",
       "                       [[-2.3480e-02, -6.8133e-02, -1.1274e-01, -1.2793e-01, -1.9617e-01],\n",
       "                        [ 1.1264e-01,  2.8757e-02,  6.4730e-02,  2.7614e-02,  2.7472e-03],\n",
       "                        [ 1.2790e-01,  1.0749e-01,  8.6467e-02,  2.8894e-02,  1.0358e-01],\n",
       "                        [ 8.0919e-02,  3.1473e-02, -5.9658e-02,  2.8611e-03,  1.3391e-02],\n",
       "                        [ 6.1018e-02, -7.0248e-02, -1.0682e-01, -1.1563e-01, -3.8895e-02]]],\n",
       "              \n",
       "              \n",
       "                      [[[-6.3911e-02, -8.3890e-02, -1.3319e-01, -5.0595e-02, -2.9450e-02],\n",
       "                        [ 1.0703e-01,  3.7632e-02, -3.0139e-02, -6.6409e-02, -2.5278e-02],\n",
       "                        [ 1.0724e-01,  1.3117e-01, -7.9902e-02, -5.3401e-02, -5.8825e-02],\n",
       "                        [ 6.4415e-02,  1.5262e-01,  3.6166e-02,  2.9117e-02,  1.9953e-02],\n",
       "                        [ 5.1294e-02,  5.7846e-02,  8.8647e-02,  1.2194e-01,  4.5020e-02]],\n",
       "              \n",
       "                       [[ 4.0253e-02, -5.0406e-03, -5.5132e-02, -2.1831e-02,  5.4345e-03],\n",
       "                        [ 1.0540e-01,  8.0564e-02,  4.1327e-02, -6.7483e-02, -4.5209e-02],\n",
       "                        [ 1.0150e-02,  6.9280e-02,  1.1010e-01,  9.9153e-02,  6.5198e-02],\n",
       "                        [-7.6471e-02,  7.3998e-02,  1.3535e-01,  6.7863e-02,  6.0615e-02],\n",
       "                        [-6.3862e-02, -1.0569e-01, -4.7731e-02, -5.7309e-02,  7.9084e-02]],\n",
       "              \n",
       "                       [[ 3.8192e-03, -2.9478e-02, -3.1652e-02, -5.7508e-02,  4.0817e-02],\n",
       "                        [ 1.0751e-01,  2.0014e-02, -1.2251e-02, -1.8181e-02,  4.7972e-02],\n",
       "                        [ 8.5660e-02,  1.3498e-01,  4.2341e-02,  1.6549e-02, -7.6680e-02],\n",
       "                        [ 1.3250e-01,  1.1692e-01,  1.4799e-01,  9.7358e-02,  7.8352e-02],\n",
       "                        [-6.9000e-02,  1.8951e-02,  3.3874e-02,  8.7565e-02,  5.6638e-02]],\n",
       "              \n",
       "                       ...,\n",
       "              \n",
       "                       [[-8.5331e-02, -1.4975e-01, -1.0209e-01, -8.0733e-02, -1.5249e-03],\n",
       "                        [-7.5164e-02, -1.5956e-01, -1.6397e-01, -4.3193e-02,  1.4222e-01],\n",
       "                        [ 1.0477e-03, -1.2428e-01, -1.7360e-01, -2.1668e-01, -6.6298e-02],\n",
       "                        [ 5.4285e-02,  7.3721e-02,  5.1097e-02, -7.1707e-02, -7.5688e-02],\n",
       "                        [ 9.6792e-02,  8.8973e-02,  1.2639e-01,  1.8083e-01,  1.2651e-01]],\n",
       "              \n",
       "                       [[ 7.4324e-02,  8.9282e-02,  1.8124e-02, -1.3506e-01, -1.7058e-02],\n",
       "                        [ 6.7725e-02,  7.1755e-02,  7.3146e-02, -1.7792e-02, -9.6555e-02],\n",
       "                        [-4.3230e-02,  2.7685e-02,  1.8528e-01,  3.3647e-02, -1.7703e-02],\n",
       "                        [-1.2716e-01, -5.1351e-02,  9.5423e-02, -2.3332e-02,  4.3453e-02],\n",
       "                        [-1.2593e-01, -3.1708e-02, -5.2726e-02, -6.3418e-02, -9.1931e-02]],\n",
       "              \n",
       "                       [[-2.5729e-02, -8.7234e-02, -2.4666e-02, -6.1689e-02, -5.3359e-02],\n",
       "                        [ 3.2981e-02,  5.5094e-02,  4.8799e-03, -5.2134e-03, -5.6662e-02],\n",
       "                        [ 7.7845e-02,  7.5512e-02,  1.0524e-01, -5.7145e-02, -1.0330e-02],\n",
       "                        [ 5.5641e-02,  1.5004e-01,  6.5424e-02,  4.3970e-02,  5.0584e-02],\n",
       "                        [-6.7229e-02,  8.3942e-02,  9.6205e-02,  8.3073e-02,  6.2749e-02]]]],\n",
       "                     device='cuda:0')),\n",
       "             ('fc1.weight',\n",
       "              tensor([[ 0.0691,  0.0297, -0.0039,  ...,  0.0728,  0.0111, -0.0382],\n",
       "                      [-0.1690, -0.0455,  0.0647,  ..., -0.0172, -0.0002,  0.0041],\n",
       "                      [ 0.0695,  0.0322, -0.0574,  ...,  0.0304,  0.0367,  0.0557],\n",
       "                      ...,\n",
       "                      [-0.0714, -0.0614, -0.0567,  ..., -0.1600, -0.0928, -0.0707],\n",
       "                      [-0.0532, -0.0850, -0.1883,  ...,  0.0501,  0.0322,  0.0363],\n",
       "                      [ 0.0057, -0.0826, -0.1804,  ...,  0.0156, -0.0168, -0.0258]],\n",
       "                     device='cuda:0'))])"
      ]
     },
     "execution_count": 38,
     "metadata": {},
     "output_type": "execute_result"
    }
   ],
   "source": [
    "tailored_cnn.state_dict()"
   ]
  },
  {
   "cell_type": "code",
   "execution_count": null,
   "metadata": {},
   "outputs": [],
   "source": []
  },
  {
   "cell_type": "code",
   "execution_count": null,
   "metadata": {},
   "outputs": [],
   "source": []
  }
 ],
 "metadata": {
  "kernelspec": {
   "display_name": "KERNEL AML(aml)",
   "language": "python",
   "name": "aml"
  },
  "language_info": {
   "codemirror_mode": {
    "name": "ipython",
    "version": 3
   },
   "file_extension": ".py",
   "mimetype": "text/x-python",
   "name": "python",
   "nbconvert_exporter": "python",
   "pygments_lexer": "ipython3",
   "version": "3.7.4"
  }
 },
 "nbformat": 4,
 "nbformat_minor": 2
}
