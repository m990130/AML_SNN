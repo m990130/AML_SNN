{
 "cells": [
  {
   "cell_type": "code",
   "execution_count": 1,
   "metadata": {},
   "outputs": [],
   "source": [
    "import torch\n",
    "import torch.nn as nn\n",
    "import torch.nn.functional as F\n",
    "import torch.optim as optim\n",
    "from torch.utils.data import Dataset, DataLoader\n",
    "\n",
    "from torchvision.datasets import MNIST\n",
    "from torchvision.transforms import transforms\n",
    "\n",
    "\n",
    "from custmized_layer import convLayer, poolLayer, denseLayer\n",
    "\n",
    "from datetime import datetime\n",
    "\n",
    "import matplotlib\n",
    "#matplotlib.use('Inline')\n",
    "import matplotlib.pyplot as plt\n",
    "from tqdm import tqdm\n",
    "\n",
    "import yaml"
   ]
  },
  {
   "cell_type": "code",
   "execution_count": 81,
   "metadata": {
    "code_folding": [
     1,
     28,
     139
    ]
   },
   "outputs": [],
   "source": [
    "# some handy function \n",
    "def save_model(name, model):\n",
    "    print(\"Saving models...\")\n",
    "    model.eval()\n",
    "\n",
    "    save_model_filename = 'saved_models/' + name + '.pt'\n",
    "\n",
    "    torch.save(model.state_dict(), save_model_filename)\n",
    "    \n",
    "def load_model(name, model):\n",
    "    model.load_state_dict(torch.load('saved_models/' + name + '.pt'))\n",
    "\n",
    "def load_dict(name):\n",
    "    return torch.load('saved_models/' + name + '.pt')    \n",
    "\n",
    "def test_acc(dataloader ,model):\n",
    "    correct = 0\n",
    "    total = 0\n",
    "    with torch.no_grad():\n",
    "        for data in dataloader:\n",
    "            images, labels =  data[0].to(device), data[1].to(device)\n",
    "            outputs = model(images)\n",
    "            _, predicted = torch.max(outputs.data, 1)\n",
    "            total += labels.size(0)\n",
    "            correct += (predicted == labels).sum().item()\n",
    "\n",
    "    print('Accuracy of the network: %d %%' % (\n",
    "        100 * correct / total))\n",
    "\n",
    "\n",
    "# the learningStat class    \n",
    "class learningStat():\n",
    "    '''\n",
    "    This class collect the learning statistics over the epoch.\n",
    "\n",
    "    Usage:\n",
    "\n",
    "    This class is designed to be used with learningStats instance although it can be used separately.\n",
    "\n",
    "    >>> trainingStat = learningStat()\n",
    "    '''\n",
    "    def __init__(self):\n",
    "        self.lossSum = 0\n",
    "        self.correctSamples = 0\n",
    "        self.numSamples = 0\n",
    "        self.minloss = None\n",
    "        self.maxAccuracy = None\n",
    "        self.lossLog = []\n",
    "        self.accuracyLog = []\n",
    "        self.bestLoss = False\n",
    "        self.bestAccuracy = False\n",
    "\n",
    "    def reset(self):\n",
    "        '''\n",
    "        Reset the learning staistics. \n",
    "        This should usually be done before the start of an epoch so that new statistics counts can be accumulated.\n",
    "\n",
    "        Usage:\n",
    "\n",
    "        >>> trainingStat.reset()\n",
    "        '''\n",
    "        self.lossSum = 0\n",
    "        self.correctSamples = 0\n",
    "        self.numSamples = 0\n",
    "\n",
    "    def loss(self):\n",
    "        '''\n",
    "        Returns the average loss calculated from the point the stats was reset.\n",
    "\n",
    "        Usage:\n",
    "\n",
    "        >>> loss = trainingStat.loss()\n",
    "        '''\n",
    "        if self.numSamples > 0: \n",
    "            return self.lossSum/self.numSamples \n",
    "        else:   \n",
    "            return None\n",
    "\n",
    "    def accuracy(self):\n",
    "        '''\n",
    "        Returns the average accuracy calculated from the point the stats was reset.\n",
    "\n",
    "        Usage:\n",
    "\n",
    "        >>> accuracy = trainingStat.accuracy()\n",
    "        '''\n",
    "        if self.numSamples > 0 and self.correctSamples > 0:\n",
    "            return self.correctSamples/self.numSamples  \n",
    "        else:   \n",
    "            return None\n",
    "\n",
    "    def update(self):\n",
    "        '''\n",
    "        Updates the stats of the current session and resets the measures for next session.\n",
    "\n",
    "        Usage:\n",
    "\n",
    "        >>> trainingStat.update()\n",
    "        '''\n",
    "        currentLoss = self.loss()\n",
    "        self.lossLog.append(currentLoss)\n",
    "        if self.minloss is None:\n",
    "            self.minloss = currentLoss\n",
    "        else:\n",
    "            if currentLoss < self.minloss:\n",
    "                self.minloss = currentLoss\n",
    "                self.bestLoss = True\n",
    "            else:\n",
    "                self.bestLoss = False\n",
    "            # self.minloss = self.minloss if self.minloss < currentLoss else currentLoss\n",
    "\n",
    "        currentAccuracy = self.accuracy()\n",
    "        self.accuracyLog.append(currentAccuracy)\n",
    "        if self.maxAccuracy is None:\n",
    "            self.maxAccuracy = currentAccuracy\n",
    "        else:\n",
    "            if currentAccuracy > self.maxAccuracy:\n",
    "                self.maxAccuracy = currentAccuracy\n",
    "                self.bestAccuracy = True\n",
    "            else:\n",
    "                self.bestAccuracy = False\n",
    "            # self.maxAccuracy = self.maxAccuracy if self.maxAccuracy > currentAccuracy else currentAccuracy\n",
    "\n",
    "    def displayString(self):\n",
    "        loss = self.loss()\n",
    "        accuracy = self.accuracy()\n",
    "        minloss = self.minloss\n",
    "        maxAccuracy = self.maxAccuracy\n",
    "\n",
    "        if loss is None:    # no stats available\n",
    "            return None\n",
    "        elif accuracy is None: \n",
    "            if minloss is None: # accuracy and minloss stats is not available\n",
    "                return 'loss = %-12.5g'%(loss)\n",
    "            else:   # accuracy is not available but minloss is available\n",
    "                return 'loss = %-12.5g (min = %-12.5g)'%(loss, minloss)\n",
    "        else:\n",
    "            if minloss is None and maxAccuracy is None: # minloss and maxAccuracy is available\n",
    "                return 'loss = %-12.5g        %-12s   \\taccuracy = %-10.5g        %-10s '%(loss, ' ', accuracy, ' ')\n",
    "            else:   # all stats are available\n",
    "                return 'loss = %-12.5g (min = %-12.5g)  \\taccuracy = %-10.5g (max = %-10.5g)'%(loss, minloss, accuracy, maxAccuracy)\n",
    "\n",
    "class learningStats():\n",
    "    '''\n",
    "    This class provides mechanism to collect learning stats for training and testing, and displaying them efficiently.\n",
    "\n",
    "    Usage:\n",
    "\n",
    "    .. code-block:: python\n",
    "    \n",
    "        stats = learningStats()\n",
    "\n",
    "        for epoch in range(100):\n",
    "            tSt = datetime.now()\n",
    "\n",
    "            stats.training.reset()\n",
    "            for i in trainingLoop:\n",
    "                # other main stuffs\n",
    "                stats.training.correctSamples += numberOfCorrectClassification\n",
    "                stats.training.numSamples     += numberOfSamplesProcessed\n",
    "                stats.training.lossSum        += currentLoss\n",
    "                stats.print(epoch, i, (datetime.now() - tSt).total_seconds())\n",
    "            stats.training.update()\n",
    "\n",
    "            stats.testing.reset()\n",
    "            for i in testingLoop\n",
    "                # other main stuffs\n",
    "                stats.testing.correctSamples += numberOfCorrectClassification\n",
    "                stats.testing.numSamples     += numberOfSamplesProcessed\n",
    "                stats.testing.lossSum        += currentLoss\n",
    "                stats.print(epoch, i)\n",
    "            stats.training.update()\n",
    "\n",
    "    '''\n",
    "    def __init__(self):\n",
    "        self.linesPrinted = 0\n",
    "        self.training = learningStat()\n",
    "        self.testing  = learningStat()\n",
    "\n",
    "    def update(self):\n",
    "        '''\n",
    "        Updates the stats for training and testing and resets the measures for next session.\n",
    "\n",
    "        Usage:\n",
    "\n",
    "        >>> stats.update()\n",
    "        '''\n",
    "        self.training.update()\n",
    "        self.training.reset()\n",
    "        self.testing.update()\n",
    "        self.testing.reset()\n",
    "\n",
    "    def print(self, epoch, iter=None, timeElapsed=None):\n",
    "        '''\n",
    "        Prints the available learning statistics from the current session on the console.\n",
    "        For Linux systems, prints the data on same terminal space (might not work properly on other systems).\n",
    "\n",
    "        Arguments:\n",
    "            * ``epoch``: epoch counter to display (required).\n",
    "            * ``iter``: iteration counter to display (not required).\n",
    "            * ``timeElapsed``: runtime information (not required).\n",
    "\n",
    "        Usage:\n",
    "\n",
    "        .. code-block:: python\n",
    "\n",
    "            # prints stats with epoch index provided\n",
    "            stats.print(epoch) \n",
    "\n",
    "            # prints stats with epoch index and iteration index provided\n",
    "            stats.print(epoch, iter=i) \n",
    "            \n",
    "            # prints stats with epoch index, iteration index and time elapsed information provided\n",
    "            stats.print(epoch, iter=i, timeElapsed=time) \n",
    "        '''\n",
    "        print('\\033[%dA'%(self.linesPrinted))\n",
    "        \n",
    "        self.linesPrinted = 1\n",
    "\n",
    "        epochStr   = 'Epoch : %10d'%(epoch)\n",
    "        iterStr    = '' if iter is None else '(i = %7d)'%(iter)\n",
    "        profileStr = '' if timeElapsed is None else ', %12.4f ms elapsed'%(timeElapsed * 1000)\n",
    "\n",
    "        print(epochStr + iterStr + profileStr)\n",
    "        print(self.training.displayString())\n",
    "        self.linesPrinted += 2\n",
    "        if self.testing.displayString() is not None:\n",
    "            print(self.testing.displayString())\n",
    "            self.linesPrinted += 1\n",
    "\n",
    "    def plot(self, figures=(1, 2), saveFig=False, path=''):\n",
    "        '''\n",
    "        Plots the available learning statistics.\n",
    "\n",
    "        Arguments:\n",
    "            * ``figures``: Index of figure ID to plot on. Default is figure(1) for loss plot and figure(2) for accuracy plot.\n",
    "            * ``saveFig``(``bool``): flag to save figure into a file.\n",
    "            * ``path``: path to save the file. Defaule is ``''``.\n",
    "\n",
    "        Usage:\n",
    "\n",
    "        .. code-block:: python\n",
    "\n",
    "            # plot stats\n",
    "            stats.plot() \n",
    "\n",
    "            # plot stats figures specified\n",
    "            stats.print(figures=(10, 11)) \n",
    "        '''\n",
    "        plt.figure(figures[0])\n",
    "        plt.cla()\n",
    "        if len(self.training.lossLog) > 0:\n",
    "            plt.semilogy(self.training.lossLog, label='Training')\n",
    "        if len(self.testing.lossLog) > 0:\n",
    "            plt.semilogy(self.testing .lossLog, label='Testing')\n",
    "        plt.xlabel('Epoch')\n",
    "        plt.ylabel('Loss')\n",
    "        plt.legend()\n",
    "        if saveFig is True: \n",
    "            plt.savefig(path + 'loss.png')\n",
    "            # plt.close()\n",
    "\n",
    "        plt.figure(figures[1])\n",
    "        plt.cla()\n",
    "        if len(self.training.accuracyLog) > 0:\n",
    "            plt.plot(self.training.accuracyLog, label='Training')\n",
    "        if len(self.testing.accuracyLog) > 0:\n",
    "            plt.plot(self.testing .accuracyLog, label='Testing')\n",
    "        plt.xlabel('Epoch')\n",
    "        plt.ylabel('Accuracy')\n",
    "        plt.legend() \n",
    "        if saveFig is True: \n",
    "            plt.savefig(path + 'accuracy.png')\n",
    "            # plt.close()\n",
    "\n",
    "    def save(self, filename=''):\n",
    "        '''\n",
    "        Saves the learning satatistics logs.\n",
    "\n",
    "        Arguments:\n",
    "            * ``filename``: filename to save the logs. ``accuracy.txt`` and ``loss.txt`` will be appended\n",
    "\n",
    "        Usage:\n",
    "\n",
    "        .. code-block:: python\n",
    "\n",
    "            # save stats\n",
    "            stats.save() \n",
    "\n",
    "            # save stats filename specified\n",
    "            stats.save(filename='Run101-0.001-') # Run101-0.001-accuracy.txt and Run101-0.001-loss.txt\n",
    "        '''\n",
    "\n",
    "        with open(filename + 'loss.txt', 'wt') as loss:\n",
    "            loss.write('#%11s %11s\\r\\n'%('Train', 'Test'))\n",
    "            for i in range(len(self.training.lossLog)): \n",
    "                loss.write('%12.6g %12.6g \\r\\n'%(self.training.lossLog[i], self.testing.lossLog[i]))\n",
    "\n",
    "        with open(filename + 'accuracy.txt', 'wt') as accuracy:\n",
    "            accuracy.write('#%11s %11s\\r\\n'%('Train', 'Test'))\n",
    "            if self.training.accuracyLog != [None]*len(self.training.accuracyLog):\n",
    "                for i in range(len(self.training.accuracyLog)): \n",
    "                    accuracy.write('%12.6g %12.6g \\r\\n'%(self.training.accuracyLog[i], self.testing.accuracyLog[i]))"
   ]
  },
  {
   "cell_type": "markdown",
   "metadata": {},
   "source": [
    "# Test for raw and tailored CNN with MNIST"
   ]
  },
  {
   "cell_type": "code",
   "execution_count": 152,
   "metadata": {},
   "outputs": [],
   "source": [
    "# set up hyper params\n",
    "BATCH_SIZE  = 128\n",
    "\n",
    "EPOCH = 5\n",
    "\n",
    "use_cuda = torch.cuda.is_available()\n",
    "\n",
    "torch.manual_seed(1024)\n",
    "\n",
    "device = torch.device(\"cuda\" if use_cuda else \"cpu\")\n",
    "\n",
    "kwargs = {'num_workers': 1, 'pin_memory': True} if use_cuda else {}"
   ]
  },
  {
   "cell_type": "markdown",
   "metadata": {},
   "source": [
    "## Dataset preparation for CNNs"
   ]
  },
  {
   "cell_type": "code",
   "execution_count": 144,
   "metadata": {
    "code_folding": []
   },
   "outputs": [],
   "source": [
    "# # small version of MNIST for experiment\n",
    "\n",
    "# class MNIST500(Dataset):\n",
    "#     def __init__(self, datasetPath, train=False):\n",
    "#         self.path = datasetPath\n",
    "#         ds = MNIST(datasetPath, train=train, download=True, transform=transforms.Compose([\n",
    "#             transforms.ToTensor()]))\n",
    "#         self.samples = [ds[i] for i in range(0, 500)]\n",
    "\n",
    "#     def __getitem__(self, index):\n",
    "#         x, y = self.samples[index]\n",
    "#         return x, y\n",
    "\n",
    "#     def __len__(self):\n",
    "#         return len(self.samples)\n",
    "    \n",
    "# trainset_cnn = MNIST500(datasetPath='./data', train=True)\n",
    "\n",
    "# trainloader_cnn = torch.utils.data.DataLoader(trainset_cnn, batch_size=BATCH_SIZE,\n",
    "#                                           shuffle=True, num_workers=2)\n",
    "\n",
    "# testset_cnn = MNIST500(datasetPath='./data', train=False)\n",
    "\n",
    "# testloader_cnn = torch.utils.data.DataLoader(testset_cnn, batch_size=BATCH_SIZE,\n",
    "#                                          shuffle=False, num_workers=2)\n",
    "\n",
    "# classes = ('zero', 'one', 'two', 'three',\n",
    "#            'four', 'five', 'six', 'seven', 'eight', 'nine')"
   ]
  },
  {
   "cell_type": "code",
   "execution_count": 153,
   "metadata": {},
   "outputs": [],
   "source": [
    "trainset_cnn = MNIST(root='./data', train=True, transform=transforms.Compose([\n",
    "            transforms.ToTensor()]))\n",
    "\n",
    "trainloader_cnn = torch.utils.data.DataLoader(trainset_cnn, batch_size=BATCH_SIZE,\n",
    "                                          shuffle=True, num_workers=2)\n",
    "\n",
    "testset_cnn = MNIST(root='./data', train=False, transform=transforms.Compose([\n",
    "            transforms.ToTensor()]))\n",
    "\n",
    "testloader_cnn = torch.utils.data.DataLoader(testset_cnn, batch_size=BATCH_SIZE,\n",
    "                                         shuffle=False, num_workers=2)\n",
    "\n",
    "classes = ('zero', 'one', 'two', 'three',\n",
    "           'four', 'five', 'six', 'seven', 'eight', 'nine')"
   ]
  },
  {
   "cell_type": "markdown",
   "metadata": {},
   "source": [
    "## Training for CNNs\n",
    "* define the two CNNs\n",
    "* define the train function\n",
    "* train them and check the results"
   ]
  },
  {
   "cell_type": "code",
   "execution_count": 175,
   "metadata": {
    "code_folding": [
     27
    ]
   },
   "outputs": [],
   "source": [
    "class Raw_CNN(nn.Module):\n",
    "    def __init__(self):\n",
    "        super(Raw_CNN, self).__init__()\n",
    "        self.conv1 = nn.Conv2d(1, 3, 5, padding=1, bias=True)\n",
    "        self.conv2 = nn.Conv2d(3, 12, 5, padding=1, bias=True)\n",
    "        self.m1 = nn.MaxPool2d(2)\n",
    "        self.m2 = nn.MaxPool2d(2)\n",
    "        self.fc1 = nn.Linear(12 * 5 * 5, 10, bias=True)\n",
    "\n",
    "    def forward(self, x):\n",
    "        x = F.relu(self.conv1(x)) \n",
    "        x = self.m1(x) \n",
    "        x = F.relu(self.conv2(x)) \n",
    "        x = self.m2(x) \n",
    "        x = x.view(-1, 12 * 5 * 5)    \n",
    "        x = self.fc1(x)\n",
    "        return F.log_softmax(x, dim=1)\n",
    "\n",
    "class Tailored_CNN(nn.Module):\n",
    "    def __init__(self):\n",
    "        super(Tailored_CNN, self).__init__()\n",
    "        self.conv1 = nn.Conv2d(1, 3, 5, padding=1, bias=False)\n",
    "        self.conv2 = nn.Conv2d(3, 12, 5, padding=1, bias=False)\n",
    "        self.a1 = nn.AvgPool2d(2)\n",
    "        self.a2 = nn.AvgPool2d(2)\n",
    "        self.fc1 = nn.Linear(12 * 5 * 5, 10, bias=False)\n",
    "\n",
    "    def forward(self, x):\n",
    "        x = F.relu(self.conv1(x))\n",
    "        x = self.a1(x)\n",
    "        x = F.relu(self.conv2(x))\n",
    "        x = self.a2(x)\n",
    "        x = x.view(-1, 12 * 5 * 5)   \n",
    "        x = self.fc1(x) \n",
    "        return F.log_softmax(x, dim=1)"
   ]
  },
  {
   "cell_type": "code",
   "execution_count": 155,
   "metadata": {
    "code_folding": [
     0,
     18,
     82
    ]
   },
   "outputs": [],
   "source": [
    "def plot_stats(stats):\n",
    "    plt.figure(1)\n",
    "    plt.semilogy(stats.training.lossLog, label='Training')\n",
    "    plt.semilogy(stats.testing.lossLog, label='Testing')\n",
    "    plt.xlabel('Epoch')\n",
    "    plt.ylabel('Loss')\n",
    "    plt.legend()\n",
    "\n",
    "    plt.figure(2)\n",
    "    plt.plot(stats.training.accuracyLog, label='Training')\n",
    "    plt.plot(stats.testing.accuracyLog, label='Testing')\n",
    "    plt.xlabel('Epoch')\n",
    "    plt.ylabel('Accuracy')\n",
    "    plt.legend()\n",
    "\n",
    "    plt.show()\n",
    "\n",
    "## Training\n",
    "def train(model, model_name, trainloader, testloader, criterion, optimizer, stats, epoch):\n",
    "    \n",
    "    for epoch in tqdm(range(epoch)):\n",
    "        # Reset training stats.\n",
    "        stats.training.reset()\n",
    "        tSt = datetime.now()\n",
    "        model.train()    \n",
    "        # Training loop.\n",
    "        for i, data in enumerate(trainloader, 0):\n",
    "            # get the inputs; data is a list of [inputs, labels]\n",
    "            inputs, labels = data[0].to(device), data[1].to(device)\n",
    "\n",
    "            # zero the parameter gradients\n",
    "            optimizer.zero_grad()\n",
    "\n",
    "            # forward + backward + optimize\n",
    "            outputs = model(inputs)\n",
    "\n",
    "            loss = criterion(outputs, labels)\n",
    "\n",
    "            loss.backward()\n",
    "\n",
    "            optimizer.step()\n",
    "\n",
    "            # Gather training loss stats.\n",
    "            stats.training.lossSum += loss.cpu().data.item()\n",
    "\n",
    "            # Gather the training stats.\n",
    "            _, predicted = torch.max(outputs.data, 1)\n",
    "\n",
    "            stats.training.correctSamples += torch.sum(predicted == labels).data.item()\n",
    "            stats.training.numSamples += len(labels)\n",
    "\n",
    "            # Display training stats.\n",
    "            # if i%10 == 0: stats.print(epoch, i, (datetime.now() - tSt).total_seconds())\n",
    "        # Update training stats.\n",
    "        stats.training.update()\n",
    "        # Reset testing stats.\n",
    "        stats.testing.reset()\n",
    "        model.eval()    \n",
    "        # Testing loop.\n",
    "        # Same steps as Training loops except loss backpropagation and weight update.\n",
    "        for i, data in enumerate(testloader, 0):\n",
    "            inputs, labels = data[0].to(device), data[1].to(device)\n",
    "\n",
    "            outputs = model.forward(inputs)\n",
    "            _, predicted = torch.max(outputs.data, 1)\n",
    "\n",
    "            stats.testing.correctSamples += torch.sum(predicted == labels).data.item()\n",
    "            stats.testing.numSamples += len(labels)\n",
    "\n",
    "            loss = criterion(outputs, labels)\n",
    "            stats.testing.lossSum += loss.cpu().data.item()\n",
    "\n",
    "\n",
    "        # Update stats.\n",
    "        stats.testing.update()\n",
    "        if epoch%2==0:  stats.print(epoch, timeElapsed=(datetime.now() - tSt).total_seconds())\n",
    "    print('Finished Training')\n",
    "    \n",
    "    test_acc(testloader, model)\n",
    "    plot_stats(stats)\n",
    "    save_model(model_name, model)\n",
    "\n",
    "def test(model, model_name, testloader):\n",
    "    load_model(model_name, model)\n",
    "    test_acc(testloader, model)"
   ]
  },
  {
   "cell_type": "code",
   "execution_count": 176,
   "metadata": {
    "code_folding": []
   },
   "outputs": [
    {
     "name": "stderr",
     "output_type": "stream",
     "text": [
      "\n",
      "\n",
      "  0%|          | 0/5 [00:00<?, ?it/s]\u001b[A\u001b[A\n",
      "\n",
      " 20%|██        | 1/5 [00:05<00:21,  5.49s/it]\u001b[A\u001b[A"
     ]
    },
    {
     "name": "stdout",
     "output_type": "stream",
     "text": [
      "\u001b[0A\n",
      "Epoch :          0,    5493.8340 ms elapsed\n",
      "loss = 0.0039348    (min = 0.0039348   )  \taccuracy = 0.86032    (max = 0.86032   )\n",
      "loss = 0.0012798    (min = 0.0012798   )  \taccuracy = 0.9508     (max = 0.9508    )\n"
     ]
    },
    {
     "name": "stderr",
     "output_type": "stream",
     "text": [
      "\n",
      "\n",
      " 40%|████      | 2/5 [00:11<00:16,  5.56s/it]\u001b[A\u001b[A\n",
      "\n",
      " 60%|██████    | 3/5 [00:16<00:11,  5.61s/it]\u001b[A\u001b[A"
     ]
    },
    {
     "name": "stdout",
     "output_type": "stream",
     "text": [
      "\u001b[4A\n",
      "Epoch :          2,    5746.9520 ms elapsed\n",
      "loss = 0.00087041   (min = 0.00087041  )  \taccuracy = 0.96628    (max = 0.96628   )\n",
      "loss = 0.00075854   (min = 0.00075854  )  \taccuracy = 0.9698     (max = 0.9698    )\n"
     ]
    },
    {
     "name": "stderr",
     "output_type": "stream",
     "text": [
      "\n",
      "\n",
      " 80%|████████  | 4/5 [00:22<00:05,  5.60s/it]\u001b[A\u001b[A\n",
      "\n",
      "100%|██████████| 5/5 [00:27<00:00,  5.50s/it]\u001b[A\u001b[A"
     ]
    },
    {
     "name": "stdout",
     "output_type": "stream",
     "text": [
      "\u001b[4A\n",
      "Epoch :          4,    5262.6160 ms elapsed\n",
      "loss = 0.00061417   (min = 0.00061417  )  \taccuracy = 0.97587    (max = 0.97587   )\n",
      "loss = 0.00049813   (min = 0.00049813  )  \taccuracy = 0.9792     (max = 0.9792    )\n",
      "Finished Training\n",
      "Accuracy of the network: 97 %\n"
     ]
    },
    {
     "data": {
      "image/png": "[encoded data removed]",
      "text/plain": [
       "<Figure size 432x288 with 1 Axes>"
      ]
     },
     "metadata": {
      "needs_background": "light"
     },
     "output_type": "display_data"
    },
    {
     "data": {
      "image/png": "[encoded data removed]",
      "text/plain": [
       "<Figure size 432x288 with 1 Axes>"
      ]
     },
     "metadata": {
      "needs_background": "light"
     },
     "output_type": "display_data"
    },
    {
     "name": "stdout",
     "output_type": "stream",
     "text": [
      "Saving models...\n"
     ]
    }
   ],
   "source": [
    "raw_cnn = Raw_CNN().to(device)\n",
    "\n",
    "raw_criterion = nn.CrossEntropyLoss()\n",
    "raw_optimizer = optim.Adam(raw_cnn.parameters(), lr=0.001)\n",
    "raw_stats = learningStats()\n",
    "\n",
    "train(raw_cnn,'raw_cnn_500',\n",
    "      trainloader_cnn,testloader_cnn,\n",
    "      raw_criterion, \n",
    "      raw_optimizer,\n",
    "      raw_stats,\n",
    "      epoch=EPOCH)"
   ]
  },
  {
   "cell_type": "code",
   "execution_count": 10,
   "metadata": {},
   "outputs": [
    {
     "name": "stdout",
     "output_type": "stream",
     "text": [
      "Accuracy of the network on the 10000 test images: 91 %\n"
     ]
    }
   ],
   "source": [
    "# raw_cnn = Raw_CNN().to(device)\n",
    "# test(raw_cnn, 'raw_cnn_500', testloader_cnn)"
   ]
  },
  {
   "cell_type": "code",
   "execution_count": 177,
   "metadata": {
    "scrolled": false
   },
   "outputs": [
    {
     "name": "stderr",
     "output_type": "stream",
     "text": [
      "\n",
      "\n",
      "  0%|          | 0/5 [00:00<?, ?it/s]\u001b[A\u001b[A\n",
      "\n",
      " 20%|██        | 1/5 [00:05<00:21,  5.44s/it]\u001b[A\u001b[A"
     ]
    },
    {
     "name": "stdout",
     "output_type": "stream",
     "text": [
      "\u001b[0A\n",
      "Epoch :          0,    5440.8710 ms elapsed\n",
      "loss = 0.004539     (min = 0.004539    )  \taccuracy = 0.84322    (max = 0.84322   )\n",
      "loss = 0.0019938    (min = 0.0019938   )  \taccuracy = 0.9273     (max = 0.9273    )\n"
     ]
    },
    {
     "name": "stderr",
     "output_type": "stream",
     "text": [
      "\n",
      "\n",
      " 40%|████      | 2/5 [00:10<00:16,  5.45s/it]\u001b[A\u001b[A\n",
      "\n",
      " 60%|██████    | 3/5 [00:16<00:10,  5.48s/it]\u001b[A\u001b[A"
     ]
    },
    {
     "name": "stdout",
     "output_type": "stream",
     "text": [
      "\u001b[4A\n",
      "Epoch :          2,    5546.4030 ms elapsed\n",
      "loss = 0.0011361    (min = 0.0011361   )  \taccuracy = 0.95803    (max = 0.95803   )\n",
      "loss = 0.00088877   (min = 0.00088877  )  \taccuracy = 0.9664     (max = 0.9664    )\n"
     ]
    },
    {
     "name": "stderr",
     "output_type": "stream",
     "text": [
      "\n",
      "\n",
      " 80%|████████  | 4/5 [00:22<00:05,  5.50s/it]\u001b[A\u001b[A\n",
      "\n",
      "100%|██████████| 5/5 [00:27<00:00,  5.50s/it]\u001b[A\u001b[A"
     ]
    },
    {
     "name": "stdout",
     "output_type": "stream",
     "text": [
      "\u001b[4A\n",
      "Epoch :          4,    5492.0640 ms elapsed\n",
      "loss = 0.00077153   (min = 0.00077153  )  \taccuracy = 0.9712     (max = 0.9712    )\n",
      "loss = 0.00064431   (min = 0.00064431  )  \taccuracy = 0.9754     (max = 0.9754    )\n",
      "Finished Training\n",
      "Accuracy of the network: 97 %\n"
     ]
    },
    {
     "data": {
      "image/png": "[encoded data removed]",
      "text/plain": [
       "<Figure size 432x288 with 1 Axes>"
      ]
     },
     "metadata": {
      "needs_background": "light"
     },
     "output_type": "display_data"
    },
    {
     "data": {
      "image/png": "[encoded data removed]",
      "text/plain": [
       "<Figure size 432x288 with 1 Axes>"
      ]
     },
     "metadata": {
      "needs_background": "light"
     },
     "output_type": "display_data"
    },
    {
     "name": "stdout",
     "output_type": "stream",
     "text": [
      "Saving models...\n"
     ]
    }
   ],
   "source": [
    "tailored_cnn = Tailored_CNN().to(device)\n",
    "\n",
    "t_criterion = nn.CrossEntropyLoss()\n",
    "t_optimizer = optim.Adam(tailored_cnn.parameters(), lr=0.001)\n",
    "t_stats = learningStats()\n",
    "\n",
    "train(tailored_cnn,'tailor_cnn_500', \n",
    "      trainloader_cnn,testloader_cnn, \n",
    "      t_criterion, \n",
    "      t_optimizer,\n",
    "      t_stats,\n",
    "      epoch=EPOCH)"
   ]
  },
  {
   "cell_type": "code",
   "execution_count": 12,
   "metadata": {},
   "outputs": [
    {
     "name": "stdout",
     "output_type": "stream",
     "text": [
      "Accuracy of the network on the 10000 test images: 89 %\n"
     ]
    }
   ],
   "source": [
    "# tailored_cnn = Tailored_CNN().to(device)\n",
    "# test(tailored_cnn, 'tailor_cnn_500', testloader_cnn)"
   ]
  },
  {
   "cell_type": "markdown",
   "metadata": {},
   "source": [
    "# Test for SNN with weights from tailored CNN"
   ]
  },
  {
   "cell_type": "code",
   "execution_count": 167,
   "metadata": {
    "code_folding": []
   },
   "outputs": [],
   "source": [
    "# set up hyper params\n",
    "time_bins = 100"
   ]
  },
  {
   "cell_type": "code",
   "execution_count": 160,
   "metadata": {},
   "outputs": [],
   "source": [
    "class yamlParams(object):\n",
    "    '''\n",
    "    This class reads yaml parameter file and allows dictionary like access to the members.\n",
    "\n",
    "    Usage:\n",
    "\n",
    "    .. code-block:: python\n",
    "\n",
    "        import slayerSNN as snn\n",
    "        netParams = snn.params('path_to_yaml_file')\t# OR\n",
    "        netParams = yamlParams('path_to_yaml_file')\n",
    "\n",
    "        netParams['training']['learning']['etaW'] = 0.01\n",
    "        print('Simulation step size        ', netParams['simulation']['Ts'])\n",
    "        print('Spiking neuron time constant', netParams['neuron']['tauSr'])\n",
    "        print('Spiking neuron threshold    ', netParams['neuron']['theta'])\n",
    "\n",
    "        netParams.save('filename.yaml')\n",
    "    '''\n",
    "    def __init__(self, parameter_file_path):\n",
    "        with open(parameter_file_path, 'r') as param_file:\n",
    "            self.parameters = yaml.safe_load(param_file)\n",
    "\n",
    "    # Allow dictionary like access\n",
    "    def __getitem__(self, key):\n",
    "        return self.parameters[key]\n",
    "\n",
    "    def __setitem__(self, key, value):\n",
    "        self.parameters[key] = value\n",
    "\n",
    "    def save(self, filename):\n",
    "        with open(filename, 'w') as f:\n",
    "            yaml.dump(self.parameters, f)\n",
    "\n",
    "class spikeClassifier:\n",
    "    '''\n",
    "    It provides classification modules for SNNs.\n",
    "    All the functions it supplies are static and can be called without making an instance of the class.\n",
    "    '''\n",
    "    @staticmethod\n",
    "    def getClass(spike):\n",
    "        '''\n",
    "        Returns the predicted class label.\n",
    "        It assignes single class for the SNN output for the whole simulation runtime.\n",
    "\n",
    "        Usage:\n",
    "\n",
    "        >>> predictedClass = spikeClassifier.getClass(spikeOut)\n",
    "        '''\n",
    "        numSpikes = torch.sum(spike, 4, keepdim=True).cpu()\n",
    "        return torch.max(numSpikes.reshape((numSpikes.shape[0], -1)), 1)[1]"
   ]
  },
  {
   "cell_type": "code",
   "execution_count": 194,
   "metadata": {
    "code_folding": []
   },
   "outputs": [],
   "source": [
    "# func to generate spikes\n",
    "def poisson_spike(x, time_bins):\n",
    "    shape_org = list(x.shape)\n",
    "    y = x.reshape(-1)\n",
    "    samples = []\n",
    "    for yy in y:\n",
    "        m1 = Poisson(yy)\n",
    "        samples.append(m1.sample(sample_shape=(time_bins,)) > 0)\n",
    "    output = torch.stack(samples, dim=0).float()\n",
    "    return output.reshape(shape_org + [time_bins])\n",
    "\n",
    "\n",
    "def uniform_spike(x, time_bins):\n",
    "    shape_org = list(x.shape)\n",
    "    shape_target = shape_org + [time_bins]\n",
    "    output = torch.rand(shape_target)\n",
    "    a = x.unsqueeze(-1)\n",
    "    b = torch.cat(time_bins * [a], dim=-1)\n",
    "    C = 0.33\n",
    "    output = (C * b > output)\n",
    "    return output.float()\n",
    "\n",
    "class SMNIST(Dataset):\n",
    "    def __init__(self, datasetPath, TimeBins=25, small=True, train=True, encoding='uniform',\n",
    "                 mode='classification'):\n",
    "        self.mode = mode\n",
    "        self.path = datasetPath\n",
    "        if small:\n",
    "            ds = MNIST(datasetPath, train=train, download=True, transform=transforms.Compose([\n",
    "                transforms.ToTensor()]))\n",
    "            self.samples = [ds[i] for i in range(0, 500)]\n",
    "        else:\n",
    "            self.samples = MNIST(datasetPath, train=train, download=True, transform=transforms.Compose([\n",
    "                transforms.ToTensor()]))\n",
    "        \n",
    "        self.nTimeBins = TimeBins\n",
    "        self.encoding = encoding\n",
    "\n",
    "    def __getitem__(self, index):\n",
    "        x, classLabel = self.samples[index]\n",
    "        if self.encoding == 'uniform':\n",
    "            x_spikes = uniform_spike(x, self.nTimeBins)\n",
    "        else:\n",
    "            x_spikes = poisson_spike(x, self.nTimeBins)\n",
    "        if self.mode == 'classification':\n",
    "            desiredClass = torch.zeros((10, 1, 1, 1))\n",
    "            desiredClass[classLabel, ...] = 1\n",
    "            return x_spikes, desiredClass, classLabel\n",
    "        elif self.mode == 'autoencoder':\n",
    "            return x_spikes, x, classLabel\n",
    "        elif self.mode == 'autoencoderSpike':\n",
    "            return x_spikes, x_spikes, classLabel\n",
    "        else:\n",
    "            raise Exception(\n",
    "                'mode is not valid {}. Valid are classification, autoencoder, autoencoderSpike'.format(self.mode))\n",
    "\n",
    "    def __len__(self):\n",
    "        return len(self.samples)"
   ]
  },
  {
   "cell_type": "code",
   "execution_count": null,
   "metadata": {},
   "outputs": [],
   "source": []
  },
  {
   "cell_type": "code",
   "execution_count": 195,
   "metadata": {},
   "outputs": [],
   "source": [
    "class custmized_SNN(nn.Module):\n",
    "    \n",
    "    def __init__(self, thetas, leaks=[0,0,0,0,0], V_min=[0,0,0,0,0]):\n",
    "        super(custmized_SNN, self).__init__()\n",
    "        self.conv1 = convLayer(1, 3, 5, theta=thetas[0], padding=1)\n",
    "        self.pool1 = poolLayer(2, theta=thetas[1])\n",
    "        self.conv2 = convLayer(3, 12, 5, theta=thetas[2],padding=1)        \n",
    "        self.pool2 = poolLayer(2, theta=thetas[3])\n",
    "        self.fc1   = denseLayer((5 * 5 * 12), 10, theta=thetas[4])\n",
    "        \n",
    "    def forward(self, spikeInput):\n",
    "        spike_conv1 = self.conv1(spikeInput)\n",
    "        #print(spike_conv1)\n",
    "        spike_pool1 = self.pool1(spike_conv1)\n",
    "        #print(spike_pool1)\n",
    "        spike_conv2 = self.conv2(spike_pool1)\n",
    "        #print(spike_conv2.shape)\n",
    "        spike_pool2 = self.pool2(spike_conv2)\n",
    "        spike_for_fc1 = spike_pool2.reshape(-1, 5 * 5 * 12, 1, 1, spike_pool2.shape[-1])\n",
    "        spikeOut = self.fc1(spike_for_fc1)\n",
    "        \n",
    "        return spikeOut        "
   ]
  },
  {
   "cell_type": "markdown",
   "metadata": {},
   "source": [
    "## define the custmized SNN and the transformed MNIST dataset"
   ]
  },
  {
   "cell_type": "code",
   "execution_count": 198,
   "metadata": {},
   "outputs": [],
   "source": [
    "thetas = [1, 0.99, 1, 0.99, 1]\n",
    "\n",
    "custmized_snn = custmized_SNN(thetas=thetas).to(device)"
   ]
  },
  {
   "cell_type": "code",
   "execution_count": 180,
   "metadata": {},
   "outputs": [],
   "source": [
    "netParams = yamlParams('network_specs/slayer_snn.yaml')"
   ]
  },
  {
   "cell_type": "code",
   "execution_count": 197,
   "metadata": {},
   "outputs": [],
   "source": [
    "# Dataset and dataLoader instances.\n",
    "\n",
    "testingSet = SMNIST(datasetPath  =netParams['training']['path']['in'], TimeBins=30,\n",
    "                    small=False, train=False)\n",
    "\n",
    "testLoader = DataLoader(dataset=testingSet, batch_size=64, shuffle=False, num_workers=4)"
   ]
  },
  {
   "cell_type": "markdown",
   "metadata": {},
   "source": [
    "### check the performance of a randomly initialized SNN"
   ]
  },
  {
   "cell_type": "code",
   "execution_count": 199,
   "metadata": {},
   "outputs": [],
   "source": [
    "correct = 0\n",
    "\n",
    "for i, (input, target, label) in enumerate(testLoader, 0):\n",
    "    input = input.to(device)\n",
    "    target = target.to(device)\n",
    "\n",
    "    output = custmized_snn(input)\n",
    "\n",
    "    correct += torch.sum(spikeClassifier.getClass(output) == label).data.item()"
   ]
  },
  {
   "cell_type": "code",
   "execution_count": 200,
   "metadata": {},
   "outputs": [
    {
     "data": {
      "text/plain": [
       "0.1009"
      ]
     },
     "execution_count": 200,
     "metadata": {},
     "output_type": "execute_result"
    }
   ],
   "source": [
    "correct/len(testingSet)"
   ]
  },
  {
   "cell_type": "markdown",
   "metadata": {},
   "source": [
    "### now try with the weights learned from tailor_cnn"
   ]
  },
  {
   "cell_type": "code",
   "execution_count": 201,
   "metadata": {},
   "outputs": [
    {
     "name": "stdout",
     "output_type": "stream",
     "text": [
      "Layer conv1.weight\n",
      "torch.Size([3, 1, 5, 5])\n",
      "Layer conv2.weight\n",
      "torch.Size([12, 3, 5, 5])\n",
      "Layer fc1.weight\n",
      "torch.Size([10, 300])\n"
     ]
    }
   ],
   "source": [
    "# script to transport the weights\n",
    "tailor_cnn_weights = load_dict(\"tailor_cnn_500\")\n",
    "snn_weights = custmized_snn.state_dict()\n",
    "\n",
    "for k in iter(tailor_cnn_weights):\n",
    "    print(\"Layer {}\".format(k))\n",
    "    print(tailor_cnn_weights[k].shape)\n",
    "    if k.startswith('conv') or k.startswith('fc'):\n",
    "        snn_weights[k] = tailor_cnn_weights[k].reshape(snn_weights[k].shape)"
   ]
  },
  {
   "cell_type": "code",
   "execution_count": 202,
   "metadata": {},
   "outputs": [
    {
     "data": {
      "text/plain": [
       "IncompatibleKeys(missing_keys=[], unexpected_keys=[])"
      ]
     },
     "execution_count": 202,
     "metadata": {},
     "output_type": "execute_result"
    }
   ],
   "source": [
    "custmized_snn_cnn = custmized_SNN(thetas=thetas).to(device)\n",
    "custmized_snn_cnn.load_state_dict(snn_weights)\n",
    "\n",
    "# this warning can be ignored, it happens when using jupyter \n",
    "# even the weights are passed without problem"
   ]
  },
  {
   "cell_type": "code",
   "execution_count": 203,
   "metadata": {},
   "outputs": [],
   "source": [
    "correct = 0\n",
    "\n",
    "for i, (input, target, label) in enumerate(testLoader, 0):\n",
    "    input = input.to(device)\n",
    "    target = target.to(device)\n",
    "\n",
    "    output = custmized_snn_cnn(input)\n",
    "\n",
    "    correct += torch.sum(spikeClassifier.getClass(output) == label).data.item()"
   ]
  },
  {
   "cell_type": "code",
   "execution_count": 204,
   "metadata": {},
   "outputs": [
    {
     "data": {
      "text/plain": [
       "0.8695"
      ]
     },
     "execution_count": 204,
     "metadata": {},
     "output_type": "execute_result"
    }
   ],
   "source": [
    "correct/len(testingSet)"
   ]
  }
 ],
 "metadata": {
  "kernelspec": {
   "display_name": "Python 3",
   "language": "python",
   "name": "python3"
  },
  "language_info": {
   "codemirror_mode": {
    "name": "ipython",
    "version": 3
   },
   "file_extension": ".py",
   "mimetype": "text/x-python",
   "name": "python",
   "nbconvert_exporter": "python",
   "pygments_lexer": "ipython3",
   "version": "3.6.8"
  }
 },
 "nbformat": 4,
 "nbformat_minor": 2
}
