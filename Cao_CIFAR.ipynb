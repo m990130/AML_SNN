{
 "cells": [
  {
   "cell_type": "code",
   "execution_count": 1,
   "metadata": {},
   "outputs": [],
   "source": [
    "import torch\n",
    "import torch.nn as nn\n",
    "import torch.nn.functional as F\n",
    "import torch.optim as optim\n",
    "from torch.utils.data import Dataset, DataLoader\n",
    "\n",
    "from torchvision.datasets import MNIST, FashionMNIST, CIFAR10\n",
    "from torchvision.transforms import transforms\n",
    "\n",
    "\n",
    "from lib.custmized_layer import convLayer, poolLayer, denseLayer\n",
    "from lib.datasets.spikedataset import SpikeDataset, transform_cifar\n",
    "\n",
    "from datetime import datetime\n",
    "\n",
    "import matplotlib\n",
    "import matplotlib.pyplot as plt\n",
    "from tqdm import tqdm"
   ]
  },
  {
   "cell_type": "code",
   "execution_count": 2,
   "metadata": {},
   "outputs": [],
   "source": [
    "# some handy function to use\n",
    "from lib.utils import save_model, load_dict, test_method, get_labels"
   ]
  },
  {
   "cell_type": "code",
   "execution_count": 3,
   "metadata": {
    "code_folding": [
     0,
     18,
     82,
     86,
     102,
     213
    ]
   },
   "outputs": [],
   "source": [
    "def plot_stats(stats):\n",
    "    plt.figure(1)\n",
    "    plt.semilogy(stats.training.lossLog, label='Training')\n",
    "    plt.semilogy(stats.testing.lossLog, label='Testing')\n",
    "    plt.xlabel('Epoch')\n",
    "    plt.ylabel('Loss')\n",
    "    plt.legend()\n",
    "\n",
    "    plt.figure(2)\n",
    "    plt.plot(stats.training.accuracyLog, label='Training')\n",
    "    plt.plot(stats.testing.accuracyLog, label='Testing')\n",
    "    plt.xlabel('Epoch')\n",
    "    plt.ylabel('Accuracy')\n",
    "    plt.legend()\n",
    "\n",
    "    plt.show()\n",
    "\n",
    "## Training\n",
    "def train(model, model_name, trainloader, testloader, criterion, optimizer, stats, epoch):\n",
    "    \n",
    "    for epoch in tqdm(range(epoch)):\n",
    "        # Reset training stats.\n",
    "        stats.training.reset()\n",
    "        tSt = datetime.now()\n",
    "        model.train()    \n",
    "        # Training loop.\n",
    "        for i, data in enumerate(trainloader, 0):\n",
    "            # get the inputs; data is a list of [inputs, labels]\n",
    "            inputs, labels = data[0].to(device), data[1].to(device)\n",
    "\n",
    "            # zero the parameter gradients\n",
    "            optimizer.zero_grad()\n",
    "\n",
    "            # forward + backward + optimize\n",
    "            outputs = model(inputs)\n",
    "\n",
    "            loss = criterion(outputs, labels)\n",
    "\n",
    "            loss.backward()\n",
    "\n",
    "            optimizer.step()\n",
    "\n",
    "            # Gather training loss stats.\n",
    "            stats.training.lossSum += loss.cpu().data.item()\n",
    "\n",
    "            # Gather the training stats.\n",
    "            _, predicted = torch.max(outputs.data, 1)\n",
    "\n",
    "            stats.training.correctSamples += torch.sum(predicted == labels).data.item()\n",
    "            stats.training.numSamples += len(labels)\n",
    "\n",
    "            # Display training stats.\n",
    "            # if i%10 == 0: stats.print(epoch, i, (datetime.now() - tSt).total_seconds())\n",
    "        # Update training stats.\n",
    "        stats.training.update()\n",
    "        # Reset testing stats.\n",
    "        stats.testing.reset()\n",
    "        model.eval()    \n",
    "        # Testing loop.\n",
    "        # Same steps as Training loops except loss backpropagation and weight update.\n",
    "        for i, data in enumerate(testloader, 0):\n",
    "            inputs, labels = data[0].to(device), data[1].to(device)\n",
    "\n",
    "            outputs = model.forward(inputs)\n",
    "            _, predicted = torch.max(outputs.data, 1)\n",
    "\n",
    "            stats.testing.correctSamples += torch.sum(predicted == labels).data.item()\n",
    "            stats.testing.numSamples += len(labels)\n",
    "\n",
    "            loss = criterion(outputs, labels)\n",
    "            stats.testing.lossSum += loss.cpu().data.item()\n",
    "\n",
    "\n",
    "        # Update stats.\n",
    "        stats.testing.update()\n",
    "        if epoch%2==0:  stats.print(epoch, timeElapsed=(datetime.now() - tSt).total_seconds())\n",
    "    print('Finished Training')\n",
    "    \n",
    "    test_acc(testloader, model)\n",
    "    plot_stats(stats)\n",
    "    save_model(model_name, model)\n",
    "\n",
    "def test(model, model_name, testloader):\n",
    "    load_model(model_name, model)\n",
    "    test_acc(testloader, model)\n",
    "    \n",
    "def test_acc(dataloader ,model):\n",
    "    correct = 0\n",
    "    total = 0\n",
    "    with torch.no_grad():\n",
    "        for data in dataloader:\n",
    "            images, labels =  data[0].to(device), data[1].to(device)\n",
    "            outputs = model(images)\n",
    "            _, predicted = torch.max(outputs.data, 1)\n",
    "            total += labels.size(0)\n",
    "            correct += (predicted == labels).sum().item()\n",
    "\n",
    "    print('Accuracy of the network: %d %%' % (\n",
    "        100 * correct / total))\n",
    "# the learningStat class    \n",
    "\n",
    "\n",
    "class learningStat():\n",
    "    '''\n",
    "    This class collect the learning statistics over the epoch.\n",
    "\n",
    "    Usage:\n",
    "\n",
    "    This class is designed to be used with learningStats instance although it can be used separately.\n",
    "\n",
    "    >>> trainingStat = learningStat()\n",
    "    '''\n",
    "    def __init__(self):\n",
    "        self.lossSum = 0\n",
    "        self.correctSamples = 0\n",
    "        self.numSamples = 0\n",
    "        self.minloss = None\n",
    "        self.maxAccuracy = None\n",
    "        self.lossLog = []\n",
    "        self.accuracyLog = []\n",
    "        self.bestLoss = False\n",
    "        self.bestAccuracy = False\n",
    "\n",
    "    def reset(self):\n",
    "        '''\n",
    "        Reset the learning staistics. \n",
    "        This should usually be done before the start of an epoch so that new statistics counts can be accumulated.\n",
    "\n",
    "        Usage:\n",
    "\n",
    "        >>> trainingStat.reset()\n",
    "        '''\n",
    "        self.lossSum = 0\n",
    "        self.correctSamples = 0\n",
    "        self.numSamples = 0\n",
    "\n",
    "    def loss(self):\n",
    "        '''\n",
    "        Returns the average loss calculated from the point the stats was reset.\n",
    "\n",
    "        Usage:\n",
    "\n",
    "        >>> loss = trainingStat.loss()\n",
    "        '''\n",
    "        if self.numSamples > 0: \n",
    "            return self.lossSum/self.numSamples \n",
    "        else:   \n",
    "            return None\n",
    "\n",
    "    def accuracy(self):\n",
    "        '''\n",
    "        Returns the average accuracy calculated from the point the stats was reset.\n",
    "\n",
    "        Usage:\n",
    "\n",
    "        >>> accuracy = trainingStat.accuracy()\n",
    "        '''\n",
    "        if self.numSamples > 0 and self.correctSamples > 0:\n",
    "            return self.correctSamples/self.numSamples  \n",
    "        else:   \n",
    "            return None\n",
    "\n",
    "    def update(self):\n",
    "        '''\n",
    "        Updates the stats of the current session and resets the measures for next session.\n",
    "\n",
    "        Usage:\n",
    "\n",
    "        >>> trainingStat.update()\n",
    "        '''\n",
    "        currentLoss = self.loss()\n",
    "        self.lossLog.append(currentLoss)\n",
    "        if self.minloss is None:\n",
    "            self.minloss = currentLoss\n",
    "        else:\n",
    "            if currentLoss < self.minloss:\n",
    "                self.minloss = currentLoss\n",
    "                self.bestLoss = True\n",
    "            else:\n",
    "                self.bestLoss = False\n",
    "            # self.minloss = self.minloss if self.minloss < currentLoss else currentLoss\n",
    "\n",
    "        currentAccuracy = self.accuracy()\n",
    "        self.accuracyLog.append(currentAccuracy)\n",
    "        if self.maxAccuracy is None:\n",
    "            self.maxAccuracy = currentAccuracy\n",
    "        else:\n",
    "            if currentAccuracy > self.maxAccuracy:\n",
    "                self.maxAccuracy = currentAccuracy\n",
    "                self.bestAccuracy = True\n",
    "            else:\n",
    "                self.bestAccuracy = False\n",
    "            # self.maxAccuracy = self.maxAccuracy if self.maxAccuracy > currentAccuracy else currentAccuracy\n",
    "\n",
    "    def displayString(self):\n",
    "        loss = self.loss()\n",
    "        accuracy = self.accuracy()\n",
    "        minloss = self.minloss\n",
    "        maxAccuracy = self.maxAccuracy\n",
    "\n",
    "        if loss is None:    # no stats available\n",
    "            return None\n",
    "        elif accuracy is None: \n",
    "            if minloss is None: # accuracy and minloss stats is not available\n",
    "                return 'loss = %-12.5g'%(loss)\n",
    "            else:   # accuracy is not available but minloss is available\n",
    "                return 'loss = %-12.5g (min = %-12.5g)'%(loss, minloss)\n",
    "        else:\n",
    "            if minloss is None and maxAccuracy is None: # minloss and maxAccuracy is available\n",
    "                return 'loss = %-12.5g        %-12s   \\taccuracy = %-10.5g        %-10s '%(loss, ' ', accuracy, ' ')\n",
    "            else:   # all stats are available\n",
    "                return 'loss = %-12.5g (min = %-12.5g)  \\taccuracy = %-10.5g (max = %-10.5g)'%(loss, minloss, accuracy, maxAccuracy)\n",
    "\n",
    "class learningStats():\n",
    "    '''\n",
    "    This class provides mechanism to collect learning stats for training and testing, and displaying them efficiently.\n",
    "\n",
    "    Usage:\n",
    "\n",
    "    .. code-block:: python\n",
    "    \n",
    "        stats = learningStats()\n",
    "\n",
    "        for epoch in range(100):\n",
    "            tSt = datetime.now()\n",
    "\n",
    "            stats.training.reset()\n",
    "            for i in trainingLoop:\n",
    "                # other main stuffs\n",
    "                stats.training.correctSamples += numberOfCorrectClassification\n",
    "                stats.training.numSamples     += numberOfSamplesProcessed\n",
    "                stats.training.lossSum        += currentLoss\n",
    "                stats.print(epoch, i, (datetime.now() - tSt).total_seconds())\n",
    "            stats.training.update()\n",
    "\n",
    "            stats.testing.reset()\n",
    "            for i in testingLoop\n",
    "                # other main stuffs\n",
    "                stats.testing.correctSamples += numberOfCorrectClassification\n",
    "                stats.testing.numSamples     += numberOfSamplesProcessed\n",
    "                stats.testing.lossSum        += currentLoss\n",
    "                stats.print(epoch, i)\n",
    "            stats.training.update()\n",
    "\n",
    "    '''\n",
    "    def __init__(self):\n",
    "        self.linesPrinted = 0\n",
    "        self.training = learningStat()\n",
    "        self.testing  = learningStat()\n",
    "\n",
    "    def update(self):\n",
    "        '''\n",
    "        Updates the stats for training and testing and resets the measures for next session.\n",
    "\n",
    "        Usage:\n",
    "\n",
    "        >>> stats.update()\n",
    "        '''\n",
    "        self.training.update()\n",
    "        self.training.reset()\n",
    "        self.testing.update()\n",
    "        self.testing.reset()\n",
    "\n",
    "    def print(self, epoch, iter=None, timeElapsed=None):\n",
    "        '''\n",
    "        Prints the available learning statistics from the current session on the console.\n",
    "        For Linux systems, prints the data on same terminal space (might not work properly on other systems).\n",
    "\n",
    "        Arguments:\n",
    "            * ``epoch``: epoch counter to display (required).\n",
    "            * ``iter``: iteration counter to display (not required).\n",
    "            * ``timeElapsed``: runtime information (not required).\n",
    "\n",
    "        Usage:\n",
    "\n",
    "        .. code-block:: python\n",
    "\n",
    "            # prints stats with epoch index provided\n",
    "            stats.print(epoch) \n",
    "\n",
    "            # prints stats with epoch index and iteration index provided\n",
    "            stats.print(epoch, iter=i) \n",
    "            \n",
    "            # prints stats with epoch index, iteration index and time elapsed information provided\n",
    "            stats.print(epoch, iter=i, timeElapsed=time) \n",
    "        '''\n",
    "        print('\\033[%dA'%(self.linesPrinted))\n",
    "        \n",
    "        self.linesPrinted = 1\n",
    "\n",
    "        epochStr   = 'Epoch : %10d'%(epoch)\n",
    "        iterStr    = '' if iter is None else '(i = %7d)'%(iter)\n",
    "        profileStr = '' if timeElapsed is None else ', %12.4f ms elapsed'%(timeElapsed * 1000)\n",
    "\n",
    "        print(epochStr + iterStr + profileStr)\n",
    "        print(self.training.displayString())\n",
    "        self.linesPrinted += 2\n",
    "        if self.testing.displayString() is not None:\n",
    "            print(self.testing.displayString())\n",
    "            self.linesPrinted += 1\n",
    "\n",
    "    def plot(self, figures=(1, 2), saveFig=False, path=''):\n",
    "        '''\n",
    "        Plots the available learning statistics.\n",
    "\n",
    "        Arguments:\n",
    "            * ``figures``: Index of figure ID to plot on. Default is figure(1) for loss plot and figure(2) for accuracy plot.\n",
    "            * ``saveFig``(``bool``): flag to save figure into a file.\n",
    "            * ``path``: path to save the file. Defaule is ``''``.\n",
    "\n",
    "        Usage:\n",
    "\n",
    "        .. code-block:: python\n",
    "\n",
    "            # plot stats\n",
    "            stats.plot() \n",
    "\n",
    "            # plot stats figures specified\n",
    "            stats.print(figures=(10, 11)) \n",
    "        '''\n",
    "        plt.figure(figures[0])\n",
    "        plt.cla()\n",
    "        if len(self.training.lossLog) > 0:\n",
    "            plt.semilogy(self.training.lossLog, label='Training')\n",
    "        if len(self.testing.lossLog) > 0:\n",
    "            plt.semilogy(self.testing .lossLog, label='Testing')\n",
    "        plt.xlabel('Epoch')\n",
    "        plt.ylabel('Loss')\n",
    "        plt.legend()\n",
    "        if saveFig is True: \n",
    "            plt.savefig(path + 'loss.png')\n",
    "            # plt.close()\n",
    "\n",
    "        plt.figure(figures[1])\n",
    "        plt.cla()\n",
    "        if len(self.training.accuracyLog) > 0:\n",
    "            plt.plot(self.training.accuracyLog, label='Training')\n",
    "        if len(self.testing.accuracyLog) > 0:\n",
    "            plt.plot(self.testing .accuracyLog, label='Testing')\n",
    "        plt.xlabel('Epoch')\n",
    "        plt.ylabel('Accuracy')\n",
    "        plt.legend() \n",
    "        if saveFig is True: \n",
    "            plt.savefig(path + 'accuracy.png')\n",
    "            # plt.close()\n",
    "\n",
    "    def save(self, filename=''):\n",
    "        '''\n",
    "        Saves the learning satatistics logs.\n",
    "\n",
    "        Arguments:\n",
    "            * ``filename``: filename to save the logs. ``accuracy.txt`` and ``loss.txt`` will be appended\n",
    "\n",
    "        Usage:\n",
    "\n",
    "        .. code-block:: python\n",
    "\n",
    "            # save stats\n",
    "            stats.save() \n",
    "\n",
    "            # save stats filename specified\n",
    "            stats.save(filename='Run101-0.001-') # Run101-0.001-accuracy.txt and Run101-0.001-loss.txt\n",
    "        '''\n",
    "\n",
    "        with open(filename + 'loss.txt', 'wt') as loss:\n",
    "            loss.write('#%11s %11s\\r\\n'%('Train', 'Test'))\n",
    "            for i in range(len(self.training.lossLog)): \n",
    "                loss.write('%12.6g %12.6g \\r\\n'%(self.training.lossLog[i], self.testing.lossLog[i]))\n",
    "\n",
    "        with open(filename + 'accuracy.txt', 'wt') as accuracy:\n",
    "            accuracy.write('#%11s %11s\\r\\n'%('Train', 'Test'))\n",
    "            if self.training.accuracyLog != [None]*len(self.training.accuracyLog):\n",
    "                for i in range(len(self.training.accuracyLog)): \n",
    "                    accuracy.write('%12.6g %12.6g \\r\\n'%(self.training.accuracyLog[i], self.testing.accuracyLog[i]))"
   ]
  },
  {
   "cell_type": "markdown",
   "metadata": {},
   "source": [
    "### The structure is deviated from the Cao's paper\n",
    "1. crop size from 24 to 26, to adapt the vgg16 like\n",
    "2. use the structure as the SlayerVgg16, for a fair comparison"
   ]
  },
  {
   "cell_type": "code",
   "execution_count": 4,
   "metadata": {},
   "outputs": [],
   "source": [
    "class Raw_CNN_Cifar(nn.Module):\n",
    "    def __init__(self):\n",
    "        super(Raw_CNN_Cifar, self).__init__()\n",
    "        self.conv1 = nn.Conv2d(3, 16, 5, 1, padding=1,bias=True)\n",
    "        self.conv2 = nn.Conv2d(16, 32, 3, 1, padding=1, bias=True)\n",
    "        self.conv3 = nn.Conv2d(32, 64, 3, 1, padding=1, bias=True)\n",
    "        self.fc1 = nn.Linear(64 * 6 * 6, 10, bias=True)\n",
    "\n",
    "    def forward(self, x):\n",
    "        x = F.relu(self.conv1(x)) #(3, 26, 26) -> (16, 24, 24)\n",
    "        x = F.max_pool2d(x, 2) #(16, 12, 12)\n",
    "        x = F.relu(self.conv2(x)) #(32, 12, 12)\n",
    "        x = F.max_pool2d(x, 2) #(32, 6, 6)\n",
    "        x = F.relu(self.conv3(x)) #(64, 6, 6)\n",
    "        x = x.view(-1, 64 * 6 * 6)    #(64*3*3)\n",
    "        x = self.fc1(x)  #(10*1*1)\n",
    "        \n",
    "        return F.log_softmax(x, dim=1)\n",
    "\n",
    "class Tailored_CNN_Cifar(nn.Module):\n",
    "    def __init__(self):\n",
    "        super(Tailored_CNN_Cifar, self).__init__()\n",
    "        self.conv1 = nn.Conv2d(3, 16, 5, 1, padding=1, bias=False)\n",
    "        self.conv2 = nn.Conv2d(16, 32, 3, 1, padding=1, bias=False)\n",
    "        self.conv3 = nn.Conv2d(32, 64, 3, 1, padding=1, bias=False)\n",
    "        self.fc1 = nn.Linear(64 * 6 * 6, 10, bias=False)\n",
    "\n",
    "    def forward(self, x):\n",
    "        x = F.relu(self.conv1(x))\n",
    "        x = F.avg_pool2d(x, 2)\n",
    "        x = F.relu(self.conv2(x))\n",
    "        x = F.avg_pool2d(x, 2)\n",
    "        x = F.relu(self.conv3(x))\n",
    "        x = x.view(-1, 64 * 6 * 6) \n",
    "        x = self.fc1(x)\n",
    "        \n",
    "        return F.log_softmax(x, dim=1)"
   ]
  },
  {
   "cell_type": "code",
   "execution_count": 8,
   "metadata": {},
   "outputs": [],
   "source": [
    "class CIFAR500(Dataset):\n",
    "    def __init__(self, datasetPath, train=False):\n",
    "        self.path = datasetPath\n",
    "        ds = CIFAR10(datasetPath, train=train, download=True, transform=transform_cifar(train))\n",
    "        self.samples = [ds[i] for i in range(0, 500)]\n",
    "\n",
    "    def __getitem__(self, index):\n",
    "        x, y = self.samples[index]\n",
    "        return x, y\n",
    "\n",
    "    def __len__(self):\n",
    "        return len(self.samples)"
   ]
  },
  {
   "cell_type": "code",
   "execution_count": 12,
   "metadata": {},
   "outputs": [],
   "source": [
    "BATCH_SIZE  = 32\n",
    "\n",
    "EPOCH = 30\n",
    "\n",
    "EPOCH2 =100\n",
    "\n",
    "NUM_WORKERS = 1\n",
    "\n",
    "use_cuda = torch.cuda.is_available()\n",
    "\n",
    "torch.manual_seed(1024)\n",
    "\n",
    "device = torch.device(\"cuda\" if use_cuda else \"cpu\")\n",
    "\n",
    "kwargs = {'num_workers': 1, 'pin_memory': True} if use_cuda else {}"
   ]
  },
  {
   "cell_type": "markdown",
   "metadata": {},
   "source": [
    "## Train raw and tailored CNN on full CIFAR10 dataset"
   ]
  },
  {
   "cell_type": "code",
   "execution_count": 19,
   "metadata": {},
   "outputs": [
    {
     "name": "stdout",
     "output_type": "stream",
     "text": [
      "Files already downloaded and verified\n",
      "Files already downloaded and verified\n"
     ]
    }
   ],
   "source": [
    "trainset_cifar = CIFAR10(root='./data', train=True, transform=transform_cifar(True), download=True)\n",
    "\n",
    "trainloader_cifar = torch.utils.data.DataLoader(trainset_cifar, batch_size=BATCH_SIZE,\n",
    "                                          shuffle=True, num_workers=NUM_WORKERS)\n",
    "\n",
    "testset_cifar = CIFAR10(root='./data', train=False, transform=transform_cifar(False), download=True)\n",
    "\n",
    "testloader_cifar = torch.utils.data.DataLoader(testset_cifar, batch_size=BATCH_SIZE,\n",
    "                                         shuffle=False, num_workers=NUM_WORKERS)"
   ]
  },
  {
   "cell_type": "code",
   "execution_count": 20,
   "metadata": {},
   "outputs": [
    {
     "name": "stdout",
     "output_type": "stream",
     "text": [
      "50000\n"
     ]
    },
    {
     "data": {
      "image/png": "[encoded data removed]",
      "text/plain": [
       "<Figure size 432x288 with 1 Axes>"
      ]
     },
     "metadata": {
      "needs_background": "light"
     },
     "output_type": "display_data"
    },
    {
     "data": {
      "image/png": "[encoded data removed]",
      "text/plain": [
       "<Figure size 432x288 with 1 Axes>"
      ]
     },
     "metadata": {
      "needs_background": "light"
     },
     "output_type": "display_data"
    }
   ],
   "source": [
    "print(len(trainset_cifar))\n",
    "plt.imshow(next(iter(trainloader_cifar))[0][0].permute(1,2,0))\n",
    "plt.show()\n",
    "\n",
    "plt.imshow(next(iter(testloader_cifar))[0][0].permute(1,2,0))\n",
    "plt.show()"
   ]
  },
  {
   "cell_type": "code",
   "execution_count": 13,
   "metadata": {
    "scrolled": true
   },
   "outputs": [
    {
     "name": "stderr",
     "output_type": "stream",
     "text": [
      "  3%|▎         | 1/30 [00:15<07:24, 15.34s/it]"
     ]
    },
    {
     "name": "stdout",
     "output_type": "stream",
     "text": [
      "\u001b[0A\n",
      "Epoch :          0,   15339.3300 ms elapsed\n",
      "loss = 0.050769     (min = 0.050769    )  \taccuracy = 0.40224    (max = 0.40224   )\n",
      "loss = 0.042215     (min = 0.042215    )  \taccuracy = 0.503      (max = 0.503     )\n"
     ]
    },
    {
     "name": "stderr",
     "output_type": "stream",
     "text": [
      " 10%|█         | 3/30 [00:44<06:40, 14.85s/it]"
     ]
    },
    {
     "name": "stdout",
     "output_type": "stream",
     "text": [
      "\u001b[4A\n",
      "Epoch :          2,   13996.9090 ms elapsed\n",
      "loss = 0.038156     (min = 0.038156    )  \taccuracy = 0.56684    (max = 0.56684   )\n",
      "loss = 0.033988     (min = 0.033988    )  \taccuracy = 0.614      (max = 0.614     )\n"
     ]
    },
    {
     "name": "stderr",
     "output_type": "stream",
     "text": [
      " 17%|█▋        | 5/30 [01:12<06:01, 14.45s/it]"
     ]
    },
    {
     "name": "stdout",
     "output_type": "stream",
     "text": [
      "\u001b[4A\n",
      "Epoch :          4,   14075.1700 ms elapsed\n",
      "loss = 0.033586     (min = 0.033586    )  \taccuracy = 0.62304    (max = 0.62304   )\n",
      "loss = 0.02999      (min = 0.02999     )  \taccuracy = 0.6652     (max = 0.6652    )\n"
     ]
    },
    {
     "name": "stderr",
     "output_type": "stream",
     "text": [
      " 23%|██▎       | 7/30 [01:40<05:28, 14.28s/it]"
     ]
    },
    {
     "name": "stdout",
     "output_type": "stream",
     "text": [
      "\u001b[4A\n",
      "Epoch :          6,   14189.9930 ms elapsed\n",
      "loss = 0.031064     (min = 0.031064    )  \taccuracy = 0.65134    (max = 0.65134   )\n",
      "loss = 0.029512     (min = 0.029512    )  \taccuracy = 0.6615     (max = 0.6725    )\n"
     ]
    },
    {
     "name": "stderr",
     "output_type": "stream",
     "text": [
      " 30%|███       | 9/30 [02:09<05:00, 14.30s/it]"
     ]
    },
    {
     "name": "stdout",
     "output_type": "stream",
     "text": [
      "\u001b[4A\n",
      "Epoch :          8,   14575.9070 ms elapsed\n",
      "loss = 0.029476     (min = 0.029476    )  \taccuracy = 0.67128    (max = 0.67128   )\n",
      "loss = 0.029825     (min = 0.028889    )  \taccuracy = 0.6711     (max = 0.6743    )\n"
     ]
    },
    {
     "name": "stderr",
     "output_type": "stream",
     "text": [
      " 37%|███▋      | 11/30 [02:37<04:29, 14.19s/it]"
     ]
    },
    {
     "name": "stdout",
     "output_type": "stream",
     "text": [
      "\u001b[4A\n",
      "Epoch :         10,   14131.0380 ms elapsed\n",
      "loss = 0.028135     (min = 0.028135    )  \taccuracy = 0.68704    (max = 0.68704   )\n",
      "loss = 0.026172     (min = 0.026172    )  \taccuracy = 0.7104     (max = 0.7104    )\n"
     ]
    },
    {
     "name": "stderr",
     "output_type": "stream",
     "text": [
      " 43%|████▎     | 13/30 [03:05<04:00, 14.18s/it]"
     ]
    },
    {
     "name": "stdout",
     "output_type": "stream",
     "text": [
      "\u001b[4A\n",
      "Epoch :         12,   14163.6370 ms elapsed\n",
      "loss = 0.027067     (min = 0.027067    )  \taccuracy = 0.6984     (max = 0.6984    )\n",
      "loss = 0.026058     (min = 0.025592    )  \taccuracy = 0.7089     (max = 0.7194    )\n"
     ]
    },
    {
     "name": "stderr",
     "output_type": "stream",
     "text": [
      " 50%|█████     | 15/30 [03:34<03:34, 14.33s/it]"
     ]
    },
    {
     "name": "stdout",
     "output_type": "stream",
     "text": [
      "\u001b[4A\n",
      "Epoch :         14,   14757.8390 ms elapsed\n",
      "loss = 0.026263     (min = 0.026263    )  \taccuracy = 0.70746    (max = 0.70746   )\n",
      "loss = 0.024247     (min = 0.024247    )  \taccuracy = 0.7335     (max = 0.7335    )\n"
     ]
    },
    {
     "name": "stderr",
     "output_type": "stream",
     "text": [
      " 57%|█████▋    | 17/30 [04:02<03:04, 14.23s/it]"
     ]
    },
    {
     "name": "stdout",
     "output_type": "stream",
     "text": [
      "\u001b[4A\n",
      "Epoch :         16,   14091.4430 ms elapsed\n",
      "loss = 0.025956     (min = 0.025956    )  \taccuracy = 0.71048    (max = 0.7108    )\n",
      "loss = 0.024613     (min = 0.024247    )  \taccuracy = 0.7299     (max = 0.7335    )\n"
     ]
    },
    {
     "name": "stderr",
     "output_type": "stream",
     "text": [
      " 63%|██████▎   | 19/30 [04:30<02:35, 14.10s/it]"
     ]
    },
    {
     "name": "stdout",
     "output_type": "stream",
     "text": [
      "\u001b[4A\n",
      "Epoch :         18,   14013.7460 ms elapsed\n",
      "loss = 0.025159     (min = 0.025159    )  \taccuracy = 0.72178    (max = 0.72178   )\n",
      "loss = 0.025483     (min = 0.024247    )  \taccuracy = 0.722      (max = 0.7335    )\n"
     ]
    },
    {
     "name": "stderr",
     "output_type": "stream",
     "text": [
      " 70%|███████   | 21/30 [04:58<02:05, 14.00s/it]"
     ]
    },
    {
     "name": "stdout",
     "output_type": "stream",
     "text": [
      "\u001b[4A\n",
      "Epoch :         20,   14133.0640 ms elapsed\n",
      "loss = 0.025053     (min = 0.02505     )  \taccuracy = 0.72014    (max = 0.72356   )\n",
      "loss = 0.024898     (min = 0.023245    )  \taccuracy = 0.7243     (max = 0.7452    )\n"
     ]
    },
    {
     "name": "stderr",
     "output_type": "stream",
     "text": [
      " 77%|███████▋  | 23/30 [05:27<01:39, 14.27s/it]"
     ]
    },
    {
     "name": "stdout",
     "output_type": "stream",
     "text": [
      "\u001b[4A\n",
      "Epoch :         22,   14596.0920 ms elapsed\n",
      "loss = 0.024267     (min = 0.024267    )  \taccuracy = 0.72946    (max = 0.72946   )\n",
      "loss = 0.023212     (min = 0.023212    )  \taccuracy = 0.7464     (max = 0.7464    )\n"
     ]
    },
    {
     "name": "stderr",
     "output_type": "stream",
     "text": [
      " 83%|████████▎ | 25/30 [05:55<01:10, 14.15s/it]"
     ]
    },
    {
     "name": "stdout",
     "output_type": "stream",
     "text": [
      "\u001b[4A\n",
      "Epoch :         24,   13951.8280 ms elapsed\n",
      "loss = 0.024095     (min = 0.024095    )  \taccuracy = 0.7342     (max = 0.7342    )\n",
      "loss = 0.02471      (min = 0.023212    )  \taccuracy = 0.7348     (max = 0.7464    )\n"
     ]
    },
    {
     "name": "stderr",
     "output_type": "stream",
     "text": [
      " 90%|█████████ | 27/30 [06:23<00:42, 14.02s/it]"
     ]
    },
    {
     "name": "stdout",
     "output_type": "stream",
     "text": [
      "\u001b[4A\n",
      "Epoch :         26,   13932.9070 ms elapsed\n",
      "loss = 0.023671     (min = 0.023671    )  \taccuracy = 0.73614    (max = 0.73614   )\n",
      "loss = 0.023474     (min = 0.0232      )  \taccuracy = 0.7382     (max = 0.7464    )\n"
     ]
    },
    {
     "name": "stderr",
     "output_type": "stream",
     "text": [
      " 97%|█████████▋| 29/30 [06:51<00:14, 14.05s/it]"
     ]
    },
    {
     "name": "stdout",
     "output_type": "stream",
     "text": [
      "\u001b[4A\n",
      "Epoch :         28,   13925.1380 ms elapsed\n",
      "loss = 0.023324     (min = 0.023324    )  \taccuracy = 0.74276    (max = 0.74276   )\n",
      "loss = 0.023693     (min = 0.0232      )  \taccuracy = 0.7368     (max = 0.7464    )\n"
     ]
    },
    {
     "name": "stderr",
     "output_type": "stream",
     "text": [
      "\r",
      "100%|██████████| 30/30 [07:05<00:00, 14.11s/it]"
     ]
    },
    {
     "name": "stdout",
     "output_type": "stream",
     "text": [
      "Finished Training\n"
     ]
    },
    {
     "name": "stderr",
     "output_type": "stream",
     "text": [
      "\n"
     ]
    },
    {
     "name": "stdout",
     "output_type": "stream",
     "text": [
      "Accuracy of the network: 74 %\n"
     ]
    },
    {
     "data": {
      "image/png": "[encoded data removed]",
      "text/plain": [
       "<Figure size 432x288 with 1 Axes>"
      ]
     },
     "metadata": {
      "needs_background": "light"
     },
     "output_type": "display_data"
    },
    {
     "data": {
      "image/png": "[encoded data removed]",
      "text/plain": [
       "<Figure size 432x288 with 1 Axes>"
      ]
     },
     "metadata": {
      "needs_background": "light"
     },
     "output_type": "display_data"
    },
    {
     "name": "stdout",
     "output_type": "stream",
     "text": [
      "Saving models...\n"
     ]
    }
   ],
   "source": [
    "raw_cnn_cifar = Raw_CNN_Cifar().to(device)\n",
    "\n",
    "raw_criterion = nn.CrossEntropyLoss()\n",
    "raw_optimizer = optim.Adam(raw_cnn_cifar.parameters(), lr=0.001)\n",
    "raw_stats = learningStats()\n",
    "\n",
    "train(raw_cnn_cifar,'raw_cnn_cifar',\n",
    "      trainloader_cifar,testloader_cifar,\n",
    "      raw_criterion, \n",
    "      raw_optimizer,\n",
    "      raw_stats,\n",
    "      epoch=EPOCH)"
   ]
  },
  {
   "cell_type": "code",
   "execution_count": 14,
   "metadata": {},
   "outputs": [
    {
     "name": "stdout",
     "output_type": "stream",
     "text": [
      "The classification accuracy:  0.7425\n",
      "\n"
     ]
    },
    {
     "data": {
      "image/png": "[encoded data removed]",
      "text/plain": [
       "<Figure size 432x288 with 2 Axes>"
      ]
     },
     "metadata": {
      "needs_background": "light"
     },
     "output_type": "display_data"
    }
   ],
   "source": [
    "labels, preds = get_labels(raw_cnn_cifar, testloader_cifar)\n",
    "test_method(labels.cpu().numpy(), preds.cpu().numpy())"
   ]
  },
  {
   "cell_type": "code",
   "execution_count": 21,
   "metadata": {
    "scrolled": true
   },
   "outputs": [
    {
     "name": "stderr",
     "output_type": "stream",
     "text": [
      "  3%|▎         | 1/30 [00:14<06:58, 14.44s/it]"
     ]
    },
    {
     "name": "stdout",
     "output_type": "stream",
     "text": [
      "\u001b[0A\n",
      "Epoch :          0,   14436.6980 ms elapsed\n",
      "loss = 0.053863     (min = 0.053863    )  \taccuracy = 0.36688    (max = 0.36688   )\n",
      "loss = 0.045833     (min = 0.045833    )  \taccuracy = 0.4817     (max = 0.4817    )\n"
     ]
    },
    {
     "name": "stderr",
     "output_type": "stream",
     "text": [
      " 10%|█         | 3/30 [00:43<06:29, 14.42s/it]"
     ]
    },
    {
     "name": "stdout",
     "output_type": "stream",
     "text": [
      "\u001b[4A\n",
      "Epoch :          2,   14492.1860 ms elapsed\n",
      "loss = 0.042593     (min = 0.042593    )  \taccuracy = 0.51546    (max = 0.51546   )\n",
      "loss = 0.038936     (min = 0.038936    )  \taccuracy = 0.5591     (max = 0.5591    )\n"
     ]
    },
    {
     "name": "stderr",
     "output_type": "stream",
     "text": [
      " 17%|█▋        | 5/30 [01:11<05:59, 14.37s/it]"
     ]
    },
    {
     "name": "stdout",
     "output_type": "stream",
     "text": [
      "\u001b[4A\n",
      "Epoch :          4,   14318.8430 ms elapsed\n",
      "loss = 0.037152     (min = 0.037152    )  \taccuracy = 0.58428    (max = 0.58428   )\n",
      "loss = 0.03507      (min = 0.03507     )  \taccuracy = 0.6057     (max = 0.6057    )\n"
     ]
    },
    {
     "name": "stderr",
     "output_type": "stream",
     "text": [
      " 23%|██▎       | 7/30 [01:40<05:31, 14.41s/it]"
     ]
    },
    {
     "name": "stdout",
     "output_type": "stream",
     "text": [
      "\u001b[4A\n",
      "Epoch :          6,   14473.7330 ms elapsed\n",
      "loss = 0.0336       (min = 0.0336      )  \taccuracy = 0.628      (max = 0.628     )\n",
      "loss = 0.03235      (min = 0.03235     )  \taccuracy = 0.6466     (max = 0.6466    )\n"
     ]
    },
    {
     "name": "stderr",
     "output_type": "stream",
     "text": [
      " 30%|███       | 9/30 [02:09<05:04, 14.51s/it]"
     ]
    },
    {
     "name": "stdout",
     "output_type": "stream",
     "text": [
      "\u001b[4A\n",
      "Epoch :          8,   14581.6000 ms elapsed\n",
      "loss = 0.031116     (min = 0.031116    )  \taccuracy = 0.65638    (max = 0.65638   )\n",
      "loss = 0.029348     (min = 0.029348    )  \taccuracy = 0.679      (max = 0.679     )\n"
     ]
    },
    {
     "name": "stderr",
     "output_type": "stream",
     "text": [
      " 37%|███▋      | 11/30 [02:39<04:36, 14.58s/it]"
     ]
    },
    {
     "name": "stdout",
     "output_type": "stream",
     "text": [
      "\u001b[4A\n",
      "Epoch :         10,   14562.8800 ms elapsed\n",
      "loss = 0.029641     (min = 0.029641    )  \taccuracy = 0.67132    (max = 0.67132   )\n",
      "loss = 0.028965     (min = 0.028965    )  \taccuracy = 0.6803     (max = 0.6824    )\n"
     ]
    },
    {
     "name": "stderr",
     "output_type": "stream",
     "text": [
      " 43%|████▎     | 13/30 [03:08<04:05, 14.47s/it]"
     ]
    },
    {
     "name": "stdout",
     "output_type": "stream",
     "text": [
      "\u001b[4A\n",
      "Epoch :         12,   14322.0160 ms elapsed\n",
      "loss = 0.028624     (min = 0.028624    )  \taccuracy = 0.68452    (max = 0.68452   )\n",
      "loss = 0.027736     (min = 0.027296    )  \taccuracy = 0.6976     (max = 0.7017    )\n"
     ]
    },
    {
     "name": "stderr",
     "output_type": "stream",
     "text": [
      " 50%|█████     | 15/30 [03:36<03:35, 14.37s/it]"
     ]
    },
    {
     "name": "stdout",
     "output_type": "stream",
     "text": [
      "\u001b[4A\n",
      "Epoch :         14,   14365.9860 ms elapsed\n",
      "loss = 0.027402     (min = 0.027402    )  \taccuracy = 0.69896    (max = 0.69896   )\n",
      "loss = 0.026056     (min = 0.026056    )  \taccuracy = 0.7182     (max = 0.7182    )\n"
     ]
    },
    {
     "name": "stderr",
     "output_type": "stream",
     "text": [
      " 57%|█████▋    | 17/30 [04:05<03:06, 14.35s/it]"
     ]
    },
    {
     "name": "stdout",
     "output_type": "stream",
     "text": [
      "\u001b[4A\n",
      "Epoch :         16,   14353.9500 ms elapsed\n",
      "loss = 0.026771     (min = 0.026771    )  \taccuracy = 0.70522    (max = 0.70522   )\n",
      "loss = 0.025287     (min = 0.025287    )  \taccuracy = 0.7255     (max = 0.7255    )\n"
     ]
    },
    {
     "name": "stderr",
     "output_type": "stream",
     "text": [
      " 63%|██████▎   | 19/30 [04:33<02:37, 14.34s/it]"
     ]
    },
    {
     "name": "stdout",
     "output_type": "stream",
     "text": [
      "\u001b[4A\n",
      "Epoch :         18,   14327.8710 ms elapsed\n",
      "loss = 0.026046     (min = 0.026046    )  \taccuracy = 0.71556    (max = 0.71556   )\n",
      "loss = 0.024674     (min = 0.024674    )  \taccuracy = 0.7332     (max = 0.7332    )\n"
     ]
    },
    {
     "name": "stderr",
     "output_type": "stream",
     "text": [
      " 70%|███████   | 21/30 [05:02<02:08, 14.30s/it]"
     ]
    },
    {
     "name": "stdout",
     "output_type": "stream",
     "text": [
      "\u001b[4A\n",
      "Epoch :         20,   14143.7770 ms elapsed\n",
      "loss = 0.025455     (min = 0.025455    )  \taccuracy = 0.71918    (max = 0.71918   )\n",
      "loss = 0.025809     (min = 0.024674    )  \taccuracy = 0.7212     (max = 0.7332    )\n"
     ]
    },
    {
     "name": "stderr",
     "output_type": "stream",
     "text": [
      " 77%|███████▋  | 23/30 [05:31<01:40, 14.31s/it]"
     ]
    },
    {
     "name": "stdout",
     "output_type": "stream",
     "text": [
      "\u001b[4A\n",
      "Epoch :         22,   14352.6880 ms elapsed\n",
      "loss = 0.025171     (min = 0.025171    )  \taccuracy = 0.72468    (max = 0.72468   )\n",
      "loss = 0.024795     (min = 0.024287    )  \taccuracy = 0.731      (max = 0.7332    )\n"
     ]
    },
    {
     "name": "stderr",
     "output_type": "stream",
     "text": [
      " 83%|████████▎ | 25/30 [05:59<01:11, 14.33s/it]"
     ]
    },
    {
     "name": "stdout",
     "output_type": "stream",
     "text": [
      "\u001b[4A\n",
      "Epoch :         24,   14360.3220 ms elapsed\n",
      "loss = 0.024574     (min = 0.024574    )  \taccuracy = 0.73032    (max = 0.73032   )\n",
      "loss = 0.024514     (min = 0.024287    )  \taccuracy = 0.7361     (max = 0.7361    )\n"
     ]
    },
    {
     "name": "stderr",
     "output_type": "stream",
     "text": [
      " 90%|█████████ | 27/30 [06:27<00:42, 14.20s/it]"
     ]
    },
    {
     "name": "stdout",
     "output_type": "stream",
     "text": [
      "\u001b[4A\n",
      "Epoch :         26,   14311.2400 ms elapsed\n",
      "loss = 0.024287     (min = 0.024287    )  \taccuracy = 0.73338    (max = 0.73338   )\n",
      "loss = 0.024628     (min = 0.024287    )  \taccuracy = 0.7344     (max = 0.7361    )\n"
     ]
    },
    {
     "name": "stderr",
     "output_type": "stream",
     "text": [
      " 97%|█████████▋| 29/30 [06:55<00:14, 14.06s/it]"
     ]
    },
    {
     "name": "stdout",
     "output_type": "stream",
     "text": [
      "\u001b[4A\n",
      "Epoch :         28,   13810.1830 ms elapsed\n",
      "loss = 0.023901     (min = 0.023901    )  \taccuracy = 0.7385     (max = 0.7385    )\n",
      "loss = 0.023753     (min = 0.023753    )  \taccuracy = 0.7462     (max = 0.7462    )\n"
     ]
    },
    {
     "name": "stderr",
     "output_type": "stream",
     "text": [
      "\r",
      "100%|██████████| 30/30 [07:09<00:00, 13.99s/it]"
     ]
    },
    {
     "name": "stdout",
     "output_type": "stream",
     "text": [
      "Finished Training\n"
     ]
    },
    {
     "name": "stderr",
     "output_type": "stream",
     "text": [
      "\n"
     ]
    },
    {
     "name": "stdout",
     "output_type": "stream",
     "text": [
      "Accuracy of the network: 74 %\n"
     ]
    },
    {
     "data": {
      "image/png": "[encoded data removed]",
      "text/plain": [
       "<Figure size 432x288 with 1 Axes>"
      ]
     },
     "metadata": {
      "needs_background": "light"
     },
     "output_type": "display_data"
    },
    {
     "data": {
      "image/png": "[encoded data removed]",
      "text/plain": [
       "<Figure size 432x288 with 1 Axes>"
      ]
     },
     "metadata": {
      "needs_background": "light"
     },
     "output_type": "display_data"
    },
    {
     "name": "stdout",
     "output_type": "stream",
     "text": [
      "Saving models...\n"
     ]
    }
   ],
   "source": [
    "tailored_cnn_cifar = Tailored_CNN_Cifar().to(device)\n",
    "\n",
    "raw_criterion = nn.CrossEntropyLoss()\n",
    "raw_optimizer = optim.Adam(tailored_cnn_cifar.parameters(), lr=0.001)\n",
    "raw_stats = learningStats()\n",
    "\n",
    "train(tailored_cnn_cifar,'tailored_cnn_cifar',\n",
    "      trainloader_cifar,testloader_cifar,\n",
    "      raw_criterion, \n",
    "      raw_optimizer,\n",
    "      raw_stats,\n",
    "      epoch=EPOCH)"
   ]
  },
  {
   "cell_type": "code",
   "execution_count": 22,
   "metadata": {},
   "outputs": [
    {
     "name": "stdout",
     "output_type": "stream",
     "text": [
      "The classification accuracy:  0.7444\n",
      "\n"
     ]
    },
    {
     "data": {
      "image/png": "[encoded data removed]",
      "text/plain": [
       "<Figure size 432x288 with 2 Axes>"
      ]
     },
     "metadata": {
      "needs_background": "light"
     },
     "output_type": "display_data"
    }
   ],
   "source": [
    "labels, preds = get_labels(tailored_cnn_cifar, testloader_cifar)\n",
    "test_method(labels.cpu().numpy(), preds.cpu().numpy())"
   ]
  },
  {
   "cell_type": "markdown",
   "metadata": {},
   "source": [
    "## Train raw and tailored CNN on small CIFAR10 dataset"
   ]
  },
  {
   "cell_type": "code",
   "execution_count": 23,
   "metadata": {},
   "outputs": [
    {
     "name": "stdout",
     "output_type": "stream",
     "text": [
      "Files already downloaded and verified\n",
      "Files already downloaded and verified\n"
     ]
    }
   ],
   "source": [
    "trainset_cifar = CIFAR500('./data', train=True)\n",
    "\n",
    "trainloader_cifar = torch.utils.data.DataLoader(trainset_cifar, batch_size=BATCH_SIZE,\n",
    "                                          shuffle=True, num_workers=NUM_WORKERS)\n",
    "\n",
    "testset_cifar = CIFAR500('./data', train=False)\n",
    "\n",
    "testloader_cifar = torch.utils.data.DataLoader(testset_cifar, batch_size=BATCH_SIZE,\n",
    "                                         shuffle=False, num_workers=NUM_WORKERS)"
   ]
  },
  {
   "cell_type": "code",
   "execution_count": 24,
   "metadata": {},
   "outputs": [
    {
     "name": "stdout",
     "output_type": "stream",
     "text": [
      "500\n"
     ]
    }
   ],
   "source": [
    "print(len(trainloader_cifar.dataset))"
   ]
  },
  {
   "cell_type": "code",
   "execution_count": 25,
   "metadata": {
    "scrolled": true
   },
   "outputs": [
    {
     "name": "stderr",
     "output_type": "stream",
     "text": [
      "  1%|          | 1/100 [00:00<00:35,  2.79it/s]"
     ]
    },
    {
     "name": "stdout",
     "output_type": "stream",
     "text": [
      "\u001b[0A\n",
      "Epoch :          0,     358.4160 ms elapsed\n",
      "loss = 0.073715     (min = 0.073715    )  \taccuracy = 0.106      (max = 0.106     )\n",
      "loss = 0.073352     (min = 0.073352    )  \taccuracy = 0.082      (max = 0.082     )\n"
     ]
    },
    {
     "name": "stderr",
     "output_type": "stream",
     "text": [
      "  3%|▎         | 3/100 [00:01<00:36,  2.67it/s]"
     ]
    },
    {
     "name": "stdout",
     "output_type": "stream",
     "text": [
      "\u001b[4A\n",
      "Epoch :          2,     383.6930 ms elapsed\n",
      "loss = 0.06716      (min = 0.06716     )  \taccuracy = 0.232      (max = 0.232     )\n",
      "loss = 0.065944     (min = 0.065944    )  \taccuracy = 0.224      (max = 0.224     )\n"
     ]
    },
    {
     "name": "stderr",
     "output_type": "stream",
     "text": [
      "  5%|▌         | 5/100 [00:01<00:35,  2.64it/s]"
     ]
    },
    {
     "name": "stdout",
     "output_type": "stream",
     "text": [
      "\u001b[4A\n",
      "Epoch :          4,     382.9800 ms elapsed\n",
      "loss = 0.061023     (min = 0.061023    )  \taccuracy = 0.312      (max = 0.312     )\n",
      "loss = 0.06308      (min = 0.06308     )  \taccuracy = 0.31       (max = 0.31      )\n"
     ]
    },
    {
     "name": "stderr",
     "output_type": "stream",
     "text": [
      "  7%|▋         | 7/100 [00:02<00:36,  2.57it/s]"
     ]
    },
    {
     "name": "stdout",
     "output_type": "stream",
     "text": [
      "\u001b[4A\n",
      "Epoch :          6,     382.0850 ms elapsed\n",
      "loss = 0.0568       (min = 0.0568      )  \taccuracy = 0.344      (max = 0.344     )\n",
      "loss = 0.062545     (min = 0.062545    )  \taccuracy = 0.268      (max = 0.31      )\n"
     ]
    },
    {
     "name": "stderr",
     "output_type": "stream",
     "text": [
      "  9%|▉         | 9/100 [00:03<00:36,  2.52it/s]"
     ]
    },
    {
     "name": "stdout",
     "output_type": "stream",
     "text": [
      "\u001b[4A\n",
      "Epoch :          8,     387.6800 ms elapsed\n",
      "loss = 0.053216     (min = 0.053216    )  \taccuracy = 0.358      (max = 0.362     )\n",
      "loss = 0.0604       (min = 0.0604      )  \taccuracy = 0.294      (max = 0.31      )\n"
     ]
    },
    {
     "name": "stderr",
     "output_type": "stream",
     "text": [
      " 11%|█         | 11/100 [00:04<00:34,  2.56it/s]"
     ]
    },
    {
     "name": "stdout",
     "output_type": "stream",
     "text": [
      "\u001b[4A\n",
      "Epoch :         10,     376.7300 ms elapsed\n",
      "loss = 0.049252     (min = 0.049252    )  \taccuracy = 0.422      (max = 0.422     )\n",
      "loss = 0.06393      (min = 0.0604      )  \taccuracy = 0.3        (max = 0.316     )\n"
     ]
    },
    {
     "name": "stderr",
     "output_type": "stream",
     "text": [
      " 13%|█▎        | 13/100 [00:05<00:34,  2.54it/s]"
     ]
    },
    {
     "name": "stdout",
     "output_type": "stream",
     "text": [
      "\u001b[4A\n",
      "Epoch :         12,     406.0990 ms elapsed\n",
      "loss = 0.046112     (min = 0.046112    )  \taccuracy = 0.454      (max = 0.454     )\n",
      "loss = 0.066279     (min = 0.0604      )  \taccuracy = 0.276      (max = 0.316     )\n"
     ]
    },
    {
     "name": "stderr",
     "output_type": "stream",
     "text": [
      " 15%|█▌        | 15/100 [00:05<00:32,  2.58it/s]"
     ]
    },
    {
     "name": "stdout",
     "output_type": "stream",
     "text": [
      "\u001b[4A\n",
      "Epoch :         14,     377.1000 ms elapsed\n",
      "loss = 0.042593     (min = 0.042593    )  \taccuracy = 0.518      (max = 0.518     )\n",
      "loss = 0.064523     (min = 0.0604      )  \taccuracy = 0.302      (max = 0.316     )\n"
     ]
    },
    {
     "name": "stderr",
     "output_type": "stream",
     "text": [
      " 17%|█▋        | 17/100 [00:06<00:33,  2.50it/s]"
     ]
    },
    {
     "name": "stdout",
     "output_type": "stream",
     "text": [
      "\u001b[4A\n",
      "Epoch :         16,     401.3230 ms elapsed\n",
      "loss = 0.038609     (min = 0.038609    )  \taccuracy = 0.57       (max = 0.57      )\n",
      "loss = 0.065502     (min = 0.0604      )  \taccuracy = 0.304      (max = 0.316     )\n"
     ]
    },
    {
     "name": "stderr",
     "output_type": "stream",
     "text": [
      " 19%|█▉        | 19/100 [00:07<00:31,  2.55it/s]"
     ]
    },
    {
     "name": "stdout",
     "output_type": "stream",
     "text": [
      "\u001b[4A\n",
      "Epoch :         18,     388.2800 ms elapsed\n",
      "loss = 0.034235     (min = 0.034235    )  \taccuracy = 0.624      (max = 0.624     )\n",
      "loss = 0.067167     (min = 0.0604      )  \taccuracy = 0.302      (max = 0.316     )\n"
     ]
    },
    {
     "name": "stderr",
     "output_type": "stream",
     "text": [
      " 21%|██        | 21/100 [00:08<00:31,  2.53it/s]"
     ]
    },
    {
     "name": "stdout",
     "output_type": "stream",
     "text": [
      "\u001b[4A\n",
      "Epoch :         20,     391.6760 ms elapsed\n",
      "loss = 0.032303     (min = 0.032303    )  \taccuracy = 0.626      (max = 0.626     )\n",
      "loss = 0.070051     (min = 0.0604      )  \taccuracy = 0.28       (max = 0.316     )\n"
     ]
    },
    {
     "name": "stderr",
     "output_type": "stream",
     "text": [
      " 23%|██▎       | 23/100 [00:09<00:30,  2.53it/s]"
     ]
    },
    {
     "name": "stdout",
     "output_type": "stream",
     "text": [
      "\u001b[4A\n",
      "Epoch :         22,     394.4380 ms elapsed\n",
      "loss = 0.026271     (min = 0.026271    )  \taccuracy = 0.714      (max = 0.714     )\n",
      "loss = 0.079514     (min = 0.0604      )  \taccuracy = 0.286      (max = 0.316     )\n"
     ]
    },
    {
     "name": "stderr",
     "output_type": "stream",
     "text": [
      " 25%|██▌       | 25/100 [00:09<00:29,  2.54it/s]"
     ]
    },
    {
     "name": "stdout",
     "output_type": "stream",
     "text": [
      "\u001b[4A\n",
      "Epoch :         24,     385.6810 ms elapsed\n",
      "loss = 0.025585     (min = 0.025585    )  \taccuracy = 0.738      (max = 0.738     )\n",
      "loss = 0.076926     (min = 0.0604      )  \taccuracy = 0.294      (max = 0.316     )\n"
     ]
    },
    {
     "name": "stderr",
     "output_type": "stream",
     "text": [
      " 27%|██▋       | 27/100 [00:10<00:28,  2.57it/s]"
     ]
    },
    {
     "name": "stdout",
     "output_type": "stream",
     "text": [
      "\u001b[4A\n",
      "Epoch :         26,     379.0200 ms elapsed\n",
      "loss = 0.019511     (min = 0.019511    )  \taccuracy = 0.8        (max = 0.8       )\n",
      "loss = 0.085537     (min = 0.0604      )  \taccuracy = 0.284      (max = 0.316     )\n"
     ]
    },
    {
     "name": "stderr",
     "output_type": "stream",
     "text": [
      " 29%|██▉       | 29/100 [00:11<00:27,  2.55it/s]"
     ]
    },
    {
     "name": "stdout",
     "output_type": "stream",
     "text": [
      "\u001b[4A\n",
      "Epoch :         28,     375.0770 ms elapsed\n",
      "loss = 0.014084     (min = 0.014084    )  \taccuracy = 0.87       (max = 0.87      )\n",
      "loss = 0.094107     (min = 0.0604      )  \taccuracy = 0.286      (max = 0.316     )\n"
     ]
    },
    {
     "name": "stderr",
     "output_type": "stream",
     "text": [
      " 31%|███       | 31/100 [00:12<00:27,  2.53it/s]"
     ]
    },
    {
     "name": "stdout",
     "output_type": "stream",
     "text": [
      "\u001b[4A\n",
      "Epoch :         30,     395.5060 ms elapsed\n",
      "loss = 0.013679     (min = 0.013382    )  \taccuracy = 0.852      (max = 0.878     )\n",
      "loss = 0.093324     (min = 0.0604      )  \taccuracy = 0.288      (max = 0.316     )\n"
     ]
    },
    {
     "name": "stderr",
     "output_type": "stream",
     "text": [
      " 33%|███▎      | 33/100 [00:12<00:26,  2.51it/s]"
     ]
    },
    {
     "name": "stdout",
     "output_type": "stream",
     "text": [
      "\u001b[4A\n",
      "Epoch :         32,     397.5880 ms elapsed\n",
      "loss = 0.0089224    (min = 0.0089224   )  \taccuracy = 0.918      (max = 0.92      )\n",
      "loss = 0.10704      (min = 0.0604      )  \taccuracy = 0.276      (max = 0.316     )\n"
     ]
    },
    {
     "name": "stderr",
     "output_type": "stream",
     "text": [
      " 35%|███▌      | 35/100 [00:13<00:26,  2.50it/s]"
     ]
    },
    {
     "name": "stdout",
     "output_type": "stream",
     "text": [
      "\u001b[4A\n",
      "Epoch :         34,     396.6940 ms elapsed\n",
      "loss = 0.0078043    (min = 0.0078043   )  \taccuracy = 0.94       (max = 0.94      )\n",
      "loss = 0.11601      (min = 0.0604      )  \taccuracy = 0.29       (max = 0.316     )\n"
     ]
    },
    {
     "name": "stderr",
     "output_type": "stream",
     "text": [
      " 37%|███▋      | 37/100 [00:14<00:24,  2.53it/s]"
     ]
    },
    {
     "name": "stdout",
     "output_type": "stream",
     "text": [
      "\u001b[4A\n",
      "Epoch :         36,     397.3570 ms elapsed\n",
      "loss = 0.0059852    (min = 0.0059852   )  \taccuracy = 0.956      (max = 0.956     )\n",
      "loss = 0.12394      (min = 0.0604      )  \taccuracy = 0.27       (max = 0.316     )\n"
     ]
    },
    {
     "name": "stderr",
     "output_type": "stream",
     "text": [
      " 39%|███▉      | 39/100 [00:15<00:24,  2.51it/s]"
     ]
    },
    {
     "name": "stdout",
     "output_type": "stream",
     "text": [
      "\u001b[4A\n",
      "Epoch :         38,     398.5630 ms elapsed\n",
      "loss = 0.0038838    (min = 0.0038838   )  \taccuracy = 0.98       (max = 0.98      )\n",
      "loss = 0.12938      (min = 0.0604      )  \taccuracy = 0.282      (max = 0.316     )\n"
     ]
    },
    {
     "name": "stderr",
     "output_type": "stream",
     "text": [
      " 41%|████      | 41/100 [00:16<00:23,  2.53it/s]"
     ]
    },
    {
     "name": "stdout",
     "output_type": "stream",
     "text": [
      "\u001b[4A\n",
      "Epoch :         40,     393.0450 ms elapsed\n",
      "loss = 0.0033574    (min = 0.0031139   )  \taccuracy = 0.976      (max = 0.99      )\n",
      "loss = 0.14018      (min = 0.0604      )  \taccuracy = 0.294      (max = 0.316     )\n"
     ]
    },
    {
     "name": "stderr",
     "output_type": "stream",
     "text": [
      " 43%|████▎     | 43/100 [00:16<00:22,  2.52it/s]"
     ]
    },
    {
     "name": "stdout",
     "output_type": "stream",
     "text": [
      "\u001b[4A\n",
      "Epoch :         42,     397.3400 ms elapsed\n",
      "loss = 0.0028782    (min = 0.0028782   )  \taccuracy = 0.992      (max = 0.992     )\n",
      "loss = 0.13928      (min = 0.0604      )  \taccuracy = 0.282      (max = 0.316     )\n"
     ]
    },
    {
     "name": "stderr",
     "output_type": "stream",
     "text": [
      " 45%|████▌     | 45/100 [00:17<00:21,  2.57it/s]"
     ]
    },
    {
     "name": "stdout",
     "output_type": "stream",
     "text": [
      "\u001b[4A\n",
      "Epoch :         44,     379.9650 ms elapsed\n",
      "loss = 0.0017448    (min = 0.0017448   )  \taccuracy = 0.992      (max = 0.992     )\n",
      "loss = 0.15043      (min = 0.0604      )  \taccuracy = 0.282      (max = 0.316     )\n"
     ]
    },
    {
     "name": "stderr",
     "output_type": "stream",
     "text": [
      " 47%|████▋     | 47/100 [00:18<00:21,  2.52it/s]"
     ]
    },
    {
     "name": "stdout",
     "output_type": "stream",
     "text": [
      "\u001b[4A\n",
      "Epoch :         46,     399.5990 ms elapsed\n",
      "loss = 0.0010333    (min = 0.0010333   )  \taccuracy = 1          (max = 1         )\n",
      "loss = 0.15598      (min = 0.0604      )  \taccuracy = 0.28       (max = 0.316     )\n"
     ]
    },
    {
     "name": "stderr",
     "output_type": "stream",
     "text": [
      " 49%|████▉     | 49/100 [00:19<00:20,  2.48it/s]"
     ]
    },
    {
     "name": "stdout",
     "output_type": "stream",
     "text": [
      "\u001b[4A\n",
      "Epoch :         48,     409.6280 ms elapsed\n",
      "loss = 0.00074797   (min = 0.00074797  )  \taccuracy = 1          (max = 1         )\n",
      "loss = 0.16508      (min = 0.0604      )  \taccuracy = 0.282      (max = 0.316     )\n"
     ]
    },
    {
     "name": "stderr",
     "output_type": "stream",
     "text": [
      " 51%|█████     | 51/100 [00:20<00:19,  2.54it/s]"
     ]
    },
    {
     "name": "stdout",
     "output_type": "stream",
     "text": [
      "\u001b[4A\n",
      "Epoch :         50,     400.2870 ms elapsed\n",
      "loss = 0.00054218   (min = 0.00054218  )  \taccuracy = 1          (max = 1         )\n",
      "loss = 0.17168      (min = 0.0604      )  \taccuracy = 0.288      (max = 0.316     )\n"
     ]
    },
    {
     "name": "stderr",
     "output_type": "stream",
     "text": [
      " 53%|█████▎    | 53/100 [00:20<00:18,  2.55it/s]"
     ]
    },
    {
     "name": "stdout",
     "output_type": "stream",
     "text": [
      "\u001b[4A\n",
      "Epoch :         52,     392.3760 ms elapsed\n",
      "loss = 0.0004619    (min = 0.0004619   )  \taccuracy = 1          (max = 1         )\n",
      "loss = 0.17576      (min = 0.0604      )  \taccuracy = 0.29       (max = 0.316     )\n"
     ]
    },
    {
     "name": "stderr",
     "output_type": "stream",
     "text": [
      " 55%|█████▌    | 55/100 [00:21<00:17,  2.57it/s]"
     ]
    },
    {
     "name": "stdout",
     "output_type": "stream",
     "text": [
      "\u001b[4A\n",
      "Epoch :         54,     387.3830 ms elapsed\n",
      "loss = 0.00037343   (min = 0.00037343  )  \taccuracy = 1          (max = 1         )\n",
      "loss = 0.17805      (min = 0.0604      )  \taccuracy = 0.288      (max = 0.316     )\n"
     ]
    },
    {
     "name": "stderr",
     "output_type": "stream",
     "text": [
      " 57%|█████▋    | 57/100 [00:22<00:16,  2.62it/s]"
     ]
    },
    {
     "name": "stdout",
     "output_type": "stream",
     "text": [
      "\u001b[4A\n",
      "Epoch :         56,     367.4890 ms elapsed\n",
      "loss = 0.00030976   (min = 0.00030976  )  \taccuracy = 1          (max = 1         )\n",
      "loss = 0.18178      (min = 0.0604      )  \taccuracy = 0.288      (max = 0.316     )\n"
     ]
    },
    {
     "name": "stderr",
     "output_type": "stream",
     "text": [
      " 59%|█████▉    | 59/100 [00:23<00:15,  2.57it/s]"
     ]
    },
    {
     "name": "stdout",
     "output_type": "stream",
     "text": [
      "\u001b[4A\n",
      "Epoch :         58,     408.8090 ms elapsed\n",
      "loss = 0.00027367   (min = 0.00027367  )  \taccuracy = 1          (max = 1         )\n",
      "loss = 0.18563      (min = 0.0604      )  \taccuracy = 0.29       (max = 0.316     )\n"
     ]
    },
    {
     "name": "stderr",
     "output_type": "stream",
     "text": [
      " 61%|██████    | 61/100 [00:24<00:15,  2.51it/s]"
     ]
    },
    {
     "name": "stdout",
     "output_type": "stream",
     "text": [
      "\u001b[4A\n",
      "Epoch :         60,     400.2270 ms elapsed\n",
      "loss = 0.00023977   (min = 0.00023977  )  \taccuracy = 1          (max = 1         )\n",
      "loss = 0.18886      (min = 0.0604      )  \taccuracy = 0.288      (max = 0.316     )\n"
     ]
    },
    {
     "name": "stderr",
     "output_type": "stream",
     "text": [
      " 63%|██████▎   | 63/100 [00:24<00:14,  2.53it/s]"
     ]
    },
    {
     "name": "stdout",
     "output_type": "stream",
     "text": [
      "\u001b[4A\n",
      "Epoch :         62,     390.4300 ms elapsed\n",
      "loss = 0.00021683   (min = 0.00021683  )  \taccuracy = 1          (max = 1         )\n",
      "loss = 0.19225      (min = 0.0604      )  \taccuracy = 0.294      (max = 0.316     )\n"
     ]
    },
    {
     "name": "stderr",
     "output_type": "stream",
     "text": [
      " 65%|██████▌   | 65/100 [00:25<00:14,  2.47it/s]"
     ]
    },
    {
     "name": "stdout",
     "output_type": "stream",
     "text": [
      "\u001b[4A\n",
      "Epoch :         64,     400.2380 ms elapsed\n",
      "loss = 0.00019165   (min = 0.00019165  )  \taccuracy = 1          (max = 1         )\n",
      "loss = 0.19559      (min = 0.0604      )  \taccuracy = 0.29       (max = 0.316     )\n"
     ]
    },
    {
     "name": "stderr",
     "output_type": "stream",
     "text": [
      " 67%|██████▋   | 67/100 [00:26<00:13,  2.50it/s]"
     ]
    },
    {
     "name": "stdout",
     "output_type": "stream",
     "text": [
      "\u001b[4A\n",
      "Epoch :         66,     396.2210 ms elapsed\n",
      "loss = 0.00017411   (min = 0.00017411  )  \taccuracy = 1          (max = 1         )\n",
      "loss = 0.19819      (min = 0.0604      )  \taccuracy = 0.284      (max = 0.316     )\n"
     ]
    },
    {
     "name": "stderr",
     "output_type": "stream",
     "text": [
      " 69%|██████▉   | 69/100 [00:27<00:12,  2.49it/s]"
     ]
    },
    {
     "name": "stdout",
     "output_type": "stream",
     "text": [
      "\u001b[4A\n",
      "Epoch :         68,     407.1340 ms elapsed\n",
      "loss = 0.00015915   (min = 0.00015915  )  \taccuracy = 1          (max = 1         )\n",
      "loss = 0.19985      (min = 0.0604      )  \taccuracy = 0.278      (max = 0.316     )\n"
     ]
    },
    {
     "name": "stderr",
     "output_type": "stream",
     "text": [
      " 71%|███████   | 71/100 [00:28<00:11,  2.47it/s]"
     ]
    },
    {
     "name": "stdout",
     "output_type": "stream",
     "text": [
      "\u001b[4A\n",
      "Epoch :         70,     400.3020 ms elapsed\n",
      "loss = 0.00014204   (min = 0.00014204  )  \taccuracy = 1          (max = 1         )\n",
      "loss = 0.20349      (min = 0.0604      )  \taccuracy = 0.284      (max = 0.316     )\n"
     ]
    },
    {
     "name": "stderr",
     "output_type": "stream",
     "text": [
      " 73%|███████▎  | 73/100 [00:28<00:10,  2.52it/s]"
     ]
    },
    {
     "name": "stdout",
     "output_type": "stream",
     "text": [
      "\u001b[4A\n",
      "Epoch :         72,     378.1450 ms elapsed\n",
      "loss = 0.00012962   (min = 0.00012962  )  \taccuracy = 1          (max = 1         )\n",
      "loss = 0.20525      (min = 0.0604      )  \taccuracy = 0.29       (max = 0.316     )\n"
     ]
    },
    {
     "name": "stderr",
     "output_type": "stream",
     "text": [
      " 75%|███████▌  | 75/100 [00:29<00:09,  2.57it/s]"
     ]
    },
    {
     "name": "stdout",
     "output_type": "stream",
     "text": [
      "\u001b[4A\n",
      "Epoch :         74,     383.1450 ms elapsed\n",
      "loss = 0.00011784   (min = 0.00011784  )  \taccuracy = 1          (max = 1         )\n",
      "loss = 0.20744      (min = 0.0604      )  \taccuracy = 0.284      (max = 0.316     )\n"
     ]
    },
    {
     "name": "stderr",
     "output_type": "stream",
     "text": [
      " 77%|███████▋  | 77/100 [00:30<00:09,  2.54it/s]"
     ]
    },
    {
     "name": "stdout",
     "output_type": "stream",
     "text": [
      "\u001b[4A\n",
      "Epoch :         76,     395.3740 ms elapsed\n",
      "loss = 0.00010918   (min = 0.00010918  )  \taccuracy = 1          (max = 1         )\n",
      "loss = 0.21008      (min = 0.0604      )  \taccuracy = 0.282      (max = 0.316     )\n"
     ]
    },
    {
     "name": "stderr",
     "output_type": "stream",
     "text": [
      " 79%|███████▉  | 79/100 [00:31<00:08,  2.52it/s]"
     ]
    },
    {
     "name": "stdout",
     "output_type": "stream",
     "text": [
      "\u001b[4A\n",
      "Epoch :         78,     404.3830 ms elapsed\n",
      "loss = 0.00010015   (min = 0.00010015  )  \taccuracy = 1          (max = 1         )\n",
      "loss = 0.2119       (min = 0.0604      )  \taccuracy = 0.28       (max = 0.316     )\n"
     ]
    },
    {
     "name": "stderr",
     "output_type": "stream",
     "text": [
      " 81%|████████  | 81/100 [00:31<00:07,  2.53it/s]"
     ]
    },
    {
     "name": "stdout",
     "output_type": "stream",
     "text": [
      "\u001b[4A\n",
      "Epoch :         80,     390.4390 ms elapsed\n",
      "loss = 9.3447e-05   (min = 9.3447e-05  )  \taccuracy = 1          (max = 1         )\n",
      "loss = 0.21421      (min = 0.0604      )  \taccuracy = 0.282      (max = 0.316     )\n"
     ]
    },
    {
     "name": "stderr",
     "output_type": "stream",
     "text": [
      " 83%|████████▎ | 83/100 [00:32<00:06,  2.52it/s]"
     ]
    },
    {
     "name": "stdout",
     "output_type": "stream",
     "text": [
      "\u001b[4A\n",
      "Epoch :         82,     379.5080 ms elapsed\n",
      "loss = 8.7936e-05   (min = 8.7936e-05  )  \taccuracy = 1          (max = 1         )\n",
      "loss = 0.21635      (min = 0.0604      )  \taccuracy = 0.282      (max = 0.316     )\n"
     ]
    },
    {
     "name": "stderr",
     "output_type": "stream",
     "text": [
      " 85%|████████▌ | 85/100 [00:33<00:05,  2.54it/s]"
     ]
    },
    {
     "name": "stdout",
     "output_type": "stream",
     "text": [
      "\u001b[4A\n",
      "Epoch :         84,     387.8530 ms elapsed\n",
      "loss = 8.2562e-05   (min = 8.2562e-05  )  \taccuracy = 1          (max = 1         )\n",
      "loss = 0.2181       (min = 0.0604      )  \taccuracy = 0.282      (max = 0.316     )\n"
     ]
    },
    {
     "name": "stderr",
     "output_type": "stream",
     "text": [
      " 87%|████████▋ | 87/100 [00:34<00:05,  2.50it/s]"
     ]
    },
    {
     "name": "stdout",
     "output_type": "stream",
     "text": [
      "\u001b[4A\n",
      "Epoch :         86,     405.9260 ms elapsed\n",
      "loss = 7.6427e-05   (min = 7.6427e-05  )  \taccuracy = 1          (max = 1         )\n",
      "loss = 0.22015      (min = 0.0604      )  \taccuracy = 0.284      (max = 0.316     )\n"
     ]
    },
    {
     "name": "stderr",
     "output_type": "stream",
     "text": [
      " 89%|████████▉ | 89/100 [00:35<00:04,  2.51it/s]"
     ]
    },
    {
     "name": "stdout",
     "output_type": "stream",
     "text": [
      "\u001b[4A\n",
      "Epoch :         88,     393.0820 ms elapsed\n",
      "loss = 7.2295e-05   (min = 7.2295e-05  )  \taccuracy = 1          (max = 1         )\n",
      "loss = 0.22185      (min = 0.0604      )  \taccuracy = 0.282      (max = 0.316     )\n"
     ]
    },
    {
     "name": "stderr",
     "output_type": "stream",
     "text": [
      " 91%|█████████ | 91/100 [00:35<00:03,  2.55it/s]"
     ]
    },
    {
     "name": "stdout",
     "output_type": "stream",
     "text": [
      "\u001b[4A\n",
      "Epoch :         90,     358.1990 ms elapsed\n",
      "loss = 6.5899e-05   (min = 6.5899e-05  )  \taccuracy = 1          (max = 1         )\n",
      "loss = 0.22365      (min = 0.0604      )  \taccuracy = 0.284      (max = 0.316     )\n"
     ]
    },
    {
     "name": "stderr",
     "output_type": "stream",
     "text": [
      " 93%|█████████▎| 93/100 [00:36<00:02,  2.48it/s]"
     ]
    },
    {
     "name": "stdout",
     "output_type": "stream",
     "text": [
      "\u001b[4A\n",
      "Epoch :         92,     414.5310 ms elapsed\n",
      "loss = 6.3207e-05   (min = 6.3207e-05  )  \taccuracy = 1          (max = 1         )\n",
      "loss = 0.22547      (min = 0.0604      )  \taccuracy = 0.28       (max = 0.316     )\n"
     ]
    },
    {
     "name": "stderr",
     "output_type": "stream",
     "text": [
      " 95%|█████████▌| 95/100 [00:37<00:01,  2.53it/s]"
     ]
    },
    {
     "name": "stdout",
     "output_type": "stream",
     "text": [
      "\u001b[4A\n",
      "Epoch :         94,     391.1440 ms elapsed\n",
      "loss = 5.881e-05    (min = 5.881e-05   )  \taccuracy = 1          (max = 1         )\n",
      "loss = 0.2271       (min = 0.0604      )  \taccuracy = 0.28       (max = 0.316     )\n"
     ]
    },
    {
     "name": "stderr",
     "output_type": "stream",
     "text": [
      " 97%|█████████▋| 97/100 [00:38<00:01,  2.64it/s]"
     ]
    },
    {
     "name": "stdout",
     "output_type": "stream",
     "text": [
      "\u001b[4A\n",
      "Epoch :         96,     358.6750 ms elapsed\n",
      "loss = 5.7896e-05   (min = 5.6916e-05  )  \taccuracy = 1          (max = 1         )\n",
      "loss = 0.22868      (min = 0.0604      )  \taccuracy = 0.282      (max = 0.316     )\n"
     ]
    },
    {
     "name": "stderr",
     "output_type": "stream",
     "text": [
      " 99%|█████████▉| 99/100 [00:39<00:00,  2.60it/s]"
     ]
    },
    {
     "name": "stdout",
     "output_type": "stream",
     "text": [
      "\u001b[4A\n",
      "Epoch :         98,     385.8660 ms elapsed\n",
      "loss = 5.3869e-05   (min = 5.3543e-05  )  \taccuracy = 1          (max = 1         )\n",
      "loss = 0.23018      (min = 0.0604      )  \taccuracy = 0.28       (max = 0.316     )\n"
     ]
    },
    {
     "name": "stderr",
     "output_type": "stream",
     "text": [
      "\r",
      "100%|██████████| 100/100 [00:39<00:00,  2.61it/s]"
     ]
    },
    {
     "name": "stdout",
     "output_type": "stream",
     "text": [
      "Finished Training\n"
     ]
    },
    {
     "name": "stderr",
     "output_type": "stream",
     "text": [
      "\n"
     ]
    },
    {
     "name": "stdout",
     "output_type": "stream",
     "text": [
      "Accuracy of the network: 28 %\n"
     ]
    },
    {
     "data": {
      "image/png": "[encoded data removed]",
      "text/plain": [
       "<Figure size 432x288 with 1 Axes>"
      ]
     },
     "metadata": {
      "needs_background": "light"
     },
     "output_type": "display_data"
    },
    {
     "data": {
      "image/png": "[encoded data removed]",
      "text/plain": [
       "<Figure size 432x288 with 1 Axes>"
      ]
     },
     "metadata": {
      "needs_background": "light"
     },
     "output_type": "display_data"
    },
    {
     "name": "stdout",
     "output_type": "stream",
     "text": [
      "Saving models...\n",
      "The classification accuracy:  0.28\n",
      "\n"
     ]
    },
    {
     "data": {
      "image/png": "[encoded data removed]",
      "text/plain": [
       "<Figure size 432x288 with 2 Axes>"
      ]
     },
     "metadata": {
      "needs_background": "light"
     },
     "output_type": "display_data"
    }
   ],
   "source": [
    "raw_cnn_cifar = Raw_CNN_Cifar().to(device)\n",
    "\n",
    "raw_criterion = nn.CrossEntropyLoss()\n",
    "raw_optimizer = optim.Adam(raw_cnn_cifar.parameters(), lr=0.001)\n",
    "raw_stats = learningStats()\n",
    "\n",
    "train(raw_cnn_cifar,'raw_cnn_Scifar',\n",
    "      trainloader_cifar,testloader_cifar,\n",
    "      raw_criterion, \n",
    "      raw_optimizer,\n",
    "      raw_stats,\n",
    "      epoch=EPOCH2)\n",
    "\n",
    "labels, preds = get_labels(raw_cnn_cifar, testloader_cifar)\n",
    "test_method(labels.cpu().numpy(), preds.cpu().numpy())"
   ]
  },
  {
   "cell_type": "code",
   "execution_count": 26,
   "metadata": {
    "scrolled": true
   },
   "outputs": [
    {
     "name": "stderr",
     "output_type": "stream",
     "text": [
      "  1%|          | 1/100 [00:00<00:38,  2.54it/s]"
     ]
    },
    {
     "name": "stdout",
     "output_type": "stream",
     "text": [
      "\u001b[0A\n",
      "Epoch :          0,     392.5460 ms elapsed\n",
      "loss = 0.073324     (min = 0.073324    )  \taccuracy = 0.114      (max = 0.114     )\n",
      "loss = 0.072484     (min = 0.072484    )  \taccuracy = 0.122      (max = 0.122     )\n"
     ]
    },
    {
     "name": "stderr",
     "output_type": "stream",
     "text": [
      "  3%|▎         | 3/100 [00:01<00:36,  2.63it/s]"
     ]
    },
    {
     "name": "stdout",
     "output_type": "stream",
     "text": [
      "\u001b[4A\n",
      "Epoch :          2,     368.6390 ms elapsed\n",
      "loss = 0.066725     (min = 0.066725    )  \taccuracy = 0.196      (max = 0.196     )\n",
      "loss = 0.066836     (min = 0.066836    )  \taccuracy = 0.186      (max = 0.194     )\n"
     ]
    },
    {
     "name": "stderr",
     "output_type": "stream",
     "text": [
      "  5%|▌         | 5/100 [00:01<00:34,  2.73it/s]"
     ]
    },
    {
     "name": "stdout",
     "output_type": "stream",
     "text": [
      "\u001b[4A\n",
      "Epoch :          4,     340.9500 ms elapsed\n",
      "loss = 0.060931     (min = 0.060931    )  \taccuracy = 0.306      (max = 0.306     )\n",
      "loss = 0.063605     (min = 0.063605    )  \taccuracy = 0.26       (max = 0.26      )\n"
     ]
    },
    {
     "name": "stderr",
     "output_type": "stream",
     "text": [
      "  7%|▋         | 7/100 [00:02<00:34,  2.72it/s]"
     ]
    },
    {
     "name": "stdout",
     "output_type": "stream",
     "text": [
      "\u001b[4A\n",
      "Epoch :          6,     373.9040 ms elapsed\n",
      "loss = 0.056053     (min = 0.056053    )  \taccuracy = 0.366      (max = 0.366     )\n",
      "loss = 0.064353     (min = 0.06259     )  \taccuracy = 0.268      (max = 0.304     )\n"
     ]
    },
    {
     "name": "stderr",
     "output_type": "stream",
     "text": [
      "  9%|▉         | 9/100 [00:03<00:34,  2.65it/s]"
     ]
    },
    {
     "name": "stdout",
     "output_type": "stream",
     "text": [
      "\u001b[4A\n",
      "Epoch :          8,     380.2410 ms elapsed\n",
      "loss = 0.05345      (min = 0.05345     )  \taccuracy = 0.384      (max = 0.398     )\n",
      "loss = 0.061294     (min = 0.061294    )  \taccuracy = 0.284      (max = 0.304     )\n"
     ]
    },
    {
     "name": "stderr",
     "output_type": "stream",
     "text": [
      " 11%|█         | 11/100 [00:04<00:33,  2.64it/s]"
     ]
    },
    {
     "name": "stdout",
     "output_type": "stream",
     "text": [
      "\u001b[4A\n",
      "Epoch :         10,     372.4440 ms elapsed\n",
      "loss = 0.050296     (min = 0.050296    )  \taccuracy = 0.43       (max = 0.462     )\n",
      "loss = 0.066853     (min = 0.061294    )  \taccuracy = 0.302      (max = 0.312     )\n"
     ]
    },
    {
     "name": "stderr",
     "output_type": "stream",
     "text": [
      " 13%|█▎        | 13/100 [00:04<00:32,  2.67it/s]"
     ]
    },
    {
     "name": "stdout",
     "output_type": "stream",
     "text": [
      "\u001b[4A\n",
      "Epoch :         12,     350.6690 ms elapsed\n",
      "loss = 0.045338     (min = 0.045338    )  \taccuracy = 0.5        (max = 0.5       )\n",
      "loss = 0.064626     (min = 0.061294    )  \taccuracy = 0.31       (max = 0.312     )\n"
     ]
    },
    {
     "name": "stderr",
     "output_type": "stream",
     "text": [
      " 15%|█▌        | 15/100 [00:05<00:32,  2.65it/s]"
     ]
    },
    {
     "name": "stdout",
     "output_type": "stream",
     "text": [
      "\u001b[4A\n",
      "Epoch :         14,     380.2850 ms elapsed\n",
      "loss = 0.042314     (min = 0.042314    )  \taccuracy = 0.544      (max = 0.548     )\n",
      "loss = 0.06405      (min = 0.061294    )  \taccuracy = 0.308      (max = 0.312     )\n"
     ]
    },
    {
     "name": "stderr",
     "output_type": "stream",
     "text": [
      " 17%|█▋        | 17/100 [00:06<00:31,  2.63it/s]"
     ]
    },
    {
     "name": "stdout",
     "output_type": "stream",
     "text": [
      "\u001b[4A\n",
      "Epoch :         16,     377.0840 ms elapsed\n",
      "loss = 0.037366     (min = 0.037366    )  \taccuracy = 0.592      (max = 0.592     )\n",
      "loss = 0.069096     (min = 0.061294    )  \taccuracy = 0.3        (max = 0.312     )\n"
     ]
    },
    {
     "name": "stderr",
     "output_type": "stream",
     "text": [
      " 19%|█▉        | 19/100 [00:07<00:31,  2.61it/s]"
     ]
    },
    {
     "name": "stdout",
     "output_type": "stream",
     "text": [
      "\u001b[4A\n",
      "Epoch :         18,     393.2020 ms elapsed\n",
      "loss = 0.037535     (min = 0.036043    )  \taccuracy = 0.6        (max = 0.618     )\n",
      "loss = 0.068329     (min = 0.061294    )  \taccuracy = 0.292      (max = 0.312     )\n"
     ]
    },
    {
     "name": "stderr",
     "output_type": "stream",
     "text": [
      " 21%|██        | 21/100 [00:07<00:29,  2.67it/s]"
     ]
    },
    {
     "name": "stdout",
     "output_type": "stream",
     "text": [
      "\u001b[4A\n",
      "Epoch :         20,     357.6870 ms elapsed\n",
      "loss = 0.030848     (min = 0.030848    )  \taccuracy = 0.664      (max = 0.664     )\n",
      "loss = 0.075932     (min = 0.061294    )  \taccuracy = 0.28       (max = 0.312     )\n"
     ]
    },
    {
     "name": "stderr",
     "output_type": "stream",
     "text": [
      " 23%|██▎       | 23/100 [00:08<00:28,  2.74it/s]"
     ]
    },
    {
     "name": "stdout",
     "output_type": "stream",
     "text": [
      "\u001b[4A\n",
      "Epoch :         22,     354.3850 ms elapsed\n",
      "loss = 0.028215     (min = 0.028215    )  \taccuracy = 0.706      (max = 0.706     )\n",
      "loss = 0.079261     (min = 0.061294    )  \taccuracy = 0.252      (max = 0.312     )\n"
     ]
    },
    {
     "name": "stderr",
     "output_type": "stream",
     "text": [
      " 25%|██▌       | 25/100 [00:09<00:27,  2.70it/s]"
     ]
    },
    {
     "name": "stdout",
     "output_type": "stream",
     "text": [
      "\u001b[4A\n",
      "Epoch :         24,     376.7330 ms elapsed\n",
      "loss = 0.023228     (min = 0.023228    )  \taccuracy = 0.784      (max = 0.784     )\n",
      "loss = 0.088711     (min = 0.061294    )  \taccuracy = 0.268      (max = 0.312     )\n"
     ]
    },
    {
     "name": "stderr",
     "output_type": "stream",
     "text": [
      " 27%|██▋       | 27/100 [00:10<00:26,  2.77it/s]"
     ]
    },
    {
     "name": "stdout",
     "output_type": "stream",
     "text": [
      "\u001b[4A\n",
      "Epoch :         26,     356.9670 ms elapsed\n",
      "loss = 0.018085     (min = 0.018085    )  \taccuracy = 0.846      (max = 0.846     )\n",
      "loss = 0.09485      (min = 0.061294    )  \taccuracy = 0.258      (max = 0.312     )\n"
     ]
    },
    {
     "name": "stderr",
     "output_type": "stream",
     "text": [
      " 29%|██▉       | 29/100 [00:10<00:26,  2.72it/s]"
     ]
    },
    {
     "name": "stdout",
     "output_type": "stream",
     "text": [
      "\u001b[4A\n",
      "Epoch :         28,     362.1170 ms elapsed\n",
      "loss = 0.015216     (min = 0.015216    )  \taccuracy = 0.87       (max = 0.87      )\n",
      "loss = 0.10013      (min = 0.061294    )  \taccuracy = 0.266      (max = 0.312     )\n"
     ]
    },
    {
     "name": "stderr",
     "output_type": "stream",
     "text": [
      " 31%|███       | 31/100 [00:11<00:25,  2.72it/s]"
     ]
    },
    {
     "name": "stdout",
     "output_type": "stream",
     "text": [
      "\u001b[4A\n",
      "Epoch :         30,     362.1400 ms elapsed\n",
      "loss = 0.011947     (min = 0.011947    )  \taccuracy = 0.89       (max = 0.89      )\n",
      "loss = 0.10073      (min = 0.061294    )  \taccuracy = 0.302      (max = 0.312     )\n"
     ]
    },
    {
     "name": "stderr",
     "output_type": "stream",
     "text": [
      " 33%|███▎      | 33/100 [00:12<00:25,  2.67it/s]"
     ]
    },
    {
     "name": "stdout",
     "output_type": "stream",
     "text": [
      "\u001b[4A\n",
      "Epoch :         32,     386.3010 ms elapsed\n",
      "loss = 0.0092261    (min = 0.0092261   )  \taccuracy = 0.918      (max = 0.922     )\n",
      "loss = 0.11424      (min = 0.061294    )  \taccuracy = 0.274      (max = 0.312     )\n"
     ]
    },
    {
     "name": "stderr",
     "output_type": "stream",
     "text": [
      " 35%|███▌      | 35/100 [00:13<00:24,  2.67it/s]"
     ]
    },
    {
     "name": "stdout",
     "output_type": "stream",
     "text": [
      "\u001b[4A\n",
      "Epoch :         34,     377.5110 ms elapsed\n",
      "loss = 0.0064591    (min = 0.0064591   )  \taccuracy = 0.952      (max = 0.952     )\n",
      "loss = 0.12433      (min = 0.061294    )  \taccuracy = 0.28       (max = 0.312     )\n"
     ]
    },
    {
     "name": "stderr",
     "output_type": "stream",
     "text": [
      " 37%|███▋      | 37/100 [00:13<00:23,  2.69it/s]"
     ]
    },
    {
     "name": "stdout",
     "output_type": "stream",
     "text": [
      "\u001b[4A\n",
      "Epoch :         36,     373.0220 ms elapsed\n",
      "loss = 0.0043419    (min = 0.0043419   )  \taccuracy = 0.978      (max = 0.978     )\n",
      "loss = 0.13828      (min = 0.061294    )  \taccuracy = 0.286      (max = 0.312     )\n"
     ]
    },
    {
     "name": "stderr",
     "output_type": "stream",
     "text": [
      " 39%|███▉      | 39/100 [00:14<00:22,  2.71it/s]"
     ]
    },
    {
     "name": "stdout",
     "output_type": "stream",
     "text": [
      "\u001b[4A\n",
      "Epoch :         38,     371.8030 ms elapsed\n",
      "loss = 0.0038868    (min = 0.0038868   )  \taccuracy = 0.978      (max = 0.978     )\n",
      "loss = 0.14442      (min = 0.061294    )  \taccuracy = 0.274      (max = 0.312     )\n"
     ]
    },
    {
     "name": "stderr",
     "output_type": "stream",
     "text": [
      " 41%|████      | 41/100 [00:15<00:22,  2.65it/s]"
     ]
    },
    {
     "name": "stdout",
     "output_type": "stream",
     "text": [
      "\u001b[4A\n",
      "Epoch :         40,     374.1450 ms elapsed\n",
      "loss = 0.0023714    (min = 0.0023714   )  \taccuracy = 0.992      (max = 0.992     )\n",
      "loss = 0.1538       (min = 0.061294    )  \taccuracy = 0.254      (max = 0.312     )\n"
     ]
    },
    {
     "name": "stderr",
     "output_type": "stream",
     "text": [
      " 43%|████▎     | 43/100 [00:16<00:21,  2.68it/s]"
     ]
    },
    {
     "name": "stdout",
     "output_type": "stream",
     "text": [
      "\u001b[4A\n",
      "Epoch :         42,     364.5900 ms elapsed\n",
      "loss = 0.0013969    (min = 0.0013969   )  \taccuracy = 0.998      (max = 0.998     )\n",
      "loss = 0.16006      (min = 0.061294    )  \taccuracy = 0.282      (max = 0.312     )\n"
     ]
    },
    {
     "name": "stderr",
     "output_type": "stream",
     "text": [
      " 45%|████▌     | 45/100 [00:16<00:20,  2.65it/s]"
     ]
    },
    {
     "name": "stdout",
     "output_type": "stream",
     "text": [
      "\u001b[4A\n",
      "Epoch :         44,     384.0220 ms elapsed\n",
      "loss = 0.00099271   (min = 0.00099271  )  \taccuracy = 1          (max = 1         )\n",
      "loss = 0.16834      (min = 0.061294    )  \taccuracy = 0.278      (max = 0.312     )\n"
     ]
    },
    {
     "name": "stderr",
     "output_type": "stream",
     "text": [
      " 47%|████▋     | 47/100 [00:17<00:20,  2.62it/s]"
     ]
    },
    {
     "name": "stdout",
     "output_type": "stream",
     "text": [
      "\u001b[4A\n",
      "Epoch :         46,     387.1910 ms elapsed\n",
      "loss = 0.00065548   (min = 0.00065548  )  \taccuracy = 1          (max = 1         )\n",
      "loss = 0.17675      (min = 0.061294    )  \taccuracy = 0.284      (max = 0.312     )\n"
     ]
    },
    {
     "name": "stderr",
     "output_type": "stream",
     "text": [
      " 49%|████▉     | 49/100 [00:18<00:18,  2.73it/s]"
     ]
    },
    {
     "name": "stdout",
     "output_type": "stream",
     "text": [
      "\u001b[4A\n",
      "Epoch :         48,     361.3650 ms elapsed\n",
      "loss = 0.00052429   (min = 0.00052429  )  \taccuracy = 1          (max = 1         )\n",
      "loss = 0.18589      (min = 0.061294    )  \taccuracy = 0.292      (max = 0.312     )\n"
     ]
    },
    {
     "name": "stderr",
     "output_type": "stream",
     "text": [
      " 51%|█████     | 51/100 [00:18<00:18,  2.70it/s]"
     ]
    },
    {
     "name": "stdout",
     "output_type": "stream",
     "text": [
      "\u001b[4A\n",
      "Epoch :         50,     390.7030 ms elapsed\n",
      "loss = 0.00041234   (min = 0.00041234  )  \taccuracy = 1          (max = 1         )\n",
      "loss = 0.19055      (min = 0.061294    )  \taccuracy = 0.284      (max = 0.312     )\n"
     ]
    },
    {
     "name": "stderr",
     "output_type": "stream",
     "text": [
      " 53%|█████▎    | 53/100 [00:19<00:17,  2.62it/s]"
     ]
    },
    {
     "name": "stdout",
     "output_type": "stream",
     "text": [
      "\u001b[4A\n",
      "Epoch :         52,     397.7440 ms elapsed\n",
      "loss = 0.00035643   (min = 0.00035643  )  \taccuracy = 1          (max = 1         )\n",
      "loss = 0.19657      (min = 0.061294    )  \taccuracy = 0.274      (max = 0.312     )\n"
     ]
    },
    {
     "name": "stderr",
     "output_type": "stream",
     "text": [
      " 55%|█████▌    | 55/100 [00:20<00:17,  2.57it/s]"
     ]
    },
    {
     "name": "stdout",
     "output_type": "stream",
     "text": [
      "\u001b[4A\n",
      "Epoch :         54,     387.6300 ms elapsed\n",
      "loss = 0.00029662   (min = 0.00029662  )  \taccuracy = 1          (max = 1         )\n",
      "loss = 0.20012      (min = 0.061294    )  \taccuracy = 0.286      (max = 0.312     )\n"
     ]
    },
    {
     "name": "stderr",
     "output_type": "stream",
     "text": [
      " 57%|█████▋    | 57/100 [00:21<00:16,  2.54it/s]"
     ]
    },
    {
     "name": "stdout",
     "output_type": "stream",
     "text": [
      "\u001b[4A\n",
      "Epoch :         56,     415.0260 ms elapsed\n",
      "loss = 0.0002749    (min = 0.0002749   )  \taccuracy = 1          (max = 1         )\n",
      "loss = 0.20171      (min = 0.061294    )  \taccuracy = 0.274      (max = 0.312     )\n"
     ]
    },
    {
     "name": "stderr",
     "output_type": "stream",
     "text": [
      " 59%|█████▉    | 59/100 [00:22<00:15,  2.66it/s]"
     ]
    },
    {
     "name": "stdout",
     "output_type": "stream",
     "text": [
      "\u001b[4A\n",
      "Epoch :         58,     365.2620 ms elapsed\n",
      "loss = 0.00024641   (min = 0.00024641  )  \taccuracy = 1          (max = 1         )\n",
      "loss = 0.20934      (min = 0.061294    )  \taccuracy = 0.284      (max = 0.312     )\n"
     ]
    },
    {
     "name": "stderr",
     "output_type": "stream",
     "text": [
      " 61%|██████    | 61/100 [00:22<00:14,  2.70it/s]"
     ]
    },
    {
     "name": "stdout",
     "output_type": "stream",
     "text": [
      "\u001b[4A\n",
      "Epoch :         60,     360.5370 ms elapsed\n",
      "loss = 0.00019649   (min = 0.00019649  )  \taccuracy = 1          (max = 1         )\n",
      "loss = 0.21214      (min = 0.061294    )  \taccuracy = 0.272      (max = 0.312     )\n"
     ]
    },
    {
     "name": "stderr",
     "output_type": "stream",
     "text": [
      " 63%|██████▎   | 63/100 [00:23<00:13,  2.72it/s]"
     ]
    },
    {
     "name": "stdout",
     "output_type": "stream",
     "text": [
      "\u001b[4A\n",
      "Epoch :         62,     353.5960 ms elapsed\n",
      "loss = 0.00017095   (min = 0.00017095  )  \taccuracy = 1          (max = 1         )\n",
      "loss = 0.2156       (min = 0.061294    )  \taccuracy = 0.276      (max = 0.312     )\n"
     ]
    },
    {
     "name": "stderr",
     "output_type": "stream",
     "text": [
      " 65%|██████▌   | 65/100 [00:24<00:12,  2.74it/s]"
     ]
    },
    {
     "name": "stdout",
     "output_type": "stream",
     "text": [
      "\u001b[4A\n",
      "Epoch :         64,     361.3940 ms elapsed\n",
      "loss = 0.00015887   (min = 0.00015887  )  \taccuracy = 1          (max = 1         )\n",
      "loss = 0.21914      (min = 0.061294    )  \taccuracy = 0.272      (max = 0.312     )\n"
     ]
    },
    {
     "name": "stderr",
     "output_type": "stream",
     "text": [
      " 67%|██████▋   | 67/100 [00:25<00:12,  2.69it/s]"
     ]
    },
    {
     "name": "stdout",
     "output_type": "stream",
     "text": [
      "\u001b[4A\n",
      "Epoch :         66,     379.8630 ms elapsed\n",
      "loss = 0.00014542   (min = 0.00014542  )  \taccuracy = 1          (max = 1         )\n",
      "loss = 0.2225       (min = 0.061294    )  \taccuracy = 0.272      (max = 0.312     )\n"
     ]
    },
    {
     "name": "stderr",
     "output_type": "stream",
     "text": [
      " 69%|██████▉   | 69/100 [00:25<00:11,  2.66it/s]"
     ]
    },
    {
     "name": "stdout",
     "output_type": "stream",
     "text": [
      "\u001b[4A\n",
      "Epoch :         68,     391.5280 ms elapsed\n",
      "loss = 0.00012921   (min = 0.00012921  )  \taccuracy = 1          (max = 1         )\n",
      "loss = 0.22429      (min = 0.061294    )  \taccuracy = 0.274      (max = 0.312     )\n"
     ]
    },
    {
     "name": "stderr",
     "output_type": "stream",
     "text": [
      " 71%|███████   | 71/100 [00:26<00:11,  2.64it/s]"
     ]
    },
    {
     "name": "stdout",
     "output_type": "stream",
     "text": [
      "\u001b[4A\n",
      "Epoch :         70,     386.5190 ms elapsed\n",
      "loss = 0.00011784   (min = 0.00011784  )  \taccuracy = 1          (max = 1         )\n",
      "loss = 0.22687      (min = 0.061294    )  \taccuracy = 0.276      (max = 0.312     )\n"
     ]
    },
    {
     "name": "stderr",
     "output_type": "stream",
     "text": [
      " 73%|███████▎  | 73/100 [00:27<00:10,  2.65it/s]"
     ]
    },
    {
     "name": "stdout",
     "output_type": "stream",
     "text": [
      "\u001b[4A\n",
      "Epoch :         72,     383.4720 ms elapsed\n",
      "loss = 0.00010641   (min = 0.00010641  )  \taccuracy = 1          (max = 1         )\n",
      "loss = 0.22962      (min = 0.061294    )  \taccuracy = 0.276      (max = 0.312     )\n"
     ]
    },
    {
     "name": "stderr",
     "output_type": "stream",
     "text": [
      " 75%|███████▌  | 75/100 [00:28<00:09,  2.69it/s]"
     ]
    },
    {
     "name": "stdout",
     "output_type": "stream",
     "text": [
      "\u001b[4A\n",
      "Epoch :         74,     366.1040 ms elapsed\n",
      "loss = 9.9132e-05   (min = 9.9132e-05  )  \taccuracy = 1          (max = 1         )\n",
      "loss = 0.23223      (min = 0.061294    )  \taccuracy = 0.278      (max = 0.312     )\n"
     ]
    },
    {
     "name": "stderr",
     "output_type": "stream",
     "text": [
      " 77%|███████▋  | 77/100 [00:28<00:08,  2.70it/s]"
     ]
    },
    {
     "name": "stdout",
     "output_type": "stream",
     "text": [
      "\u001b[4A\n",
      "Epoch :         76,     364.6580 ms elapsed\n",
      "loss = 9.3744e-05   (min = 9.3744e-05  )  \taccuracy = 1          (max = 1         )\n",
      "loss = 0.23486      (min = 0.061294    )  \taccuracy = 0.274      (max = 0.312     )\n"
     ]
    },
    {
     "name": "stderr",
     "output_type": "stream",
     "text": [
      " 79%|███████▉  | 79/100 [00:29<00:08,  2.60it/s]"
     ]
    },
    {
     "name": "stdout",
     "output_type": "stream",
     "text": [
      "\u001b[4A\n",
      "Epoch :         78,     398.3810 ms elapsed\n",
      "loss = 8.5465e-05   (min = 8.5465e-05  )  \taccuracy = 1          (max = 1         )\n",
      "loss = 0.23612      (min = 0.061294    )  \taccuracy = 0.276      (max = 0.312     )\n"
     ]
    },
    {
     "name": "stderr",
     "output_type": "stream",
     "text": [
      " 81%|████████  | 81/100 [00:30<00:07,  2.62it/s]"
     ]
    },
    {
     "name": "stdout",
     "output_type": "stream",
     "text": [
      "\u001b[4A\n",
      "Epoch :         80,     379.4110 ms elapsed\n",
      "loss = 7.8422e-05   (min = 7.8422e-05  )  \taccuracy = 1          (max = 1         )\n",
      "loss = 0.23824      (min = 0.061294    )  \taccuracy = 0.274      (max = 0.312     )\n"
     ]
    },
    {
     "name": "stderr",
     "output_type": "stream",
     "text": [
      " 83%|████████▎ | 83/100 [00:31<00:06,  2.63it/s]"
     ]
    },
    {
     "name": "stdout",
     "output_type": "stream",
     "text": [
      "\u001b[4A\n",
      "Epoch :         82,     371.1330 ms elapsed\n",
      "loss = 7.427e-05    (min = 7.427e-05   )  \taccuracy = 1          (max = 1         )\n",
      "loss = 0.24102      (min = 0.061294    )  \taccuracy = 0.274      (max = 0.312     )\n"
     ]
    },
    {
     "name": "stderr",
     "output_type": "stream",
     "text": [
      " 85%|████████▌ | 85/100 [00:31<00:05,  2.65it/s]"
     ]
    },
    {
     "name": "stdout",
     "output_type": "stream",
     "text": [
      "\u001b[4A\n",
      "Epoch :         84,     384.2710 ms elapsed\n",
      "loss = 6.8536e-05   (min = 6.8536e-05  )  \taccuracy = 1          (max = 1         )\n",
      "loss = 0.24304      (min = 0.061294    )  \taccuracy = 0.272      (max = 0.312     )\n"
     ]
    },
    {
     "name": "stderr",
     "output_type": "stream",
     "text": [
      " 87%|████████▋ | 87/100 [00:32<00:04,  2.60it/s]"
     ]
    },
    {
     "name": "stdout",
     "output_type": "stream",
     "text": [
      "\u001b[4A\n",
      "Epoch :         86,     400.4490 ms elapsed\n",
      "loss = 6.4028e-05   (min = 6.4028e-05  )  \taccuracy = 1          (max = 1         )\n",
      "loss = 0.2446       (min = 0.061294    )  \taccuracy = 0.276      (max = 0.312     )\n"
     ]
    },
    {
     "name": "stderr",
     "output_type": "stream",
     "text": [
      " 89%|████████▉ | 89/100 [00:33<00:04,  2.61it/s]"
     ]
    },
    {
     "name": "stdout",
     "output_type": "stream",
     "text": [
      "\u001b[4A\n",
      "Epoch :         88,     378.8990 ms elapsed\n",
      "loss = 6.0571e-05   (min = 6.0571e-05  )  \taccuracy = 1          (max = 1         )\n",
      "loss = 0.24683      (min = 0.061294    )  \taccuracy = 0.274      (max = 0.312     )\n"
     ]
    },
    {
     "name": "stderr",
     "output_type": "stream",
     "text": [
      " 91%|█████████ | 91/100 [00:34<00:03,  2.60it/s]"
     ]
    },
    {
     "name": "stdout",
     "output_type": "stream",
     "text": [
      "\u001b[4A\n",
      "Epoch :         90,     367.3670 ms elapsed\n",
      "loss = 5.7795e-05   (min = 5.7795e-05  )  \taccuracy = 1          (max = 1         )\n",
      "loss = 0.24868      (min = 0.061294    )  \taccuracy = 0.276      (max = 0.312     )\n"
     ]
    },
    {
     "name": "stderr",
     "output_type": "stream",
     "text": [
      " 93%|█████████▎| 93/100 [00:34<00:02,  2.62it/s]"
     ]
    },
    {
     "name": "stdout",
     "output_type": "stream",
     "text": [
      "\u001b[4A\n",
      "Epoch :         92,     370.8700 ms elapsed\n",
      "loss = 5.3477e-05   (min = 5.3477e-05  )  \taccuracy = 1          (max = 1         )\n",
      "loss = 0.25092      (min = 0.061294    )  \taccuracy = 0.278      (max = 0.312     )\n"
     ]
    },
    {
     "name": "stderr",
     "output_type": "stream",
     "text": [
      " 95%|█████████▌| 95/100 [00:35<00:01,  2.72it/s]"
     ]
    },
    {
     "name": "stdout",
     "output_type": "stream",
     "text": [
      "\u001b[4A\n",
      "Epoch :         94,     340.4170 ms elapsed\n",
      "loss = 4.9652e-05   (min = 4.9652e-05  )  \taccuracy = 1          (max = 1         )\n",
      "loss = 0.25245      (min = 0.061294    )  \taccuracy = 0.274      (max = 0.312     )\n"
     ]
    },
    {
     "name": "stderr",
     "output_type": "stream",
     "text": [
      " 97%|█████████▋| 97/100 [00:36<00:01,  2.67it/s]"
     ]
    },
    {
     "name": "stdout",
     "output_type": "stream",
     "text": [
      "\u001b[4A\n",
      "Epoch :         96,     370.6320 ms elapsed\n",
      "loss = 4.7153e-05   (min = 4.7153e-05  )  \taccuracy = 1          (max = 1         )\n",
      "loss = 0.25414      (min = 0.061294    )  \taccuracy = 0.276      (max = 0.312     )\n"
     ]
    },
    {
     "name": "stderr",
     "output_type": "stream",
     "text": [
      " 99%|█████████▉| 99/100 [00:37<00:00,  2.60it/s]"
     ]
    },
    {
     "name": "stdout",
     "output_type": "stream",
     "text": [
      "\u001b[4A\n",
      "Epoch :         98,     389.7750 ms elapsed\n",
      "loss = 4.4672e-05   (min = 4.4672e-05  )  \taccuracy = 1          (max = 1         )\n",
      "loss = 0.25597      (min = 0.061294    )  \taccuracy = 0.276      (max = 0.312     )\n"
     ]
    },
    {
     "name": "stderr",
     "output_type": "stream",
     "text": [
      "\r",
      "100%|██████████| 100/100 [00:37<00:00,  2.63it/s]"
     ]
    },
    {
     "name": "stdout",
     "output_type": "stream",
     "text": [
      "Finished Training\n"
     ]
    },
    {
     "name": "stderr",
     "output_type": "stream",
     "text": [
      "\n"
     ]
    },
    {
     "name": "stdout",
     "output_type": "stream",
     "text": [
      "Accuracy of the network: 27 %\n"
     ]
    },
    {
     "data": {
      "image/png": "[encoded data removed]",
      "text/plain": [
       "<Figure size 432x288 with 1 Axes>"
      ]
     },
     "metadata": {
      "needs_background": "light"
     },
     "output_type": "display_data"
    },
    {
     "data": {
      "image/png": "[encoded data removed]",
      "text/plain": [
       "<Figure size 432x288 with 1 Axes>"
      ]
     },
     "metadata": {
      "needs_background": "light"
     },
     "output_type": "display_data"
    },
    {
     "name": "stdout",
     "output_type": "stream",
     "text": [
      "Saving models...\n",
      "The classification accuracy:  0.278\n",
      "\n"
     ]
    },
    {
     "data": {
      "image/png": "[encoded data removed]",
      "text/plain": [
       "<Figure size 432x288 with 2 Axes>"
      ]
     },
     "metadata": {
      "needs_background": "light"
     },
     "output_type": "display_data"
    }
   ],
   "source": [
    "tailored_cnn_cifar = Tailored_CNN_Cifar().to(device)\n",
    "\n",
    "raw_criterion = nn.CrossEntropyLoss()\n",
    "raw_optimizer = optim.Adam(tailored_cnn_cifar.parameters(), lr=0.001)\n",
    "raw_stats = learningStats()\n",
    "\n",
    "train(tailored_cnn_cifar,'tailored_cnn_Scifar',\n",
    "      trainloader_cifar,testloader_cifar,\n",
    "      raw_criterion, \n",
    "      raw_optimizer,\n",
    "      raw_stats,\n",
    "      epoch=EPOCH2)\n",
    "\n",
    "labels, preds = get_labels(tailored_cnn_cifar, testloader_cifar)\n",
    "test_method(labels.cpu().numpy(), preds.cpu().numpy())"
   ]
  },
  {
   "cell_type": "markdown",
   "metadata": {},
   "source": [
    "## Now move the weights leart from tailored CNN to our custmized SNN"
   ]
  },
  {
   "cell_type": "code",
   "execution_count": 27,
   "metadata": {},
   "outputs": [],
   "source": [
    "class custmized_SNN_Cifar(nn.Module):\n",
    "    \n",
    "    def __init__(self, thetas, leaks=[0,0,0,0,0,0], V_mins=[0,0,0,0,0,0]):\n",
    "        super(custmized_SNN_Cifar, self).__init__()\n",
    "        self.conv1 = convLayer(3, 16, 5, theta=thetas[0], padding=1,leak=leaks[0], V_min=V_mins[0])\n",
    "        self.pool1 = poolLayer(2, theta=thetas[1], leak=leaks[1], V_min=V_mins[1])\n",
    "        self.conv2 = convLayer(16, 32, 3, theta=thetas[2], padding=1, leak=leaks[2], V_min=V_mins[2])        \n",
    "        self.pool2 = poolLayer(2, theta=thetas[3], leak=leaks[3], V_min=V_mins[3])\n",
    "        self.conv3 = convLayer(32, 64, 3, theta=thetas[4], padding=1, leak=leaks[4], V_min=V_mins[4])\n",
    "        self.fc1   = denseLayer((6 * 6 * 64), 10, theta=thetas[5], leak=leaks[5], V_min=V_mins[5])\n",
    "        \n",
    "    def forward(self, spikeInput):\n",
    "        spike_conv1 = self.conv1(spikeInput)\n",
    "        spike_pool1 = self.pool1(spike_conv1)\n",
    "        spike_conv2 = self.conv2(spike_pool1)\n",
    "        spike_pool2 = self.pool2(spike_conv2)\n",
    "        spike_conv3 = self.conv3(spike_pool2)\n",
    "        spike_for_fc1 = spike_conv3.reshape(-1, 6 * 6 * 64, 1, 1, spike_conv3.shape[-1])\n",
    "        spikeOut = self.fc1(spike_for_fc1)\n",
    "        \n",
    "        return spikeOut"
   ]
  },
  {
   "cell_type": "markdown",
   "metadata": {},
   "source": [
    "\n",
    "\n",
    "##  We have 4 different dataset of CIFAR10, full (with or w/o extra encoding) and small (with or w/o extra encoding)\n",
    "\n",
    "\n",
    "### There are two versions of CIFAR10 datasets we've implemented, since in the paper they had an extra encoding (under sec. 3.2),  which is not super clear how they did it, we try out both versions.\n",
    "\n",
    "\n",
    "\n",
    "\n",
    "### For full dataset"
   ]
  },
  {
   "cell_type": "code",
   "execution_count": 28,
   "metadata": {},
   "outputs": [
    {
     "name": "stdout",
     "output_type": "stream",
     "text": [
      "Files already downloaded and verified\n",
      "Files already downloaded and verified\n"
     ]
    }
   ],
   "source": [
    "testingSet_C = SpikeDataset(datasetPath = './data', dataset='cifar10', cifar_encoding=False, TimeBins=50,\n",
    "                    small=False, train=False)\n",
    "\n",
    "testLoader_C = DataLoader(dataset=testingSet_C, batch_size=32, shuffle=False, num_workers=4)\n",
    "\n",
    "# the CIFAR dataset using extra encoding method\n",
    "testingSet_C2 = SpikeDataset(datasetPath = './data', dataset='cifar10', cifar_encoding=True, TimeBins=50,\n",
    "                    small=False, train=False)\n",
    "\n",
    "testLoader_C2 = DataLoader(dataset=testingSet_C2, batch_size=32, shuffle=False, num_workers=4)"
   ]
  },
  {
   "cell_type": "markdown",
   "metadata": {},
   "source": [
    "### the performance of the randomly initialized SNN on both versions of CIFAR"
   ]
  },
  {
   "cell_type": "code",
   "execution_count": 29,
   "metadata": {},
   "outputs": [],
   "source": [
    "thetas = [5, 0.99, 1, 0.99, 0.99, 1]\n",
    "\n",
    "custmized_snn_cifar = custmized_SNN_Cifar(thetas).to(device)"
   ]
  },
  {
   "cell_type": "code",
   "execution_count": 30,
   "metadata": {},
   "outputs": [
    {
     "name": "stdout",
     "output_type": "stream",
     "text": [
      "The classification accuracy:  0.1\n",
      "\n"
     ]
    },
    {
     "data": {
      "image/png": "[encoded data removed]",
      "text/plain": [
       "<Figure size 432x288 with 2 Axes>"
      ]
     },
     "metadata": {
      "needs_background": "light"
     },
     "output_type": "display_data"
    }
   ],
   "source": [
    "labels, preds = get_labels(custmized_snn_cifar, testLoader_C, snn=True)\n",
    "test_method(labels.cpu().numpy(), preds.cpu().numpy())"
   ]
  },
  {
   "cell_type": "code",
   "execution_count": 31,
   "metadata": {},
   "outputs": [
    {
     "name": "stdout",
     "output_type": "stream",
     "text": [
      "The classification accuracy:  0.1\n",
      "\n"
     ]
    },
    {
     "data": {
      "image/png": "[encoded data removed]",
      "text/plain": [
       "<Figure size 432x288 with 2 Axes>"
      ]
     },
     "metadata": {
      "needs_background": "light"
     },
     "output_type": "display_data"
    }
   ],
   "source": [
    "labels, preds = get_labels(custmized_snn_cifar, testLoader_C2, snn=True)\n",
    "test_method(labels.cpu().numpy(), preds.cpu().numpy())"
   ]
  },
  {
   "cell_type": "markdown",
   "metadata": {},
   "source": [
    "### Now we move the weights to SNN"
   ]
  },
  {
   "cell_type": "code",
   "execution_count": 32,
   "metadata": {},
   "outputs": [
    {
     "name": "stdout",
     "output_type": "stream",
     "text": [
      "Layer conv1.weight\n",
      "torch.Size([16, 3, 5, 5])\n",
      "Layer conv2.weight\n",
      "torch.Size([32, 16, 3, 3])\n",
      "Layer conv3.weight\n",
      "torch.Size([64, 32, 3, 3])\n",
      "Layer fc1.weight\n",
      "torch.Size([10, 2304])\n"
     ]
    }
   ],
   "source": [
    "tailor_cnn_weights = load_dict(\"tailored_cnn_cifar\")\n",
    "snn_weights = custmized_snn_cifar.state_dict()\n",
    "\n",
    "for k in iter(tailor_cnn_weights):\n",
    "    print(\"Layer {}\".format(k))\n",
    "    print(tailor_cnn_weights[k].shape)\n",
    "    if k.startswith('conv') or k.startswith('fc'):\n",
    "        snn_weights[k] = tailor_cnn_weights[k].reshape(snn_weights[k].shape)"
   ]
  },
  {
   "cell_type": "code",
   "execution_count": 33,
   "metadata": {},
   "outputs": [
    {
     "data": {
      "text/plain": [
       "IncompatibleKeys(missing_keys=[], unexpected_keys=[])"
      ]
     },
     "execution_count": 33,
     "metadata": {},
     "output_type": "execute_result"
    }
   ],
   "source": [
    "transformed_snn_cifar = custmized_SNN_Cifar(thetas).to(device)\n",
    "transformed_snn_cifar.load_state_dict(snn_weights)"
   ]
  },
  {
   "cell_type": "code",
   "execution_count": 34,
   "metadata": {
    "scrolled": true
   },
   "outputs": [
    {
     "name": "stdout",
     "output_type": "stream",
     "text": [
      "The classification accuracy:  0.1965\n",
      "\n"
     ]
    },
    {
     "data": {
      "image/png": "[encoded data removed]",
      "text/plain": [
       "<Figure size 432x288 with 2 Axes>"
      ]
     },
     "metadata": {
      "needs_background": "light"
     },
     "output_type": "display_data"
    }
   ],
   "source": [
    "labels, preds = get_labels(transformed_snn_cifar, testLoader_C, snn=True)\n",
    "test_method(labels.cpu().numpy(), preds.cpu().numpy())"
   ]
  },
  {
   "cell_type": "code",
   "execution_count": 35,
   "metadata": {},
   "outputs": [
    {
     "name": "stdout",
     "output_type": "stream",
     "text": [
      "The classification accuracy:  0.1743\n",
      "\n"
     ]
    },
    {
     "data": {
      "image/png": "[encoded data removed]",
      "text/plain": [
       "<Figure size 432x288 with 2 Axes>"
      ]
     },
     "metadata": {
      "needs_background": "light"
     },
     "output_type": "display_data"
    }
   ],
   "source": [
    "labels, preds = get_labels(transformed_snn_cifar, testLoader_C2, snn=True)\n",
    "test_method(labels.cpu().numpy(), preds.cpu().numpy())"
   ]
  },
  {
   "cell_type": "markdown",
   "metadata": {},
   "source": [
    "### For small dataset"
   ]
  },
  {
   "cell_type": "code",
   "execution_count": 36,
   "metadata": {},
   "outputs": [
    {
     "name": "stdout",
     "output_type": "stream",
     "text": [
      "Files already downloaded and verified\n",
      "Files already downloaded and verified\n"
     ]
    }
   ],
   "source": [
    "testingSet_C = SpikeDataset(datasetPath = './data', dataset='cifar10', cifar_encoding=False, TimeBins=50,\n",
    "                    small=True, train=False)\n",
    "\n",
    "testLoader_C = DataLoader(dataset=testingSet_C, batch_size=32, shuffle=False, num_workers=4)\n",
    "\n",
    "# the CIFAR dataset using extra encoding method\n",
    "testingSet_C2 = SpikeDataset(datasetPath = './data', dataset='cifar10', cifar_encoding=True, TimeBins=50,\n",
    "                    small=True, train=False)\n",
    "\n",
    "testLoader_C2 = DataLoader(dataset=testingSet_C2, batch_size=32, shuffle=False, num_workers=4)"
   ]
  },
  {
   "cell_type": "code",
   "execution_count": 37,
   "metadata": {},
   "outputs": [
    {
     "name": "stdout",
     "output_type": "stream",
     "text": [
      "The classification accuracy:  0.112\n",
      "\n",
      "The classification accuracy:  0.112\n",
      "\n"
     ]
    },
    {
     "data": {
      "image/png": "[encoded data removed]",
      "text/plain": [
       "<Figure size 432x288 with 2 Axes>"
      ]
     },
     "metadata": {
      "needs_background": "light"
     },
     "output_type": "display_data"
    },
    {
     "data": {
      "image/png": "[encoded data removed]",
      "text/plain": [
       "<Figure size 432x288 with 2 Axes>"
      ]
     },
     "metadata": {
      "needs_background": "light"
     },
     "output_type": "display_data"
    }
   ],
   "source": [
    "thetas = [5, 0.99, 1, 0.99, 0.99, 1]\n",
    "\n",
    "custmized_snn_cifar = custmized_SNN_Cifar(thetas).to(device)\n",
    "\n",
    "#performance on C\n",
    "labels, preds = get_labels(custmized_snn_cifar, testLoader_C, snn=True)\n",
    "test_method(labels.cpu().numpy(), preds.cpu().numpy())\n",
    "# performance on C2\n",
    "labels, preds = get_labels(custmized_snn_cifar, testLoader_C2, snn=True)\n",
    "test_method(labels.cpu().numpy(), preds.cpu().numpy())"
   ]
  },
  {
   "cell_type": "code",
   "execution_count": 38,
   "metadata": {},
   "outputs": [
    {
     "name": "stdout",
     "output_type": "stream",
     "text": [
      "Layer conv1.weight\n",
      "torch.Size([16, 3, 5, 5])\n",
      "Layer conv2.weight\n",
      "torch.Size([32, 16, 3, 3])\n",
      "Layer conv3.weight\n",
      "torch.Size([64, 32, 3, 3])\n",
      "Layer fc1.weight\n",
      "torch.Size([10, 2304])\n"
     ]
    },
    {
     "data": {
      "text/plain": [
       "IncompatibleKeys(missing_keys=[], unexpected_keys=[])"
      ]
     },
     "execution_count": 38,
     "metadata": {},
     "output_type": "execute_result"
    }
   ],
   "source": [
    "tailor_cnn_weights = load_dict(\"tailored_cnn_Scifar\")\n",
    "snn_weights = custmized_snn_cifar.state_dict()\n",
    "\n",
    "for k in iter(tailor_cnn_weights):\n",
    "    print(\"Layer {}\".format(k))\n",
    "    print(tailor_cnn_weights[k].shape)\n",
    "    if k.startswith('conv') or k.startswith('fc'):\n",
    "        snn_weights[k] = tailor_cnn_weights[k].reshape(snn_weights[k].shape)\n",
    "        \n",
    "transformed_snn_cifar = custmized_SNN_Cifar(thetas).to(device)\n",
    "transformed_snn_cifar.load_state_dict(snn_weights)"
   ]
  },
  {
   "cell_type": "code",
   "execution_count": 39,
   "metadata": {},
   "outputs": [
    {
     "name": "stdout",
     "output_type": "stream",
     "text": [
      "The classification accuracy:  0.206\n",
      "\n"
     ]
    },
    {
     "data": {
      "image/png": "[encoded data removed]",
      "text/plain": [
       "<Figure size 432x288 with 2 Axes>"
      ]
     },
     "metadata": {
      "needs_background": "light"
     },
     "output_type": "display_data"
    }
   ],
   "source": [
    "labels, preds = get_labels(transformed_snn_cifar, testLoader_C, snn=True)\n",
    "test_method(labels.cpu().numpy(), preds.cpu().numpy())"
   ]
  },
  {
   "cell_type": "code",
   "execution_count": 40,
   "metadata": {},
   "outputs": [
    {
     "name": "stdout",
     "output_type": "stream",
     "text": [
      "The classification accuracy:  0.184\n",
      "\n"
     ]
    },
    {
     "data": {
      "image/png": "[encoded data removed]",
      "text/plain": [
       "<Figure size 432x288 with 2 Axes>"
      ]
     },
     "metadata": {
      "needs_background": "light"
     },
     "output_type": "display_data"
    }
   ],
   "source": [
    "labels, preds = get_labels(transformed_snn_cifar, testLoader_C2, snn=True)\n",
    "test_method(labels.cpu().numpy(), preds.cpu().numpy())"
   ]
  }
 ],
 "metadata": {
  "kernelspec": {
   "display_name": "Python 3",
   "language": "python",
   "name": "python3"
  },
  "language_info": {
   "codemirror_mode": {
    "name": "ipython",
    "version": 3
   },
   "file_extension": ".py",
   "mimetype": "text/x-python",
   "name": "python",
   "nbconvert_exporter": "python",
   "pygments_lexer": "ipython3",
   "version": "3.6.8"
  }
 },
 "nbformat": 4,
 "nbformat_minor": 2
}
