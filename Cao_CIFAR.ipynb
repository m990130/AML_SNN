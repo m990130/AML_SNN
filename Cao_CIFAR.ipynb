{
 "cells": [
  {
   "cell_type": "code",
   "execution_count": 5,
   "metadata": {},
   "outputs": [],
   "source": [
    "import torch\n",
    "import torch.nn as nn\n",
    "import torch.nn.functional as F\n",
    "import torch.optim as optim\n",
    "from torch.utils.data import Dataset, DataLoader\n",
    "\n",
    "from torchvision.datasets import MNIST, FashionMNIST, CIFAR10\n",
    "from torchvision.transforms import transforms\n",
    "\n",
    "\n",
    "from lib.custmized_layer import convLayer, poolLayer, denseLayer\n",
    "from lib.datasets.spikedataset import SpikeDataset, transform_cifar\n",
    "\n",
    "from datetime import datetime\n",
    "\n",
    "import matplotlib\n",
    "import matplotlib.pyplot as plt\n",
    "from tqdm import tqdm"
   ]
  },
  {
   "cell_type": "code",
   "execution_count": 6,
   "metadata": {},
   "outputs": [],
   "source": [
    "# some handy function to use\n",
    "from lib.utils import save_model, load_dict, load_model, test_method, get_labels"
   ]
  },
  {
   "cell_type": "code",
   "execution_count": 7,
   "metadata": {
    "code_folding": [
     0,
     18,
     82,
     86,
     102,
     213
    ]
   },
   "outputs": [],
   "source": [
    "def plot_stats(stats):\n",
    "    plt.figure(1)\n",
    "    plt.semilogy(stats.training.lossLog, label='Training')\n",
    "    plt.semilogy(stats.testing.lossLog, label='Testing')\n",
    "    plt.xlabel('Epoch')\n",
    "    plt.ylabel('Loss')\n",
    "    plt.legend()\n",
    "\n",
    "    plt.figure(2)\n",
    "    plt.plot(stats.training.accuracyLog, label='Training')\n",
    "    plt.plot(stats.testing.accuracyLog, label='Testing')\n",
    "    plt.xlabel('Epoch')\n",
    "    plt.ylabel('Accuracy')\n",
    "    plt.legend()\n",
    "\n",
    "    plt.show()\n",
    "\n",
    "## Training\n",
    "def train(model, model_name, trainloader, testloader, criterion, optimizer, stats, epoch):\n",
    "    \n",
    "    for epoch in tqdm(range(epoch)):\n",
    "        # Reset training stats.\n",
    "        stats.training.reset()\n",
    "        tSt = datetime.now()\n",
    "        model.train()    \n",
    "        # Training loop.\n",
    "        for i, data in enumerate(trainloader, 0):\n",
    "            # get the inputs; data is a list of [inputs, labels]\n",
    "            inputs, labels = data[0].to(device), data[1].to(device)\n",
    "\n",
    "            # zero the parameter gradients\n",
    "            optimizer.zero_grad()\n",
    "\n",
    "            # forward + backward + optimize\n",
    "            outputs = model(inputs)\n",
    "\n",
    "            loss = criterion(outputs, labels)\n",
    "\n",
    "            loss.backward()\n",
    "\n",
    "            optimizer.step()\n",
    "\n",
    "            # Gather training loss stats.\n",
    "            stats.training.lossSum += loss.cpu().data.item()\n",
    "\n",
    "            # Gather the training stats.\n",
    "            _, predicted = torch.max(outputs.data, 1)\n",
    "\n",
    "            stats.training.correctSamples += torch.sum(predicted == labels).data.item()\n",
    "            stats.training.numSamples += len(labels)\n",
    "\n",
    "            # Display training stats.\n",
    "            # if i%10 == 0: stats.print(epoch, i, (datetime.now() - tSt).total_seconds())\n",
    "        # Update training stats.\n",
    "        stats.training.update()\n",
    "        # Reset testing stats.\n",
    "        stats.testing.reset()\n",
    "        model.eval()    \n",
    "        # Testing loop.\n",
    "        # Same steps as Training loops except loss backpropagation and weight update.\n",
    "        for i, data in enumerate(testloader, 0):\n",
    "            inputs, labels = data[0].to(device), data[1].to(device)\n",
    "\n",
    "            outputs = model.forward(inputs)\n",
    "            _, predicted = torch.max(outputs.data, 1)\n",
    "\n",
    "            stats.testing.correctSamples += torch.sum(predicted == labels).data.item()\n",
    "            stats.testing.numSamples += len(labels)\n",
    "\n",
    "            loss = criterion(outputs, labels)\n",
    "            stats.testing.lossSum += loss.cpu().data.item()\n",
    "\n",
    "\n",
    "        # Update stats.\n",
    "        stats.testing.update()\n",
    "        if epoch%2==0:  stats.print(epoch, timeElapsed=(datetime.now() - tSt).total_seconds())\n",
    "    print('Finished Training')\n",
    "    \n",
    "    test_acc(testloader, model)\n",
    "    plot_stats(stats)\n",
    "    save_model(model_name, model)\n",
    "\n",
    "def test(model, model_name, testloader):\n",
    "    load_model(model_name, model)\n",
    "    test_acc(testloader, model)\n",
    "    \n",
    "def test_acc(dataloader ,model):\n",
    "    correct = 0\n",
    "    total = 0\n",
    "    with torch.no_grad():\n",
    "        for data in dataloader:\n",
    "            images, labels =  data[0].to(device), data[1].to(device)\n",
    "            outputs = model(images)\n",
    "            _, predicted = torch.max(outputs.data, 1)\n",
    "            total += labels.size(0)\n",
    "            correct += (predicted == labels).sum().item()\n",
    "\n",
    "    print('Accuracy of the network: %d %%' % (\n",
    "        100 * correct / total))\n",
    "# the learningStat class    \n",
    "\n",
    "\n",
    "class learningStat():\n",
    "    '''\n",
    "    This class collect the learning statistics over the epoch.\n",
    "\n",
    "    Usage:\n",
    "\n",
    "    This class is designed to be used with learningStats instance although it can be used separately.\n",
    "\n",
    "    >>> trainingStat = learningStat()\n",
    "    '''\n",
    "    def __init__(self):\n",
    "        self.lossSum = 0\n",
    "        self.correctSamples = 0\n",
    "        self.numSamples = 0\n",
    "        self.minloss = None\n",
    "        self.maxAccuracy = None\n",
    "        self.lossLog = []\n",
    "        self.accuracyLog = []\n",
    "        self.bestLoss = False\n",
    "        self.bestAccuracy = False\n",
    "\n",
    "    def reset(self):\n",
    "        '''\n",
    "        Reset the learning staistics. \n",
    "        This should usually be done before the start of an epoch so that new statistics counts can be accumulated.\n",
    "\n",
    "        Usage:\n",
    "\n",
    "        >>> trainingStat.reset()\n",
    "        '''\n",
    "        self.lossSum = 0\n",
    "        self.correctSamples = 0\n",
    "        self.numSamples = 0\n",
    "\n",
    "    def loss(self):\n",
    "        '''\n",
    "        Returns the average loss calculated from the point the stats was reset.\n",
    "\n",
    "        Usage:\n",
    "\n",
    "        >>> loss = trainingStat.loss()\n",
    "        '''\n",
    "        if self.numSamples > 0: \n",
    "            return self.lossSum/self.numSamples \n",
    "        else:   \n",
    "            return None\n",
    "\n",
    "    def accuracy(self):\n",
    "        '''\n",
    "        Returns the average accuracy calculated from the point the stats was reset.\n",
    "\n",
    "        Usage:\n",
    "\n",
    "        >>> accuracy = trainingStat.accuracy()\n",
    "        '''\n",
    "        if self.numSamples > 0 and self.correctSamples > 0:\n",
    "            return self.correctSamples/self.numSamples  \n",
    "        else:   \n",
    "            return None\n",
    "\n",
    "    def update(self):\n",
    "        '''\n",
    "        Updates the stats of the current session and resets the measures for next session.\n",
    "\n",
    "        Usage:\n",
    "\n",
    "        >>> trainingStat.update()\n",
    "        '''\n",
    "        currentLoss = self.loss()\n",
    "        self.lossLog.append(currentLoss)\n",
    "        if self.minloss is None:\n",
    "            self.minloss = currentLoss\n",
    "        else:\n",
    "            if currentLoss < self.minloss:\n",
    "                self.minloss = currentLoss\n",
    "                self.bestLoss = True\n",
    "            else:\n",
    "                self.bestLoss = False\n",
    "            # self.minloss = self.minloss if self.minloss < currentLoss else currentLoss\n",
    "\n",
    "        currentAccuracy = self.accuracy()\n",
    "        self.accuracyLog.append(currentAccuracy)\n",
    "        if self.maxAccuracy is None:\n",
    "            self.maxAccuracy = currentAccuracy\n",
    "        else:\n",
    "            if currentAccuracy > self.maxAccuracy:\n",
    "                self.maxAccuracy = currentAccuracy\n",
    "                self.bestAccuracy = True\n",
    "            else:\n",
    "                self.bestAccuracy = False\n",
    "            # self.maxAccuracy = self.maxAccuracy if self.maxAccuracy > currentAccuracy else currentAccuracy\n",
    "\n",
    "    def displayString(self):\n",
    "        loss = self.loss()\n",
    "        accuracy = self.accuracy()\n",
    "        minloss = self.minloss\n",
    "        maxAccuracy = self.maxAccuracy\n",
    "\n",
    "        if loss is None:    # no stats available\n",
    "            return None\n",
    "        elif accuracy is None: \n",
    "            if minloss is None: # accuracy and minloss stats is not available\n",
    "                return 'loss = %-12.5g'%(loss)\n",
    "            else:   # accuracy is not available but minloss is available\n",
    "                return 'loss = %-12.5g (min = %-12.5g)'%(loss, minloss)\n",
    "        else:\n",
    "            if minloss is None and maxAccuracy is None: # minloss and maxAccuracy is available\n",
    "                return 'loss = %-12.5g        %-12s   \\taccuracy = %-10.5g        %-10s '%(loss, ' ', accuracy, ' ')\n",
    "            else:   # all stats are available\n",
    "                return 'loss = %-12.5g (min = %-12.5g)  \\taccuracy = %-10.5g (max = %-10.5g)'%(loss, minloss, accuracy, maxAccuracy)\n",
    "\n",
    "class learningStats():\n",
    "    '''\n",
    "    This class provides mechanism to collect learning stats for training and testing, and displaying them efficiently.\n",
    "\n",
    "    Usage:\n",
    "\n",
    "    .. code-block:: python\n",
    "    \n",
    "        stats = learningStats()\n",
    "\n",
    "        for epoch in range(100):\n",
    "            tSt = datetime.now()\n",
    "\n",
    "            stats.training.reset()\n",
    "            for i in trainingLoop:\n",
    "                # other main stuffs\n",
    "                stats.training.correctSamples += numberOfCorrectClassification\n",
    "                stats.training.numSamples     += numberOfSamplesProcessed\n",
    "                stats.training.lossSum        += currentLoss\n",
    "                stats.print(epoch, i, (datetime.now() - tSt).total_seconds())\n",
    "            stats.training.update()\n",
    "\n",
    "            stats.testing.reset()\n",
    "            for i in testingLoop\n",
    "                # other main stuffs\n",
    "                stats.testing.correctSamples += numberOfCorrectClassification\n",
    "                stats.testing.numSamples     += numberOfSamplesProcessed\n",
    "                stats.testing.lossSum        += currentLoss\n",
    "                stats.print(epoch, i)\n",
    "            stats.training.update()\n",
    "\n",
    "    '''\n",
    "    def __init__(self):\n",
    "        self.linesPrinted = 0\n",
    "        self.training = learningStat()\n",
    "        self.testing  = learningStat()\n",
    "\n",
    "    def update(self):\n",
    "        '''\n",
    "        Updates the stats for training and testing and resets the measures for next session.\n",
    "\n",
    "        Usage:\n",
    "\n",
    "        >>> stats.update()\n",
    "        '''\n",
    "        self.training.update()\n",
    "        self.training.reset()\n",
    "        self.testing.update()\n",
    "        self.testing.reset()\n",
    "\n",
    "    def print(self, epoch, iter=None, timeElapsed=None):\n",
    "        '''\n",
    "        Prints the available learning statistics from the current session on the console.\n",
    "        For Linux systems, prints the data on same terminal space (might not work properly on other systems).\n",
    "\n",
    "        Arguments:\n",
    "            * ``epoch``: epoch counter to display (required).\n",
    "            * ``iter``: iteration counter to display (not required).\n",
    "            * ``timeElapsed``: runtime information (not required).\n",
    "\n",
    "        Usage:\n",
    "\n",
    "        .. code-block:: python\n",
    "\n",
    "            # prints stats with epoch index provided\n",
    "            stats.print(epoch) \n",
    "\n",
    "            # prints stats with epoch index and iteration index provided\n",
    "            stats.print(epoch, iter=i) \n",
    "            \n",
    "            # prints stats with epoch index, iteration index and time elapsed information provided\n",
    "            stats.print(epoch, iter=i, timeElapsed=time) \n",
    "        '''\n",
    "        print('\\033[%dA'%(self.linesPrinted))\n",
    "        \n",
    "        self.linesPrinted = 1\n",
    "\n",
    "        epochStr   = 'Epoch : %10d'%(epoch)\n",
    "        iterStr    = '' if iter is None else '(i = %7d)'%(iter)\n",
    "        profileStr = '' if timeElapsed is None else ', %12.4f ms elapsed'%(timeElapsed * 1000)\n",
    "\n",
    "        print(epochStr + iterStr + profileStr)\n",
    "        print(self.training.displayString())\n",
    "        self.linesPrinted += 2\n",
    "        if self.testing.displayString() is not None:\n",
    "            print(self.testing.displayString())\n",
    "            self.linesPrinted += 1\n",
    "\n",
    "    def plot(self, figures=(1, 2), saveFig=False, path=''):\n",
    "        '''\n",
    "        Plots the available learning statistics.\n",
    "\n",
    "        Arguments:\n",
    "            * ``figures``: Index of figure ID to plot on. Default is figure(1) for loss plot and figure(2) for accuracy plot.\n",
    "            * ``saveFig``(``bool``): flag to save figure into a file.\n",
    "            * ``path``: path to save the file. Defaule is ``''``.\n",
    "\n",
    "        Usage:\n",
    "\n",
    "        .. code-block:: python\n",
    "\n",
    "            # plot stats\n",
    "            stats.plot() \n",
    "\n",
    "            # plot stats figures specified\n",
    "            stats.print(figures=(10, 11)) \n",
    "        '''\n",
    "        plt.figure(figures[0])\n",
    "        plt.cla()\n",
    "        if len(self.training.lossLog) > 0:\n",
    "            plt.semilogy(self.training.lossLog, label='Training')\n",
    "        if len(self.testing.lossLog) > 0:\n",
    "            plt.semilogy(self.testing .lossLog, label='Testing')\n",
    "        plt.xlabel('Epoch')\n",
    "        plt.ylabel('Loss')\n",
    "        plt.legend()\n",
    "        if saveFig is True: \n",
    "            plt.savefig(path + 'loss.png')\n",
    "            # plt.close()\n",
    "\n",
    "        plt.figure(figures[1])\n",
    "        plt.cla()\n",
    "        if len(self.training.accuracyLog) > 0:\n",
    "            plt.plot(self.training.accuracyLog, label='Training')\n",
    "        if len(self.testing.accuracyLog) > 0:\n",
    "            plt.plot(self.testing .accuracyLog, label='Testing')\n",
    "        plt.xlabel('Epoch')\n",
    "        plt.ylabel('Accuracy')\n",
    "        plt.legend() \n",
    "        if saveFig is True: \n",
    "            plt.savefig(path + 'accuracy.png')\n",
    "            # plt.close()\n",
    "\n",
    "    def save(self, filename=''):\n",
    "        '''\n",
    "        Saves the learning satatistics logs.\n",
    "\n",
    "        Arguments:\n",
    "            * ``filename``: filename to save the logs. ``accuracy.txt`` and ``loss.txt`` will be appended\n",
    "\n",
    "        Usage:\n",
    "\n",
    "        .. code-block:: python\n",
    "\n",
    "            # save stats\n",
    "            stats.save() \n",
    "\n",
    "            # save stats filename specified\n",
    "            stats.save(filename='Run101-0.001-') # Run101-0.001-accuracy.txt and Run101-0.001-loss.txt\n",
    "        '''\n",
    "\n",
    "        with open(filename + 'loss.txt', 'wt') as loss:\n",
    "            loss.write('#%11s %11s\\r\\n'%('Train', 'Test'))\n",
    "            for i in range(len(self.training.lossLog)): \n",
    "                loss.write('%12.6g %12.6g \\r\\n'%(self.training.lossLog[i], self.testing.lossLog[i]))\n",
    "\n",
    "        with open(filename + 'accuracy.txt', 'wt') as accuracy:\n",
    "            accuracy.write('#%11s %11s\\r\\n'%('Train', 'Test'))\n",
    "            if self.training.accuracyLog != [None]*len(self.training.accuracyLog):\n",
    "                for i in range(len(self.training.accuracyLog)): \n",
    "                    accuracy.write('%12.6g %12.6g \\r\\n'%(self.training.accuracyLog[i], self.testing.accuracyLog[i]))"
   ]
  },
  {
   "cell_type": "markdown",
   "metadata": {},
   "source": [
    "### The structure is deviated from the Cao's paper\n",
    "1. crop size from 24 to 26, to adapt the vgg16 like\n",
    "2. use the structure as the SlayerVgg16, for a fair comparison"
   ]
  },
  {
   "cell_type": "code",
   "execution_count": 8,
   "metadata": {},
   "outputs": [],
   "source": [
    "class Raw_CNN_Cifar(nn.Module):\n",
    "    def __init__(self):\n",
    "        super(Raw_CNN_Cifar, self).__init__()\n",
    "        self.conv1 = nn.Conv2d(3, 16, 5, 1, padding=1,bias=True)\n",
    "        self.conv2 = nn.Conv2d(16, 32, 3, 1, padding=1, bias=True)\n",
    "        self.conv3 = nn.Conv2d(32, 64, 3, 1, padding=1, bias=True)\n",
    "        self.fc1 = nn.Linear(64 * 6 * 6, 10, bias=True)\n",
    "\n",
    "    def forward(self, x):\n",
    "        x = F.relu(self.conv1(x)) #(3, 26, 26) -> (16, 24, 24)\n",
    "        x = F.max_pool2d(x, 2) #(16, 12, 12)\n",
    "        x = F.relu(self.conv2(x)) #(32, 12, 12)\n",
    "        x = F.max_pool2d(x, 2) #(32, 6, 6)\n",
    "        x = F.relu(self.conv3(x)) #(64, 6, 6)\n",
    "        x = x.view(-1, 64 * 6 * 6)    #(64*3*3)\n",
    "        x = self.fc1(x)  #(10*1*1)\n",
    "        \n",
    "        return F.log_softmax(x, dim=1)\n",
    "\n",
    "class Tailored_CNN_Cifar(nn.Module):\n",
    "    def __init__(self):\n",
    "        super(Tailored_CNN_Cifar, self).__init__()\n",
    "        self.conv1 = nn.Conv2d(3, 16, 5, 1, padding=1, bias=False)\n",
    "        self.conv2 = nn.Conv2d(16, 32, 3, 1, padding=1, bias=False)\n",
    "        self.conv3 = nn.Conv2d(32, 64, 3, 1, padding=1, bias=False)\n",
    "        self.fc1 = nn.Linear(64 * 6 * 6, 10, bias=False)\n",
    "\n",
    "    def forward(self, x):\n",
    "        x = F.relu(self.conv1(x))\n",
    "        x = F.avg_pool2d(x, 2)\n",
    "        x = F.relu(self.conv2(x))\n",
    "        x = F.avg_pool2d(x, 2)\n",
    "        x = F.relu(self.conv3(x))\n",
    "        x = x.view(-1, 64 * 6 * 6) \n",
    "        x = self.fc1(x)\n",
    "        \n",
    "        return F.log_softmax(x, dim=1)"
   ]
  },
  {
   "cell_type": "code",
   "execution_count": 10,
   "metadata": {},
   "outputs": [],
   "source": [
    "BATCH_SIZE  = 128\n",
    "\n",
    "EPOCH = 100\n",
    "\n",
    "NUM_WORKERS = 2\n",
    "\n",
    "use_cuda = torch.cuda.is_available()\n",
    "\n",
    "torch.manual_seed(1024)\n",
    "\n",
    "device = torch.device(\"cuda\" if use_cuda else \"cpu\")\n",
    "\n",
    "kwargs = {'num_workers': 1, 'pin_memory': True} if use_cuda else {}"
   ]
  },
  {
   "cell_type": "code",
   "execution_count": 5,
   "metadata": {},
   "outputs": [
    {
     "name": "stdout",
     "output_type": "stream",
     "text": [
      "Files already downloaded and verified\n",
      "Files already downloaded and verified\n"
     ]
    }
   ],
   "source": [
    "# trainset_cifar = CIFAR10(root='./data', train=True, transform=transform_cifar(True), download=True)\n",
    "\n",
    "# trainloader_cifar = torch.utils.data.DataLoader(trainset_cifar, batch_size=BATCH_SIZE,\n",
    "#                                           shuffle=True, num_workers=NUM_WORKERS)\n",
    "\n",
    "# testset_cifar = CIFAR10(root='./data', train=False, transform=transform_cifar(False), download=True)\n",
    "\n",
    "# testloader_cifar = torch.utils.data.DataLoader(testset_cifar, batch_size=BATCH_SIZE,\n",
    "#                                          shuffle=False, num_workers=NUM_WORKERS)"
   ]
  },
  {
   "cell_type": "code",
   "execution_count": 12,
   "metadata": {},
   "outputs": [],
   "source": [
    "class CIFAR500(Dataset):\n",
    "    def __init__(self, datasetPath, train=False):\n",
    "        self.path = datasetPath\n",
    "        ds = CIFAR10(datasetPath, train=train, download=True, transform=transform_cifar(train))\n",
    "        self.samples = [ds[i] for i in range(0, 500)]\n",
    "\n",
    "    def __getitem__(self, index):\n",
    "        x, y = self.samples[index]\n",
    "        return x, y\n",
    "\n",
    "    def __len__(self):\n",
    "        return len(self.samples)"
   ]
  },
  {
   "cell_type": "code",
   "execution_count": 14,
   "metadata": {},
   "outputs": [
    {
     "name": "stdout",
     "output_type": "stream",
     "text": [
      "Files already downloaded and verified\n",
      "Files already downloaded and verified\n"
     ]
    }
   ],
   "source": [
    "trainset_cifar = CIFAR500('./data', train=True)\n",
    "\n",
    "trainloader_cifar = torch.utils.data.DataLoader(trainset_cifar, batch_size=BATCH_SIZE,\n",
    "                                          shuffle=True, num_workers=NUM_WORKERS)\n",
    "\n",
    "testset_cifar = CIFAR500('./data', train=False)\n",
    "\n",
    "testloader_cifar = torch.utils.data.DataLoader(testset_cifar, batch_size=BATCH_SIZE,\n",
    "                                         shuffle=False, num_workers=NUM_WORKERS)"
   ]
  },
  {
   "cell_type": "code",
   "execution_count": 17,
   "metadata": {},
   "outputs": [
    {
     "data": {
      "image/png": "[encoded data removed]",
      "text/plain": [
       "<Figure size 432x288 with 1 Axes>"
      ]
     },
     "metadata": {
      "needs_background": "light"
     },
     "output_type": "display_data"
    },
    {
     "data": {
      "image/png": "[encoded data removed]",
      "text/plain": [
       "<Figure size 432x288 with 1 Axes>"
      ]
     },
     "metadata": {
      "needs_background": "light"
     },
     "output_type": "display_data"
    }
   ],
   "source": [
    "plt.imshow(next(iter(trainloader_cifar))[0][0].permute(1,2,0))\n",
    "plt.show()\n",
    "\n",
    "plt.imshow(next(iter(testloader_cifar))[0][0].permute(1,2,0))\n",
    "plt.show()"
   ]
  },
  {
   "cell_type": "code",
   "execution_count": 8,
   "metadata": {
    "scrolled": true
   },
   "outputs": [
    {
     "name": "stderr",
     "output_type": "stream",
     "text": [
      "  2%|▎         | 1/40 [00:06<04:25,  6.80s/it]"
     ]
    },
    {
     "name": "stdout",
     "output_type": "stream",
     "text": [
      "\u001b[0A\n",
      "Epoch :          0,    6798.3310 ms elapsed\n",
      "loss = 0.013879     (min = 0.013879    )  \taccuracy = 0.34984    (max = 0.34984   )\n",
      "loss = 0.011806     (min = 0.011806    )  \taccuracy = 0.4586     (max = 0.4586    )\n"
     ]
    },
    {
     "name": "stderr",
     "output_type": "stream",
     "text": [
      "  8%|▊         | 3/40 [00:19<04:03,  6.59s/it]"
     ]
    },
    {
     "name": "stdout",
     "output_type": "stream",
     "text": [
      "\u001b[4A\n",
      "Epoch :          2,    6388.6950 ms elapsed\n",
      "loss = 0.010755     (min = 0.010755    )  \taccuracy = 0.50938    (max = 0.50938   )\n",
      "loss = 0.010032     (min = 0.010032    )  \taccuracy = 0.5429     (max = 0.5429    )\n"
     ]
    },
    {
     "name": "stderr",
     "output_type": "stream",
     "text": [
      " 12%|█▎        | 5/40 [00:32<03:45,  6.45s/it]"
     ]
    },
    {
     "name": "stdout",
     "output_type": "stream",
     "text": [
      "\u001b[4A\n",
      "Epoch :          4,    6280.3130 ms elapsed\n",
      "loss = 0.0095236    (min = 0.0095236   )  \taccuracy = 0.57002    (max = 0.57002   )\n",
      "loss = 0.0089794    (min = 0.0089794   )  \taccuracy = 0.599      (max = 0.599     )\n"
     ]
    },
    {
     "name": "stderr",
     "output_type": "stream",
     "text": [
      " 18%|█▊        | 7/40 [00:44<03:31,  6.41s/it]"
     ]
    },
    {
     "name": "stdout",
     "output_type": "stream",
     "text": [
      "\u001b[4A\n",
      "Epoch :          6,    6472.9360 ms elapsed\n",
      "loss = 0.008835     (min = 0.008835    )  \taccuracy = 0.60344    (max = 0.60344   )\n",
      "loss = 0.0080872    (min = 0.0080872   )  \taccuracy = 0.6456     (max = 0.6456    )\n"
     ]
    },
    {
     "name": "stderr",
     "output_type": "stream",
     "text": [
      " 22%|██▎       | 9/40 [00:57<03:19,  6.43s/it]"
     ]
    },
    {
     "name": "stdout",
     "output_type": "stream",
     "text": [
      "\u001b[4A\n",
      "Epoch :          8,    6426.1820 ms elapsed\n",
      "loss = 0.0082487    (min = 0.0082487   )  \taccuracy = 0.6303     (max = 0.6303    )\n",
      "loss = 0.0076825    (min = 0.0076825   )  \taccuracy = 0.6659     (max = 0.6659    )\n"
     ]
    },
    {
     "name": "stderr",
     "output_type": "stream",
     "text": [
      " 28%|██▊       | 11/40 [01:10<03:06,  6.44s/it]"
     ]
    },
    {
     "name": "stdout",
     "output_type": "stream",
     "text": [
      "\u001b[4A\n",
      "Epoch :         10,    6521.2450 ms elapsed\n",
      "loss = 0.0078571    (min = 0.0078571   )  \taccuracy = 0.6484     (max = 0.6484    )\n",
      "loss = 0.0073185    (min = 0.0073185   )  \taccuracy = 0.6759     (max = 0.6759    )\n"
     ]
    },
    {
     "name": "stderr",
     "output_type": "stream",
     "text": [
      " 32%|███▎      | 13/40 [01:23<02:51,  6.34s/it]"
     ]
    },
    {
     "name": "stdout",
     "output_type": "stream",
     "text": [
      "\u001b[4A\n",
      "Epoch :         12,    6233.2260 ms elapsed\n",
      "loss = 0.0075209    (min = 0.0075209   )  \taccuracy = 0.66498    (max = 0.66498   )\n",
      "loss = 0.007783     (min = 0.0073185   )  \taccuracy = 0.6587     (max = 0.676     )\n"
     ]
    },
    {
     "name": "stderr",
     "output_type": "stream",
     "text": [
      " 38%|███▊      | 15/40 [01:35<02:35,  6.24s/it]"
     ]
    },
    {
     "name": "stdout",
     "output_type": "stream",
     "text": [
      "\u001b[4A\n",
      "Epoch :         14,    6191.5950 ms elapsed\n",
      "loss = 0.0072789    (min = 0.0072789   )  \taccuracy = 0.673      (max = 0.673     )\n",
      "loss = 0.0069452    (min = 0.0069452   )  \taccuracy = 0.6969     (max = 0.6969    )\n"
     ]
    },
    {
     "name": "stderr",
     "output_type": "stream",
     "text": [
      " 42%|████▎     | 17/40 [01:47<02:23,  6.24s/it]"
     ]
    },
    {
     "name": "stdout",
     "output_type": "stream",
     "text": [
      "\u001b[4A\n",
      "Epoch :         16,    6353.1490 ms elapsed\n",
      "loss = 0.0070426    (min = 0.0070426   )  \taccuracy = 0.6889     (max = 0.6889    )\n",
      "loss = 0.0069328    (min = 0.0068062   )  \taccuracy = 0.7024     (max = 0.7036    )\n"
     ]
    },
    {
     "name": "stderr",
     "output_type": "stream",
     "text": [
      " 48%|████▊     | 19/40 [02:00<02:11,  6.24s/it]"
     ]
    },
    {
     "name": "stdout",
     "output_type": "stream",
     "text": [
      "\u001b[4A\n",
      "Epoch :         18,    6267.8920 ms elapsed\n",
      "loss = 0.0069201    (min = 0.0069201   )  \taccuracy = 0.69222    (max = 0.69222   )\n",
      "loss = 0.0064974    (min = 0.0064974   )  \taccuracy = 0.7195     (max = 0.7195    )\n"
     ]
    },
    {
     "name": "stderr",
     "output_type": "stream",
     "text": [
      " 52%|█████▎    | 21/40 [02:13<02:00,  6.33s/it]"
     ]
    },
    {
     "name": "stdout",
     "output_type": "stream",
     "text": [
      "\u001b[4A\n",
      "Epoch :         20,    6386.6530 ms elapsed\n",
      "loss = 0.0067672    (min = 0.0067672   )  \taccuracy = 0.69856    (max = 0.69856   )\n",
      "loss = 0.0065106    (min = 0.0064485   )  \taccuracy = 0.7177     (max = 0.7199    )\n"
     ]
    },
    {
     "name": "stderr",
     "output_type": "stream",
     "text": [
      " 57%|█████▊    | 23/40 [02:25<01:47,  6.32s/it]"
     ]
    },
    {
     "name": "stdout",
     "output_type": "stream",
     "text": [
      "\u001b[4A\n",
      "Epoch :         22,    6264.6050 ms elapsed\n",
      "loss = 0.0066224    (min = 0.0066224   )  \taccuracy = 0.70514    (max = 0.70514   )\n",
      "loss = 0.0066365    (min = 0.0064375   )  \taccuracy = 0.7054     (max = 0.7199    )\n"
     ]
    },
    {
     "name": "stderr",
     "output_type": "stream",
     "text": [
      " 62%|██████▎   | 25/40 [02:38<01:35,  6.39s/it]"
     ]
    },
    {
     "name": "stdout",
     "output_type": "stream",
     "text": [
      "\u001b[4A\n",
      "Epoch :         24,    6480.4790 ms elapsed\n",
      "loss = 0.0064773    (min = 0.0064773   )  \taccuracy = 0.71398    (max = 0.71398   )\n",
      "loss = 0.0061602    (min = 0.0061602   )  \taccuracy = 0.7324     (max = 0.7324    )\n"
     ]
    },
    {
     "name": "stderr",
     "output_type": "stream",
     "text": [
      " 68%|██████▊   | 27/40 [02:50<01:21,  6.24s/it]"
     ]
    },
    {
     "name": "stdout",
     "output_type": "stream",
     "text": [
      "\u001b[4A\n",
      "Epoch :         26,    6057.1360 ms elapsed\n",
      "loss = 0.0063963    (min = 0.0063963   )  \taccuracy = 0.71584    (max = 0.71726   )\n",
      "loss = 0.0061276    (min = 0.0061276   )  \taccuracy = 0.7334     (max = 0.7334    )\n"
     ]
    },
    {
     "name": "stderr",
     "output_type": "stream",
     "text": [
      " 72%|███████▎  | 29/40 [03:04<01:10,  6.44s/it]"
     ]
    },
    {
     "name": "stdout",
     "output_type": "stream",
     "text": [
      "\u001b[4A\n",
      "Epoch :         28,    6819.0970 ms elapsed\n",
      "loss = 0.0063005    (min = 0.0063005   )  \taccuracy = 0.71996    (max = 0.71996   )\n",
      "loss = 0.0060743    (min = 0.0060464   )  \taccuracy = 0.7366     (max = 0.7383    )\n"
     ]
    },
    {
     "name": "stderr",
     "output_type": "stream",
     "text": [
      " 78%|███████▊  | 31/40 [03:16<00:57,  6.36s/it]"
     ]
    },
    {
     "name": "stdout",
     "output_type": "stream",
     "text": [
      "\u001b[4A\n",
      "Epoch :         30,    6172.6690 ms elapsed\n",
      "loss = 0.0061957    (min = 0.0061957   )  \taccuracy = 0.72518    (max = 0.72518   )\n",
      "loss = 0.0060709    (min = 0.0060464   )  \taccuracy = 0.7393     (max = 0.7393    )\n"
     ]
    },
    {
     "name": "stderr",
     "output_type": "stream",
     "text": [
      " 82%|████████▎ | 33/40 [03:29<00:44,  6.34s/it]"
     ]
    },
    {
     "name": "stdout",
     "output_type": "stream",
     "text": [
      "\u001b[4A\n",
      "Epoch :         32,    6232.8910 ms elapsed\n",
      "loss = 0.0061473    (min = 0.0061473   )  \taccuracy = 0.72806    (max = 0.72806   )\n",
      "loss = 0.0059082    (min = 0.0059082   )  \taccuracy = 0.7448     (max = 0.7448    )\n"
     ]
    },
    {
     "name": "stderr",
     "output_type": "stream",
     "text": [
      " 88%|████████▊ | 35/40 [03:41<00:31,  6.26s/it]"
     ]
    },
    {
     "name": "stdout",
     "output_type": "stream",
     "text": [
      "\u001b[4A\n",
      "Epoch :         34,    6159.5120 ms elapsed\n",
      "loss = 0.0060662    (min = 0.0060662   )  \taccuracy = 0.73244    (max = 0.73244   )\n",
      "loss = 0.0059612    (min = 0.0059082   )  \taccuracy = 0.7439     (max = 0.7448    )\n"
     ]
    },
    {
     "name": "stderr",
     "output_type": "stream",
     "text": [
      " 92%|█████████▎| 37/40 [03:54<00:18,  6.27s/it]"
     ]
    },
    {
     "name": "stdout",
     "output_type": "stream",
     "text": [
      "\u001b[4A\n",
      "Epoch :         36,    6329.6230 ms elapsed\n",
      "loss = 0.0059545    (min = 0.0059545   )  \taccuracy = 0.73502    (max = 0.73502   )\n",
      "loss = 0.006086     (min = 0.0058218   )  \taccuracy = 0.7364     (max = 0.7488    )\n"
     ]
    },
    {
     "name": "stderr",
     "output_type": "stream",
     "text": [
      " 98%|█████████▊| 39/40 [04:07<00:06,  6.32s/it]"
     ]
    },
    {
     "name": "stdout",
     "output_type": "stream",
     "text": [
      "\u001b[4A\n",
      "Epoch :         38,    6317.8340 ms elapsed\n",
      "loss = 0.0058827    (min = 0.0058827   )  \taccuracy = 0.73772    (max = 0.73772   )\n",
      "loss = 0.0058492    (min = 0.0058218   )  \taccuracy = 0.749      (max = 0.749     )\n"
     ]
    },
    {
     "name": "stderr",
     "output_type": "stream",
     "text": [
      "\r",
      "100%|██████████| 40/40 [04:13<00:00,  6.40s/it]"
     ]
    },
    {
     "name": "stdout",
     "output_type": "stream",
     "text": [
      "Finished Training\n"
     ]
    },
    {
     "name": "stderr",
     "output_type": "stream",
     "text": [
      "\n"
     ]
    },
    {
     "name": "stdout",
     "output_type": "stream",
     "text": [
      "Accuracy of the network: 74 %\n"
     ]
    },
    {
     "data": {
      "image/png": "[encoded data removed]",
      "text/plain": [
       "<Figure size 432x288 with 1 Axes>"
      ]
     },
     "metadata": {
      "needs_background": "light"
     },
     "output_type": "display_data"
    },
    {
     "data": {
      "image/png": "[encoded data removed]",
      "text/plain": [
       "<Figure size 432x288 with 1 Axes>"
      ]
     },
     "metadata": {
      "needs_background": "light"
     },
     "output_type": "display_data"
    },
    {
     "name": "stdout",
     "output_type": "stream",
     "text": [
      "Saving models...\n"
     ]
    }
   ],
   "source": [
    "# raw_cnn_cifar = Raw_CNN_Cifar().to(device)\n",
    "\n",
    "# raw_criterion = nn.CrossEntropyLoss()\n",
    "# raw_optimizer = optim.Adam(raw_cnn_cifar.parameters(), lr=0.001)\n",
    "# raw_stats = learningStats()\n",
    "\n",
    "# train(raw_cnn_cifar,'raw_cnn_cifar',\n",
    "#       trainloader_cifar,testloader_cifar,\n",
    "#       raw_criterion, \n",
    "#       raw_optimizer,\n",
    "#       raw_stats,\n",
    "#       epoch=EPOCH)"
   ]
  },
  {
   "cell_type": "code",
   "execution_count": 15,
   "metadata": {},
   "outputs": [
    {
     "name": "stdout",
     "output_type": "stream",
     "text": [
      "The classification accuracy:  0.7421\n",
      "\n"
     ]
    },
    {
     "data": {
      "image/png": "[encoded data removed]",
      "text/plain": [
       "<Figure size 432x288 with 2 Axes>"
      ]
     },
     "metadata": {
      "needs_background": "light"
     },
     "output_type": "display_data"
    }
   ],
   "source": [
    "# raw_cnn_cifar = Raw_CNN_Cifar().to(device)\n",
    "# load_model('raw_cnn_cifar', raw_cnn_cifar)\n",
    "# labels, preds = get_labels(raw_cnn_cifar, testloader_cifar)\n",
    "# test_method(labels.cpu().numpy(), preds.cpu().numpy())"
   ]
  },
  {
   "cell_type": "markdown",
   "metadata": {},
   "source": [
    "* For small dataset\n"
   ]
  },
  {
   "cell_type": "code",
   "execution_count": 18,
   "metadata": {},
   "outputs": [
    {
     "name": "stderr",
     "output_type": "stream",
     "text": [
      "  1%|          | 1/100 [00:02<03:37,  2.20s/it]"
     ]
    },
    {
     "name": "stdout",
     "output_type": "stream",
     "text": [
      "\u001b[0A\n",
      "Epoch :          0,    2198.3550 ms elapsed\n",
      "loss = 0.018376     (min = 0.018376    )  \taccuracy = 0.124      (max = 0.124     )\n",
      "loss = 0.018404     (min = 0.018404    )  \taccuracy = 0.082      (max = 0.082     )\n"
     ]
    },
    {
     "name": "stderr",
     "output_type": "stream",
     "text": [
      "  3%|▎         | 3/100 [00:04<02:32,  1.58s/it]"
     ]
    },
    {
     "name": "stdout",
     "output_type": "stream",
     "text": [
      "\u001b[4A\n",
      "Epoch :          2,    1008.2830 ms elapsed\n",
      "loss = 0.017908     (min = 0.017908    )  \taccuracy = 0.13       (max = 0.13      )\n",
      "loss = 0.01804      (min = 0.01804     )  \taccuracy = 0.082      (max = 0.082     )\n"
     ]
    },
    {
     "name": "stderr",
     "output_type": "stream",
     "text": [
      "  5%|▌         | 5/100 [00:06<02:02,  1.29s/it]"
     ]
    },
    {
     "name": "stdout",
     "output_type": "stream",
     "text": [
      "\u001b[4A\n",
      "Epoch :          4,    1028.8230 ms elapsed\n",
      "loss = 0.016447     (min = 0.016447    )  \taccuracy = 0.284      (max = 0.284     )\n",
      "loss = 0.016565     (min = 0.016565    )  \taccuracy = 0.258      (max = 0.258     )\n"
     ]
    },
    {
     "name": "stderr",
     "output_type": "stream",
     "text": [
      "  7%|▋         | 7/100 [00:08<01:52,  1.21s/it]"
     ]
    },
    {
     "name": "stdout",
     "output_type": "stream",
     "text": [
      "\u001b[4A\n",
      "Epoch :          6,    1047.8560 ms elapsed\n",
      "loss = 0.014958     (min = 0.014958    )  \taccuracy = 0.31       (max = 0.314     )\n",
      "loss = 0.015894     (min = 0.015894    )  \taccuracy = 0.292      (max = 0.292     )\n"
     ]
    },
    {
     "name": "stderr",
     "output_type": "stream",
     "text": [
      "  9%|▉         | 9/100 [00:10<01:38,  1.08s/it]"
     ]
    },
    {
     "name": "stdout",
     "output_type": "stream",
     "text": [
      "\u001b[4A\n",
      "Epoch :          8,    1041.4200 ms elapsed\n",
      "loss = 0.014428     (min = 0.014428    )  \taccuracy = 0.352      (max = 0.356     )\n",
      "loss = 0.015829     (min = 0.015829    )  \taccuracy = 0.278      (max = 0.292     )\n"
     ]
    },
    {
     "name": "stderr",
     "output_type": "stream",
     "text": [
      " 11%|█         | 11/100 [00:12<01:36,  1.08s/it]"
     ]
    },
    {
     "name": "stdout",
     "output_type": "stream",
     "text": [
      "\u001b[4A\n",
      "Epoch :         10,    1026.1010 ms elapsed\n",
      "loss = 0.013686     (min = 0.013686    )  \taccuracy = 0.384      (max = 0.384     )\n",
      "loss = 0.015476     (min = 0.015476    )  \taccuracy = 0.312      (max = 0.312     )\n"
     ]
    },
    {
     "name": "stderr",
     "output_type": "stream",
     "text": [
      " 13%|█▎        | 13/100 [00:14<01:32,  1.06s/it]"
     ]
    },
    {
     "name": "stdout",
     "output_type": "stream",
     "text": [
      "\u001b[4A\n",
      "Epoch :         12,     963.5440 ms elapsed\n",
      "loss = 0.013        (min = 0.013       )  \taccuracy = 0.426      (max = 0.426     )\n",
      "loss = 0.015655     (min = 0.015382    )  \taccuracy = 0.294      (max = 0.312     )\n"
     ]
    },
    {
     "name": "stderr",
     "output_type": "stream",
     "text": [
      " 15%|█▌        | 15/100 [00:16<01:28,  1.04s/it]"
     ]
    },
    {
     "name": "stdout",
     "output_type": "stream",
     "text": [
      "\u001b[4A\n",
      "Epoch :         14,    1048.6920 ms elapsed\n",
      "loss = 0.012528     (min = 0.012528    )  \taccuracy = 0.438      (max = 0.438     )\n",
      "loss = 0.015489     (min = 0.015382    )  \taccuracy = 0.316      (max = 0.316     )\n"
     ]
    },
    {
     "name": "stderr",
     "output_type": "stream",
     "text": [
      " 17%|█▋        | 17/100 [00:18<01:27,  1.05s/it]"
     ]
    },
    {
     "name": "stdout",
     "output_type": "stream",
     "text": [
      "\u001b[4A\n",
      "Epoch :         16,    1025.6140 ms elapsed\n",
      "loss = 0.012008     (min = 0.012008    )  \taccuracy = 0.482      (max = 0.482     )\n",
      "loss = 0.015584     (min = 0.015382    )  \taccuracy = 0.292      (max = 0.316     )\n"
     ]
    },
    {
     "name": "stderr",
     "output_type": "stream",
     "text": [
      " 19%|█▉        | 19/100 [00:20<01:24,  1.04s/it]"
     ]
    },
    {
     "name": "stdout",
     "output_type": "stream",
     "text": [
      "\u001b[4A\n",
      "Epoch :         18,    1048.0580 ms elapsed\n",
      "loss = 0.011463     (min = 0.011463    )  \taccuracy = 0.504      (max = 0.504     )\n",
      "loss = 0.015466     (min = 0.015382    )  \taccuracy = 0.318      (max = 0.322     )\n"
     ]
    },
    {
     "name": "stderr",
     "output_type": "stream",
     "text": [
      " 21%|██        | 21/100 [00:22<01:20,  1.02s/it]"
     ]
    },
    {
     "name": "stdout",
     "output_type": "stream",
     "text": [
      "\u001b[4A\n",
      "Epoch :         20,    1097.8690 ms elapsed\n",
      "loss = 0.011124     (min = 0.011124    )  \taccuracy = 0.508      (max = 0.522     )\n",
      "loss = 0.015801     (min = 0.015343    )  \taccuracy = 0.324      (max = 0.324     )\n"
     ]
    },
    {
     "name": "stderr",
     "output_type": "stream",
     "text": [
      " 23%|██▎       | 23/100 [00:24<01:19,  1.03s/it]"
     ]
    },
    {
     "name": "stdout",
     "output_type": "stream",
     "text": [
      "\u001b[4A\n",
      "Epoch :         22,    1112.5720 ms elapsed\n",
      "loss = 0.010693     (min = 0.010693    )  \taccuracy = 0.552      (max = 0.552     )\n",
      "loss = 0.015664     (min = 0.015343    )  \taccuracy = 0.318      (max = 0.324     )\n"
     ]
    },
    {
     "name": "stderr",
     "output_type": "stream",
     "text": [
      " 25%|██▌       | 25/100 [00:26<01:16,  1.03s/it]"
     ]
    },
    {
     "name": "stdout",
     "output_type": "stream",
     "text": [
      "\u001b[4A\n",
      "Epoch :         24,     992.3730 ms elapsed\n",
      "loss = 0.010615     (min = 0.010405    )  \taccuracy = 0.542      (max = 0.552     )\n",
      "loss = 0.015912     (min = 0.015343    )  \taccuracy = 0.31       (max = 0.324     )\n"
     ]
    },
    {
     "name": "stderr",
     "output_type": "stream",
     "text": [
      " 27%|██▋       | 27/100 [00:28<01:14,  1.02s/it]"
     ]
    },
    {
     "name": "stdout",
     "output_type": "stream",
     "text": [
      "\u001b[4A\n",
      "Epoch :         26,    1106.0500 ms elapsed\n",
      "loss = 0.010826     (min = 0.010405    )  \taccuracy = 0.564      (max = 0.564     )\n",
      "loss = 0.016889     (min = 0.015343    )  \taccuracy = 0.31       (max = 0.324     )\n"
     ]
    },
    {
     "name": "stderr",
     "output_type": "stream",
     "text": [
      " 29%|██▉       | 29/100 [00:30<01:11,  1.00s/it]"
     ]
    },
    {
     "name": "stdout",
     "output_type": "stream",
     "text": [
      "\u001b[4A\n",
      "Epoch :         28,     967.7500 ms elapsed\n",
      "loss = 0.0099637    (min = 0.0099637   )  \taccuracy = 0.578      (max = 0.578     )\n",
      "loss = 0.016145     (min = 0.015343    )  \taccuracy = 0.3        (max = 0.324     )\n"
     ]
    },
    {
     "name": "stderr",
     "output_type": "stream",
     "text": [
      " 31%|███       | 31/100 [00:32<01:08,  1.01it/s]"
     ]
    },
    {
     "name": "stdout",
     "output_type": "stream",
     "text": [
      "\u001b[4A\n",
      "Epoch :         30,     956.6600 ms elapsed\n",
      "loss = 0.0094376    (min = 0.0094376   )  \taccuracy = 0.62       (max = 0.62      )\n",
      "loss = 0.016263     (min = 0.015343    )  \taccuracy = 0.312      (max = 0.324     )\n"
     ]
    },
    {
     "name": "stderr",
     "output_type": "stream",
     "text": [
      " 33%|███▎      | 33/100 [00:35<01:11,  1.06s/it]"
     ]
    },
    {
     "name": "stdout",
     "output_type": "stream",
     "text": [
      "\u001b[4A\n",
      "Epoch :         32,    1144.6060 ms elapsed\n",
      "loss = 0.0091382    (min = 0.0091382   )  \taccuracy = 0.624      (max = 0.624     )\n",
      "loss = 0.016582     (min = 0.015343    )  \taccuracy = 0.29       (max = 0.324     )\n"
     ]
    },
    {
     "name": "stderr",
     "output_type": "stream",
     "text": [
      " 35%|███▌      | 35/100 [00:37<01:06,  1.03s/it]"
     ]
    },
    {
     "name": "stdout",
     "output_type": "stream",
     "text": [
      "\u001b[4A\n",
      "Epoch :         34,     979.5140 ms elapsed\n",
      "loss = 0.0089128    (min = 0.0089128   )  \taccuracy = 0.636      (max = 0.64      )\n",
      "loss = 0.017146     (min = 0.015343    )  \taccuracy = 0.306      (max = 0.324     )\n"
     ]
    },
    {
     "name": "stderr",
     "output_type": "stream",
     "text": [
      " 37%|███▋      | 37/100 [00:39<01:06,  1.06s/it]"
     ]
    },
    {
     "name": "stdout",
     "output_type": "stream",
     "text": [
      "\u001b[4A\n",
      "Epoch :         36,    1104.9650 ms elapsed\n",
      "loss = 0.0083954    (min = 0.0083954   )  \taccuracy = 0.66       (max = 0.66      )\n",
      "loss = 0.016932     (min = 0.015343    )  \taccuracy = 0.31       (max = 0.324     )\n"
     ]
    },
    {
     "name": "stderr",
     "output_type": "stream",
     "text": [
      " 39%|███▉      | 39/100 [00:41<01:04,  1.05s/it]"
     ]
    },
    {
     "name": "stdout",
     "output_type": "stream",
     "text": [
      "\u001b[4A\n",
      "Epoch :         38,    1011.7230 ms elapsed\n",
      "loss = 0.0083132    (min = 0.0083132   )  \taccuracy = 0.666      (max = 0.666     )\n",
      "loss = 0.017184     (min = 0.015343    )  \taccuracy = 0.318      (max = 0.324     )\n"
     ]
    },
    {
     "name": "stderr",
     "output_type": "stream",
     "text": [
      " 41%|████      | 41/100 [00:43<01:00,  1.03s/it]"
     ]
    },
    {
     "name": "stdout",
     "output_type": "stream",
     "text": [
      "\u001b[4A\n",
      "Epoch :         40,     952.7990 ms elapsed\n",
      "loss = 0.007928     (min = 0.007928    )  \taccuracy = 0.704      (max = 0.704     )\n",
      "loss = 0.017224     (min = 0.015343    )  \taccuracy = 0.31       (max = 0.324     )\n"
     ]
    },
    {
     "name": "stderr",
     "output_type": "stream",
     "text": [
      " 43%|████▎     | 43/100 [00:45<00:55,  1.02it/s]"
     ]
    },
    {
     "name": "stdout",
     "output_type": "stream",
     "text": [
      "\u001b[4A\n",
      "Epoch :         42,     894.0870 ms elapsed\n",
      "loss = 0.0077643    (min = 0.0077643   )  \taccuracy = 0.688      (max = 0.704     )\n",
      "loss = 0.017751     (min = 0.015343    )  \taccuracy = 0.304      (max = 0.324     )\n"
     ]
    },
    {
     "name": "stderr",
     "output_type": "stream",
     "text": [
      " 45%|████▌     | 45/100 [00:47<00:53,  1.03it/s]"
     ]
    },
    {
     "name": "stdout",
     "output_type": "stream",
     "text": [
      "\u001b[4A\n",
      "Epoch :         44,     938.6340 ms elapsed\n",
      "loss = 0.0075778    (min = 0.0075778   )  \taccuracy = 0.706      (max = 0.706     )\n",
      "loss = 0.018383     (min = 0.015343    )  \taccuracy = 0.286      (max = 0.324     )\n"
     ]
    },
    {
     "name": "stderr",
     "output_type": "stream",
     "text": [
      " 47%|████▋     | 47/100 [00:49<00:52,  1.02it/s]"
     ]
    },
    {
     "name": "stdout",
     "output_type": "stream",
     "text": [
      "\u001b[4A\n",
      "Epoch :         46,     991.4440 ms elapsed\n",
      "loss = 0.0071431    (min = 0.0071431   )  \taccuracy = 0.71       (max = 0.718     )\n",
      "loss = 0.017693     (min = 0.015343    )  \taccuracy = 0.32       (max = 0.324     )\n"
     ]
    },
    {
     "name": "stderr",
     "output_type": "stream",
     "text": [
      " 49%|████▉     | 49/100 [00:51<00:49,  1.02it/s]"
     ]
    },
    {
     "name": "stdout",
     "output_type": "stream",
     "text": [
      "\u001b[4A\n",
      "Epoch :         48,    1076.8930 ms elapsed\n",
      "loss = 0.0072002    (min = 0.0070713   )  \taccuracy = 0.71       (max = 0.724     )\n",
      "loss = 0.019022     (min = 0.015343    )  \taccuracy = 0.32       (max = 0.324     )\n"
     ]
    },
    {
     "name": "stderr",
     "output_type": "stream",
     "text": [
      " 51%|█████     | 51/100 [00:53<00:50,  1.03s/it]"
     ]
    },
    {
     "name": "stdout",
     "output_type": "stream",
     "text": [
      "\u001b[4A\n",
      "Epoch :         50,    1152.2060 ms elapsed\n",
      "loss = 0.0066906    (min = 0.0066906   )  \taccuracy = 0.748      (max = 0.754     )\n",
      "loss = 0.018525     (min = 0.015343    )  \taccuracy = 0.298      (max = 0.324     )\n"
     ]
    },
    {
     "name": "stderr",
     "output_type": "stream",
     "text": [
      " 53%|█████▎    | 53/100 [00:55<00:47,  1.02s/it]"
     ]
    },
    {
     "name": "stdout",
     "output_type": "stream",
     "text": [
      "\u001b[4A\n",
      "Epoch :         52,    1032.5200 ms elapsed\n",
      "loss = 0.0064997    (min = 0.0064997   )  \taccuracy = 0.75       (max = 0.754     )\n",
      "loss = 0.018856     (min = 0.015343    )  \taccuracy = 0.3        (max = 0.324     )\n"
     ]
    },
    {
     "name": "stderr",
     "output_type": "stream",
     "text": [
      " 55%|█████▌    | 55/100 [00:56<00:41,  1.09it/s]"
     ]
    },
    {
     "name": "stdout",
     "output_type": "stream",
     "text": [
      "\u001b[4A\n",
      "Epoch :         54,     710.0780 ms elapsed\n",
      "loss = 0.0061781    (min = 0.0061781   )  \taccuracy = 0.76       (max = 0.766     )\n",
      "loss = 0.01954      (min = 0.015343    )  \taccuracy = 0.31       (max = 0.324     )\n"
     ]
    },
    {
     "name": "stderr",
     "output_type": "stream",
     "text": [
      " 57%|█████▋    | 57/100 [00:58<00:39,  1.08it/s]"
     ]
    },
    {
     "name": "stdout",
     "output_type": "stream",
     "text": [
      "\u001b[4A\n",
      "Epoch :         56,     902.7350 ms elapsed\n",
      "loss = 0.0058566    (min = 0.0058566   )  \taccuracy = 0.798      (max = 0.798     )\n",
      "loss = 0.019743     (min = 0.015343    )  \taccuracy = 0.308      (max = 0.324     )\n"
     ]
    },
    {
     "name": "stderr",
     "output_type": "stream",
     "text": [
      " 59%|█████▉    | 59/100 [01:00<00:40,  1.02it/s]"
     ]
    },
    {
     "name": "stdout",
     "output_type": "stream",
     "text": [
      "\u001b[4A\n",
      "Epoch :         58,    1029.6190 ms elapsed\n",
      "loss = 0.0054813    (min = 0.0054813   )  \taccuracy = 0.8        (max = 0.8       )\n",
      "loss = 0.020377     (min = 0.015343    )  \taccuracy = 0.32       (max = 0.324     )\n"
     ]
    },
    {
     "name": "stderr",
     "output_type": "stream",
     "text": [
      " 61%|██████    | 61/100 [01:02<00:38,  1.02it/s]"
     ]
    },
    {
     "name": "stdout",
     "output_type": "stream",
     "text": [
      "\u001b[4A\n",
      "Epoch :         60,     939.3130 ms elapsed\n",
      "loss = 0.0053733    (min = 0.0053662   )  \taccuracy = 0.804      (max = 0.814     )\n",
      "loss = 0.020699     (min = 0.015343    )  \taccuracy = 0.312      (max = 0.324     )\n"
     ]
    },
    {
     "name": "stderr",
     "output_type": "stream",
     "text": [
      " 63%|██████▎   | 63/100 [01:04<00:37,  1.01s/it]"
     ]
    },
    {
     "name": "stdout",
     "output_type": "stream",
     "text": [
      "\u001b[4A\n",
      "Epoch :         62,    1013.7680 ms elapsed\n",
      "loss = 0.0057555    (min = 0.0053327   )  \taccuracy = 0.77       (max = 0.814     )\n",
      "loss = 0.020509     (min = 0.015343    )  \taccuracy = 0.306      (max = 0.324     )\n"
     ]
    },
    {
     "name": "stderr",
     "output_type": "stream",
     "text": [
      " 65%|██████▌   | 65/100 [01:06<00:34,  1.02it/s]"
     ]
    },
    {
     "name": "stdout",
     "output_type": "stream",
     "text": [
      "\u001b[4A\n",
      "Epoch :         64,     978.0050 ms elapsed\n",
      "loss = 0.0049034    (min = 0.0049034   )  \taccuracy = 0.814      (max = 0.814     )\n",
      "loss = 0.020913     (min = 0.015343    )  \taccuracy = 0.324      (max = 0.324     )\n"
     ]
    },
    {
     "name": "stderr",
     "output_type": "stream",
     "text": [
      " 67%|██████▋   | 67/100 [01:08<00:32,  1.01it/s]"
     ]
    },
    {
     "name": "stdout",
     "output_type": "stream",
     "text": [
      "\u001b[4A\n",
      "Epoch :         66,     938.1110 ms elapsed\n",
      "loss = 0.0047508    (min = 0.0047508   )  \taccuracy = 0.828      (max = 0.836     )\n",
      "loss = 0.021032     (min = 0.015343    )  \taccuracy = 0.308      (max = 0.324     )\n"
     ]
    },
    {
     "name": "stderr",
     "output_type": "stream",
     "text": [
      " 69%|██████▉   | 69/100 [01:10<00:27,  1.12it/s]"
     ]
    },
    {
     "name": "stdout",
     "output_type": "stream",
     "text": [
      "\u001b[4A\n",
      "Epoch :         68,     736.2610 ms elapsed\n",
      "loss = 0.0046172    (min = 0.0044331   )  \taccuracy = 0.832      (max = 0.84      )\n",
      "loss = 0.022654     (min = 0.015343    )  \taccuracy = 0.312      (max = 0.324     )\n"
     ]
    },
    {
     "name": "stderr",
     "output_type": "stream",
     "text": [
      " 71%|███████   | 71/100 [01:12<00:28,  1.03it/s]"
     ]
    },
    {
     "name": "stdout",
     "output_type": "stream",
     "text": [
      "\u001b[4A\n",
      "Epoch :         70,    1016.7920 ms elapsed\n",
      "loss = 0.0040995    (min = 0.0040995   )  \taccuracy = 0.858      (max = 0.858     )\n",
      "loss = 0.022433     (min = 0.015343    )  \taccuracy = 0.322      (max = 0.324     )\n"
     ]
    },
    {
     "name": "stderr",
     "output_type": "stream",
     "text": [
      " 73%|███████▎  | 73/100 [01:14<00:27,  1.02s/it]"
     ]
    },
    {
     "name": "stdout",
     "output_type": "stream",
     "text": [
      "\u001b[4A\n",
      "Epoch :         72,    1095.7980 ms elapsed\n",
      "loss = 0.0041048    (min = 0.0039705   )  \taccuracy = 0.846      (max = 0.858     )\n",
      "loss = 0.022515     (min = 0.015343    )  \taccuracy = 0.306      (max = 0.324     )\n"
     ]
    },
    {
     "name": "stderr",
     "output_type": "stream",
     "text": [
      " 75%|███████▌  | 75/100 [01:16<00:25,  1.01s/it]"
     ]
    },
    {
     "name": "stdout",
     "output_type": "stream",
     "text": [
      "\u001b[4A\n",
      "Epoch :         74,     989.0910 ms elapsed\n",
      "loss = 0.0036767    (min = 0.0036767   )  \taccuracy = 0.874      (max = 0.874     )\n",
      "loss = 0.023891     (min = 0.015343    )  \taccuracy = 0.296      (max = 0.324     )\n"
     ]
    },
    {
     "name": "stderr",
     "output_type": "stream",
     "text": [
      " 77%|███████▋  | 77/100 [01:18<00:22,  1.02it/s]"
     ]
    },
    {
     "name": "stdout",
     "output_type": "stream",
     "text": [
      "\u001b[4A\n",
      "Epoch :         76,     946.9000 ms elapsed\n",
      "loss = 0.0033911    (min = 0.0033911   )  \taccuracy = 0.884      (max = 0.898     )\n",
      "loss = 0.024225     (min = 0.015343    )  \taccuracy = 0.31       (max = 0.324     )\n"
     ]
    },
    {
     "name": "stderr",
     "output_type": "stream",
     "text": [
      " 79%|███████▉  | 79/100 [01:20<00:20,  1.04it/s]"
     ]
    },
    {
     "name": "stdout",
     "output_type": "stream",
     "text": [
      "\u001b[4A\n",
      "Epoch :         78,     988.2430 ms elapsed\n",
      "loss = 0.0031507    (min = 0.0031507   )  \taccuracy = 0.9        (max = 0.9       )\n",
      "loss = 0.02401      (min = 0.015343    )  \taccuracy = 0.324      (max = 0.324     )\n"
     ]
    },
    {
     "name": "stderr",
     "output_type": "stream",
     "text": [
      " 81%|████████  | 81/100 [01:22<00:17,  1.10it/s]"
     ]
    },
    {
     "name": "stdout",
     "output_type": "stream",
     "text": [
      "\u001b[4A\n",
      "Epoch :         80,     840.4860 ms elapsed\n",
      "loss = 0.0028631    (min = 0.0028631   )  \taccuracy = 0.918      (max = 0.918     )\n",
      "loss = 0.025431     (min = 0.015343    )  \taccuracy = 0.304      (max = 0.328     )\n"
     ]
    },
    {
     "name": "stderr",
     "output_type": "stream",
     "text": [
      " 83%|████████▎ | 83/100 [01:24<00:16,  1.04it/s]"
     ]
    },
    {
     "name": "stdout",
     "output_type": "stream",
     "text": [
      "\u001b[4A\n",
      "Epoch :         82,    1007.2960 ms elapsed\n",
      "loss = 0.0026289    (min = 0.0026289   )  \taccuracy = 0.93       (max = 0.93      )\n",
      "loss = 0.025871     (min = 0.015343    )  \taccuracy = 0.312      (max = 0.328     )\n"
     ]
    },
    {
     "name": "stderr",
     "output_type": "stream",
     "text": [
      " 85%|████████▌ | 85/100 [01:26<00:15,  1.02s/it]"
     ]
    },
    {
     "name": "stdout",
     "output_type": "stream",
     "text": [
      "\u001b[4A\n",
      "Epoch :         84,    1053.9330 ms elapsed\n",
      "loss = 0.0025423    (min = 0.0025423   )  \taccuracy = 0.922      (max = 0.93      )\n",
      "loss = 0.026842     (min = 0.015343    )  \taccuracy = 0.306      (max = 0.328     )\n"
     ]
    },
    {
     "name": "stderr",
     "output_type": "stream",
     "text": [
      " 87%|████████▋ | 87/100 [01:28<00:13,  1.02s/it]"
     ]
    },
    {
     "name": "stdout",
     "output_type": "stream",
     "text": [
      "\u001b[4A\n",
      "Epoch :         86,    1026.4150 ms elapsed\n",
      "loss = 0.0025562    (min = 0.0025423   )  \taccuracy = 0.914      (max = 0.93      )\n",
      "loss = 0.026474     (min = 0.015343    )  \taccuracy = 0.288      (max = 0.328     )\n"
     ]
    },
    {
     "name": "stderr",
     "output_type": "stream",
     "text": [
      " 89%|████████▉ | 89/100 [01:30<00:10,  1.01it/s]"
     ]
    },
    {
     "name": "stdout",
     "output_type": "stream",
     "text": [
      "\u001b[4A\n",
      "Epoch :         88,    1009.2570 ms elapsed\n",
      "loss = 0.0021022    (min = 0.0021022   )  \taccuracy = 0.946      (max = 0.946     )\n",
      "loss = 0.027254     (min = 0.015343    )  \taccuracy = 0.298      (max = 0.328     )\n"
     ]
    },
    {
     "name": "stderr",
     "output_type": "stream",
     "text": [
      " 91%|█████████ | 91/100 [01:32<00:09,  1.05s/it]"
     ]
    },
    {
     "name": "stdout",
     "output_type": "stream",
     "text": [
      "\u001b[4A\n",
      "Epoch :         90,    1112.7030 ms elapsed\n",
      "loss = 0.0019179    (min = 0.0019179   )  \taccuracy = 0.954      (max = 0.954     )\n",
      "loss = 0.028498     (min = 0.015343    )  \taccuracy = 0.308      (max = 0.328     )\n"
     ]
    },
    {
     "name": "stderr",
     "output_type": "stream",
     "text": [
      " 93%|█████████▎| 93/100 [01:34<00:07,  1.04s/it]"
     ]
    },
    {
     "name": "stdout",
     "output_type": "stream",
     "text": [
      "\u001b[4A\n",
      "Epoch :         92,     969.7920 ms elapsed\n",
      "loss = 0.0017647    (min = 0.0017647   )  \taccuracy = 0.962      (max = 0.962     )\n",
      "loss = 0.029409     (min = 0.015343    )  \taccuracy = 0.31       (max = 0.328     )\n"
     ]
    },
    {
     "name": "stderr",
     "output_type": "stream",
     "text": [
      " 95%|█████████▌| 95/100 [01:36<00:05,  1.00s/it]"
     ]
    },
    {
     "name": "stdout",
     "output_type": "stream",
     "text": [
      "\u001b[4A\n",
      "Epoch :         94,     867.0480 ms elapsed\n",
      "loss = 0.0017481    (min = 0.0017481   )  \taccuracy = 0.956      (max = 0.962     )\n",
      "loss = 0.029401     (min = 0.015343    )  \taccuracy = 0.314      (max = 0.328     )\n"
     ]
    },
    {
     "name": "stderr",
     "output_type": "stream",
     "text": [
      " 97%|█████████▋| 97/100 [01:38<00:03,  1.02s/it]"
     ]
    },
    {
     "name": "stdout",
     "output_type": "stream",
     "text": [
      "\u001b[4A\n",
      "Epoch :         96,    1062.7660 ms elapsed\n",
      "loss = 0.0015523    (min = 0.0015523   )  \taccuracy = 0.968      (max = 0.968     )\n",
      "loss = 0.030322     (min = 0.015343    )  \taccuracy = 0.306      (max = 0.328     )\n"
     ]
    },
    {
     "name": "stderr",
     "output_type": "stream",
     "text": [
      " 99%|█████████▉| 99/100 [01:40<00:01,  1.07s/it]"
     ]
    },
    {
     "name": "stdout",
     "output_type": "stream",
     "text": [
      "\u001b[4A\n",
      "Epoch :         98,    1105.9460 ms elapsed\n",
      "loss = 0.0014403    (min = 0.0014403   )  \taccuracy = 0.974      (max = 0.974     )\n",
      "loss = 0.030129     (min = 0.015343    )  \taccuracy = 0.292      (max = 0.328     )\n"
     ]
    },
    {
     "name": "stderr",
     "output_type": "stream",
     "text": [
      "\r",
      "100%|██████████| 100/100 [01:42<00:00,  1.08s/it]"
     ]
    },
    {
     "name": "stdout",
     "output_type": "stream",
     "text": [
      "Finished Training\n"
     ]
    },
    {
     "name": "stderr",
     "output_type": "stream",
     "text": [
      "\n"
     ]
    },
    {
     "name": "stdout",
     "output_type": "stream",
     "text": [
      "Accuracy of the network: 30 %\n"
     ]
    },
    {
     "data": {
      "image/png": "[encoded data removed]",
      "text/plain": [
       "<Figure size 432x288 with 1 Axes>"
      ]
     },
     "metadata": {
      "needs_background": "light"
     },
     "output_type": "display_data"
    },
    {
     "data": {
      "image/png": "[encoded data removed]",
      "text/plain": [
       "<Figure size 432x288 with 1 Axes>"
      ]
     },
     "metadata": {
      "needs_background": "light"
     },
     "output_type": "display_data"
    },
    {
     "name": "stdout",
     "output_type": "stream",
     "text": [
      "Saving models...\n",
      "The classification accuracy:  0.306\n",
      "\n"
     ]
    },
    {
     "data": {
      "image/png": "[encoded data removed]",
      "text/plain": [
       "<Figure size 432x288 with 2 Axes>"
      ]
     },
     "metadata": {
      "needs_background": "light"
     },
     "output_type": "display_data"
    }
   ],
   "source": [
    "raw_cnn_cifar = Raw_CNN_Cifar().to(device)\n",
    "\n",
    "raw_criterion = nn.CrossEntropyLoss()\n",
    "raw_optimizer = optim.Adam(raw_cnn_cifar.parameters(), lr=0.001)\n",
    "raw_stats = learningStats()\n",
    "\n",
    "train(raw_cnn_cifar,'raw_cnn_Scifar',\n",
    "      trainloader_cifar,testloader_cifar,\n",
    "      raw_criterion, \n",
    "      raw_optimizer,\n",
    "      raw_stats,\n",
    "      epoch=EPOCH)\n",
    "\n",
    "labels, preds = get_labels(raw_cnn_cifar, testloader_cifar)\n",
    "test_method(labels.cpu().numpy(), preds.cpu().numpy())"
   ]
  },
  {
   "cell_type": "code",
   "execution_count": 8,
   "metadata": {
    "scrolled": true
   },
   "outputs": [
    {
     "name": "stderr",
     "output_type": "stream",
     "text": [
      "  2%|▎         | 1/40 [00:06<04:15,  6.55s/it]"
     ]
    },
    {
     "name": "stdout",
     "output_type": "stream",
     "text": [
      "\u001b[0A\n",
      "Epoch :          0,    6551.8720 ms elapsed\n",
      "loss = 0.014088     (min = 0.014088    )  \taccuracy = 0.33814    (max = 0.33814   )\n",
      "loss = 0.012223     (min = 0.012223    )  \taccuracy = 0.4317     (max = 0.4317    )\n"
     ]
    },
    {
     "name": "stderr",
     "output_type": "stream",
     "text": [
      "  8%|▊         | 3/40 [00:18<03:55,  6.37s/it]"
     ]
    },
    {
     "name": "stdout",
     "output_type": "stream",
     "text": [
      "\u001b[4A\n",
      "Epoch :          2,    6240.1750 ms elapsed\n",
      "loss = 0.011284     (min = 0.011284    )  \taccuracy = 0.48248    (max = 0.48248   )\n",
      "loss = 0.01021      (min = 0.01021     )  \taccuracy = 0.5397     (max = 0.5397    )\n"
     ]
    },
    {
     "name": "stderr",
     "output_type": "stream",
     "text": [
      " 12%|█▎        | 5/40 [00:31<03:41,  6.33s/it]"
     ]
    },
    {
     "name": "stdout",
     "output_type": "stream",
     "text": [
      "\u001b[4A\n",
      "Epoch :          4,    6256.3760 ms elapsed\n",
      "loss = 0.010129     (min = 0.010129    )  \taccuracy = 0.5413     (max = 0.5413    )\n",
      "loss = 0.0095766    (min = 0.0095766   )  \taccuracy = 0.5732     (max = 0.5732    )\n"
     ]
    },
    {
     "name": "stderr",
     "output_type": "stream",
     "text": [
      " 18%|█▊        | 7/40 [00:43<03:26,  6.25s/it]"
     ]
    },
    {
     "name": "stdout",
     "output_type": "stream",
     "text": [
      "\u001b[4A\n",
      "Epoch :          6,    6077.7540 ms elapsed\n",
      "loss = 0.0094153    (min = 0.0094153   )  \taccuracy = 0.57978    (max = 0.57978   )\n",
      "loss = 0.0088661    (min = 0.0088661   )  \taccuracy = 0.6065     (max = 0.6065    )\n"
     ]
    },
    {
     "name": "stderr",
     "output_type": "stream",
     "text": [
      " 22%|██▎       | 9/40 [00:56<03:14,  6.28s/it]"
     ]
    },
    {
     "name": "stdout",
     "output_type": "stream",
     "text": [
      "\u001b[4A\n",
      "Epoch :          8,    6421.1830 ms elapsed\n",
      "loss = 0.0089886    (min = 0.0089886   )  \taccuracy = 0.59984    (max = 0.59984   )\n",
      "loss = 0.0082918    (min = 0.0082918   )  \taccuracy = 0.6363     (max = 0.6363    )\n"
     ]
    },
    {
     "name": "stderr",
     "output_type": "stream",
     "text": [
      " 28%|██▊       | 11/40 [01:09<03:03,  6.32s/it]"
     ]
    },
    {
     "name": "stdout",
     "output_type": "stream",
     "text": [
      "\u001b[4A\n",
      "Epoch :         10,    6345.4780 ms elapsed\n",
      "loss = 0.0085528    (min = 0.0085528   )  \taccuracy = 0.6186     (max = 0.6186    )\n",
      "loss = 0.0079119    (min = 0.0079119   )  \taccuracy = 0.6547     (max = 0.6547    )\n"
     ]
    },
    {
     "name": "stderr",
     "output_type": "stream",
     "text": [
      " 32%|███▎      | 13/40 [01:21<02:51,  6.35s/it]"
     ]
    },
    {
     "name": "stdout",
     "output_type": "stream",
     "text": [
      "\u001b[4A\n",
      "Epoch :         12,    6273.7430 ms elapsed\n",
      "loss = 0.0082622    (min = 0.0082622   )  \taccuracy = 0.63318    (max = 0.63318   )\n",
      "loss = 0.0076107    (min = 0.0076107   )  \taccuracy = 0.6651     (max = 0.6651    )\n"
     ]
    },
    {
     "name": "stderr",
     "output_type": "stream",
     "text": [
      " 38%|███▊      | 15/40 [01:34<02:38,  6.36s/it]"
     ]
    },
    {
     "name": "stdout",
     "output_type": "stream",
     "text": [
      "\u001b[4A\n",
      "Epoch :         14,    6446.0360 ms elapsed\n",
      "loss = 0.0079831    (min = 0.0079831   )  \taccuracy = 0.64662    (max = 0.64662   )\n",
      "loss = 0.0076877    (min = 0.0076107   )  \taccuracy = 0.6629     (max = 0.6651    )\n"
     ]
    },
    {
     "name": "stderr",
     "output_type": "stream",
     "text": [
      " 42%|████▎     | 17/40 [01:47<02:24,  6.30s/it]"
     ]
    },
    {
     "name": "stdout",
     "output_type": "stream",
     "text": [
      "\u001b[4A\n",
      "Epoch :         16,    6233.3400 ms elapsed\n",
      "loss = 0.0077494    (min = 0.0077494   )  \taccuracy = 0.65618    (max = 0.65618   )\n",
      "loss = 0.0075129    (min = 0.0073216   )  \taccuracy = 0.6658     (max = 0.6786    )\n"
     ]
    },
    {
     "name": "stderr",
     "output_type": "stream",
     "text": [
      " 48%|████▊     | 19/40 [01:59<02:11,  6.24s/it]"
     ]
    },
    {
     "name": "stdout",
     "output_type": "stream",
     "text": [
      "\u001b[4A\n",
      "Epoch :         18,    6301.0020 ms elapsed\n",
      "loss = 0.0075594    (min = 0.0075594   )  \taccuracy = 0.66284    (max = 0.66284   )\n",
      "loss = 0.0071016    (min = 0.0071016   )  \taccuracy = 0.6887     (max = 0.6887    )\n"
     ]
    },
    {
     "name": "stderr",
     "output_type": "stream",
     "text": [
      " 52%|█████▎    | 21/40 [02:11<01:57,  6.20s/it]"
     ]
    },
    {
     "name": "stdout",
     "output_type": "stream",
     "text": [
      "\u001b[4A\n",
      "Epoch :         20,    6156.5340 ms elapsed\n",
      "loss = 0.0073489    (min = 0.0073489   )  \taccuracy = 0.6751     (max = 0.6751    )\n",
      "loss = 0.007065     (min = 0.0069362   )  \taccuracy = 0.6911     (max = 0.6932    )\n"
     ]
    },
    {
     "name": "stderr",
     "output_type": "stream",
     "text": [
      " 57%|█████▊    | 23/40 [02:24<01:45,  6.18s/it]"
     ]
    },
    {
     "name": "stdout",
     "output_type": "stream",
     "text": [
      "\u001b[4A\n",
      "Epoch :         22,    6209.6480 ms elapsed\n",
      "loss = 0.0071363    (min = 0.0071363   )  \taccuracy = 0.68452    (max = 0.68452   )\n",
      "loss = 0.0068898    (min = 0.0067752   )  \taccuracy = 0.6977     (max = 0.6984    )\n"
     ]
    },
    {
     "name": "stderr",
     "output_type": "stream",
     "text": [
      " 62%|██████▎   | 25/40 [02:36<01:31,  6.13s/it]"
     ]
    },
    {
     "name": "stdout",
     "output_type": "stream",
     "text": [
      "\u001b[4A\n",
      "Epoch :         24,    6093.9860 ms elapsed\n",
      "loss = 0.0070036    (min = 0.0070036   )  \taccuracy = 0.69154    (max = 0.69154   )\n",
      "loss = 0.0068061    (min = 0.0066254   )  \taccuracy = 0.7074     (max = 0.7132    )\n"
     ]
    },
    {
     "name": "stderr",
     "output_type": "stream",
     "text": [
      " 68%|██████▊   | 27/40 [02:48<01:20,  6.20s/it]"
     ]
    },
    {
     "name": "stdout",
     "output_type": "stream",
     "text": [
      "\u001b[4A\n",
      "Epoch :         26,    6259.9400 ms elapsed\n",
      "loss = 0.0068246    (min = 0.0068246   )  \taccuracy = 0.69808    (max = 0.69808   )\n",
      "loss = 0.0064633    (min = 0.0064633   )  \taccuracy = 0.7162     (max = 0.7162    )\n"
     ]
    },
    {
     "name": "stderr",
     "output_type": "stream",
     "text": [
      " 72%|███████▎  | 29/40 [03:01<01:08,  6.27s/it]"
     ]
    },
    {
     "name": "stdout",
     "output_type": "stream",
     "text": [
      "\u001b[4A\n",
      "Epoch :         28,    6389.6300 ms elapsed\n",
      "loss = 0.0066896    (min = 0.0066896   )  \taccuracy = 0.70688    (max = 0.70688   )\n",
      "loss = 0.0066666    (min = 0.0064633   )  \taccuracy = 0.7092     (max = 0.7162    )\n"
     ]
    },
    {
     "name": "stderr",
     "output_type": "stream",
     "text": [
      " 78%|███████▊  | 31/40 [03:14<00:56,  6.31s/it]"
     ]
    },
    {
     "name": "stdout",
     "output_type": "stream",
     "text": [
      "\u001b[4A\n",
      "Epoch :         30,    6311.2740 ms elapsed\n",
      "loss = 0.0065471    (min = 0.0065471   )  \taccuracy = 0.70898    (max = 0.70898   )\n",
      "loss = 0.0063487    (min = 0.0063487   )  \taccuracy = 0.7242     (max = 0.7242    )\n"
     ]
    },
    {
     "name": "stderr",
     "output_type": "stream",
     "text": [
      " 82%|████████▎ | 33/40 [03:26<00:43,  6.23s/it]"
     ]
    },
    {
     "name": "stdout",
     "output_type": "stream",
     "text": [
      "\u001b[4A\n",
      "Epoch :         32,    6163.3210 ms elapsed\n",
      "loss = 0.0064575    (min = 0.0064575   )  \taccuracy = 0.71642    (max = 0.71642   )\n",
      "loss = 0.0063825    (min = 0.0063487   )  \taccuracy = 0.724      (max = 0.7242    )\n"
     ]
    },
    {
     "name": "stderr",
     "output_type": "stream",
     "text": [
      " 88%|████████▊ | 35/40 [03:38<00:31,  6.21s/it]"
     ]
    },
    {
     "name": "stdout",
     "output_type": "stream",
     "text": [
      "\u001b[4A\n",
      "Epoch :         34,    6233.2640 ms elapsed\n",
      "loss = 0.0064038    (min = 0.0064005   )  \taccuracy = 0.71958    (max = 0.71958   )\n",
      "loss = 0.0061308    (min = 0.0061075   )  \taccuracy = 0.7355     (max = 0.7355    )\n"
     ]
    },
    {
     "name": "stderr",
     "output_type": "stream",
     "text": [
      " 92%|█████████▎| 37/40 [03:51<00:18,  6.23s/it]"
     ]
    },
    {
     "name": "stdout",
     "output_type": "stream",
     "text": [
      "\u001b[4A\n",
      "Epoch :         36,    6211.7670 ms elapsed\n",
      "loss = 0.006265     (min = 0.006265    )  \taccuracy = 0.72398    (max = 0.72398   )\n",
      "loss = 0.0062798    (min = 0.0061075   )  \taccuracy = 0.7217     (max = 0.7355    )\n"
     ]
    },
    {
     "name": "stderr",
     "output_type": "stream",
     "text": [
      " 98%|█████████▊| 39/40 [04:03<00:06,  6.24s/it]"
     ]
    },
    {
     "name": "stdout",
     "output_type": "stream",
     "text": [
      "\u001b[4A\n",
      "Epoch :         38,    6285.1820 ms elapsed\n",
      "loss = 0.0062134    (min = 0.0062134   )  \taccuracy = 0.72538    (max = 0.72538   )\n",
      "loss = 0.00596      (min = 0.00596     )  \taccuracy = 0.7413     (max = 0.7413    )\n"
     ]
    },
    {
     "name": "stderr",
     "output_type": "stream",
     "text": [
      "\r",
      "100%|██████████| 40/40 [04:10<00:00,  6.46s/it]"
     ]
    },
    {
     "name": "stdout",
     "output_type": "stream",
     "text": [
      "Finished Training\n"
     ]
    },
    {
     "name": "stderr",
     "output_type": "stream",
     "text": [
      "\n"
     ]
    },
    {
     "name": "stdout",
     "output_type": "stream",
     "text": [
      "Accuracy of the network: 72 %\n"
     ]
    },
    {
     "data": {
      "image/png": "[encoded data removed]",
      "text/plain": [
       "<Figure size 432x288 with 1 Axes>"
      ]
     },
     "metadata": {
      "needs_background": "light"
     },
     "output_type": "display_data"
    },
    {
     "data": {
      "image/png": "[encoded data removed]",
      "text/plain": [
       "<Figure size 432x288 with 1 Axes>"
      ]
     },
     "metadata": {
      "needs_background": "light"
     },
     "output_type": "display_data"
    },
    {
     "name": "stdout",
     "output_type": "stream",
     "text": [
      "Saving models...\n"
     ]
    }
   ],
   "source": [
    "# tailored_cnn_cifar = Tailored_CNN_Cifar().to(device)\n",
    "\n",
    "# raw_criterion = nn.CrossEntropyLoss()\n",
    "# raw_optimizer = optim.Adam(tailored_cnn_cifar.parameters(), lr=0.001)\n",
    "# raw_stats = learningStats()\n",
    "\n",
    "# train(tailored_cnn_cifar,'tailored_cnn_cifar',\n",
    "#       trainloader_cifar,testloader_cifar,\n",
    "#       raw_criterion, \n",
    "#       raw_optimizer,\n",
    "#       raw_stats,\n",
    "#       epoch=EPOCH)"
   ]
  },
  {
   "cell_type": "code",
   "execution_count": 16,
   "metadata": {},
   "outputs": [
    {
     "name": "stdout",
     "output_type": "stream",
     "text": [
      "The classification accuracy:  0.7258\n",
      "\n"
     ]
    },
    {
     "data": {
      "image/png": "[encoded data removed]",
      "text/plain": [
       "<Figure size 432x288 with 2 Axes>"
      ]
     },
     "metadata": {
      "needs_background": "light"
     },
     "output_type": "display_data"
    }
   ],
   "source": [
    "# tailored_cnn_cifar = Tailored_CNN_Cifar().to(device)\n",
    "# load_model('tailored_cnn_cifar', tailored_cnn_cifar)\n",
    "# labels, preds = get_labels(tailored_cnn_cifar, testloader_cifar)\n",
    "# test_method(labels.cpu().numpy(), preds.cpu().numpy())"
   ]
  },
  {
   "cell_type": "markdown",
   "metadata": {},
   "source": [
    "* For small dataset (tailored)"
   ]
  },
  {
   "cell_type": "code",
   "execution_count": 20,
   "metadata": {
    "scrolled": true
   },
   "outputs": [
    {
     "name": "stderr",
     "output_type": "stream",
     "text": [
      "\n",
      "  0%|          | 0/100 [00:00<?, ?it/s]\u001b[A\n",
      "  1%|          | 1/100 [00:01<01:43,  1.05s/it]\u001b[A"
     ]
    },
    {
     "name": "stdout",
     "output_type": "stream",
     "text": [
      "\u001b[0A\n",
      "Epoch :          0,    1045.3190 ms elapsed\n",
      "loss = 0.018367     (min = 0.018367    )  \taccuracy = 0.124      (max = 0.124     )\n",
      "loss = 0.018386     (min = 0.018386    )  \taccuracy = 0.082      (max = 0.082     )\n"
     ]
    },
    {
     "name": "stderr",
     "output_type": "stream",
     "text": [
      "\n",
      "  2%|▏         | 2/100 [00:02<01:43,  1.05s/it]\u001b[A\n",
      "  3%|▎         | 3/100 [00:03<01:39,  1.02s/it]\u001b[A"
     ]
    },
    {
     "name": "stdout",
     "output_type": "stream",
     "text": [
      "\u001b[4A\n",
      "Epoch :          2,     952.9700 ms elapsed\n",
      "loss = 0.017918     (min = 0.017918    )  \taccuracy = 0.142      (max = 0.142     )\n",
      "loss = 0.017869     (min = 0.017869    )  \taccuracy = 0.154      (max = 0.154     )\n"
     ]
    },
    {
     "name": "stderr",
     "output_type": "stream",
     "text": [
      "\n",
      "  4%|▍         | 4/100 [00:04<01:37,  1.01s/it]\u001b[A\n",
      "  5%|▌         | 5/100 [00:05<01:35,  1.01s/it]\u001b[A"
     ]
    },
    {
     "name": "stdout",
     "output_type": "stream",
     "text": [
      "\u001b[4A\n",
      "Epoch :          4,     987.1460 ms elapsed\n",
      "loss = 0.017028     (min = 0.017028    )  \taccuracy = 0.244      (max = 0.244     )\n",
      "loss = 0.016766     (min = 0.016766    )  \taccuracy = 0.24       (max = 0.24      )\n"
     ]
    },
    {
     "name": "stderr",
     "output_type": "stream",
     "text": [
      "\n",
      "  6%|▌         | 6/100 [00:06<01:36,  1.02s/it]\u001b[A\n",
      "  7%|▋         | 7/100 [00:07<01:37,  1.05s/it]\u001b[A"
     ]
    },
    {
     "name": "stdout",
     "output_type": "stream",
     "text": [
      "\u001b[4A\n",
      "Epoch :          6,    1105.7000 ms elapsed\n",
      "loss = 0.015788     (min = 0.015788    )  \taccuracy = 0.316      (max = 0.316     )\n",
      "loss = 0.017069     (min = 0.016549    )  \taccuracy = 0.246      (max = 0.25      )\n"
     ]
    },
    {
     "name": "stderr",
     "output_type": "stream",
     "text": [
      "\n",
      "  8%|▊         | 8/100 [00:08<01:38,  1.07s/it]\u001b[A\n",
      "  9%|▉         | 9/100 [00:09<01:35,  1.05s/it]\u001b[A"
     ]
    },
    {
     "name": "stdout",
     "output_type": "stream",
     "text": [
      "\u001b[4A\n",
      "Epoch :          8,    1021.5550 ms elapsed\n",
      "loss = 0.015257     (min = 0.015257    )  \taccuracy = 0.326      (max = 0.326     )\n",
      "loss = 0.016504     (min = 0.016369    )  \taccuracy = 0.252      (max = 0.266     )\n"
     ]
    },
    {
     "name": "stderr",
     "output_type": "stream",
     "text": [
      "\n",
      " 10%|█         | 10/100 [00:10<01:32,  1.03s/it]\u001b[A\n",
      " 11%|█         | 11/100 [00:11<01:30,  1.02s/it]\u001b[A"
     ]
    },
    {
     "name": "stdout",
     "output_type": "stream",
     "text": [
      "\u001b[4A\n",
      "Epoch :         10,     970.6350 ms elapsed\n",
      "loss = 0.01503      (min = 0.01503     )  \taccuracy = 0.348      (max = 0.348     )\n",
      "loss = 0.016369     (min = 0.016369    )  \taccuracy = 0.266      (max = 0.266     )\n"
     ]
    },
    {
     "name": "stderr",
     "output_type": "stream",
     "text": [
      "\n",
      " 12%|█▏        | 12/100 [00:12<01:28,  1.01s/it]\u001b[A\n",
      " 13%|█▎        | 13/100 [00:13<01:27,  1.00s/it]\u001b[A"
     ]
    },
    {
     "name": "stdout",
     "output_type": "stream",
     "text": [
      "\u001b[4A\n",
      "Epoch :         12,     981.3450 ms elapsed\n",
      "loss = 0.014596     (min = 0.014596    )  \taccuracy = 0.35       (max = 0.358     )\n",
      "loss = 0.016189     (min = 0.016189    )  \taccuracy = 0.272      (max = 0.284     )\n"
     ]
    },
    {
     "name": "stderr",
     "output_type": "stream",
     "text": [
      "\n",
      " 14%|█▍        | 14/100 [00:14<01:25,  1.01it/s]\u001b[A\n",
      " 15%|█▌        | 15/100 [00:15<01:23,  1.02it/s]\u001b[A"
     ]
    },
    {
     "name": "stdout",
     "output_type": "stream",
     "text": [
      "\u001b[4A\n",
      "Epoch :         14,     960.1200 ms elapsed\n",
      "loss = 0.014216     (min = 0.014216    )  \taccuracy = 0.37       (max = 0.372     )\n",
      "loss = 0.016359     (min = 0.016189    )  \taccuracy = 0.292      (max = 0.292     )\n"
     ]
    },
    {
     "name": "stderr",
     "output_type": "stream",
     "text": [
      "\n",
      " 16%|█▌        | 16/100 [00:16<01:22,  1.02it/s]\u001b[A\n",
      " 17%|█▋        | 17/100 [00:17<01:17,  1.07it/s]\u001b[A"
     ]
    },
    {
     "name": "stdout",
     "output_type": "stream",
     "text": [
      "\u001b[4A\n",
      "Epoch :         16,     827.9050 ms elapsed\n",
      "loss = 0.013742     (min = 0.013742    )  \taccuracy = 0.378      (max = 0.4       )\n",
      "loss = 0.01613      (min = 0.01613     )  \taccuracy = 0.278      (max = 0.292     )\n"
     ]
    },
    {
     "name": "stderr",
     "output_type": "stream",
     "text": [
      "\n",
      " 18%|█▊        | 18/100 [00:18<01:17,  1.05it/s]\u001b[A\n",
      " 19%|█▉        | 19/100 [00:18<01:16,  1.06it/s]\u001b[A"
     ]
    },
    {
     "name": "stdout",
     "output_type": "stream",
     "text": [
      "\u001b[4A\n",
      "Epoch :         18,     919.4880 ms elapsed\n",
      "loss = 0.013468     (min = 0.013468    )  \taccuracy = 0.428      (max = 0.428     )\n",
      "loss = 0.016532     (min = 0.01613     )  \taccuracy = 0.282      (max = 0.292     )\n"
     ]
    },
    {
     "name": "stderr",
     "output_type": "stream",
     "text": [
      "\n",
      " 20%|██        | 20/100 [00:20<01:19,  1.01it/s]\u001b[A\n",
      " 21%|██        | 21/100 [00:21<01:17,  1.01it/s]\u001b[A"
     ]
    },
    {
     "name": "stdout",
     "output_type": "stream",
     "text": [
      "\u001b[4A\n",
      "Epoch :         20,     966.8140 ms elapsed\n",
      "loss = 0.012883     (min = 0.012883    )  \taccuracy = 0.422      (max = 0.428     )\n",
      "loss = 0.01626      (min = 0.01613     )  \taccuracy = 0.284      (max = 0.292     )\n"
     ]
    },
    {
     "name": "stderr",
     "output_type": "stream",
     "text": [
      "\n",
      " 22%|██▏       | 22/100 [00:21<01:16,  1.02it/s]\u001b[A\n",
      " 23%|██▎       | 23/100 [00:22<01:15,  1.02it/s]\u001b[A"
     ]
    },
    {
     "name": "stdout",
     "output_type": "stream",
     "text": [
      "\u001b[4A\n",
      "Epoch :         22,     964.1280 ms elapsed\n",
      "loss = 0.012676     (min = 0.012676    )  \taccuracy = 0.438      (max = 0.442     )\n",
      "loss = 0.016513     (min = 0.01613     )  \taccuracy = 0.298      (max = 0.298     )\n"
     ]
    },
    {
     "name": "stderr",
     "output_type": "stream",
     "text": [
      "\n",
      " 24%|██▍       | 24/100 [00:24<01:16,  1.01s/it]\u001b[A\n",
      " 25%|██▌       | 25/100 [00:25<01:18,  1.04s/it]\u001b[A"
     ]
    },
    {
     "name": "stdout",
     "output_type": "stream",
     "text": [
      "\u001b[4A\n",
      "Epoch :         24,    1118.3890 ms elapsed\n",
      "loss = 0.01251      (min = 0.01251     )  \taccuracy = 0.458      (max = 0.458     )\n",
      "loss = 0.016171     (min = 0.01613     )  \taccuracy = 0.276      (max = 0.298     )\n"
     ]
    },
    {
     "name": "stderr",
     "output_type": "stream",
     "text": [
      "\n",
      " 26%|██▌       | 26/100 [00:26<01:14,  1.00s/it]\u001b[A\n",
      " 27%|██▋       | 27/100 [00:27<01:14,  1.02s/it]\u001b[A"
     ]
    },
    {
     "name": "stdout",
     "output_type": "stream",
     "text": [
      "\u001b[4A\n",
      "Epoch :         26,    1051.2260 ms elapsed\n",
      "loss = 0.012479     (min = 0.012093    )  \taccuracy = 0.456      (max = 0.468     )\n",
      "loss = 0.016328     (min = 0.01613     )  \taccuracy = 0.286      (max = 0.298     )\n"
     ]
    },
    {
     "name": "stderr",
     "output_type": "stream",
     "text": [
      "\n",
      " 28%|██▊       | 28/100 [00:28<01:15,  1.04s/it]\u001b[A\n",
      " 29%|██▉       | 29/100 [00:29<01:11,  1.00s/it]\u001b[A"
     ]
    },
    {
     "name": "stdout",
     "output_type": "stream",
     "text": [
      "\u001b[4A\n",
      "Epoch :         28,     903.8480 ms elapsed\n",
      "loss = 0.011492     (min = 0.011492    )  \taccuracy = 0.506      (max = 0.506     )\n",
      "loss = 0.016585     (min = 0.01613     )  \taccuracy = 0.286      (max = 0.298     )\n"
     ]
    },
    {
     "name": "stderr",
     "output_type": "stream",
     "text": [
      "\n",
      " 30%|███       | 30/100 [00:30<01:10,  1.00s/it]\u001b[A\n",
      " 31%|███       | 31/100 [00:31<01:09,  1.00s/it]\u001b[A"
     ]
    },
    {
     "name": "stdout",
     "output_type": "stream",
     "text": [
      "\u001b[4A\n",
      "Epoch :         30,     992.0610 ms elapsed\n",
      "loss = 0.011281     (min = 0.011203    )  \taccuracy = 0.514      (max = 0.514     )\n",
      "loss = 0.016842     (min = 0.01613     )  \taccuracy = 0.276      (max = 0.298     )\n"
     ]
    },
    {
     "name": "stderr",
     "output_type": "stream",
     "text": [
      "\n",
      " 32%|███▏      | 32/100 [00:32<01:06,  1.03it/s]\u001b[A\n",
      " 33%|███▎      | 33/100 [00:33<01:06,  1.01it/s]\u001b[A"
     ]
    },
    {
     "name": "stdout",
     "output_type": "stream",
     "text": [
      "\u001b[4A\n",
      "Epoch :         32,    1009.9550 ms elapsed\n",
      "loss = 0.01145      (min = 0.011071    )  \taccuracy = 0.514      (max = 0.514     )\n",
      "loss = 0.017239     (min = 0.01613     )  \taccuracy = 0.276      (max = 0.298     )\n"
     ]
    },
    {
     "name": "stderr",
     "output_type": "stream",
     "text": [
      "\n",
      " 34%|███▍      | 34/100 [00:34<01:04,  1.02it/s]\u001b[A\n",
      " 35%|███▌      | 35/100 [00:35<01:03,  1.02it/s]\u001b[A"
     ]
    },
    {
     "name": "stdout",
     "output_type": "stream",
     "text": [
      "\u001b[4A\n",
      "Epoch :         34,     976.4790 ms elapsed\n",
      "loss = 0.010727     (min = 0.010727    )  \taccuracy = 0.554      (max = 0.554     )\n",
      "loss = 0.016798     (min = 0.01613     )  \taccuracy = 0.284      (max = 0.298     )\n"
     ]
    },
    {
     "name": "stderr",
     "output_type": "stream",
     "text": [
      "\n",
      " 36%|███▌      | 36/100 [00:35<01:01,  1.05it/s]\u001b[A\n",
      " 37%|███▋      | 37/100 [00:36<00:59,  1.06it/s]\u001b[A"
     ]
    },
    {
     "name": "stdout",
     "output_type": "stream",
     "text": [
      "\u001b[4A\n",
      "Epoch :         36,     925.8920 ms elapsed\n",
      "loss = 0.010227     (min = 0.010227    )  \taccuracy = 0.554      (max = 0.554     )\n",
      "loss = 0.017302     (min = 0.01613     )  \taccuracy = 0.276      (max = 0.298     )\n"
     ]
    },
    {
     "name": "stderr",
     "output_type": "stream",
     "text": [
      "\n",
      " 38%|███▊      | 38/100 [00:37<00:58,  1.05it/s]\u001b[A\n",
      " 39%|███▉      | 39/100 [00:38<01:00,  1.01it/s]\u001b[A"
     ]
    },
    {
     "name": "stdout",
     "output_type": "stream",
     "text": [
      "\u001b[4A\n",
      "Epoch :         38,    1076.6430 ms elapsed\n",
      "loss = 0.0099646    (min = 0.0099646   )  \taccuracy = 0.564      (max = 0.564     )\n",
      "loss = 0.017233     (min = 0.01613     )  \taccuracy = 0.284      (max = 0.298     )\n"
     ]
    },
    {
     "name": "stderr",
     "output_type": "stream",
     "text": [
      "\n",
      " 40%|████      | 40/100 [00:39<00:59,  1.01it/s]\u001b[A\n",
      " 41%|████      | 41/100 [00:40<00:57,  1.02it/s]\u001b[A"
     ]
    },
    {
     "name": "stdout",
     "output_type": "stream",
     "text": [
      "\u001b[4A\n",
      "Epoch :         40,     936.7060 ms elapsed\n",
      "loss = 0.0095733    (min = 0.0095733   )  \taccuracy = 0.586      (max = 0.586     )\n",
      "loss = 0.017694     (min = 0.01613     )  \taccuracy = 0.27       (max = 0.298     )\n"
     ]
    },
    {
     "name": "stderr",
     "output_type": "stream",
     "text": [
      "\n",
      " 42%|████▏     | 42/100 [00:41<00:57,  1.01it/s]\u001b[A\n",
      " 43%|████▎     | 43/100 [00:42<00:58,  1.03s/it]\u001b[A"
     ]
    },
    {
     "name": "stdout",
     "output_type": "stream",
     "text": [
      "\u001b[4A\n",
      "Epoch :         42,    1137.7450 ms elapsed\n",
      "loss = 0.0091384    (min = 0.0091384   )  \taccuracy = 0.59       (max = 0.598     )\n",
      "loss = 0.018065     (min = 0.01613     )  \taccuracy = 0.282      (max = 0.298     )\n"
     ]
    },
    {
     "name": "stderr",
     "output_type": "stream",
     "text": [
      "\n",
      " 44%|████▍     | 44/100 [00:44<01:00,  1.08s/it]\u001b[A\n",
      " 45%|████▌     | 45/100 [00:45<00:58,  1.07s/it]\u001b[A"
     ]
    },
    {
     "name": "stdout",
     "output_type": "stream",
     "text": [
      "\u001b[4A\n",
      "Epoch :         44,    1028.2350 ms elapsed\n",
      "loss = 0.0086859    (min = 0.0086859   )  \taccuracy = 0.626      (max = 0.626     )\n",
      "loss = 0.018121     (min = 0.01613     )  \taccuracy = 0.28       (max = 0.298     )\n"
     ]
    },
    {
     "name": "stderr",
     "output_type": "stream",
     "text": [
      "\n",
      " 46%|████▌     | 46/100 [00:46<00:57,  1.06s/it]\u001b[A\n",
      " 47%|████▋     | 47/100 [00:47<00:55,  1.04s/it]\u001b[A"
     ]
    },
    {
     "name": "stdout",
     "output_type": "stream",
     "text": [
      "\u001b[4A\n",
      "Epoch :         46,     993.9070 ms elapsed\n",
      "loss = 0.0084156    (min = 0.0084156   )  \taccuracy = 0.624      (max = 0.638     )\n",
      "loss = 0.018481     (min = 0.01613     )  \taccuracy = 0.286      (max = 0.298     )\n"
     ]
    },
    {
     "name": "stderr",
     "output_type": "stream",
     "text": [
      "\n",
      " 48%|████▊     | 48/100 [00:48<00:54,  1.05s/it]\u001b[A\n",
      " 49%|████▉     | 49/100 [00:49<00:52,  1.04s/it]\u001b[A"
     ]
    },
    {
     "name": "stdout",
     "output_type": "stream",
     "text": [
      "\u001b[4A\n",
      "Epoch :         48,    1010.4280 ms elapsed\n",
      "loss = 0.0081705    (min = 0.0081705   )  \taccuracy = 0.66       (max = 0.66      )\n",
      "loss = 0.019825     (min = 0.01613     )  \taccuracy = 0.27       (max = 0.298     )\n"
     ]
    },
    {
     "name": "stderr",
     "output_type": "stream",
     "text": [
      "\n",
      " 50%|█████     | 50/100 [00:50<00:50,  1.00s/it]\u001b[A\n",
      " 51%|█████     | 51/100 [00:51<00:47,  1.03it/s]\u001b[A"
     ]
    },
    {
     "name": "stdout",
     "output_type": "stream",
     "text": [
      "\u001b[4A\n",
      "Epoch :         50,     903.6820 ms elapsed\n",
      "loss = 0.0076259    (min = 0.0076259   )  \taccuracy = 0.686      (max = 0.686     )\n",
      "loss = 0.018454     (min = 0.01613     )  \taccuracy = 0.294      (max = 0.298     )\n"
     ]
    },
    {
     "name": "stderr",
     "output_type": "stream",
     "text": [
      "\n",
      " 52%|█████▏    | 52/100 [00:52<00:46,  1.03it/s]\u001b[A\n",
      " 53%|█████▎    | 53/100 [00:53<00:45,  1.03it/s]\u001b[A"
     ]
    },
    {
     "name": "stdout",
     "output_type": "stream",
     "text": [
      "\u001b[4A\n",
      "Epoch :         52,     979.7850 ms elapsed\n",
      "loss = 0.0072729    (min = 0.0072729   )  \taccuracy = 0.696      (max = 0.696     )\n",
      "loss = 0.018924     (min = 0.01613     )  \taccuracy = 0.29       (max = 0.298     )\n"
     ]
    },
    {
     "name": "stderr",
     "output_type": "stream",
     "text": [
      "\n",
      " 54%|█████▍    | 54/100 [00:54<00:44,  1.04it/s]\u001b[A\n",
      " 55%|█████▌    | 55/100 [00:54<00:41,  1.09it/s]\u001b[A"
     ]
    },
    {
     "name": "stdout",
     "output_type": "stream",
     "text": [
      "\u001b[4A\n",
      "Epoch :         54,     808.9830 ms elapsed\n",
      "loss = 0.0071155    (min = 0.0070641   )  \taccuracy = 0.692      (max = 0.706     )\n",
      "loss = 0.020696     (min = 0.01613     )  \taccuracy = 0.27       (max = 0.298     )\n"
     ]
    },
    {
     "name": "stderr",
     "output_type": "stream",
     "text": [
      "\n",
      " 56%|█████▌    | 56/100 [00:55<00:41,  1.05it/s]\u001b[A\n",
      " 57%|█████▋    | 57/100 [00:56<00:40,  1.05it/s]\u001b[A"
     ]
    },
    {
     "name": "stdout",
     "output_type": "stream",
     "text": [
      "\u001b[4A\n",
      "Epoch :         56,     941.4150 ms elapsed\n",
      "loss = 0.0067503    (min = 0.0067503   )  \taccuracy = 0.724      (max = 0.724     )\n",
      "loss = 0.020732     (min = 0.01613     )  \taccuracy = 0.274      (max = 0.298     )\n"
     ]
    },
    {
     "name": "stderr",
     "output_type": "stream",
     "text": [
      "\n",
      " 58%|█████▊    | 58/100 [00:57<00:41,  1.01it/s]\u001b[A\n",
      " 59%|█████▉    | 59/100 [00:58<00:41,  1.01s/it]\u001b[A"
     ]
    },
    {
     "name": "stdout",
     "output_type": "stream",
     "text": [
      "\u001b[4A\n",
      "Epoch :         58,    1065.3190 ms elapsed\n",
      "loss = 0.0063028    (min = 0.0063028   )  \taccuracy = 0.74       (max = 0.74      )\n",
      "loss = 0.020628     (min = 0.01613     )  \taccuracy = 0.274      (max = 0.298     )\n"
     ]
    },
    {
     "name": "stderr",
     "output_type": "stream",
     "text": [
      "\n",
      " 60%|██████    | 60/100 [01:00<00:41,  1.03s/it]\u001b[A\n",
      " 61%|██████    | 61/100 [01:01<00:40,  1.03s/it]\u001b[A"
     ]
    },
    {
     "name": "stdout",
     "output_type": "stream",
     "text": [
      "\u001b[4A\n",
      "Epoch :         60,    1029.2490 ms elapsed\n",
      "loss = 0.0063876    (min = 0.0061552   )  \taccuracy = 0.706      (max = 0.774     )\n",
      "loss = 0.021172     (min = 0.01613     )  \taccuracy = 0.258      (max = 0.298     )\n"
     ]
    },
    {
     "name": "stderr",
     "output_type": "stream",
     "text": [
      "\n",
      " 62%|██████▏   | 62/100 [01:02<00:38,  1.02s/it]\u001b[A\n",
      " 63%|██████▎   | 63/100 [01:03<00:37,  1.02s/it]\u001b[A"
     ]
    },
    {
     "name": "stdout",
     "output_type": "stream",
     "text": [
      "\u001b[4A\n",
      "Epoch :         62,     993.7040 ms elapsed\n",
      "loss = 0.0054684    (min = 0.0054684   )  \taccuracy = 0.794      (max = 0.794     )\n",
      "loss = 0.021629     (min = 0.01613     )  \taccuracy = 0.268      (max = 0.298     )\n"
     ]
    },
    {
     "name": "stderr",
     "output_type": "stream",
     "text": [
      "\n",
      " 64%|██████▍   | 64/100 [01:04<00:35,  1.00it/s]\u001b[A\n",
      " 65%|██████▌   | 65/100 [01:04<00:34,  1.03it/s]\u001b[A"
     ]
    },
    {
     "name": "stdout",
     "output_type": "stream",
     "text": [
      "\u001b[4A\n",
      "Epoch :         64,     915.6570 ms elapsed\n",
      "loss = 0.0052387    (min = 0.0052289   )  \taccuracy = 0.778      (max = 0.794     )\n",
      "loss = 0.022044     (min = 0.01613     )  \taccuracy = 0.286      (max = 0.298     )\n"
     ]
    },
    {
     "name": "stderr",
     "output_type": "stream",
     "text": [
      "\n",
      " 66%|██████▌   | 66/100 [01:05<00:34,  1.00s/it]\u001b[A\n",
      " 67%|██████▋   | 67/100 [01:07<00:33,  1.03s/it]\u001b[A"
     ]
    },
    {
     "name": "stdout",
     "output_type": "stream",
     "text": [
      "\u001b[4A\n",
      "Epoch :         66,    1086.2490 ms elapsed\n",
      "loss = 0.0048233    (min = 0.0048233   )  \taccuracy = 0.826      (max = 0.826     )\n",
      "loss = 0.022221     (min = 0.01613     )  \taccuracy = 0.278      (max = 0.298     )\n"
     ]
    },
    {
     "name": "stderr",
     "output_type": "stream",
     "text": [
      "\n",
      " 68%|██████▊   | 68/100 [01:08<00:32,  1.01s/it]\u001b[A\n",
      " 69%|██████▉   | 69/100 [01:08<00:29,  1.04it/s]\u001b[A"
     ]
    },
    {
     "name": "stdout",
     "output_type": "stream",
     "text": [
      "\u001b[4A\n",
      "Epoch :         68,     841.4770 ms elapsed\n",
      "loss = 0.0046547    (min = 0.0045936   )  \taccuracy = 0.826      (max = 0.826     )\n",
      "loss = 0.023259     (min = 0.01613     )  \taccuracy = 0.27       (max = 0.298     )\n"
     ]
    },
    {
     "name": "stderr",
     "output_type": "stream",
     "text": [
      "\n",
      " 70%|███████   | 70/100 [01:09<00:28,  1.05it/s]\u001b[A\n",
      " 71%|███████   | 71/100 [01:10<00:28,  1.03it/s]\u001b[A"
     ]
    },
    {
     "name": "stdout",
     "output_type": "stream",
     "text": [
      "\u001b[4A\n",
      "Epoch :         70,    1026.3720 ms elapsed\n",
      "loss = 0.0042295    (min = 0.0042295   )  \taccuracy = 0.842      (max = 0.852     )\n",
      "loss = 0.023894     (min = 0.01613     )  \taccuracy = 0.272      (max = 0.298     )\n"
     ]
    },
    {
     "name": "stderr",
     "output_type": "stream",
     "text": [
      "\n",
      " 72%|███████▏  | 72/100 [01:11<00:27,  1.01it/s]\u001b[A\n",
      " 73%|███████▎  | 73/100 [01:12<00:27,  1.00s/it]\u001b[A"
     ]
    },
    {
     "name": "stdout",
     "output_type": "stream",
     "text": [
      "\u001b[4A\n",
      "Epoch :         72,    1020.1900 ms elapsed\n",
      "loss = 0.0038657    (min = 0.0038657   )  \taccuracy = 0.87       (max = 0.87      )\n",
      "loss = 0.02418      (min = 0.01613     )  \taccuracy = 0.27       (max = 0.298     )\n"
     ]
    },
    {
     "name": "stderr",
     "output_type": "stream",
     "text": [
      "\n",
      " 74%|███████▍  | 74/100 [01:13<00:25,  1.00it/s]\u001b[A\n",
      " 75%|███████▌  | 75/100 [01:14<00:24,  1.01it/s]\u001b[A"
     ]
    },
    {
     "name": "stdout",
     "output_type": "stream",
     "text": [
      "\u001b[4A\n",
      "Epoch :         74,     952.7360 ms elapsed\n",
      "loss = 0.0038668    (min = 0.003826    )  \taccuracy = 0.864      (max = 0.87      )\n",
      "loss = 0.024791     (min = 0.01613     )  \taccuracy = 0.272      (max = 0.298     )\n"
     ]
    },
    {
     "name": "stderr",
     "output_type": "stream",
     "text": [
      "\n",
      " 76%|███████▌  | 76/100 [01:15<00:23,  1.03it/s]\u001b[A\n",
      " 77%|███████▋  | 77/100 [01:16<00:23,  1.01s/it]\u001b[A"
     ]
    },
    {
     "name": "stdout",
     "output_type": "stream",
     "text": [
      "\u001b[4A\n",
      "Epoch :         76,    1092.2200 ms elapsed\n",
      "loss = 0.0036038    (min = 0.0034544   )  \taccuracy = 0.862      (max = 0.882     )\n",
      "loss = 0.025825     (min = 0.01613     )  \taccuracy = 0.276      (max = 0.298     )\n"
     ]
    },
    {
     "name": "stderr",
     "output_type": "stream",
     "text": [
      "\n",
      " 78%|███████▊  | 78/100 [01:18<00:23,  1.06s/it]\u001b[A\n",
      " 79%|███████▉  | 79/100 [01:18<00:21,  1.03s/it]\u001b[A"
     ]
    },
    {
     "name": "stdout",
     "output_type": "stream",
     "text": [
      "\u001b[4A\n",
      "Epoch :         78,     940.8550 ms elapsed\n",
      "loss = 0.0034293    (min = 0.0034293   )  \taccuracy = 0.87       (max = 0.882     )\n",
      "loss = 0.026447     (min = 0.01613     )  \taccuracy = 0.274      (max = 0.298     )\n"
     ]
    },
    {
     "name": "stderr",
     "output_type": "stream",
     "text": [
      "\n",
      " 80%|████████  | 80/100 [01:20<00:20,  1.04s/it]\u001b[A\n",
      " 81%|████████  | 81/100 [01:21<00:19,  1.04s/it]\u001b[A"
     ]
    },
    {
     "name": "stdout",
     "output_type": "stream",
     "text": [
      "\u001b[4A\n",
      "Epoch :         80,    1049.1630 ms elapsed\n",
      "loss = 0.0030879    (min = 0.0030879   )  \taccuracy = 0.898      (max = 0.898     )\n",
      "loss = 0.026895     (min = 0.01613     )  \taccuracy = 0.264      (max = 0.298     )\n"
     ]
    },
    {
     "name": "stderr",
     "output_type": "stream",
     "text": [
      "\n",
      " 82%|████████▏ | 82/100 [01:22<00:18,  1.03s/it]\u001b[A\n",
      " 83%|████████▎ | 83/100 [01:23<00:17,  1.01s/it]\u001b[A"
     ]
    },
    {
     "name": "stdout",
     "output_type": "stream",
     "text": [
      "\u001b[4A\n",
      "Epoch :         82,     967.9220 ms elapsed\n",
      "loss = 0.0026592    (min = 0.0026592   )  \taccuracy = 0.92       (max = 0.926     )\n",
      "loss = 0.028063     (min = 0.01613     )  \taccuracy = 0.264      (max = 0.298     )\n"
     ]
    },
    {
     "name": "stderr",
     "output_type": "stream",
     "text": [
      "\n",
      " 84%|████████▍ | 84/100 [01:24<00:16,  1.02s/it]\u001b[A\n",
      " 85%|████████▌ | 85/100 [01:25<00:15,  1.02s/it]\u001b[A"
     ]
    },
    {
     "name": "stdout",
     "output_type": "stream",
     "text": [
      "\u001b[4A\n",
      "Epoch :         84,    1021.0270 ms elapsed\n",
      "loss = 0.0022474    (min = 0.0022474   )  \taccuracy = 0.938      (max = 0.938     )\n",
      "loss = 0.029267     (min = 0.01613     )  \taccuracy = 0.254      (max = 0.298     )\n"
     ]
    },
    {
     "name": "stderr",
     "output_type": "stream",
     "text": [
      "\n",
      " 86%|████████▌ | 86/100 [01:26<00:13,  1.01it/s]\u001b[A\n",
      " 87%|████████▋ | 87/100 [01:26<00:12,  1.05it/s]\u001b[A"
     ]
    },
    {
     "name": "stdout",
     "output_type": "stream",
     "text": [
      "\u001b[4A\n",
      "Epoch :         86,     861.4900 ms elapsed\n",
      "loss = 0.0020011    (min = 0.0020011   )  \taccuracy = 0.956      (max = 0.956     )\n",
      "loss = 0.029178     (min = 0.01613     )  \taccuracy = 0.252      (max = 0.298     )\n"
     ]
    },
    {
     "name": "stderr",
     "output_type": "stream",
     "text": [
      "\n",
      " 88%|████████▊ | 88/100 [01:27<00:11,  1.06it/s]\u001b[A\n",
      " 89%|████████▉ | 89/100 [01:28<00:10,  1.09it/s]\u001b[A"
     ]
    },
    {
     "name": "stdout",
     "output_type": "stream",
     "text": [
      "\u001b[4A\n",
      "Epoch :         88,     846.5630 ms elapsed\n",
      "loss = 0.0020532    (min = 0.0019123   )  \taccuracy = 0.944      (max = 0.956     )\n",
      "loss = 0.029243     (min = 0.01613     )  \taccuracy = 0.27       (max = 0.298     )\n"
     ]
    },
    {
     "name": "stderr",
     "output_type": "stream",
     "text": [
      "\n",
      " 90%|█████████ | 90/100 [01:29<00:09,  1.07it/s]\u001b[A\n",
      " 91%|█████████ | 91/100 [01:30<00:08,  1.09it/s]\u001b[A"
     ]
    },
    {
     "name": "stdout",
     "output_type": "stream",
     "text": [
      "\u001b[4A\n",
      "Epoch :         90,     868.9780 ms elapsed\n",
      "loss = 0.0016341    (min = 0.0016341   )  \taccuracy = 0.974      (max = 0.976     )\n",
      "loss = 0.030428     (min = 0.01613     )  \taccuracy = 0.278      (max = 0.298     )\n"
     ]
    },
    {
     "name": "stderr",
     "output_type": "stream",
     "text": [
      "\n",
      " 92%|█████████▏| 92/100 [01:31<00:07,  1.08it/s]\u001b[A\n",
      " 93%|█████████▎| 93/100 [01:32<00:06,  1.05it/s]\u001b[A"
     ]
    },
    {
     "name": "stdout",
     "output_type": "stream",
     "text": [
      "\u001b[4A\n",
      "Epoch :         92,    1012.5800 ms elapsed\n",
      "loss = 0.0015281    (min = 0.0015281   )  \taccuracy = 0.976      (max = 0.976     )\n",
      "loss = 0.030808     (min = 0.01613     )  \taccuracy = 0.266      (max = 0.298     )\n"
     ]
    },
    {
     "name": "stderr",
     "output_type": "stream",
     "text": [
      "\n",
      " 94%|█████████▍| 94/100 [01:33<00:05,  1.00it/s]\u001b[A\n",
      " 95%|█████████▌| 95/100 [01:34<00:04,  1.02it/s]\u001b[A"
     ]
    },
    {
     "name": "stdout",
     "output_type": "stream",
     "text": [
      "\u001b[4A\n",
      "Epoch :         94,     923.8540 ms elapsed\n",
      "loss = 0.0013316    (min = 0.0013316   )  \taccuracy = 0.976      (max = 0.976     )\n",
      "loss = 0.03189      (min = 0.01613     )  \taccuracy = 0.274      (max = 0.298     )\n"
     ]
    },
    {
     "name": "stderr",
     "output_type": "stream",
     "text": [
      "\n",
      " 96%|█████████▌| 96/100 [01:35<00:03,  1.02it/s]\u001b[A\n",
      " 97%|█████████▋| 97/100 [01:36<00:02,  1.01it/s]\u001b[A"
     ]
    },
    {
     "name": "stdout",
     "output_type": "stream",
     "text": [
      "\u001b[4A\n",
      "Epoch :         96,     994.0120 ms elapsed\n",
      "loss = 0.0013066    (min = 0.0013066   )  \taccuracy = 0.976      (max = 0.976     )\n",
      "loss = 0.032569     (min = 0.01613     )  \taccuracy = 0.27       (max = 0.298     )\n"
     ]
    },
    {
     "name": "stderr",
     "output_type": "stream",
     "text": [
      "\n",
      " 98%|█████████▊| 98/100 [01:37<00:02,  1.02s/it]\u001b[A\n",
      " 99%|█████████▉| 99/100 [01:38<00:01,  1.02s/it]\u001b[A"
     ]
    },
    {
     "name": "stdout",
     "output_type": "stream",
     "text": [
      "\u001b[4A\n",
      "Epoch :         98,    1009.4450 ms elapsed\n",
      "loss = 0.0010645    (min = 0.0010645   )  \taccuracy = 0.982      (max = 0.984     )\n",
      "loss = 0.033412     (min = 0.01613     )  \taccuracy = 0.27       (max = 0.298     )\n"
     ]
    },
    {
     "name": "stderr",
     "output_type": "stream",
     "text": [
      "\n",
      "100%|██████████| 100/100 [01:39<00:00,  1.00it/s]\u001b[A"
     ]
    },
    {
     "name": "stdout",
     "output_type": "stream",
     "text": [
      "Finished Training\n",
      "Accuracy of the network: 28 %\n"
     ]
    },
    {
     "data": {
      "image/png": "[encoded data removed]",
      "text/plain": [
       "<Figure size 432x288 with 1 Axes>"
      ]
     },
     "metadata": {
      "needs_background": "light"
     },
     "output_type": "display_data"
    },
    {
     "data": {
      "image/png": "[encoded data removed]",
      "text/plain": [
       "<Figure size 432x288 with 1 Axes>"
      ]
     },
     "metadata": {
      "needs_background": "light"
     },
     "output_type": "display_data"
    },
    {
     "name": "stdout",
     "output_type": "stream",
     "text": [
      "Saving models...\n",
      "The classification accuracy:  0.284\n",
      "\n"
     ]
    },
    {
     "data": {
      "image/png": "[encoded data removed]",
      "text/plain": [
       "<Figure size 432x288 with 2 Axes>"
      ]
     },
     "metadata": {
      "needs_background": "light"
     },
     "output_type": "display_data"
    }
   ],
   "source": [
    "tailored_cnn_cifar = Tailored_CNN_Cifar().to(device)\n",
    "\n",
    "raw_criterion = nn.CrossEntropyLoss()\n",
    "raw_optimizer = optim.Adam(tailored_cnn_cifar.parameters(), lr=0.001)\n",
    "raw_stats = learningStats()\n",
    "\n",
    "train(tailored_cnn_cifar,'tailored_cnn_Scifar',\n",
    "      trainloader_cifar,testloader_cifar,\n",
    "      raw_criterion, \n",
    "      raw_optimizer,\n",
    "      raw_stats,\n",
    "      epoch=EPOCH)\n",
    "\n",
    "labels, preds = get_labels(tailored_cnn_cifar, testloader_cifar)\n",
    "test_method(labels.cpu().numpy(), preds.cpu().numpy())"
   ]
  },
  {
   "cell_type": "markdown",
   "metadata": {},
   "source": [
    "## Now move the weights leart from tailored CNN to our custmized SNN"
   ]
  },
  {
   "cell_type": "code",
   "execution_count": 22,
   "metadata": {},
   "outputs": [],
   "source": [
    "class custmized_SNN_Cifar(nn.Module):\n",
    "    \n",
    "    def __init__(self, thetas, leaks=[0,0,0,0,0,0], V_mins=[0,0,0,0,0,0]):\n",
    "        super(custmized_SNN_Cifar, self).__init__()\n",
    "        self.conv1 = convLayer(3, 16, 5, theta=thetas[0], padding=1,leak=leaks[0], V_min=V_mins[0])\n",
    "        self.pool1 = poolLayer(2, theta=thetas[1], leak=leaks[1], V_min=V_mins[1])\n",
    "        self.conv2 = convLayer(16, 32, 3, theta=thetas[2], padding=1, leak=leaks[2], V_min=V_mins[2])        \n",
    "        self.pool2 = poolLayer(2, theta=thetas[3], leak=leaks[3], V_min=V_mins[3])\n",
    "        self.conv3 = convLayer(32, 64, 3, theta=thetas[4], padding=1, leak=leaks[4], V_min=V_mins[4])\n",
    "        self.fc1   = denseLayer((6 * 6 * 64), 10, theta=thetas[5], leak=leaks[5], V_min=V_mins[5])\n",
    "        \n",
    "    def forward(self, spikeInput):\n",
    "        spike_conv1 = self.conv1(spikeInput)\n",
    "        spike_pool1 = self.pool1(spike_conv1)\n",
    "        spike_conv2 = self.conv2(spike_pool1)\n",
    "        spike_pool2 = self.pool2(spike_conv2)\n",
    "        spike_conv3 = self.conv3(spike_pool2)\n",
    "        spike_for_fc1 = spike_conv3.reshape(-1, 6 * 6 * 64, 1, 1, spike_conv3.shape[-1])\n",
    "        spikeOut = self.fc1(spike_for_fc1)\n",
    "        \n",
    "        return spikeOut"
   ]
  },
  {
   "cell_type": "markdown",
   "metadata": {},
   "source": [
    "### There are two versions of CIFAR10 datasets we've implemented, since in the paper they had an extra encoding (under sec. 3.2),  which is not super clear how they did it, we try out both versions."
   ]
  },
  {
   "cell_type": "code",
   "execution_count": 9,
   "metadata": {},
   "outputs": [
    {
     "name": "stdout",
     "output_type": "stream",
     "text": [
      "Files already downloaded and verified\n",
      "Files already downloaded and verified\n"
     ]
    }
   ],
   "source": [
    "testingSet_C = SpikeDataset(datasetPath = './data', dataset='cifar10', cifar_encoding=False, TimeBins=50,\n",
    "                    small=False, train=False)\n",
    "\n",
    "testLoader_C = DataLoader(dataset=testingSet_C, batch_size=32, shuffle=False, num_workers=4)\n",
    "\n",
    "# the CIFAR dataset using extra encoding method\n",
    "testingSet_C2 = SpikeDataset(datasetPath = './data', dataset='cifar10', cifar_encoding=True, TimeBins=50,\n",
    "                    small=False, train=False)\n",
    "\n",
    "testLoader_C2 = DataLoader(dataset=testingSet_C2, batch_size=32, shuffle=False, num_workers=4)"
   ]
  },
  {
   "cell_type": "markdown",
   "metadata": {},
   "source": [
    "### the performance of the randomly initialized SNN on both versions of CIFAR"
   ]
  },
  {
   "cell_type": "code",
   "execution_count": 8,
   "metadata": {},
   "outputs": [],
   "source": [
    "thetas = [5, 0.99, 1, 0.99, 0.99, 1]\n",
    "\n",
    "custmized_snn_cifar = custmized_SNN_Cifar(thetas).to(device)"
   ]
  },
  {
   "cell_type": "code",
   "execution_count": 19,
   "metadata": {},
   "outputs": [
    {
     "name": "stdout",
     "output_type": "stream",
     "text": [
      "The classification accuracy:  0.1\n",
      "\n"
     ]
    },
    {
     "data": {
      "image/png": "[encoded data removed]",
      "text/plain": [
       "<Figure size 432x288 with 2 Axes>"
      ]
     },
     "metadata": {
      "needs_background": "light"
     },
     "output_type": "display_data"
    }
   ],
   "source": [
    "labels, preds = get_labels(custmized_snn_cifar, testLoader_C, snn=True)\n",
    "test_method(labels.cpu().numpy(), preds.cpu().numpy())"
   ]
  },
  {
   "cell_type": "code",
   "execution_count": 20,
   "metadata": {},
   "outputs": [
    {
     "name": "stdout",
     "output_type": "stream",
     "text": [
      "The classification accuracy:  0.1\n",
      "\n"
     ]
    },
    {
     "data": {
      "image/png": "[encoded data removed]",
      "text/plain": [
       "<Figure size 432x288 with 2 Axes>"
      ]
     },
     "metadata": {
      "needs_background": "light"
     },
     "output_type": "display_data"
    }
   ],
   "source": [
    "labels, preds = get_labels(custmized_snn_cifar, testLoader_C2, snn=True)\n",
    "test_method(labels.cpu().numpy(), preds.cpu().numpy())"
   ]
  },
  {
   "cell_type": "markdown",
   "metadata": {},
   "source": [
    "### Now we move the weights to SNN"
   ]
  },
  {
   "cell_type": "code",
   "execution_count": 21,
   "metadata": {},
   "outputs": [
    {
     "name": "stdout",
     "output_type": "stream",
     "text": [
      "Layer conv1.weight\n",
      "torch.Size([16, 3, 5, 5])\n",
      "Layer conv2.weight\n",
      "torch.Size([32, 16, 3, 3])\n",
      "Layer conv3.weight\n",
      "torch.Size([64, 32, 3, 3])\n",
      "Layer fc1.weight\n",
      "torch.Size([10, 2304])\n"
     ]
    }
   ],
   "source": [
    "tailor_cnn_weights = load_dict(\"tailored_cnn_cifar\")\n",
    "snn_weights = custmized_snn_cifar.state_dict()\n",
    "\n",
    "for k in iter(tailor_cnn_weights):\n",
    "    print(\"Layer {}\".format(k))\n",
    "    print(tailor_cnn_weights[k].shape)\n",
    "    if k.startswith('conv') or k.startswith('fc'):\n",
    "        snn_weights[k] = tailor_cnn_weights[k].reshape(snn_weights[k].shape)"
   ]
  },
  {
   "cell_type": "code",
   "execution_count": 22,
   "metadata": {},
   "outputs": [
    {
     "data": {
      "text/plain": [
       "IncompatibleKeys(missing_keys=[], unexpected_keys=[])"
      ]
     },
     "execution_count": 22,
     "metadata": {},
     "output_type": "execute_result"
    }
   ],
   "source": [
    "transformed_snn_cifar = custmized_SNN_Cifar(thetas).to(device)\n",
    "transformed_snn_cifar.load_state_dict(snn_weights)"
   ]
  },
  {
   "cell_type": "code",
   "execution_count": 23,
   "metadata": {
    "scrolled": true
   },
   "outputs": [
    {
     "name": "stdout",
     "output_type": "stream",
     "text": [
      "The classification accuracy:  0.1309\n",
      "\n"
     ]
    },
    {
     "data": {
      "image/png": "[encoded data removed]",
      "text/plain": [
       "<Figure size 432x288 with 2 Axes>"
      ]
     },
     "metadata": {
      "needs_background": "light"
     },
     "output_type": "display_data"
    }
   ],
   "source": [
    "labels, preds = get_labels(transformed_snn_cifar, testLoader_C, snn=True)\n",
    "test_method(labels.cpu().numpy(), preds.cpu().numpy())"
   ]
  },
  {
   "cell_type": "code",
   "execution_count": 24,
   "metadata": {},
   "outputs": [
    {
     "name": "stdout",
     "output_type": "stream",
     "text": [
      "The classification accuracy:  0.1212\n",
      "\n"
     ]
    },
    {
     "data": {
      "image/png": "[encoded data removed]",
      "text/plain": [
       "<Figure size 432x288 with 2 Axes>"
      ]
     },
     "metadata": {
      "needs_background": "light"
     },
     "output_type": "display_data"
    }
   ],
   "source": [
    "labels, preds = get_labels(transformed_snn_cifar, testLoader_C2, snn=True)\n",
    "test_method(labels.cpu().numpy(), preds.cpu().numpy())"
   ]
  },
  {
   "cell_type": "markdown",
   "metadata": {},
   "source": [
    "* For small dataset"
   ]
  },
  {
   "cell_type": "code",
   "execution_count": 23,
   "metadata": {},
   "outputs": [
    {
     "name": "stdout",
     "output_type": "stream",
     "text": [
      "Files already downloaded and verified\n",
      "Files already downloaded and verified\n"
     ]
    }
   ],
   "source": [
    "testingSet_C = SpikeDataset(datasetPath = './data', dataset='cifar10', cifar_encoding=False, TimeBins=50,\n",
    "                    small=True, train=False)\n",
    "\n",
    "testLoader_C = DataLoader(dataset=testingSet_C, batch_size=32, shuffle=False, num_workers=4)\n",
    "\n",
    "# the CIFAR dataset using extra encoding method\n",
    "testingSet_C2 = SpikeDataset(datasetPath = './data', dataset='cifar10', cifar_encoding=True, TimeBins=50,\n",
    "                    small=True, train=False)\n",
    "\n",
    "testLoader_C2 = DataLoader(dataset=testingSet_C2, batch_size=32, shuffle=False, num_workers=4)"
   ]
  },
  {
   "cell_type": "code",
   "execution_count": 24,
   "metadata": {},
   "outputs": [
    {
     "name": "stdout",
     "output_type": "stream",
     "text": [
      "The classification accuracy:  0.112\n",
      "\n",
      "The classification accuracy:  0.112\n",
      "\n"
     ]
    },
    {
     "data": {
      "image/png": "[encoded data removed]",
      "text/plain": [
       "<Figure size 432x288 with 2 Axes>"
      ]
     },
     "metadata": {
      "needs_background": "light"
     },
     "output_type": "display_data"
    },
    {
     "data": {
      "image/png": "[encoded data removed]",
      "text/plain": [
       "<Figure size 432x288 with 2 Axes>"
      ]
     },
     "metadata": {
      "needs_background": "light"
     },
     "output_type": "display_data"
    }
   ],
   "source": [
    "thetas = [5, 0.99, 1, 0.99, 0.99, 1]\n",
    "\n",
    "custmized_snn_cifar = custmized_SNN_Cifar(thetas).to(device)\n",
    "\n",
    "#performance on C\n",
    "labels, preds = get_labels(custmized_snn_cifar, testLoader_C, snn=True)\n",
    "test_method(labels.cpu().numpy(), preds.cpu().numpy())\n",
    "# performance on C2\n",
    "labels, preds = get_labels(custmized_snn_cifar, testLoader_C2, snn=True)\n",
    "test_method(labels.cpu().numpy(), preds.cpu().numpy())"
   ]
  },
  {
   "cell_type": "code",
   "execution_count": 28,
   "metadata": {},
   "outputs": [
    {
     "name": "stdout",
     "output_type": "stream",
     "text": [
      "Layer conv1.weight\n",
      "torch.Size([16, 3, 5, 5])\n",
      "Layer conv2.weight\n",
      "torch.Size([32, 16, 3, 3])\n",
      "Layer conv3.weight\n",
      "torch.Size([64, 32, 3, 3])\n",
      "Layer fc1.weight\n",
      "torch.Size([10, 2304])\n"
     ]
    },
    {
     "data": {
      "text/plain": [
       "IncompatibleKeys(missing_keys=[], unexpected_keys=[])"
      ]
     },
     "execution_count": 28,
     "metadata": {},
     "output_type": "execute_result"
    }
   ],
   "source": [
    "tailor_cnn_weights = load_dict(\"tailored_cnn_Scifar\")\n",
    "snn_weights = custmized_snn_cifar.state_dict()\n",
    "\n",
    "for k in iter(tailor_cnn_weights):\n",
    "    print(\"Layer {}\".format(k))\n",
    "    print(tailor_cnn_weights[k].shape)\n",
    "    if k.startswith('conv') or k.startswith('fc'):\n",
    "        snn_weights[k] = tailor_cnn_weights[k].reshape(snn_weights[k].shape)\n",
    "        \n",
    "transformed_snn_cifar = custmized_SNN_Cifar(thetas).to(device)\n",
    "transformed_snn_cifar.load_state_dict(snn_weights)"
   ]
  },
  {
   "cell_type": "code",
   "execution_count": 29,
   "metadata": {},
   "outputs": [
    {
     "name": "stdout",
     "output_type": "stream",
     "text": [
      "The classification accuracy:  0.218\n",
      "\n"
     ]
    },
    {
     "data": {
      "image/png": "[encoded data removed]",
      "text/plain": [
       "<Figure size 432x288 with 2 Axes>"
      ]
     },
     "metadata": {
      "needs_background": "light"
     },
     "output_type": "display_data"
    }
   ],
   "source": [
    "labels, preds = get_labels(transformed_snn_cifar, testLoader_C, snn=True)\n",
    "test_method(labels.cpu().numpy(), preds.cpu().numpy())"
   ]
  },
  {
   "cell_type": "code",
   "execution_count": 30,
   "metadata": {},
   "outputs": [
    {
     "name": "stdout",
     "output_type": "stream",
     "text": [
      "The classification accuracy:  0.19\n",
      "\n"
     ]
    },
    {
     "data": {
      "image/png": "[encoded data removed]",
      "text/plain": [
       "<Figure size 432x288 with 2 Axes>"
      ]
     },
     "metadata": {
      "needs_background": "light"
     },
     "output_type": "display_data"
    }
   ],
   "source": [
    "labels, preds = get_labels(transformed_snn_cifar, testLoader_C2, snn=True)\n",
    "test_method(labels.cpu().numpy(), preds.cpu().numpy())"
   ]
  }
 ],
 "metadata": {
  "kernelspec": {
   "display_name": "Python 3",
   "language": "python",
   "name": "python3"
  },
  "language_info": {
   "codemirror_mode": {
    "name": "ipython",
    "version": 3
   },
   "file_extension": ".py",
   "mimetype": "text/x-python",
   "name": "python",
   "nbconvert_exporter": "python",
   "pygments_lexer": "ipython3",
   "version": "3.6.8"
  }
 },
 "nbformat": 4,
 "nbformat_minor": 2
}
