{
 "cells": [
  {
   "cell_type": "code",
   "execution_count": 1,
   "metadata": {},
   "outputs": [],
   "source": [
    "import torch\n",
    "import torch.nn as nn\n",
    "import torch.nn.functional as F\n",
    "import torch.optim as optim\n",
    "from torch.utils.data import Dataset, DataLoader\n",
    "\n",
    "from torchvision.datasets import MNIST, FashionMNIST, CIFAR10\n",
    "from torchvision.transforms import transforms\n",
    "\n",
    "\n",
    "from lib.custmized_layer import convLayer, poolLayer, denseLayer\n",
    "from lib.datasets.spikedataset import SpikeDataset, transform_cifar\n",
    "\n",
    "from datetime import datetime\n",
    "\n",
    "import matplotlib\n",
    "import matplotlib.pyplot as plt\n",
    "from tqdm import tqdm"
   ]
  },
  {
   "cell_type": "code",
   "execution_count": 2,
   "metadata": {},
   "outputs": [],
   "source": [
    "# some handy function to use\n",
    "from lib.utils import save_model, load_dict, load_model, test_method, get_labels"
   ]
  },
  {
   "cell_type": "markdown",
   "metadata": {},
   "source": [
    "# Test for raw and tailored CNN\n",
    "Following tasks are done:\n",
    "1. train and test for MNIST datast with raw_cnn and talor_cnn.\n",
    "2. the same work for FashionMnist, and with the same set-up for network structure, since the input has the same size, and problems are similar. Besides, we want to show the difference of performance between the 3 networks, raw, tailored and snn with weights from tailored cnn. A network with smaller size can hugely  accelerate this pipeline.\n",
    "3. "
   ]
  },
  {
   "cell_type": "code",
   "execution_count": 3,
   "metadata": {},
   "outputs": [],
   "source": [
    "# set up hyper params\n",
    "BATCH_SIZE  = 128\n",
    "\n",
    "EPOCH = 10\n",
    "\n",
    "NUM_WORKERS = 2\n",
    "\n",
    "use_cuda = torch.cuda.is_available()\n",
    "\n",
    "torch.manual_seed(1024)\n",
    "\n",
    "device = torch.device(\"cuda\" if use_cuda else \"cpu\")\n",
    "\n",
    "kwargs = {'num_workers': 1, 'pin_memory': True} if use_cuda else {}"
   ]
  },
  {
   "cell_type": "code",
   "execution_count": 4,
   "metadata": {
    "code_folding": [
     0,
     18
    ]
   },
   "outputs": [],
   "source": [
    "def plot_stats(stats):\n",
    "    plt.figure(1)\n",
    "    plt.semilogy(stats.training.lossLog, label='Training')\n",
    "    plt.semilogy(stats.testing.lossLog, label='Testing')\n",
    "    plt.xlabel('Epoch')\n",
    "    plt.ylabel('Loss')\n",
    "    plt.legend()\n",
    "\n",
    "    plt.figure(2)\n",
    "    plt.plot(stats.training.accuracyLog, label='Training')\n",
    "    plt.plot(stats.testing.accuracyLog, label='Testing')\n",
    "    plt.xlabel('Epoch')\n",
    "    plt.ylabel('Accuracy')\n",
    "    plt.legend()\n",
    "\n",
    "    plt.show()\n",
    "\n",
    "## Training\n",
    "def train(model, model_name, trainloader, testloader, criterion, optimizer, stats, epoch):\n",
    "    \n",
    "    for epoch in tqdm(range(epoch)):\n",
    "        # Reset training stats.\n",
    "        stats.training.reset()\n",
    "        tSt = datetime.now()\n",
    "        model.train()    \n",
    "        # Training loop.\n",
    "        for i, data in enumerate(trainloader, 0):\n",
    "            # get the inputs; data is a list of [inputs, labels]\n",
    "            inputs, labels = data[0].to(device), data[1].to(device)\n",
    "\n",
    "            # zero the parameter gradients\n",
    "            optimizer.zero_grad()\n",
    "\n",
    "            # forward + backward + optimize\n",
    "            outputs = model(inputs)\n",
    "\n",
    "            loss = criterion(outputs, labels)\n",
    "\n",
    "            loss.backward()\n",
    "\n",
    "            optimizer.step()\n",
    "\n",
    "            # Gather training loss stats.\n",
    "            stats.training.lossSum += loss.cpu().data.item()\n",
    "\n",
    "            # Gather the training stats.\n",
    "            _, predicted = torch.max(outputs.data, 1)\n",
    "\n",
    "            stats.training.correctSamples += torch.sum(predicted == labels).data.item()\n",
    "            stats.training.numSamples += len(labels)\n",
    "\n",
    "            # Display training stats.\n",
    "            # if i%10 == 0: stats.print(epoch, i, (datetime.now() - tSt).total_seconds())\n",
    "        # Update training stats.\n",
    "        stats.training.update()\n",
    "        # Reset testing stats.\n",
    "        stats.testing.reset()\n",
    "        model.eval()    \n",
    "        # Testing loop.\n",
    "        # Same steps as Training loops except loss backpropagation and weight update.\n",
    "        for i, data in enumerate(testloader, 0):\n",
    "            inputs, labels = data[0].to(device), data[1].to(device)\n",
    "\n",
    "            outputs = model.forward(inputs)\n",
    "            _, predicted = torch.max(outputs.data, 1)\n",
    "\n",
    "            stats.testing.correctSamples += torch.sum(predicted == labels).data.item()\n",
    "            stats.testing.numSamples += len(labels)\n",
    "\n",
    "            loss = criterion(outputs, labels)\n",
    "            stats.testing.lossSum += loss.cpu().data.item()\n",
    "\n",
    "\n",
    "        # Update stats.\n",
    "        stats.testing.update()\n",
    "        if epoch%2==0:  stats.print(epoch, timeElapsed=(datetime.now() - tSt).total_seconds())\n",
    "    print('Finished Training')\n",
    "    \n",
    "    test_acc(testloader, model)\n",
    "    plot_stats(stats)\n",
    "    save_model(model_name, model)"
   ]
  },
  {
   "cell_type": "markdown",
   "metadata": {},
   "source": [
    "## Training for CNNs\n",
    "* define the two CNNs\n",
    "* define the train function\n",
    "* train them and check the results"
   ]
  },
  {
   "cell_type": "code",
   "execution_count": 4,
   "metadata": {
    "code_folding": [
     0,
     18,
     37,
     148
    ]
   },
   "outputs": [],
   "source": [
    "class Raw_CNN_Mnist(nn.Module):\n",
    "    def __init__(self):\n",
    "        super(Raw_CNN_Mnist, self).__init__()\n",
    "        self.conv1 = nn.Conv2d(1, 3, 5, padding=1, bias=True)\n",
    "        self.conv2 = nn.Conv2d(3, 12, 5, padding=1, bias=True)\n",
    "        self.m1 = nn.MaxPool2d(2)\n",
    "        self.m2 = nn.MaxPool2d(2)\n",
    "        self.fc1 = nn.Linear(12 * 5 * 5, 10, bias=True)\n",
    "\n",
    "    def forward(self, x):\n",
    "        x = F.relu(self.conv1(x)) \n",
    "        x = self.m1(x) \n",
    "        x = F.relu(self.conv2(x)) \n",
    "        x = self.m2(x) \n",
    "        x = x.view(-1, 12 * 5 * 5)    \n",
    "        x = self.fc1(x)\n",
    "        return F.log_softmax(x, dim=1)\n",
    "\n",
    "class Tailored_CNN_Mnist(nn.Module):\n",
    "    def __init__(self):\n",
    "        super(Tailored_CNN_Mnist, self).__init__()\n",
    "        self.conv1 = nn.Conv2d(1, 3, 5, padding=1, bias=False)\n",
    "        self.conv2 = nn.Conv2d(3, 12, 5, padding=1, bias=False)\n",
    "        self.a1 = nn.AvgPool2d(2)\n",
    "        self.a2 = nn.AvgPool2d(2)\n",
    "        self.fc1 = nn.Linear(12 * 5 * 5, 10, bias=False)\n",
    "\n",
    "    def forward(self, x):\n",
    "        x = F.relu(self.conv1(x))\n",
    "        x = self.a1(x)\n",
    "        x = F.relu(self.conv2(x))\n",
    "        x = self.a2(x)\n",
    "        x = x.view(-1, 12 * 5 * 5)   \n",
    "        x = self.fc1(x) \n",
    "        return F.log_softmax(x, dim=1)\n",
    "    \n",
    "# the learningStat class    \n",
    "class learningStat():\n",
    "    '''\n",
    "    This class collect the learning statistics over the epoch.\n",
    "\n",
    "    Usage:\n",
    "\n",
    "    This class is designed to be used with learningStats instance although it can be used separately.\n",
    "\n",
    "    >>> trainingStat = learningStat()\n",
    "    '''\n",
    "    def __init__(self):\n",
    "        self.lossSum = 0\n",
    "        self.correctSamples = 0\n",
    "        self.numSamples = 0\n",
    "        self.minloss = None\n",
    "        self.maxAccuracy = None\n",
    "        self.lossLog = []\n",
    "        self.accuracyLog = []\n",
    "        self.bestLoss = False\n",
    "        self.bestAccuracy = False\n",
    "\n",
    "    def reset(self):\n",
    "        '''\n",
    "        Reset the learning staistics. \n",
    "        This should usually be done before the start of an epoch so that new statistics counts can be accumulated.\n",
    "\n",
    "        Usage:\n",
    "\n",
    "        >>> trainingStat.reset()\n",
    "        '''\n",
    "        self.lossSum = 0\n",
    "        self.correctSamples = 0\n",
    "        self.numSamples = 0\n",
    "\n",
    "    def loss(self):\n",
    "        '''\n",
    "        Returns the average loss calculated from the point the stats was reset.\n",
    "\n",
    "        Usage:\n",
    "\n",
    "        >>> loss = trainingStat.loss()\n",
    "        '''\n",
    "        if self.numSamples > 0: \n",
    "            return self.lossSum/self.numSamples \n",
    "        else:   \n",
    "            return None\n",
    "\n",
    "    def accuracy(self):\n",
    "        '''\n",
    "        Returns the average accuracy calculated from the point the stats was reset.\n",
    "\n",
    "        Usage:\n",
    "\n",
    "        >>> accuracy = trainingStat.accuracy()\n",
    "        '''\n",
    "        if self.numSamples > 0 and self.correctSamples > 0:\n",
    "            return self.correctSamples/self.numSamples  \n",
    "        else:   \n",
    "            return None\n",
    "\n",
    "    def update(self):\n",
    "        '''\n",
    "        Updates the stats of the current session and resets the measures for next session.\n",
    "\n",
    "        Usage:\n",
    "\n",
    "        >>> trainingStat.update()\n",
    "        '''\n",
    "        currentLoss = self.loss()\n",
    "        self.lossLog.append(currentLoss)\n",
    "        if self.minloss is None:\n",
    "            self.minloss = currentLoss\n",
    "        else:\n",
    "            if currentLoss < self.minloss:\n",
    "                self.minloss = currentLoss\n",
    "                self.bestLoss = True\n",
    "            else:\n",
    "                self.bestLoss = False\n",
    "            # self.minloss = self.minloss if self.minloss < currentLoss else currentLoss\n",
    "\n",
    "        currentAccuracy = self.accuracy()\n",
    "        self.accuracyLog.append(currentAccuracy)\n",
    "        if self.maxAccuracy is None:\n",
    "            self.maxAccuracy = currentAccuracy\n",
    "        else:\n",
    "            if currentAccuracy > self.maxAccuracy:\n",
    "                self.maxAccuracy = currentAccuracy\n",
    "                self.bestAccuracy = True\n",
    "            else:\n",
    "                self.bestAccuracy = False\n",
    "            # self.maxAccuracy = self.maxAccuracy if self.maxAccuracy > currentAccuracy else currentAccuracy\n",
    "\n",
    "    def displayString(self):\n",
    "        loss = self.loss()\n",
    "        accuracy = self.accuracy()\n",
    "        minloss = self.minloss\n",
    "        maxAccuracy = self.maxAccuracy\n",
    "\n",
    "        if loss is None:    # no stats available\n",
    "            return None\n",
    "        elif accuracy is None: \n",
    "            if minloss is None: # accuracy and minloss stats is not available\n",
    "                return 'loss = %-12.5g'%(loss)\n",
    "            else:   # accuracy is not available but minloss is available\n",
    "                return 'loss = %-12.5g (min = %-12.5g)'%(loss, minloss)\n",
    "        else:\n",
    "            if minloss is None and maxAccuracy is None: # minloss and maxAccuracy is available\n",
    "                return 'loss = %-12.5g        %-12s   \\taccuracy = %-10.5g        %-10s '%(loss, ' ', accuracy, ' ')\n",
    "            else:   # all stats are available\n",
    "                return 'loss = %-12.5g (min = %-12.5g)  \\taccuracy = %-10.5g (max = %-10.5g)'%(loss, minloss, accuracy, maxAccuracy)\n",
    "\n",
    "class learningStats():\n",
    "    '''\n",
    "    This class provides mechanism to collect learning stats for training and testing, and displaying them efficiently.\n",
    "\n",
    "    Usage:\n",
    "\n",
    "    .. code-block:: python\n",
    "    \n",
    "        stats = learningStats()\n",
    "\n",
    "        for epoch in range(100):\n",
    "            tSt = datetime.now()\n",
    "\n",
    "            stats.training.reset()\n",
    "            for i in trainingLoop:\n",
    "                # other main stuffs\n",
    "                stats.training.correctSamples += numberOfCorrectClassification\n",
    "                stats.training.numSamples     += numberOfSamplesProcessed\n",
    "                stats.training.lossSum        += currentLoss\n",
    "                stats.print(epoch, i, (datetime.now() - tSt).total_seconds())\n",
    "            stats.training.update()\n",
    "\n",
    "            stats.testing.reset()\n",
    "            for i in testingLoop\n",
    "                # other main stuffs\n",
    "                stats.testing.correctSamples += numberOfCorrectClassification\n",
    "                stats.testing.numSamples     += numberOfSamplesProcessed\n",
    "                stats.testing.lossSum        += currentLoss\n",
    "                stats.print(epoch, i)\n",
    "            stats.training.update()\n",
    "\n",
    "    '''\n",
    "    def __init__(self):\n",
    "        self.linesPrinted = 0\n",
    "        self.training = learningStat()\n",
    "        self.testing  = learningStat()\n",
    "\n",
    "    def update(self):\n",
    "        '''\n",
    "        Updates the stats for training and testing and resets the measures for next session.\n",
    "\n",
    "        Usage:\n",
    "\n",
    "        >>> stats.update()\n",
    "        '''\n",
    "        self.training.update()\n",
    "        self.training.reset()\n",
    "        self.testing.update()\n",
    "        self.testing.reset()\n",
    "\n",
    "    def print(self, epoch, iter=None, timeElapsed=None):\n",
    "        '''\n",
    "        Prints the available learning statistics from the current session on the console.\n",
    "        For Linux systems, prints the data on same terminal space (might not work properly on other systems).\n",
    "\n",
    "        Arguments:\n",
    "            * ``epoch``: epoch counter to display (required).\n",
    "            * ``iter``: iteration counter to display (not required).\n",
    "            * ``timeElapsed``: runtime information (not required).\n",
    "\n",
    "        Usage:\n",
    "\n",
    "        .. code-block:: python\n",
    "\n",
    "            # prints stats with epoch index provided\n",
    "            stats.print(epoch) \n",
    "\n",
    "            # prints stats with epoch index and iteration index provided\n",
    "            stats.print(epoch, iter=i) \n",
    "            \n",
    "            # prints stats with epoch index, iteration index and time elapsed information provided\n",
    "            stats.print(epoch, iter=i, timeElapsed=time) \n",
    "        '''\n",
    "        print('\\033[%dA'%(self.linesPrinted))\n",
    "        \n",
    "        self.linesPrinted = 1\n",
    "\n",
    "        epochStr   = 'Epoch : %10d'%(epoch)\n",
    "        iterStr    = '' if iter is None else '(i = %7d)'%(iter)\n",
    "        profileStr = '' if timeElapsed is None else ', %12.4f ms elapsed'%(timeElapsed * 1000)\n",
    "\n",
    "        print(epochStr + iterStr + profileStr)\n",
    "        print(self.training.displayString())\n",
    "        self.linesPrinted += 2\n",
    "        if self.testing.displayString() is not None:\n",
    "            print(self.testing.displayString())\n",
    "            self.linesPrinted += 1\n",
    "\n",
    "    def plot(self, figures=(1, 2), saveFig=False, path=''):\n",
    "        '''\n",
    "        Plots the available learning statistics.\n",
    "\n",
    "        Arguments:\n",
    "            * ``figures``: Index of figure ID to plot on. Default is figure(1) for loss plot and figure(2) for accuracy plot.\n",
    "            * ``saveFig``(``bool``): flag to save figure into a file.\n",
    "            * ``path``: path to save the file. Defaule is ``''``.\n",
    "\n",
    "        Usage:\n",
    "\n",
    "        .. code-block:: python\n",
    "\n",
    "            # plot stats\n",
    "            stats.plot() \n",
    "\n",
    "            # plot stats figures specified\n",
    "            stats.print(figures=(10, 11)) \n",
    "        '''\n",
    "        plt.figure(figures[0])\n",
    "        plt.cla()\n",
    "        if len(self.training.lossLog) > 0:\n",
    "            plt.semilogy(self.training.lossLog, label='Training')\n",
    "        if len(self.testing.lossLog) > 0:\n",
    "            plt.semilogy(self.testing .lossLog, label='Testing')\n",
    "        plt.xlabel('Epoch')\n",
    "        plt.ylabel('Loss')\n",
    "        plt.legend()\n",
    "        if saveFig is True: \n",
    "            plt.savefig(path + 'loss.png')\n",
    "            # plt.close()\n",
    "\n",
    "        plt.figure(figures[1])\n",
    "        plt.cla()\n",
    "        if len(self.training.accuracyLog) > 0:\n",
    "            plt.plot(self.training.accuracyLog, label='Training')\n",
    "        if len(self.testing.accuracyLog) > 0:\n",
    "            plt.plot(self.testing .accuracyLog, label='Testing')\n",
    "        plt.xlabel('Epoch')\n",
    "        plt.ylabel('Accuracy')\n",
    "        plt.legend() \n",
    "        if saveFig is True: \n",
    "            plt.savefig(path + 'accuracy.png')\n",
    "            # plt.close()\n",
    "\n",
    "    def save(self, filename=''):\n",
    "        '''\n",
    "        Saves the learning satatistics logs.\n",
    "\n",
    "        Arguments:\n",
    "            * ``filename``: filename to save the logs. ``accuracy.txt`` and ``loss.txt`` will be appended\n",
    "\n",
    "        Usage:\n",
    "\n",
    "        .. code-block:: python\n",
    "\n",
    "            # save stats\n",
    "            stats.save() \n",
    "\n",
    "            # save stats filename specified\n",
    "            stats.save(filename='Run101-0.001-') # Run101-0.001-accuracy.txt and Run101-0.001-loss.txt\n",
    "        '''\n",
    "\n",
    "        with open(filename + 'loss.txt', 'wt') as loss:\n",
    "            loss.write('#%11s %11s\\r\\n'%('Train', 'Test'))\n",
    "            for i in range(len(self.training.lossLog)): \n",
    "                loss.write('%12.6g %12.6g \\r\\n'%(self.training.lossLog[i], self.testing.lossLog[i]))\n",
    "\n",
    "        with open(filename + 'accuracy.txt', 'wt') as accuracy:\n",
    "            accuracy.write('#%11s %11s\\r\\n'%('Train', 'Test'))\n",
    "            if self.training.accuracyLog != [None]*len(self.training.accuracyLog):\n",
    "                for i in range(len(self.training.accuracyLog)): \n",
    "                    accuracy.write('%12.6g %12.6g \\r\\n'%(self.training.accuracyLog[i], self.testing.accuracyLog[i]))"
   ]
  },
  {
   "cell_type": "markdown",
   "metadata": {},
   "source": [
    "### experiment MNIST"
   ]
  },
  {
   "cell_type": "code",
   "execution_count": 6,
   "metadata": {},
   "outputs": [],
   "source": [
    "trainset_cnn = MNIST(root='./data', train=True, transform=transforms.Compose([\n",
    "            transforms.ToTensor()]))\n",
    "\n",
    "trainloader_cnn = torch.utils.data.DataLoader(trainset_cnn, batch_size=BATCH_SIZE,\n",
    "                                          shuffle=True, num_workers=NUM_WORKERS)\n",
    "\n",
    "testset_cnn = MNIST(root='./data', train=False, transform=transforms.Compose([\n",
    "            transforms.ToTensor()]))\n",
    "\n",
    "testloader_cnn = torch.utils.data.DataLoader(testset_cnn, batch_size=BATCH_SIZE,\n",
    "                                         shuffle=False, num_workers=NUM_WORKERS)"
   ]
  },
  {
   "cell_type": "code",
   "execution_count": 7,
   "metadata": {},
   "outputs": [
    {
     "data": {
      "image/png": "[encoded data removed]",
      "text/plain": [
       "<Figure size 432x288 with 1 Axes>"
      ]
     },
     "metadata": {
      "needs_background": "light"
     },
     "output_type": "display_data"
    },
    {
     "data": {
      "image/png": "[encoded data removed]",
      "text/plain": [
       "<Figure size 432x288 with 1 Axes>"
      ]
     },
     "metadata": {
      "needs_background": "light"
     },
     "output_type": "display_data"
    }
   ],
   "source": [
    "# check if we choose the correct dataset\n",
    "\n",
    "plt.imshow(next(iter(trainloader_cnn))[0][0].squeeze(), cmap='gray')\n",
    "plt.show()\n",
    "\n",
    "plt.imshow(next(iter(testloader_cnn))[0][0].squeeze(), cmap='gray')\n",
    "plt.show()"
   ]
  },
  {
   "cell_type": "markdown",
   "metadata": {},
   "source": [
    "* train the raw CNN on MNIST"
   ]
  },
  {
   "cell_type": "code",
   "execution_count": 10,
   "metadata": {
    "code_folding": [],
    "scrolled": true
   },
   "outputs": [
    {
     "name": "stderr",
     "output_type": "stream",
     "text": [
      " 10%|█         | 1/10 [00:05<00:51,  5.71s/it]"
     ]
    },
    {
     "name": "stdout",
     "output_type": "stream",
     "text": [
      "\u001b[0A\n",
      "Epoch :          0,    5711.9190 ms elapsed\n",
      "loss = 0.0040589    (min = 0.0040589   )  \taccuracy = 0.85317    (max = 0.85317   )\n",
      "loss = 0.0013574    (min = 0.0013574   )  \taccuracy = 0.9493     (max = 0.9493    )\n"
     ]
    },
    {
     "name": "stderr",
     "output_type": "stream",
     "text": [
      " 30%|███       | 3/10 [00:16<00:39,  5.61s/it]"
     ]
    },
    {
     "name": "stdout",
     "output_type": "stream",
     "text": [
      "\u001b[4A\n",
      "Epoch :          2,    5558.3300 ms elapsed\n",
      "loss = 0.00075866   (min = 0.00075866  )  \taccuracy = 0.97083    (max = 0.97083   )\n",
      "loss = 0.0006046    (min = 0.0006046   )  \taccuracy = 0.9752     (max = 0.9752    )\n"
     ]
    },
    {
     "name": "stderr",
     "output_type": "stream",
     "text": [
      " 50%|█████     | 5/10 [00:28<00:28,  5.63s/it]"
     ]
    },
    {
     "name": "stdout",
     "output_type": "stream",
     "text": [
      "\u001b[4A\n",
      "Epoch :          4,    5678.4440 ms elapsed\n",
      "loss = 0.00053529   (min = 0.00053529  )  \taccuracy = 0.97907    (max = 0.97907   )\n",
      "loss = 0.00045044   (min = 0.00045044  )  \taccuracy = 0.9817     (max = 0.9817    )\n"
     ]
    },
    {
     "name": "stderr",
     "output_type": "stream",
     "text": [
      " 70%|███████   | 7/10 [00:39<00:16,  5.64s/it]"
     ]
    },
    {
     "name": "stdout",
     "output_type": "stream",
     "text": [
      "\u001b[4A\n",
      "Epoch :          6,    5723.6680 ms elapsed\n",
      "loss = 0.00043718   (min = 0.00043718  )  \taccuracy = 0.98265    (max = 0.98265   )\n",
      "loss = 0.00043884   (min = 0.00040268  )  \taccuracy = 0.981      (max = 0.9829    )\n"
     ]
    },
    {
     "name": "stderr",
     "output_type": "stream",
     "text": [
      " 90%|█████████ | 9/10 [00:50<00:05,  5.72s/it]"
     ]
    },
    {
     "name": "stdout",
     "output_type": "stream",
     "text": [
      "\u001b[4A\n",
      "Epoch :          8,    5919.5680 ms elapsed\n",
      "loss = 0.00038116   (min = 0.00038116  )  \taccuracy = 0.98512    (max = 0.98512   )\n",
      "loss = 0.00039225   (min = 0.00039225  )  \taccuracy = 0.9842     (max = 0.9842    )\n"
     ]
    },
    {
     "name": "stderr",
     "output_type": "stream",
     "text": [
      "\r",
      "100%|██████████| 10/10 [00:56<00:00,  5.76s/it]"
     ]
    },
    {
     "name": "stdout",
     "output_type": "stream",
     "text": [
      "Finished Training\n"
     ]
    },
    {
     "name": "stderr",
     "output_type": "stream",
     "text": [
      "\n"
     ]
    },
    {
     "name": "stdout",
     "output_type": "stream",
     "text": [
      "Accuracy of the network: 98 %\n"
     ]
    },
    {
     "data": {
      "image/png": "[encoded data removed]",
      "text/plain": [
       "<Figure size 432x288 with 1 Axes>"
      ]
     },
     "metadata": {
      "needs_background": "light"
     },
     "output_type": "display_data"
    },
    {
     "data": {
      "image/png": "[encoded data removed]",
      "text/plain": [
       "<Figure size 432x288 with 1 Axes>"
      ]
     },
     "metadata": {
      "needs_background": "light"
     },
     "output_type": "display_data"
    },
    {
     "name": "stdout",
     "output_type": "stream",
     "text": [
      "Saving models...\n"
     ]
    }
   ],
   "source": [
    "raw_cnn_mnist = Raw_CNN_Mnist().to(device)\n",
    "\n",
    "raw_criterion = nn.CrossEntropyLoss()\n",
    "raw_optimizer = optim.Adam(raw_cnn_mnist.parameters(), lr=0.001)\n",
    "raw_stats = learningStats()\n",
    "\n",
    "train(raw_cnn_mnist,'raw_cnn_mnist',\n",
    "      trainloader_cnn,testloader_cnn,\n",
    "      raw_criterion, \n",
    "      raw_optimizer,\n",
    "      raw_stats,\n",
    "      epoch=EPOCH)"
   ]
  },
  {
   "cell_type": "markdown",
   "metadata": {},
   "source": [
    "* The accuracy and confusion matrix"
   ]
  },
  {
   "cell_type": "code",
   "execution_count": 9,
   "metadata": {},
   "outputs": [
    {
     "name": "stdout",
     "output_type": "stream",
     "text": [
      "The classification accuracy:  0.9839\n",
      "\n"
     ]
    },
    {
     "data": {
      "image/png": "[encoded data removed]",
      "text/plain": [
       "<Figure size 432x288 with 2 Axes>"
      ]
     },
     "metadata": {
      "needs_background": "light"
     },
     "output_type": "display_data"
    }
   ],
   "source": [
    "raw_cnn_mnist = Raw_CNN_Mnist().to(device)\n",
    "load_model('raw_cnn_mnist', raw_cnn_mnist)\n",
    "y_true, y_pred = get_labels(raw_cnn_mnist, testloader_cnn, snn=False)\n",
    "test_method(y_true.cpu().numpy(), y_pred.cpu().numpy())"
   ]
  },
  {
   "cell_type": "markdown",
   "metadata": {},
   "source": [
    "* train the tailored CNN on MNIST"
   ]
  },
  {
   "cell_type": "code",
   "execution_count": 11,
   "metadata": {
    "scrolled": true
   },
   "outputs": [
    {
     "name": "stderr",
     "output_type": "stream",
     "text": [
      " 10%|█         | 1/10 [00:05<00:49,  5.47s/it]"
     ]
    },
    {
     "name": "stdout",
     "output_type": "stream",
     "text": [
      "\u001b[0A\n",
      "Epoch :          0,    5468.9660 ms elapsed\n",
      "loss = 0.0044539    (min = 0.0044539   )  \taccuracy = 0.84605    (max = 0.84605   )\n",
      "loss = 0.0017039    (min = 0.0017039   )  \taccuracy = 0.9403     (max = 0.9403    )\n"
     ]
    },
    {
     "name": "stderr",
     "output_type": "stream",
     "text": [
      " 30%|███       | 3/10 [00:16<00:38,  5.51s/it]"
     ]
    },
    {
     "name": "stdout",
     "output_type": "stream",
     "text": [
      "\u001b[4A\n",
      "Epoch :          2,    5485.5120 ms elapsed\n",
      "loss = 0.00098867   (min = 0.00098867  )  \taccuracy = 0.963      (max = 0.963     )\n",
      "loss = 0.00080162   (min = 0.00080162  )  \taccuracy = 0.9691     (max = 0.9691    )\n"
     ]
    },
    {
     "name": "stderr",
     "output_type": "stream",
     "text": [
      " 50%|█████     | 5/10 [00:28<00:28,  5.66s/it]"
     ]
    },
    {
     "name": "stdout",
     "output_type": "stream",
     "text": [
      "\u001b[4A\n",
      "Epoch :          4,    5600.3100 ms elapsed\n",
      "loss = 0.00070914   (min = 0.00070914  )  \taccuracy = 0.97302    (max = 0.97302   )\n",
      "loss = 0.00058522   (min = 0.00058522  )  \taccuracy = 0.9769     (max = 0.9769    )\n"
     ]
    },
    {
     "name": "stderr",
     "output_type": "stream",
     "text": [
      " 70%|███████   | 7/10 [00:39<00:16,  5.57s/it]"
     ]
    },
    {
     "name": "stdout",
     "output_type": "stream",
     "text": [
      "\u001b[4A\n",
      "Epoch :          6,    5581.8880 ms elapsed\n",
      "loss = 0.00058193   (min = 0.00058193  )  \taccuracy = 0.97765    (max = 0.97765   )\n",
      "loss = 0.00054069   (min = 0.00054069  )  \taccuracy = 0.979      (max = 0.979     )\n"
     ]
    },
    {
     "name": "stderr",
     "output_type": "stream",
     "text": [
      " 90%|█████████ | 9/10 [00:50<00:05,  5.55s/it]"
     ]
    },
    {
     "name": "stdout",
     "output_type": "stream",
     "text": [
      "\u001b[4A\n",
      "Epoch :          8,    5570.5730 ms elapsed\n",
      "loss = 0.00049369   (min = 0.00049369  )  \taccuracy = 0.98103    (max = 0.98103   )\n",
      "loss = 0.00047813   (min = 0.00047384  )  \taccuracy = 0.9803     (max = 0.9812    )\n"
     ]
    },
    {
     "name": "stderr",
     "output_type": "stream",
     "text": [
      "\r",
      "100%|██████████| 10/10 [00:55<00:00,  5.51s/it]"
     ]
    },
    {
     "name": "stdout",
     "output_type": "stream",
     "text": [
      "Finished Training\n"
     ]
    },
    {
     "name": "stderr",
     "output_type": "stream",
     "text": [
      "\n"
     ]
    },
    {
     "name": "stdout",
     "output_type": "stream",
     "text": [
      "Accuracy of the network: 98 %\n"
     ]
    },
    {
     "data": {
      "image/png": "[encoded data removed]",
      "text/plain": [
       "<Figure size 432x288 with 1 Axes>"
      ]
     },
     "metadata": {
      "needs_background": "light"
     },
     "output_type": "display_data"
    },
    {
     "data": {
      "image/png": "[encoded data removed]",
      "text/plain": [
       "<Figure size 432x288 with 1 Axes>"
      ]
     },
     "metadata": {
      "needs_background": "light"
     },
     "output_type": "display_data"
    },
    {
     "name": "stdout",
     "output_type": "stream",
     "text": [
      "Saving models...\n"
     ]
    }
   ],
   "source": [
    "tailored_cnn_mnist = Tailored_CNN_Mnist().to(device)\n",
    "\n",
    "t_criterion = nn.CrossEntropyLoss()\n",
    "t_optimizer = optim.Adam(tailored_cnn_mnist.parameters(), lr=0.001)\n",
    "t_stats = learningStats()\n",
    "\n",
    "train(tailored_cnn_mnist,'tailor_cnn_mnist', \n",
    "      trainloader_cnn,testloader_cnn, \n",
    "      t_criterion, \n",
    "      t_optimizer,\n",
    "      t_stats,\n",
    "      epoch=EPOCH)"
   ]
  },
  {
   "cell_type": "markdown",
   "metadata": {},
   "source": [
    "* The accuracy and confusion matrix of tailored CNN"
   ]
  },
  {
   "cell_type": "code",
   "execution_count": 11,
   "metadata": {},
   "outputs": [
    {
     "name": "stdout",
     "output_type": "stream",
     "text": [
      "The classification accuracy:  0.9838\n",
      "\n"
     ]
    },
    {
     "data": {
      "image/png": "[encoded data removed]",
      "text/plain": [
       "<Figure size 432x288 with 2 Axes>"
      ]
     },
     "metadata": {
      "needs_background": "light"
     },
     "output_type": "display_data"
    }
   ],
   "source": [
    "tailored_cnn_mnist = Tailored_CNN_Mnist().to(device)\n",
    "load_model('tailor_cnn_mnist', tailored_cnn_mnist)\n",
    "y_true, y_pred = get_labels(tailored_cnn_mnist, testloader_cnn, snn=False)\n",
    "test_method(y_true.cpu().numpy(), y_pred.cpu().numpy())"
   ]
  },
  {
   "cell_type": "markdown",
   "metadata": {},
   "source": [
    "### experiment FashionMnist"
   ]
  },
  {
   "cell_type": "code",
   "execution_count": 12,
   "metadata": {},
   "outputs": [],
   "source": [
    "trainset_cnn = FashionMNIST(root='./data', train=True, transform=transforms.Compose([\n",
    "            transforms.ToTensor()]))\n",
    "\n",
    "trainloader_cnn = torch.utils.data.DataLoader(trainset_cnn, batch_size=BATCH_SIZE,\n",
    "                                          shuffle=True, num_workers=NUM_WORKERS)\n",
    "\n",
    "testset_cnn = FashionMNIST(root='./data', train=False, transform=transforms.Compose([\n",
    "            transforms.ToTensor()]))\n",
    "\n",
    "testloader_cnn = torch.utils.data.DataLoader(testset_cnn, batch_size=BATCH_SIZE,\n",
    "                                         shuffle=False, num_workers=NUM_WORKERS)"
   ]
  },
  {
   "cell_type": "code",
   "execution_count": 13,
   "metadata": {},
   "outputs": [
    {
     "data": {
      "image/png": "[encoded data removed]",
      "text/plain": [
       "<Figure size 432x288 with 1 Axes>"
      ]
     },
     "metadata": {
      "needs_background": "light"
     },
     "output_type": "display_data"
    },
    {
     "data": {
      "image/png": "[encoded data removed]",
      "text/plain": [
       "<Figure size 432x288 with 1 Axes>"
      ]
     },
     "metadata": {
      "needs_background": "light"
     },
     "output_type": "display_data"
    }
   ],
   "source": [
    "# check if we choose the correct dataset\n",
    "plt.imshow(next(iter(trainloader_cnn))[0][0].squeeze(), cmap='gray')\n",
    "plt.show()\n",
    "\n",
    "plt.imshow(next(iter(testloader_cnn))[0][0].squeeze(), cmap='gray')\n",
    "plt.show()"
   ]
  },
  {
   "cell_type": "code",
   "execution_count": 14,
   "metadata": {
    "scrolled": true
   },
   "outputs": [
    {
     "name": "stderr",
     "output_type": "stream",
     "text": [
      "  3%|▎         | 1/30 [00:05<02:33,  5.30s/it]"
     ]
    },
    {
     "name": "stdout",
     "output_type": "stream",
     "text": [
      "\u001b[0A\n",
      "Epoch :          0,    5299.8590 ms elapsed\n",
      "loss = 0.0062855    (min = 0.0062855   )  \taccuracy = 0.72233    (max = 0.72233   )\n",
      "loss = 0.0045774    (min = 0.0045774   )  \taccuracy = 0.7894     (max = 0.7894    )\n"
     ]
    },
    {
     "name": "stderr",
     "output_type": "stream",
     "text": [
      " 10%|█         | 3/30 [00:15<02:20,  5.20s/it]"
     ]
    },
    {
     "name": "stdout",
     "output_type": "stream",
     "text": [
      "\u001b[4A\n",
      "Epoch :          2,    5136.8770 ms elapsed\n",
      "loss = 0.0035445    (min = 0.0035445   )  \taccuracy = 0.83813    (max = 0.83813   )\n",
      "loss = 0.0036586    (min = 0.0036586   )  \taccuracy = 0.8358     (max = 0.8358    )\n"
     ]
    },
    {
     "name": "stderr",
     "output_type": "stream",
     "text": [
      " 17%|█▋        | 5/30 [00:25<02:10,  5.21s/it]"
     ]
    },
    {
     "name": "stdout",
     "output_type": "stream",
     "text": [
      "\u001b[4A\n",
      "Epoch :          4,    5275.2230 ms elapsed\n",
      "loss = 0.003188     (min = 0.003188    )  \taccuracy = 0.85527    (max = 0.85527   )\n",
      "loss = 0.0033011    (min = 0.0033011   )  \taccuracy = 0.8502     (max = 0.8502    )\n"
     ]
    },
    {
     "name": "stderr",
     "output_type": "stream",
     "text": [
      " 23%|██▎       | 7/30 [00:36<01:59,  5.19s/it]"
     ]
    },
    {
     "name": "stdout",
     "output_type": "stream",
     "text": [
      "\u001b[4A\n",
      "Epoch :          6,    5086.1370 ms elapsed\n",
      "loss = 0.0029933    (min = 0.0029933   )  \taccuracy = 0.86407    (max = 0.86407   )\n",
      "loss = 0.0031342    (min = 0.0031342   )  \taccuracy = 0.8608     (max = 0.8608    )\n"
     ]
    },
    {
     "name": "stderr",
     "output_type": "stream",
     "text": [
      " 30%|███       | 9/30 [00:46<01:47,  5.13s/it]"
     ]
    },
    {
     "name": "stdout",
     "output_type": "stream",
     "text": [
      "\u001b[4A\n",
      "Epoch :          8,    5061.0950 ms elapsed\n",
      "loss = 0.0028816    (min = 0.0028816   )  \taccuracy = 0.86937    (max = 0.86937   )\n",
      "loss = 0.0030233    (min = 0.0030233   )  \taccuracy = 0.8652     (max = 0.8652    )\n"
     ]
    },
    {
     "name": "stderr",
     "output_type": "stream",
     "text": [
      " 37%|███▋      | 11/30 [00:56<01:36,  5.09s/it]"
     ]
    },
    {
     "name": "stdout",
     "output_type": "stream",
     "text": [
      "\u001b[4A\n",
      "Epoch :         10,    5048.9650 ms elapsed\n",
      "loss = 0.0027606    (min = 0.0027606   )  \taccuracy = 0.87375    (max = 0.87375   )\n",
      "loss = 0.0029326    (min = 0.0029326   )  \taccuracy = 0.8684     (max = 0.8684    )\n"
     ]
    },
    {
     "name": "stderr",
     "output_type": "stream",
     "text": [
      " 43%|████▎     | 13/30 [01:06<01:26,  5.10s/it]"
     ]
    },
    {
     "name": "stdout",
     "output_type": "stream",
     "text": [
      "\u001b[4A\n",
      "Epoch :         12,    5084.0320 ms elapsed\n",
      "loss = 0.0026775    (min = 0.0026775   )  \taccuracy = 0.87745    (max = 0.87745   )\n",
      "loss = 0.0029071    (min = 0.0028926   )  \taccuracy = 0.8703     (max = 0.8703    )\n"
     ]
    },
    {
     "name": "stderr",
     "output_type": "stream",
     "text": [
      " 50%|█████     | 15/30 [01:17<01:18,  5.20s/it]"
     ]
    },
    {
     "name": "stdout",
     "output_type": "stream",
     "text": [
      "\u001b[4A\n",
      "Epoch :         14,    5417.2430 ms elapsed\n",
      "loss = 0.0026285    (min = 0.0026285   )  \taccuracy = 0.87998    (max = 0.87998   )\n",
      "loss = 0.0029079    (min = 0.002888    )  \taccuracy = 0.8682     (max = 0.8703    )\n"
     ]
    },
    {
     "name": "stderr",
     "output_type": "stream",
     "text": [
      " 57%|█████▋    | 17/30 [01:27<01:07,  5.20s/it]"
     ]
    },
    {
     "name": "stdout",
     "output_type": "stream",
     "text": [
      "\u001b[4A\n",
      "Epoch :         16,    5143.7710 ms elapsed\n",
      "loss = 0.0025423    (min = 0.0025423   )  \taccuracy = 0.88248    (max = 0.88248   )\n",
      "loss = 0.0028581    (min = 0.0027991   )  \taccuracy = 0.8708     (max = 0.8744    )\n"
     ]
    },
    {
     "name": "stderr",
     "output_type": "stream",
     "text": [
      " 63%|██████▎   | 19/30 [01:37<00:56,  5.15s/it]"
     ]
    },
    {
     "name": "stdout",
     "output_type": "stream",
     "text": [
      "\u001b[4A\n",
      "Epoch :         18,    5093.5430 ms elapsed\n",
      "loss = 0.0024996    (min = 0.0024996   )  \taccuracy = 0.8856     (max = 0.8856    )\n",
      "loss = 0.0028409    (min = 0.0027991   )  \taccuracy = 0.8729     (max = 0.8744    )\n"
     ]
    },
    {
     "name": "stderr",
     "output_type": "stream",
     "text": [
      " 70%|███████   | 21/30 [01:48<00:46,  5.21s/it]"
     ]
    },
    {
     "name": "stdout",
     "output_type": "stream",
     "text": [
      "\u001b[4A\n",
      "Epoch :         20,    5274.5260 ms elapsed\n",
      "loss = 0.0024481    (min = 0.0024481   )  \taccuracy = 0.88745    (max = 0.88745   )\n",
      "loss = 0.002716     (min = 0.002716    )  \taccuracy = 0.8774     (max = 0.8774    )\n"
     ]
    },
    {
     "name": "stderr",
     "output_type": "stream",
     "text": [
      " 77%|███████▋  | 23/30 [01:58<00:36,  5.17s/it]"
     ]
    },
    {
     "name": "stdout",
     "output_type": "stream",
     "text": [
      "\u001b[4A\n",
      "Epoch :         22,    5060.9420 ms elapsed\n",
      "loss = 0.0023814    (min = 0.0023814   )  \taccuracy = 0.89087    (max = 0.89087   )\n",
      "loss = 0.0027059    (min = 0.0027059   )  \taccuracy = 0.8787     (max = 0.8787    )\n"
     ]
    },
    {
     "name": "stderr",
     "output_type": "stream",
     "text": [
      " 83%|████████▎ | 25/30 [02:08<00:25,  5.08s/it]"
     ]
    },
    {
     "name": "stdout",
     "output_type": "stream",
     "text": [
      "\u001b[4A\n",
      "Epoch :         24,    5164.9760 ms elapsed\n",
      "loss = 0.0023414    (min = 0.0023414   )  \taccuracy = 0.89263    (max = 0.89263   )\n",
      "loss = 0.0027631    (min = 0.0027045   )  \taccuracy = 0.8772     (max = 0.8787    )\n"
     ]
    },
    {
     "name": "stderr",
     "output_type": "stream",
     "text": [
      " 90%|█████████ | 27/30 [02:19<00:15,  5.13s/it]"
     ]
    },
    {
     "name": "stdout",
     "output_type": "stream",
     "text": [
      "\u001b[4A\n",
      "Epoch :         26,    5091.0010 ms elapsed\n",
      "loss = 0.0022979    (min = 0.0022979   )  \taccuracy = 0.8945     (max = 0.8945    )\n",
      "loss = 0.0026369    (min = 0.0026369   )  \taccuracy = 0.8831     (max = 0.8831    )\n"
     ]
    },
    {
     "name": "stderr",
     "output_type": "stream",
     "text": [
      " 97%|█████████▋| 29/30 [02:29<00:05,  5.09s/it]"
     ]
    },
    {
     "name": "stdout",
     "output_type": "stream",
     "text": [
      "\u001b[4A\n",
      "Epoch :         28,    5036.9710 ms elapsed\n",
      "loss = 0.0022608    (min = 0.0022608   )  \taccuracy = 0.89612    (max = 0.89612   )\n",
      "loss = 0.0026352    (min = 0.0026352   )  \taccuracy = 0.8787     (max = 0.8831    )\n"
     ]
    },
    {
     "name": "stderr",
     "output_type": "stream",
     "text": [
      "\r",
      "100%|██████████| 30/30 [02:34<00:00,  5.07s/it]"
     ]
    },
    {
     "name": "stdout",
     "output_type": "stream",
     "text": [
      "Finished Training\n"
     ]
    },
    {
     "name": "stderr",
     "output_type": "stream",
     "text": [
      "\n"
     ]
    },
    {
     "name": "stdout",
     "output_type": "stream",
     "text": [
      "Accuracy of the network: 88 %\n"
     ]
    },
    {
     "data": {
      "image/png": "[encoded data removed]",
      "text/plain": [
       "<Figure size 432x288 with 1 Axes>"
      ]
     },
     "metadata": {
      "needs_background": "light"
     },
     "output_type": "display_data"
    },
    {
     "data": {
      "image/png": "[encoded data removed]",
      "text/plain": [
       "<Figure size 432x288 with 1 Axes>"
      ]
     },
     "metadata": {
      "needs_background": "light"
     },
     "output_type": "display_data"
    },
    {
     "name": "stdout",
     "output_type": "stream",
     "text": [
      "Saving models...\n"
     ]
    }
   ],
   "source": [
    "# use the same network structure as for mninst task\n",
    "raw_cnn_fashion = Raw_CNN_Mnist().to(device)\n",
    "\n",
    "raw_criterion = nn.CrossEntropyLoss()\n",
    "raw_optimizer = optim.Adam(raw_cnn_fashion.parameters(), lr=0.001)\n",
    "raw_stats = learningStats()\n",
    "\n",
    "train(raw_cnn_fashion,'raw_cnn_fashion',\n",
    "      trainloader_cnn,testloader_cnn,\n",
    "      raw_criterion, \n",
    "      raw_optimizer,\n",
    "      raw_stats,\n",
    "      epoch=EPOCH+20)"
   ]
  },
  {
   "cell_type": "code",
   "execution_count": 14,
   "metadata": {},
   "outputs": [
    {
     "name": "stdout",
     "output_type": "stream",
     "text": [
      "The classification accuracy:  0.88\n",
      "\n"
     ]
    },
    {
     "data": {
      "image/png": "[encoded data removed]",
      "text/plain": [
       "<Figure size 432x288 with 2 Axes>"
      ]
     },
     "metadata": {
      "needs_background": "light"
     },
     "output_type": "display_data"
    }
   ],
   "source": [
    "raw_cnn_fashion = Raw_CNN_Mnist().to(device)\n",
    "load_model('raw_cnn_fashion', raw_cnn_fashion)\n",
    "y_true, y_pred = get_labels(raw_cnn_fashion, testloader_cnn, snn=False)\n",
    "test_method(y_true.cpu().numpy(), y_pred.cpu().numpy())"
   ]
  },
  {
   "cell_type": "code",
   "execution_count": 15,
   "metadata": {
    "scrolled": true
   },
   "outputs": [
    {
     "name": "stderr",
     "output_type": "stream",
     "text": [
      "  3%|▎         | 1/30 [00:05<02:26,  5.06s/it]"
     ]
    },
    {
     "name": "stdout",
     "output_type": "stream",
     "text": [
      "\u001b[0A\n",
      "Epoch :          0,    5057.4160 ms elapsed\n",
      "loss = 0.0066733    (min = 0.0066733   )  \taccuracy = 0.69352    (max = 0.69352   )\n",
      "loss = 0.0050148    (min = 0.0050148   )  \taccuracy = 0.7683     (max = 0.7683    )\n"
     ]
    },
    {
     "name": "stderr",
     "output_type": "stream",
     "text": [
      " 10%|█         | 3/30 [00:15<02:15,  5.02s/it]"
     ]
    },
    {
     "name": "stdout",
     "output_type": "stream",
     "text": [
      "\u001b[4A\n",
      "Epoch :          2,    4964.5000 ms elapsed\n",
      "loss = 0.0042098    (min = 0.0042098   )  \taccuracy = 0.80855    (max = 0.80855   )\n",
      "loss = 0.004233     (min = 0.004233    )  \taccuracy = 0.8093     (max = 0.8093    )\n"
     ]
    },
    {
     "name": "stderr",
     "output_type": "stream",
     "text": [
      " 17%|█▋        | 5/30 [00:25<02:05,  5.03s/it]"
     ]
    },
    {
     "name": "stdout",
     "output_type": "stream",
     "text": [
      "\u001b[4A\n",
      "Epoch :          4,    4940.0810 ms elapsed\n",
      "loss = 0.0037666    (min = 0.0037666   )  \taccuracy = 0.82905    (max = 0.82905   )\n",
      "loss = 0.0038617    (min = 0.0038617   )  \taccuracy = 0.8262     (max = 0.8262    )\n"
     ]
    },
    {
     "name": "stderr",
     "output_type": "stream",
     "text": [
      " 23%|██▎       | 7/30 [00:35<01:57,  5.10s/it]"
     ]
    },
    {
     "name": "stdout",
     "output_type": "stream",
     "text": [
      "\u001b[4A\n",
      "Epoch :          6,    5230.3200 ms elapsed\n",
      "loss = 0.0035071    (min = 0.0035071   )  \taccuracy = 0.84178    (max = 0.84178   )\n",
      "loss = 0.0036249    (min = 0.0036249   )  \taccuracy = 0.8351     (max = 0.8351    )\n"
     ]
    },
    {
     "name": "stderr",
     "output_type": "stream",
     "text": [
      " 30%|███       | 9/30 [00:45<01:45,  5.03s/it]"
     ]
    },
    {
     "name": "stdout",
     "output_type": "stream",
     "text": [
      "\u001b[4A\n",
      "Epoch :          8,    4860.3040 ms elapsed\n",
      "loss = 0.003291     (min = 0.003291    )  \taccuracy = 0.85273    (max = 0.85273   )\n",
      "loss = 0.0034276    (min = 0.0034276   )  \taccuracy = 0.8506     (max = 0.8506    )\n"
     ]
    },
    {
     "name": "stderr",
     "output_type": "stream",
     "text": [
      " 37%|███▋      | 11/30 [00:55<01:37,  5.11s/it]"
     ]
    },
    {
     "name": "stdout",
     "output_type": "stream",
     "text": [
      "\u001b[4A\n",
      "Epoch :         10,    5129.2490 ms elapsed\n",
      "loss = 0.0031157    (min = 0.0031157   )  \taccuracy = 0.86028    (max = 0.86028   )\n",
      "loss = 0.0032761    (min = 0.0032761   )  \taccuracy = 0.8551     (max = 0.8551    )\n"
     ]
    },
    {
     "name": "stderr",
     "output_type": "stream",
     "text": [
      " 43%|████▎     | 13/30 [01:05<01:26,  5.10s/it]"
     ]
    },
    {
     "name": "stdout",
     "output_type": "stream",
     "text": [
      "\u001b[4A\n",
      "Epoch :         12,    5071.7390 ms elapsed\n",
      "loss = 0.0029691    (min = 0.0029691   )  \taccuracy = 0.86705    (max = 0.86705   )\n",
      "loss = 0.0031271    (min = 0.0031271   )  \taccuracy = 0.8644     (max = 0.8644    )\n"
     ]
    },
    {
     "name": "stderr",
     "output_type": "stream",
     "text": [
      " 50%|█████     | 15/30 [01:16<01:16,  5.12s/it]"
     ]
    },
    {
     "name": "stdout",
     "output_type": "stream",
     "text": [
      "\u001b[4A\n",
      "Epoch :         14,    5139.0570 ms elapsed\n",
      "loss = 0.002862     (min = 0.002862    )  \taccuracy = 0.87132    (max = 0.87132   )\n",
      "loss = 0.0030489    (min = 0.0030489   )  \taccuracy = 0.8657     (max = 0.8657    )\n"
     ]
    },
    {
     "name": "stderr",
     "output_type": "stream",
     "text": [
      " 57%|█████▋    | 17/30 [01:26<01:06,  5.15s/it]"
     ]
    },
    {
     "name": "stdout",
     "output_type": "stream",
     "text": [
      "\u001b[4A\n",
      "Epoch :         16,    5260.0670 ms elapsed\n",
      "loss = 0.0027622    (min = 0.0027622   )  \taccuracy = 0.87587    (max = 0.87587   )\n",
      "loss = 0.0029822    (min = 0.0029822   )  \taccuracy = 0.8705     (max = 0.8705    )\n"
     ]
    },
    {
     "name": "stderr",
     "output_type": "stream",
     "text": [
      " 63%|██████▎   | 19/30 [01:37<00:57,  5.20s/it]"
     ]
    },
    {
     "name": "stdout",
     "output_type": "stream",
     "text": [
      "\u001b[4A\n",
      "Epoch :         18,    5351.9770 ms elapsed\n",
      "loss = 0.0026821    (min = 0.0026821   )  \taccuracy = 0.87992    (max = 0.87992   )\n",
      "loss = 0.0028957    (min = 0.0028957   )  \taccuracy = 0.8711     (max = 0.8711    )\n"
     ]
    },
    {
     "name": "stderr",
     "output_type": "stream",
     "text": [
      " 70%|███████   | 21/30 [01:47<00:48,  5.34s/it]"
     ]
    },
    {
     "name": "stdout",
     "output_type": "stream",
     "text": [
      "\u001b[4A\n",
      "Epoch :         20,    5462.2580 ms elapsed\n",
      "loss = 0.0026182    (min = 0.0026182   )  \taccuracy = 0.8826     (max = 0.8826    )\n",
      "loss = 0.0029066    (min = 0.0028957   )  \taccuracy = 0.8717     (max = 0.8717    )\n"
     ]
    },
    {
     "name": "stderr",
     "output_type": "stream",
     "text": [
      " 77%|███████▋  | 23/30 [01:58<00:36,  5.25s/it]"
     ]
    },
    {
     "name": "stdout",
     "output_type": "stream",
     "text": [
      "\u001b[4A\n",
      "Epoch :         22,    5147.0280 ms elapsed\n",
      "loss = 0.0025639    (min = 0.0025639   )  \taccuracy = 0.8846     (max = 0.8846    )\n",
      "loss = 0.0028766    (min = 0.0028441   )  \taccuracy = 0.8761     (max = 0.8761    )\n"
     ]
    },
    {
     "name": "stderr",
     "output_type": "stream",
     "text": [
      " 83%|████████▎ | 25/30 [02:08<00:25,  5.16s/it]"
     ]
    },
    {
     "name": "stdout",
     "output_type": "stream",
     "text": [
      "\u001b[4A\n",
      "Epoch :         24,    5019.8880 ms elapsed\n",
      "loss = 0.0025135    (min = 0.0025135   )  \taccuracy = 0.88673    (max = 0.88673   )\n",
      "loss = 0.0028524    (min = 0.002822    )  \taccuracy = 0.8709     (max = 0.8761    )\n"
     ]
    },
    {
     "name": "stderr",
     "output_type": "stream",
     "text": [
      " 90%|█████████ | 27/30 [02:18<00:15,  5.16s/it]"
     ]
    },
    {
     "name": "stdout",
     "output_type": "stream",
     "text": [
      "\u001b[4A\n",
      "Epoch :         26,    5205.3930 ms elapsed\n",
      "loss = 0.002465     (min = 0.002465    )  \taccuracy = 0.8888     (max = 0.8888    )\n",
      "loss = 0.0027658    (min = 0.0027658   )  \taccuracy = 0.8761     (max = 0.8763    )\n"
     ]
    },
    {
     "name": "stderr",
     "output_type": "stream",
     "text": [
      " 97%|█████████▋| 29/30 [02:29<00:05,  5.15s/it]"
     ]
    },
    {
     "name": "stdout",
     "output_type": "stream",
     "text": [
      "\u001b[4A\n",
      "Epoch :         28,    5149.3910 ms elapsed\n",
      "loss = 0.0024375    (min = 0.0024375   )  \taccuracy = 0.88972    (max = 0.88972   )\n",
      "loss = 0.0028938    (min = 0.0027588   )  \taccuracy = 0.8735     (max = 0.8778    )\n"
     ]
    },
    {
     "name": "stderr",
     "output_type": "stream",
     "text": [
      "\r",
      "100%|██████████| 30/30 [02:34<00:00,  5.17s/it]"
     ]
    },
    {
     "name": "stdout",
     "output_type": "stream",
     "text": [
      "Finished Training\n"
     ]
    },
    {
     "name": "stderr",
     "output_type": "stream",
     "text": [
      "\n"
     ]
    },
    {
     "name": "stdout",
     "output_type": "stream",
     "text": [
      "Accuracy of the network: 87 %\n"
     ]
    },
    {
     "data": {
      "image/png": "[encoded data removed]",
      "text/plain": [
       "<Figure size 432x288 with 1 Axes>"
      ]
     },
     "metadata": {
      "needs_background": "light"
     },
     "output_type": "display_data"
    },
    {
     "data": {
      "image/png": "[encoded data removed]",
      "text/plain": [
       "<Figure size 432x288 with 1 Axes>"
      ]
     },
     "metadata": {
      "needs_background": "light"
     },
     "output_type": "display_data"
    },
    {
     "name": "stdout",
     "output_type": "stream",
     "text": [
      "Saving models...\n"
     ]
    }
   ],
   "source": [
    "tailored_cnn_fashion = Tailored_CNN_Mnist().to(device)\n",
    "\n",
    "t_criterion = nn.CrossEntropyLoss()\n",
    "t_optimizer = optim.Adam(tailored_cnn_fashion.parameters(), lr=0.001)\n",
    "t_stats = learningStats()\n",
    "\n",
    "train(tailored_cnn_fashion,'tailor_cnn_fashion', \n",
    "      trainloader_cnn,testloader_cnn, \n",
    "      t_criterion, \n",
    "      t_optimizer,\n",
    "      t_stats,\n",
    "      epoch=EPOCH+20)"
   ]
  },
  {
   "cell_type": "code",
   "execution_count": 15,
   "metadata": {},
   "outputs": [
    {
     "name": "stdout",
     "output_type": "stream",
     "text": [
      "The classification accuracy:  0.8788\n",
      "\n"
     ]
    },
    {
     "data": {
      "image/png": "[encoded data removed]",
      "text/plain": [
       "<Figure size 432x288 with 2 Axes>"
      ]
     },
     "metadata": {
      "needs_background": "light"
     },
     "output_type": "display_data"
    }
   ],
   "source": [
    "tailored_cnn_fashion = Tailored_CNN_Mnist().to(device)\n",
    "load_model('tailor_cnn_fashion', tailored_cnn_fashion)\n",
    "y_true, y_pred = get_labels(tailored_cnn_fashion, testloader_cnn, snn=False)\n",
    "test_method(y_true.cpu().numpy(), y_pred.cpu().numpy())"
   ]
  },
  {
   "cell_type": "markdown",
   "metadata": {},
   "source": [
    "# Test for SNN with weights from tailored CNN"
   ]
  },
  {
   "cell_type": "markdown",
   "metadata": {},
   "source": [
    "## Notes on the conv\n",
    "* kernel size of time should be 1, otherwise it gets convolved as well.\n",
    "* bias=False\n",
    "* replace their pool layer with nn.AvgPool3d. The pool they used is a $sum*\\theta$ not an average.\n",
    "* should recieve the Spikes from the previous layer\n",
    "* the input value should be within [0,1] before they go into the DataLoader\n",
    "## Pipeline\n",
    "raw data(B,C,H,W) --- spike generation ---> spike(B,C,H,W,T) --- Conv3d on spikes ---> X(t) for every t of T --- eq 1: LIF, threshold and reset ---> intermediate V(t), the membrane potential --- based on V(t) ---> Spikes for the next layer."
   ]
  },
  {
   "cell_type": "code",
   "execution_count": 5,
   "metadata": {},
   "outputs": [],
   "source": [
    "class custmized_SNN_Mnist(nn.Module):\n",
    "    \n",
    "    def __init__(self, thetas, leaks=[0,0,0,0,0], V_mins=[0,0,0,0,0]):\n",
    "        super(custmized_SNN_Mnist, self).__init__()\n",
    "        self.conv1 = convLayer(1, 3, 5, theta=thetas[0], padding=1)\n",
    "        self.pool1 = poolLayer(2, theta=thetas[1])\n",
    "        self.conv2 = convLayer(3, 12, 5, theta=thetas[2],padding=1)        \n",
    "        self.pool2 = poolLayer(2, theta=thetas[3])\n",
    "        self.fc1   = denseLayer((5 * 5 * 12), 10, theta=thetas[4])\n",
    "        \n",
    "    def forward(self, spikeInput):\n",
    "        spike_conv1 = self.conv1(spikeInput)\n",
    "        #print(spike_conv1)\n",
    "        spike_pool1 = self.pool1(spike_conv1)\n",
    "        #print(spike_pool1)\n",
    "        spike_conv2 = self.conv2(spike_pool1)\n",
    "        #print(spike_conv2.shape)\n",
    "        spike_pool2 = self.pool2(spike_conv2)\n",
    "        spike_for_fc1 = spike_pool2.reshape(-1, 5 * 5 * 12, 1, 1, spike_pool2.shape[-1])\n",
    "        spikeOut = self.fc1(spike_for_fc1)\n",
    "        \n",
    "        return spikeOut"
   ]
  },
  {
   "cell_type": "markdown",
   "metadata": {},
   "source": [
    "### experiment MNIST"
   ]
  },
  {
   "cell_type": "code",
   "execution_count": 6,
   "metadata": {
    "code_folding": []
   },
   "outputs": [],
   "source": [
    "# set up hyper params\n",
    "TIME_BINS = 100"
   ]
  },
  {
   "cell_type": "code",
   "execution_count": 7,
   "metadata": {},
   "outputs": [],
   "source": [
    "# Dataset and dataLoader instances.\n",
    "testingSet_M = SpikeDataset(datasetPath = './data', dataset='mnist',TimeBins=TIME_BINS,\n",
    "                    small=True, train=False)\n",
    "\n",
    "testLoader_M = DataLoader(dataset=testingSet_M, batch_size=64, shuffle=False, num_workers=4)"
   ]
  },
  {
   "cell_type": "markdown",
   "metadata": {},
   "source": [
    "* check the performance of a randomly initialized SNN"
   ]
  },
  {
   "cell_type": "code",
   "execution_count": 8,
   "metadata": {},
   "outputs": [],
   "source": [
    "thetas = [1, 0.99, 1, 0.99, 1]\n",
    "\n",
    "custmized_snn_mnist = custmized_SNN_Mnist(thetas=thetas).to(device)"
   ]
  },
  {
   "cell_type": "code",
   "execution_count": 9,
   "metadata": {},
   "outputs": [
    {
     "name": "stdout",
     "output_type": "stream",
     "text": [
      "The classification accuracy:  0.112\n",
      "\n"
     ]
    },
    {
     "data": {
      "image/png": "[encoded data removed]",
      "text/plain": [
       "<Figure size 432x288 with 2 Axes>"
      ]
     },
     "metadata": {
      "needs_background": "light"
     },
     "output_type": "display_data"
    }
   ],
   "source": [
    "y_true, y_pred = get_labels(custmized_snn_mnist, testLoader_M, snn=True)\n",
    "test_method(y_true.cpu().numpy(), y_pred.cpu().numpy())"
   ]
  },
  {
   "cell_type": "markdown",
   "metadata": {},
   "source": [
    "* now try with the weights learned from tailor_cnn"
   ]
  },
  {
   "cell_type": "code",
   "execution_count": 10,
   "metadata": {},
   "outputs": [
    {
     "name": "stdout",
     "output_type": "stream",
     "text": [
      "Layer conv1.weight\n",
      "torch.Size([3, 1, 5, 5])\n",
      "Layer conv2.weight\n",
      "torch.Size([12, 3, 5, 5])\n",
      "Layer fc1.weight\n",
      "torch.Size([10, 300])\n"
     ]
    }
   ],
   "source": [
    "# script to transport the weights\n",
    "tailor_cnn_weights = load_dict(\"tailor_cnn_mnist\")\n",
    "snn_weights = custmized_snn_mnist.state_dict()\n",
    "\n",
    "for k in iter(tailor_cnn_weights):\n",
    "    print(\"Layer {}\".format(k))\n",
    "    print(tailor_cnn_weights[k].shape)\n",
    "    if k.startswith('conv') or k.startswith('fc'):\n",
    "        snn_weights[k] = tailor_cnn_weights[k].reshape(snn_weights[k].shape)"
   ]
  },
  {
   "cell_type": "code",
   "execution_count": 11,
   "metadata": {},
   "outputs": [
    {
     "data": {
      "text/plain": [
       "IncompatibleKeys(missing_keys=[], unexpected_keys=[])"
      ]
     },
     "execution_count": 11,
     "metadata": {},
     "output_type": "execute_result"
    }
   ],
   "source": [
    "transformed_snn_mnist = custmized_SNN_Mnist(thetas=thetas).to(device)\n",
    "transformed_snn_mnist.load_state_dict(snn_weights)\n",
    "\n",
    "# this warning can be ignored, it happens when using jupyter \n",
    "# even the weights are passed without problem"
   ]
  },
  {
   "cell_type": "code",
   "execution_count": 12,
   "metadata": {},
   "outputs": [
    {
     "name": "stdout",
     "output_type": "stream",
     "text": [
      "The classification accuracy:  0.86\n",
      "\n"
     ]
    },
    {
     "data": {
      "image/png": "[encoded data removed]",
      "text/plain": [
       "<Figure size 432x288 with 2 Axes>"
      ]
     },
     "metadata": {
      "needs_background": "light"
     },
     "output_type": "display_data"
    }
   ],
   "source": [
    "y_true, y_pred = get_labels(transformed_snn_mnist, testLoader_M, snn=True)\n",
    "test_method(y_true.cpu().numpy(), y_pred.cpu().numpy())"
   ]
  },
  {
   "cell_type": "markdown",
   "metadata": {},
   "source": [
    "### experiment FashionMnist"
   ]
  },
  {
   "cell_type": "code",
   "execution_count": 13,
   "metadata": {},
   "outputs": [],
   "source": [
    "testingSet_F = SpikeDataset(datasetPath = './data', dataset='fashion',TimeBins=TIME_BINS,\n",
    "                    small=False, train=False)\n",
    "testLoader_F = DataLoader(dataset=testingSet_F, batch_size=64, shuffle=False, num_workers=4)"
   ]
  },
  {
   "cell_type": "markdown",
   "metadata": {},
   "source": [
    "* check the performance of a randomly initialized SNN"
   ]
  },
  {
   "cell_type": "code",
   "execution_count": 15,
   "metadata": {},
   "outputs": [],
   "source": [
    "thetas = [10, 0.7, 0.9, 0.7, 1]\n",
    "\n",
    "custmized_snn_fashion = custmized_SNN_Mnist(thetas=thetas).to(device)"
   ]
  },
  {
   "cell_type": "code",
   "execution_count": 16,
   "metadata": {},
   "outputs": [
    {
     "name": "stdout",
     "output_type": "stream",
     "text": [
      "The classification accuracy:  0.1\n",
      "\n"
     ]
    },
    {
     "data": {
      "image/png": "[encoded data removed]",
      "text/plain": [
       "<Figure size 432x288 with 2 Axes>"
      ]
     },
     "metadata": {
      "needs_background": "light"
     },
     "output_type": "display_data"
    }
   ],
   "source": [
    "y_true, y_pred = get_labels(custmized_snn_fashion, testLoader_F, snn=True)\n",
    "test_method(y_true.cpu().numpy(), y_pred.cpu().numpy())"
   ]
  },
  {
   "cell_type": "markdown",
   "metadata": {},
   "source": [
    "* now try with the weights learned from tailor_cnn"
   ]
  },
  {
   "cell_type": "code",
   "execution_count": 17,
   "metadata": {},
   "outputs": [
    {
     "name": "stdout",
     "output_type": "stream",
     "text": [
      "Layer conv1.weight\n",
      "torch.Size([3, 1, 5, 5])\n",
      "Layer conv2.weight\n",
      "torch.Size([12, 3, 5, 5])\n",
      "Layer fc1.weight\n",
      "torch.Size([10, 300])\n"
     ]
    }
   ],
   "source": [
    "# script to transport the weights\n",
    "tailor_cnn_weights = load_dict(\"tailor_cnn_fashion\")\n",
    "snn_weights = transformed_snn_fashion.state_dict()\n",
    "\n",
    "for k in iter(tailor_cnn_weights):\n",
    "    print(\"Layer {}\".format(k))\n",
    "    print(tailor_cnn_weights[k].shape)\n",
    "    if k.startswith('conv') or k.startswith('fc'):\n",
    "        snn_weights[k] = tailor_cnn_weights[k].reshape(snn_weights[k].shape)"
   ]
  },
  {
   "cell_type": "code",
   "execution_count": 18,
   "metadata": {},
   "outputs": [
    {
     "data": {
      "text/plain": [
       "IncompatibleKeys(missing_keys=[], unexpected_keys=[])"
      ]
     },
     "execution_count": 18,
     "metadata": {},
     "output_type": "execute_result"
    }
   ],
   "source": [
    "transformed_snn_fashion = custmized_SNN_Mnist(thetas=thetas).to(device)\n",
    "transformed_snn_fashion.load_state_dict(snn_weights)\n",
    "\n",
    "# this warning can be ignored, it happens when using jupyter \n",
    "# even the weights are passed without problem"
   ]
  },
  {
   "cell_type": "code",
   "execution_count": 19,
   "metadata": {},
   "outputs": [
    {
     "name": "stdout",
     "output_type": "stream",
     "text": [
      "The classification accuracy:  0.4866\n",
      "\n"
     ]
    },
    {
     "data": {
      "image/png": "[encoded data removed]",
      "text/plain": [
       "<Figure size 432x288 with 2 Axes>"
      ]
     },
     "metadata": {
      "needs_background": "light"
     },
     "output_type": "display_data"
    }
   ],
   "source": [
    "y_true, y_pred = get_labels(transformed_snn_fashion, testLoader_F, snn=True)\n",
    "test_method(y_true.cpu().numpy(), y_pred.cpu().numpy())"
   ]
  }
 ],
 "metadata": {
  "kernelspec": {
   "display_name": "Python 3",
   "language": "python",
   "name": "python3"
  },
  "language_info": {
   "codemirror_mode": {
    "name": "ipython",
    "version": 3
   },
   "file_extension": ".py",
   "mimetype": "text/x-python",
   "name": "python",
   "nbconvert_exporter": "python",
   "pygments_lexer": "ipython3",
   "version": "3.6.8"
  }
 },
 "nbformat": 4,
 "nbformat_minor": 2
}
