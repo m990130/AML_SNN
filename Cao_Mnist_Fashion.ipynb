{
 "cells": [
  {
   "cell_type": "code",
   "execution_count": 1,
   "metadata": {},
   "outputs": [],
   "source": [
    "import torch\n",
    "import torch.nn as nn\n",
    "import torch.nn.functional as F\n",
    "import torch.optim as optim\n",
    "from torch.utils.data import Dataset, DataLoader\n",
    "\n",
    "from torchvision.datasets import MNIST, FashionMNIST, CIFAR10\n",
    "from torchvision.transforms import transforms\n",
    "\n",
    "\n",
    "from lib.custmized_layer import convLayer, poolLayer, denseLayer\n",
    "from lib.datasets.spikedataset import SpikeDataset, transform_cifar\n",
    "\n",
    "from datetime import datetime\n",
    "\n",
    "import matplotlib\n",
    "import matplotlib.pyplot as plt\n",
    "from tqdm import tqdm"
   ]
  },
  {
   "cell_type": "code",
   "execution_count": 2,
   "metadata": {},
   "outputs": [],
   "source": [
    "# some handy function to use\n",
    "from lib.utils import save_model, load_dict, test_method, get_labels"
   ]
  },
  {
   "cell_type": "markdown",
   "metadata": {},
   "source": [
    "# Test for raw and tailored CNN\n",
    "Following tasks are done:\n",
    "1. train and test for MNIST datast with raw_cnn and talor_cnn.\n",
    "2. the same work for FashionMnist, and with the same set-up for network structure, since the input has the same size, and problems are similar. Besides, we want to show the difference of performance between the 3 networks, raw, tailored and snn with weights from tailored cnn. A network with smaller size can hugely  accelerate this pipeline."
   ]
  },
  {
   "cell_type": "code",
   "execution_count": 3,
   "metadata": {},
   "outputs": [],
   "source": [
    "# set up hyper params\n",
    "BATCH_SIZE  = 32\n",
    "\n",
    "# for full size dataset\n",
    "EPOCH = 30\n",
    "# for small size dataset, consistent with the Slayer\n",
    "EPOCH2 = 100\n",
    "\n",
    "NUM_WORKERS = 1\n",
    "\n",
    "use_cuda = torch.cuda.is_available()\n",
    "\n",
    "torch.manual_seed(1024)\n",
    "\n",
    "device = torch.device(\"cuda\" if use_cuda else \"cpu\")\n",
    "\n",
    "kwargs = {'num_workers': 1, 'pin_memory': True} if use_cuda else {}"
   ]
  },
  {
   "cell_type": "code",
   "execution_count": 4,
   "metadata": {
    "code_folding": [
     0,
     18
    ]
   },
   "outputs": [],
   "source": [
    "def plot_stats(stats):\n",
    "    plt.figure(1)\n",
    "    plt.semilogy(stats.training.lossLog, label='Training')\n",
    "    plt.semilogy(stats.testing.lossLog, label='Testing')\n",
    "    plt.xlabel('Epoch')\n",
    "    plt.ylabel('Loss')\n",
    "    plt.legend()\n",
    "\n",
    "    plt.figure(2)\n",
    "    plt.plot(stats.training.accuracyLog, label='Training')\n",
    "    plt.plot(stats.testing.accuracyLog, label='Testing')\n",
    "    plt.xlabel('Epoch')\n",
    "    plt.ylabel('Accuracy')\n",
    "    plt.legend()\n",
    "\n",
    "    plt.show()\n",
    "\n",
    "## Training\n",
    "def train(model, model_name, trainloader, testloader, criterion, optimizer, stats, epoch):\n",
    "    \n",
    "    for epoch in tqdm(range(epoch)):\n",
    "        # Reset training stats.\n",
    "        stats.training.reset()\n",
    "        tSt = datetime.now()\n",
    "        model.train()    \n",
    "        # Training loop.\n",
    "        for i, data in enumerate(trainloader, 0):\n",
    "            # get the inputs; data is a list of [inputs, labels]\n",
    "            inputs, labels = data[0].to(device), data[1].to(device)\n",
    "\n",
    "            # zero the parameter gradients\n",
    "            optimizer.zero_grad()\n",
    "\n",
    "            # forward + backward + optimize\n",
    "            outputs = model(inputs)\n",
    "\n",
    "            loss = criterion(outputs, labels)\n",
    "\n",
    "            loss.backward()\n",
    "\n",
    "            optimizer.step()\n",
    "\n",
    "            # Gather training loss stats.\n",
    "            stats.training.lossSum += loss.cpu().data.item()\n",
    "\n",
    "            # Gather the training stats.\n",
    "            _, predicted = torch.max(outputs.data, 1)\n",
    "\n",
    "            stats.training.correctSamples += torch.sum(predicted == labels).data.item()\n",
    "            stats.training.numSamples += len(labels)\n",
    "\n",
    "            # Display training stats.\n",
    "            # if i%10 == 0: stats.print(epoch, i, (datetime.now() - tSt).total_seconds())\n",
    "        # Update training stats.\n",
    "        stats.training.update()\n",
    "        # Reset testing stats.\n",
    "        stats.testing.reset()\n",
    "        model.eval()    \n",
    "        # Testing loop.\n",
    "        # Same steps as Training loops except loss backpropagation and weight update.\n",
    "        for i, data in enumerate(testloader, 0):\n",
    "            inputs, labels = data[0].to(device), data[1].to(device)\n",
    "\n",
    "            outputs = model.forward(inputs)\n",
    "            _, predicted = torch.max(outputs.data, 1)\n",
    "\n",
    "            stats.testing.correctSamples += torch.sum(predicted == labels).data.item()\n",
    "            stats.testing.numSamples += len(labels)\n",
    "\n",
    "            loss = criterion(outputs, labels)\n",
    "            stats.testing.lossSum += loss.cpu().data.item()\n",
    "\n",
    "\n",
    "        # Update stats.\n",
    "        stats.testing.update()\n",
    "        if epoch%2==0:  stats.print(epoch, timeElapsed=(datetime.now() - tSt).total_seconds())\n",
    "    print('Finished Training')\n",
    "    \n",
    "    #test_acc(testloader, model)\n",
    "    plot_stats(stats)\n",
    "    save_model(model_name, model)"
   ]
  },
  {
   "cell_type": "markdown",
   "metadata": {},
   "source": [
    "# Training for CNNs\n",
    "* define the two CNNs\n",
    "* define the train function\n",
    "* train them and check the results"
   ]
  },
  {
   "cell_type": "code",
   "execution_count": 5,
   "metadata": {
    "code_folding": [
     0,
     18,
     37,
     148
    ]
   },
   "outputs": [],
   "source": [
    "class Raw_CNN_Mnist(nn.Module):\n",
    "    def __init__(self):\n",
    "        super(Raw_CNN_Mnist, self).__init__()\n",
    "        self.conv1 = nn.Conv2d(1, 3, 5, padding=1, bias=True)\n",
    "        self.conv2 = nn.Conv2d(3, 12, 5, padding=1, bias=True)\n",
    "        self.m1 = nn.MaxPool2d(2)\n",
    "        self.m2 = nn.MaxPool2d(2)\n",
    "        self.fc1 = nn.Linear(12 * 5 * 5, 10, bias=True)\n",
    "\n",
    "    def forward(self, x):\n",
    "        x = F.relu(self.conv1(x)) \n",
    "        x = self.m1(x) \n",
    "        x = F.relu(self.conv2(x)) \n",
    "        x = self.m2(x) \n",
    "        x = x.view(-1, 12 * 5 * 5)    \n",
    "        x = self.fc1(x)\n",
    "        return F.log_softmax(x, dim=1)\n",
    "\n",
    "class Tailored_CNN_Mnist(nn.Module):\n",
    "    def __init__(self):\n",
    "        super(Tailored_CNN_Mnist, self).__init__()\n",
    "        self.conv1 = nn.Conv2d(1, 3, 5, padding=1, bias=False)\n",
    "        self.conv2 = nn.Conv2d(3, 12, 5, padding=1, bias=False)\n",
    "        self.a1 = nn.AvgPool2d(2)\n",
    "        self.a2 = nn.AvgPool2d(2)\n",
    "        self.fc1 = nn.Linear(12 * 5 * 5, 10, bias=False)\n",
    "\n",
    "    def forward(self, x):\n",
    "        x = F.relu(self.conv1(x))\n",
    "        x = self.a1(x)\n",
    "        x = F.relu(self.conv2(x))\n",
    "        x = self.a2(x)\n",
    "        x = x.view(-1, 12 * 5 * 5)   \n",
    "        x = self.fc1(x) \n",
    "        return F.log_softmax(x, dim=1)\n",
    "    \n",
    "# the learningStat class    \n",
    "class learningStat():\n",
    "    '''\n",
    "    This class collect the learning statistics over the epoch.\n",
    "\n",
    "    Usage:\n",
    "\n",
    "    This class is designed to be used with learningStats instance although it can be used separately.\n",
    "\n",
    "    >>> trainingStat = learningStat()\n",
    "    '''\n",
    "    def __init__(self):\n",
    "        self.lossSum = 0\n",
    "        self.correctSamples = 0\n",
    "        self.numSamples = 0\n",
    "        self.minloss = None\n",
    "        self.maxAccuracy = None\n",
    "        self.lossLog = []\n",
    "        self.accuracyLog = []\n",
    "        self.bestLoss = False\n",
    "        self.bestAccuracy = False\n",
    "\n",
    "    def reset(self):\n",
    "        '''\n",
    "        Reset the learning staistics. \n",
    "        This should usually be done before the start of an epoch so that new statistics counts can be accumulated.\n",
    "\n",
    "        Usage:\n",
    "\n",
    "        >>> trainingStat.reset()\n",
    "        '''\n",
    "        self.lossSum = 0\n",
    "        self.correctSamples = 0\n",
    "        self.numSamples = 0\n",
    "\n",
    "    def loss(self):\n",
    "        '''\n",
    "        Returns the average loss calculated from the point the stats was reset.\n",
    "\n",
    "        Usage:\n",
    "\n",
    "        >>> loss = trainingStat.loss()\n",
    "        '''\n",
    "        if self.numSamples > 0: \n",
    "            return self.lossSum/self.numSamples \n",
    "        else:   \n",
    "            return None\n",
    "\n",
    "    def accuracy(self):\n",
    "        '''\n",
    "        Returns the average accuracy calculated from the point the stats was reset.\n",
    "\n",
    "        Usage:\n",
    "\n",
    "        >>> accuracy = trainingStat.accuracy()\n",
    "        '''\n",
    "        if self.numSamples > 0 and self.correctSamples > 0:\n",
    "            return self.correctSamples/self.numSamples  \n",
    "        else:   \n",
    "            return None\n",
    "\n",
    "    def update(self):\n",
    "        '''\n",
    "        Updates the stats of the current session and resets the measures for next session.\n",
    "\n",
    "        Usage:\n",
    "\n",
    "        >>> trainingStat.update()\n",
    "        '''\n",
    "        currentLoss = self.loss()\n",
    "        self.lossLog.append(currentLoss)\n",
    "        if self.minloss is None:\n",
    "            self.minloss = currentLoss\n",
    "        else:\n",
    "            if currentLoss < self.minloss:\n",
    "                self.minloss = currentLoss\n",
    "                self.bestLoss = True\n",
    "            else:\n",
    "                self.bestLoss = False\n",
    "            # self.minloss = self.minloss if self.minloss < currentLoss else currentLoss\n",
    "\n",
    "        currentAccuracy = self.accuracy()\n",
    "        self.accuracyLog.append(currentAccuracy)\n",
    "        if self.maxAccuracy is None:\n",
    "            self.maxAccuracy = currentAccuracy\n",
    "        else:\n",
    "            if currentAccuracy > self.maxAccuracy:\n",
    "                self.maxAccuracy = currentAccuracy\n",
    "                self.bestAccuracy = True\n",
    "            else:\n",
    "                self.bestAccuracy = False\n",
    "            # self.maxAccuracy = self.maxAccuracy if self.maxAccuracy > currentAccuracy else currentAccuracy\n",
    "\n",
    "    def displayString(self):\n",
    "        loss = self.loss()\n",
    "        accuracy = self.accuracy()\n",
    "        minloss = self.minloss\n",
    "        maxAccuracy = self.maxAccuracy\n",
    "\n",
    "        if loss is None:    # no stats available\n",
    "            return None\n",
    "        elif accuracy is None: \n",
    "            if minloss is None: # accuracy and minloss stats is not available\n",
    "                return 'loss = %-12.5g'%(loss)\n",
    "            else:   # accuracy is not available but minloss is available\n",
    "                return 'loss = %-12.5g (min = %-12.5g)'%(loss, minloss)\n",
    "        else:\n",
    "            if minloss is None and maxAccuracy is None: # minloss and maxAccuracy is available\n",
    "                return 'loss = %-12.5g        %-12s   \\taccuracy = %-10.5g        %-10s '%(loss, ' ', accuracy, ' ')\n",
    "            else:   # all stats are available\n",
    "                return 'loss = %-12.5g (min = %-12.5g)  \\taccuracy = %-10.5g (max = %-10.5g)'%(loss, minloss, accuracy, maxAccuracy)\n",
    "\n",
    "class learningStats():\n",
    "    '''\n",
    "    This class provides mechanism to collect learning stats for training and testing, and displaying them efficiently.\n",
    "\n",
    "    Usage:\n",
    "\n",
    "    .. code-block:: python\n",
    "    \n",
    "        stats = learningStats()\n",
    "\n",
    "        for epoch in range(100):\n",
    "            tSt = datetime.now()\n",
    "\n",
    "            stats.training.reset()\n",
    "            for i in trainingLoop:\n",
    "                # other main stuffs\n",
    "                stats.training.correctSamples += numberOfCorrectClassification\n",
    "                stats.training.numSamples     += numberOfSamplesProcessed\n",
    "                stats.training.lossSum        += currentLoss\n",
    "                stats.print(epoch, i, (datetime.now() - tSt).total_seconds())\n",
    "            stats.training.update()\n",
    "\n",
    "            stats.testing.reset()\n",
    "            for i in testingLoop\n",
    "                # other main stuffs\n",
    "                stats.testing.correctSamples += numberOfCorrectClassification\n",
    "                stats.testing.numSamples     += numberOfSamplesProcessed\n",
    "                stats.testing.lossSum        += currentLoss\n",
    "                stats.print(epoch, i)\n",
    "            stats.training.update()\n",
    "\n",
    "    '''\n",
    "    def __init__(self):\n",
    "        self.linesPrinted = 0\n",
    "        self.training = learningStat()\n",
    "        self.testing  = learningStat()\n",
    "\n",
    "    def update(self):\n",
    "        '''\n",
    "        Updates the stats for training and testing and resets the measures for next session.\n",
    "\n",
    "        Usage:\n",
    "\n",
    "        >>> stats.update()\n",
    "        '''\n",
    "        self.training.update()\n",
    "        self.training.reset()\n",
    "        self.testing.update()\n",
    "        self.testing.reset()\n",
    "\n",
    "    def print(self, epoch, iter=None, timeElapsed=None):\n",
    "        '''\n",
    "        Prints the available learning statistics from the current session on the console.\n",
    "        For Linux systems, prints the data on same terminal space (might not work properly on other systems).\n",
    "\n",
    "        Arguments:\n",
    "            * ``epoch``: epoch counter to display (required).\n",
    "            * ``iter``: iteration counter to display (not required).\n",
    "            * ``timeElapsed``: runtime information (not required).\n",
    "\n",
    "        Usage:\n",
    "\n",
    "        .. code-block:: python\n",
    "\n",
    "            # prints stats with epoch index provided\n",
    "            stats.print(epoch) \n",
    "\n",
    "            # prints stats with epoch index and iteration index provided\n",
    "            stats.print(epoch, iter=i) \n",
    "            \n",
    "            # prints stats with epoch index, iteration index and time elapsed information provided\n",
    "            stats.print(epoch, iter=i, timeElapsed=time) \n",
    "        '''\n",
    "        print('\\033[%dA'%(self.linesPrinted))\n",
    "        \n",
    "        self.linesPrinted = 1\n",
    "\n",
    "        epochStr   = 'Epoch : %10d'%(epoch)\n",
    "        iterStr    = '' if iter is None else '(i = %7d)'%(iter)\n",
    "        profileStr = '' if timeElapsed is None else ', %12.4f ms elapsed'%(timeElapsed * 1000)\n",
    "\n",
    "        print(epochStr + iterStr + profileStr)\n",
    "        print(self.training.displayString())\n",
    "        self.linesPrinted += 2\n",
    "        if self.testing.displayString() is not None:\n",
    "            print(self.testing.displayString())\n",
    "            self.linesPrinted += 1\n",
    "\n",
    "    def plot(self, figures=(1, 2), saveFig=False, path=''):\n",
    "        '''\n",
    "        Plots the available learning statistics.\n",
    "\n",
    "        Arguments:\n",
    "            * ``figures``: Index of figure ID to plot on. Default is figure(1) for loss plot and figure(2) for accuracy plot.\n",
    "            * ``saveFig``(``bool``): flag to save figure into a file.\n",
    "            * ``path``: path to save the file. Defaule is ``''``.\n",
    "\n",
    "        Usage:\n",
    "\n",
    "        .. code-block:: python\n",
    "\n",
    "            # plot stats\n",
    "            stats.plot() \n",
    "\n",
    "            # plot stats figures specified\n",
    "            stats.print(figures=(10, 11)) \n",
    "        '''\n",
    "        plt.figure(figures[0])\n",
    "        plt.cla()\n",
    "        if len(self.training.lossLog) > 0:\n",
    "            plt.semilogy(self.training.lossLog, label='Training')\n",
    "        if len(self.testing.lossLog) > 0:\n",
    "            plt.semilogy(self.testing .lossLog, label='Testing')\n",
    "        plt.xlabel('Epoch')\n",
    "        plt.ylabel('Loss')\n",
    "        plt.legend()\n",
    "        if saveFig is True: \n",
    "            plt.savefig(path + 'loss.png')\n",
    "            # plt.close()\n",
    "\n",
    "        plt.figure(figures[1])\n",
    "        plt.cla()\n",
    "        if len(self.training.accuracyLog) > 0:\n",
    "            plt.plot(self.training.accuracyLog, label='Training')\n",
    "        if len(self.testing.accuracyLog) > 0:\n",
    "            plt.plot(self.testing .accuracyLog, label='Testing')\n",
    "        plt.xlabel('Epoch')\n",
    "        plt.ylabel('Accuracy')\n",
    "        plt.legend() \n",
    "        if saveFig is True: \n",
    "            plt.savefig(path + 'accuracy.png')\n",
    "            # plt.close()\n",
    "\n",
    "    def save(self, filename=''):\n",
    "        '''\n",
    "        Saves the learning satatistics logs.\n",
    "\n",
    "        Arguments:\n",
    "            * ``filename``: filename to save the logs. ``accuracy.txt`` and ``loss.txt`` will be appended\n",
    "\n",
    "        Usage:\n",
    "\n",
    "        .. code-block:: python\n",
    "\n",
    "            # save stats\n",
    "            stats.save() \n",
    "\n",
    "            # save stats filename specified\n",
    "            stats.save(filename='Run101-0.001-') # Run101-0.001-accuracy.txt and Run101-0.001-loss.txt\n",
    "        '''\n",
    "\n",
    "        with open(filename + 'loss.txt', 'wt') as loss:\n",
    "            loss.write('#%11s %11s\\r\\n'%('Train', 'Test'))\n",
    "            for i in range(len(self.training.lossLog)): \n",
    "                loss.write('%12.6g %12.6g \\r\\n'%(self.training.lossLog[i], self.testing.lossLog[i]))\n",
    "\n",
    "        with open(filename + 'accuracy.txt', 'wt') as accuracy:\n",
    "            accuracy.write('#%11s %11s\\r\\n'%('Train', 'Test'))\n",
    "            if self.training.accuracyLog != [None]*len(self.training.accuracyLog):\n",
    "                for i in range(len(self.training.accuracyLog)): \n",
    "                    accuracy.write('%12.6g %12.6g \\r\\n'%(self.training.accuracyLog[i], self.testing.accuracyLog[i]))"
   ]
  },
  {
   "cell_type": "markdown",
   "metadata": {},
   "source": [
    "## experiment MNIST\n",
    "* We used two versions of dataset sizes for the experiments, since the Slayer model takes long time to train, and we train it on small dataset size (500 samples). We trained the raw CNN and tailored CNN on small size dataset to keep the consistency with the slayer, and train them on full size dataset to check how raw CNN, tailored CNN and the SNN with transfered weights perform differently."
   ]
  },
  {
   "cell_type": "code",
   "execution_count": 6,
   "metadata": {},
   "outputs": [],
   "source": [
    "class MNIST500(Dataset):\n",
    "    def __init__(self, datasetPath, train=False):\n",
    "        self.path = datasetPath\n",
    "        ds = MNIST(datasetPath, train=train, download=True, transform=transforms.Compose([\n",
    "            transforms.ToTensor()]))\n",
    "        self.samples = [ds[i] for i in range(0, 500)]\n",
    "\n",
    "    def __getitem__(self, index):\n",
    "        x, y = self.samples[index]\n",
    "        return x, y\n",
    "\n",
    "    def __len__(self):\n",
    "        return len(self.samples)\n",
    "    \n",
    "class FashionMNIST500(Dataset):\n",
    "    def __init__(self, datasetPath, train=False):\n",
    "        self.path = datasetPath\n",
    "        ds = FashionMNIST(datasetPath, train=train, download=True, transform=transforms.Compose([\n",
    "            transforms.ToTensor()]))\n",
    "        self.samples = [ds[i] for i in range(0, 500)]\n",
    "\n",
    "    def __getitem__(self, index):\n",
    "        x, y = self.samples[index]\n",
    "        return x, y\n",
    "\n",
    "    def __len__(self):\n",
    "        return len(self.samples)"
   ]
  },
  {
   "cell_type": "markdown",
   "metadata": {},
   "source": [
    "### for full size MNIST"
   ]
  },
  {
   "cell_type": "code",
   "execution_count": 7,
   "metadata": {},
   "outputs": [],
   "source": [
    "trainset_cnn = MNIST(root='./data', train=True, transform=transforms.Compose([\n",
    "            transforms.ToTensor()]))\n",
    "\n",
    "trainloader_cnn = torch.utils.data.DataLoader(trainset_cnn, batch_size=BATCH_SIZE,\n",
    "                                          shuffle=True, num_workers=NUM_WORKERS)\n",
    "\n",
    "testset_cnn = MNIST(root='./data', train=False, transform=transforms.Compose([\n",
    "            transforms.ToTensor()]))\n",
    "\n",
    "testloader_cnn = torch.utils.data.DataLoader(testset_cnn, batch_size=BATCH_SIZE,\n",
    "                                         shuffle=False, num_workers=NUM_WORKERS)"
   ]
  },
  {
   "cell_type": "code",
   "execution_count": 8,
   "metadata": {},
   "outputs": [
    {
     "name": "stdout",
     "output_type": "stream",
     "text": [
      "60000\n"
     ]
    },
    {
     "data": {
      "image/png": "[encoded data removed]",
      "text/plain": [
       "<Figure size 432x288 with 1 Axes>"
      ]
     },
     "metadata": {
      "needs_background": "light"
     },
     "output_type": "display_data"
    },
    {
     "data": {
      "image/png": "[encoded data removed]",
      "text/plain": [
       "<Figure size 432x288 with 1 Axes>"
      ]
     },
     "metadata": {
      "needs_background": "light"
     },
     "output_type": "display_data"
    }
   ],
   "source": [
    "# check if we choose the correct dataset\n",
    "print(len(trainset_cnn))\n",
    "plt.imshow(next(iter(trainloader_cnn))[0][0].squeeze(), cmap='gray')\n",
    "plt.show()\n",
    "\n",
    "plt.imshow(next(iter(testloader_cnn))[0][0].squeeze(), cmap='gray')\n",
    "plt.show()"
   ]
  },
  {
   "cell_type": "markdown",
   "metadata": {},
   "source": [
    "* train the raw CNN on MNIST"
   ]
  },
  {
   "cell_type": "code",
   "execution_count": 9,
   "metadata": {
    "scrolled": true
   },
   "outputs": [
    {
     "name": "stderr",
     "output_type": "stream",
     "text": [
      "  3%|▎         | 1/30 [00:12<05:49, 12.04s/it]"
     ]
    },
    {
     "name": "stdout",
     "output_type": "stream",
     "text": [
      "\u001b[0A\n",
      "Epoch :          0,   12035.6100 ms elapsed\n",
      "loss = 0.0088273    (min = 0.0088273   )  \taccuracy = 0.91478    (max = 0.91478   )\n",
      "loss = 0.0026293    (min = 0.0026293   )  \taccuracy = 0.9753     (max = 0.9753    )\n"
     ]
    },
    {
     "name": "stderr",
     "output_type": "stream",
     "text": [
      " 10%|█         | 3/30 [00:37<05:33, 12.36s/it]"
     ]
    },
    {
     "name": "stdout",
     "output_type": "stream",
     "text": [
      "\u001b[4A\n",
      "Epoch :          2,   12839.7760 ms elapsed\n",
      "loss = 0.002099     (min = 0.002099    )  \taccuracy = 0.97958    (max = 0.97958   )\n",
      "loss = 0.0015369    (min = 0.0015369   )  \taccuracy = 0.9839     (max = 0.9839    )\n"
     ]
    },
    {
     "name": "stderr",
     "output_type": "stream",
     "text": [
      " 17%|█▋        | 5/30 [01:02<05:10, 12.43s/it]"
     ]
    },
    {
     "name": "stdout",
     "output_type": "stream",
     "text": [
      "\u001b[4A\n",
      "Epoch :          4,   12181.3970 ms elapsed\n",
      "loss = 0.0015742    (min = 0.0015742   )  \taccuracy = 0.9844     (max = 0.9844    )\n",
      "loss = 0.0013805    (min = 0.0013805   )  \taccuracy = 0.9868     (max = 0.9868    )\n"
     ]
    },
    {
     "name": "stderr",
     "output_type": "stream",
     "text": [
      " 23%|██▎       | 7/30 [01:27<04:45, 12.43s/it]"
     ]
    },
    {
     "name": "stdout",
     "output_type": "stream",
     "text": [
      "\u001b[4A\n",
      "Epoch :          6,   12250.6260 ms elapsed\n",
      "loss = 0.0012952    (min = 0.0012952   )  \taccuracy = 0.98673    (max = 0.98673   )\n",
      "loss = 0.0016885    (min = 0.0012826   )  \taccuracy = 0.9823     (max = 0.9869    )\n"
     ]
    },
    {
     "name": "stderr",
     "output_type": "stream",
     "text": [
      " 30%|███       | 9/30 [01:51<04:19, 12.35s/it]"
     ]
    },
    {
     "name": "stdout",
     "output_type": "stream",
     "text": [
      "\u001b[4A\n",
      "Epoch :          8,   12177.0990 ms elapsed\n",
      "loss = 0.0011093    (min = 0.0011093   )  \taccuracy = 0.98862    (max = 0.98862   )\n",
      "loss = 0.0014096    (min = 0.0012826   )  \taccuracy = 0.9854     (max = 0.9869    )\n"
     ]
    },
    {
     "name": "stderr",
     "output_type": "stream",
     "text": [
      " 37%|███▋      | 11/30 [02:16<03:52, 12.24s/it]"
     ]
    },
    {
     "name": "stdout",
     "output_type": "stream",
     "text": [
      "\u001b[4A\n",
      "Epoch :         10,   12370.5490 ms elapsed\n",
      "loss = 0.0009686    (min = 0.0009686   )  \taccuracy = 0.99047    (max = 0.99047   )\n",
      "loss = 0.0012847    (min = 0.0012826   )  \taccuracy = 0.9877     (max = 0.9878    )\n"
     ]
    },
    {
     "name": "stderr",
     "output_type": "stream",
     "text": [
      " 43%|████▎     | 13/30 [02:41<03:31, 12.46s/it]"
     ]
    },
    {
     "name": "stdout",
     "output_type": "stream",
     "text": [
      "\u001b[4A\n",
      "Epoch :         12,   12805.2560 ms elapsed\n",
      "loss = 0.0008788    (min = 0.0008788   )  \taccuracy = 0.99117    (max = 0.99117   )\n",
      "loss = 0.0013783    (min = 0.0012017   )  \taccuracy = 0.9864     (max = 0.988     )\n"
     ]
    },
    {
     "name": "stderr",
     "output_type": "stream",
     "text": [
      " 50%|█████     | 15/30 [03:06<03:05, 12.37s/it]"
     ]
    },
    {
     "name": "stdout",
     "output_type": "stream",
     "text": [
      "\u001b[4A\n",
      "Epoch :         14,   12118.5320 ms elapsed\n",
      "loss = 0.00077356   (min = 0.00077356  )  \taccuracy = 0.99193    (max = 0.99193   )\n",
      "loss = 0.0012041    (min = 0.0012017   )  \taccuracy = 0.9883     (max = 0.989     )\n"
     ]
    },
    {
     "name": "stderr",
     "output_type": "stream",
     "text": [
      " 57%|█████▋    | 17/30 [03:29<02:38, 12.17s/it]"
     ]
    },
    {
     "name": "stdout",
     "output_type": "stream",
     "text": [
      "\u001b[4A\n",
      "Epoch :         16,   11940.4080 ms elapsed\n",
      "loss = 0.00072891   (min = 0.00072891  )  \taccuracy = 0.99228    (max = 0.99228   )\n",
      "loss = 0.0013091    (min = 0.0012017   )  \taccuracy = 0.989      (max = 0.989     )\n"
     ]
    },
    {
     "name": "stderr",
     "output_type": "stream",
     "text": [
      " 63%|██████▎   | 19/30 [03:55<02:15, 12.36s/it]"
     ]
    },
    {
     "name": "stdout",
     "output_type": "stream",
     "text": [
      "\u001b[4A\n",
      "Epoch :         18,   12460.3740 ms elapsed\n",
      "loss = 0.00061216   (min = 0.00061216  )  \taccuracy = 0.99367    (max = 0.99367   )\n",
      "loss = 0.0015893    (min = 0.0012017   )  \taccuracy = 0.9865     (max = 0.989     )\n"
     ]
    },
    {
     "name": "stderr",
     "output_type": "stream",
     "text": [
      " 70%|███████   | 21/30 [04:19<01:50, 12.32s/it]"
     ]
    },
    {
     "name": "stdout",
     "output_type": "stream",
     "text": [
      "\u001b[4A\n",
      "Epoch :         20,   12285.4910 ms elapsed\n",
      "loss = 0.0005901    (min = 0.0005901   )  \taccuracy = 0.99373    (max = 0.99373   )\n",
      "loss = 0.0012665    (min = 0.0012017   )  \taccuracy = 0.9887     (max = 0.989     )\n"
     ]
    },
    {
     "name": "stderr",
     "output_type": "stream",
     "text": [
      " 77%|███████▋  | 23/30 [04:44<01:26, 12.39s/it]"
     ]
    },
    {
     "name": "stdout",
     "output_type": "stream",
     "text": [
      "\u001b[4A\n",
      "Epoch :         22,   12110.1340 ms elapsed\n",
      "loss = 0.00054975   (min = 0.00054975  )  \taccuracy = 0.99393    (max = 0.99407   )\n",
      "loss = 0.0015998    (min = 0.0012017   )  \taccuracy = 0.9873     (max = 0.989     )\n"
     ]
    },
    {
     "name": "stderr",
     "output_type": "stream",
     "text": [
      " 83%|████████▎ | 25/30 [05:09<01:02, 12.42s/it]"
     ]
    },
    {
     "name": "stdout",
     "output_type": "stream",
     "text": [
      "\u001b[4A\n",
      "Epoch :         24,   12209.8740 ms elapsed\n",
      "loss = 0.00048562   (min = 0.00048562  )  \taccuracy = 0.99482    (max = 0.99487   )\n",
      "loss = 0.001663     (min = 0.0012017   )  \taccuracy = 0.9857     (max = 0.989     )\n"
     ]
    },
    {
     "name": "stderr",
     "output_type": "stream",
     "text": [
      " 90%|█████████ | 27/30 [05:33<00:36, 12.25s/it]"
     ]
    },
    {
     "name": "stdout",
     "output_type": "stream",
     "text": [
      "\u001b[4A\n",
      "Epoch :         26,   11998.0280 ms elapsed\n",
      "loss = 0.00048399   (min = 0.00048399  )  \taccuracy = 0.9945     (max = 0.99487   )\n",
      "loss = 0.001468     (min = 0.0012017   )  \taccuracy = 0.9873     (max = 0.989     )\n"
     ]
    },
    {
     "name": "stderr",
     "output_type": "stream",
     "text": [
      " 97%|█████████▋| 29/30 [05:59<00:12, 12.47s/it]"
     ]
    },
    {
     "name": "stdout",
     "output_type": "stream",
     "text": [
      "\u001b[4A\n",
      "Epoch :         28,   12741.1530 ms elapsed\n",
      "loss = 0.00042797   (min = 0.00042797  )  \taccuracy = 0.9957     (max = 0.9957    )\n",
      "loss = 0.0016742    (min = 0.0012017   )  \taccuracy = 0.9872     (max = 0.989     )\n"
     ]
    },
    {
     "name": "stderr",
     "output_type": "stream",
     "text": [
      "100%|██████████| 30/30 [06:10<00:00, 12.25s/it]\n"
     ]
    },
    {
     "name": "stdout",
     "output_type": "stream",
     "text": [
      "Finished Training\n"
     ]
    },
    {
     "data": {
      "image/png": "[encoded data removed]",
      "text/plain": [
       "<Figure size 432x288 with 1 Axes>"
      ]
     },
     "metadata": {
      "needs_background": "light"
     },
     "output_type": "display_data"
    },
    {
     "data": {
      "image/png": "[encoded data removed]",
      "text/plain": [
       "<Figure size 432x288 with 1 Axes>"
      ]
     },
     "metadata": {
      "needs_background": "light"
     },
     "output_type": "display_data"
    },
    {
     "name": "stdout",
     "output_type": "stream",
     "text": [
      "Saving models...\n",
      "The classification accuracy:  0.9856\n",
      "\n"
     ]
    },
    {
     "data": {
      "image/png": "[encoded data removed]",
      "text/plain": [
       "<Figure size 432x288 with 2 Axes>"
      ]
     },
     "metadata": {
      "needs_background": "light"
     },
     "output_type": "display_data"
    }
   ],
   "source": [
    "raw_cnn_mnist = Raw_CNN_Mnist().to(device)\n",
    "\n",
    "raw_criterion = nn.CrossEntropyLoss()\n",
    "raw_optimizer = optim.Adam(raw_cnn_mnist.parameters(), lr=0.001)\n",
    "raw_stats = learningStats()\n",
    "\n",
    "train(raw_cnn_mnist,'raw_cnn_mnist',\n",
    "      trainloader_cnn,testloader_cnn,\n",
    "      raw_criterion, \n",
    "      raw_optimizer,\n",
    "      raw_stats,\n",
    "      epoch=EPOCH)\n",
    "\n",
    "y_true, y_pred = get_labels(raw_cnn_mnist, testloader_cnn, snn=False)\n",
    "test_method(y_true.cpu().numpy(), y_pred.cpu().numpy())"
   ]
  },
  {
   "cell_type": "markdown",
   "metadata": {},
   "source": [
    "* train the trailored CNN on MNIST"
   ]
  },
  {
   "cell_type": "code",
   "execution_count": 10,
   "metadata": {
    "scrolled": true
   },
   "outputs": [
    {
     "name": "stderr",
     "output_type": "stream",
     "text": [
      "  3%|▎         | 1/30 [00:12<06:08, 12.71s/it]"
     ]
    },
    {
     "name": "stdout",
     "output_type": "stream",
     "text": [
      "\u001b[0A\n",
      "Epoch :          0,   12711.7930 ms elapsed\n",
      "loss = 0.010878     (min = 0.010878    )  \taccuracy = 0.89515    (max = 0.89515   )\n",
      "loss = 0.0043183    (min = 0.0043183   )  \taccuracy = 0.958      (max = 0.958     )\n"
     ]
    },
    {
     "name": "stderr",
     "output_type": "stream",
     "text": [
      " 10%|█         | 3/30 [00:36<05:34, 12.40s/it]"
     ]
    },
    {
     "name": "stdout",
     "output_type": "stream",
     "text": [
      "\u001b[4A\n",
      "Epoch :          2,   11881.4220 ms elapsed\n",
      "loss = 0.0028035    (min = 0.0028035   )  \taccuracy = 0.97237    (max = 0.97237   )\n",
      "loss = 0.0021418    (min = 0.0021418   )  \taccuracy = 0.9781     (max = 0.9781    )\n"
     ]
    },
    {
     "name": "stderr",
     "output_type": "stream",
     "text": [
      " 17%|█▋        | 5/30 [01:01<05:06, 12.25s/it]"
     ]
    },
    {
     "name": "stdout",
     "output_type": "stream",
     "text": [
      "\u001b[4A\n",
      "Epoch :          4,   12143.3920 ms elapsed\n",
      "loss = 0.0019923    (min = 0.0019923   )  \taccuracy = 0.98095    (max = 0.98095   )\n",
      "loss = 0.00178      (min = 0.00178     )  \taccuracy = 0.9819     (max = 0.9819    )\n"
     ]
    },
    {
     "name": "stderr",
     "output_type": "stream",
     "text": [
      " 23%|██▎       | 7/30 [01:26<04:46, 12.47s/it]"
     ]
    },
    {
     "name": "stdout",
     "output_type": "stream",
     "text": [
      "\u001b[4A\n",
      "Epoch :          6,   12528.9660 ms elapsed\n",
      "loss = 0.001599     (min = 0.001599    )  \taccuracy = 0.98407    (max = 0.98407   )\n",
      "loss = 0.0014042    (min = 0.0014042   )  \taccuracy = 0.9864     (max = 0.9864    )\n"
     ]
    },
    {
     "name": "stderr",
     "output_type": "stream",
     "text": [
      " 30%|███       | 9/30 [01:51<04:24, 12.57s/it]"
     ]
    },
    {
     "name": "stdout",
     "output_type": "stream",
     "text": [
      "\u001b[4A\n",
      "Epoch :          8,   12826.9770 ms elapsed\n",
      "loss = 0.0013755    (min = 0.0013755   )  \taccuracy = 0.98668    (max = 0.98668   )\n",
      "loss = 0.0013106    (min = 0.0013106   )  \taccuracy = 0.9869     (max = 0.9869    )\n"
     ]
    },
    {
     "name": "stderr",
     "output_type": "stream",
     "text": [
      " 37%|███▋      | 11/30 [02:17<03:59, 12.60s/it]"
     ]
    },
    {
     "name": "stdout",
     "output_type": "stream",
     "text": [
      "\u001b[4A\n",
      "Epoch :         10,   12229.8570 ms elapsed\n",
      "loss = 0.0011973    (min = 0.0011973   )  \taccuracy = 0.98813    (max = 0.98813   )\n",
      "loss = 0.0016213    (min = 0.0013106   )  \taccuracy = 0.984      (max = 0.9869    )\n"
     ]
    },
    {
     "name": "stderr",
     "output_type": "stream",
     "text": [
      " 43%|████▎     | 13/30 [02:43<03:38, 12.87s/it]"
     ]
    },
    {
     "name": "stdout",
     "output_type": "stream",
     "text": [
      "\u001b[4A\n",
      "Epoch :         12,   13399.7860 ms elapsed\n",
      "loss = 0.001078     (min = 0.001078    )  \taccuracy = 0.98943    (max = 0.98943   )\n",
      "loss = 0.0014717    (min = 0.0012791   )  \taccuracy = 0.9851     (max = 0.9874    )\n"
     ]
    },
    {
     "name": "stderr",
     "output_type": "stream",
     "text": [
      " 50%|█████     | 15/30 [03:08<03:12, 12.82s/it]"
     ]
    },
    {
     "name": "stdout",
     "output_type": "stream",
     "text": [
      "\u001b[4A\n",
      "Epoch :         14,   12806.1160 ms elapsed\n",
      "loss = 0.0010071    (min = 0.0010071   )  \taccuracy = 0.98975    (max = 0.98975   )\n",
      "loss = 0.0012806    (min = 0.0012354   )  \taccuracy = 0.9865     (max = 0.9874    )\n"
     ]
    },
    {
     "name": "stderr",
     "output_type": "stream",
     "text": [
      " 57%|█████▋    | 17/30 [03:34<02:45, 12.70s/it]"
     ]
    },
    {
     "name": "stdout",
     "output_type": "stream",
     "text": [
      "\u001b[4A\n",
      "Epoch :         16,   12688.0670 ms elapsed\n",
      "loss = 0.00093503   (min = 0.00093503  )  \taccuracy = 0.99062    (max = 0.99062   )\n",
      "loss = 0.0013335    (min = 0.0012354   )  \taccuracy = 0.986      (max = 0.9874    )\n"
     ]
    },
    {
     "name": "stderr",
     "output_type": "stream",
     "text": [
      " 63%|██████▎   | 19/30 [04:01<02:23, 13.05s/it]"
     ]
    },
    {
     "name": "stdout",
     "output_type": "stream",
     "text": [
      "\u001b[4A\n",
      "Epoch :         18,   12965.3830 ms elapsed\n",
      "loss = 0.0008673    (min = 0.0008673   )  \taccuracy = 0.99158    (max = 0.99158   )\n",
      "loss = 0.001227     (min = 0.001227    )  \taccuracy = 0.9881     (max = 0.9881    )\n"
     ]
    },
    {
     "name": "stderr",
     "output_type": "stream",
     "text": [
      " 70%|███████   | 21/30 [04:25<01:54, 12.67s/it]"
     ]
    },
    {
     "name": "stdout",
     "output_type": "stream",
     "text": [
      "\u001b[4A\n",
      "Epoch :         20,   12439.9660 ms elapsed\n",
      "loss = 0.00081363   (min = 0.00081363  )  \taccuracy = 0.99168    (max = 0.99168   )\n",
      "loss = 0.0012357    (min = 0.001227    )  \taccuracy = 0.988      (max = 0.9881    )\n"
     ]
    },
    {
     "name": "stderr",
     "output_type": "stream",
     "text": [
      " 77%|███████▋  | 23/30 [04:50<01:27, 12.51s/it]"
     ]
    },
    {
     "name": "stdout",
     "output_type": "stream",
     "text": [
      "\u001b[4A\n",
      "Epoch :         22,   12454.0510 ms elapsed\n",
      "loss = 0.00075703   (min = 0.00075703  )  \taccuracy = 0.99188    (max = 0.99217   )\n",
      "loss = 0.001541     (min = 0.001227    )  \taccuracy = 0.9848     (max = 0.9881    )\n"
     ]
    },
    {
     "name": "stderr",
     "output_type": "stream",
     "text": [
      " 83%|████████▎ | 25/30 [05:15<01:03, 12.71s/it]"
     ]
    },
    {
     "name": "stdout",
     "output_type": "stream",
     "text": [
      "\u001b[4A\n",
      "Epoch :         24,   13053.7760 ms elapsed\n",
      "loss = 0.00073053   (min = 0.00073053  )  \taccuracy = 0.99247    (max = 0.99247   )\n",
      "loss = 0.0014415    (min = 0.001227    )  \taccuracy = 0.9863     (max = 0.9881    )\n"
     ]
    },
    {
     "name": "stderr",
     "output_type": "stream",
     "text": [
      " 90%|█████████ | 27/30 [05:41<00:38, 12.72s/it]"
     ]
    },
    {
     "name": "stdout",
     "output_type": "stream",
     "text": [
      "\u001b[4A\n",
      "Epoch :         26,   12606.8670 ms elapsed\n",
      "loss = 0.00068124   (min = 0.00068124  )  \taccuracy = 0.9926     (max = 0.99285   )\n",
      "loss = 0.0013533    (min = 0.001227    )  \taccuracy = 0.9869     (max = 0.9881    )\n"
     ]
    },
    {
     "name": "stderr",
     "output_type": "stream",
     "text": [
      " 97%|█████████▋| 29/30 [06:06<00:12, 12.71s/it]"
     ]
    },
    {
     "name": "stdout",
     "output_type": "stream",
     "text": [
      "\u001b[4A\n",
      "Epoch :         28,   12785.7030 ms elapsed\n",
      "loss = 0.00063123   (min = 0.00063123  )  \taccuracy = 0.99343    (max = 0.99343   )\n",
      "loss = 0.0014281    (min = 0.001227    )  \taccuracy = 0.9864     (max = 0.9881    )\n"
     ]
    },
    {
     "name": "stderr",
     "output_type": "stream",
     "text": [
      "100%|██████████| 30/30 [06:18<00:00, 12.50s/it]\n"
     ]
    },
    {
     "name": "stdout",
     "output_type": "stream",
     "text": [
      "Finished Training\n"
     ]
    },
    {
     "data": {
      "image/png": "[encoded data removed]",
      "text/plain": [
       "<Figure size 432x288 with 1 Axes>"
      ]
     },
     "metadata": {
      "needs_background": "light"
     },
     "output_type": "display_data"
    },
    {
     "data": {
      "image/png": "[encoded data removed]",
      "text/plain": [
       "<Figure size 432x288 with 1 Axes>"
      ]
     },
     "metadata": {
      "needs_background": "light"
     },
     "output_type": "display_data"
    },
    {
     "name": "stdout",
     "output_type": "stream",
     "text": [
      "Saving models...\n",
      "The classification accuracy:  0.9851\n",
      "\n"
     ]
    },
    {
     "data": {
      "image/png": "[encoded data removed]",
      "text/plain": [
       "<Figure size 432x288 with 2 Axes>"
      ]
     },
     "metadata": {
      "needs_background": "light"
     },
     "output_type": "display_data"
    }
   ],
   "source": [
    "tailored_cnn_mnist = Tailored_CNN_Mnist().to(device)\n",
    "\n",
    "t_criterion = nn.CrossEntropyLoss()\n",
    "t_optimizer = optim.Adam(tailored_cnn_mnist.parameters(), lr=0.001)\n",
    "t_stats = learningStats()\n",
    "\n",
    "train(tailored_cnn_mnist,'tailor_cnn_mnist', \n",
    "      trainloader_cnn,testloader_cnn, \n",
    "      t_criterion, \n",
    "      t_optimizer,\n",
    "      t_stats,\n",
    "      epoch=EPOCH)\n",
    "\n",
    "y_true, y_pred = get_labels(tailored_cnn_mnist, testloader_cnn, snn=False)\n",
    "test_method(y_true.cpu().numpy(), y_pred.cpu().numpy())"
   ]
  },
  {
   "cell_type": "markdown",
   "metadata": {},
   "source": [
    "### for small size SMNIST"
   ]
  },
  {
   "cell_type": "code",
   "execution_count": 11,
   "metadata": {},
   "outputs": [],
   "source": [
    "trainset_cnn = MNIST500('./data', train=True)\n",
    "\n",
    "trainloader_cnn = torch.utils.data.DataLoader(trainset_cnn, batch_size=BATCH_SIZE,\n",
    "                                          shuffle=True, num_workers=NUM_WORKERS)\n",
    "\n",
    "testset_cnn = MNIST500('./data', train=False)\n",
    "\n",
    "testloader_cnn = torch.utils.data.DataLoader(testset_cnn, batch_size=BATCH_SIZE,\n",
    "                                         shuffle=False, num_workers=NUM_WORKERS)"
   ]
  },
  {
   "cell_type": "markdown",
   "metadata": {},
   "source": [
    "* train the raw CNN on SMNIST"
   ]
  },
  {
   "cell_type": "code",
   "execution_count": 13,
   "metadata": {
    "code_folding": [],
    "scrolled": true
   },
   "outputs": [
    {
     "name": "stderr",
     "output_type": "stream",
     "text": [
      "  1%|          | 1/100 [00:00<00:37,  2.64it/s]"
     ]
    },
    {
     "name": "stdout",
     "output_type": "stream",
     "text": [
      "\u001b[0A\n",
      "Epoch :          0,     377.9150 ms elapsed\n",
      "loss = 0.073066     (min = 0.073066    )  \taccuracy = 0.194      (max = 0.194     )\n",
      "loss = 0.072009     (min = 0.072009    )  \taccuracy = 0.322      (max = 0.322     )\n"
     ]
    },
    {
     "name": "stderr",
     "output_type": "stream",
     "text": [
      "  3%|▎         | 3/100 [00:01<00:35,  2.73it/s]"
     ]
    },
    {
     "name": "stdout",
     "output_type": "stream",
     "text": [
      "\u001b[4A\n",
      "Epoch :          2,     344.2660 ms elapsed\n",
      "loss = 0.060105     (min = 0.060105    )  \taccuracy = 0.636      (max = 0.636     )\n",
      "loss = 0.055489     (min = 0.055489    )  \taccuracy = 0.578      (max = 0.578     )\n"
     ]
    },
    {
     "name": "stderr",
     "output_type": "stream",
     "text": [
      "  5%|▌         | 5/100 [00:01<00:34,  2.76it/s]"
     ]
    },
    {
     "name": "stdout",
     "output_type": "stream",
     "text": [
      "\u001b[4A\n",
      "Epoch :          4,     353.4050 ms elapsed\n",
      "loss = 0.029311     (min = 0.029311    )  \taccuracy = 0.798      (max = 0.798     )\n",
      "loss = 0.032222     (min = 0.032222    )  \taccuracy = 0.648      (max = 0.648     )\n"
     ]
    },
    {
     "name": "stderr",
     "output_type": "stream",
     "text": [
      "  7%|▋         | 7/100 [00:02<00:33,  2.79it/s]"
     ]
    },
    {
     "name": "stdout",
     "output_type": "stream",
     "text": [
      "\u001b[4A\n",
      "Epoch :          6,     345.6660 ms elapsed\n",
      "loss = 0.017417     (min = 0.017417    )  \taccuracy = 0.864      (max = 0.864     )\n",
      "loss = 0.022292     (min = 0.022292    )  \taccuracy = 0.784      (max = 0.784     )\n"
     ]
    },
    {
     "name": "stderr",
     "output_type": "stream",
     "text": [
      "  9%|▉         | 9/100 [00:03<00:32,  2.78it/s]"
     ]
    },
    {
     "name": "stdout",
     "output_type": "stream",
     "text": [
      "\u001b[4A\n",
      "Epoch :          8,     349.1940 ms elapsed\n",
      "loss = 0.013371     (min = 0.013371    )  \taccuracy = 0.884      (max = 0.884     )\n",
      "loss = 0.018576     (min = 0.018576    )  \taccuracy = 0.798      (max = 0.798     )\n"
     ]
    },
    {
     "name": "stderr",
     "output_type": "stream",
     "text": [
      " 11%|█         | 11/100 [00:03<00:31,  2.81it/s]"
     ]
    },
    {
     "name": "stdout",
     "output_type": "stream",
     "text": [
      "\u001b[4A\n",
      "Epoch :         10,     349.4920 ms elapsed\n",
      "loss = 0.010996     (min = 0.010996    )  \taccuracy = 0.894      (max = 0.894     )\n",
      "loss = 0.015315     (min = 0.015315    )  \taccuracy = 0.824      (max = 0.824     )\n"
     ]
    },
    {
     "name": "stderr",
     "output_type": "stream",
     "text": [
      " 13%|█▎        | 13/100 [00:04<00:31,  2.76it/s]"
     ]
    },
    {
     "name": "stdout",
     "output_type": "stream",
     "text": [
      "\u001b[4A\n",
      "Epoch :         12,     354.6020 ms elapsed\n",
      "loss = 0.0097654    (min = 0.0097654   )  \taccuracy = 0.914      (max = 0.914     )\n",
      "loss = 0.015604     (min = 0.015315    )  \taccuracy = 0.836      (max = 0.836     )\n"
     ]
    },
    {
     "name": "stderr",
     "output_type": "stream",
     "text": [
      " 15%|█▌        | 15/100 [00:05<00:30,  2.80it/s]"
     ]
    },
    {
     "name": "stdout",
     "output_type": "stream",
     "text": [
      "\u001b[4A\n",
      "Epoch :         14,     358.0370 ms elapsed\n",
      "loss = 0.0079541    (min = 0.0079541   )  \taccuracy = 0.928      (max = 0.928     )\n",
      "loss = 0.012687     (min = 0.012687    )  \taccuracy = 0.854      (max = 0.854     )\n"
     ]
    },
    {
     "name": "stderr",
     "output_type": "stream",
     "text": [
      " 17%|█▋        | 17/100 [00:06<00:29,  2.83it/s]"
     ]
    },
    {
     "name": "stdout",
     "output_type": "stream",
     "text": [
      "\u001b[4A\n",
      "Epoch :         16,     347.1030 ms elapsed\n",
      "loss = 0.0075793    (min = 0.0073749   )  \taccuracy = 0.93       (max = 0.938     )\n",
      "loss = 0.011915     (min = 0.011915    )  \taccuracy = 0.866      (max = 0.866     )\n"
     ]
    },
    {
     "name": "stderr",
     "output_type": "stream",
     "text": [
      " 19%|█▉        | 19/100 [00:06<00:28,  2.85it/s]"
     ]
    },
    {
     "name": "stdout",
     "output_type": "stream",
     "text": [
      "\u001b[4A\n",
      "Epoch :         18,     343.2050 ms elapsed\n",
      "loss = 0.0064406    (min = 0.0064406   )  \taccuracy = 0.944      (max = 0.944     )\n",
      "loss = 0.011104     (min = 0.011104    )  \taccuracy = 0.88       (max = 0.88      )\n"
     ]
    },
    {
     "name": "stderr",
     "output_type": "stream",
     "text": [
      " 21%|██        | 21/100 [00:07<00:27,  2.85it/s]"
     ]
    },
    {
     "name": "stdout",
     "output_type": "stream",
     "text": [
      "\u001b[4A\n",
      "Epoch :         20,     340.0960 ms elapsed\n",
      "loss = 0.0055861    (min = 0.0055861   )  \taccuracy = 0.954      (max = 0.954     )\n",
      "loss = 0.010904     (min = 0.010904    )  \taccuracy = 0.878      (max = 0.88      )\n"
     ]
    },
    {
     "name": "stderr",
     "output_type": "stream",
     "text": [
      " 23%|██▎       | 23/100 [00:08<00:27,  2.83it/s]"
     ]
    },
    {
     "name": "stdout",
     "output_type": "stream",
     "text": [
      "\u001b[4A\n",
      "Epoch :         22,     349.1780 ms elapsed\n",
      "loss = 0.0047991    (min = 0.0047991   )  \taccuracy = 0.958      (max = 0.958     )\n",
      "loss = 0.010717     (min = 0.010717    )  \taccuracy = 0.872      (max = 0.88      )\n"
     ]
    },
    {
     "name": "stderr",
     "output_type": "stream",
     "text": [
      " 25%|██▌       | 25/100 [00:08<00:27,  2.72it/s]"
     ]
    },
    {
     "name": "stdout",
     "output_type": "stream",
     "text": [
      "\u001b[4A\n",
      "Epoch :         24,     384.1580 ms elapsed\n",
      "loss = 0.0039661    (min = 0.0039661   )  \taccuracy = 0.964      (max = 0.964     )\n",
      "loss = 0.0096849    (min = 0.0096849   )  \taccuracy = 0.898      (max = 0.898     )\n"
     ]
    },
    {
     "name": "stderr",
     "output_type": "stream",
     "text": [
      " 27%|██▋       | 27/100 [00:09<00:26,  2.71it/s]"
     ]
    },
    {
     "name": "stdout",
     "output_type": "stream",
     "text": [
      "\u001b[4A\n",
      "Epoch :         26,     375.8030 ms elapsed\n",
      "loss = 0.0034569    (min = 0.0034569   )  \taccuracy = 0.97       (max = 0.97      )\n",
      "loss = 0.009958     (min = 0.0096849   )  \taccuracy = 0.884      (max = 0.898     )\n"
     ]
    },
    {
     "name": "stderr",
     "output_type": "stream",
     "text": [
      " 29%|██▉       | 29/100 [00:10<00:26,  2.71it/s]"
     ]
    },
    {
     "name": "stdout",
     "output_type": "stream",
     "text": [
      "\u001b[4A\n",
      "Epoch :         28,     370.5850 ms elapsed\n",
      "loss = 0.0029147    (min = 0.0029147   )  \taccuracy = 0.98       (max = 0.98      )\n",
      "loss = 0.0099532    (min = 0.0096558   )  \taccuracy = 0.882      (max = 0.898     )\n"
     ]
    },
    {
     "name": "stderr",
     "output_type": "stream",
     "text": [
      " 31%|███       | 31/100 [00:11<00:25,  2.71it/s]"
     ]
    },
    {
     "name": "stdout",
     "output_type": "stream",
     "text": [
      "\u001b[4A\n",
      "Epoch :         30,     377.3150 ms elapsed\n",
      "loss = 0.0025863    (min = 0.0025863   )  \taccuracy = 0.978      (max = 0.984     )\n",
      "loss = 0.0096847    (min = 0.0096558   )  \taccuracy = 0.894      (max = 0.898     )\n"
     ]
    },
    {
     "name": "stderr",
     "output_type": "stream",
     "text": [
      " 33%|███▎      | 33/100 [00:11<00:25,  2.65it/s]"
     ]
    },
    {
     "name": "stdout",
     "output_type": "stream",
     "text": [
      "\u001b[4A\n",
      "Epoch :         32,     374.4660 ms elapsed\n",
      "loss = 0.0021265    (min = 0.0021265   )  \taccuracy = 0.99       (max = 0.99      )\n",
      "loss = 0.0096909    (min = 0.0090897   )  \taccuracy = 0.89       (max = 0.898     )\n"
     ]
    },
    {
     "name": "stderr",
     "output_type": "stream",
     "text": [
      " 35%|███▌      | 35/100 [00:12<00:24,  2.67it/s]"
     ]
    },
    {
     "name": "stdout",
     "output_type": "stream",
     "text": [
      "\u001b[4A\n",
      "Epoch :         34,     374.8320 ms elapsed\n",
      "loss = 0.001731     (min = 0.001731    )  \taccuracy = 0.996      (max = 0.996     )\n",
      "loss = 0.0099535    (min = 0.0089595   )  \taccuracy = 0.884      (max = 0.906     )\n"
     ]
    },
    {
     "name": "stderr",
     "output_type": "stream",
     "text": [
      " 37%|███▋      | 37/100 [00:13<00:23,  2.69it/s]"
     ]
    },
    {
     "name": "stdout",
     "output_type": "stream",
     "text": [
      "\u001b[4A\n",
      "Epoch :         36,     367.3420 ms elapsed\n",
      "loss = 0.0014674    (min = 0.0014674   )  \taccuracy = 0.994      (max = 0.996     )\n",
      "loss = 0.0090942    (min = 0.0089595   )  \taccuracy = 0.904      (max = 0.906     )\n"
     ]
    },
    {
     "name": "stderr",
     "output_type": "stream",
     "text": [
      " 39%|███▉      | 39/100 [00:14<00:22,  2.66it/s]"
     ]
    },
    {
     "name": "stdout",
     "output_type": "stream",
     "text": [
      "\u001b[4A\n",
      "Epoch :         38,     375.8850 ms elapsed\n",
      "loss = 0.0011973    (min = 0.0011973   )  \taccuracy = 0.996      (max = 0.996     )\n",
      "loss = 0.0092016    (min = 0.0089595   )  \taccuracy = 0.902      (max = 0.906     )\n"
     ]
    },
    {
     "name": "stderr",
     "output_type": "stream",
     "text": [
      " 41%|████      | 41/100 [00:14<00:21,  2.72it/s]"
     ]
    },
    {
     "name": "stdout",
     "output_type": "stream",
     "text": [
      "\u001b[4A\n",
      "Epoch :         40,     358.0320 ms elapsed\n",
      "loss = 0.0011456    (min = 0.0011456   )  \taccuracy = 1          (max = 1         )\n",
      "loss = 0.0092646    (min = 0.0089595   )  \taccuracy = 0.902      (max = 0.906     )\n"
     ]
    },
    {
     "name": "stderr",
     "output_type": "stream",
     "text": [
      " 43%|████▎     | 43/100 [00:15<00:20,  2.76it/s]"
     ]
    },
    {
     "name": "stdout",
     "output_type": "stream",
     "text": [
      "\u001b[4A\n",
      "Epoch :         42,     361.7160 ms elapsed\n",
      "loss = 0.00085961   (min = 0.00085961  )  \taccuracy = 1          (max = 1         )\n",
      "loss = 0.0094805    (min = 0.0089595   )  \taccuracy = 0.902      (max = 0.906     )\n"
     ]
    },
    {
     "name": "stderr",
     "output_type": "stream",
     "text": [
      " 45%|████▌     | 45/100 [00:16<00:20,  2.73it/s]"
     ]
    },
    {
     "name": "stdout",
     "output_type": "stream",
     "text": [
      "\u001b[4A\n",
      "Epoch :         44,     361.5110 ms elapsed\n",
      "loss = 0.00075743   (min = 0.00075743  )  \taccuracy = 1          (max = 1         )\n",
      "loss = 0.0093066    (min = 0.0089595   )  \taccuracy = 0.906      (max = 0.906     )\n"
     ]
    },
    {
     "name": "stderr",
     "output_type": "stream",
     "text": [
      " 47%|████▋     | 47/100 [00:17<00:19,  2.73it/s]"
     ]
    },
    {
     "name": "stdout",
     "output_type": "stream",
     "text": [
      "\u001b[4A\n",
      "Epoch :         46,     352.7300 ms elapsed\n",
      "loss = 0.00069165   (min = 0.00069165  )  \taccuracy = 1          (max = 1         )\n",
      "loss = 0.0090933    (min = 0.0089595   )  \taccuracy = 0.898      (max = 0.906     )\n"
     ]
    },
    {
     "name": "stderr",
     "output_type": "stream",
     "text": [
      " 49%|████▉     | 49/100 [00:17<00:18,  2.72it/s]"
     ]
    },
    {
     "name": "stdout",
     "output_type": "stream",
     "text": [
      "\u001b[4A\n",
      "Epoch :         48,     348.3970 ms elapsed\n",
      "loss = 0.00055353   (min = 0.00055353  )  \taccuracy = 1          (max = 1         )\n",
      "loss = 0.0091743    (min = 0.0089595   )  \taccuracy = 0.91       (max = 0.91      )\n"
     ]
    },
    {
     "name": "stderr",
     "output_type": "stream",
     "text": [
      " 51%|█████     | 51/100 [00:18<00:17,  2.76it/s]"
     ]
    },
    {
     "name": "stdout",
     "output_type": "stream",
     "text": [
      "\u001b[4A\n",
      "Epoch :         50,     362.7670 ms elapsed\n",
      "loss = 0.00053454   (min = 0.00053454  )  \taccuracy = 1          (max = 1         )\n",
      "loss = 0.0091601    (min = 0.0089595   )  \taccuracy = 0.904      (max = 0.91      )\n"
     ]
    },
    {
     "name": "stderr",
     "output_type": "stream",
     "text": [
      " 53%|█████▎    | 53/100 [00:19<00:17,  2.72it/s]"
     ]
    },
    {
     "name": "stdout",
     "output_type": "stream",
     "text": [
      "\u001b[4A\n",
      "Epoch :         52,     360.3880 ms elapsed\n",
      "loss = 0.00041295   (min = 0.00041295  )  \taccuracy = 1          (max = 1         )\n",
      "loss = 0.0094552    (min = 0.0089595   )  \taccuracy = 0.902      (max = 0.91      )\n"
     ]
    },
    {
     "name": "stderr",
     "output_type": "stream",
     "text": [
      " 55%|█████▌    | 55/100 [00:20<00:16,  2.73it/s]"
     ]
    },
    {
     "name": "stdout",
     "output_type": "stream",
     "text": [
      "\u001b[4A\n",
      "Epoch :         54,     361.6170 ms elapsed\n",
      "loss = 0.00040373   (min = 0.00040373  )  \taccuracy = 1          (max = 1         )\n",
      "loss = 0.0093534    (min = 0.0089595   )  \taccuracy = 0.91       (max = 0.912     )\n"
     ]
    },
    {
     "name": "stderr",
     "output_type": "stream",
     "text": [
      " 57%|█████▋    | 57/100 [00:20<00:15,  2.72it/s]"
     ]
    },
    {
     "name": "stdout",
     "output_type": "stream",
     "text": [
      "\u001b[4A\n",
      "Epoch :         56,     373.6240 ms elapsed\n",
      "loss = 0.00035884   (min = 0.00035884  )  \taccuracy = 1          (max = 1         )\n",
      "loss = 0.0097429    (min = 0.0089595   )  \taccuracy = 0.898      (max = 0.912     )\n"
     ]
    },
    {
     "name": "stderr",
     "output_type": "stream",
     "text": [
      " 59%|█████▉    | 59/100 [00:21<00:15,  2.71it/s]"
     ]
    },
    {
     "name": "stdout",
     "output_type": "stream",
     "text": [
      "\u001b[4A\n",
      "Epoch :         58,     366.9250 ms elapsed\n",
      "loss = 0.00035539   (min = 0.00035539  )  \taccuracy = 1          (max = 1         )\n",
      "loss = 0.0097807    (min = 0.0089595   )  \taccuracy = 0.906      (max = 0.912     )\n"
     ]
    },
    {
     "name": "stderr",
     "output_type": "stream",
     "text": [
      " 61%|██████    | 61/100 [00:22<00:14,  2.71it/s]"
     ]
    },
    {
     "name": "stdout",
     "output_type": "stream",
     "text": [
      "\u001b[4A\n",
      "Epoch :         60,     376.1990 ms elapsed\n",
      "loss = 0.00030085   (min = 0.00030085  )  \taccuracy = 1          (max = 1         )\n",
      "loss = 0.009319     (min = 0.0089595   )  \taccuracy = 0.912      (max = 0.912     )\n"
     ]
    },
    {
     "name": "stderr",
     "output_type": "stream",
     "text": [
      " 63%|██████▎   | 63/100 [00:22<00:13,  2.70it/s]"
     ]
    },
    {
     "name": "stdout",
     "output_type": "stream",
     "text": [
      "\u001b[4A\n",
      "Epoch :         62,     370.8100 ms elapsed\n",
      "loss = 0.00025109   (min = 0.00025109  )  \taccuracy = 1          (max = 1         )\n",
      "loss = 0.0096871    (min = 0.0089595   )  \taccuracy = 0.914      (max = 0.914     )\n"
     ]
    },
    {
     "name": "stderr",
     "output_type": "stream",
     "text": [
      " 65%|██████▌   | 65/100 [00:23<00:12,  2.77it/s]"
     ]
    },
    {
     "name": "stdout",
     "output_type": "stream",
     "text": [
      "\u001b[4A\n",
      "Epoch :         64,     346.5350 ms elapsed\n",
      "loss = 0.00022342   (min = 0.00022342  )  \taccuracy = 1          (max = 1         )\n",
      "loss = 0.0096827    (min = 0.0089595   )  \taccuracy = 0.916      (max = 0.916     )\n"
     ]
    },
    {
     "name": "stderr",
     "output_type": "stream",
     "text": [
      " 67%|██████▋   | 67/100 [00:24<00:11,  2.80it/s]"
     ]
    },
    {
     "name": "stdout",
     "output_type": "stream",
     "text": [
      "\u001b[4A\n",
      "Epoch :         66,     356.9960 ms elapsed\n",
      "loss = 0.00021734   (min = 0.00021734  )  \taccuracy = 1          (max = 1         )\n",
      "loss = 0.0098369    (min = 0.0089595   )  \taccuracy = 0.904      (max = 0.916     )\n"
     ]
    },
    {
     "name": "stderr",
     "output_type": "stream",
     "text": [
      " 69%|██████▉   | 69/100 [00:25<00:11,  2.68it/s]"
     ]
    },
    {
     "name": "stdout",
     "output_type": "stream",
     "text": [
      "\u001b[4A\n",
      "Epoch :         68,     392.5900 ms elapsed\n",
      "loss = 0.00018217   (min = 0.00018217  )  \taccuracy = 1          (max = 1         )\n",
      "loss = 0.0097312    (min = 0.0089595   )  \taccuracy = 0.906      (max = 0.916     )\n"
     ]
    },
    {
     "name": "stderr",
     "output_type": "stream",
     "text": [
      " 71%|███████   | 71/100 [00:25<00:10,  2.66it/s]"
     ]
    },
    {
     "name": "stdout",
     "output_type": "stream",
     "text": [
      "\u001b[4A\n",
      "Epoch :         70,     374.2530 ms elapsed\n",
      "loss = 0.00018645   (min = 0.00018217  )  \taccuracy = 1          (max = 1         )\n",
      "loss = 0.0099672    (min = 0.0089595   )  \taccuracy = 0.91       (max = 0.916     )\n"
     ]
    },
    {
     "name": "stderr",
     "output_type": "stream",
     "text": [
      " 73%|███████▎  | 73/100 [00:26<00:10,  2.66it/s]"
     ]
    },
    {
     "name": "stdout",
     "output_type": "stream",
     "text": [
      "\u001b[4A\n",
      "Epoch :         72,     363.3750 ms elapsed\n",
      "loss = 0.00015714   (min = 0.00015714  )  \taccuracy = 1          (max = 1         )\n",
      "loss = 0.0098851    (min = 0.0089595   )  \taccuracy = 0.91       (max = 0.916     )\n"
     ]
    },
    {
     "name": "stderr",
     "output_type": "stream",
     "text": [
      " 75%|███████▌  | 75/100 [00:27<00:09,  2.62it/s]"
     ]
    },
    {
     "name": "stdout",
     "output_type": "stream",
     "text": [
      "\u001b[4A\n",
      "Epoch :         74,     390.7290 ms elapsed\n",
      "loss = 0.00015334   (min = 0.00015334  )  \taccuracy = 1          (max = 1         )\n",
      "loss = 0.010008     (min = 0.0089595   )  \taccuracy = 0.912      (max = 0.916     )\n"
     ]
    },
    {
     "name": "stderr",
     "output_type": "stream",
     "text": [
      " 77%|███████▋  | 77/100 [00:28<00:08,  2.63it/s]"
     ]
    },
    {
     "name": "stdout",
     "output_type": "stream",
     "text": [
      "\u001b[4A\n",
      "Epoch :         76,     369.3840 ms elapsed\n",
      "loss = 0.00013723   (min = 0.00013723  )  \taccuracy = 1          (max = 1         )\n",
      "loss = 0.010057     (min = 0.0089595   )  \taccuracy = 0.912      (max = 0.916     )\n"
     ]
    },
    {
     "name": "stderr",
     "output_type": "stream",
     "text": [
      " 79%|███████▉  | 79/100 [00:28<00:07,  2.70it/s]"
     ]
    },
    {
     "name": "stdout",
     "output_type": "stream",
     "text": [
      "\u001b[4A\n",
      "Epoch :         78,     358.8760 ms elapsed\n",
      "loss = 0.0001298    (min = 0.0001298   )  \taccuracy = 1          (max = 1         )\n",
      "loss = 0.010399     (min = 0.0089595   )  \taccuracy = 0.904      (max = 0.916     )\n"
     ]
    },
    {
     "name": "stderr",
     "output_type": "stream",
     "text": [
      " 81%|████████  | 81/100 [00:29<00:07,  2.71it/s]"
     ]
    },
    {
     "name": "stdout",
     "output_type": "stream",
     "text": [
      "\u001b[4A\n",
      "Epoch :         80,     355.3210 ms elapsed\n",
      "loss = 0.00012162   (min = 0.00012162  )  \taccuracy = 1          (max = 1         )\n",
      "loss = 0.010156     (min = 0.0089595   )  \taccuracy = 0.91       (max = 0.916     )\n"
     ]
    },
    {
     "name": "stderr",
     "output_type": "stream",
     "text": [
      " 83%|████████▎ | 83/100 [00:30<00:06,  2.71it/s]"
     ]
    },
    {
     "name": "stdout",
     "output_type": "stream",
     "text": [
      "\u001b[4A\n",
      "Epoch :         82,     369.3030 ms elapsed\n",
      "loss = 0.0001104    (min = 0.0001104   )  \taccuracy = 1          (max = 1         )\n",
      "loss = 0.010324     (min = 0.0089595   )  \taccuracy = 0.906      (max = 0.916     )\n"
     ]
    },
    {
     "name": "stderr",
     "output_type": "stream",
     "text": [
      " 85%|████████▌ | 85/100 [00:31<00:05,  2.72it/s]"
     ]
    },
    {
     "name": "stdout",
     "output_type": "stream",
     "text": [
      "\u001b[4A\n",
      "Epoch :         84,     370.5930 ms elapsed\n",
      "loss = 0.00010705   (min = 0.00010705  )  \taccuracy = 1          (max = 1         )\n",
      "loss = 0.010291     (min = 0.0089595   )  \taccuracy = 0.912      (max = 0.916     )\n"
     ]
    },
    {
     "name": "stderr",
     "output_type": "stream",
     "text": [
      " 87%|████████▋ | 87/100 [00:31<00:04,  2.75it/s]"
     ]
    },
    {
     "name": "stdout",
     "output_type": "stream",
     "text": [
      "\u001b[4A\n",
      "Epoch :         86,     368.0210 ms elapsed\n",
      "loss = 9.8249e-05   (min = 9.8249e-05  )  \taccuracy = 1          (max = 1         )\n",
      "loss = 0.010417     (min = 0.0089595   )  \taccuracy = 0.906      (max = 0.916     )\n"
     ]
    },
    {
     "name": "stderr",
     "output_type": "stream",
     "text": [
      " 89%|████████▉ | 89/100 [00:32<00:04,  2.72it/s]"
     ]
    },
    {
     "name": "stdout",
     "output_type": "stream",
     "text": [
      "\u001b[4A\n",
      "Epoch :         88,     365.2420 ms elapsed\n",
      "loss = 9.2111e-05   (min = 9.2111e-05  )  \taccuracy = 1          (max = 1         )\n",
      "loss = 0.010469     (min = 0.0089595   )  \taccuracy = 0.906      (max = 0.916     )\n"
     ]
    },
    {
     "name": "stderr",
     "output_type": "stream",
     "text": [
      " 91%|█████████ | 91/100 [00:33<00:03,  2.75it/s]"
     ]
    },
    {
     "name": "stdout",
     "output_type": "stream",
     "text": [
      "\u001b[4A\n",
      "Epoch :         90,     360.6230 ms elapsed\n",
      "loss = 8.8086e-05   (min = 8.8086e-05  )  \taccuracy = 1          (max = 1         )\n",
      "loss = 0.010538     (min = 0.0089595   )  \taccuracy = 0.91       (max = 0.916     )\n"
     ]
    },
    {
     "name": "stderr",
     "output_type": "stream",
     "text": [
      " 93%|█████████▎| 93/100 [00:34<00:02,  2.79it/s]"
     ]
    },
    {
     "name": "stdout",
     "output_type": "stream",
     "text": [
      "\u001b[4A\n",
      "Epoch :         92,     349.1530 ms elapsed\n",
      "loss = 8.7367e-05   (min = 8.6141e-05  )  \taccuracy = 1          (max = 1         )\n",
      "loss = 0.010404     (min = 0.0089595   )  \taccuracy = 0.908      (max = 0.916     )\n"
     ]
    },
    {
     "name": "stderr",
     "output_type": "stream",
     "text": [
      " 95%|█████████▌| 95/100 [00:34<00:01,  2.85it/s]"
     ]
    },
    {
     "name": "stdout",
     "output_type": "stream",
     "text": [
      "\u001b[4A\n",
      "Epoch :         94,     333.5000 ms elapsed\n",
      "loss = 7.8371e-05   (min = 7.8371e-05  )  \taccuracy = 1          (max = 1         )\n",
      "loss = 0.010631     (min = 0.0089595   )  \taccuracy = 0.908      (max = 0.916     )\n"
     ]
    },
    {
     "name": "stderr",
     "output_type": "stream",
     "text": [
      " 97%|█████████▋| 97/100 [00:35<00:01,  2.88it/s]"
     ]
    },
    {
     "name": "stdout",
     "output_type": "stream",
     "text": [
      "\u001b[4A\n",
      "Epoch :         96,     335.8990 ms elapsed\n",
      "loss = 7.5269e-05   (min = 7.5269e-05  )  \taccuracy = 1          (max = 1         )\n",
      "loss = 0.01062      (min = 0.0089595   )  \taccuracy = 0.908      (max = 0.916     )\n"
     ]
    },
    {
     "name": "stderr",
     "output_type": "stream",
     "text": [
      " 99%|█████████▉| 99/100 [00:36<00:00,  2.83it/s]"
     ]
    },
    {
     "name": "stdout",
     "output_type": "stream",
     "text": [
      "\u001b[4A\n",
      "Epoch :         98,     351.7840 ms elapsed\n",
      "loss = 7.3301e-05   (min = 7.3301e-05  )  \taccuracy = 1          (max = 1         )\n",
      "loss = 0.010706     (min = 0.0089595   )  \taccuracy = 0.908      (max = 0.916     )\n"
     ]
    },
    {
     "name": "stderr",
     "output_type": "stream",
     "text": [
      "100%|██████████| 100/100 [00:36<00:00,  2.82it/s]\n"
     ]
    },
    {
     "name": "stdout",
     "output_type": "stream",
     "text": [
      "Finished Training\n"
     ]
    },
    {
     "data": {
      "image/png": "[encoded data removed]",
      "text/plain": [
       "<Figure size 432x288 with 1 Axes>"
      ]
     },
     "metadata": {
      "needs_background": "light"
     },
     "output_type": "display_data"
    },
    {
     "data": {
      "image/png": "[encoded data removed]",
      "text/plain": [
       "<Figure size 432x288 with 1 Axes>"
      ]
     },
     "metadata": {
      "needs_background": "light"
     },
     "output_type": "display_data"
    },
    {
     "name": "stdout",
     "output_type": "stream",
     "text": [
      "Saving models...\n",
      "The classification accuracy:  0.91\n",
      "\n"
     ]
    },
    {
     "data": {
      "image/png": "[encoded data removed]",
      "text/plain": [
       "<Figure size 432x288 with 2 Axes>"
      ]
     },
     "metadata": {
      "needs_background": "light"
     },
     "output_type": "display_data"
    }
   ],
   "source": [
    "raw_cnn_mnist = Raw_CNN_Mnist().to(device)\n",
    "\n",
    "raw_criterion = nn.CrossEntropyLoss()\n",
    "raw_optimizer = optim.Adam(raw_cnn_mnist.parameters(), lr=0.001)\n",
    "raw_stats = learningStats()\n",
    "\n",
    "train(raw_cnn_mnist,'raw_cnn_Smnist',\n",
    "      trainloader_cnn,testloader_cnn,\n",
    "      raw_criterion, \n",
    "      raw_optimizer,\n",
    "      raw_stats,\n",
    "      epoch=EPOCH2)\n",
    "\n",
    "y_true, y_pred = get_labels(raw_cnn_mnist, testloader_cnn, snn=False)\n",
    "test_method(y_true.cpu().numpy(), y_pred.cpu().numpy())"
   ]
  },
  {
   "cell_type": "markdown",
   "metadata": {},
   "source": [
    "* train the tailored CNN on SMNIST"
   ]
  },
  {
   "cell_type": "code",
   "execution_count": 14,
   "metadata": {
    "scrolled": true
   },
   "outputs": [
    {
     "name": "stderr",
     "output_type": "stream",
     "text": [
      "  1%|          | 1/100 [00:00<00:35,  2.77it/s]"
     ]
    },
    {
     "name": "stdout",
     "output_type": "stream",
     "text": [
      "\u001b[0A\n",
      "Epoch :          0,     360.7710 ms elapsed\n",
      "loss = 0.073247     (min = 0.073247    )  \taccuracy = 0.152      (max = 0.152     )\n",
      "loss = 0.072515     (min = 0.072515    )  \taccuracy = 0.302      (max = 0.302     )\n"
     ]
    },
    {
     "name": "stderr",
     "output_type": "stream",
     "text": [
      "  3%|▎         | 3/100 [00:01<00:34,  2.82it/s]"
     ]
    },
    {
     "name": "stdout",
     "output_type": "stream",
     "text": [
      "\u001b[4A\n",
      "Epoch :          2,     343.4170 ms elapsed\n",
      "loss = 0.06349      (min = 0.06349     )  \taccuracy = 0.63       (max = 0.63      )\n",
      "loss = 0.059522     (min = 0.059522    )  \taccuracy = 0.646      (max = 0.646     )\n"
     ]
    },
    {
     "name": "stderr",
     "output_type": "stream",
     "text": [
      "  5%|▌         | 5/100 [00:01<00:33,  2.82it/s]"
     ]
    },
    {
     "name": "stdout",
     "output_type": "stream",
     "text": [
      "\u001b[4A\n",
      "Epoch :          4,     356.6520 ms elapsed\n",
      "loss = 0.032283     (min = 0.032283    )  \taccuracy = 0.788      (max = 0.788     )\n",
      "loss = 0.031008     (min = 0.031008    )  \taccuracy = 0.698      (max = 0.698     )\n"
     ]
    },
    {
     "name": "stderr",
     "output_type": "stream",
     "text": [
      "  7%|▋         | 7/100 [00:02<00:32,  2.86it/s]"
     ]
    },
    {
     "name": "stdout",
     "output_type": "stream",
     "text": [
      "\u001b[4A\n",
      "Epoch :          6,     352.4190 ms elapsed\n",
      "loss = 0.018511     (min = 0.018511    )  \taccuracy = 0.83       (max = 0.83      )\n",
      "loss = 0.023527     (min = 0.023527    )  \taccuracy = 0.736      (max = 0.736     )\n"
     ]
    },
    {
     "name": "stderr",
     "output_type": "stream",
     "text": [
      "  9%|▉         | 9/100 [00:03<00:31,  2.87it/s]"
     ]
    },
    {
     "name": "stdout",
     "output_type": "stream",
     "text": [
      "\u001b[4A\n",
      "Epoch :          8,     337.8990 ms elapsed\n",
      "loss = 0.014679     (min = 0.014679    )  \taccuracy = 0.858      (max = 0.858     )\n",
      "loss = 0.020998     (min = 0.020998    )  \taccuracy = 0.772      (max = 0.772     )\n"
     ]
    },
    {
     "name": "stderr",
     "output_type": "stream",
     "text": [
      " 11%|█         | 11/100 [00:03<00:31,  2.86it/s]"
     ]
    },
    {
     "name": "stdout",
     "output_type": "stream",
     "text": [
      "\u001b[4A\n",
      "Epoch :         10,     354.4700 ms elapsed\n",
      "loss = 0.013048     (min = 0.013048    )  \taccuracy = 0.882      (max = 0.882     )\n",
      "loss = 0.018339     (min = 0.018339    )  \taccuracy = 0.796      (max = 0.796     )\n"
     ]
    },
    {
     "name": "stderr",
     "output_type": "stream",
     "text": [
      " 13%|█▎        | 13/100 [00:04<00:30,  2.84it/s]"
     ]
    },
    {
     "name": "stdout",
     "output_type": "stream",
     "text": [
      "\u001b[4A\n",
      "Epoch :         12,     355.0650 ms elapsed\n",
      "loss = 0.012349     (min = 0.012349    )  \taccuracy = 0.882      (max = 0.882     )\n",
      "loss = 0.017902     (min = 0.017889    )  \taccuracy = 0.8        (max = 0.806     )\n"
     ]
    },
    {
     "name": "stderr",
     "output_type": "stream",
     "text": [
      " 15%|█▌        | 15/100 [00:05<00:30,  2.81it/s]"
     ]
    },
    {
     "name": "stdout",
     "output_type": "stream",
     "text": [
      "\u001b[4A\n",
      "Epoch :         14,     368.4190 ms elapsed\n",
      "loss = 0.01109      (min = 0.01109     )  \taccuracy = 0.886      (max = 0.886     )\n",
      "loss = 0.016216     (min = 0.016216    )  \taccuracy = 0.83       (max = 0.83      )\n"
     ]
    },
    {
     "name": "stderr",
     "output_type": "stream",
     "text": [
      " 17%|█▋        | 17/100 [00:05<00:29,  2.82it/s]"
     ]
    },
    {
     "name": "stdout",
     "output_type": "stream",
     "text": [
      "\u001b[4A\n",
      "Epoch :         16,     360.6440 ms elapsed\n",
      "loss = 0.0096187    (min = 0.0096187   )  \taccuracy = 0.904      (max = 0.906     )\n",
      "loss = 0.015148     (min = 0.015148    )  \taccuracy = 0.84       (max = 0.84      )\n"
     ]
    },
    {
     "name": "stderr",
     "output_type": "stream",
     "text": [
      " 19%|█▉        | 19/100 [00:06<00:28,  2.84it/s]"
     ]
    },
    {
     "name": "stdout",
     "output_type": "stream",
     "text": [
      "\u001b[4A\n",
      "Epoch :         18,     356.5600 ms elapsed\n",
      "loss = 0.0092407    (min = 0.0092407   )  \taccuracy = 0.906      (max = 0.906     )\n",
      "loss = 0.015315     (min = 0.014858    )  \taccuracy = 0.838      (max = 0.84      )\n"
     ]
    },
    {
     "name": "stderr",
     "output_type": "stream",
     "text": [
      " 21%|██        | 21/100 [00:07<00:27,  2.87it/s]"
     ]
    },
    {
     "name": "stdout",
     "output_type": "stream",
     "text": [
      "\u001b[4A\n",
      "Epoch :         20,     337.5370 ms elapsed\n",
      "loss = 0.0083473    (min = 0.0083473   )  \taccuracy = 0.916      (max = 0.916     )\n",
      "loss = 0.01402      (min = 0.01402     )  \taccuracy = 0.85       (max = 0.85      )\n"
     ]
    },
    {
     "name": "stderr",
     "output_type": "stream",
     "text": [
      " 23%|██▎       | 23/100 [00:08<00:26,  2.88it/s]"
     ]
    },
    {
     "name": "stdout",
     "output_type": "stream",
     "text": [
      "\u001b[4A\n",
      "Epoch :         22,     350.2990 ms elapsed\n",
      "loss = 0.0074877    (min = 0.0074877   )  \taccuracy = 0.924      (max = 0.932     )\n",
      "loss = 0.013647     (min = 0.013647    )  \taccuracy = 0.856      (max = 0.856     )\n"
     ]
    },
    {
     "name": "stderr",
     "output_type": "stream",
     "text": [
      " 25%|██▌       | 25/100 [00:08<00:26,  2.88it/s]"
     ]
    },
    {
     "name": "stdout",
     "output_type": "stream",
     "text": [
      "\u001b[4A\n",
      "Epoch :         24,     346.9560 ms elapsed\n",
      "loss = 0.0067578    (min = 0.0067578   )  \taccuracy = 0.934      (max = 0.934     )\n",
      "loss = 0.013403     (min = 0.013403    )  \taccuracy = 0.868      (max = 0.868     )\n"
     ]
    },
    {
     "name": "stderr",
     "output_type": "stream",
     "text": [
      " 27%|██▋       | 27/100 [00:09<00:25,  2.83it/s]"
     ]
    },
    {
     "name": "stdout",
     "output_type": "stream",
     "text": [
      "\u001b[4A\n",
      "Epoch :         26,     357.9370 ms elapsed\n",
      "loss = 0.0061999    (min = 0.0061999   )  \taccuracy = 0.942      (max = 0.942     )\n",
      "loss = 0.013291     (min = 0.013291    )  \taccuracy = 0.868      (max = 0.868     )\n"
     ]
    },
    {
     "name": "stderr",
     "output_type": "stream",
     "text": [
      " 29%|██▉       | 29/100 [00:10<00:24,  2.91it/s]"
     ]
    },
    {
     "name": "stdout",
     "output_type": "stream",
     "text": [
      "\u001b[4A\n",
      "Epoch :         28,     332.8910 ms elapsed\n",
      "loss = 0.0053298    (min = 0.0053298   )  \taccuracy = 0.95       (max = 0.95      )\n",
      "loss = 0.013254     (min = 0.013214    )  \taccuracy = 0.86       (max = 0.868     )\n"
     ]
    },
    {
     "name": "stderr",
     "output_type": "stream",
     "text": [
      " 31%|███       | 31/100 [00:10<00:23,  2.88it/s]"
     ]
    },
    {
     "name": "stdout",
     "output_type": "stream",
     "text": [
      "\u001b[4A\n",
      "Epoch :         30,     335.0120 ms elapsed\n",
      "loss = 0.005104     (min = 0.005104    )  \taccuracy = 0.95       (max = 0.95      )\n",
      "loss = 0.012765     (min = 0.012765    )  \taccuracy = 0.874      (max = 0.874     )\n"
     ]
    },
    {
     "name": "stderr",
     "output_type": "stream",
     "text": [
      " 33%|███▎      | 33/100 [00:11<00:23,  2.82it/s]"
     ]
    },
    {
     "name": "stdout",
     "output_type": "stream",
     "text": [
      "\u001b[4A\n",
      "Epoch :         32,     371.4100 ms elapsed\n",
      "loss = 0.0044031    (min = 0.0044031   )  \taccuracy = 0.956      (max = 0.956     )\n",
      "loss = 0.013101     (min = 0.012765    )  \taccuracy = 0.87       (max = 0.876     )\n"
     ]
    },
    {
     "name": "stderr",
     "output_type": "stream",
     "text": [
      " 35%|███▌      | 35/100 [00:12<00:23,  2.81it/s]"
     ]
    },
    {
     "name": "stdout",
     "output_type": "stream",
     "text": [
      "\u001b[4A\n",
      "Epoch :         34,     354.1540 ms elapsed\n",
      "loss = 0.0041683    (min = 0.0041683   )  \taccuracy = 0.958      (max = 0.958     )\n",
      "loss = 0.013234     (min = 0.012765    )  \taccuracy = 0.868      (max = 0.876     )\n"
     ]
    },
    {
     "name": "stderr",
     "output_type": "stream",
     "text": [
      " 37%|███▋      | 37/100 [00:12<00:22,  2.82it/s]"
     ]
    },
    {
     "name": "stdout",
     "output_type": "stream",
     "text": [
      "\u001b[4A\n",
      "Epoch :         36,     340.0820 ms elapsed\n",
      "loss = 0.003615     (min = 0.003615    )  \taccuracy = 0.962      (max = 0.962     )\n",
      "loss = 0.012903     (min = 0.012765    )  \taccuracy = 0.876      (max = 0.876     )\n"
     ]
    },
    {
     "name": "stderr",
     "output_type": "stream",
     "text": [
      " 39%|███▉      | 39/100 [00:13<00:21,  2.84it/s]"
     ]
    },
    {
     "name": "stdout",
     "output_type": "stream",
     "text": [
      "\u001b[4A\n",
      "Epoch :         38,     339.8950 ms elapsed\n",
      "loss = 0.0032229    (min = 0.0032229   )  \taccuracy = 0.97       (max = 0.978     )\n",
      "loss = 0.013686     (min = 0.012765    )  \taccuracy = 0.872      (max = 0.876     )\n"
     ]
    },
    {
     "name": "stderr",
     "output_type": "stream",
     "text": [
      " 41%|████      | 41/100 [00:14<00:20,  2.88it/s]"
     ]
    },
    {
     "name": "stdout",
     "output_type": "stream",
     "text": [
      "\u001b[4A\n",
      "Epoch :         40,     340.9380 ms elapsed\n",
      "loss = 0.0029016    (min = 0.0029016   )  \taccuracy = 0.974      (max = 0.98      )\n",
      "loss = 0.014044     (min = 0.012765    )  \taccuracy = 0.87       (max = 0.876     )\n"
     ]
    },
    {
     "name": "stderr",
     "output_type": "stream",
     "text": [
      " 43%|████▎     | 43/100 [00:15<00:19,  2.94it/s]"
     ]
    },
    {
     "name": "stdout",
     "output_type": "stream",
     "text": [
      "\u001b[4A\n",
      "Epoch :         42,     321.3870 ms elapsed\n",
      "loss = 0.0026294    (min = 0.0026294   )  \taccuracy = 0.984      (max = 0.984     )\n",
      "loss = 0.013779     (min = 0.012765    )  \taccuracy = 0.868      (max = 0.876     )\n"
     ]
    },
    {
     "name": "stderr",
     "output_type": "stream",
     "text": [
      " 45%|████▌     | 45/100 [00:15<00:18,  2.92it/s]"
     ]
    },
    {
     "name": "stdout",
     "output_type": "stream",
     "text": [
      "\u001b[4A\n",
      "Epoch :         44,     342.6660 ms elapsed\n",
      "loss = 0.0021489    (min = 0.0021489   )  \taccuracy = 0.98       (max = 0.984     )\n",
      "loss = 0.013425     (min = 0.012765    )  \taccuracy = 0.876      (max = 0.876     )\n"
     ]
    },
    {
     "name": "stderr",
     "output_type": "stream",
     "text": [
      " 47%|████▋     | 47/100 [00:16<00:18,  2.87it/s]"
     ]
    },
    {
     "name": "stdout",
     "output_type": "stream",
     "text": [
      "\u001b[4A\n",
      "Epoch :         46,     341.2620 ms elapsed\n",
      "loss = 0.0019647    (min = 0.0019647   )  \taccuracy = 0.992      (max = 0.992     )\n",
      "loss = 0.014041     (min = 0.012765    )  \taccuracy = 0.872      (max = 0.876     )\n"
     ]
    },
    {
     "name": "stderr",
     "output_type": "stream",
     "text": [
      " 49%|████▉     | 49/100 [00:17<00:17,  2.84it/s]"
     ]
    },
    {
     "name": "stdout",
     "output_type": "stream",
     "text": [
      "\u001b[4A\n",
      "Epoch :         48,     351.2800 ms elapsed\n",
      "loss = 0.0019103    (min = 0.0019103   )  \taccuracy = 0.986      (max = 0.992     )\n",
      "loss = 0.015002     (min = 0.012765    )  \taccuracy = 0.868      (max = 0.876     )\n"
     ]
    },
    {
     "name": "stderr",
     "output_type": "stream",
     "text": [
      " 51%|█████     | 51/100 [00:17<00:17,  2.81it/s]"
     ]
    },
    {
     "name": "stdout",
     "output_type": "stream",
     "text": [
      "\u001b[4A\n",
      "Epoch :         50,     363.3190 ms elapsed\n",
      "loss = 0.0021515    (min = 0.0017662   )  \taccuracy = 0.98       (max = 0.992     )\n",
      "loss = 0.014605     (min = 0.012765    )  \taccuracy = 0.87       (max = 0.88      )\n"
     ]
    },
    {
     "name": "stderr",
     "output_type": "stream",
     "text": [
      " 53%|█████▎    | 53/100 [00:18<00:16,  2.80it/s]"
     ]
    },
    {
     "name": "stdout",
     "output_type": "stream",
     "text": [
      "\u001b[4A\n",
      "Epoch :         52,     365.8740 ms elapsed\n",
      "loss = 0.0014739    (min = 0.0014739   )  \taccuracy = 0.994      (max = 0.994     )\n",
      "loss = 0.014709     (min = 0.012765    )  \taccuracy = 0.88       (max = 0.88      )\n"
     ]
    },
    {
     "name": "stderr",
     "output_type": "stream",
     "text": [
      " 55%|█████▌    | 55/100 [00:19<00:16,  2.79it/s]"
     ]
    },
    {
     "name": "stdout",
     "output_type": "stream",
     "text": [
      "\u001b[4A\n",
      "Epoch :         54,     358.2490 ms elapsed\n",
      "loss = 0.0012747    (min = 0.0012747   )  \taccuracy = 0.996      (max = 0.998     )\n",
      "loss = 0.015326     (min = 0.012765    )  \taccuracy = 0.88       (max = 0.88      )\n"
     ]
    },
    {
     "name": "stderr",
     "output_type": "stream",
     "text": [
      " 57%|█████▋    | 57/100 [00:20<00:15,  2.79it/s]"
     ]
    },
    {
     "name": "stdout",
     "output_type": "stream",
     "text": [
      "\u001b[4A\n",
      "Epoch :         56,     360.6140 ms elapsed\n",
      "loss = 0.001244     (min = 0.001244    )  \taccuracy = 0.992      (max = 0.998     )\n",
      "loss = 0.015723     (min = 0.012765    )  \taccuracy = 0.88       (max = 0.88      )\n"
     ]
    },
    {
     "name": "stderr",
     "output_type": "stream",
     "text": [
      " 59%|█████▉    | 59/100 [00:20<00:14,  2.74it/s]"
     ]
    },
    {
     "name": "stdout",
     "output_type": "stream",
     "text": [
      "\u001b[4A\n",
      "Epoch :         58,     367.4790 ms elapsed\n",
      "loss = 0.00097251   (min = 0.00097251  )  \taccuracy = 1          (max = 1         )\n",
      "loss = 0.015644     (min = 0.012765    )  \taccuracy = 0.876      (max = 0.88      )\n"
     ]
    },
    {
     "name": "stderr",
     "output_type": "stream",
     "text": [
      " 61%|██████    | 61/100 [00:21<00:14,  2.78it/s]"
     ]
    },
    {
     "name": "stdout",
     "output_type": "stream",
     "text": [
      "\u001b[4A\n",
      "Epoch :         60,     355.1210 ms elapsed\n",
      "loss = 0.0010556    (min = 0.00095233  )  \taccuracy = 0.996      (max = 1         )\n",
      "loss = 0.015908     (min = 0.012765    )  \taccuracy = 0.874      (max = 0.88      )\n"
     ]
    },
    {
     "name": "stderr",
     "output_type": "stream",
     "text": [
      " 63%|██████▎   | 63/100 [00:22<00:13,  2.79it/s]"
     ]
    },
    {
     "name": "stdout",
     "output_type": "stream",
     "text": [
      "\u001b[4A\n",
      "Epoch :         62,     365.7300 ms elapsed\n",
      "loss = 0.00081984   (min = 0.00081984  )  \taccuracy = 1          (max = 1         )\n",
      "loss = 0.016167     (min = 0.012765    )  \taccuracy = 0.876      (max = 0.88      )\n"
     ]
    },
    {
     "name": "stderr",
     "output_type": "stream",
     "text": [
      " 65%|██████▌   | 65/100 [00:22<00:12,  2.80it/s]"
     ]
    },
    {
     "name": "stdout",
     "output_type": "stream",
     "text": [
      "\u001b[4A\n",
      "Epoch :         64,     359.0360 ms elapsed\n",
      "loss = 0.00067772   (min = 0.00067772  )  \taccuracy = 1          (max = 1         )\n",
      "loss = 0.016721     (min = 0.012765    )  \taccuracy = 0.876      (max = 0.88      )\n"
     ]
    },
    {
     "name": "stderr",
     "output_type": "stream",
     "text": [
      " 67%|██████▋   | 67/100 [00:23<00:11,  2.82it/s]"
     ]
    },
    {
     "name": "stdout",
     "output_type": "stream",
     "text": [
      "\u001b[4A\n",
      "Epoch :         66,     352.5060 ms elapsed\n",
      "loss = 0.00070764   (min = 0.00067772  )  \taccuracy = 0.998      (max = 1         )\n",
      "loss = 0.016784     (min = 0.012765    )  \taccuracy = 0.876      (max = 0.88      )\n"
     ]
    },
    {
     "name": "stderr",
     "output_type": "stream",
     "text": [
      " 69%|██████▉   | 69/100 [00:24<00:11,  2.82it/s]"
     ]
    },
    {
     "name": "stdout",
     "output_type": "stream",
     "text": [
      "\u001b[4A\n",
      "Epoch :         68,     339.0390 ms elapsed\n",
      "loss = 0.00060003   (min = 0.00060003  )  \taccuracy = 1          (max = 1         )\n",
      "loss = 0.017255     (min = 0.012765    )  \taccuracy = 0.874      (max = 0.88      )\n"
     ]
    },
    {
     "name": "stderr",
     "output_type": "stream",
     "text": [
      " 71%|███████   | 71/100 [00:25<00:10,  2.77it/s]"
     ]
    },
    {
     "name": "stdout",
     "output_type": "stream",
     "text": [
      "\u001b[4A\n",
      "Epoch :         70,     367.3760 ms elapsed\n",
      "loss = 0.00064032   (min = 0.00058993  )  \taccuracy = 1          (max = 1         )\n",
      "loss = 0.017527     (min = 0.012765    )  \taccuracy = 0.876      (max = 0.88      )\n"
     ]
    },
    {
     "name": "stderr",
     "output_type": "stream",
     "text": [
      " 73%|███████▎  | 73/100 [00:25<00:09,  2.79it/s]"
     ]
    },
    {
     "name": "stdout",
     "output_type": "stream",
     "text": [
      "\u001b[4A\n",
      "Epoch :         72,     351.5820 ms elapsed\n",
      "loss = 0.00050856   (min = 0.00050856  )  \taccuracy = 1          (max = 1         )\n",
      "loss = 0.017679     (min = 0.012765    )  \taccuracy = 0.878      (max = 0.88      )\n"
     ]
    },
    {
     "name": "stderr",
     "output_type": "stream",
     "text": [
      " 75%|███████▌  | 75/100 [00:26<00:09,  2.77it/s]"
     ]
    },
    {
     "name": "stdout",
     "output_type": "stream",
     "text": [
      "\u001b[4A\n",
      "Epoch :         74,     360.8300 ms elapsed\n",
      "loss = 0.00054773   (min = 0.00047511  )  \taccuracy = 0.998      (max = 1         )\n",
      "loss = 0.017932     (min = 0.012765    )  \taccuracy = 0.876      (max = 0.88      )\n"
     ]
    },
    {
     "name": "stderr",
     "output_type": "stream",
     "text": [
      " 77%|███████▋  | 77/100 [00:27<00:08,  2.79it/s]"
     ]
    },
    {
     "name": "stdout",
     "output_type": "stream",
     "text": [
      "\u001b[4A\n",
      "Epoch :         76,     356.3740 ms elapsed\n",
      "loss = 0.00041842   (min = 0.00041842  )  \taccuracy = 1          (max = 1         )\n",
      "loss = 0.018054     (min = 0.012765    )  \taccuracy = 0.872      (max = 0.88      )\n"
     ]
    },
    {
     "name": "stderr",
     "output_type": "stream",
     "text": [
      " 79%|███████▉  | 79/100 [00:27<00:07,  2.78it/s]"
     ]
    },
    {
     "name": "stdout",
     "output_type": "stream",
     "text": [
      "\u001b[4A\n",
      "Epoch :         78,     364.4000 ms elapsed\n",
      "loss = 0.00043619   (min = 0.00041842  )  \taccuracy = 1          (max = 1         )\n",
      "loss = 0.018217     (min = 0.012765    )  \taccuracy = 0.878      (max = 0.88      )\n"
     ]
    },
    {
     "name": "stderr",
     "output_type": "stream",
     "text": [
      " 81%|████████  | 81/100 [00:28<00:06,  2.76it/s]"
     ]
    },
    {
     "name": "stdout",
     "output_type": "stream",
     "text": [
      "\u001b[4A\n",
      "Epoch :         80,     363.2800 ms elapsed\n",
      "loss = 0.00037902   (min = 0.00037902  )  \taccuracy = 1          (max = 1         )\n",
      "loss = 0.018589     (min = 0.012765    )  \taccuracy = 0.88       (max = 0.88      )\n"
     ]
    },
    {
     "name": "stderr",
     "output_type": "stream",
     "text": [
      " 83%|████████▎ | 83/100 [00:29<00:06,  2.82it/s]"
     ]
    },
    {
     "name": "stdout",
     "output_type": "stream",
     "text": [
      "\u001b[4A\n",
      "Epoch :         82,     344.3340 ms elapsed\n",
      "loss = 0.000326     (min = 0.000326    )  \taccuracy = 1          (max = 1         )\n",
      "loss = 0.018885     (min = 0.012765    )  \taccuracy = 0.876      (max = 0.88      )\n"
     ]
    },
    {
     "name": "stderr",
     "output_type": "stream",
     "text": [
      " 85%|████████▌ | 85/100 [00:30<00:05,  2.83it/s]"
     ]
    },
    {
     "name": "stdout",
     "output_type": "stream",
     "text": [
      "\u001b[4A\n",
      "Epoch :         84,     351.8760 ms elapsed\n",
      "loss = 0.00031716   (min = 0.00031716  )  \taccuracy = 1          (max = 1         )\n",
      "loss = 0.019117     (min = 0.012765    )  \taccuracy = 0.88       (max = 0.88      )\n"
     ]
    },
    {
     "name": "stderr",
     "output_type": "stream",
     "text": [
      " 87%|████████▋ | 87/100 [00:30<00:04,  2.85it/s]"
     ]
    },
    {
     "name": "stdout",
     "output_type": "stream",
     "text": [
      "\u001b[4A\n",
      "Epoch :         86,     343.0710 ms elapsed\n",
      "loss = 0.00028059   (min = 0.00027592  )  \taccuracy = 1          (max = 1         )\n",
      "loss = 0.019469     (min = 0.012765    )  \taccuracy = 0.88       (max = 0.88      )\n"
     ]
    },
    {
     "name": "stderr",
     "output_type": "stream",
     "text": [
      " 89%|████████▉ | 89/100 [00:31<00:03,  2.85it/s]"
     ]
    },
    {
     "name": "stdout",
     "output_type": "stream",
     "text": [
      "\u001b[4A\n",
      "Epoch :         88,     345.6560 ms elapsed\n",
      "loss = 0.00024731   (min = 0.00024731  )  \taccuracy = 1          (max = 1         )\n",
      "loss = 0.019647     (min = 0.012765    )  \taccuracy = 0.874      (max = 0.88      )\n"
     ]
    },
    {
     "name": "stderr",
     "output_type": "stream",
     "text": [
      " 91%|█████████ | 91/100 [00:32<00:03,  2.85it/s]"
     ]
    },
    {
     "name": "stdout",
     "output_type": "stream",
     "text": [
      "\u001b[4A\n",
      "Epoch :         90,     348.5550 ms elapsed\n",
      "loss = 0.00025132   (min = 0.00024731  )  \taccuracy = 1          (max = 1         )\n",
      "loss = 0.01982      (min = 0.012765    )  \taccuracy = 0.878      (max = 0.88      )\n"
     ]
    },
    {
     "name": "stderr",
     "output_type": "stream",
     "text": [
      " 93%|█████████▎| 93/100 [00:32<00:02,  2.82it/s]"
     ]
    },
    {
     "name": "stdout",
     "output_type": "stream",
     "text": [
      "\u001b[4A\n",
      "Epoch :         92,     365.3960 ms elapsed\n",
      "loss = 0.00023854   (min = 0.00023854  )  \taccuracy = 1          (max = 1         )\n",
      "loss = 0.019968     (min = 0.012765    )  \taccuracy = 0.876      (max = 0.88      )\n"
     ]
    },
    {
     "name": "stderr",
     "output_type": "stream",
     "text": [
      " 95%|█████████▌| 95/100 [00:33<00:01,  2.85it/s]"
     ]
    },
    {
     "name": "stdout",
     "output_type": "stream",
     "text": [
      "\u001b[4A\n",
      "Epoch :         94,     334.6900 ms elapsed\n",
      "loss = 0.00020131   (min = 0.00020131  )  \taccuracy = 1          (max = 1         )\n",
      "loss = 0.020075     (min = 0.012765    )  \taccuracy = 0.87       (max = 0.88      )\n"
     ]
    },
    {
     "name": "stderr",
     "output_type": "stream",
     "text": [
      " 97%|█████████▋| 97/100 [00:34<00:01,  2.84it/s]"
     ]
    },
    {
     "name": "stdout",
     "output_type": "stream",
     "text": [
      "\u001b[4A\n",
      "Epoch :         96,     341.8050 ms elapsed\n",
      "loss = 0.00019892   (min = 0.00019892  )  \taccuracy = 1          (max = 1         )\n",
      "loss = 0.020495     (min = 0.012765    )  \taccuracy = 0.876      (max = 0.88      )\n"
     ]
    },
    {
     "name": "stderr",
     "output_type": "stream",
     "text": [
      " 99%|█████████▉| 99/100 [00:34<00:00,  2.78it/s]"
     ]
    },
    {
     "name": "stdout",
     "output_type": "stream",
     "text": [
      "\u001b[4A\n",
      "Epoch :         98,     356.8440 ms elapsed\n",
      "loss = 0.00018431   (min = 0.00018431  )  \taccuracy = 1          (max = 1         )\n",
      "loss = 0.020578     (min = 0.012765    )  \taccuracy = 0.878      (max = 0.88      )\n"
     ]
    },
    {
     "name": "stderr",
     "output_type": "stream",
     "text": [
      "100%|██████████| 100/100 [00:35<00:00,  2.79it/s]\n"
     ]
    },
    {
     "name": "stdout",
     "output_type": "stream",
     "text": [
      "Finished Training\n"
     ]
    },
    {
     "data": {
      "image/png": "[encoded data removed]",
      "text/plain": [
       "<Figure size 432x288 with 1 Axes>"
      ]
     },
     "metadata": {
      "needs_background": "light"
     },
     "output_type": "display_data"
    },
    {
     "data": {
      "image/png": "[encoded data removed]",
      "text/plain": [
       "<Figure size 432x288 with 1 Axes>"
      ]
     },
     "metadata": {
      "needs_background": "light"
     },
     "output_type": "display_data"
    },
    {
     "name": "stdout",
     "output_type": "stream",
     "text": [
      "Saving models...\n",
      "The classification accuracy:  0.872\n",
      "\n"
     ]
    },
    {
     "data": {
      "image/png": "[encoded data removed]",
      "text/plain": [
       "<Figure size 432x288 with 2 Axes>"
      ]
     },
     "metadata": {
      "needs_background": "light"
     },
     "output_type": "display_data"
    }
   ],
   "source": [
    "tailored_cnn_mnist = Tailored_CNN_Mnist().to(device)\n",
    "\n",
    "t_criterion = nn.CrossEntropyLoss()\n",
    "t_optimizer = optim.Adam(tailored_cnn_mnist.parameters(), lr=0.001)\n",
    "t_stats = learningStats()\n",
    "\n",
    "train(tailored_cnn_mnist,'tailor_cnn_Smnist', \n",
    "      trainloader_cnn,testloader_cnn, \n",
    "      t_criterion, \n",
    "      t_optimizer,\n",
    "      t_stats,\n",
    "      epoch=EPOCH2)\n",
    "\n",
    "y_true, y_pred = get_labels(tailored_cnn_mnist, testloader_cnn, snn=False)\n",
    "test_method(y_true.cpu().numpy(), y_pred.cpu().numpy())"
   ]
  },
  {
   "cell_type": "markdown",
   "metadata": {},
   "source": [
    "## experiment FashionMnist\n",
    "\n",
    "### for full size Fashion-MNIST"
   ]
  },
  {
   "cell_type": "code",
   "execution_count": 15,
   "metadata": {},
   "outputs": [],
   "source": [
    "trainset_cnn = FashionMNIST(root='./data', train=True, transform=transforms.Compose([\n",
    "            transforms.ToTensor()]))\n",
    "\n",
    "trainloader_cnn = torch.utils.data.DataLoader(trainset_cnn, batch_size=BATCH_SIZE,\n",
    "                                          shuffle=True, num_workers=NUM_WORKERS)\n",
    "\n",
    "testset_cnn = FashionMNIST(root='./data', train=False, transform=transforms.Compose([\n",
    "            transforms.ToTensor()]))\n",
    "\n",
    "testloader_cnn = torch.utils.data.DataLoader(testset_cnn, batch_size=BATCH_SIZE,\n",
    "                                         shuffle=False, num_workers=NUM_WORKERS)"
   ]
  },
  {
   "cell_type": "code",
   "execution_count": 16,
   "metadata": {},
   "outputs": [
    {
     "data": {
      "image/png": "[encoded data removed]",
      "text/plain": [
       "<Figure size 432x288 with 1 Axes>"
      ]
     },
     "metadata": {
      "needs_background": "light"
     },
     "output_type": "display_data"
    },
    {
     "data": {
      "image/png": "[encoded data removed]",
      "text/plain": [
       "<Figure size 432x288 with 1 Axes>"
      ]
     },
     "metadata": {
      "needs_background": "light"
     },
     "output_type": "display_data"
    }
   ],
   "source": [
    "# check if we choose the correct dataset\n",
    "plt.imshow(next(iter(trainloader_cnn))[0][0].squeeze(), cmap='gray')\n",
    "plt.show()\n",
    "\n",
    "plt.imshow(next(iter(testloader_cnn))[0][0].squeeze(), cmap='gray')\n",
    "plt.show()"
   ]
  },
  {
   "cell_type": "markdown",
   "metadata": {},
   "source": [
    "* train the raw CNN on Fashion-MNIST"
   ]
  },
  {
   "cell_type": "code",
   "execution_count": 17,
   "metadata": {
    "scrolled": true
   },
   "outputs": [
    {
     "name": "stderr",
     "output_type": "stream",
     "text": [
      "  3%|▎         | 1/30 [00:12<05:59, 12.39s/it]"
     ]
    },
    {
     "name": "stdout",
     "output_type": "stream",
     "text": [
      "\u001b[0A\n",
      "Epoch :          0,   12385.8370 ms elapsed\n",
      "loss = 0.019647     (min = 0.019647    )  \taccuracy = 0.77555    (max = 0.77555   )\n",
      "loss = 0.016234     (min = 0.016234    )  \taccuracy = 0.814      (max = 0.814     )\n"
     ]
    },
    {
     "name": "stderr",
     "output_type": "stream",
     "text": [
      " 10%|█         | 3/30 [00:37<05:38, 12.52s/it]"
     ]
    },
    {
     "name": "stdout",
     "output_type": "stream",
     "text": [
      "\u001b[4A\n",
      "Epoch :          2,   13007.9800 ms elapsed\n",
      "loss = 0.0127       (min = 0.0127      )  \taccuracy = 0.8556     (max = 0.8556    )\n",
      "loss = 0.013058     (min = 0.013058    )  \taccuracy = 0.8481     (max = 0.8481    )\n"
     ]
    },
    {
     "name": "stderr",
     "output_type": "stream",
     "text": [
      " 17%|█▋        | 5/30 [01:02<05:11, 12.44s/it]"
     ]
    },
    {
     "name": "stdout",
     "output_type": "stream",
     "text": [
      "\u001b[4A\n",
      "Epoch :          4,   12554.4410 ms elapsed\n",
      "loss = 0.011282     (min = 0.011282    )  \taccuracy = 0.8708     (max = 0.8708    )\n",
      "loss = 0.012521     (min = 0.012223    )  \taccuracy = 0.8563     (max = 0.8604    )\n"
     ]
    },
    {
     "name": "stderr",
     "output_type": "stream",
     "text": [
      " 23%|██▎       | 7/30 [01:27<04:47, 12.49s/it]"
     ]
    },
    {
     "name": "stdout",
     "output_type": "stream",
     "text": [
      "\u001b[4A\n",
      "Epoch :          6,   12419.3900 ms elapsed\n",
      "loss = 0.010507     (min = 0.010507    )  \taccuracy = 0.87905    (max = 0.87905   )\n",
      "loss = 0.011455     (min = 0.011455    )  \taccuracy = 0.8692     (max = 0.8692    )\n"
     ]
    },
    {
     "name": "stderr",
     "output_type": "stream",
     "text": [
      " 30%|███       | 9/30 [01:52<04:25, 12.63s/it]"
     ]
    },
    {
     "name": "stdout",
     "output_type": "stream",
     "text": [
      "\u001b[4A\n",
      "Epoch :          8,   12851.6660 ms elapsed\n",
      "loss = 0.01005      (min = 0.01005     )  \taccuracy = 0.88333    (max = 0.88333   )\n",
      "loss = 0.011081     (min = 0.011081    )  \taccuracy = 0.8732     (max = 0.8732    )\n"
     ]
    },
    {
     "name": "stderr",
     "output_type": "stream",
     "text": [
      " 37%|███▋      | 11/30 [02:19<04:05, 12.93s/it]"
     ]
    },
    {
     "name": "stdout",
     "output_type": "stream",
     "text": [
      "\u001b[4A\n",
      "Epoch :         10,   13556.3350 ms elapsed\n",
      "loss = 0.0096729    (min = 0.0096729   )  \taccuracy = 0.88902    (max = 0.88902   )\n",
      "loss = 0.010856     (min = 0.010856    )  \taccuracy = 0.8774     (max = 0.8774    )\n"
     ]
    },
    {
     "name": "stderr",
     "output_type": "stream",
     "text": [
      " 43%|████▎     | 13/30 [02:45<03:40, 12.96s/it]"
     ]
    },
    {
     "name": "stdout",
     "output_type": "stream",
     "text": [
      "\u001b[4A\n",
      "Epoch :         12,   13116.5120 ms elapsed\n",
      "loss = 0.0093963    (min = 0.0093963   )  \taccuracy = 0.89105    (max = 0.89105   )\n",
      "loss = 0.011008     (min = 0.010856    )  \taccuracy = 0.8742     (max = 0.8774    )\n"
     ]
    },
    {
     "name": "stderr",
     "output_type": "stream",
     "text": [
      " 50%|█████     | 15/30 [03:10<03:12, 12.83s/it]"
     ]
    },
    {
     "name": "stdout",
     "output_type": "stream",
     "text": [
      "\u001b[4A\n",
      "Epoch :         14,   12306.7940 ms elapsed\n",
      "loss = 0.0091802    (min = 0.0091802   )  \taccuracy = 0.89397    (max = 0.89397   )\n",
      "loss = 0.010714     (min = 0.010714    )  \taccuracy = 0.8778     (max = 0.8778    )\n"
     ]
    },
    {
     "name": "stderr",
     "output_type": "stream",
     "text": [
      " 57%|█████▋    | 17/30 [03:35<02:42, 12.51s/it]"
     ]
    },
    {
     "name": "stdout",
     "output_type": "stream",
     "text": [
      "\u001b[4A\n",
      "Epoch :         16,   12111.1420 ms elapsed\n",
      "loss = 0.0089638    (min = 0.0089638   )  \taccuracy = 0.89503    (max = 0.89503   )\n",
      "loss = 0.010826     (min = 0.010714    )  \taccuracy = 0.8754     (max = 0.8795    )\n"
     ]
    },
    {
     "name": "stderr",
     "output_type": "stream",
     "text": [
      " 63%|██████▎   | 19/30 [03:59<02:14, 12.25s/it]"
     ]
    },
    {
     "name": "stdout",
     "output_type": "stream",
     "text": [
      "\u001b[4A\n",
      "Epoch :         18,   12016.2620 ms elapsed\n",
      "loss = 0.0088714    (min = 0.0088714   )  \taccuracy = 0.8969     (max = 0.8969    )\n",
      "loss = 0.01065      (min = 0.010573    )  \taccuracy = 0.8793     (max = 0.8799    )\n"
     ]
    },
    {
     "name": "stderr",
     "output_type": "stream",
     "text": [
      " 70%|███████   | 21/30 [04:24<01:51, 12.38s/it]"
     ]
    },
    {
     "name": "stdout",
     "output_type": "stream",
     "text": [
      "\u001b[4A\n",
      "Epoch :         20,   12167.8440 ms elapsed\n",
      "loss = 0.0087172    (min = 0.0087172   )  \taccuracy = 0.8985     (max = 0.8985    )\n",
      "loss = 0.010612     (min = 0.010573    )  \taccuracy = 0.8764     (max = 0.8799    )\n"
     ]
    },
    {
     "name": "stderr",
     "output_type": "stream",
     "text": [
      " 77%|███████▋  | 23/30 [04:48<01:26, 12.36s/it]"
     ]
    },
    {
     "name": "stdout",
     "output_type": "stream",
     "text": [
      "\u001b[4A\n",
      "Epoch :         22,   12450.6040 ms elapsed\n",
      "loss = 0.0086141    (min = 0.0086141   )  \taccuracy = 0.89975    (max = 0.89975   )\n",
      "loss = 0.010729     (min = 0.010573    )  \taccuracy = 0.8813     (max = 0.882     )\n"
     ]
    },
    {
     "name": "stderr",
     "output_type": "stream",
     "text": [
      " 83%|████████▎ | 25/30 [05:13<01:01, 12.22s/it]"
     ]
    },
    {
     "name": "stdout",
     "output_type": "stream",
     "text": [
      "\u001b[4A\n",
      "Epoch :         24,   11879.0120 ms elapsed\n",
      "loss = 0.0084787    (min = 0.0084787   )  \taccuracy = 0.90067    (max = 0.90067   )\n",
      "loss = 0.010438     (min = 0.010345    )  \taccuracy = 0.8825     (max = 0.8825    )\n"
     ]
    },
    {
     "name": "stderr",
     "output_type": "stream",
     "text": [
      " 90%|█████████ | 27/30 [05:38<00:37, 12.42s/it]"
     ]
    },
    {
     "name": "stdout",
     "output_type": "stream",
     "text": [
      "\u001b[4A\n",
      "Epoch :         26,   12548.9060 ms elapsed\n",
      "loss = 0.0083905    (min = 0.0083905   )  \taccuracy = 0.90263    (max = 0.90263   )\n",
      "loss = 0.010806     (min = 0.010345    )  \taccuracy = 0.8822     (max = 0.8825    )\n"
     ]
    },
    {
     "name": "stderr",
     "output_type": "stream",
     "text": [
      " 97%|█████████▋| 29/30 [06:03<00:12, 12.52s/it]"
     ]
    },
    {
     "name": "stdout",
     "output_type": "stream",
     "text": [
      "\u001b[4A\n",
      "Epoch :         28,   12929.5510 ms elapsed\n",
      "loss = 0.008298     (min = 0.008298    )  \taccuracy = 0.9036     (max = 0.9036    )\n",
      "loss = 0.010626     (min = 0.010345    )  \taccuracy = 0.882      (max = 0.8843    )\n"
     ]
    },
    {
     "name": "stderr",
     "output_type": "stream",
     "text": [
      "100%|██████████| 30/30 [06:16<00:00, 12.61s/it]\n"
     ]
    },
    {
     "name": "stdout",
     "output_type": "stream",
     "text": [
      "Finished Training\n"
     ]
    },
    {
     "data": {
      "image/png": "[encoded data removed]",
      "text/plain": [
       "<Figure size 432x288 with 1 Axes>"
      ]
     },
     "metadata": {
      "needs_background": "light"
     },
     "output_type": "display_data"
    },
    {
     "data": {
      "image/png": "[encoded data removed]",
      "text/plain": [
       "<Figure size 432x288 with 1 Axes>"
      ]
     },
     "metadata": {
      "needs_background": "light"
     },
     "output_type": "display_data"
    },
    {
     "name": "stdout",
     "output_type": "stream",
     "text": [
      "Saving models...\n",
      "The classification accuracy:  0.8797\n",
      "\n"
     ]
    },
    {
     "data": {
      "image/png": "[encoded data removed]",
      "text/plain": [
       "<Figure size 432x288 with 2 Axes>"
      ]
     },
     "metadata": {
      "needs_background": "light"
     },
     "output_type": "display_data"
    }
   ],
   "source": [
    "# use the same network structure as for mninst task\n",
    "raw_cnn_fashion = Raw_CNN_Mnist().to(device)\n",
    "\n",
    "raw_criterion = nn.CrossEntropyLoss()\n",
    "raw_optimizer = optim.Adam(raw_cnn_fashion.parameters(), lr=0.001)\n",
    "raw_stats = learningStats()\n",
    "\n",
    "train(raw_cnn_fashion,'raw_cnn_fashion',\n",
    "      trainloader_cnn,testloader_cnn,\n",
    "      raw_criterion, \n",
    "      raw_optimizer,\n",
    "      raw_stats,\n",
    "      epoch=EPOCH)\n",
    "\n",
    "y_true, y_pred = get_labels(raw_cnn_fashion, testloader_cnn, snn=False)\n",
    "test_method(y_true.cpu().numpy(), y_pred.cpu().numpy())"
   ]
  },
  {
   "cell_type": "markdown",
   "metadata": {},
   "source": [
    "* train the tailored CNN on Fashion-MNIST"
   ]
  },
  {
   "cell_type": "code",
   "execution_count": 18,
   "metadata": {},
   "outputs": [
    {
     "name": "stderr",
     "output_type": "stream",
     "text": [
      "  3%|▎         | 1/30 [00:12<06:11, 12.80s/it]"
     ]
    },
    {
     "name": "stdout",
     "output_type": "stream",
     "text": [
      "\u001b[0A\n",
      "Epoch :          0,   12800.6100 ms elapsed\n",
      "loss = 0.021039     (min = 0.021039    )  \taccuracy = 0.7609     (max = 0.7609    )\n",
      "loss = 0.017261     (min = 0.017261    )  \taccuracy = 0.7969     (max = 0.7969    )\n"
     ]
    },
    {
     "name": "stderr",
     "output_type": "stream",
     "text": [
      " 10%|█         | 3/30 [00:37<05:40, 12.60s/it]"
     ]
    },
    {
     "name": "stdout",
     "output_type": "stream",
     "text": [
      "\u001b[4A\n",
      "Epoch :          2,   12266.2120 ms elapsed\n",
      "loss = 0.014165     (min = 0.014165    )  \taccuracy = 0.83978    (max = 0.83978   )\n",
      "loss = 0.014728     (min = 0.014728    )  \taccuracy = 0.8316     (max = 0.8316    )\n"
     ]
    },
    {
     "name": "stderr",
     "output_type": "stream",
     "text": [
      " 17%|█▋        | 5/30 [01:02<05:11, 12.47s/it]"
     ]
    },
    {
     "name": "stdout",
     "output_type": "stream",
     "text": [
      "\u001b[4A\n",
      "Epoch :          4,   12165.7370 ms elapsed\n",
      "loss = 0.012308     (min = 0.012308    )  \taccuracy = 0.86342    (max = 0.86342   )\n",
      "loss = 0.012488     (min = 0.012488    )  \taccuracy = 0.8578     (max = 0.8578    )\n"
     ]
    },
    {
     "name": "stderr",
     "output_type": "stream",
     "text": [
      " 23%|██▎       | 7/30 [01:26<04:42, 12.27s/it]"
     ]
    },
    {
     "name": "stdout",
     "output_type": "stream",
     "text": [
      "\u001b[4A\n",
      "Epoch :          6,   11885.2180 ms elapsed\n",
      "loss = 0.011227     (min = 0.011227    )  \taccuracy = 0.87522    (max = 0.87522   )\n",
      "loss = 0.011828     (min = 0.011828    )  \taccuracy = 0.8729     (max = 0.8729    )\n"
     ]
    },
    {
     "name": "stderr",
     "output_type": "stream",
     "text": [
      " 30%|███       | 9/30 [01:50<04:15, 12.17s/it]"
     ]
    },
    {
     "name": "stdout",
     "output_type": "stream",
     "text": [
      "\u001b[4A\n",
      "Epoch :          8,   11919.0650 ms elapsed\n",
      "loss = 0.010624     (min = 0.010624    )  \taccuracy = 0.8816     (max = 0.8816    )\n",
      "loss = 0.011711     (min = 0.011711    )  \taccuracy = 0.8699     (max = 0.8729    )\n"
     ]
    },
    {
     "name": "stderr",
     "output_type": "stream",
     "text": [
      " 37%|███▋      | 11/30 [02:15<03:53, 12.28s/it]"
     ]
    },
    {
     "name": "stdout",
     "output_type": "stream",
     "text": [
      "\u001b[4A\n",
      "Epoch :         10,   12679.2140 ms elapsed\n",
      "loss = 0.010114     (min = 0.010114    )  \taccuracy = 0.88737    (max = 0.88737   )\n",
      "loss = 0.010912     (min = 0.010912    )  \taccuracy = 0.8781     (max = 0.8781    )\n"
     ]
    },
    {
     "name": "stderr",
     "output_type": "stream",
     "text": [
      " 43%|████▎     | 13/30 [02:39<03:26, 12.14s/it]"
     ]
    },
    {
     "name": "stdout",
     "output_type": "stream",
     "text": [
      "\u001b[4A\n",
      "Epoch :         12,   12048.6470 ms elapsed\n",
      "loss = 0.0097795    (min = 0.0097795   )  \taccuracy = 0.89015    (max = 0.89015   )\n",
      "loss = 0.010568     (min = 0.010568    )  \taccuracy = 0.8843     (max = 0.8843    )\n"
     ]
    },
    {
     "name": "stderr",
     "output_type": "stream",
     "text": [
      " 50%|█████     | 15/30 [03:03<03:00, 12.04s/it]"
     ]
    },
    {
     "name": "stdout",
     "output_type": "stream",
     "text": [
      "\u001b[4A\n",
      "Epoch :         14,   11902.2700 ms elapsed\n",
      "loss = 0.0094425    (min = 0.0094425   )  \taccuracy = 0.89378    (max = 0.89378   )\n",
      "loss = 0.010632     (min = 0.010568    )  \taccuracy = 0.8795     (max = 0.8843    )\n"
     ]
    },
    {
     "name": "stderr",
     "output_type": "stream",
     "text": [
      " 57%|█████▋    | 17/30 [03:27<02:37, 12.11s/it]"
     ]
    },
    {
     "name": "stdout",
     "output_type": "stream",
     "text": [
      "\u001b[4A\n",
      "Epoch :         16,   12195.8610 ms elapsed\n",
      "loss = 0.0092438    (min = 0.0092438   )  \taccuracy = 0.89505    (max = 0.89505   )\n",
      "loss = 0.010165     (min = 0.010165    )  \taccuracy = 0.8854     (max = 0.8854    )\n"
     ]
    },
    {
     "name": "stderr",
     "output_type": "stream",
     "text": [
      " 63%|██████▎   | 19/30 [03:53<02:16, 12.38s/it]"
     ]
    },
    {
     "name": "stdout",
     "output_type": "stream",
     "text": [
      "\u001b[4A\n",
      "Epoch :         18,   12483.3280 ms elapsed\n",
      "loss = 0.0090525    (min = 0.0090525   )  \taccuracy = 0.89808    (max = 0.89808   )\n",
      "loss = 0.010682     (min = 0.010165    )  \taccuracy = 0.8776     (max = 0.8854    )\n"
     ]
    },
    {
     "name": "stderr",
     "output_type": "stream",
     "text": [
      " 70%|███████   | 21/30 [04:18<01:51, 12.43s/it]"
     ]
    },
    {
     "name": "stdout",
     "output_type": "stream",
     "text": [
      "\u001b[4A\n",
      "Epoch :         20,   12551.8480 ms elapsed\n",
      "loss = 0.0088919    (min = 0.0088919   )  \taccuracy = 0.89962    (max = 0.89962   )\n",
      "loss = 0.010065     (min = 0.010065    )  \taccuracy = 0.8865     (max = 0.8865    )\n"
     ]
    },
    {
     "name": "stderr",
     "output_type": "stream",
     "text": [
      " 77%|███████▋  | 23/30 [04:42<01:25, 12.27s/it]"
     ]
    },
    {
     "name": "stdout",
     "output_type": "stream",
     "text": [
      "\u001b[4A\n",
      "Epoch :         22,   11898.6500 ms elapsed\n",
      "loss = 0.0087448    (min = 0.0087448   )  \taccuracy = 0.90128    (max = 0.90128   )\n",
      "loss = 0.010184     (min = 0.010065    )  \taccuracy = 0.887      (max = 0.887     )\n"
     ]
    },
    {
     "name": "stderr",
     "output_type": "stream",
     "text": [
      " 83%|████████▎ | 25/30 [05:06<01:01, 12.29s/it]"
     ]
    },
    {
     "name": "stdout",
     "output_type": "stream",
     "text": [
      "\u001b[4A\n",
      "Epoch :         24,   12333.0980 ms elapsed\n",
      "loss = 0.0086249    (min = 0.0086249   )  \taccuracy = 0.90228    (max = 0.90262   )\n",
      "loss = 0.010033     (min = 0.010033    )  \taccuracy = 0.8941     (max = 0.8941    )\n"
     ]
    },
    {
     "name": "stderr",
     "output_type": "stream",
     "text": [
      " 90%|█████████ | 27/30 [05:31<00:37, 12.33s/it]"
     ]
    },
    {
     "name": "stdout",
     "output_type": "stream",
     "text": [
      "\u001b[4A\n",
      "Epoch :         26,   12210.1750 ms elapsed\n",
      "loss = 0.0084882    (min = 0.0084882   )  \taccuracy = 0.9028     (max = 0.9028    )\n",
      "loss = 0.0099606    (min = 0.0099606   )  \taccuracy = 0.8866     (max = 0.8941    )\n"
     ]
    },
    {
     "name": "stderr",
     "output_type": "stream",
     "text": [
      " 97%|█████████▋| 29/30 [05:57<00:12, 12.57s/it]"
     ]
    },
    {
     "name": "stdout",
     "output_type": "stream",
     "text": [
      "\u001b[4A\n",
      "Epoch :         28,   12793.8550 ms elapsed\n",
      "loss = 0.0083941    (min = 0.0083941   )  \taccuracy = 0.90452    (max = 0.90452   )\n",
      "loss = 0.010186     (min = 0.0096964   )  \taccuracy = 0.8867     (max = 0.8941    )\n"
     ]
    },
    {
     "name": "stderr",
     "output_type": "stream",
     "text": [
      "100%|██████████| 30/30 [06:09<00:00, 12.54s/it]\n"
     ]
    },
    {
     "name": "stdout",
     "output_type": "stream",
     "text": [
      "Finished Training\n"
     ]
    },
    {
     "data": {
      "image/png": "[encoded data removed]",
      "text/plain": [
       "<Figure size 432x288 with 1 Axes>"
      ]
     },
     "metadata": {
      "needs_background": "light"
     },
     "output_type": "display_data"
    },
    {
     "data": {
      "image/png": "[encoded data removed]",
      "text/plain": [
       "<Figure size 432x288 with 1 Axes>"
      ]
     },
     "metadata": {
      "needs_background": "light"
     },
     "output_type": "display_data"
    },
    {
     "name": "stdout",
     "output_type": "stream",
     "text": [
      "Saving models...\n",
      "The classification accuracy:  0.8926\n",
      "\n"
     ]
    },
    {
     "data": {
      "image/png": "[encoded data removed]",
      "text/plain": [
       "<Figure size 432x288 with 2 Axes>"
      ]
     },
     "metadata": {
      "needs_background": "light"
     },
     "output_type": "display_data"
    }
   ],
   "source": [
    "tailored_cnn_fashion = Tailored_CNN_Mnist().to(device)\n",
    "\n",
    "t_criterion = nn.CrossEntropyLoss()\n",
    "t_optimizer = optim.Adam(tailored_cnn_fashion.parameters(), lr=0.001)\n",
    "t_stats = learningStats()\n",
    "\n",
    "train(tailored_cnn_fashion,'tailor_cnn_fashion', \n",
    "      trainloader_cnn,testloader_cnn, \n",
    "      t_criterion, \n",
    "      t_optimizer,\n",
    "      t_stats,\n",
    "      epoch=EPOCH)\n",
    "\n",
    "y_true, y_pred = get_labels(tailored_cnn_fashion, testloader_cnn, snn=False)\n",
    "test_method(y_true.cpu().numpy(), y_pred.cpu().numpy())"
   ]
  },
  {
   "cell_type": "markdown",
   "metadata": {},
   "source": [
    "### for small size Fashion-MNIST"
   ]
  },
  {
   "cell_type": "code",
   "execution_count": 19,
   "metadata": {},
   "outputs": [],
   "source": [
    "trainset_cnn = FashionMNIST500('./data', train=True)\n",
    "\n",
    "trainloader_cnn = torch.utils.data.DataLoader(trainset_cnn, batch_size=BATCH_SIZE,\n",
    "                                          shuffle=True, num_workers=NUM_WORKERS)\n",
    "\n",
    "testset_cnn = FashionMNIST500('./data', train=False)\n",
    "\n",
    "testloader_cnn = torch.utils.data.DataLoader(testset_cnn, batch_size=BATCH_SIZE,\n",
    "                                         shuffle=False, num_workers=NUM_WORKERS)"
   ]
  },
  {
   "cell_type": "markdown",
   "metadata": {},
   "source": [
    "* train the raw CNN on small Fashion-MNIST\n"
   ]
  },
  {
   "cell_type": "code",
   "execution_count": 20,
   "metadata": {
    "scrolled": true
   },
   "outputs": [
    {
     "name": "stderr",
     "output_type": "stream",
     "text": [
      "  1%|          | 1/100 [00:00<00:35,  2.76it/s]"
     ]
    },
    {
     "name": "stdout",
     "output_type": "stream",
     "text": [
      "\u001b[0A\n",
      "Epoch :          0,     361.4990 ms elapsed\n",
      "loss = 0.07362      (min = 0.07362     )  \taccuracy = 0.098      (max = 0.098     )\n",
      "loss = 0.073118     (min = 0.073118    )  \taccuracy = 0.098      (max = 0.098     )\n"
     ]
    },
    {
     "name": "stderr",
     "output_type": "stream",
     "text": [
      "  3%|▎         | 3/100 [00:01<00:35,  2.71it/s]"
     ]
    },
    {
     "name": "stdout",
     "output_type": "stream",
     "text": [
      "\u001b[4A\n",
      "Epoch :          2,     376.9580 ms elapsed\n",
      "loss = 0.068164     (min = 0.068164    )  \taccuracy = 0.2        (max = 0.226     )\n",
      "loss = 0.065031     (min = 0.065031    )  \taccuracy = 0.278      (max = 0.278     )\n"
     ]
    },
    {
     "name": "stderr",
     "output_type": "stream",
     "text": [
      "  5%|▌         | 5/100 [00:01<00:35,  2.66it/s]"
     ]
    },
    {
     "name": "stdout",
     "output_type": "stream",
     "text": [
      "\u001b[4A\n",
      "Epoch :          4,     374.3120 ms elapsed\n",
      "loss = 0.046243     (min = 0.046243    )  \taccuracy = 0.636      (max = 0.636     )\n",
      "loss = 0.038859     (min = 0.038859    )  \taccuracy = 0.698      (max = 0.698     )\n"
     ]
    },
    {
     "name": "stderr",
     "output_type": "stream",
     "text": [
      "  7%|▋         | 7/100 [00:02<00:34,  2.68it/s]"
     ]
    },
    {
     "name": "stdout",
     "output_type": "stream",
     "text": [
      "\u001b[4A\n",
      "Epoch :          6,     366.9590 ms elapsed\n",
      "loss = 0.027668     (min = 0.027668    )  \taccuracy = 0.734      (max = 0.734     )\n",
      "loss = 0.027032     (min = 0.027032    )  \taccuracy = 0.692      (max = 0.698     )\n"
     ]
    },
    {
     "name": "stderr",
     "output_type": "stream",
     "text": [
      "  9%|▉         | 9/100 [00:03<00:34,  2.62it/s]"
     ]
    },
    {
     "name": "stdout",
     "output_type": "stream",
     "text": [
      "\u001b[4A\n",
      "Epoch :          8,     386.7330 ms elapsed\n",
      "loss = 0.02347      (min = 0.02347     )  \taccuracy = 0.77       (max = 0.77      )\n",
      "loss = 0.024118     (min = 0.024118    )  \taccuracy = 0.722      (max = 0.722     )\n"
     ]
    },
    {
     "name": "stderr",
     "output_type": "stream",
     "text": [
      " 11%|█         | 11/100 [00:04<00:33,  2.69it/s]"
     ]
    },
    {
     "name": "stdout",
     "output_type": "stream",
     "text": [
      "\u001b[4A\n",
      "Epoch :         10,     351.8730 ms elapsed\n",
      "loss = 0.020432     (min = 0.020432    )  \taccuracy = 0.78       (max = 0.78      )\n",
      "loss = 0.022417     (min = 0.022417    )  \taccuracy = 0.746      (max = 0.746     )\n"
     ]
    },
    {
     "name": "stderr",
     "output_type": "stream",
     "text": [
      " 13%|█▎        | 13/100 [00:04<00:32,  2.67it/s]"
     ]
    },
    {
     "name": "stdout",
     "output_type": "stream",
     "text": [
      "\u001b[4A\n",
      "Epoch :         12,     368.9660 ms elapsed\n",
      "loss = 0.018824     (min = 0.018824    )  \taccuracy = 0.802      (max = 0.802     )\n",
      "loss = 0.021279     (min = 0.021279    )  \taccuracy = 0.762      (max = 0.762     )\n"
     ]
    },
    {
     "name": "stderr",
     "output_type": "stream",
     "text": [
      " 15%|█▌        | 15/100 [00:05<00:32,  2.65it/s]"
     ]
    },
    {
     "name": "stdout",
     "output_type": "stream",
     "text": [
      "\u001b[4A\n",
      "Epoch :         14,     368.3680 ms elapsed\n",
      "loss = 0.017912     (min = 0.017912    )  \taccuracy = 0.822      (max = 0.822     )\n",
      "loss = 0.020952     (min = 0.020859    )  \taccuracy = 0.76       (max = 0.762     )\n"
     ]
    },
    {
     "name": "stderr",
     "output_type": "stream",
     "text": [
      " 17%|█▋        | 17/100 [00:06<00:30,  2.70it/s]"
     ]
    },
    {
     "name": "stdout",
     "output_type": "stream",
     "text": [
      "\u001b[4A\n",
      "Epoch :         16,     354.9350 ms elapsed\n",
      "loss = 0.016732     (min = 0.016732    )  \taccuracy = 0.826      (max = 0.826     )\n",
      "loss = 0.02095      (min = 0.020151    )  \taccuracy = 0.73       (max = 0.774     )\n"
     ]
    },
    {
     "name": "stderr",
     "output_type": "stream",
     "text": [
      " 19%|█▉        | 19/100 [00:07<00:30,  2.63it/s]"
     ]
    },
    {
     "name": "stdout",
     "output_type": "stream",
     "text": [
      "\u001b[4A\n",
      "Epoch :         18,     374.6010 ms elapsed\n",
      "loss = 0.015519     (min = 0.015519    )  \taccuracy = 0.828      (max = 0.828     )\n",
      "loss = 0.019573     (min = 0.019573    )  \taccuracy = 0.78       (max = 0.786     )\n"
     ]
    },
    {
     "name": "stderr",
     "output_type": "stream",
     "text": [
      " 21%|██        | 21/100 [00:07<00:30,  2.61it/s]"
     ]
    },
    {
     "name": "stdout",
     "output_type": "stream",
     "text": [
      "\u001b[4A\n",
      "Epoch :         20,     386.0480 ms elapsed\n",
      "loss = 0.014874     (min = 0.014874    )  \taccuracy = 0.842      (max = 0.842     )\n",
      "loss = 0.019671     (min = 0.019555    )  \taccuracy = 0.79       (max = 0.79      )\n"
     ]
    },
    {
     "name": "stderr",
     "output_type": "stream",
     "text": [
      " 23%|██▎       | 23/100 [00:08<00:29,  2.65it/s]"
     ]
    },
    {
     "name": "stdout",
     "output_type": "stream",
     "text": [
      "\u001b[4A\n",
      "Epoch :         22,     368.2510 ms elapsed\n",
      "loss = 0.014963     (min = 0.014828    )  \taccuracy = 0.828      (max = 0.846     )\n",
      "loss = 0.019639     (min = 0.019555    )  \taccuracy = 0.788      (max = 0.79      )\n"
     ]
    },
    {
     "name": "stderr",
     "output_type": "stream",
     "text": [
      " 25%|██▌       | 25/100 [00:09<00:28,  2.65it/s]"
     ]
    },
    {
     "name": "stdout",
     "output_type": "stream",
     "text": [
      "\u001b[4A\n",
      "Epoch :         24,     365.5140 ms elapsed\n",
      "loss = 0.013653     (min = 0.013653    )  \taccuracy = 0.856      (max = 0.856     )\n",
      "loss = 0.019628     (min = 0.019079    )  \taccuracy = 0.764      (max = 0.79      )\n"
     ]
    },
    {
     "name": "stderr",
     "output_type": "stream",
     "text": [
      " 27%|██▋       | 27/100 [00:10<00:27,  2.61it/s]"
     ]
    },
    {
     "name": "stdout",
     "output_type": "stream",
     "text": [
      "\u001b[4A\n",
      "Epoch :         26,     387.4120 ms elapsed\n",
      "loss = 0.01266      (min = 0.01266     )  \taccuracy = 0.86       (max = 0.86      )\n",
      "loss = 0.018378     (min = 0.018378    )  \taccuracy = 0.806      (max = 0.806     )\n"
     ]
    },
    {
     "name": "stderr",
     "output_type": "stream",
     "text": [
      " 29%|██▉       | 29/100 [00:10<00:26,  2.67it/s]"
     ]
    },
    {
     "name": "stdout",
     "output_type": "stream",
     "text": [
      "\u001b[4A\n",
      "Epoch :         28,     362.2360 ms elapsed\n",
      "loss = 0.012152     (min = 0.012152    )  \taccuracy = 0.876      (max = 0.89      )\n",
      "loss = 0.018773     (min = 0.018378    )  \taccuracy = 0.802      (max = 0.806     )\n"
     ]
    },
    {
     "name": "stderr",
     "output_type": "stream",
     "text": [
      " 31%|███       | 31/100 [00:11<00:26,  2.62it/s]"
     ]
    },
    {
     "name": "stdout",
     "output_type": "stream",
     "text": [
      "\u001b[4A\n",
      "Epoch :         30,     370.9810 ms elapsed\n",
      "loss = 0.011265     (min = 0.011265    )  \taccuracy = 0.886      (max = 0.89      )\n",
      "loss = 0.019379     (min = 0.018378    )  \taccuracy = 0.768      (max = 0.806     )\n"
     ]
    },
    {
     "name": "stderr",
     "output_type": "stream",
     "text": [
      " 33%|███▎      | 33/100 [00:12<00:25,  2.62it/s]"
     ]
    },
    {
     "name": "stdout",
     "output_type": "stream",
     "text": [
      "\u001b[4A\n",
      "Epoch :         32,     388.0350 ms elapsed\n",
      "loss = 0.010656     (min = 0.010656    )  \taccuracy = 0.884      (max = 0.89      )\n",
      "loss = 0.018349     (min = 0.018335    )  \taccuracy = 0.802      (max = 0.806     )\n"
     ]
    },
    {
     "name": "stderr",
     "output_type": "stream",
     "text": [
      " 35%|███▌      | 35/100 [00:13<00:24,  2.64it/s]"
     ]
    },
    {
     "name": "stdout",
     "output_type": "stream",
     "text": [
      "\u001b[4A\n",
      "Epoch :         34,     365.4860 ms elapsed\n",
      "loss = 0.010566     (min = 0.010566    )  \taccuracy = 0.892      (max = 0.894     )\n",
      "loss = 0.020599     (min = 0.018335    )  \taccuracy = 0.774      (max = 0.806     )\n"
     ]
    },
    {
     "name": "stderr",
     "output_type": "stream",
     "text": [
      " 37%|███▋      | 37/100 [00:14<00:24,  2.61it/s]"
     ]
    },
    {
     "name": "stdout",
     "output_type": "stream",
     "text": [
      "\u001b[4A\n",
      "Epoch :         36,     378.3150 ms elapsed\n",
      "loss = 0.010323     (min = 0.010323    )  \taccuracy = 0.892      (max = 0.894     )\n",
      "loss = 0.018516     (min = 0.018335    )  \taccuracy = 0.796      (max = 0.806     )\n"
     ]
    },
    {
     "name": "stderr",
     "output_type": "stream",
     "text": [
      " 39%|███▉      | 39/100 [00:14<00:23,  2.62it/s]"
     ]
    },
    {
     "name": "stdout",
     "output_type": "stream",
     "text": [
      "\u001b[4A\n",
      "Epoch :         38,     387.7360 ms elapsed\n",
      "loss = 0.0098872    (min = 0.0098496   )  \taccuracy = 0.888      (max = 0.894     )\n",
      "loss = 0.019037     (min = 0.018335    )  \taccuracy = 0.8        (max = 0.812     )\n"
     ]
    },
    {
     "name": "stderr",
     "output_type": "stream",
     "text": [
      " 41%|████      | 41/100 [00:15<00:22,  2.64it/s]"
     ]
    },
    {
     "name": "stdout",
     "output_type": "stream",
     "text": [
      "\u001b[4A\n",
      "Epoch :         40,     372.9390 ms elapsed\n",
      "loss = 0.0085951    (min = 0.0085951   )  \taccuracy = 0.922      (max = 0.922     )\n",
      "loss = 0.018291     (min = 0.018291    )  \taccuracy = 0.806      (max = 0.812     )\n"
     ]
    },
    {
     "name": "stderr",
     "output_type": "stream",
     "text": [
      " 43%|████▎     | 43/100 [00:16<00:20,  2.76it/s]"
     ]
    },
    {
     "name": "stdout",
     "output_type": "stream",
     "text": [
      "\u001b[4A\n",
      "Epoch :         42,     343.1060 ms elapsed\n",
      "loss = 0.0079917    (min = 0.0079917   )  \taccuracy = 0.922      (max = 0.922     )\n",
      "loss = 0.020131     (min = 0.018233    )  \taccuracy = 0.788      (max = 0.812     )\n"
     ]
    },
    {
     "name": "stderr",
     "output_type": "stream",
     "text": [
      " 45%|████▌     | 45/100 [00:16<00:19,  2.76it/s]"
     ]
    },
    {
     "name": "stdout",
     "output_type": "stream",
     "text": [
      "\u001b[4A\n",
      "Epoch :         44,     372.1510 ms elapsed\n",
      "loss = 0.0080454    (min = 0.0079917   )  \taccuracy = 0.918      (max = 0.922     )\n",
      "loss = 0.018522     (min = 0.018233    )  \taccuracy = 0.812      (max = 0.812     )\n"
     ]
    },
    {
     "name": "stderr",
     "output_type": "stream",
     "text": [
      " 47%|████▋     | 47/100 [00:17<00:19,  2.72it/s]"
     ]
    },
    {
     "name": "stdout",
     "output_type": "stream",
     "text": [
      "\u001b[4A\n",
      "Epoch :         46,     368.6160 ms elapsed\n",
      "loss = 0.0078178    (min = 0.0078178   )  \taccuracy = 0.924      (max = 0.928     )\n",
      "loss = 0.018528     (min = 0.018233    )  \taccuracy = 0.814      (max = 0.814     )\n"
     ]
    },
    {
     "name": "stderr",
     "output_type": "stream",
     "text": [
      " 49%|████▉     | 49/100 [00:18<00:18,  2.73it/s]"
     ]
    },
    {
     "name": "stdout",
     "output_type": "stream",
     "text": [
      "\u001b[4A\n",
      "Epoch :         48,     359.7580 ms elapsed\n",
      "loss = 0.0073329    (min = 0.0073329   )  \taccuracy = 0.938      (max = 0.942     )\n",
      "loss = 0.018771     (min = 0.018233    )  \taccuracy = 0.812      (max = 0.814     )\n"
     ]
    },
    {
     "name": "stderr",
     "output_type": "stream",
     "text": [
      " 51%|█████     | 51/100 [00:19<00:18,  2.68it/s]"
     ]
    },
    {
     "name": "stdout",
     "output_type": "stream",
     "text": [
      "\u001b[4A\n",
      "Epoch :         50,     385.8890 ms elapsed\n",
      "loss = 0.006615     (min = 0.006615    )  \taccuracy = 0.948      (max = 0.948     )\n",
      "loss = 0.018807     (min = 0.018233    )  \taccuracy = 0.814      (max = 0.814     )\n"
     ]
    },
    {
     "name": "stderr",
     "output_type": "stream",
     "text": [
      " 53%|█████▎    | 53/100 [00:19<00:17,  2.67it/s]"
     ]
    },
    {
     "name": "stdout",
     "output_type": "stream",
     "text": [
      "\u001b[4A\n",
      "Epoch :         52,     363.3280 ms elapsed\n",
      "loss = 0.0065001    (min = 0.0065001   )  \taccuracy = 0.94       (max = 0.948     )\n",
      "loss = 0.018709     (min = 0.018233    )  \taccuracy = 0.798      (max = 0.814     )\n"
     ]
    },
    {
     "name": "stderr",
     "output_type": "stream",
     "text": [
      " 55%|█████▌    | 55/100 [00:20<00:17,  2.61it/s]"
     ]
    },
    {
     "name": "stdout",
     "output_type": "stream",
     "text": [
      "\u001b[4A\n",
      "Epoch :         54,     376.5080 ms elapsed\n",
      "loss = 0.0062127    (min = 0.0061819   )  \taccuracy = 0.952      (max = 0.952     )\n",
      "loss = 0.018674     (min = 0.018233    )  \taccuracy = 0.808      (max = 0.814     )\n"
     ]
    },
    {
     "name": "stderr",
     "output_type": "stream",
     "text": [
      " 57%|█████▋    | 57/100 [00:21<00:16,  2.62it/s]"
     ]
    },
    {
     "name": "stdout",
     "output_type": "stream",
     "text": [
      "\u001b[4A\n",
      "Epoch :         56,     380.5790 ms elapsed\n",
      "loss = 0.0059365    (min = 0.0057684   )  \taccuracy = 0.942      (max = 0.952     )\n",
      "loss = 0.019383     (min = 0.018233    )  \taccuracy = 0.814      (max = 0.814     )\n"
     ]
    },
    {
     "name": "stderr",
     "output_type": "stream",
     "text": [
      " 59%|█████▉    | 59/100 [00:22<00:15,  2.64it/s]"
     ]
    },
    {
     "name": "stdout",
     "output_type": "stream",
     "text": [
      "\u001b[4A\n",
      "Epoch :         58,     370.0640 ms elapsed\n",
      "loss = 0.0060507    (min = 0.0057441   )  \taccuracy = 0.958      (max = 0.958     )\n",
      "loss = 0.021019     (min = 0.018233    )  \taccuracy = 0.79       (max = 0.814     )\n"
     ]
    },
    {
     "name": "stderr",
     "output_type": "stream",
     "text": [
      " 61%|██████    | 61/100 [00:23<00:14,  2.61it/s]"
     ]
    },
    {
     "name": "stdout",
     "output_type": "stream",
     "text": [
      "\u001b[4A\n",
      "Epoch :         60,     374.6210 ms elapsed\n",
      "loss = 0.0055559    (min = 0.0055559   )  \taccuracy = 0.944      (max = 0.958     )\n",
      "loss = 0.019344     (min = 0.018233    )  \taccuracy = 0.814      (max = 0.814     )\n"
     ]
    },
    {
     "name": "stderr",
     "output_type": "stream",
     "text": [
      " 63%|██████▎   | 63/100 [00:23<00:14,  2.63it/s]"
     ]
    },
    {
     "name": "stdout",
     "output_type": "stream",
     "text": [
      "\u001b[4A\n",
      "Epoch :         62,     388.0860 ms elapsed\n",
      "loss = 0.004927     (min = 0.004927    )  \taccuracy = 0.962      (max = 0.962     )\n",
      "loss = 0.019974     (min = 0.018233    )  \taccuracy = 0.806      (max = 0.814     )\n"
     ]
    },
    {
     "name": "stderr",
     "output_type": "stream",
     "text": [
      " 65%|██████▌   | 65/100 [00:24<00:13,  2.59it/s]"
     ]
    },
    {
     "name": "stdout",
     "output_type": "stream",
     "text": [
      "\u001b[4A\n",
      "Epoch :         64,     376.3300 ms elapsed\n",
      "loss = 0.0050445    (min = 0.004927    )  \taccuracy = 0.952      (max = 0.962     )\n",
      "loss = 0.023494     (min = 0.018233    )  \taccuracy = 0.762      (max = 0.814     )\n"
     ]
    },
    {
     "name": "stderr",
     "output_type": "stream",
     "text": [
      " 67%|██████▋   | 67/100 [00:25<00:12,  2.63it/s]"
     ]
    },
    {
     "name": "stdout",
     "output_type": "stream",
     "text": [
      "\u001b[4A\n",
      "Epoch :         66,     369.2120 ms elapsed\n",
      "loss = 0.0043268    (min = 0.0043268   )  \taccuracy = 0.964      (max = 0.964     )\n",
      "loss = 0.020138     (min = 0.018233    )  \taccuracy = 0.804      (max = 0.814     )\n"
     ]
    },
    {
     "name": "stderr",
     "output_type": "stream",
     "text": [
      " 69%|██████▉   | 69/100 [00:26<00:11,  2.59it/s]"
     ]
    },
    {
     "name": "stdout",
     "output_type": "stream",
     "text": [
      "\u001b[4A\n",
      "Epoch :         68,     397.5980 ms elapsed\n",
      "loss = 0.0041746    (min = 0.0041746   )  \taccuracy = 0.964      (max = 0.964     )\n",
      "loss = 0.02032      (min = 0.018233    )  \taccuracy = 0.798      (max = 0.814     )\n"
     ]
    },
    {
     "name": "stderr",
     "output_type": "stream",
     "text": [
      " 71%|███████   | 71/100 [00:26<00:11,  2.60it/s]"
     ]
    },
    {
     "name": "stdout",
     "output_type": "stream",
     "text": [
      "\u001b[4A\n",
      "Epoch :         70,     391.7270 ms elapsed\n",
      "loss = 0.0039164    (min = 0.0039164   )  \taccuracy = 0.966      (max = 0.966     )\n",
      "loss = 0.020512     (min = 0.018233    )  \taccuracy = 0.818      (max = 0.818     )\n"
     ]
    },
    {
     "name": "stderr",
     "output_type": "stream",
     "text": [
      " 73%|███████▎  | 73/100 [00:27<00:10,  2.66it/s]"
     ]
    },
    {
     "name": "stdout",
     "output_type": "stream",
     "text": [
      "\u001b[4A\n",
      "Epoch :         72,     367.2410 ms elapsed\n",
      "loss = 0.0036987    (min = 0.0036987   )  \taccuracy = 0.968      (max = 0.968     )\n",
      "loss = 0.020413     (min = 0.018233    )  \taccuracy = 0.808      (max = 0.818     )\n"
     ]
    },
    {
     "name": "stderr",
     "output_type": "stream",
     "text": [
      " 75%|███████▌  | 75/100 [00:28<00:09,  2.62it/s]"
     ]
    },
    {
     "name": "stdout",
     "output_type": "stream",
     "text": [
      "\u001b[4A\n",
      "Epoch :         74,     386.3020 ms elapsed\n",
      "loss = 0.0035708    (min = 0.0035708   )  \taccuracy = 0.974      (max = 0.974     )\n",
      "loss = 0.021161     (min = 0.018233    )  \taccuracy = 0.802      (max = 0.818     )\n"
     ]
    },
    {
     "name": "stderr",
     "output_type": "stream",
     "text": [
      " 77%|███████▋  | 77/100 [00:29<00:08,  2.65it/s]"
     ]
    },
    {
     "name": "stdout",
     "output_type": "stream",
     "text": [
      "\u001b[4A\n",
      "Epoch :         76,     373.1640 ms elapsed\n",
      "loss = 0.0036447    (min = 0.0035254   )  \taccuracy = 0.966      (max = 0.974     )\n",
      "loss = 0.020874     (min = 0.018233    )  \taccuracy = 0.814      (max = 0.818     )\n"
     ]
    },
    {
     "name": "stderr",
     "output_type": "stream",
     "text": [
      " 79%|███████▉  | 79/100 [00:29<00:07,  2.63it/s]"
     ]
    },
    {
     "name": "stdout",
     "output_type": "stream",
     "text": [
      "\u001b[4A\n",
      "Epoch :         78,     386.2380 ms elapsed\n",
      "loss = 0.0035768    (min = 0.0032801   )  \taccuracy = 0.964      (max = 0.978     )\n",
      "loss = 0.021869     (min = 0.018233    )  \taccuracy = 0.79       (max = 0.818     )\n"
     ]
    },
    {
     "name": "stderr",
     "output_type": "stream",
     "text": [
      " 81%|████████  | 81/100 [00:30<00:07,  2.59it/s]"
     ]
    },
    {
     "name": "stdout",
     "output_type": "stream",
     "text": [
      "\u001b[4A\n",
      "Epoch :         80,     381.2740 ms elapsed\n",
      "loss = 0.0031148    (min = 0.0031148   )  \taccuracy = 0.968      (max = 0.98      )\n",
      "loss = 0.022822     (min = 0.018233    )  \taccuracy = 0.788      (max = 0.818     )\n"
     ]
    },
    {
     "name": "stderr",
     "output_type": "stream",
     "text": [
      " 83%|████████▎ | 83/100 [00:31<00:06,  2.56it/s]"
     ]
    },
    {
     "name": "stdout",
     "output_type": "stream",
     "text": [
      "\u001b[4A\n",
      "Epoch :         82,     405.2420 ms elapsed\n",
      "loss = 0.0037427    (min = 0.0031148   )  \taccuracy = 0.964      (max = 0.98      )\n",
      "loss = 0.021537     (min = 0.018233    )  \taccuracy = 0.804      (max = 0.818     )\n"
     ]
    },
    {
     "name": "stderr",
     "output_type": "stream",
     "text": [
      " 85%|████████▌ | 85/100 [00:32<00:05,  2.59it/s]"
     ]
    },
    {
     "name": "stdout",
     "output_type": "stream",
     "text": [
      "\u001b[4A\n",
      "Epoch :         84,     372.1470 ms elapsed\n",
      "loss = 0.0029447    (min = 0.002665    )  \taccuracy = 0.976      (max = 0.98      )\n",
      "loss = 0.021901     (min = 0.018233    )  \taccuracy = 0.802      (max = 0.818     )\n"
     ]
    },
    {
     "name": "stderr",
     "output_type": "stream",
     "text": [
      " 87%|████████▋ | 87/100 [00:32<00:04,  2.61it/s]"
     ]
    },
    {
     "name": "stdout",
     "output_type": "stream",
     "text": [
      "\u001b[4A\n",
      "Epoch :         86,     377.5350 ms elapsed\n",
      "loss = 0.0025366    (min = 0.0025366   )  \taccuracy = 0.982      (max = 0.982     )\n",
      "loss = 0.022209     (min = 0.018233    )  \taccuracy = 0.804      (max = 0.818     )\n"
     ]
    },
    {
     "name": "stderr",
     "output_type": "stream",
     "text": [
      " 89%|████████▉ | 89/100 [00:33<00:04,  2.61it/s]"
     ]
    },
    {
     "name": "stdout",
     "output_type": "stream",
     "text": [
      "\u001b[4A\n",
      "Epoch :         88,     371.8480 ms elapsed\n",
      "loss = 0.0024205    (min = 0.0024205   )  \taccuracy = 0.986      (max = 0.986     )\n",
      "loss = 0.023037     (min = 0.018233    )  \taccuracy = 0.798      (max = 0.818     )\n"
     ]
    },
    {
     "name": "stderr",
     "output_type": "stream",
     "text": [
      " 91%|█████████ | 91/100 [00:34<00:03,  2.61it/s]"
     ]
    },
    {
     "name": "stdout",
     "output_type": "stream",
     "text": [
      "\u001b[4A\n",
      "Epoch :         90,     386.3350 ms elapsed\n",
      "loss = 0.0024215    (min = 0.0024205   )  \taccuracy = 0.982      (max = 0.986     )\n",
      "loss = 0.023088     (min = 0.018233    )  \taccuracy = 0.796      (max = 0.818     )\n"
     ]
    },
    {
     "name": "stderr",
     "output_type": "stream",
     "text": [
      " 93%|█████████▎| 93/100 [00:35<00:02,  2.63it/s]"
     ]
    },
    {
     "name": "stdout",
     "output_type": "stream",
     "text": [
      "\u001b[4A\n",
      "Epoch :         92,     376.8480 ms elapsed\n",
      "loss = 0.0020158    (min = 0.0020158   )  \taccuracy = 0.984      (max = 0.986     )\n",
      "loss = 0.022721     (min = 0.018233    )  \taccuracy = 0.802      (max = 0.818     )\n"
     ]
    },
    {
     "name": "stderr",
     "output_type": "stream",
     "text": [
      " 95%|█████████▌| 95/100 [00:36<00:01,  2.62it/s]"
     ]
    },
    {
     "name": "stdout",
     "output_type": "stream",
     "text": [
      "\u001b[4A\n",
      "Epoch :         94,     379.2150 ms elapsed\n",
      "loss = 0.0021641    (min = 0.0020158   )  \taccuracy = 0.988      (max = 0.99      )\n",
      "loss = 0.023046     (min = 0.018233    )  \taccuracy = 0.798      (max = 0.818     )\n"
     ]
    },
    {
     "name": "stderr",
     "output_type": "stream",
     "text": [
      " 97%|█████████▋| 97/100 [00:36<00:01,  2.66it/s]"
     ]
    },
    {
     "name": "stdout",
     "output_type": "stream",
     "text": [
      "\u001b[4A\n",
      "Epoch :         96,     363.3220 ms elapsed\n",
      "loss = 0.0022134    (min = 0.0020158   )  \taccuracy = 0.986      (max = 0.99      )\n",
      "loss = 0.023193     (min = 0.018233    )  \taccuracy = 0.806      (max = 0.818     )\n"
     ]
    },
    {
     "name": "stderr",
     "output_type": "stream",
     "text": [
      " 99%|█████████▉| 99/100 [00:37<00:00,  2.67it/s]"
     ]
    },
    {
     "name": "stdout",
     "output_type": "stream",
     "text": [
      "\u001b[4A\n",
      "Epoch :         98,     367.5530 ms elapsed\n",
      "loss = 0.0021441    (min = 0.0020158   )  \taccuracy = 0.982      (max = 0.99      )\n",
      "loss = 0.024342     (min = 0.018233    )  \taccuracy = 0.8        (max = 0.818     )\n"
     ]
    },
    {
     "name": "stderr",
     "output_type": "stream",
     "text": [
      "100%|██████████| 100/100 [00:37<00:00,  2.63it/s]\n"
     ]
    },
    {
     "name": "stdout",
     "output_type": "stream",
     "text": [
      "Finished Training\n"
     ]
    },
    {
     "data": {
      "image/png": "[encoded data removed]",
      "text/plain": [
       "<Figure size 432x288 with 1 Axes>"
      ]
     },
     "metadata": {
      "needs_background": "light"
     },
     "output_type": "display_data"
    },
    {
     "data": {
      "image/png": "[encoded data removed]",
      "text/plain": [
       "<Figure size 432x288 with 1 Axes>"
      ]
     },
     "metadata": {
      "needs_background": "light"
     },
     "output_type": "display_data"
    },
    {
     "name": "stdout",
     "output_type": "stream",
     "text": [
      "Saving models...\n",
      "The classification accuracy:  0.796\n",
      "\n"
     ]
    },
    {
     "data": {
      "image/png": "[encoded data removed]",
      "text/plain": [
       "<Figure size 432x288 with 2 Axes>"
      ]
     },
     "metadata": {
      "needs_background": "light"
     },
     "output_type": "display_data"
    }
   ],
   "source": [
    "# use the same network structure as for mninst task\n",
    "raw_cnn_fashion = Raw_CNN_Mnist().to(device)\n",
    "\n",
    "raw_criterion = nn.CrossEntropyLoss()\n",
    "raw_optimizer = optim.Adam(raw_cnn_fashion.parameters(), lr=0.001)\n",
    "raw_stats = learningStats()\n",
    "\n",
    "train(raw_cnn_fashion,'raw_cnn_Sfashion',\n",
    "      trainloader_cnn,testloader_cnn,\n",
    "      raw_criterion, \n",
    "      raw_optimizer,\n",
    "      raw_stats,\n",
    "      epoch=EPOCH2)\n",
    "\n",
    "y_true, y_pred = get_labels(raw_cnn_fashion, testloader_cnn, snn=False)\n",
    "test_method(y_true.cpu().numpy(), y_pred.cpu().numpy())"
   ]
  },
  {
   "cell_type": "markdown",
   "metadata": {},
   "source": [
    "* train the tailored CNN on small Fashion-MNIST"
   ]
  },
  {
   "cell_type": "code",
   "execution_count": 21,
   "metadata": {
    "scrolled": true
   },
   "outputs": [
    {
     "name": "stderr",
     "output_type": "stream",
     "text": [
      "  1%|          | 1/100 [00:00<00:38,  2.57it/s]"
     ]
    },
    {
     "name": "stdout",
     "output_type": "stream",
     "text": [
      "\u001b[0A\n",
      "Epoch :          0,     388.9200 ms elapsed\n",
      "loss = 0.073251     (min = 0.073251    )  \taccuracy = 0.114      (max = 0.114     )\n",
      "loss = 0.072152     (min = 0.072152    )  \taccuracy = 0.174      (max = 0.174     )\n"
     ]
    },
    {
     "name": "stderr",
     "output_type": "stream",
     "text": [
      "  3%|▎         | 3/100 [00:01<00:36,  2.64it/s]"
     ]
    },
    {
     "name": "stdout",
     "output_type": "stream",
     "text": [
      "\u001b[4A\n",
      "Epoch :          2,     372.2710 ms elapsed\n",
      "loss = 0.059266     (min = 0.059266    )  \taccuracy = 0.494      (max = 0.494     )\n",
      "loss = 0.049993     (min = 0.049993    )  \taccuracy = 0.616      (max = 0.616     )\n"
     ]
    },
    {
     "name": "stderr",
     "output_type": "stream",
     "text": [
      "  5%|▌         | 5/100 [00:01<00:35,  2.71it/s]"
     ]
    },
    {
     "name": "stdout",
     "output_type": "stream",
     "text": [
      "\u001b[4A\n",
      "Epoch :          4,     363.2440 ms elapsed\n",
      "loss = 0.033561     (min = 0.033561    )  \taccuracy = 0.62       (max = 0.62      )\n",
      "loss = 0.030854     (min = 0.030854    )  \taccuracy = 0.648      (max = 0.648     )\n"
     ]
    },
    {
     "name": "stderr",
     "output_type": "stream",
     "text": [
      "  7%|▋         | 7/100 [00:02<00:33,  2.81it/s]"
     ]
    },
    {
     "name": "stdout",
     "output_type": "stream",
     "text": [
      "\u001b[4A\n",
      "Epoch :          6,     338.1000 ms elapsed\n",
      "loss = 0.028533     (min = 0.028533    )  \taccuracy = 0.668      (max = 0.668     )\n",
      "loss = 0.027466     (min = 0.027466    )  \taccuracy = 0.67       (max = 0.67      )\n"
     ]
    },
    {
     "name": "stderr",
     "output_type": "stream",
     "text": [
      "  9%|▉         | 9/100 [00:03<00:32,  2.76it/s]"
     ]
    },
    {
     "name": "stdout",
     "output_type": "stream",
     "text": [
      "\u001b[4A\n",
      "Epoch :          8,     360.4380 ms elapsed\n",
      "loss = 0.025102     (min = 0.025102    )  \taccuracy = 0.71       (max = 0.716     )\n",
      "loss = 0.025644     (min = 0.025644    )  \taccuracy = 0.702      (max = 0.702     )\n"
     ]
    },
    {
     "name": "stderr",
     "output_type": "stream",
     "text": [
      " 11%|█         | 11/100 [00:03<00:32,  2.78it/s]"
     ]
    },
    {
     "name": "stdout",
     "output_type": "stream",
     "text": [
      "\u001b[4A\n",
      "Epoch :         10,     365.6410 ms elapsed\n",
      "loss = 0.023998     (min = 0.023998    )  \taccuracy = 0.732      (max = 0.74      )\n",
      "loss = 0.025508     (min = 0.024951    )  \taccuracy = 0.698      (max = 0.704     )\n"
     ]
    },
    {
     "name": "stderr",
     "output_type": "stream",
     "text": [
      " 13%|█▎        | 13/100 [00:04<00:30,  2.81it/s]"
     ]
    },
    {
     "name": "stdout",
     "output_type": "stream",
     "text": [
      "\u001b[4A\n",
      "Epoch :         12,     352.7830 ms elapsed\n",
      "loss = 0.021976     (min = 0.021976    )  \taccuracy = 0.76       (max = 0.76      )\n",
      "loss = 0.02438      (min = 0.024295    )  \taccuracy = 0.682      (max = 0.718     )\n"
     ]
    },
    {
     "name": "stderr",
     "output_type": "stream",
     "text": [
      " 15%|█▌        | 15/100 [00:05<00:30,  2.81it/s]"
     ]
    },
    {
     "name": "stdout",
     "output_type": "stream",
     "text": [
      "\u001b[4A\n",
      "Epoch :         14,     357.1420 ms elapsed\n",
      "loss = 0.021581     (min = 0.021296    )  \taccuracy = 0.766      (max = 0.778     )\n",
      "loss = 0.024802     (min = 0.02381     )  \taccuracy = 0.682      (max = 0.718     )\n"
     ]
    },
    {
     "name": "stderr",
     "output_type": "stream",
     "text": [
      " 17%|█▋        | 17/100 [00:06<00:28,  2.88it/s]"
     ]
    },
    {
     "name": "stdout",
     "output_type": "stream",
     "text": [
      "\u001b[4A\n",
      "Epoch :         16,     335.5080 ms elapsed\n",
      "loss = 0.020317     (min = 0.020317    )  \taccuracy = 0.778      (max = 0.778     )\n",
      "loss = 0.022323     (min = 0.022323    )  \taccuracy = 0.722      (max = 0.722     )\n"
     ]
    },
    {
     "name": "stderr",
     "output_type": "stream",
     "text": [
      " 19%|█▉        | 19/100 [00:06<00:28,  2.83it/s]"
     ]
    },
    {
     "name": "stdout",
     "output_type": "stream",
     "text": [
      "\u001b[4A\n",
      "Epoch :         18,     339.3150 ms elapsed\n",
      "loss = 0.019446     (min = 0.019446    )  \taccuracy = 0.784      (max = 0.794     )\n",
      "loss = 0.02254      (min = 0.022323    )  \taccuracy = 0.726      (max = 0.736     )\n"
     ]
    },
    {
     "name": "stderr",
     "output_type": "stream",
     "text": [
      " 21%|██        | 21/100 [00:07<00:27,  2.90it/s]"
     ]
    },
    {
     "name": "stdout",
     "output_type": "stream",
     "text": [
      "\u001b[4A\n",
      "Epoch :         20,     339.8390 ms elapsed\n",
      "loss = 0.018579     (min = 0.018579    )  \taccuracy = 0.802      (max = 0.802     )\n",
      "loss = 0.022396     (min = 0.022323    )  \taccuracy = 0.732      (max = 0.736     )\n"
     ]
    },
    {
     "name": "stderr",
     "output_type": "stream",
     "text": [
      " 23%|██▎       | 23/100 [00:08<00:27,  2.78it/s]"
     ]
    },
    {
     "name": "stdout",
     "output_type": "stream",
     "text": [
      "\u001b[4A\n",
      "Epoch :         22,     377.0670 ms elapsed\n",
      "loss = 0.017558     (min = 0.017498    )  \taccuracy = 0.822      (max = 0.822     )\n",
      "loss = 0.021988     (min = 0.021645    )  \taccuracy = 0.714      (max = 0.736     )\n"
     ]
    },
    {
     "name": "stderr",
     "output_type": "stream",
     "text": [
      " 25%|██▌       | 25/100 [00:08<00:27,  2.78it/s]"
     ]
    },
    {
     "name": "stdout",
     "output_type": "stream",
     "text": [
      "\u001b[4A\n",
      "Epoch :         24,     356.2630 ms elapsed\n",
      "loss = 0.018531     (min = 0.017498    )  \taccuracy = 0.81       (max = 0.822     )\n",
      "loss = 0.021943     (min = 0.021645    )  \taccuracy = 0.73       (max = 0.736     )\n"
     ]
    },
    {
     "name": "stderr",
     "output_type": "stream",
     "text": [
      " 27%|██▋       | 27/100 [00:09<00:26,  2.81it/s]"
     ]
    },
    {
     "name": "stdout",
     "output_type": "stream",
     "text": [
      "\u001b[4A\n",
      "Epoch :         26,     347.0430 ms elapsed\n",
      "loss = 0.016644     (min = 0.016644    )  \taccuracy = 0.818      (max = 0.824     )\n",
      "loss = 0.021286     (min = 0.021241    )  \taccuracy = 0.736      (max = 0.742     )\n"
     ]
    },
    {
     "name": "stderr",
     "output_type": "stream",
     "text": [
      " 29%|██▉       | 29/100 [00:10<00:25,  2.84it/s]"
     ]
    },
    {
     "name": "stdout",
     "output_type": "stream",
     "text": [
      "\u001b[4A\n",
      "Epoch :         28,     339.9110 ms elapsed\n",
      "loss = 0.015607     (min = 0.015607    )  \taccuracy = 0.83       (max = 0.84      )\n",
      "loss = 0.020847     (min = 0.020847    )  \taccuracy = 0.742      (max = 0.742     )\n"
     ]
    },
    {
     "name": "stderr",
     "output_type": "stream",
     "text": [
      " 31%|███       | 31/100 [00:11<00:24,  2.80it/s]"
     ]
    },
    {
     "name": "stdout",
     "output_type": "stream",
     "text": [
      "\u001b[4A\n",
      "Epoch :         30,     368.4060 ms elapsed\n",
      "loss = 0.016245     (min = 0.015437    )  \taccuracy = 0.808      (max = 0.842     )\n",
      "loss = 0.022636     (min = 0.020847    )  \taccuracy = 0.71       (max = 0.742     )\n"
     ]
    },
    {
     "name": "stderr",
     "output_type": "stream",
     "text": [
      " 33%|███▎      | 33/100 [00:11<00:24,  2.77it/s]"
     ]
    },
    {
     "name": "stdout",
     "output_type": "stream",
     "text": [
      "\u001b[4A\n",
      "Epoch :         32,     370.0360 ms elapsed\n",
      "loss = 0.01478      (min = 0.01478     )  \taccuracy = 0.846      (max = 0.846     )\n",
      "loss = 0.021399     (min = 0.020847    )  \taccuracy = 0.724      (max = 0.742     )\n"
     ]
    },
    {
     "name": "stderr",
     "output_type": "stream",
     "text": [
      " 35%|███▌      | 35/100 [00:12<00:23,  2.76it/s]"
     ]
    },
    {
     "name": "stdout",
     "output_type": "stream",
     "text": [
      "\u001b[4A\n",
      "Epoch :         34,     354.6840 ms elapsed\n",
      "loss = 0.015922     (min = 0.01478     )  \taccuracy = 0.826      (max = 0.846     )\n",
      "loss = 0.022216     (min = 0.020847    )  \taccuracy = 0.732      (max = 0.752     )\n"
     ]
    },
    {
     "name": "stderr",
     "output_type": "stream",
     "text": [
      " 37%|███▋      | 37/100 [00:13<00:22,  2.82it/s]"
     ]
    },
    {
     "name": "stdout",
     "output_type": "stream",
     "text": [
      "\u001b[4A\n",
      "Epoch :         36,     351.2900 ms elapsed\n",
      "loss = 0.014488     (min = 0.014488    )  \taccuracy = 0.844      (max = 0.846     )\n",
      "loss = 0.020604     (min = 0.020604    )  \taccuracy = 0.746      (max = 0.752     )\n"
     ]
    },
    {
     "name": "stderr",
     "output_type": "stream",
     "text": [
      " 39%|███▉      | 39/100 [00:13<00:21,  2.82it/s]"
     ]
    },
    {
     "name": "stdout",
     "output_type": "stream",
     "text": [
      "\u001b[4A\n",
      "Epoch :         38,     363.1150 ms elapsed\n",
      "loss = 0.014265     (min = 0.014111    )  \taccuracy = 0.844      (max = 0.848     )\n",
      "loss = 0.022327     (min = 0.020604    )  \taccuracy = 0.73       (max = 0.752     )\n"
     ]
    },
    {
     "name": "stderr",
     "output_type": "stream",
     "text": [
      " 41%|████      | 41/100 [00:14<00:21,  2.78it/s]"
     ]
    },
    {
     "name": "stdout",
     "output_type": "stream",
     "text": [
      "\u001b[4A\n",
      "Epoch :         40,     371.2230 ms elapsed\n",
      "loss = 0.01374      (min = 0.01374     )  \taccuracy = 0.848      (max = 0.862     )\n",
      "loss = 0.020867     (min = 0.020604    )  \taccuracy = 0.748      (max = 0.752     )\n"
     ]
    },
    {
     "name": "stderr",
     "output_type": "stream",
     "text": [
      " 43%|████▎     | 43/100 [00:15<00:20,  2.78it/s]"
     ]
    },
    {
     "name": "stdout",
     "output_type": "stream",
     "text": [
      "\u001b[4A\n",
      "Epoch :         42,     358.7750 ms elapsed\n",
      "loss = 0.013234     (min = 0.013234    )  \taccuracy = 0.85       (max = 0.862     )\n",
      "loss = 0.022464     (min = 0.020604    )  \taccuracy = 0.736      (max = 0.752     )\n"
     ]
    },
    {
     "name": "stderr",
     "output_type": "stream",
     "text": [
      " 45%|████▌     | 45/100 [00:16<00:19,  2.82it/s]"
     ]
    },
    {
     "name": "stdout",
     "output_type": "stream",
     "text": [
      "\u001b[4A\n",
      "Epoch :         44,     343.2060 ms elapsed\n",
      "loss = 0.013914     (min = 0.013234    )  \taccuracy = 0.856      (max = 0.862     )\n",
      "loss = 0.021649     (min = 0.020604    )  \taccuracy = 0.748      (max = 0.754     )\n"
     ]
    },
    {
     "name": "stderr",
     "output_type": "stream",
     "text": [
      " 47%|████▋     | 47/100 [00:16<00:18,  2.82it/s]"
     ]
    },
    {
     "name": "stdout",
     "output_type": "stream",
     "text": [
      "\u001b[4A\n",
      "Epoch :         46,     346.8940 ms elapsed\n",
      "loss = 0.013171     (min = 0.013171    )  \taccuracy = 0.848      (max = 0.862     )\n",
      "loss = 0.020681     (min = 0.020604    )  \taccuracy = 0.752      (max = 0.758     )\n"
     ]
    },
    {
     "name": "stderr",
     "output_type": "stream",
     "text": [
      " 49%|████▉     | 49/100 [00:17<00:18,  2.79it/s]"
     ]
    },
    {
     "name": "stdout",
     "output_type": "stream",
     "text": [
      "\u001b[4A\n",
      "Epoch :         48,     362.0520 ms elapsed\n",
      "loss = 0.012298     (min = 0.012298    )  \taccuracy = 0.88       (max = 0.88      )\n",
      "loss = 0.021303     (min = 0.020604    )  \taccuracy = 0.75       (max = 0.758     )\n"
     ]
    },
    {
     "name": "stderr",
     "output_type": "stream",
     "text": [
      " 51%|█████     | 51/100 [00:18<00:17,  2.75it/s]"
     ]
    },
    {
     "name": "stdout",
     "output_type": "stream",
     "text": [
      "\u001b[4A\n",
      "Epoch :         50,     368.2930 ms elapsed\n",
      "loss = 0.013079     (min = 0.012298    )  \taccuracy = 0.86       (max = 0.88      )\n",
      "loss = 0.022737     (min = 0.020604    )  \taccuracy = 0.748      (max = 0.758     )\n"
     ]
    },
    {
     "name": "stderr",
     "output_type": "stream",
     "text": [
      " 53%|█████▎    | 53/100 [00:18<00:17,  2.69it/s]"
     ]
    },
    {
     "name": "stdout",
     "output_type": "stream",
     "text": [
      "\u001b[4A\n",
      "Epoch :         52,     380.2660 ms elapsed\n",
      "loss = 0.012089     (min = 0.012089    )  \taccuracy = 0.868      (max = 0.882     )\n",
      "loss = 0.022293     (min = 0.020604    )  \taccuracy = 0.746      (max = 0.758     )\n"
     ]
    },
    {
     "name": "stderr",
     "output_type": "stream",
     "text": [
      " 55%|█████▌    | 55/100 [00:19<00:16,  2.67it/s]"
     ]
    },
    {
     "name": "stdout",
     "output_type": "stream",
     "text": [
      "\u001b[4A\n",
      "Epoch :         54,     382.5290 ms elapsed\n",
      "loss = 0.011858     (min = 0.011858    )  \taccuracy = 0.87       (max = 0.882     )\n",
      "loss = 0.0211       (min = 0.020604    )  \taccuracy = 0.762      (max = 0.762     )\n"
     ]
    },
    {
     "name": "stderr",
     "output_type": "stream",
     "text": [
      " 57%|█████▋    | 57/100 [00:20<00:15,  2.71it/s]"
     ]
    },
    {
     "name": "stdout",
     "output_type": "stream",
     "text": [
      "\u001b[4A\n",
      "Epoch :         56,     353.3180 ms elapsed\n",
      "loss = 0.012297     (min = 0.011858    )  \taccuracy = 0.866      (max = 0.882     )\n",
      "loss = 0.021002     (min = 0.020604    )  \taccuracy = 0.762      (max = 0.762     )\n"
     ]
    },
    {
     "name": "stderr",
     "output_type": "stream",
     "text": [
      " 59%|█████▉    | 59/100 [00:21<00:14,  2.76it/s]"
     ]
    },
    {
     "name": "stdout",
     "output_type": "stream",
     "text": [
      "\u001b[4A\n",
      "Epoch :         58,     346.5140 ms elapsed\n",
      "loss = 0.011761     (min = 0.01134     )  \taccuracy = 0.876      (max = 0.882     )\n",
      "loss = 0.021011     (min = 0.020604    )  \taccuracy = 0.768      (max = 0.772     )\n"
     ]
    },
    {
     "name": "stderr",
     "output_type": "stream",
     "text": [
      " 61%|██████    | 61/100 [00:21<00:14,  2.75it/s]"
     ]
    },
    {
     "name": "stdout",
     "output_type": "stream",
     "text": [
      "\u001b[4A\n",
      "Epoch :         60,     363.8800 ms elapsed\n",
      "loss = 0.011212     (min = 0.010745    )  \taccuracy = 0.878      (max = 0.888     )\n",
      "loss = 0.023306     (min = 0.020604    )  \taccuracy = 0.748      (max = 0.772     )\n"
     ]
    },
    {
     "name": "stderr",
     "output_type": "stream",
     "text": [
      " 63%|██████▎   | 63/100 [00:22<00:13,  2.77it/s]"
     ]
    },
    {
     "name": "stdout",
     "output_type": "stream",
     "text": [
      "\u001b[4A\n",
      "Epoch :         62,     358.8620 ms elapsed\n",
      "loss = 0.010801     (min = 0.010745    )  \taccuracy = 0.896      (max = 0.896     )\n",
      "loss = 0.02176      (min = 0.020604    )  \taccuracy = 0.76       (max = 0.772     )\n"
     ]
    },
    {
     "name": "stderr",
     "output_type": "stream",
     "text": [
      " 65%|██████▌   | 65/100 [00:23<00:12,  2.82it/s]"
     ]
    },
    {
     "name": "stdout",
     "output_type": "stream",
     "text": [
      "\u001b[4A\n",
      "Epoch :         64,     341.9360 ms elapsed\n",
      "loss = 0.010893     (min = 0.010745    )  \taccuracy = 0.886      (max = 0.896     )\n",
      "loss = 0.021914     (min = 0.020604    )  \taccuracy = 0.764      (max = 0.776     )\n"
     ]
    },
    {
     "name": "stderr",
     "output_type": "stream",
     "text": [
      " 67%|██████▋   | 67/100 [00:24<00:11,  2.79it/s]"
     ]
    },
    {
     "name": "stdout",
     "output_type": "stream",
     "text": [
      "\u001b[4A\n",
      "Epoch :         66,     358.7750 ms elapsed\n",
      "loss = 0.01072      (min = 0.01072     )  \taccuracy = 0.882      (max = 0.896     )\n",
      "loss = 0.022182     (min = 0.020604    )  \taccuracy = 0.766      (max = 0.776     )\n"
     ]
    },
    {
     "name": "stderr",
     "output_type": "stream",
     "text": [
      " 69%|██████▉   | 69/100 [00:24<00:11,  2.76it/s]"
     ]
    },
    {
     "name": "stdout",
     "output_type": "stream",
     "text": [
      "\u001b[4A\n",
      "Epoch :         68,     367.1660 ms elapsed\n",
      "loss = 0.010443     (min = 0.010443    )  \taccuracy = 0.9        (max = 0.9       )\n",
      "loss = 0.023436     (min = 0.020604    )  \taccuracy = 0.752      (max = 0.776     )\n"
     ]
    },
    {
     "name": "stderr",
     "output_type": "stream",
     "text": [
      " 71%|███████   | 71/100 [00:25<00:10,  2.80it/s]"
     ]
    },
    {
     "name": "stdout",
     "output_type": "stream",
     "text": [
      "\u001b[4A\n",
      "Epoch :         70,     344.8610 ms elapsed\n",
      "loss = 0.01001      (min = 0.01001     )  \taccuracy = 0.892      (max = 0.9       )\n",
      "loss = 0.021714     (min = 0.020604    )  \taccuracy = 0.768      (max = 0.776     )\n"
     ]
    },
    {
     "name": "stderr",
     "output_type": "stream",
     "text": [
      " 73%|███████▎  | 73/100 [00:26<00:09,  2.83it/s]"
     ]
    },
    {
     "name": "stdout",
     "output_type": "stream",
     "text": [
      "\u001b[4A\n",
      "Epoch :         72,     340.3860 ms elapsed\n",
      "loss = 0.0099806    (min = 0.0099806   )  \taccuracy = 0.906      (max = 0.906     )\n",
      "loss = 0.022378     (min = 0.020604    )  \taccuracy = 0.762      (max = 0.776     )\n"
     ]
    },
    {
     "name": "stderr",
     "output_type": "stream",
     "text": [
      " 75%|███████▌  | 75/100 [00:26<00:09,  2.76it/s]"
     ]
    },
    {
     "name": "stdout",
     "output_type": "stream",
     "text": [
      "\u001b[4A\n",
      "Epoch :         74,     362.0650 ms elapsed\n",
      "loss = 0.009341     (min = 0.009341    )  \taccuracy = 0.902      (max = 0.906     )\n",
      "loss = 0.021779     (min = 0.020604    )  \taccuracy = 0.778      (max = 0.782     )\n"
     ]
    },
    {
     "name": "stderr",
     "output_type": "stream",
     "text": [
      " 77%|███████▋  | 77/100 [00:27<00:08,  2.79it/s]"
     ]
    },
    {
     "name": "stdout",
     "output_type": "stream",
     "text": [
      "\u001b[4A\n",
      "Epoch :         76,     358.0180 ms elapsed\n",
      "loss = 0.0097092    (min = 0.0091923   )  \taccuracy = 0.892      (max = 0.906     )\n",
      "loss = 0.02222      (min = 0.020604    )  \taccuracy = 0.78       (max = 0.782     )\n"
     ]
    },
    {
     "name": "stderr",
     "output_type": "stream",
     "text": [
      " 79%|███████▉  | 79/100 [00:28<00:07,  2.85it/s]"
     ]
    },
    {
     "name": "stdout",
     "output_type": "stream",
     "text": [
      "\u001b[4A\n",
      "Epoch :         78,     331.7210 ms elapsed\n",
      "loss = 0.0095122    (min = 0.0091923   )  \taccuracy = 0.908      (max = 0.908     )\n",
      "loss = 0.022706     (min = 0.020604    )  \taccuracy = 0.764      (max = 0.782     )\n"
     ]
    },
    {
     "name": "stderr",
     "output_type": "stream",
     "text": [
      " 81%|████████  | 81/100 [00:29<00:06,  2.86it/s]"
     ]
    },
    {
     "name": "stdout",
     "output_type": "stream",
     "text": [
      "\u001b[4A\n",
      "Epoch :         80,     335.3210 ms elapsed\n",
      "loss = 0.009261     (min = 0.0091398   )  \taccuracy = 0.896      (max = 0.908     )\n",
      "loss = 0.023605     (min = 0.020604    )  \taccuracy = 0.766      (max = 0.784     )\n"
     ]
    },
    {
     "name": "stderr",
     "output_type": "stream",
     "text": [
      " 83%|████████▎ | 83/100 [00:29<00:06,  2.82it/s]"
     ]
    },
    {
     "name": "stdout",
     "output_type": "stream",
     "text": [
      "\u001b[4A\n",
      "Epoch :         82,     364.7190 ms elapsed\n",
      "loss = 0.0087913    (min = 0.0087913   )  \taccuracy = 0.914      (max = 0.914     )\n",
      "loss = 0.02214      (min = 0.020604    )  \taccuracy = 0.776      (max = 0.784     )\n"
     ]
    },
    {
     "name": "stderr",
     "output_type": "stream",
     "text": [
      " 85%|████████▌ | 85/100 [00:30<00:05,  2.86it/s]"
     ]
    },
    {
     "name": "stdout",
     "output_type": "stream",
     "text": [
      "\u001b[4A\n",
      "Epoch :         84,     340.7440 ms elapsed\n",
      "loss = 0.0084941    (min = 0.0084941   )  \taccuracy = 0.926      (max = 0.926     )\n",
      "loss = 0.022146     (min = 0.020604    )  \taccuracy = 0.78       (max = 0.788     )\n"
     ]
    },
    {
     "name": "stderr",
     "output_type": "stream",
     "text": [
      " 87%|████████▋ | 87/100 [00:31<00:04,  2.82it/s]"
     ]
    },
    {
     "name": "stdout",
     "output_type": "stream",
     "text": [
      "\u001b[4A\n",
      "Epoch :         86,     354.1120 ms elapsed\n",
      "loss = 0.0080223    (min = 0.0080223   )  \taccuracy = 0.922      (max = 0.926     )\n",
      "loss = 0.022804     (min = 0.020604    )  \taccuracy = 0.774      (max = 0.788     )\n"
     ]
    },
    {
     "name": "stderr",
     "output_type": "stream",
     "text": [
      " 89%|████████▉ | 89/100 [00:31<00:03,  2.79it/s]"
     ]
    },
    {
     "name": "stdout",
     "output_type": "stream",
     "text": [
      "\u001b[4A\n",
      "Epoch :         88,     348.8750 ms elapsed\n",
      "loss = 0.0098319    (min = 0.0080223   )  \taccuracy = 0.898      (max = 0.926     )\n",
      "loss = 0.023299     (min = 0.020604    )  \taccuracy = 0.77       (max = 0.788     )\n"
     ]
    },
    {
     "name": "stderr",
     "output_type": "stream",
     "text": [
      " 91%|█████████ | 91/100 [00:32<00:03,  2.83it/s]"
     ]
    },
    {
     "name": "stdout",
     "output_type": "stream",
     "text": [
      "\u001b[4A\n",
      "Epoch :         90,     341.7350 ms elapsed\n",
      "loss = 0.0080086    (min = 0.0080086   )  \taccuracy = 0.914      (max = 0.926     )\n",
      "loss = 0.024784     (min = 0.020604    )  \taccuracy = 0.764      (max = 0.788     )\n"
     ]
    },
    {
     "name": "stderr",
     "output_type": "stream",
     "text": [
      " 93%|█████████▎| 93/100 [00:33<00:02,  2.78it/s]"
     ]
    },
    {
     "name": "stdout",
     "output_type": "stream",
     "text": [
      "\u001b[4A\n",
      "Epoch :         92,     374.0380 ms elapsed\n",
      "loss = 0.0078879    (min = 0.0078879   )  \taccuracy = 0.926      (max = 0.926     )\n",
      "loss = 0.022396     (min = 0.020604    )  \taccuracy = 0.786      (max = 0.788     )\n"
     ]
    },
    {
     "name": "stderr",
     "output_type": "stream",
     "text": [
      " 95%|█████████▌| 95/100 [00:34<00:01,  2.83it/s]"
     ]
    },
    {
     "name": "stdout",
     "output_type": "stream",
     "text": [
      "\u001b[4A\n",
      "Epoch :         94,     339.7710 ms elapsed\n",
      "loss = 0.0076027    (min = 0.0076027   )  \taccuracy = 0.922      (max = 0.926     )\n",
      "loss = 0.023191     (min = 0.020604    )  \taccuracy = 0.784      (max = 0.788     )\n"
     ]
    },
    {
     "name": "stderr",
     "output_type": "stream",
     "text": [
      " 97%|█████████▋| 97/100 [00:34<00:01,  2.75it/s]"
     ]
    },
    {
     "name": "stdout",
     "output_type": "stream",
     "text": [
      "\u001b[4A\n",
      "Epoch :         96,     370.5690 ms elapsed\n",
      "loss = 0.0086106    (min = 0.0076027   )  \taccuracy = 0.912      (max = 0.926     )\n",
      "loss = 0.024288     (min = 0.020604    )  \taccuracy = 0.754      (max = 0.788     )\n"
     ]
    },
    {
     "name": "stderr",
     "output_type": "stream",
     "text": [
      " 99%|█████████▉| 99/100 [00:35<00:00,  2.79it/s]"
     ]
    },
    {
     "name": "stdout",
     "output_type": "stream",
     "text": [
      "\u001b[4A\n",
      "Epoch :         98,     349.3100 ms elapsed\n",
      "loss = 0.0086103    (min = 0.0076027   )  \taccuracy = 0.9        (max = 0.926     )\n",
      "loss = 0.023843     (min = 0.020604    )  \taccuracy = 0.764      (max = 0.788     )\n"
     ]
    },
    {
     "name": "stderr",
     "output_type": "stream",
     "text": [
      "100%|██████████| 100/100 [00:35<00:00,  2.77it/s]\n"
     ]
    },
    {
     "name": "stdout",
     "output_type": "stream",
     "text": [
      "Finished Training\n"
     ]
    },
    {
     "data": {
      "image/png": "[encoded data removed]",
      "text/plain": [
       "<Figure size 432x288 with 1 Axes>"
      ]
     },
     "metadata": {
      "needs_background": "light"
     },
     "output_type": "display_data"
    },
    {
     "data": {
      "image/png": "[encoded data removed]",
      "text/plain": [
       "<Figure size 432x288 with 1 Axes>"
      ]
     },
     "metadata": {
      "needs_background": "light"
     },
     "output_type": "display_data"
    },
    {
     "name": "stdout",
     "output_type": "stream",
     "text": [
      "Saving models...\n",
      "The classification accuracy:  0.766\n",
      "\n"
     ]
    },
    {
     "data": {
      "image/png": "[encoded data removed]",
      "text/plain": [
       "<Figure size 432x288 with 2 Axes>"
      ]
     },
     "metadata": {
      "needs_background": "light"
     },
     "output_type": "display_data"
    }
   ],
   "source": [
    "tailored_cnn_fashion = Tailored_CNN_Mnist().to(device)\n",
    "\n",
    "t_criterion = nn.CrossEntropyLoss()\n",
    "t_optimizer = optim.Adam(tailored_cnn_fashion.parameters(), lr=0.001)\n",
    "t_stats = learningStats()\n",
    "\n",
    "train(tailored_cnn_fashion,'tailor_cnn_Sfashion', \n",
    "      trainloader_cnn,testloader_cnn, \n",
    "      t_criterion, \n",
    "      t_optimizer,\n",
    "      t_stats,\n",
    "      epoch=EPOCH2)\n",
    "\n",
    "y_true, y_pred = get_labels(tailored_cnn_fashion, testloader_cnn, snn=False)\n",
    "test_method(y_true.cpu().numpy(), y_pred.cpu().numpy())"
   ]
  },
  {
   "cell_type": "markdown",
   "metadata": {},
   "source": [
    "# Test for SNN with weights from tailored CNN"
   ]
  },
  {
   "cell_type": "markdown",
   "metadata": {},
   "source": [
    "## Notes on the conv\n",
    "* kernel size of time should be 1, otherwise it gets convolved as well.\n",
    "* bias=False\n",
    "* replace their pool layer with nn.AvgPool3d. The pool they used is a $sum*\\theta$ not an average.\n",
    "* should recieve the Spikes from the previous layer\n",
    "* the input value should be within [0,1] before they go into the DataLoader\n",
    "\n",
    "## Pipeline\n",
    "raw data(B,C,H,W) --- spike generation ---> spike(B,C,H,W,T) --- Conv3d on spikes ---> X(t) for every t of T --- eq 1: LIF, threshold and reset ---> intermediate V(t), the membrane potential --- based on V(t) ---> Spikes for the next layer."
   ]
  },
  {
   "cell_type": "code",
   "execution_count": 22,
   "metadata": {},
   "outputs": [],
   "source": [
    "class custmized_SNN_Mnist(nn.Module):\n",
    "    \n",
    "    def __init__(self, thetas, leaks=[0,0,0,0,0], V_mins=[0,0,0,0,0]):\n",
    "        super(custmized_SNN_Mnist, self).__init__()\n",
    "        self.conv1 = convLayer(1, 3, 5, theta=thetas[0], padding=1)\n",
    "        self.pool1 = poolLayer(2, theta=thetas[1])\n",
    "        self.conv2 = convLayer(3, 12, 5, theta=thetas[2],padding=1)        \n",
    "        self.pool2 = poolLayer(2, theta=thetas[3])\n",
    "        self.fc1   = denseLayer((5 * 5 * 12), 10, theta=thetas[4])\n",
    "        \n",
    "    def forward(self, spikeInput):\n",
    "        spike_conv1 = self.conv1(spikeInput)\n",
    "        #print(spike_conv1)\n",
    "        spike_pool1 = self.pool1(spike_conv1)\n",
    "        #print(spike_pool1)\n",
    "        spike_conv2 = self.conv2(spike_pool1)\n",
    "        #print(spike_conv2.shape)\n",
    "        spike_pool2 = self.pool2(spike_conv2)\n",
    "        spike_for_fc1 = spike_pool2.reshape(-1, 5 * 5 * 12, 1, 1, spike_pool2.shape[-1])\n",
    "        spikeOut = self.fc1(spike_for_fc1)\n",
    "        \n",
    "        return spikeOut"
   ]
  },
  {
   "cell_type": "markdown",
   "metadata": {},
   "source": [
    "## experiment Spike MNIST\n",
    "### for full size Spike MNIST"
   ]
  },
  {
   "cell_type": "code",
   "execution_count": 23,
   "metadata": {},
   "outputs": [],
   "source": [
    "TIME_BINS = 25"
   ]
  },
  {
   "cell_type": "code",
   "execution_count": 24,
   "metadata": {},
   "outputs": [],
   "source": [
    "# Dataset and dataLoader instances.\n",
    "testingSet_M = SpikeDataset(datasetPath = './data', dataset='mnist',TimeBins=TIME_BINS,\n",
    "                    small=False, train=False)\n",
    "\n",
    "testLoader_M = DataLoader(dataset=testingSet_M, batch_size=64, shuffle=False, num_workers=4)"
   ]
  },
  {
   "cell_type": "markdown",
   "metadata": {},
   "source": [
    "* check the performance of a randomly initialized SNN"
   ]
  },
  {
   "cell_type": "code",
   "execution_count": 25,
   "metadata": {},
   "outputs": [],
   "source": [
    "thetas = [1, 0.99, 1, 0.99, 1]\n",
    "\n",
    "custmized_snn_mnist = custmized_SNN_Mnist(thetas=thetas).to(device)"
   ]
  },
  {
   "cell_type": "code",
   "execution_count": 26,
   "metadata": {},
   "outputs": [
    {
     "name": "stdout",
     "output_type": "stream",
     "text": [
      "The classification accuracy:  0.1009\n",
      "\n"
     ]
    },
    {
     "data": {
      "image/png": "[encoded data removed]",
      "text/plain": [
       "<Figure size 432x288 with 2 Axes>"
      ]
     },
     "metadata": {
      "needs_background": "light"
     },
     "output_type": "display_data"
    }
   ],
   "source": [
    "y_true, y_pred = get_labels(custmized_snn_mnist, testLoader_M, snn=True)\n",
    "test_method(y_true.cpu().numpy(), y_pred.cpu().numpy())"
   ]
  },
  {
   "cell_type": "markdown",
   "metadata": {},
   "source": [
    "* now try with the weights learned from tailor_cnn"
   ]
  },
  {
   "cell_type": "code",
   "execution_count": 27,
   "metadata": {},
   "outputs": [
    {
     "name": "stdout",
     "output_type": "stream",
     "text": [
      "Layer conv1.weight\n",
      "torch.Size([3, 1, 5, 5])\n",
      "Layer conv2.weight\n",
      "torch.Size([12, 3, 5, 5])\n",
      "Layer fc1.weight\n",
      "torch.Size([10, 300])\n"
     ]
    }
   ],
   "source": [
    "# script to transfer the weights\n",
    "tailor_cnn_weights = load_dict(\"tailor_cnn_mnist\")\n",
    "snn_weights = custmized_snn_mnist.state_dict()\n",
    "\n",
    "for k in iter(tailor_cnn_weights):\n",
    "    print(\"Layer {}\".format(k))\n",
    "    print(tailor_cnn_weights[k].shape)\n",
    "    if k.startswith('conv') or k.startswith('fc'):\n",
    "        snn_weights[k] = tailor_cnn_weights[k].reshape(snn_weights[k].shape)"
   ]
  },
  {
   "cell_type": "code",
   "execution_count": 28,
   "metadata": {},
   "outputs": [
    {
     "data": {
      "text/plain": [
       "IncompatibleKeys(missing_keys=[], unexpected_keys=[])"
      ]
     },
     "execution_count": 28,
     "metadata": {},
     "output_type": "execute_result"
    }
   ],
   "source": [
    "transformed_snn_mnist = custmized_SNN_Mnist(thetas=thetas).to(device)\n",
    "transformed_snn_mnist.load_state_dict(snn_weights)\n",
    "\n",
    "# this warning can be ignored, it happens when using jupyter \n",
    "# even the weights are passed without problem"
   ]
  },
  {
   "cell_type": "code",
   "execution_count": 29,
   "metadata": {},
   "outputs": [
    {
     "name": "stdout",
     "output_type": "stream",
     "text": [
      "The classification accuracy:  0.7042\n",
      "\n"
     ]
    },
    {
     "data": {
      "image/png": "[encoded data removed]",
      "text/plain": [
       "<Figure size 432x288 with 2 Axes>"
      ]
     },
     "metadata": {
      "needs_background": "light"
     },
     "output_type": "display_data"
    }
   ],
   "source": [
    "y_true, y_pred = get_labels(transformed_snn_mnist, testLoader_M, snn=True)\n",
    "test_method(y_true.cpu().numpy(), y_pred.cpu().numpy())"
   ]
  },
  {
   "cell_type": "markdown",
   "metadata": {},
   "source": [
    "### for small size Spike MNIST"
   ]
  },
  {
   "cell_type": "code",
   "execution_count": 30,
   "metadata": {},
   "outputs": [],
   "source": [
    "# Dataset and dataLoader instances.\n",
    "testingSet_M = SpikeDataset(datasetPath = './data', dataset='mnist',TimeBins=TIME_BINS,\n",
    "                    small=True, train=False)\n",
    "\n",
    "testLoader_M = DataLoader(dataset=testingSet_M, batch_size=64, shuffle=False, num_workers=4)"
   ]
  },
  {
   "cell_type": "code",
   "execution_count": 31,
   "metadata": {},
   "outputs": [
    {
     "name": "stdout",
     "output_type": "stream",
     "text": [
      "The classification accuracy:  0.678\n",
      "\n"
     ]
    },
    {
     "data": {
      "image/png": "[encoded data removed]",
      "text/plain": [
       "<Figure size 432x288 with 2 Axes>"
      ]
     },
     "metadata": {
      "needs_background": "light"
     },
     "output_type": "display_data"
    }
   ],
   "source": [
    "y_true, y_pred = get_labels(transformed_snn_mnist, testLoader_M, snn=True)\n",
    "test_method(y_true.cpu().numpy(), y_pred.cpu().numpy())"
   ]
  },
  {
   "cell_type": "markdown",
   "metadata": {},
   "source": [
    "## experiment Fashion-MNIST\n",
    "### for full size Spike Fashion-MNIST"
   ]
  },
  {
   "cell_type": "code",
   "execution_count": 32,
   "metadata": {},
   "outputs": [],
   "source": [
    "testingSet_F = SpikeDataset(datasetPath = './data', dataset='fashion',TimeBins=TIME_BINS,\n",
    "                    small=False, train=False)\n",
    "testLoader_F = DataLoader(dataset=testingSet_F, batch_size=64, shuffle=False, num_workers=4)"
   ]
  },
  {
   "cell_type": "code",
   "execution_count": 33,
   "metadata": {},
   "outputs": [],
   "source": [
    "thetas = [10, 0.7, 0.9, 0.7, 1]\n",
    "\n",
    "custmized_snn_fashion = custmized_SNN_Mnist(thetas=thetas).to(device)"
   ]
  },
  {
   "cell_type": "markdown",
   "metadata": {},
   "source": [
    "* check the performance of a randomly initialized SNN"
   ]
  },
  {
   "cell_type": "code",
   "execution_count": 34,
   "metadata": {},
   "outputs": [
    {
     "name": "stdout",
     "output_type": "stream",
     "text": [
      "The classification accuracy:  0.1\n",
      "\n"
     ]
    },
    {
     "data": {
      "image/png": "[encoded data removed]",
      "text/plain": [
       "<Figure size 432x288 with 2 Axes>"
      ]
     },
     "metadata": {
      "needs_background": "light"
     },
     "output_type": "display_data"
    }
   ],
   "source": [
    "y_true, y_pred = get_labels(custmized_snn_fashion, testLoader_F, snn=True)\n",
    "test_method(y_true.cpu().numpy(), y_pred.cpu().numpy())"
   ]
  },
  {
   "cell_type": "markdown",
   "metadata": {},
   "source": [
    "* check the performance of a randomly initialized SNN with learnt weights"
   ]
  },
  {
   "cell_type": "code",
   "execution_count": 35,
   "metadata": {},
   "outputs": [
    {
     "name": "stdout",
     "output_type": "stream",
     "text": [
      "Layer conv1.weight\n",
      "torch.Size([3, 1, 5, 5])\n",
      "Layer conv2.weight\n",
      "torch.Size([12, 3, 5, 5])\n",
      "Layer fc1.weight\n",
      "torch.Size([10, 300])\n",
      "The classification accuracy:  0.3274\n",
      "\n"
     ]
    },
    {
     "data": {
      "image/png": "[encoded data removed]",
      "text/plain": [
       "<Figure size 432x288 with 2 Axes>"
      ]
     },
     "metadata": {
      "needs_background": "light"
     },
     "output_type": "display_data"
    }
   ],
   "source": [
    "# script to transfer the weights\n",
    "tailor_cnn_weights = load_dict(\"tailor_cnn_fashion\")\n",
    "snn_weights = custmized_snn_fashion.state_dict()\n",
    "\n",
    "for k in iter(tailor_cnn_weights):\n",
    "    print(\"Layer {}\".format(k))\n",
    "    print(tailor_cnn_weights[k].shape)\n",
    "    if k.startswith('conv') or k.startswith('fc'):\n",
    "        snn_weights[k] = tailor_cnn_weights[k].reshape(snn_weights[k].shape)\n",
    "        \n",
    "transformed_snn_fashion = custmized_SNN_Mnist(thetas=thetas).to(device)\n",
    "transformed_snn_fashion.load_state_dict(snn_weights)\n",
    "\n",
    "# this warning can be ignored, it happens when using jupyter \n",
    "# even the weights are passed without problem\n",
    "\n",
    "y_true, y_pred = get_labels(transformed_snn_fashion, testLoader_F, snn=True)\n",
    "test_method(y_true.cpu().numpy(), y_pred.cpu().numpy())"
   ]
  },
  {
   "cell_type": "markdown",
   "metadata": {},
   "source": [
    "### for small size Spike Fashion-MNIST"
   ]
  },
  {
   "cell_type": "code",
   "execution_count": 36,
   "metadata": {},
   "outputs": [],
   "source": [
    "testingSet_F = SpikeDataset(datasetPath = './data', dataset='fashion',TimeBins=TIME_BINS,\n",
    "                    small=True, train=False)\n",
    "testLoader_F = DataLoader(dataset=testingSet_F, batch_size=64, shuffle=False, num_workers=4)"
   ]
  },
  {
   "cell_type": "markdown",
   "metadata": {},
   "source": [
    "* now try with the weights learned from tailor_cnn"
   ]
  },
  {
   "cell_type": "code",
   "execution_count": 37,
   "metadata": {
    "scrolled": true
   },
   "outputs": [
    {
     "name": "stdout",
     "output_type": "stream",
     "text": [
      "The classification accuracy:  0.29\n",
      "\n"
     ]
    },
    {
     "data": {
      "image/png": "[encoded data removed]",
      "text/plain": [
       "<Figure size 432x288 with 2 Axes>"
      ]
     },
     "metadata": {
      "needs_background": "light"
     },
     "output_type": "display_data"
    }
   ],
   "source": [
    "y_true, y_pred = get_labels(transformed_snn_fashion, testLoader_F, snn=True)\n",
    "test_method(y_true.cpu().numpy(), y_pred.cpu().numpy())"
   ]
  }
 ],
 "metadata": {
  "kernelspec": {
   "display_name": "Python 3",
   "language": "python",
   "name": "python3"
  },
  "language_info": {
   "codemirror_mode": {
    "name": "ipython",
    "version": 3
   },
   "file_extension": ".py",
   "mimetype": "text/x-python",
   "name": "python",
   "nbconvert_exporter": "python",
   "pygments_lexer": "ipython3",
   "version": "3.6.8"
  }
 },
 "nbformat": 4,
 "nbformat_minor": 2
}
