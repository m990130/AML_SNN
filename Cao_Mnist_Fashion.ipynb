{
 "cells": [
  {
   "cell_type": "code",
   "execution_count": 1,
   "metadata": {},
   "outputs": [],
   "source": [
    "import torch\n",
    "import torch.nn as nn\n",
    "import torch.nn.functional as F\n",
    "import torch.optim as optim\n",
    "from torch.utils.data import Dataset, DataLoader\n",
    "\n",
    "from torchvision.datasets import MNIST, FashionMNIST, CIFAR10\n",
    "from torchvision.transforms import transforms\n",
    "\n",
    "\n",
    "from lib.custmized_layer import convLayer, poolLayer, denseLayer\n",
    "from lib.datasets.spikedataset import SpikeDataset, transform_cifar\n",
    "\n",
    "from datetime import datetime\n",
    "\n",
    "import matplotlib\n",
    "import matplotlib.pyplot as plt\n",
    "from tqdm import tqdm"
   ]
  },
  {
   "cell_type": "code",
   "execution_count": 2,
   "metadata": {},
   "outputs": [],
   "source": [
    "# some handy function to use\n",
    "from lib.utils import save_model, load_dict, load_model, test_method, get_labels"
   ]
  },
  {
   "cell_type": "markdown",
   "metadata": {},
   "source": [
    "# Test for raw and tailored CNN\n",
    "Following tasks are done:\n",
    "1. train and test for MNIST datast with raw_cnn and talor_cnn.\n",
    "2. the same work for FashionMnist, and with the same set-up for network structure, since the input has the same size, and problems are similar. Besides, we want to show the difference of performance between the 3 networks, raw, tailored and snn with weights from tailored cnn. A network with smaller size can hugely  accelerate this pipeline.\n",
    "3. "
   ]
  },
  {
   "cell_type": "code",
   "execution_count": 3,
   "metadata": {},
   "outputs": [],
   "source": [
    "# set up hyper params\n",
    "BATCH_SIZE  = 32\n",
    "\n",
    "EPOCH = 100\n",
    "\n",
    "NUM_WORKERS = 2\n",
    "\n",
    "use_cuda = torch.cuda.is_available()\n",
    "\n",
    "torch.manual_seed(1024)\n",
    "\n",
    "device = torch.device(\"cuda\" if use_cuda else \"cpu\")\n",
    "\n",
    "kwargs = {'num_workers': 1, 'pin_memory': True} if use_cuda else {}"
   ]
  },
  {
   "cell_type": "code",
   "execution_count": 4,
   "metadata": {
    "code_folding": [
     0,
     18
    ]
   },
   "outputs": [],
   "source": [
    "def plot_stats(stats):\n",
    "    plt.figure(1)\n",
    "    plt.semilogy(stats.training.lossLog, label='Training')\n",
    "    plt.semilogy(stats.testing.lossLog, label='Testing')\n",
    "    plt.xlabel('Epoch')\n",
    "    plt.ylabel('Loss')\n",
    "    plt.legend()\n",
    "\n",
    "    plt.figure(2)\n",
    "    plt.plot(stats.training.accuracyLog, label='Training')\n",
    "    plt.plot(stats.testing.accuracyLog, label='Testing')\n",
    "    plt.xlabel('Epoch')\n",
    "    plt.ylabel('Accuracy')\n",
    "    plt.legend()\n",
    "\n",
    "    plt.show()\n",
    "\n",
    "## Training\n",
    "def train(model, model_name, trainloader, testloader, criterion, optimizer, stats, epoch):\n",
    "    \n",
    "    for epoch in tqdm(range(epoch)):\n",
    "        # Reset training stats.\n",
    "        stats.training.reset()\n",
    "        tSt = datetime.now()\n",
    "        model.train()    \n",
    "        # Training loop.\n",
    "        for i, data in enumerate(trainloader, 0):\n",
    "            # get the inputs; data is a list of [inputs, labels]\n",
    "            inputs, labels = data[0].to(device), data[1].to(device)\n",
    "\n",
    "            # zero the parameter gradients\n",
    "            optimizer.zero_grad()\n",
    "\n",
    "            # forward + backward + optimize\n",
    "            outputs = model(inputs)\n",
    "\n",
    "            loss = criterion(outputs, labels)\n",
    "\n",
    "            loss.backward()\n",
    "\n",
    "            optimizer.step()\n",
    "\n",
    "            # Gather training loss stats.\n",
    "            stats.training.lossSum += loss.cpu().data.item()\n",
    "\n",
    "            # Gather the training stats.\n",
    "            _, predicted = torch.max(outputs.data, 1)\n",
    "\n",
    "            stats.training.correctSamples += torch.sum(predicted == labels).data.item()\n",
    "            stats.training.numSamples += len(labels)\n",
    "\n",
    "            # Display training stats.\n",
    "            # if i%10 == 0: stats.print(epoch, i, (datetime.now() - tSt).total_seconds())\n",
    "        # Update training stats.\n",
    "        stats.training.update()\n",
    "        # Reset testing stats.\n",
    "        stats.testing.reset()\n",
    "        model.eval()    \n",
    "        # Testing loop.\n",
    "        # Same steps as Training loops except loss backpropagation and weight update.\n",
    "        for i, data in enumerate(testloader, 0):\n",
    "            inputs, labels = data[0].to(device), data[1].to(device)\n",
    "\n",
    "            outputs = model.forward(inputs)\n",
    "            _, predicted = torch.max(outputs.data, 1)\n",
    "\n",
    "            stats.testing.correctSamples += torch.sum(predicted == labels).data.item()\n",
    "            stats.testing.numSamples += len(labels)\n",
    "\n",
    "            loss = criterion(outputs, labels)\n",
    "            stats.testing.lossSum += loss.cpu().data.item()\n",
    "\n",
    "\n",
    "        # Update stats.\n",
    "        stats.testing.update()\n",
    "        if epoch%2==0:  stats.print(epoch, timeElapsed=(datetime.now() - tSt).total_seconds())\n",
    "    print('Finished Training')\n",
    "    \n",
    "    #test_acc(testloader, model)\n",
    "    plot_stats(stats)\n",
    "    save_model(model_name, model)"
   ]
  },
  {
   "cell_type": "markdown",
   "metadata": {},
   "source": [
    "## Training for CNNs\n",
    "* define the two CNNs\n",
    "* define the train function\n",
    "* train them and check the results"
   ]
  },
  {
   "cell_type": "code",
   "execution_count": 5,
   "metadata": {
    "code_folding": [
     0,
     18,
     37,
     148
    ]
   },
   "outputs": [],
   "source": [
    "class Raw_CNN_Mnist(nn.Module):\n",
    "    def __init__(self):\n",
    "        super(Raw_CNN_Mnist, self).__init__()\n",
    "        self.conv1 = nn.Conv2d(1, 3, 5, padding=1, bias=True)\n",
    "        self.conv2 = nn.Conv2d(3, 12, 5, padding=1, bias=True)\n",
    "        self.m1 = nn.MaxPool2d(2)\n",
    "        self.m2 = nn.MaxPool2d(2)\n",
    "        self.fc1 = nn.Linear(12 * 5 * 5, 10, bias=True)\n",
    "\n",
    "    def forward(self, x):\n",
    "        x = F.relu(self.conv1(x)) \n",
    "        x = self.m1(x) \n",
    "        x = F.relu(self.conv2(x)) \n",
    "        x = self.m2(x) \n",
    "        x = x.view(-1, 12 * 5 * 5)    \n",
    "        x = self.fc1(x)\n",
    "        return F.log_softmax(x, dim=1)\n",
    "\n",
    "class Tailored_CNN_Mnist(nn.Module):\n",
    "    def __init__(self):\n",
    "        super(Tailored_CNN_Mnist, self).__init__()\n",
    "        self.conv1 = nn.Conv2d(1, 3, 5, padding=1, bias=False)\n",
    "        self.conv2 = nn.Conv2d(3, 12, 5, padding=1, bias=False)\n",
    "        self.a1 = nn.AvgPool2d(2)\n",
    "        self.a2 = nn.AvgPool2d(2)\n",
    "        self.fc1 = nn.Linear(12 * 5 * 5, 10, bias=False)\n",
    "\n",
    "    def forward(self, x):\n",
    "        x = F.relu(self.conv1(x))\n",
    "        x = self.a1(x)\n",
    "        x = F.relu(self.conv2(x))\n",
    "        x = self.a2(x)\n",
    "        x = x.view(-1, 12 * 5 * 5)   \n",
    "        x = self.fc1(x) \n",
    "        return F.log_softmax(x, dim=1)\n",
    "    \n",
    "# the learningStat class    \n",
    "class learningStat():\n",
    "    '''\n",
    "    This class collect the learning statistics over the epoch.\n",
    "\n",
    "    Usage:\n",
    "\n",
    "    This class is designed to be used with learningStats instance although it can be used separately.\n",
    "\n",
    "    >>> trainingStat = learningStat()\n",
    "    '''\n",
    "    def __init__(self):\n",
    "        self.lossSum = 0\n",
    "        self.correctSamples = 0\n",
    "        self.numSamples = 0\n",
    "        self.minloss = None\n",
    "        self.maxAccuracy = None\n",
    "        self.lossLog = []\n",
    "        self.accuracyLog = []\n",
    "        self.bestLoss = False\n",
    "        self.bestAccuracy = False\n",
    "\n",
    "    def reset(self):\n",
    "        '''\n",
    "        Reset the learning staistics. \n",
    "        This should usually be done before the start of an epoch so that new statistics counts can be accumulated.\n",
    "\n",
    "        Usage:\n",
    "\n",
    "        >>> trainingStat.reset()\n",
    "        '''\n",
    "        self.lossSum = 0\n",
    "        self.correctSamples = 0\n",
    "        self.numSamples = 0\n",
    "\n",
    "    def loss(self):\n",
    "        '''\n",
    "        Returns the average loss calculated from the point the stats was reset.\n",
    "\n",
    "        Usage:\n",
    "\n",
    "        >>> loss = trainingStat.loss()\n",
    "        '''\n",
    "        if self.numSamples > 0: \n",
    "            return self.lossSum/self.numSamples \n",
    "        else:   \n",
    "            return None\n",
    "\n",
    "    def accuracy(self):\n",
    "        '''\n",
    "        Returns the average accuracy calculated from the point the stats was reset.\n",
    "\n",
    "        Usage:\n",
    "\n",
    "        >>> accuracy = trainingStat.accuracy()\n",
    "        '''\n",
    "        if self.numSamples > 0 and self.correctSamples > 0:\n",
    "            return self.correctSamples/self.numSamples  \n",
    "        else:   \n",
    "            return None\n",
    "\n",
    "    def update(self):\n",
    "        '''\n",
    "        Updates the stats of the current session and resets the measures for next session.\n",
    "\n",
    "        Usage:\n",
    "\n",
    "        >>> trainingStat.update()\n",
    "        '''\n",
    "        currentLoss = self.loss()\n",
    "        self.lossLog.append(currentLoss)\n",
    "        if self.minloss is None:\n",
    "            self.minloss = currentLoss\n",
    "        else:\n",
    "            if currentLoss < self.minloss:\n",
    "                self.minloss = currentLoss\n",
    "                self.bestLoss = True\n",
    "            else:\n",
    "                self.bestLoss = False\n",
    "            # self.minloss = self.minloss if self.minloss < currentLoss else currentLoss\n",
    "\n",
    "        currentAccuracy = self.accuracy()\n",
    "        self.accuracyLog.append(currentAccuracy)\n",
    "        if self.maxAccuracy is None:\n",
    "            self.maxAccuracy = currentAccuracy\n",
    "        else:\n",
    "            if currentAccuracy > self.maxAccuracy:\n",
    "                self.maxAccuracy = currentAccuracy\n",
    "                self.bestAccuracy = True\n",
    "            else:\n",
    "                self.bestAccuracy = False\n",
    "            # self.maxAccuracy = self.maxAccuracy if self.maxAccuracy > currentAccuracy else currentAccuracy\n",
    "\n",
    "    def displayString(self):\n",
    "        loss = self.loss()\n",
    "        accuracy = self.accuracy()\n",
    "        minloss = self.minloss\n",
    "        maxAccuracy = self.maxAccuracy\n",
    "\n",
    "        if loss is None:    # no stats available\n",
    "            return None\n",
    "        elif accuracy is None: \n",
    "            if minloss is None: # accuracy and minloss stats is not available\n",
    "                return 'loss = %-12.5g'%(loss)\n",
    "            else:   # accuracy is not available but minloss is available\n",
    "                return 'loss = %-12.5g (min = %-12.5g)'%(loss, minloss)\n",
    "        else:\n",
    "            if minloss is None and maxAccuracy is None: # minloss and maxAccuracy is available\n",
    "                return 'loss = %-12.5g        %-12s   \\taccuracy = %-10.5g        %-10s '%(loss, ' ', accuracy, ' ')\n",
    "            else:   # all stats are available\n",
    "                return 'loss = %-12.5g (min = %-12.5g)  \\taccuracy = %-10.5g (max = %-10.5g)'%(loss, minloss, accuracy, maxAccuracy)\n",
    "\n",
    "class learningStats():\n",
    "    '''\n",
    "    This class provides mechanism to collect learning stats for training and testing, and displaying them efficiently.\n",
    "\n",
    "    Usage:\n",
    "\n",
    "    .. code-block:: python\n",
    "    \n",
    "        stats = learningStats()\n",
    "\n",
    "        for epoch in range(100):\n",
    "            tSt = datetime.now()\n",
    "\n",
    "            stats.training.reset()\n",
    "            for i in trainingLoop:\n",
    "                # other main stuffs\n",
    "                stats.training.correctSamples += numberOfCorrectClassification\n",
    "                stats.training.numSamples     += numberOfSamplesProcessed\n",
    "                stats.training.lossSum        += currentLoss\n",
    "                stats.print(epoch, i, (datetime.now() - tSt).total_seconds())\n",
    "            stats.training.update()\n",
    "\n",
    "            stats.testing.reset()\n",
    "            for i in testingLoop\n",
    "                # other main stuffs\n",
    "                stats.testing.correctSamples += numberOfCorrectClassification\n",
    "                stats.testing.numSamples     += numberOfSamplesProcessed\n",
    "                stats.testing.lossSum        += currentLoss\n",
    "                stats.print(epoch, i)\n",
    "            stats.training.update()\n",
    "\n",
    "    '''\n",
    "    def __init__(self):\n",
    "        self.linesPrinted = 0\n",
    "        self.training = learningStat()\n",
    "        self.testing  = learningStat()\n",
    "\n",
    "    def update(self):\n",
    "        '''\n",
    "        Updates the stats for training and testing and resets the measures for next session.\n",
    "\n",
    "        Usage:\n",
    "\n",
    "        >>> stats.update()\n",
    "        '''\n",
    "        self.training.update()\n",
    "        self.training.reset()\n",
    "        self.testing.update()\n",
    "        self.testing.reset()\n",
    "\n",
    "    def print(self, epoch, iter=None, timeElapsed=None):\n",
    "        '''\n",
    "        Prints the available learning statistics from the current session on the console.\n",
    "        For Linux systems, prints the data on same terminal space (might not work properly on other systems).\n",
    "\n",
    "        Arguments:\n",
    "            * ``epoch``: epoch counter to display (required).\n",
    "            * ``iter``: iteration counter to display (not required).\n",
    "            * ``timeElapsed``: runtime information (not required).\n",
    "\n",
    "        Usage:\n",
    "\n",
    "        .. code-block:: python\n",
    "\n",
    "            # prints stats with epoch index provided\n",
    "            stats.print(epoch) \n",
    "\n",
    "            # prints stats with epoch index and iteration index provided\n",
    "            stats.print(epoch, iter=i) \n",
    "            \n",
    "            # prints stats with epoch index, iteration index and time elapsed information provided\n",
    "            stats.print(epoch, iter=i, timeElapsed=time) \n",
    "        '''\n",
    "        print('\\033[%dA'%(self.linesPrinted))\n",
    "        \n",
    "        self.linesPrinted = 1\n",
    "\n",
    "        epochStr   = 'Epoch : %10d'%(epoch)\n",
    "        iterStr    = '' if iter is None else '(i = %7d)'%(iter)\n",
    "        profileStr = '' if timeElapsed is None else ', %12.4f ms elapsed'%(timeElapsed * 1000)\n",
    "\n",
    "        print(epochStr + iterStr + profileStr)\n",
    "        print(self.training.displayString())\n",
    "        self.linesPrinted += 2\n",
    "        if self.testing.displayString() is not None:\n",
    "            print(self.testing.displayString())\n",
    "            self.linesPrinted += 1\n",
    "\n",
    "    def plot(self, figures=(1, 2), saveFig=False, path=''):\n",
    "        '''\n",
    "        Plots the available learning statistics.\n",
    "\n",
    "        Arguments:\n",
    "            * ``figures``: Index of figure ID to plot on. Default is figure(1) for loss plot and figure(2) for accuracy plot.\n",
    "            * ``saveFig``(``bool``): flag to save figure into a file.\n",
    "            * ``path``: path to save the file. Defaule is ``''``.\n",
    "\n",
    "        Usage:\n",
    "\n",
    "        .. code-block:: python\n",
    "\n",
    "            # plot stats\n",
    "            stats.plot() \n",
    "\n",
    "            # plot stats figures specified\n",
    "            stats.print(figures=(10, 11)) \n",
    "        '''\n",
    "        plt.figure(figures[0])\n",
    "        plt.cla()\n",
    "        if len(self.training.lossLog) > 0:\n",
    "            plt.semilogy(self.training.lossLog, label='Training')\n",
    "        if len(self.testing.lossLog) > 0:\n",
    "            plt.semilogy(self.testing .lossLog, label='Testing')\n",
    "        plt.xlabel('Epoch')\n",
    "        plt.ylabel('Loss')\n",
    "        plt.legend()\n",
    "        if saveFig is True: \n",
    "            plt.savefig(path + 'loss.png')\n",
    "            # plt.close()\n",
    "\n",
    "        plt.figure(figures[1])\n",
    "        plt.cla()\n",
    "        if len(self.training.accuracyLog) > 0:\n",
    "            plt.plot(self.training.accuracyLog, label='Training')\n",
    "        if len(self.testing.accuracyLog) > 0:\n",
    "            plt.plot(self.testing .accuracyLog, label='Testing')\n",
    "        plt.xlabel('Epoch')\n",
    "        plt.ylabel('Accuracy')\n",
    "        plt.legend() \n",
    "        if saveFig is True: \n",
    "            plt.savefig(path + 'accuracy.png')\n",
    "            # plt.close()\n",
    "\n",
    "    def save(self, filename=''):\n",
    "        '''\n",
    "        Saves the learning satatistics logs.\n",
    "\n",
    "        Arguments:\n",
    "            * ``filename``: filename to save the logs. ``accuracy.txt`` and ``loss.txt`` will be appended\n",
    "\n",
    "        Usage:\n",
    "\n",
    "        .. code-block:: python\n",
    "\n",
    "            # save stats\n",
    "            stats.save() \n",
    "\n",
    "            # save stats filename specified\n",
    "            stats.save(filename='Run101-0.001-') # Run101-0.001-accuracy.txt and Run101-0.001-loss.txt\n",
    "        '''\n",
    "\n",
    "        with open(filename + 'loss.txt', 'wt') as loss:\n",
    "            loss.write('#%11s %11s\\r\\n'%('Train', 'Test'))\n",
    "            for i in range(len(self.training.lossLog)): \n",
    "                loss.write('%12.6g %12.6g \\r\\n'%(self.training.lossLog[i], self.testing.lossLog[i]))\n",
    "\n",
    "        with open(filename + 'accuracy.txt', 'wt') as accuracy:\n",
    "            accuracy.write('#%11s %11s\\r\\n'%('Train', 'Test'))\n",
    "            if self.training.accuracyLog != [None]*len(self.training.accuracyLog):\n",
    "                for i in range(len(self.training.accuracyLog)): \n",
    "                    accuracy.write('%12.6g %12.6g \\r\\n'%(self.training.accuracyLog[i], self.testing.accuracyLog[i]))"
   ]
  },
  {
   "cell_type": "markdown",
   "metadata": {},
   "source": [
    "### experiment MNIST"
   ]
  },
  {
   "cell_type": "code",
   "execution_count": 6,
   "metadata": {},
   "outputs": [],
   "source": [
    "# trainset_cnn = MNIST(root='./data', train=True, transform=transforms.Compose([\n",
    "#             transforms.ToTensor()]))\n",
    "\n",
    "# trainloader_cnn = torch.utils.data.DataLoader(trainset_cnn, batch_size=BATCH_SIZE,\n",
    "#                                           shuffle=True, num_workers=NUM_WORKERS)\n",
    "\n",
    "# testset_cnn = MNIST(root='./data', train=False, transform=transforms.Compose([\n",
    "#             transforms.ToTensor()]))\n",
    "\n",
    "# testloader_cnn = torch.utils.data.DataLoader(testset_cnn, batch_size=BATCH_SIZE,\n",
    "#                                          shuffle=False, num_workers=NUM_WORKERS)"
   ]
  },
  {
   "cell_type": "code",
   "execution_count": 6,
   "metadata": {},
   "outputs": [],
   "source": [
    "class MNIST500(Dataset):\n",
    "    def __init__(self, datasetPath, train=False):\n",
    "        self.path = datasetPath\n",
    "        ds = MNIST(datasetPath, train=train, download=True, transform=transforms.Compose([\n",
    "            transforms.ToTensor()]))\n",
    "        self.samples = [ds[i] for i in range(0, 500)]\n",
    "\n",
    "    def __getitem__(self, index):\n",
    "        x, y = self.samples[index]\n",
    "        return x, y\n",
    "\n",
    "    def __len__(self):\n",
    "        return len(self.samples)"
   ]
  },
  {
   "cell_type": "code",
   "execution_count": 7,
   "metadata": {},
   "outputs": [],
   "source": [
    "trainset_cnn = MNIST500('./data', train=True)\n",
    "\n",
    "trainloader_cnn = torch.utils.data.DataLoader(trainset_cnn, batch_size=BATCH_SIZE,\n",
    "                                          shuffle=True, num_workers=NUM_WORKERS)\n",
    "\n",
    "testset_cnn = MNIST500('./data', train=False)\n",
    "\n",
    "testloader_cnn = torch.utils.data.DataLoader(testset_cnn, batch_size=BATCH_SIZE,\n",
    "                                         shuffle=False, num_workers=NUM_WORKERS)"
   ]
  },
  {
   "cell_type": "code",
   "execution_count": 8,
   "metadata": {},
   "outputs": [
    {
     "data": {
      "image/png": "[encoded data removed]",
      "text/plain": [
       "<Figure size 432x288 with 1 Axes>"
      ]
     },
     "metadata": {
      "needs_background": "light"
     },
     "output_type": "display_data"
    },
    {
     "data": {
      "image/png": "[encoded data removed]",
      "text/plain": [
       "<Figure size 432x288 with 1 Axes>"
      ]
     },
     "metadata": {
      "needs_background": "light"
     },
     "output_type": "display_data"
    }
   ],
   "source": [
    "# check if we choose the correct dataset\n",
    "\n",
    "plt.imshow(next(iter(trainloader_cnn))[0][0].squeeze(), cmap='gray')\n",
    "plt.show()\n",
    "\n",
    "plt.imshow(next(iter(testloader_cnn))[0][0].squeeze(), cmap='gray')\n",
    "plt.show()"
   ]
  },
  {
   "cell_type": "markdown",
   "metadata": {},
   "source": [
    "* train the raw CNN on MNIST"
   ]
  },
  {
   "cell_type": "code",
   "execution_count": 25,
   "metadata": {
    "code_folding": [],
    "scrolled": true
   },
   "outputs": [
    {
     "name": "stderr",
     "output_type": "stream",
     "text": [
      "  1%|          | 1/100 [00:00<01:02,  1.58it/s]"
     ]
    },
    {
     "name": "stdout",
     "output_type": "stream",
     "text": [
      "\u001b[0A\n",
      "Epoch :          0,     632.2520 ms elapsed\n",
      "loss = 0.073469     (min = 0.073469    )  \taccuracy = 0.112      (max = 0.112     )\n",
      "loss = 0.072803     (min = 0.072803    )  \taccuracy = 0.21       (max = 0.21      )\n"
     ]
    },
    {
     "name": "stderr",
     "output_type": "stream",
     "text": [
      "  3%|▎         | 3/100 [00:02<01:06,  1.46it/s]"
     ]
    },
    {
     "name": "stdout",
     "output_type": "stream",
     "text": [
      "\u001b[4A\n",
      "Epoch :          2,     722.2710 ms elapsed\n",
      "loss = 0.062846     (min = 0.062846    )  \taccuracy = 0.542      (max = 0.542     )\n",
      "loss = 0.058417     (min = 0.058417    )  \taccuracy = 0.576      (max = 0.576     )\n"
     ]
    },
    {
     "name": "stderr",
     "output_type": "stream",
     "text": [
      "  5%|▌         | 5/100 [00:03<01:06,  1.43it/s]"
     ]
    },
    {
     "name": "stdout",
     "output_type": "stream",
     "text": [
      "\u001b[4A\n",
      "Epoch :          4,     736.4600 ms elapsed\n",
      "loss = 0.029436     (min = 0.029436    )  \taccuracy = 0.772      (max = 0.772     )\n",
      "loss = 0.032328     (min = 0.032328    )  \taccuracy = 0.68       (max = 0.68      )\n"
     ]
    },
    {
     "name": "stderr",
     "output_type": "stream",
     "text": [
      "  7%|▋         | 7/100 [00:04<01:05,  1.42it/s]"
     ]
    },
    {
     "name": "stdout",
     "output_type": "stream",
     "text": [
      "\u001b[4A\n",
      "Epoch :          6,     677.8260 ms elapsed\n",
      "loss = 0.017478     (min = 0.017478    )  \taccuracy = 0.836      (max = 0.836     )\n",
      "loss = 0.023781     (min = 0.023781    )  \taccuracy = 0.738      (max = 0.738     )\n"
     ]
    },
    {
     "name": "stderr",
     "output_type": "stream",
     "text": [
      "  9%|▉         | 9/100 [00:06<01:05,  1.39it/s]"
     ]
    },
    {
     "name": "stdout",
     "output_type": "stream",
     "text": [
      "\u001b[4A\n",
      "Epoch :          8,     801.8920 ms elapsed\n",
      "loss = 0.013612     (min = 0.013612    )  \taccuracy = 0.88       (max = 0.88      )\n",
      "loss = 0.018055     (min = 0.018055    )  \taccuracy = 0.808      (max = 0.808     )\n"
     ]
    },
    {
     "name": "stderr",
     "output_type": "stream",
     "text": [
      " 11%|█         | 11/100 [00:08<01:08,  1.31it/s]"
     ]
    },
    {
     "name": "stdout",
     "output_type": "stream",
     "text": [
      "\u001b[4A\n",
      "Epoch :         10,     807.1570 ms elapsed\n",
      "loss = 0.011132     (min = 0.011132    )  \taccuracy = 0.884      (max = 0.89      )\n",
      "loss = 0.016644     (min = 0.016644    )  \taccuracy = 0.82       (max = 0.824     )\n"
     ]
    },
    {
     "name": "stderr",
     "output_type": "stream",
     "text": [
      " 13%|█▎        | 13/100 [00:09<01:04,  1.35it/s]"
     ]
    },
    {
     "name": "stdout",
     "output_type": "stream",
     "text": [
      "\u001b[4A\n",
      "Epoch :         12,     716.1600 ms elapsed\n",
      "loss = 0.010154     (min = 0.010154    )  \taccuracy = 0.902      (max = 0.902     )\n",
      "loss = 0.014175     (min = 0.014175    )  \taccuracy = 0.842      (max = 0.852     )\n"
     ]
    },
    {
     "name": "stderr",
     "output_type": "stream",
     "text": [
      " 15%|█▌        | 15/100 [00:10<00:58,  1.45it/s]"
     ]
    },
    {
     "name": "stdout",
     "output_type": "stream",
     "text": [
      "\u001b[4A\n",
      "Epoch :         14,     583.0730 ms elapsed\n",
      "loss = 0.0081716    (min = 0.0081716   )  \taccuracy = 0.922      (max = 0.922     )\n",
      "loss = 0.012495     (min = 0.012495    )  \taccuracy = 0.87       (max = 0.87      )\n"
     ]
    },
    {
     "name": "stderr",
     "output_type": "stream",
     "text": [
      " 17%|█▋        | 17/100 [00:11<00:45,  1.83it/s]"
     ]
    },
    {
     "name": "stdout",
     "output_type": "stream",
     "text": [
      "\u001b[4A\n",
      "Epoch :         16,     412.1380 ms elapsed\n",
      "loss = 0.0076602    (min = 0.0075386   )  \taccuracy = 0.924      (max = 0.924     )\n",
      "loss = 0.011679     (min = 0.011679    )  \taccuracy = 0.87       (max = 0.87      )\n"
     ]
    },
    {
     "name": "stderr",
     "output_type": "stream",
     "text": [
      " 19%|█▉        | 19/100 [00:12<00:38,  2.12it/s]"
     ]
    },
    {
     "name": "stdout",
     "output_type": "stream",
     "text": [
      "\u001b[4A\n",
      "Epoch :         18,     391.7520 ms elapsed\n",
      "loss = 0.0062155    (min = 0.0062155   )  \taccuracy = 0.94       (max = 0.94      )\n",
      "loss = 0.011023     (min = 0.011023    )  \taccuracy = 0.884      (max = 0.884     )\n"
     ]
    },
    {
     "name": "stderr",
     "output_type": "stream",
     "text": [
      " 21%|██        | 21/100 [00:13<00:40,  1.94it/s]"
     ]
    },
    {
     "name": "stdout",
     "output_type": "stream",
     "text": [
      "\u001b[4A\n",
      "Epoch :         20,     655.2990 ms elapsed\n",
      "loss = 0.0058896    (min = 0.0058896   )  \taccuracy = 0.928      (max = 0.94      )\n",
      "loss = 0.011315     (min = 0.010957    )  \taccuracy = 0.882      (max = 0.884     )\n"
     ]
    },
    {
     "name": "stderr",
     "output_type": "stream",
     "text": [
      " 23%|██▎       | 23/100 [00:14<00:48,  1.58it/s]"
     ]
    },
    {
     "name": "stdout",
     "output_type": "stream",
     "text": [
      "\u001b[4A\n",
      "Epoch :         22,     752.3930 ms elapsed\n",
      "loss = 0.0049932    (min = 0.0049932   )  \taccuracy = 0.946      (max = 0.954     )\n",
      "loss = 0.010372     (min = 0.010372    )  \taccuracy = 0.89       (max = 0.9       )\n"
     ]
    },
    {
     "name": "stderr",
     "output_type": "stream",
     "text": [
      " 25%|██▌       | 25/100 [00:16<00:51,  1.47it/s]"
     ]
    },
    {
     "name": "stdout",
     "output_type": "stream",
     "text": [
      "\u001b[4A\n",
      "Epoch :         24,     707.9870 ms elapsed\n",
      "loss = 0.0042211    (min = 0.0042097   )  \taccuracy = 0.962      (max = 0.962     )\n",
      "loss = 0.0093881    (min = 0.0093881   )  \taccuracy = 0.908      (max = 0.908     )\n"
     ]
    },
    {
     "name": "stderr",
     "output_type": "stream",
     "text": [
      " 27%|██▋       | 27/100 [00:17<00:50,  1.43it/s]"
     ]
    },
    {
     "name": "stdout",
     "output_type": "stream",
     "text": [
      "\u001b[4A\n",
      "Epoch :         26,     718.9880 ms elapsed\n",
      "loss = 0.0038431    (min = 0.0038431   )  \taccuracy = 0.96       (max = 0.964     )\n",
      "loss = 0.0089654    (min = 0.0089654   )  \taccuracy = 0.908      (max = 0.908     )\n"
     ]
    },
    {
     "name": "stderr",
     "output_type": "stream",
     "text": [
      " 29%|██▉       | 29/100 [00:19<00:48,  1.46it/s]"
     ]
    },
    {
     "name": "stdout",
     "output_type": "stream",
     "text": [
      "\u001b[4A\n",
      "Epoch :         28,     663.7850 ms elapsed\n",
      "loss = 0.0029602    (min = 0.0029602   )  \taccuracy = 0.976      (max = 0.976     )\n",
      "loss = 0.0085276    (min = 0.0085276   )  \taccuracy = 0.898      (max = 0.908     )\n"
     ]
    },
    {
     "name": "stderr",
     "output_type": "stream",
     "text": [
      " 31%|███       | 31/100 [00:20<00:48,  1.44it/s]"
     ]
    },
    {
     "name": "stdout",
     "output_type": "stream",
     "text": [
      "\u001b[4A\n",
      "Epoch :         30,     727.0690 ms elapsed\n",
      "loss = 0.0022493    (min = 0.0022493   )  \taccuracy = 0.982      (max = 0.982     )\n",
      "loss = 0.0083855    (min = 0.0081012   )  \taccuracy = 0.904      (max = 0.918     )\n"
     ]
    },
    {
     "name": "stderr",
     "output_type": "stream",
     "text": [
      " 33%|███▎      | 33/100 [00:21<00:45,  1.46it/s]"
     ]
    },
    {
     "name": "stdout",
     "output_type": "stream",
     "text": [
      "\u001b[4A\n",
      "Epoch :         32,     665.0870 ms elapsed\n",
      "loss = 0.0019579    (min = 0.0019579   )  \taccuracy = 0.984      (max = 0.986     )\n",
      "loss = 0.0080874    (min = 0.0080874   )  \taccuracy = 0.914      (max = 0.918     )\n"
     ]
    },
    {
     "name": "stderr",
     "output_type": "stream",
     "text": [
      " 35%|███▌      | 35/100 [00:23<00:48,  1.35it/s]"
     ]
    },
    {
     "name": "stdout",
     "output_type": "stream",
     "text": [
      "\u001b[4A\n",
      "Epoch :         34,     807.3940 ms elapsed\n",
      "loss = 0.0017175    (min = 0.0017175   )  \taccuracy = 0.994      (max = 0.994     )\n",
      "loss = 0.007873     (min = 0.007873    )  \taccuracy = 0.91       (max = 0.918     )\n"
     ]
    },
    {
     "name": "stderr",
     "output_type": "stream",
     "text": [
      " 37%|███▋      | 37/100 [00:25<00:47,  1.33it/s]"
     ]
    },
    {
     "name": "stdout",
     "output_type": "stream",
     "text": [
      "\u001b[4A\n",
      "Epoch :         36,     704.1720 ms elapsed\n",
      "loss = 0.0015146    (min = 0.0015146   )  \taccuracy = 0.998      (max = 0.998     )\n",
      "loss = 0.0078643    (min = 0.0078643   )  \taccuracy = 0.91       (max = 0.918     )\n"
     ]
    },
    {
     "name": "stderr",
     "output_type": "stream",
     "text": [
      " 39%|███▉      | 39/100 [00:26<00:43,  1.40it/s]"
     ]
    },
    {
     "name": "stdout",
     "output_type": "stream",
     "text": [
      "\u001b[4A\n",
      "Epoch :         38,     692.8070 ms elapsed\n",
      "loss = 0.0012776    (min = 0.0012776   )  \taccuracy = 0.994      (max = 0.998     )\n",
      "loss = 0.008325     (min = 0.0078478   )  \taccuracy = 0.904      (max = 0.918     )\n"
     ]
    },
    {
     "name": "stderr",
     "output_type": "stream",
     "text": [
      " 41%|████      | 41/100 [00:27<00:42,  1.40it/s]"
     ]
    },
    {
     "name": "stdout",
     "output_type": "stream",
     "text": [
      "\u001b[4A\n",
      "Epoch :         40,     661.7260 ms elapsed\n",
      "loss = 0.0010653    (min = 0.0010653   )  \taccuracy = 1          (max = 1         )\n",
      "loss = 0.0080151    (min = 0.0076      )  \taccuracy = 0.912      (max = 0.924     )\n"
     ]
    },
    {
     "name": "stderr",
     "output_type": "stream",
     "text": [
      " 43%|████▎     | 43/100 [00:29<00:40,  1.41it/s]"
     ]
    },
    {
     "name": "stdout",
     "output_type": "stream",
     "text": [
      "\u001b[4A\n",
      "Epoch :         42,     710.2150 ms elapsed\n",
      "loss = 0.00085701   (min = 0.00085701  )  \taccuracy = 1          (max = 1         )\n",
      "loss = 0.0078157    (min = 0.0076      )  \taccuracy = 0.914      (max = 0.924     )\n"
     ]
    },
    {
     "name": "stderr",
     "output_type": "stream",
     "text": [
      " 45%|████▌     | 45/100 [00:30<00:39,  1.38it/s]"
     ]
    },
    {
     "name": "stdout",
     "output_type": "stream",
     "text": [
      "\u001b[4A\n",
      "Epoch :         44,     676.5040 ms elapsed\n",
      "loss = 0.00072819   (min = 0.00072679  )  \taccuracy = 1          (max = 1         )\n",
      "loss = 0.0078288    (min = 0.0076      )  \taccuracy = 0.914      (max = 0.924     )\n"
     ]
    },
    {
     "name": "stderr",
     "output_type": "stream",
     "text": [
      " 47%|████▋     | 47/100 [00:32<00:39,  1.35it/s]"
     ]
    },
    {
     "name": "stdout",
     "output_type": "stream",
     "text": [
      "\u001b[4A\n",
      "Epoch :         46,     729.2710 ms elapsed\n",
      "loss = 0.0005929    (min = 0.0005929   )  \taccuracy = 1          (max = 1         )\n",
      "loss = 0.0076515    (min = 0.0076      )  \taccuracy = 0.914      (max = 0.924     )\n"
     ]
    },
    {
     "name": "stderr",
     "output_type": "stream",
     "text": [
      " 49%|████▉     | 49/100 [00:33<00:39,  1.30it/s]"
     ]
    },
    {
     "name": "stdout",
     "output_type": "stream",
     "text": [
      "\u001b[4A\n",
      "Epoch :         48,     835.7460 ms elapsed\n",
      "loss = 0.00055713   (min = 0.00055713  )  \taccuracy = 1          (max = 1         )\n",
      "loss = 0.0078149    (min = 0.0076      )  \taccuracy = 0.916      (max = 0.924     )\n"
     ]
    },
    {
     "name": "stderr",
     "output_type": "stream",
     "text": [
      " 51%|█████     | 51/100 [00:35<00:38,  1.29it/s]"
     ]
    },
    {
     "name": "stdout",
     "output_type": "stream",
     "text": [
      "\u001b[4A\n",
      "Epoch :         50,     799.2990 ms elapsed\n",
      "loss = 0.00048284   (min = 0.00048284  )  \taccuracy = 1          (max = 1         )\n",
      "loss = 0.0076811    (min = 0.0076      )  \taccuracy = 0.918      (max = 0.924     )\n"
     ]
    },
    {
     "name": "stderr",
     "output_type": "stream",
     "text": [
      " 53%|█████▎    | 53/100 [00:36<00:34,  1.38it/s]"
     ]
    },
    {
     "name": "stdout",
     "output_type": "stream",
     "text": [
      "\u001b[4A\n",
      "Epoch :         52,     672.3580 ms elapsed\n",
      "loss = 0.00042659   (min = 0.00042659  )  \taccuracy = 1          (max = 1         )\n",
      "loss = 0.007841     (min = 0.0076      )  \taccuracy = 0.912      (max = 0.924     )\n"
     ]
    },
    {
     "name": "stderr",
     "output_type": "stream",
     "text": [
      " 55%|█████▌    | 55/100 [00:38<00:30,  1.47it/s]"
     ]
    },
    {
     "name": "stdout",
     "output_type": "stream",
     "text": [
      "\u001b[4A\n",
      "Epoch :         54,     657.0710 ms elapsed\n",
      "loss = 0.00035649   (min = 0.00035649  )  \taccuracy = 1          (max = 1         )\n",
      "loss = 0.0080227    (min = 0.0076      )  \taccuracy = 0.92       (max = 0.924     )\n"
     ]
    },
    {
     "name": "stderr",
     "output_type": "stream",
     "text": [
      " 57%|█████▋    | 57/100 [00:39<00:29,  1.46it/s]"
     ]
    },
    {
     "name": "stdout",
     "output_type": "stream",
     "text": [
      "\u001b[4A\n",
      "Epoch :         56,     677.1290 ms elapsed\n",
      "loss = 0.00032984   (min = 0.00032984  )  \taccuracy = 1          (max = 1         )\n",
      "loss = 0.0079535    (min = 0.0076      )  \taccuracy = 0.914      (max = 0.924     )\n"
     ]
    },
    {
     "name": "stderr",
     "output_type": "stream",
     "text": [
      " 59%|█████▉    | 59/100 [00:40<00:29,  1.41it/s]"
     ]
    },
    {
     "name": "stdout",
     "output_type": "stream",
     "text": [
      "\u001b[4A\n",
      "Epoch :         58,     727.5910 ms elapsed\n",
      "loss = 0.00029136   (min = 0.00029136  )  \taccuracy = 1          (max = 1         )\n",
      "loss = 0.0079874    (min = 0.0076      )  \taccuracy = 0.908      (max = 0.924     )\n"
     ]
    },
    {
     "name": "stderr",
     "output_type": "stream",
     "text": [
      " 61%|██████    | 61/100 [00:42<00:27,  1.44it/s]"
     ]
    },
    {
     "name": "stdout",
     "output_type": "stream",
     "text": [
      "\u001b[4A\n",
      "Epoch :         60,     650.2730 ms elapsed\n",
      "loss = 0.00026649   (min = 0.00026649  )  \taccuracy = 1          (max = 1         )\n",
      "loss = 0.0079086    (min = 0.0076      )  \taccuracy = 0.916      (max = 0.924     )\n"
     ]
    },
    {
     "name": "stderr",
     "output_type": "stream",
     "text": [
      " 63%|██████▎   | 63/100 [00:43<00:26,  1.40it/s]"
     ]
    },
    {
     "name": "stdout",
     "output_type": "stream",
     "text": [
      "\u001b[4A\n",
      "Epoch :         62,     724.3790 ms elapsed\n",
      "loss = 0.00023634   (min = 0.00023634  )  \taccuracy = 1          (max = 1         )\n",
      "loss = 0.0079711    (min = 0.0076      )  \taccuracy = 0.916      (max = 0.924     )\n"
     ]
    },
    {
     "name": "stderr",
     "output_type": "stream",
     "text": [
      " 65%|██████▌   | 65/100 [00:45<00:25,  1.40it/s]"
     ]
    },
    {
     "name": "stdout",
     "output_type": "stream",
     "text": [
      "\u001b[4A\n",
      "Epoch :         64,     783.4870 ms elapsed\n",
      "loss = 0.00021754   (min = 0.00021754  )  \taccuracy = 1          (max = 1         )\n",
      "loss = 0.0079708    (min = 0.0076      )  \taccuracy = 0.912      (max = 0.924     )\n"
     ]
    },
    {
     "name": "stderr",
     "output_type": "stream",
     "text": [
      " 67%|██████▋   | 67/100 [00:46<00:23,  1.38it/s]"
     ]
    },
    {
     "name": "stdout",
     "output_type": "stream",
     "text": [
      "\u001b[4A\n",
      "Epoch :         66,     776.8120 ms elapsed\n",
      "loss = 0.00019372   (min = 0.00019372  )  \taccuracy = 1          (max = 1         )\n",
      "loss = 0.0081678    (min = 0.0076      )  \taccuracy = 0.91       (max = 0.924     )\n"
     ]
    },
    {
     "name": "stderr",
     "output_type": "stream",
     "text": [
      " 69%|██████▉   | 69/100 [00:48<00:22,  1.37it/s]"
     ]
    },
    {
     "name": "stdout",
     "output_type": "stream",
     "text": [
      "\u001b[4A\n",
      "Epoch :         68,     690.4210 ms elapsed\n",
      "loss = 0.00017212   (min = 0.00017212  )  \taccuracy = 1          (max = 1         )\n",
      "loss = 0.0081428    (min = 0.0076      )  \taccuracy = 0.914      (max = 0.924     )\n"
     ]
    },
    {
     "name": "stderr",
     "output_type": "stream",
     "text": [
      " 71%|███████   | 71/100 [00:49<00:21,  1.37it/s]"
     ]
    },
    {
     "name": "stdout",
     "output_type": "stream",
     "text": [
      "\u001b[4A\n",
      "Epoch :         70,     751.9880 ms elapsed\n",
      "loss = 0.00016069   (min = 0.00016069  )  \taccuracy = 1          (max = 1         )\n",
      "loss = 0.0082079    (min = 0.0076      )  \taccuracy = 0.91       (max = 0.924     )\n"
     ]
    },
    {
     "name": "stderr",
     "output_type": "stream",
     "text": [
      " 73%|███████▎  | 73/100 [00:50<00:18,  1.45it/s]"
     ]
    },
    {
     "name": "stdout",
     "output_type": "stream",
     "text": [
      "\u001b[4A\n",
      "Epoch :         72,     613.7870 ms elapsed\n",
      "loss = 0.00014982   (min = 0.00014982  )  \taccuracy = 1          (max = 1         )\n",
      "loss = 0.0081897    (min = 0.0076      )  \taccuracy = 0.916      (max = 0.924     )\n"
     ]
    },
    {
     "name": "stderr",
     "output_type": "stream",
     "text": [
      " 75%|███████▌  | 75/100 [00:52<00:17,  1.44it/s]"
     ]
    },
    {
     "name": "stdout",
     "output_type": "stream",
     "text": [
      "\u001b[4A\n",
      "Epoch :         74,     765.6120 ms elapsed\n",
      "loss = 0.00014688   (min = 0.00014479  )  \taccuracy = 1          (max = 1         )\n",
      "loss = 0.0083145    (min = 0.0076      )  \taccuracy = 0.912      (max = 0.924     )\n"
     ]
    },
    {
     "name": "stderr",
     "output_type": "stream",
     "text": [
      " 77%|███████▋  | 77/100 [00:53<00:16,  1.38it/s]"
     ]
    },
    {
     "name": "stdout",
     "output_type": "stream",
     "text": [
      "\u001b[4A\n",
      "Epoch :         76,     712.6040 ms elapsed\n",
      "loss = 0.0001407    (min = 0.00013627  )  \taccuracy = 1          (max = 1         )\n",
      "loss = 0.0084328    (min = 0.0076      )  \taccuracy = 0.912      (max = 0.924     )\n"
     ]
    },
    {
     "name": "stderr",
     "output_type": "stream",
     "text": [
      " 79%|███████▉  | 79/100 [00:55<00:15,  1.37it/s]"
     ]
    },
    {
     "name": "stdout",
     "output_type": "stream",
     "text": [
      "\u001b[4A\n",
      "Epoch :         78,     722.5320 ms elapsed\n",
      "loss = 0.00013318   (min = 0.00013318  )  \taccuracy = 1          (max = 1         )\n",
      "loss = 0.0084201    (min = 0.0076      )  \taccuracy = 0.914      (max = 0.924     )\n"
     ]
    },
    {
     "name": "stderr",
     "output_type": "stream",
     "text": [
      " 81%|████████  | 81/100 [00:56<00:13,  1.40it/s]"
     ]
    },
    {
     "name": "stdout",
     "output_type": "stream",
     "text": [
      "\u001b[4A\n",
      "Epoch :         80,     657.0820 ms elapsed\n",
      "loss = 0.00011446   (min = 0.00011446  )  \taccuracy = 1          (max = 1         )\n",
      "loss = 0.0085404    (min = 0.0076      )  \taccuracy = 0.91       (max = 0.924     )\n"
     ]
    },
    {
     "name": "stderr",
     "output_type": "stream",
     "text": [
      " 83%|████████▎ | 83/100 [00:57<00:11,  1.45it/s]"
     ]
    },
    {
     "name": "stdout",
     "output_type": "stream",
     "text": [
      "\u001b[4A\n",
      "Epoch :         82,     642.0240 ms elapsed\n",
      "loss = 0.0001028    (min = 0.0001028   )  \taccuracy = 1          (max = 1         )\n",
      "loss = 0.0084736    (min = 0.0076      )  \taccuracy = 0.912      (max = 0.924     )\n"
     ]
    },
    {
     "name": "stderr",
     "output_type": "stream",
     "text": [
      " 85%|████████▌ | 85/100 [00:59<00:10,  1.48it/s]"
     ]
    },
    {
     "name": "stdout",
     "output_type": "stream",
     "text": [
      "\u001b[4A\n",
      "Epoch :         84,     669.2330 ms elapsed\n",
      "loss = 0.00010087   (min = 0.00010087  )  \taccuracy = 1          (max = 1         )\n",
      "loss = 0.0086117    (min = 0.0076      )  \taccuracy = 0.912      (max = 0.924     )\n"
     ]
    },
    {
     "name": "stderr",
     "output_type": "stream",
     "text": [
      " 87%|████████▋ | 87/100 [01:00<00:09,  1.43it/s]"
     ]
    },
    {
     "name": "stdout",
     "output_type": "stream",
     "text": [
      "\u001b[4A\n",
      "Epoch :         86,     670.1270 ms elapsed\n",
      "loss = 9.7351e-05   (min = 9.4154e-05  )  \taccuracy = 1          (max = 1         )\n",
      "loss = 0.0085309    (min = 0.0076      )  \taccuracy = 0.912      (max = 0.924     )\n"
     ]
    },
    {
     "name": "stderr",
     "output_type": "stream",
     "text": [
      " 89%|████████▉ | 89/100 [01:02<00:07,  1.39it/s]"
     ]
    },
    {
     "name": "stdout",
     "output_type": "stream",
     "text": [
      "\u001b[4A\n",
      "Epoch :         88,     768.8470 ms elapsed\n",
      "loss = 8.7651e-05   (min = 8.7651e-05  )  \taccuracy = 1          (max = 1         )\n",
      "loss = 0.0085836    (min = 0.0076      )  \taccuracy = 0.912      (max = 0.924     )\n"
     ]
    },
    {
     "name": "stderr",
     "output_type": "stream",
     "text": [
      " 91%|█████████ | 91/100 [01:03<00:06,  1.33it/s]"
     ]
    },
    {
     "name": "stdout",
     "output_type": "stream",
     "text": [
      "\u001b[4A\n",
      "Epoch :         90,     870.2560 ms elapsed\n",
      "loss = 8.2911e-05   (min = 8.2911e-05  )  \taccuracy = 1          (max = 1         )\n",
      "loss = 0.0087474    (min = 0.0076      )  \taccuracy = 0.916      (max = 0.924     )\n"
     ]
    },
    {
     "name": "stderr",
     "output_type": "stream",
     "text": [
      " 93%|█████████▎| 93/100 [01:05<00:05,  1.29it/s]"
     ]
    },
    {
     "name": "stdout",
     "output_type": "stream",
     "text": [
      "\u001b[4A\n",
      "Epoch :         92,     811.0730 ms elapsed\n",
      "loss = 7.8409e-05   (min = 7.8409e-05  )  \taccuracy = 1          (max = 1         )\n",
      "loss = 0.0086577    (min = 0.0076      )  \taccuracy = 0.912      (max = 0.924     )\n"
     ]
    },
    {
     "name": "stderr",
     "output_type": "stream",
     "text": [
      " 95%|█████████▌| 95/100 [01:06<00:03,  1.29it/s]"
     ]
    },
    {
     "name": "stdout",
     "output_type": "stream",
     "text": [
      "\u001b[4A\n",
      "Epoch :         94,     779.2470 ms elapsed\n",
      "loss = 7.2995e-05   (min = 7.2995e-05  )  \taccuracy = 1          (max = 1         )\n",
      "loss = 0.0088421    (min = 0.0076      )  \taccuracy = 0.908      (max = 0.924     )\n"
     ]
    },
    {
     "name": "stderr",
     "output_type": "stream",
     "text": [
      " 97%|█████████▋| 97/100 [01:08<00:02,  1.37it/s]"
     ]
    },
    {
     "name": "stdout",
     "output_type": "stream",
     "text": [
      "\u001b[4A\n",
      "Epoch :         96,     690.3350 ms elapsed\n",
      "loss = 6.9349e-05   (min = 6.9349e-05  )  \taccuracy = 1          (max = 1         )\n",
      "loss = 0.0087833    (min = 0.0076      )  \taccuracy = 0.914      (max = 0.924     )\n"
     ]
    },
    {
     "name": "stderr",
     "output_type": "stream",
     "text": [
      " 99%|█████████▉| 99/100 [01:09<00:00,  1.41it/s]"
     ]
    },
    {
     "name": "stdout",
     "output_type": "stream",
     "text": [
      "\u001b[4A\n",
      "Epoch :         98,     664.5000 ms elapsed\n",
      "loss = 6.6393e-05   (min = 6.5096e-05  )  \taccuracy = 1          (max = 1         )\n",
      "loss = 0.0089045    (min = 0.0076      )  \taccuracy = 0.91       (max = 0.924     )\n"
     ]
    },
    {
     "name": "stderr",
     "output_type": "stream",
     "text": [
      "100%|██████████| 100/100 [01:10<00:00,  1.36it/s]\n"
     ]
    },
    {
     "name": "stdout",
     "output_type": "stream",
     "text": [
      "Finished Training\n"
     ]
    },
    {
     "data": {
      "image/png": "[encoded data removed]",
      "text/plain": [
       "<Figure size 432x288 with 1 Axes>"
      ]
     },
     "metadata": {
      "needs_background": "light"
     },
     "output_type": "display_data"
    },
    {
     "data": {
      "image/png": "[encoded data removed]",
      "text/plain": [
       "<Figure size 432x288 with 1 Axes>"
      ]
     },
     "metadata": {
      "needs_background": "light"
     },
     "output_type": "display_data"
    },
    {
     "name": "stdout",
     "output_type": "stream",
     "text": [
      "Saving models...\n"
     ]
    }
   ],
   "source": [
    "raw_cnn_mnist = Raw_CNN_Mnist().to(device)\n",
    "\n",
    "raw_criterion = nn.CrossEntropyLoss()\n",
    "raw_optimizer = optim.Adam(raw_cnn_mnist.parameters(), lr=0.001)\n",
    "raw_stats = learningStats()\n",
    "\n",
    "train(raw_cnn_mnist,'raw_cnn_Smnist',\n",
    "      trainloader_cnn,testloader_cnn,\n",
    "      raw_criterion, \n",
    "      raw_optimizer,\n",
    "      raw_stats,\n",
    "      epoch=EPOCH)"
   ]
  },
  {
   "cell_type": "markdown",
   "metadata": {},
   "source": [
    "* The accuracy and confusion matrix"
   ]
  },
  {
   "cell_type": "code",
   "execution_count": 27,
   "metadata": {},
   "outputs": [
    {
     "name": "stdout",
     "output_type": "stream",
     "text": [
      "The classification accuracy:  0.916\n",
      "\n"
     ]
    },
    {
     "data": {
      "image/png": "[encoded data removed]",
      "text/plain": [
       "<Figure size 432x288 with 2 Axes>"
      ]
     },
     "metadata": {
      "needs_background": "light"
     },
     "output_type": "display_data"
    }
   ],
   "source": [
    "raw_cnn_mnist = Raw_CNN_Mnist().to(device)\n",
    "load_model('raw_cnn_Smnist', raw_cnn_mnist)\n",
    "y_true, y_pred = get_labels(raw_cnn_mnist, testloader_cnn, snn=False)\n",
    "test_method(y_true.cpu().numpy(), y_pred.cpu().numpy())"
   ]
  },
  {
   "cell_type": "markdown",
   "metadata": {},
   "source": [
    "* train the tailored CNN on MNIST"
   ]
  },
  {
   "cell_type": "code",
   "execution_count": 8,
   "metadata": {
    "scrolled": true
   },
   "outputs": [
    {
     "name": "stderr",
     "output_type": "stream",
     "text": [
      "  1%|          | 1/100 [00:02<03:38,  2.20s/it]"
     ]
    },
    {
     "name": "stdout",
     "output_type": "stream",
     "text": [
      "\u001b[0A\n",
      "Epoch :          0,    2203.4690 ms elapsed\n",
      "loss = 0.073184     (min = 0.073184    )  \taccuracy = 0.156      (max = 0.156     )\n",
      "loss = 0.072238     (min = 0.072238    )  \taccuracy = 0.288      (max = 0.288     )\n"
     ]
    },
    {
     "name": "stderr",
     "output_type": "stream",
     "text": [
      "  3%|▎         | 3/100 [00:04<02:42,  1.67s/it]"
     ]
    },
    {
     "name": "stdout",
     "output_type": "stream",
     "text": [
      "\u001b[4A\n",
      "Epoch :          2,    1103.3410 ms elapsed\n",
      "loss = 0.058593     (min = 0.058593    )  \taccuracy = 0.62       (max = 0.62      )\n",
      "loss = 0.053285     (min = 0.053285    )  \taccuracy = 0.612      (max = 0.612     )\n"
     ]
    },
    {
     "name": "stderr",
     "output_type": "stream",
     "text": [
      "  5%|▌         | 5/100 [00:06<02:10,  1.37s/it]"
     ]
    },
    {
     "name": "stdout",
     "output_type": "stream",
     "text": [
      "\u001b[4A\n",
      "Epoch :          4,    1083.9350 ms elapsed\n",
      "loss = 0.027396     (min = 0.027396    )  \taccuracy = 0.8        (max = 0.8       )\n",
      "loss = 0.030722     (min = 0.030722    )  \taccuracy = 0.69       (max = 0.69      )\n"
     ]
    },
    {
     "name": "stderr",
     "output_type": "stream",
     "text": [
      "  7%|▋         | 7/100 [00:08<01:48,  1.17s/it]"
     ]
    },
    {
     "name": "stdout",
     "output_type": "stream",
     "text": [
      "\u001b[4A\n",
      "Epoch :          6,     937.4510 ms elapsed\n",
      "loss = 0.018676     (min = 0.018676    )  \taccuracy = 0.848      (max = 0.848     )\n",
      "loss = 0.024917     (min = 0.024917    )  \taccuracy = 0.734      (max = 0.734     )\n"
     ]
    },
    {
     "name": "stderr",
     "output_type": "stream",
     "text": [
      "  9%|▉         | 9/100 [00:10<01:44,  1.15s/it]"
     ]
    },
    {
     "name": "stdout",
     "output_type": "stream",
     "text": [
      "\u001b[4A\n",
      "Epoch :          8,    1102.6710 ms elapsed\n",
      "loss = 0.016275     (min = 0.016275    )  \taccuracy = 0.838      (max = 0.848     )\n",
      "loss = 0.021748     (min = 0.021748    )  \taccuracy = 0.76       (max = 0.76      )\n"
     ]
    },
    {
     "name": "stderr",
     "output_type": "stream",
     "text": [
      " 11%|█         | 11/100 [00:12<01:35,  1.07s/it]"
     ]
    },
    {
     "name": "stdout",
     "output_type": "stream",
     "text": [
      "\u001b[4A\n",
      "Epoch :         10,    1013.1300 ms elapsed\n",
      "loss = 0.013983     (min = 0.013983    )  \taccuracy = 0.866      (max = 0.866     )\n",
      "loss = 0.020892     (min = 0.020892    )  \taccuracy = 0.766      (max = 0.766     )\n"
     ]
    },
    {
     "name": "stderr",
     "output_type": "stream",
     "text": [
      " 13%|█▎        | 13/100 [00:14<01:29,  1.03s/it]"
     ]
    },
    {
     "name": "stdout",
     "output_type": "stream",
     "text": [
      "\u001b[4A\n",
      "Epoch :         12,     932.8250 ms elapsed\n",
      "loss = 0.012446     (min = 0.012446    )  \taccuracy = 0.882      (max = 0.882     )\n",
      "loss = 0.020562     (min = 0.019826    )  \taccuracy = 0.774      (max = 0.79      )\n"
     ]
    },
    {
     "name": "stderr",
     "output_type": "stream",
     "text": [
      " 15%|█▌        | 15/100 [00:16<01:23,  1.02it/s]"
     ]
    },
    {
     "name": "stdout",
     "output_type": "stream",
     "text": [
      "\u001b[4A\n",
      "Epoch :         14,     954.2380 ms elapsed\n",
      "loss = 0.012237     (min = 0.012237    )  \taccuracy = 0.884      (max = 0.884     )\n",
      "loss = 0.018398     (min = 0.018398    )  \taccuracy = 0.814      (max = 0.814     )\n"
     ]
    },
    {
     "name": "stderr",
     "output_type": "stream",
     "text": [
      " 17%|█▋        | 17/100 [00:18<01:22,  1.00it/s]"
     ]
    },
    {
     "name": "stdout",
     "output_type": "stream",
     "text": [
      "\u001b[4A\n",
      "Epoch :         16,    1025.5000 ms elapsed\n",
      "loss = 0.01077      (min = 0.01077     )  \taccuracy = 0.898      (max = 0.908     )\n",
      "loss = 0.016815     (min = 0.016815    )  \taccuracy = 0.834      (max = 0.834     )\n"
     ]
    },
    {
     "name": "stderr",
     "output_type": "stream",
     "text": [
      " 19%|█▉        | 19/100 [00:21<01:25,  1.06s/it]"
     ]
    },
    {
     "name": "stdout",
     "output_type": "stream",
     "text": [
      "\u001b[4A\n",
      "Epoch :         18,    1139.7610 ms elapsed\n",
      "loss = 0.010393     (min = 0.010393    )  \taccuracy = 0.89       (max = 0.908     )\n",
      "loss = 0.017079     (min = 0.016815    )  \taccuracy = 0.818      (max = 0.834     )\n"
     ]
    },
    {
     "name": "stderr",
     "output_type": "stream",
     "text": [
      " 21%|██        | 21/100 [00:23<01:25,  1.09s/it]"
     ]
    },
    {
     "name": "stdout",
     "output_type": "stream",
     "text": [
      "\u001b[4A\n",
      "Epoch :         20,    1151.4130 ms elapsed\n",
      "loss = 0.0089785    (min = 0.0089785   )  \taccuracy = 0.916      (max = 0.916     )\n",
      "loss = 0.015809     (min = 0.015809    )  \taccuracy = 0.832      (max = 0.838     )\n"
     ]
    },
    {
     "name": "stderr",
     "output_type": "stream",
     "text": [
      " 23%|██▎       | 23/100 [00:25<01:17,  1.01s/it]"
     ]
    },
    {
     "name": "stdout",
     "output_type": "stream",
     "text": [
      "\u001b[4A\n",
      "Epoch :         22,     929.6050 ms elapsed\n",
      "loss = 0.0082204    (min = 0.0082204   )  \taccuracy = 0.916      (max = 0.916     )\n",
      "loss = 0.01511      (min = 0.01511     )  \taccuracy = 0.846      (max = 0.846     )\n"
     ]
    },
    {
     "name": "stderr",
     "output_type": "stream",
     "text": [
      " 25%|██▌       | 25/100 [00:27<01:14,  1.00it/s]"
     ]
    },
    {
     "name": "stdout",
     "output_type": "stream",
     "text": [
      "\u001b[4A\n",
      "Epoch :         24,    1007.9380 ms elapsed\n",
      "loss = 0.0072354    (min = 0.0072354   )  \taccuracy = 0.93       (max = 0.93      )\n",
      "loss = 0.015763     (min = 0.015057    )  \taccuracy = 0.828      (max = 0.846     )\n"
     ]
    },
    {
     "name": "stderr",
     "output_type": "stream",
     "text": [
      " 27%|██▋       | 27/100 [00:29<01:13,  1.01s/it]"
     ]
    },
    {
     "name": "stdout",
     "output_type": "stream",
     "text": [
      "\u001b[4A\n",
      "Epoch :         26,    1028.1030 ms elapsed\n",
      "loss = 0.0072641    (min = 0.0072354   )  \taccuracy = 0.92       (max = 0.93      )\n",
      "loss = 0.016211     (min = 0.014392    )  \taccuracy = 0.84       (max = 0.858     )\n"
     ]
    },
    {
     "name": "stderr",
     "output_type": "stream",
     "text": [
      " 29%|██▉       | 29/100 [00:31<01:16,  1.07s/it]"
     ]
    },
    {
     "name": "stdout",
     "output_type": "stream",
     "text": [
      "\u001b[4A\n",
      "Epoch :         28,    1138.2880 ms elapsed\n",
      "loss = 0.0063397    (min = 0.0063397   )  \taccuracy = 0.928      (max = 0.932     )\n",
      "loss = 0.014215     (min = 0.014215    )  \taccuracy = 0.856      (max = 0.858     )\n"
     ]
    },
    {
     "name": "stderr",
     "output_type": "stream",
     "text": [
      " 31%|███       | 31/100 [00:33<01:14,  1.08s/it]"
     ]
    },
    {
     "name": "stdout",
     "output_type": "stream",
     "text": [
      "\u001b[4A\n",
      "Epoch :         30,    1009.6600 ms elapsed\n",
      "loss = 0.0057532    (min = 0.0057532   )  \taccuracy = 0.94       (max = 0.94      )\n",
      "loss = 0.013979     (min = 0.013979    )  \taccuracy = 0.868      (max = 0.868     )\n"
     ]
    },
    {
     "name": "stderr",
     "output_type": "stream",
     "text": [
      " 33%|███▎      | 33/100 [00:35<01:13,  1.10s/it]"
     ]
    },
    {
     "name": "stdout",
     "output_type": "stream",
     "text": [
      "\u001b[4A\n",
      "Epoch :         32,    1134.1290 ms elapsed\n",
      "loss = 0.0051612    (min = 0.0051612   )  \taccuracy = 0.952      (max = 0.952     )\n",
      "loss = 0.015822     (min = 0.013979    )  \taccuracy = 0.84       (max = 0.868     )\n"
     ]
    },
    {
     "name": "stderr",
     "output_type": "stream",
     "text": [
      " 35%|███▌      | 35/100 [00:37<01:09,  1.07s/it]"
     ]
    },
    {
     "name": "stdout",
     "output_type": "stream",
     "text": [
      "\u001b[4A\n",
      "Epoch :         34,     987.5890 ms elapsed\n",
      "loss = 0.0046704    (min = 0.0046704   )  \taccuracy = 0.954      (max = 0.954     )\n",
      "loss = 0.015382     (min = 0.013979    )  \taccuracy = 0.858      (max = 0.868     )\n"
     ]
    },
    {
     "name": "stderr",
     "output_type": "stream",
     "text": [
      " 37%|███▋      | 37/100 [00:40<01:10,  1.12s/it]"
     ]
    },
    {
     "name": "stdout",
     "output_type": "stream",
     "text": [
      "\u001b[4A\n",
      "Epoch :         36,    1185.2320 ms elapsed\n",
      "loss = 0.0047104    (min = 0.0044944   )  \taccuracy = 0.952      (max = 0.956     )\n",
      "loss = 0.016608     (min = 0.013979    )  \taccuracy = 0.85       (max = 0.868     )\n"
     ]
    },
    {
     "name": "stderr",
     "output_type": "stream",
     "text": [
      " 39%|███▉      | 39/100 [00:42<01:08,  1.13s/it]"
     ]
    },
    {
     "name": "stdout",
     "output_type": "stream",
     "text": [
      "\u001b[4A\n",
      "Epoch :         38,    1140.4790 ms elapsed\n",
      "loss = 0.0040304    (min = 0.0040304   )  \taccuracy = 0.954      (max = 0.956     )\n",
      "loss = 0.014854     (min = 0.013979    )  \taccuracy = 0.854      (max = 0.868     )\n"
     ]
    },
    {
     "name": "stderr",
     "output_type": "stream",
     "text": [
      " 41%|████      | 41/100 [00:44<01:07,  1.14s/it]"
     ]
    },
    {
     "name": "stdout",
     "output_type": "stream",
     "text": [
      "\u001b[4A\n",
      "Epoch :         40,    1254.9250 ms elapsed\n",
      "loss = 0.0034796    (min = 0.0034796   )  \taccuracy = 0.97       (max = 0.97      )\n",
      "loss = 0.014405     (min = 0.013979    )  \taccuracy = 0.866      (max = 0.868     )\n"
     ]
    },
    {
     "name": "stderr",
     "output_type": "stream",
     "text": [
      " 43%|████▎     | 43/100 [00:47<01:05,  1.14s/it]"
     ]
    },
    {
     "name": "stdout",
     "output_type": "stream",
     "text": [
      "\u001b[4A\n",
      "Epoch :         42,    1082.4320 ms elapsed\n",
      "loss = 0.0030634    (min = 0.0030634   )  \taccuracy = 0.974      (max = 0.974     )\n",
      "loss = 0.01787      (min = 0.013979    )  \taccuracy = 0.844      (max = 0.868     )\n"
     ]
    },
    {
     "name": "stderr",
     "output_type": "stream",
     "text": [
      " 45%|████▌     | 45/100 [00:49<01:03,  1.16s/it]"
     ]
    },
    {
     "name": "stdout",
     "output_type": "stream",
     "text": [
      "\u001b[4A\n",
      "Epoch :         44,    1193.1600 ms elapsed\n",
      "loss = 0.0026628    (min = 0.0026628   )  \taccuracy = 0.978      (max = 0.978     )\n",
      "loss = 0.015374     (min = 0.013979    )  \taccuracy = 0.856      (max = 0.868     )\n"
     ]
    },
    {
     "name": "stderr",
     "output_type": "stream",
     "text": [
      " 47%|████▋     | 47/100 [00:51<00:59,  1.12s/it]"
     ]
    },
    {
     "name": "stdout",
     "output_type": "stream",
     "text": [
      "\u001b[4A\n",
      "Epoch :         46,    1174.4250 ms elapsed\n",
      "loss = 0.0025386    (min = 0.0024857   )  \taccuracy = 0.98       (max = 0.98      )\n",
      "loss = 0.015818     (min = 0.013979    )  \taccuracy = 0.854      (max = 0.868     )\n"
     ]
    },
    {
     "name": "stderr",
     "output_type": "stream",
     "text": [
      " 49%|████▉     | 49/100 [00:53<00:58,  1.16s/it]"
     ]
    },
    {
     "name": "stdout",
     "output_type": "stream",
     "text": [
      "\u001b[4A\n",
      "Epoch :         48,    1163.7990 ms elapsed\n",
      "loss = 0.0021964    (min = 0.0021964   )  \taccuracy = 0.98       (max = 0.98      )\n",
      "loss = 0.015726     (min = 0.013979    )  \taccuracy = 0.864      (max = 0.868     )\n"
     ]
    },
    {
     "name": "stderr",
     "output_type": "stream",
     "text": [
      " 51%|█████     | 51/100 [00:56<00:53,  1.09s/it]"
     ]
    },
    {
     "name": "stdout",
     "output_type": "stream",
     "text": [
      "\u001b[4A\n",
      "Epoch :         50,     968.4020 ms elapsed\n",
      "loss = 0.0019691    (min = 0.0019691   )  \taccuracy = 0.986      (max = 0.986     )\n",
      "loss = 0.016528     (min = 0.013979    )  \taccuracy = 0.86       (max = 0.868     )\n"
     ]
    },
    {
     "name": "stderr",
     "output_type": "stream",
     "text": [
      " 53%|█████▎    | 53/100 [00:57<00:47,  1.01s/it]"
     ]
    },
    {
     "name": "stdout",
     "output_type": "stream",
     "text": [
      "\u001b[4A\n",
      "Epoch :         52,    1008.3880 ms elapsed\n",
      "loss = 0.0018009    (min = 0.0018009   )  \taccuracy = 0.986      (max = 0.986     )\n",
      "loss = 0.015969     (min = 0.013979    )  \taccuracy = 0.868      (max = 0.868     )\n"
     ]
    },
    {
     "name": "stderr",
     "output_type": "stream",
     "text": [
      " 55%|█████▌    | 55/100 [00:59<00:46,  1.04s/it]"
     ]
    },
    {
     "name": "stdout",
     "output_type": "stream",
     "text": [
      "\u001b[4A\n",
      "Epoch :         54,    1075.8360 ms elapsed\n",
      "loss = 0.0017725    (min = 0.0016726   )  \taccuracy = 0.986      (max = 0.99      )\n",
      "loss = 0.016493     (min = 0.013979    )  \taccuracy = 0.856      (max = 0.868     )\n"
     ]
    },
    {
     "name": "stderr",
     "output_type": "stream",
     "text": [
      " 57%|█████▋    | 57/100 [01:02<00:45,  1.07s/it]"
     ]
    },
    {
     "name": "stdout",
     "output_type": "stream",
     "text": [
      "\u001b[4A\n",
      "Epoch :         56,    1026.2680 ms elapsed\n",
      "loss = 0.0013555    (min = 0.0013555   )  \taccuracy = 0.992      (max = 0.992     )\n",
      "loss = 0.016391     (min = 0.013979    )  \taccuracy = 0.858      (max = 0.868     )\n"
     ]
    },
    {
     "name": "stderr",
     "output_type": "stream",
     "text": [
      " 59%|█████▉    | 59/100 [01:04<00:42,  1.03s/it]"
     ]
    },
    {
     "name": "stdout",
     "output_type": "stream",
     "text": [
      "\u001b[4A\n",
      "Epoch :         58,     982.3430 ms elapsed\n",
      "loss = 0.0014644    (min = 0.0013555   )  \taccuracy = 0.992      (max = 0.992     )\n",
      "loss = 0.018001     (min = 0.013979    )  \taccuracy = 0.862      (max = 0.868     )\n"
     ]
    },
    {
     "name": "stderr",
     "output_type": "stream",
     "text": [
      " 61%|██████    | 61/100 [01:06<00:40,  1.05s/it]"
     ]
    },
    {
     "name": "stdout",
     "output_type": "stream",
     "text": [
      "\u001b[4A\n",
      "Epoch :         60,    1105.7770 ms elapsed\n",
      "loss = 0.0011382    (min = 0.0011382   )  \taccuracy = 0.99       (max = 0.996     )\n",
      "loss = 0.01722      (min = 0.013979    )  \taccuracy = 0.862      (max = 0.868     )\n"
     ]
    },
    {
     "name": "stderr",
     "output_type": "stream",
     "text": [
      " 63%|██████▎   | 63/100 [01:08<00:39,  1.08s/it]"
     ]
    },
    {
     "name": "stdout",
     "output_type": "stream",
     "text": [
      "\u001b[4A\n",
      "Epoch :         62,    1098.0430 ms elapsed\n",
      "loss = 0.0009607    (min = 0.0009607   )  \taccuracy = 0.998      (max = 0.998     )\n",
      "loss = 0.017433     (min = 0.013979    )  \taccuracy = 0.856      (max = 0.868     )\n"
     ]
    },
    {
     "name": "stderr",
     "output_type": "stream",
     "text": [
      " 65%|██████▌   | 65/100 [01:10<00:37,  1.08s/it]"
     ]
    },
    {
     "name": "stdout",
     "output_type": "stream",
     "text": [
      "\u001b[4A\n",
      "Epoch :         64,     998.6920 ms elapsed\n",
      "loss = 0.0010308    (min = 0.00087611  )  \taccuracy = 0.996      (max = 1         )\n",
      "loss = 0.019776     (min = 0.013979    )  \taccuracy = 0.85       (max = 0.868     )\n"
     ]
    },
    {
     "name": "stderr",
     "output_type": "stream",
     "text": [
      " 67%|██████▋   | 67/100 [01:12<00:36,  1.10s/it]"
     ]
    },
    {
     "name": "stdout",
     "output_type": "stream",
     "text": [
      "\u001b[4A\n",
      "Epoch :         66,    1137.5720 ms elapsed\n",
      "loss = 0.0007117    (min = 0.0007117   )  \taccuracy = 1          (max = 1         )\n",
      "loss = 0.01837      (min = 0.013979    )  \taccuracy = 0.85       (max = 0.868     )\n"
     ]
    },
    {
     "name": "stderr",
     "output_type": "stream",
     "text": [
      " 69%|██████▉   | 69/100 [01:15<00:33,  1.09s/it]"
     ]
    },
    {
     "name": "stdout",
     "output_type": "stream",
     "text": [
      "\u001b[4A\n",
      "Epoch :         68,    1067.0790 ms elapsed\n",
      "loss = 0.00070264   (min = 0.00070264  )  \taccuracy = 0.998      (max = 1         )\n",
      "loss = 0.018972     (min = 0.013979    )  \taccuracy = 0.86       (max = 0.868     )\n"
     ]
    },
    {
     "name": "stderr",
     "output_type": "stream",
     "text": [
      " 71%|███████   | 71/100 [01:17<00:29,  1.03s/it]"
     ]
    },
    {
     "name": "stdout",
     "output_type": "stream",
     "text": [
      "\u001b[4A\n",
      "Epoch :         70,     962.1650 ms elapsed\n",
      "loss = 0.0005728    (min = 0.0005728   )  \taccuracy = 1          (max = 1         )\n",
      "loss = 0.019336     (min = 0.013979    )  \taccuracy = 0.854      (max = 0.868     )\n"
     ]
    },
    {
     "name": "stderr",
     "output_type": "stream",
     "text": [
      " 73%|███████▎  | 73/100 [01:19<00:28,  1.06s/it]"
     ]
    },
    {
     "name": "stdout",
     "output_type": "stream",
     "text": [
      "\u001b[4A\n",
      "Epoch :         72,     997.0760 ms elapsed\n",
      "loss = 0.00054654   (min = 0.00054654  )  \taccuracy = 0.998      (max = 1         )\n",
      "loss = 0.020991     (min = 0.013979    )  \taccuracy = 0.85       (max = 0.868     )\n"
     ]
    },
    {
     "name": "stderr",
     "output_type": "stream",
     "text": [
      " 75%|███████▌  | 75/100 [01:21<00:25,  1.04s/it]"
     ]
    },
    {
     "name": "stdout",
     "output_type": "stream",
     "text": [
      "\u001b[4A\n",
      "Epoch :         74,    1016.5960 ms elapsed\n",
      "loss = 0.00049067   (min = 0.00049067  )  \taccuracy = 1          (max = 1         )\n",
      "loss = 0.020705     (min = 0.013979    )  \taccuracy = 0.854      (max = 0.868     )\n"
     ]
    },
    {
     "name": "stderr",
     "output_type": "stream",
     "text": [
      " 77%|███████▋  | 77/100 [01:23<00:23,  1.02s/it]"
     ]
    },
    {
     "name": "stdout",
     "output_type": "stream",
     "text": [
      "\u001b[4A\n",
      "Epoch :         76,    1040.5520 ms elapsed\n",
      "loss = 0.00041681   (min = 0.00041681  )  \taccuracy = 1          (max = 1         )\n",
      "loss = 0.020276     (min = 0.013979    )  \taccuracy = 0.864      (max = 0.868     )\n"
     ]
    },
    {
     "name": "stderr",
     "output_type": "stream",
     "text": [
      " 79%|███████▉  | 79/100 [01:25<00:21,  1.02s/it]"
     ]
    },
    {
     "name": "stdout",
     "output_type": "stream",
     "text": [
      "\u001b[4A\n",
      "Epoch :         78,    1028.9190 ms elapsed\n",
      "loss = 0.00043389   (min = 0.00039408  )  \taccuracy = 1          (max = 1         )\n",
      "loss = 0.020307     (min = 0.013979    )  \taccuracy = 0.856      (max = 0.868     )\n"
     ]
    },
    {
     "name": "stderr",
     "output_type": "stream",
     "text": [
      " 81%|████████  | 81/100 [01:27<00:19,  1.03s/it]"
     ]
    },
    {
     "name": "stdout",
     "output_type": "stream",
     "text": [
      "\u001b[4A\n",
      "Epoch :         80,    1055.7760 ms elapsed\n",
      "loss = 0.00036983   (min = 0.00036341  )  \taccuracy = 1          (max = 1         )\n",
      "loss = 0.020692     (min = 0.013979    )  \taccuracy = 0.858      (max = 0.868     )\n"
     ]
    },
    {
     "name": "stderr",
     "output_type": "stream",
     "text": [
      " 83%|████████▎ | 83/100 [01:29<00:17,  1.05s/it]"
     ]
    },
    {
     "name": "stdout",
     "output_type": "stream",
     "text": [
      "\u001b[4A\n",
      "Epoch :         82,    1023.1830 ms elapsed\n",
      "loss = 0.00036011   (min = 0.00035205  )  \taccuracy = 1          (max = 1         )\n",
      "loss = 0.022321     (min = 0.013979    )  \taccuracy = 0.86       (max = 0.868     )\n"
     ]
    },
    {
     "name": "stderr",
     "output_type": "stream",
     "text": [
      " 85%|████████▌ | 85/100 [01:31<00:14,  1.02it/s]"
     ]
    },
    {
     "name": "stdout",
     "output_type": "stream",
     "text": [
      "\u001b[4A\n",
      "Epoch :         84,     805.9450 ms elapsed\n",
      "loss = 0.00030083   (min = 0.00030083  )  \taccuracy = 1          (max = 1         )\n",
      "loss = 0.021554     (min = 0.013979    )  \taccuracy = 0.858      (max = 0.868     )\n"
     ]
    },
    {
     "name": "stderr",
     "output_type": "stream",
     "text": [
      " 87%|████████▋ | 87/100 [01:33<00:13,  1.05s/it]"
     ]
    },
    {
     "name": "stdout",
     "output_type": "stream",
     "text": [
      "\u001b[4A\n",
      "Epoch :         86,    1126.3620 ms elapsed\n",
      "loss = 0.00030613   (min = 0.00030083  )  \taccuracy = 1          (max = 1         )\n",
      "loss = 0.022227     (min = 0.013979    )  \taccuracy = 0.864      (max = 0.868     )\n"
     ]
    },
    {
     "name": "stderr",
     "output_type": "stream",
     "text": [
      " 89%|████████▉ | 89/100 [01:35<00:10,  1.01it/s]"
     ]
    },
    {
     "name": "stdout",
     "output_type": "stream",
     "text": [
      "\u001b[4A\n",
      "Epoch :         88,    1009.7390 ms elapsed\n",
      "loss = 0.00031485   (min = 0.00030083  )  \taccuracy = 1          (max = 1         )\n",
      "loss = 0.021996     (min = 0.013979    )  \taccuracy = 0.862      (max = 0.868     )\n"
     ]
    },
    {
     "name": "stderr",
     "output_type": "stream",
     "text": [
      " 91%|█████████ | 91/100 [01:37<00:09,  1.00s/it]"
     ]
    },
    {
     "name": "stdout",
     "output_type": "stream",
     "text": [
      "\u001b[4A\n",
      "Epoch :         90,     945.0300 ms elapsed\n",
      "loss = 0.00026972   (min = 0.00026474  )  \taccuracy = 1          (max = 1         )\n",
      "loss = 0.022279     (min = 0.013979    )  \taccuracy = 0.854      (max = 0.868     )\n"
     ]
    },
    {
     "name": "stderr",
     "output_type": "stream",
     "text": [
      " 93%|█████████▎| 93/100 [01:39<00:06,  1.01it/s]"
     ]
    },
    {
     "name": "stdout",
     "output_type": "stream",
     "text": [
      "\u001b[4A\n",
      "Epoch :         92,    1009.7760 ms elapsed\n",
      "loss = 0.00024254   (min = 0.0002407   )  \taccuracy = 1          (max = 1         )\n",
      "loss = 0.022426     (min = 0.013979    )  \taccuracy = 0.86       (max = 0.868     )\n"
     ]
    },
    {
     "name": "stderr",
     "output_type": "stream",
     "text": [
      " 95%|█████████▌| 95/100 [01:41<00:05,  1.03s/it]"
     ]
    },
    {
     "name": "stdout",
     "output_type": "stream",
     "text": [
      "\u001b[4A\n",
      "Epoch :         94,    1046.1200 ms elapsed\n",
      "loss = 0.00021911   (min = 0.00021911  )  \taccuracy = 1          (max = 1         )\n",
      "loss = 0.022944     (min = 0.013979    )  \taccuracy = 0.858      (max = 0.868     )\n"
     ]
    },
    {
     "name": "stderr",
     "output_type": "stream",
     "text": [
      " 97%|█████████▋| 97/100 [01:43<00:03,  1.03s/it]"
     ]
    },
    {
     "name": "stdout",
     "output_type": "stream",
     "text": [
      "\u001b[4A\n",
      "Epoch :         96,     972.4300 ms elapsed\n",
      "loss = 0.00019393   (min = 0.00019393  )  \taccuracy = 1          (max = 1         )\n",
      "loss = 0.022943     (min = 0.013979    )  \taccuracy = 0.858      (max = 0.868     )\n"
     ]
    },
    {
     "name": "stderr",
     "output_type": "stream",
     "text": [
      " 99%|█████████▉| 99/100 [01:45<00:00,  1.01it/s]"
     ]
    },
    {
     "name": "stdout",
     "output_type": "stream",
     "text": [
      "\u001b[4A\n",
      "Epoch :         98,     920.2200 ms elapsed\n",
      "loss = 0.00017579   (min = 0.00017579  )  \taccuracy = 1          (max = 1         )\n",
      "loss = 0.022999     (min = 0.013979    )  \taccuracy = 0.862      (max = 0.868     )\n"
     ]
    },
    {
     "name": "stderr",
     "output_type": "stream",
     "text": [
      "100%|██████████| 100/100 [01:46<00:00,  1.04s/it]\n"
     ]
    },
    {
     "name": "stdout",
     "output_type": "stream",
     "text": [
      "Finished Training\n"
     ]
    },
    {
     "data": {
      "image/png": "[encoded data removed]",
      "text/plain": [
       "<Figure size 432x288 with 1 Axes>"
      ]
     },
     "metadata": {
      "needs_background": "light"
     },
     "output_type": "display_data"
    },
    {
     "data": {
      "image/png": "[encoded data removed]",
      "text/plain": [
       "<Figure size 432x288 with 1 Axes>"
      ]
     },
     "metadata": {
      "needs_background": "light"
     },
     "output_type": "display_data"
    },
    {
     "name": "stdout",
     "output_type": "stream",
     "text": [
      "Saving models...\n"
     ]
    }
   ],
   "source": [
    "tailored_cnn_mnist = Tailored_CNN_Mnist().to(device)\n",
    "\n",
    "t_criterion = nn.CrossEntropyLoss()\n",
    "t_optimizer = optim.Adam(tailored_cnn_mnist.parameters(), lr=0.001)\n",
    "t_stats = learningStats()\n",
    "\n",
    "train(tailored_cnn_mnist,'tailor_cnn_Smnist', \n",
    "      trainloader_cnn,testloader_cnn, \n",
    "      t_criterion, \n",
    "      t_optimizer,\n",
    "      t_stats,\n",
    "      epoch=EPOCH)"
   ]
  },
  {
   "cell_type": "markdown",
   "metadata": {},
   "source": [
    "* The accuracy and confusion matrix of tailored CNN"
   ]
  },
  {
   "cell_type": "code",
   "execution_count": 9,
   "metadata": {},
   "outputs": [
    {
     "name": "stdout",
     "output_type": "stream",
     "text": [
      "The classification accuracy:  0.856\n",
      "\n"
     ]
    },
    {
     "data": {
      "image/png": "[encoded data removed]",
      "text/plain": [
       "<Figure size 432x288 with 2 Axes>"
      ]
     },
     "metadata": {
      "needs_background": "light"
     },
     "output_type": "display_data"
    }
   ],
   "source": [
    "tailored_cnn_mnist = Tailored_CNN_Mnist().to(device)\n",
    "load_model('tailor_cnn_Smnist', tailored_cnn_mnist)\n",
    "y_true, y_pred = get_labels(tailored_cnn_mnist, testloader_cnn, snn=False)\n",
    "test_method(y_true.cpu().numpy(), y_pred.cpu().numpy())"
   ]
  },
  {
   "cell_type": "markdown",
   "metadata": {},
   "source": [
    "### experiment FashionMnist"
   ]
  },
  {
   "cell_type": "code",
   "execution_count": 10,
   "metadata": {},
   "outputs": [],
   "source": [
    "# trainset_cnn = FashionMNIST(root='./data', train=True, transform=transforms.Compose([\n",
    "#             transforms.ToTensor()]))\n",
    "\n",
    "# trainloader_cnn = torch.utils.data.DataLoader(trainset_cnn, batch_size=BATCH_SIZE,\n",
    "#                                           shuffle=True, num_workers=NUM_WORKERS)\n",
    "\n",
    "# testset_cnn = FashionMNIST(root='./data', train=False, transform=transforms.Compose([\n",
    "#             transforms.ToTensor()]))\n",
    "\n",
    "# testloader_cnn = torch.utils.data.DataLoader(testset_cnn, batch_size=BATCH_SIZE,\n",
    "#                                          shuffle=False, num_workers=NUM_WORKERS)"
   ]
  },
  {
   "cell_type": "code",
   "execution_count": 10,
   "metadata": {},
   "outputs": [],
   "source": [
    "class FashionMNIST500(Dataset):\n",
    "    def __init__(self, datasetPath, train=False):\n",
    "        self.path = datasetPath\n",
    "        ds = FashionMNIST(datasetPath, train=train, download=True, transform=transforms.Compose([\n",
    "            transforms.ToTensor()]))\n",
    "        self.samples = [ds[i] for i in range(0, 500)]\n",
    "\n",
    "    def __getitem__(self, index):\n",
    "        x, y = self.samples[index]\n",
    "        return x, y\n",
    "\n",
    "    def __len__(self):\n",
    "        return len(self.samples)"
   ]
  },
  {
   "cell_type": "code",
   "execution_count": 11,
   "metadata": {},
   "outputs": [],
   "source": [
    "trainset_cnn = FashionMNIST500('./data', train=True)\n",
    "\n",
    "trainloader_cnn = torch.utils.data.DataLoader(trainset_cnn, batch_size=BATCH_SIZE,\n",
    "                                          shuffle=True, num_workers=NUM_WORKERS)\n",
    "\n",
    "testset_cnn = FashionMNIST500('./data', train=False)\n",
    "\n",
    "testloader_cnn = torch.utils.data.DataLoader(testset_cnn, batch_size=BATCH_SIZE,\n",
    "                                         shuffle=False, num_workers=NUM_WORKERS)"
   ]
  },
  {
   "cell_type": "code",
   "execution_count": 19,
   "metadata": {},
   "outputs": [
    {
     "data": {
      "image/png": "[encoded data removed]",
      "text/plain": [
       "<Figure size 432x288 with 1 Axes>"
      ]
     },
     "metadata": {
      "needs_background": "light"
     },
     "output_type": "display_data"
    },
    {
     "data": {
      "image/png": "[encoded data removed]",
      "text/plain": [
       "<Figure size 432x288 with 1 Axes>"
      ]
     },
     "metadata": {
      "needs_background": "light"
     },
     "output_type": "display_data"
    }
   ],
   "source": [
    "# check if we choose the correct dataset\n",
    "plt.imshow(next(iter(trainloader_cnn))[0][0].squeeze(), cmap='gray')\n",
    "plt.show()\n",
    "\n",
    "plt.imshow(next(iter(testloader_cnn))[0][0].squeeze(), cmap='gray')\n",
    "plt.show()"
   ]
  },
  {
   "cell_type": "code",
   "execution_count": 12,
   "metadata": {
    "scrolled": true
   },
   "outputs": [
    {
     "name": "stderr",
     "output_type": "stream",
     "text": [
      "  1%|          | 1/120 [00:01<02:11,  1.10s/it]"
     ]
    },
    {
     "name": "stdout",
     "output_type": "stream",
     "text": [
      "\u001b[0A\n",
      "Epoch :          0,    1103.2700 ms elapsed\n",
      "loss = 0.072808     (min = 0.072808    )  \taccuracy = 0.12       (max = 0.12      )\n",
      "loss = 0.071112     (min = 0.071112    )  \taccuracy = 0.284      (max = 0.284     )\n"
     ]
    },
    {
     "name": "stderr",
     "output_type": "stream",
     "text": [
      "  2%|▎         | 3/120 [00:03<02:03,  1.05s/it]"
     ]
    },
    {
     "name": "stdout",
     "output_type": "stream",
     "text": [
      "\u001b[4A\n",
      "Epoch :          2,     960.3160 ms elapsed\n",
      "loss = 0.057664     (min = 0.057664    )  \taccuracy = 0.39       (max = 0.39      )\n",
      "loss = 0.047963     (min = 0.047963    )  \taccuracy = 0.58       (max = 0.58      )\n"
     ]
    },
    {
     "name": "stderr",
     "output_type": "stream",
     "text": [
      "  4%|▍         | 5/120 [00:05<02:01,  1.05s/it]"
     ]
    },
    {
     "name": "stdout",
     "output_type": "stream",
     "text": [
      "\u001b[4A\n",
      "Epoch :          4,    1122.5360 ms elapsed\n",
      "loss = 0.034308     (min = 0.034308    )  \taccuracy = 0.622      (max = 0.622     )\n",
      "loss = 0.035151     (min = 0.035151    )  \taccuracy = 0.618      (max = 0.618     )\n"
     ]
    },
    {
     "name": "stderr",
     "output_type": "stream",
     "text": [
      "  6%|▌         | 7/120 [00:07<01:56,  1.03s/it]"
     ]
    },
    {
     "name": "stdout",
     "output_type": "stream",
     "text": [
      "\u001b[4A\n",
      "Epoch :          6,    1033.9650 ms elapsed\n",
      "loss = 0.029879     (min = 0.029879    )  \taccuracy = 0.676      (max = 0.676     )\n",
      "loss = 0.028491     (min = 0.028491    )  \taccuracy = 0.666      (max = 0.666     )\n"
     ]
    },
    {
     "name": "stderr",
     "output_type": "stream",
     "text": [
      "  8%|▊         | 9/120 [00:09<01:55,  1.04s/it]"
     ]
    },
    {
     "name": "stdout",
     "output_type": "stream",
     "text": [
      "\u001b[4A\n",
      "Epoch :          8,     967.7200 ms elapsed\n",
      "loss = 0.025393     (min = 0.025393    )  \taccuracy = 0.738      (max = 0.738     )\n",
      "loss = 0.026348     (min = 0.026348    )  \taccuracy = 0.686      (max = 0.69      )\n"
     ]
    },
    {
     "name": "stderr",
     "output_type": "stream",
     "text": [
      "  9%|▉         | 11/120 [00:11<01:49,  1.00s/it]"
     ]
    },
    {
     "name": "stdout",
     "output_type": "stream",
     "text": [
      "\u001b[4A\n",
      "Epoch :         10,     973.7910 ms elapsed\n",
      "loss = 0.023682     (min = 0.023682    )  \taccuracy = 0.74       (max = 0.74      )\n",
      "loss = 0.026414     (min = 0.025086    )  \taccuracy = 0.65       (max = 0.69      )\n"
     ]
    },
    {
     "name": "stderr",
     "output_type": "stream",
     "text": [
      " 11%|█         | 13/120 [00:13<01:55,  1.08s/it]"
     ]
    },
    {
     "name": "stdout",
     "output_type": "stream",
     "text": [
      "\u001b[4A\n",
      "Epoch :         12,    1204.2450 ms elapsed\n",
      "loss = 0.02148      (min = 0.02148     )  \taccuracy = 0.77       (max = 0.77      )\n",
      "loss = 0.023615     (min = 0.023615    )  \taccuracy = 0.73       (max = 0.73      )\n"
     ]
    },
    {
     "name": "stderr",
     "output_type": "stream",
     "text": [
      " 12%|█▎        | 15/120 [00:15<01:53,  1.08s/it]"
     ]
    },
    {
     "name": "stdout",
     "output_type": "stream",
     "text": [
      "\u001b[4A\n",
      "Epoch :         14,    1108.9460 ms elapsed\n",
      "loss = 0.020956     (min = 0.020892    )  \taccuracy = 0.78       (max = 0.786     )\n",
      "loss = 0.023072     (min = 0.022821    )  \taccuracy = 0.736      (max = 0.736     )\n"
     ]
    },
    {
     "name": "stderr",
     "output_type": "stream",
     "text": [
      " 14%|█▍        | 17/120 [00:17<01:39,  1.04it/s]"
     ]
    },
    {
     "name": "stdout",
     "output_type": "stream",
     "text": [
      "\u001b[4A\n",
      "Epoch :         16,     696.6010 ms elapsed\n",
      "loss = 0.019422     (min = 0.019422    )  \taccuracy = 0.788      (max = 0.788     )\n",
      "loss = 0.021418     (min = 0.021418    )  \taccuracy = 0.738      (max = 0.738     )\n"
     ]
    },
    {
     "name": "stderr",
     "output_type": "stream",
     "text": [
      " 16%|█▌        | 19/120 [00:18<01:23,  1.22it/s]"
     ]
    },
    {
     "name": "stdout",
     "output_type": "stream",
     "text": [
      "\u001b[4A\n",
      "Epoch :         18,     724.6690 ms elapsed\n",
      "loss = 0.018738     (min = 0.018738    )  \taccuracy = 0.784      (max = 0.788     )\n",
      "loss = 0.021235     (min = 0.021235    )  \taccuracy = 0.74       (max = 0.742     )\n"
     ]
    },
    {
     "name": "stderr",
     "output_type": "stream",
     "text": [
      " 18%|█▊        | 21/120 [00:20<01:18,  1.27it/s]"
     ]
    },
    {
     "name": "stdout",
     "output_type": "stream",
     "text": [
      "\u001b[4A\n",
      "Epoch :         20,     738.0630 ms elapsed\n",
      "loss = 0.018242     (min = 0.018242    )  \taccuracy = 0.82       (max = 0.82      )\n",
      "loss = 0.020668     (min = 0.020668    )  \taccuracy = 0.748      (max = 0.748     )\n"
     ]
    },
    {
     "name": "stderr",
     "output_type": "stream",
     "text": [
      " 19%|█▉        | 23/120 [00:22<01:20,  1.20it/s]"
     ]
    },
    {
     "name": "stdout",
     "output_type": "stream",
     "text": [
      "\u001b[4A\n",
      "Epoch :         22,     896.8320 ms elapsed\n",
      "loss = 0.017294     (min = 0.017294    )  \taccuracy = 0.816      (max = 0.82      )\n",
      "loss = 0.020392     (min = 0.020392    )  \taccuracy = 0.75       (max = 0.75      )\n"
     ]
    },
    {
     "name": "stderr",
     "output_type": "stream",
     "text": [
      " 21%|██        | 25/120 [00:23<01:24,  1.12it/s]"
     ]
    },
    {
     "name": "stdout",
     "output_type": "stream",
     "text": [
      "\u001b[4A\n",
      "Epoch :         24,     969.2110 ms elapsed\n",
      "loss = 0.017354     (min = 0.01693     )  \taccuracy = 0.802      (max = 0.822     )\n",
      "loss = 0.019963     (min = 0.019963    )  \taccuracy = 0.754      (max = 0.754     )\n"
     ]
    },
    {
     "name": "stderr",
     "output_type": "stream",
     "text": [
      " 22%|██▎       | 27/120 [00:26<01:34,  1.02s/it]"
     ]
    },
    {
     "name": "stdout",
     "output_type": "stream",
     "text": [
      "\u001b[4A\n",
      "Epoch :         26,    1142.0670 ms elapsed\n",
      "loss = 0.016029     (min = 0.016029    )  \taccuracy = 0.834      (max = 0.834     )\n",
      "loss = 0.019616     (min = 0.019616    )  \taccuracy = 0.756      (max = 0.758     )\n"
     ]
    },
    {
     "name": "stderr",
     "output_type": "stream",
     "text": [
      " 24%|██▍       | 29/120 [00:28<01:37,  1.07s/it]"
     ]
    },
    {
     "name": "stdout",
     "output_type": "stream",
     "text": [
      "\u001b[4A\n",
      "Epoch :         28,    1031.2580 ms elapsed\n",
      "loss = 0.016751     (min = 0.015989    )  \taccuracy = 0.814      (max = 0.834     )\n",
      "loss = 0.019768     (min = 0.019616    )  \taccuracy = 0.764      (max = 0.764     )\n"
     ]
    },
    {
     "name": "stderr",
     "output_type": "stream",
     "text": [
      " 26%|██▌       | 31/120 [00:30<01:38,  1.11s/it]"
     ]
    },
    {
     "name": "stdout",
     "output_type": "stream",
     "text": [
      "\u001b[4A\n",
      "Epoch :         30,    1117.3080 ms elapsed\n",
      "loss = 0.016494     (min = 0.015989    )  \taccuracy = 0.83       (max = 0.834     )\n",
      "loss = 0.019048     (min = 0.019048    )  \taccuracy = 0.762      (max = 0.764     )\n"
     ]
    },
    {
     "name": "stderr",
     "output_type": "stream",
     "text": [
      " 28%|██▊       | 33/120 [00:32<01:34,  1.08s/it]"
     ]
    },
    {
     "name": "stdout",
     "output_type": "stream",
     "text": [
      "\u001b[4A\n",
      "Epoch :         32,    1002.9550 ms elapsed\n",
      "loss = 0.015119     (min = 0.015119    )  \taccuracy = 0.836      (max = 0.836     )\n",
      "loss = 0.020199     (min = 0.019048    )  \taccuracy = 0.746      (max = 0.772     )\n"
     ]
    },
    {
     "name": "stderr",
     "output_type": "stream",
     "text": [
      " 29%|██▉       | 35/120 [00:35<01:32,  1.08s/it]"
     ]
    },
    {
     "name": "stdout",
     "output_type": "stream",
     "text": [
      "\u001b[4A\n",
      "Epoch :         34,    1122.9410 ms elapsed\n",
      "loss = 0.014319     (min = 0.014319    )  \taccuracy = 0.838      (max = 0.84      )\n",
      "loss = 0.022498     (min = 0.019048    )  \taccuracy = 0.712      (max = 0.772     )\n"
     ]
    },
    {
     "name": "stderr",
     "output_type": "stream",
     "text": [
      " 31%|███       | 37/120 [00:37<01:36,  1.16s/it]"
     ]
    },
    {
     "name": "stdout",
     "output_type": "stream",
     "text": [
      "\u001b[4A\n",
      "Epoch :         36,    1329.0250 ms elapsed\n",
      "loss = 0.013939     (min = 0.013939    )  \taccuracy = 0.842      (max = 0.842     )\n",
      "loss = 0.018869     (min = 0.018869    )  \taccuracy = 0.772      (max = 0.772     )\n"
     ]
    },
    {
     "name": "stderr",
     "output_type": "stream",
     "text": [
      " 32%|███▎      | 39/120 [00:39<01:29,  1.10s/it]"
     ]
    },
    {
     "name": "stdout",
     "output_type": "stream",
     "text": [
      "\u001b[4A\n",
      "Epoch :         38,    1043.2450 ms elapsed\n",
      "loss = 0.013294     (min = 0.013294    )  \taccuracy = 0.86       (max = 0.86      )\n",
      "loss = 0.020139     (min = 0.018869    )  \taccuracy = 0.746      (max = 0.772     )\n"
     ]
    },
    {
     "name": "stderr",
     "output_type": "stream",
     "text": [
      " 34%|███▍      | 41/120 [00:41<01:23,  1.06s/it]"
     ]
    },
    {
     "name": "stdout",
     "output_type": "stream",
     "text": [
      "\u001b[4A\n",
      "Epoch :         40,     959.1610 ms elapsed\n",
      "loss = 0.013615     (min = 0.013294    )  \taccuracy = 0.836      (max = 0.86      )\n",
      "loss = 0.018905     (min = 0.018869    )  \taccuracy = 0.774      (max = 0.774     )\n"
     ]
    },
    {
     "name": "stderr",
     "output_type": "stream",
     "text": [
      " 36%|███▌      | 43/120 [00:43<01:21,  1.06s/it]"
     ]
    },
    {
     "name": "stdout",
     "output_type": "stream",
     "text": [
      "\u001b[4A\n",
      "Epoch :         42,    1123.4430 ms elapsed\n",
      "loss = 0.013467     (min = 0.012929    )  \taccuracy = 0.842      (max = 0.862     )\n",
      "loss = 0.021546     (min = 0.018869    )  \taccuracy = 0.72       (max = 0.774     )\n"
     ]
    },
    {
     "name": "stderr",
     "output_type": "stream",
     "text": [
      " 38%|███▊      | 45/120 [00:46<01:21,  1.09s/it]"
     ]
    },
    {
     "name": "stdout",
     "output_type": "stream",
     "text": [
      "\u001b[4A\n",
      "Epoch :         44,    1159.4550 ms elapsed\n",
      "loss = 0.012376     (min = 0.011932    )  \taccuracy = 0.858      (max = 0.866     )\n",
      "loss = 0.019635     (min = 0.018617    )  \taccuracy = 0.77       (max = 0.782     )\n"
     ]
    },
    {
     "name": "stderr",
     "output_type": "stream",
     "text": [
      " 39%|███▉      | 47/120 [00:48<01:18,  1.08s/it]"
     ]
    },
    {
     "name": "stdout",
     "output_type": "stream",
     "text": [
      "\u001b[4A\n",
      "Epoch :         46,    1026.1890 ms elapsed\n",
      "loss = 0.011451     (min = 0.011451    )  \taccuracy = 0.876      (max = 0.876     )\n",
      "loss = 0.019174     (min = 0.018617    )  \taccuracy = 0.768      (max = 0.786     )\n"
     ]
    },
    {
     "name": "stderr",
     "output_type": "stream",
     "text": [
      " 41%|████      | 49/120 [00:50<01:17,  1.08s/it]"
     ]
    },
    {
     "name": "stdout",
     "output_type": "stream",
     "text": [
      "\u001b[4A\n",
      "Epoch :         48,    1076.9200 ms elapsed\n",
      "loss = 0.012352     (min = 0.011451    )  \taccuracy = 0.854      (max = 0.876     )\n",
      "loss = 0.01871      (min = 0.018617    )  \taccuracy = 0.796      (max = 0.796     )\n"
     ]
    },
    {
     "name": "stderr",
     "output_type": "stream",
     "text": [
      " 42%|████▎     | 51/120 [00:52<01:21,  1.18s/it]"
     ]
    },
    {
     "name": "stdout",
     "output_type": "stream",
     "text": [
      "\u001b[4A\n",
      "Epoch :         50,    1374.1730 ms elapsed\n",
      "loss = 0.011137     (min = 0.011137    )  \taccuracy = 0.862      (max = 0.876     )\n",
      "loss = 0.018754     (min = 0.018617    )  \taccuracy = 0.786      (max = 0.796     )\n"
     ]
    },
    {
     "name": "stderr",
     "output_type": "stream",
     "text": [
      " 44%|████▍     | 53/120 [00:55<01:22,  1.23s/it]"
     ]
    },
    {
     "name": "stdout",
     "output_type": "stream",
     "text": [
      "\u001b[4A\n",
      "Epoch :         52,    1227.8130 ms elapsed\n",
      "loss = 0.010881     (min = 0.010881    )  \taccuracy = 0.884      (max = 0.884     )\n",
      "loss = 0.02004      (min = 0.018617    )  \taccuracy = 0.756      (max = 0.796     )\n"
     ]
    },
    {
     "name": "stderr",
     "output_type": "stream",
     "text": [
      " 46%|████▌     | 55/120 [00:57<01:17,  1.18s/it]"
     ]
    },
    {
     "name": "stdout",
     "output_type": "stream",
     "text": [
      "\u001b[4A\n",
      "Epoch :         54,    1078.1790 ms elapsed\n",
      "loss = 0.010062     (min = 0.010062    )  \taccuracy = 0.898      (max = 0.898     )\n",
      "loss = 0.019491     (min = 0.018617    )  \taccuracy = 0.792      (max = 0.796     )\n"
     ]
    },
    {
     "name": "stderr",
     "output_type": "stream",
     "text": [
      " 48%|████▊     | 57/120 [01:00<01:12,  1.15s/it]"
     ]
    },
    {
     "name": "stdout",
     "output_type": "stream",
     "text": [
      "\u001b[4A\n",
      "Epoch :         56,    1122.9980 ms elapsed\n",
      "loss = 0.010663     (min = 0.010062    )  \taccuracy = 0.876      (max = 0.898     )\n",
      "loss = 0.019746     (min = 0.018617    )  \taccuracy = 0.764      (max = 0.796     )\n"
     ]
    },
    {
     "name": "stderr",
     "output_type": "stream",
     "text": [
      " 49%|████▉     | 59/120 [01:02<01:11,  1.18s/it]"
     ]
    },
    {
     "name": "stdout",
     "output_type": "stream",
     "text": [
      "\u001b[4A\n",
      "Epoch :         58,    1204.9260 ms elapsed\n",
      "loss = 0.0095277    (min = 0.0095277   )  \taccuracy = 0.904      (max = 0.904     )\n",
      "loss = 0.018759     (min = 0.018617    )  \taccuracy = 0.792      (max = 0.796     )\n"
     ]
    },
    {
     "name": "stderr",
     "output_type": "stream",
     "text": [
      " 51%|█████     | 61/120 [01:04<01:09,  1.18s/it]"
     ]
    },
    {
     "name": "stdout",
     "output_type": "stream",
     "text": [
      "\u001b[4A\n",
      "Epoch :         60,    1114.8410 ms elapsed\n",
      "loss = 0.0091529    (min = 0.0091205   )  \taccuracy = 0.914      (max = 0.914     )\n",
      "loss = 0.020318     (min = 0.018617    )  \taccuracy = 0.758      (max = 0.796     )\n"
     ]
    },
    {
     "name": "stderr",
     "output_type": "stream",
     "text": [
      " 52%|█████▎    | 63/120 [01:07<01:09,  1.22s/it]"
     ]
    },
    {
     "name": "stdout",
     "output_type": "stream",
     "text": [
      "\u001b[4A\n",
      "Epoch :         62,    1304.9850 ms elapsed\n",
      "loss = 0.0091286    (min = 0.0091205   )  \taccuracy = 0.904      (max = 0.914     )\n",
      "loss = 0.019259     (min = 0.018617    )  \taccuracy = 0.788      (max = 0.796     )\n"
     ]
    },
    {
     "name": "stderr",
     "output_type": "stream",
     "text": [
      " 54%|█████▍    | 65/120 [01:09<01:08,  1.25s/it]"
     ]
    },
    {
     "name": "stdout",
     "output_type": "stream",
     "text": [
      "\u001b[4A\n",
      "Epoch :         64,    1214.8730 ms elapsed\n",
      "loss = 0.0090316    (min = 0.0090316   )  \taccuracy = 0.92       (max = 0.92      )\n",
      "loss = 0.019769     (min = 0.018617    )  \taccuracy = 0.788      (max = 0.802     )\n"
     ]
    },
    {
     "name": "stderr",
     "output_type": "stream",
     "text": [
      " 56%|█████▌    | 67/120 [01:12<01:05,  1.24s/it]"
     ]
    },
    {
     "name": "stdout",
     "output_type": "stream",
     "text": [
      "\u001b[4A\n",
      "Epoch :         66,    1276.2160 ms elapsed\n",
      "loss = 0.0087394    (min = 0.0087394   )  \taccuracy = 0.914      (max = 0.92      )\n",
      "loss = 0.01964      (min = 0.018617    )  \taccuracy = 0.77       (max = 0.802     )\n"
     ]
    },
    {
     "name": "stderr",
     "output_type": "stream",
     "text": [
      " 57%|█████▊    | 69/120 [01:15<01:07,  1.31s/it]"
     ]
    },
    {
     "name": "stdout",
     "output_type": "stream",
     "text": [
      "\u001b[4A\n",
      "Epoch :         68,    1417.6350 ms elapsed\n",
      "loss = 0.011192     (min = 0.0087394   )  \taccuracy = 0.862      (max = 0.92      )\n",
      "loss = 0.026332     (min = 0.018617    )  \taccuracy = 0.724      (max = 0.802     )\n"
     ]
    },
    {
     "name": "stderr",
     "output_type": "stream",
     "text": [
      " 59%|█████▉    | 71/120 [01:17<01:01,  1.25s/it]"
     ]
    },
    {
     "name": "stdout",
     "output_type": "stream",
     "text": [
      "\u001b[4A\n",
      "Epoch :         70,    1192.3110 ms elapsed\n",
      "loss = 0.0091439    (min = 0.0087394   )  \taccuracy = 0.912      (max = 0.92      )\n",
      "loss = 0.018969     (min = 0.018617    )  \taccuracy = 0.792      (max = 0.802     )\n"
     ]
    },
    {
     "name": "stderr",
     "output_type": "stream",
     "text": [
      " 61%|██████    | 73/120 [01:19<00:56,  1.21s/it]"
     ]
    },
    {
     "name": "stdout",
     "output_type": "stream",
     "text": [
      "\u001b[4A\n",
      "Epoch :         72,    1150.7600 ms elapsed\n",
      "loss = 0.0079252    (min = 0.0079252   )  \taccuracy = 0.92       (max = 0.92      )\n",
      "loss = 0.019226     (min = 0.018617    )  \taccuracy = 0.794      (max = 0.802     )\n"
     ]
    },
    {
     "name": "stderr",
     "output_type": "stream",
     "text": [
      " 62%|██████▎   | 75/120 [01:22<00:55,  1.24s/it]"
     ]
    },
    {
     "name": "stdout",
     "output_type": "stream",
     "text": [
      "\u001b[4A\n",
      "Epoch :         74,    1225.0130 ms elapsed\n",
      "loss = 0.0075859    (min = 0.0075859   )  \taccuracy = 0.918      (max = 0.938     )\n",
      "loss = 0.020915     (min = 0.018617    )  \taccuracy = 0.778      (max = 0.802     )\n"
     ]
    },
    {
     "name": "stderr",
     "output_type": "stream",
     "text": [
      " 64%|██████▍   | 77/120 [01:24<00:55,  1.29s/it]"
     ]
    },
    {
     "name": "stdout",
     "output_type": "stream",
     "text": [
      "\u001b[4A\n",
      "Epoch :         76,    1401.4510 ms elapsed\n",
      "loss = 0.0074698    (min = 0.0074698   )  \taccuracy = 0.926      (max = 0.938     )\n",
      "loss = 0.01956      (min = 0.018617    )  \taccuracy = 0.804      (max = 0.804     )\n"
     ]
    },
    {
     "name": "stderr",
     "output_type": "stream",
     "text": [
      " 66%|██████▌   | 79/120 [01:27<00:53,  1.29s/it]"
     ]
    },
    {
     "name": "stdout",
     "output_type": "stream",
     "text": [
      "\u001b[4A\n",
      "Epoch :         78,    1351.9460 ms elapsed\n",
      "loss = 0.0074915    (min = 0.0074698   )  \taccuracy = 0.924      (max = 0.938     )\n",
      "loss = 0.020373     (min = 0.018617    )  \taccuracy = 0.79       (max = 0.804     )\n"
     ]
    },
    {
     "name": "stderr",
     "output_type": "stream",
     "text": [
      " 68%|██████▊   | 81/120 [01:30<00:51,  1.33s/it]"
     ]
    },
    {
     "name": "stdout",
     "output_type": "stream",
     "text": [
      "\u001b[4A\n",
      "Epoch :         80,    1436.2580 ms elapsed\n",
      "loss = 0.0072967    (min = 0.0072967   )  \taccuracy = 0.922      (max = 0.938     )\n",
      "loss = 0.020801     (min = 0.018617    )  \taccuracy = 0.78       (max = 0.804     )\n"
     ]
    },
    {
     "name": "stderr",
     "output_type": "stream",
     "text": [
      " 69%|██████▉   | 83/120 [01:32<00:49,  1.34s/it]"
     ]
    },
    {
     "name": "stdout",
     "output_type": "stream",
     "text": [
      "\u001b[4A\n",
      "Epoch :         82,    1391.1560 ms elapsed\n",
      "loss = 0.0077549    (min = 0.0069401   )  \taccuracy = 0.908      (max = 0.938     )\n",
      "loss = 0.020424     (min = 0.018617    )  \taccuracy = 0.79       (max = 0.804     )\n"
     ]
    },
    {
     "name": "stderr",
     "output_type": "stream",
     "text": [
      " 71%|███████   | 85/120 [01:35<00:45,  1.31s/it]"
     ]
    },
    {
     "name": "stdout",
     "output_type": "stream",
     "text": [
      "\u001b[4A\n",
      "Epoch :         84,    1278.2530 ms elapsed\n",
      "loss = 0.006554     (min = 0.0064445   )  \taccuracy = 0.936      (max = 0.938     )\n",
      "loss = 0.020147     (min = 0.018617    )  \taccuracy = 0.802      (max = 0.804     )\n"
     ]
    },
    {
     "name": "stderr",
     "output_type": "stream",
     "text": [
      " 72%|███████▎  | 87/120 [01:37<00:41,  1.26s/it]"
     ]
    },
    {
     "name": "stdout",
     "output_type": "stream",
     "text": [
      "\u001b[4A\n",
      "Epoch :         86,    1251.3160 ms elapsed\n",
      "loss = 0.0062066    (min = 0.0062066   )  \taccuracy = 0.94       (max = 0.94      )\n",
      "loss = 0.021025     (min = 0.018617    )  \taccuracy = 0.778      (max = 0.804     )\n"
     ]
    },
    {
     "name": "stderr",
     "output_type": "stream",
     "text": [
      " 74%|███████▍  | 89/120 [01:40<00:37,  1.20s/it]"
     ]
    },
    {
     "name": "stdout",
     "output_type": "stream",
     "text": [
      "\u001b[4A\n",
      "Epoch :         88,    1187.2860 ms elapsed\n",
      "loss = 0.0063736    (min = 0.0058872   )  \taccuracy = 0.936      (max = 0.948     )\n",
      "loss = 0.021068     (min = 0.018617    )  \taccuracy = 0.792      (max = 0.804     )\n"
     ]
    },
    {
     "name": "stderr",
     "output_type": "stream",
     "text": [
      " 76%|███████▌  | 91/120 [01:42<00:34,  1.21s/it]"
     ]
    },
    {
     "name": "stdout",
     "output_type": "stream",
     "text": [
      "\u001b[4A\n",
      "Epoch :         90,    1202.9830 ms elapsed\n",
      "loss = 0.0067986    (min = 0.0058872   )  \taccuracy = 0.934      (max = 0.948     )\n",
      "loss = 0.022087     (min = 0.018617    )  \taccuracy = 0.782      (max = 0.806     )\n"
     ]
    },
    {
     "name": "stderr",
     "output_type": "stream",
     "text": [
      " 78%|███████▊  | 93/120 [01:45<00:34,  1.26s/it]"
     ]
    },
    {
     "name": "stdout",
     "output_type": "stream",
     "text": [
      "\u001b[4A\n",
      "Epoch :         92,    1285.4830 ms elapsed\n",
      "loss = 0.005967     (min = 0.0058872   )  \taccuracy = 0.934      (max = 0.948     )\n",
      "loss = 0.020656     (min = 0.018617    )  \taccuracy = 0.796      (max = 0.806     )\n"
     ]
    },
    {
     "name": "stderr",
     "output_type": "stream",
     "text": [
      " 79%|███████▉  | 95/120 [01:47<00:30,  1.22s/it]"
     ]
    },
    {
     "name": "stdout",
     "output_type": "stream",
     "text": [
      "\u001b[4A\n",
      "Epoch :         94,    1168.8090 ms elapsed\n",
      "loss = 0.005291     (min = 0.005291    )  \taccuracy = 0.954      (max = 0.954     )\n",
      "loss = 0.022207     (min = 0.018617    )  \taccuracy = 0.77       (max = 0.806     )\n"
     ]
    },
    {
     "name": "stderr",
     "output_type": "stream",
     "text": [
      " 81%|████████  | 97/120 [01:49<00:26,  1.16s/it]"
     ]
    },
    {
     "name": "stdout",
     "output_type": "stream",
     "text": [
      "\u001b[4A\n",
      "Epoch :         96,    1092.2440 ms elapsed\n",
      "loss = 0.0052933    (min = 0.005291    )  \taccuracy = 0.948      (max = 0.954     )\n",
      "loss = 0.021057     (min = 0.018617    )  \taccuracy = 0.798      (max = 0.806     )\n"
     ]
    },
    {
     "name": "stderr",
     "output_type": "stream",
     "text": [
      " 82%|████████▎ | 99/120 [01:52<00:23,  1.14s/it]"
     ]
    },
    {
     "name": "stdout",
     "output_type": "stream",
     "text": [
      "\u001b[4A\n",
      "Epoch :         98,    1094.6500 ms elapsed\n",
      "loss = 0.0055127    (min = 0.005291    )  \taccuracy = 0.942      (max = 0.954     )\n",
      "loss = 0.022348     (min = 0.018617    )  \taccuracy = 0.786      (max = 0.806     )\n"
     ]
    },
    {
     "name": "stderr",
     "output_type": "stream",
     "text": [
      " 84%|████████▍ | 101/120 [01:54<00:20,  1.09s/it]"
     ]
    },
    {
     "name": "stdout",
     "output_type": "stream",
     "text": [
      "\u001b[4A\n",
      "Epoch :        100,    1001.7070 ms elapsed\n",
      "loss = 0.0050907    (min = 0.0047293   )  \taccuracy = 0.946      (max = 0.962     )\n",
      "loss = 0.021307     (min = 0.018617    )  \taccuracy = 0.796      (max = 0.806     )\n"
     ]
    },
    {
     "name": "stderr",
     "output_type": "stream",
     "text": [
      " 86%|████████▌ | 103/120 [01:56<00:19,  1.12s/it]"
     ]
    },
    {
     "name": "stdout",
     "output_type": "stream",
     "text": [
      "\u001b[4A\n",
      "Epoch :        102,    1146.9250 ms elapsed\n",
      "loss = 0.0053313    (min = 0.0046735   )  \taccuracy = 0.942      (max = 0.962     )\n",
      "loss = 0.021512     (min = 0.018617    )  \taccuracy = 0.808      (max = 0.808     )\n"
     ]
    },
    {
     "name": "stderr",
     "output_type": "stream",
     "text": [
      " 88%|████████▊ | 105/120 [01:58<00:17,  1.18s/it]"
     ]
    },
    {
     "name": "stdout",
     "output_type": "stream",
     "text": [
      "\u001b[4A\n",
      "Epoch :        104,    1239.5550 ms elapsed\n",
      "loss = 0.0046736    (min = 0.0044271   )  \taccuracy = 0.968      (max = 0.968     )\n",
      "loss = 0.022461     (min = 0.018617    )  \taccuracy = 0.788      (max = 0.808     )\n"
     ]
    },
    {
     "name": "stderr",
     "output_type": "stream",
     "text": [
      " 89%|████████▉ | 107/120 [02:01<00:14,  1.15s/it]"
     ]
    },
    {
     "name": "stdout",
     "output_type": "stream",
     "text": [
      "\u001b[4A\n",
      "Epoch :        106,    1140.2560 ms elapsed\n",
      "loss = 0.0045921    (min = 0.0044271   )  \taccuracy = 0.96       (max = 0.968     )\n",
      "loss = 0.022964     (min = 0.018617    )  \taccuracy = 0.766      (max = 0.808     )\n"
     ]
    },
    {
     "name": "stderr",
     "output_type": "stream",
     "text": [
      " 91%|█████████ | 109/120 [02:03<00:12,  1.15s/it]"
     ]
    },
    {
     "name": "stdout",
     "output_type": "stream",
     "text": [
      "\u001b[4A\n",
      "Epoch :        108,    1121.4240 ms elapsed\n",
      "loss = 0.0039063    (min = 0.0039063   )  \taccuracy = 0.966      (max = 0.968     )\n",
      "loss = 0.023414     (min = 0.018617    )  \taccuracy = 0.782      (max = 0.808     )\n"
     ]
    },
    {
     "name": "stderr",
     "output_type": "stream",
     "text": [
      " 92%|█████████▎| 111/120 [02:05<00:09,  1.10s/it]"
     ]
    },
    {
     "name": "stdout",
     "output_type": "stream",
     "text": [
      "\u001b[4A\n",
      "Epoch :        110,     982.1940 ms elapsed\n",
      "loss = 0.0036165    (min = 0.0036165   )  \taccuracy = 0.978      (max = 0.978     )\n",
      "loss = 0.024824     (min = 0.018617    )  \taccuracy = 0.776      (max = 0.808     )\n"
     ]
    },
    {
     "name": "stderr",
     "output_type": "stream",
     "text": [
      " 94%|█████████▍| 113/120 [02:07<00:07,  1.04s/it]"
     ]
    },
    {
     "name": "stdout",
     "output_type": "stream",
     "text": [
      "\u001b[4A\n",
      "Epoch :        112,     903.6840 ms elapsed\n",
      "loss = 0.0052646    (min = 0.0036165   )  \taccuracy = 0.952      (max = 0.978     )\n",
      "loss = 0.023098     (min = 0.018617    )  \taccuracy = 0.798      (max = 0.808     )\n"
     ]
    },
    {
     "name": "stderr",
     "output_type": "stream",
     "text": [
      " 96%|█████████▌| 115/120 [02:09<00:05,  1.10s/it]"
     ]
    },
    {
     "name": "stdout",
     "output_type": "stream",
     "text": [
      "\u001b[4A\n",
      "Epoch :        114,    1165.0330 ms elapsed\n",
      "loss = 0.0051315    (min = 0.0036165   )  \taccuracy = 0.948      (max = 0.978     )\n",
      "loss = 0.02526      (min = 0.018617    )  \taccuracy = 0.764      (max = 0.808     )\n"
     ]
    },
    {
     "name": "stderr",
     "output_type": "stream",
     "text": [
      " 98%|█████████▊| 117/120 [02:12<00:03,  1.15s/it]"
     ]
    },
    {
     "name": "stdout",
     "output_type": "stream",
     "text": [
      "\u001b[4A\n",
      "Epoch :        116,    1196.7810 ms elapsed\n",
      "loss = 0.0036764    (min = 0.0036165   )  \taccuracy = 0.972      (max = 0.978     )\n",
      "loss = 0.022806     (min = 0.018617    )  \taccuracy = 0.794      (max = 0.808     )\n"
     ]
    },
    {
     "name": "stderr",
     "output_type": "stream",
     "text": [
      " 99%|█████████▉| 119/120 [02:14<00:01,  1.16s/it]"
     ]
    },
    {
     "name": "stdout",
     "output_type": "stream",
     "text": [
      "\u001b[4A\n",
      "Epoch :        118,    1263.6870 ms elapsed\n",
      "loss = 0.0033546    (min = 0.0033546   )  \taccuracy = 0.98       (max = 0.98      )\n",
      "loss = 0.023489     (min = 0.018617    )  \taccuracy = 0.784      (max = 0.808     )\n"
     ]
    },
    {
     "name": "stderr",
     "output_type": "stream",
     "text": [
      "100%|██████████| 120/120 [02:15<00:00,  1.18s/it]\n"
     ]
    },
    {
     "name": "stdout",
     "output_type": "stream",
     "text": [
      "Finished Training\n"
     ]
    },
    {
     "data": {
      "image/png": "[encoded data removed]",
      "text/plain": [
       "<Figure size 432x288 with 1 Axes>"
      ]
     },
     "metadata": {
      "needs_background": "light"
     },
     "output_type": "display_data"
    },
    {
     "data": {
      "image/png": "[encoded data removed]",
      "text/plain": [
       "<Figure size 432x288 with 1 Axes>"
      ]
     },
     "metadata": {
      "needs_background": "light"
     },
     "output_type": "display_data"
    },
    {
     "name": "stdout",
     "output_type": "stream",
     "text": [
      "Saving models...\n"
     ]
    }
   ],
   "source": [
    "# use the same network structure as for mninst task\n",
    "raw_cnn_fashion = Raw_CNN_Mnist().to(device)\n",
    "\n",
    "raw_criterion = nn.CrossEntropyLoss()\n",
    "raw_optimizer = optim.Adam(raw_cnn_fashion.parameters(), lr=0.001)\n",
    "raw_stats = learningStats()\n",
    "\n",
    "train(raw_cnn_fashion,'raw_cnn_Sfashion',\n",
    "      trainloader_cnn,testloader_cnn,\n",
    "      raw_criterion, \n",
    "      raw_optimizer,\n",
    "      raw_stats,\n",
    "      epoch=EPOCH+20)"
   ]
  },
  {
   "cell_type": "code",
   "execution_count": 13,
   "metadata": {},
   "outputs": [
    {
     "name": "stdout",
     "output_type": "stream",
     "text": [
      "The classification accuracy:  0.796\n",
      "\n"
     ]
    },
    {
     "data": {
      "image/png": "[encoded data removed]",
      "text/plain": [
       "<Figure size 432x288 with 2 Axes>"
      ]
     },
     "metadata": {
      "needs_background": "light"
     },
     "output_type": "display_data"
    }
   ],
   "source": [
    "raw_cnn_fashion = Raw_CNN_Mnist().to(device)\n",
    "load_model('raw_cnn_Sfashion', raw_cnn_fashion)\n",
    "y_true, y_pred = get_labels(raw_cnn_fashion, testloader_cnn, snn=False)\n",
    "test_method(y_true.cpu().numpy(), y_pred.cpu().numpy())"
   ]
  },
  {
   "cell_type": "code",
   "execution_count": 14,
   "metadata": {
    "scrolled": true
   },
   "outputs": [
    {
     "name": "stderr",
     "output_type": "stream",
     "text": [
      "  1%|          | 1/120 [00:00<01:49,  1.09it/s]"
     ]
    },
    {
     "name": "stdout",
     "output_type": "stream",
     "text": [
      "\u001b[0A\n",
      "Epoch :          0,     919.5990 ms elapsed\n",
      "loss = 0.073345     (min = 0.073345    )  \taccuracy = 0.184      (max = 0.184     )\n",
      "loss = 0.07234      (min = 0.07234     )  \taccuracy = 0.298      (max = 0.298     )\n"
     ]
    },
    {
     "name": "stderr",
     "output_type": "stream",
     "text": [
      "  2%|▎         | 3/120 [00:03<02:00,  1.03s/it]"
     ]
    },
    {
     "name": "stdout",
     "output_type": "stream",
     "text": [
      "\u001b[4A\n",
      "Epoch :          2,    1122.6800 ms elapsed\n",
      "loss = 0.058029     (min = 0.058029    )  \taccuracy = 0.444      (max = 0.444     )\n",
      "loss = 0.04726      (min = 0.04726     )  \taccuracy = 0.576      (max = 0.576     )\n"
     ]
    },
    {
     "name": "stderr",
     "output_type": "stream",
     "text": [
      "  4%|▍         | 5/120 [00:05<02:01,  1.06s/it]"
     ]
    },
    {
     "name": "stdout",
     "output_type": "stream",
     "text": [
      "\u001b[4A\n",
      "Epoch :          4,    1061.0480 ms elapsed\n",
      "loss = 0.033879     (min = 0.033879    )  \taccuracy = 0.596      (max = 0.596     )\n",
      "loss = 0.031919     (min = 0.031919    )  \taccuracy = 0.662      (max = 0.662     )\n"
     ]
    },
    {
     "name": "stderr",
     "output_type": "stream",
     "text": [
      "  6%|▌         | 7/120 [00:07<01:55,  1.02s/it]"
     ]
    },
    {
     "name": "stdout",
     "output_type": "stream",
     "text": [
      "\u001b[4A\n",
      "Epoch :          6,     997.5450 ms elapsed\n",
      "loss = 0.028577     (min = 0.028577    )  \taccuracy = 0.692      (max = 0.692     )\n",
      "loss = 0.02787      (min = 0.02787     )  \taccuracy = 0.69       (max = 0.692     )\n"
     ]
    },
    {
     "name": "stderr",
     "output_type": "stream",
     "text": [
      "  8%|▊         | 9/120 [00:09<01:59,  1.07s/it]"
     ]
    },
    {
     "name": "stdout",
     "output_type": "stream",
     "text": [
      "\u001b[4A\n",
      "Epoch :          8,    1174.3100 ms elapsed\n",
      "loss = 0.026506     (min = 0.026506    )  \taccuracy = 0.72       (max = 0.72      )\n",
      "loss = 0.027354     (min = 0.027354    )  \taccuracy = 0.65       (max = 0.692     )\n"
     ]
    },
    {
     "name": "stderr",
     "output_type": "stream",
     "text": [
      "  9%|▉         | 11/120 [00:11<01:54,  1.05s/it]"
     ]
    },
    {
     "name": "stdout",
     "output_type": "stream",
     "text": [
      "\u001b[4A\n",
      "Epoch :         10,     961.4770 ms elapsed\n",
      "loss = 0.024965     (min = 0.024965    )  \taccuracy = 0.726      (max = 0.726     )\n",
      "loss = 0.025079     (min = 0.025079    )  \taccuracy = 0.69       (max = 0.692     )\n"
     ]
    },
    {
     "name": "stderr",
     "output_type": "stream",
     "text": [
      " 11%|█         | 13/120 [00:13<01:48,  1.02s/it]"
     ]
    },
    {
     "name": "stdout",
     "output_type": "stream",
     "text": [
      "\u001b[4A\n",
      "Epoch :         12,     941.5110 ms elapsed\n",
      "loss = 0.024485     (min = 0.024485    )  \taccuracy = 0.722      (max = 0.726     )\n",
      "loss = 0.024283     (min = 0.024283    )  \taccuracy = 0.706      (max = 0.718     )\n"
     ]
    },
    {
     "name": "stderr",
     "output_type": "stream",
     "text": [
      " 12%|█▎        | 15/120 [00:15<01:51,  1.06s/it]"
     ]
    },
    {
     "name": "stdout",
     "output_type": "stream",
     "text": [
      "\u001b[4A\n",
      "Epoch :         14,    1068.6960 ms elapsed\n",
      "loss = 0.022459     (min = 0.022459    )  \taccuracy = 0.75       (max = 0.764     )\n",
      "loss = 0.025819     (min = 0.024283    )  \taccuracy = 0.668      (max = 0.718     )\n"
     ]
    },
    {
     "name": "stderr",
     "output_type": "stream",
     "text": [
      " 14%|█▍        | 17/120 [00:18<01:50,  1.07s/it]"
     ]
    },
    {
     "name": "stdout",
     "output_type": "stream",
     "text": [
      "\u001b[4A\n",
      "Epoch :         16,    1059.3290 ms elapsed\n",
      "loss = 0.021785     (min = 0.021785    )  \taccuracy = 0.754      (max = 0.764     )\n",
      "loss = 0.02329      (min = 0.02329     )  \taccuracy = 0.708      (max = 0.718     )\n"
     ]
    },
    {
     "name": "stderr",
     "output_type": "stream",
     "text": [
      " 16%|█▌        | 19/120 [00:20<01:47,  1.06s/it]"
     ]
    },
    {
     "name": "stdout",
     "output_type": "stream",
     "text": [
      "\u001b[4A\n",
      "Epoch :         18,    1048.1750 ms elapsed\n",
      "loss = 0.02058      (min = 0.02058     )  \taccuracy = 0.762      (max = 0.78      )\n",
      "loss = 0.022924     (min = 0.022924    )  \taccuracy = 0.716      (max = 0.718     )\n"
     ]
    },
    {
     "name": "stderr",
     "output_type": "stream",
     "text": [
      " 18%|█▊        | 21/120 [00:22<01:43,  1.05s/it]"
     ]
    },
    {
     "name": "stdout",
     "output_type": "stream",
     "text": [
      "\u001b[4A\n",
      "Epoch :         20,    1014.8990 ms elapsed\n",
      "loss = 0.020736     (min = 0.02058     )  \taccuracy = 0.766      (max = 0.78      )\n",
      "loss = 0.029369     (min = 0.022924    )  \taccuracy = 0.666      (max = 0.718     )\n"
     ]
    },
    {
     "name": "stderr",
     "output_type": "stream",
     "text": [
      " 19%|█▉        | 23/120 [00:24<01:42,  1.06s/it]"
     ]
    },
    {
     "name": "stdout",
     "output_type": "stream",
     "text": [
      "\u001b[4A\n",
      "Epoch :         22,    1077.1210 ms elapsed\n",
      "loss = 0.020132     (min = 0.020132    )  \taccuracy = 0.772      (max = 0.78      )\n",
      "loss = 0.021798     (min = 0.021798    )  \taccuracy = 0.724      (max = 0.724     )\n"
     ]
    },
    {
     "name": "stderr",
     "output_type": "stream",
     "text": [
      " 21%|██        | 25/120 [00:26<01:40,  1.06s/it]"
     ]
    },
    {
     "name": "stdout",
     "output_type": "stream",
     "text": [
      "\u001b[4A\n",
      "Epoch :         24,    1048.3540 ms elapsed\n",
      "loss = 0.019445     (min = 0.019172    )  \taccuracy = 0.804      (max = 0.804     )\n",
      "loss = 0.022694     (min = 0.021798    )  \taccuracy = 0.71       (max = 0.742     )\n"
     ]
    },
    {
     "name": "stderr",
     "output_type": "stream",
     "text": [
      " 22%|██▎       | 27/120 [00:28<01:38,  1.06s/it]"
     ]
    },
    {
     "name": "stdout",
     "output_type": "stream",
     "text": [
      "\u001b[4A\n",
      "Epoch :         26,    1039.4010 ms elapsed\n",
      "loss = 0.018505     (min = 0.018505    )  \taccuracy = 0.806      (max = 0.806     )\n",
      "loss = 0.026305     (min = 0.021798    )  \taccuracy = 0.688      (max = 0.742     )\n"
     ]
    },
    {
     "name": "stderr",
     "output_type": "stream",
     "text": [
      " 24%|██▍       | 29/120 [00:30<01:30,  1.01it/s]"
     ]
    },
    {
     "name": "stdout",
     "output_type": "stream",
     "text": [
      "\u001b[4A\n",
      "Epoch :         28,     864.1670 ms elapsed\n",
      "loss = 0.018705     (min = 0.018505    )  \taccuracy = 0.796      (max = 0.806     )\n",
      "loss = 0.022027     (min = 0.021798    )  \taccuracy = 0.726      (max = 0.742     )\n"
     ]
    },
    {
     "name": "stderr",
     "output_type": "stream",
     "text": [
      " 26%|██▌       | 31/120 [00:32<01:25,  1.04it/s]"
     ]
    },
    {
     "name": "stdout",
     "output_type": "stream",
     "text": [
      "\u001b[4A\n",
      "Epoch :         30,     907.0440 ms elapsed\n",
      "loss = 0.017934     (min = 0.017934    )  \taccuracy = 0.794      (max = 0.806     )\n",
      "loss = 0.022642     (min = 0.021356    )  \taccuracy = 0.718      (max = 0.742     )\n"
     ]
    },
    {
     "name": "stderr",
     "output_type": "stream",
     "text": [
      " 28%|██▊       | 33/120 [00:34<01:27,  1.01s/it]"
     ]
    },
    {
     "name": "stdout",
     "output_type": "stream",
     "text": [
      "\u001b[4A\n",
      "Epoch :         32,    1121.9560 ms elapsed\n",
      "loss = 0.017543     (min = 0.017543    )  \taccuracy = 0.808      (max = 0.808     )\n",
      "loss = 0.022377     (min = 0.021356    )  \taccuracy = 0.706      (max = 0.742     )\n"
     ]
    },
    {
     "name": "stderr",
     "output_type": "stream",
     "text": [
      " 29%|██▉       | 35/120 [00:36<01:25,  1.01s/it]"
     ]
    },
    {
     "name": "stdout",
     "output_type": "stream",
     "text": [
      "\u001b[4A\n",
      "Epoch :         34,    1077.5070 ms elapsed\n",
      "loss = 0.017366     (min = 0.017167    )  \taccuracy = 0.798      (max = 0.82      )\n",
      "loss = 0.024695     (min = 0.021356    )  \taccuracy = 0.706      (max = 0.742     )\n"
     ]
    },
    {
     "name": "stderr",
     "output_type": "stream",
     "text": [
      " 31%|███       | 37/120 [00:38<01:28,  1.06s/it]"
     ]
    },
    {
     "name": "stdout",
     "output_type": "stream",
     "text": [
      "\u001b[4A\n",
      "Epoch :         36,    1160.1560 ms elapsed\n",
      "loss = 0.017079     (min = 0.017079    )  \taccuracy = 0.804      (max = 0.82      )\n",
      "loss = 0.021245     (min = 0.021245    )  \taccuracy = 0.746      (max = 0.746     )\n"
     ]
    },
    {
     "name": "stderr",
     "output_type": "stream",
     "text": [
      " 32%|███▎      | 39/120 [00:40<01:24,  1.05s/it]"
     ]
    },
    {
     "name": "stdout",
     "output_type": "stream",
     "text": [
      "\u001b[4A\n",
      "Epoch :         38,    1032.3070 ms elapsed\n",
      "loss = 0.016489     (min = 0.016489    )  \taccuracy = 0.822      (max = 0.822     )\n",
      "loss = 0.020884     (min = 0.020884    )  \taccuracy = 0.736      (max = 0.746     )\n"
     ]
    },
    {
     "name": "stderr",
     "output_type": "stream",
     "text": [
      " 34%|███▍      | 41/120 [00:42<01:26,  1.10s/it]"
     ]
    },
    {
     "name": "stdout",
     "output_type": "stream",
     "text": [
      "\u001b[4A\n",
      "Epoch :         40,    1205.1600 ms elapsed\n",
      "loss = 0.016333     (min = 0.016333    )  \taccuracy = 0.808      (max = 0.822     )\n",
      "loss = 0.022095     (min = 0.020884    )  \taccuracy = 0.714      (max = 0.746     )\n"
     ]
    },
    {
     "name": "stderr",
     "output_type": "stream",
     "text": [
      " 36%|███▌      | 43/120 [00:45<01:25,  1.11s/it]"
     ]
    },
    {
     "name": "stdout",
     "output_type": "stream",
     "text": [
      "\u001b[4A\n",
      "Epoch :         42,    1127.7040 ms elapsed\n",
      "loss = 0.015803     (min = 0.015803    )  \taccuracy = 0.824      (max = 0.824     )\n",
      "loss = 0.021668     (min = 0.020884    )  \taccuracy = 0.738      (max = 0.746     )\n"
     ]
    },
    {
     "name": "stderr",
     "output_type": "stream",
     "text": [
      " 38%|███▊      | 45/120 [00:47<01:21,  1.08s/it]"
     ]
    },
    {
     "name": "stdout",
     "output_type": "stream",
     "text": [
      "\u001b[4A\n",
      "Epoch :         44,    1044.8990 ms elapsed\n",
      "loss = 0.015283     (min = 0.015283    )  \taccuracy = 0.836      (max = 0.836     )\n",
      "loss = 0.0207       (min = 0.020661    )  \taccuracy = 0.734      (max = 0.746     )\n"
     ]
    },
    {
     "name": "stderr",
     "output_type": "stream",
     "text": [
      " 39%|███▉      | 47/120 [00:49<01:15,  1.04s/it]"
     ]
    },
    {
     "name": "stdout",
     "output_type": "stream",
     "text": [
      "\u001b[4A\n",
      "Epoch :         46,    1095.4410 ms elapsed\n",
      "loss = 0.014916     (min = 0.014916    )  \taccuracy = 0.846      (max = 0.846     )\n",
      "loss = 0.022187     (min = 0.020661    )  \taccuracy = 0.72       (max = 0.746     )\n"
     ]
    },
    {
     "name": "stderr",
     "output_type": "stream",
     "text": [
      " 41%|████      | 49/120 [00:51<01:16,  1.07s/it]"
     ]
    },
    {
     "name": "stdout",
     "output_type": "stream",
     "text": [
      "\u001b[4A\n",
      "Epoch :         48,    1157.6810 ms elapsed\n",
      "loss = 0.014819     (min = 0.014819    )  \taccuracy = 0.83       (max = 0.846     )\n",
      "loss = 0.023871     (min = 0.020661    )  \taccuracy = 0.708      (max = 0.746     )\n"
     ]
    },
    {
     "name": "stderr",
     "output_type": "stream",
     "text": [
      " 42%|████▎     | 51/120 [00:53<01:14,  1.08s/it]"
     ]
    },
    {
     "name": "stdout",
     "output_type": "stream",
     "text": [
      "\u001b[4A\n",
      "Epoch :         50,    1112.2910 ms elapsed\n",
      "loss = 0.014805     (min = 0.014805    )  \taccuracy = 0.85       (max = 0.85      )\n",
      "loss = 0.02198      (min = 0.020661    )  \taccuracy = 0.724      (max = 0.746     )\n"
     ]
    },
    {
     "name": "stderr",
     "output_type": "stream",
     "text": [
      " 44%|████▍     | 53/120 [00:55<01:10,  1.04s/it]"
     ]
    },
    {
     "name": "stdout",
     "output_type": "stream",
     "text": [
      "\u001b[4A\n",
      "Epoch :         52,    1018.3890 ms elapsed\n",
      "loss = 0.014807     (min = 0.014805    )  \taccuracy = 0.834      (max = 0.852     )\n",
      "loss = 0.022755     (min = 0.020661    )  \taccuracy = 0.73       (max = 0.752     )\n"
     ]
    },
    {
     "name": "stderr",
     "output_type": "stream",
     "text": [
      " 46%|████▌     | 55/120 [00:57<01:11,  1.10s/it]"
     ]
    },
    {
     "name": "stdout",
     "output_type": "stream",
     "text": [
      "\u001b[4A\n",
      "Epoch :         54,    1219.1910 ms elapsed\n",
      "loss = 0.014013     (min = 0.014013    )  \taccuracy = 0.844      (max = 0.852     )\n",
      "loss = 0.021231     (min = 0.020661    )  \taccuracy = 0.728      (max = 0.758     )\n"
     ]
    },
    {
     "name": "stderr",
     "output_type": "stream",
     "text": [
      " 48%|████▊     | 57/120 [01:00<01:09,  1.10s/it]"
     ]
    },
    {
     "name": "stdout",
     "output_type": "stream",
     "text": [
      "\u001b[4A\n",
      "Epoch :         56,    1038.4640 ms elapsed\n",
      "loss = 0.013479     (min = 0.013479    )  \taccuracy = 0.846      (max = 0.854     )\n",
      "loss = 0.020865     (min = 0.020661    )  \taccuracy = 0.758      (max = 0.758     )\n"
     ]
    },
    {
     "name": "stderr",
     "output_type": "stream",
     "text": [
      " 49%|████▉     | 59/120 [01:01<01:01,  1.00s/it]"
     ]
    },
    {
     "name": "stdout",
     "output_type": "stream",
     "text": [
      "\u001b[4A\n",
      "Epoch :         58,     837.7050 ms elapsed\n",
      "loss = 0.013663     (min = 0.013273    )  \taccuracy = 0.858      (max = 0.87      )\n",
      "loss = 0.022043     (min = 0.020661    )  \taccuracy = 0.728      (max = 0.758     )\n"
     ]
    },
    {
     "name": "stderr",
     "output_type": "stream",
     "text": [
      " 51%|█████     | 61/120 [01:03<00:49,  1.19it/s]"
     ]
    },
    {
     "name": "stdout",
     "output_type": "stream",
     "text": [
      "\u001b[4A\n",
      "Epoch :         60,     651.5400 ms elapsed\n",
      "loss = 0.013114     (min = 0.013114    )  \taccuracy = 0.86       (max = 0.87      )\n",
      "loss = 0.021204     (min = 0.020661    )  \taccuracy = 0.756      (max = 0.758     )\n"
     ]
    },
    {
     "name": "stderr",
     "output_type": "stream",
     "text": [
      " 52%|█████▎    | 63/120 [01:04<00:44,  1.27it/s]"
     ]
    },
    {
     "name": "stdout",
     "output_type": "stream",
     "text": [
      "\u001b[4A\n",
      "Epoch :         62,     748.7490 ms elapsed\n",
      "loss = 0.012384     (min = 0.012384    )  \taccuracy = 0.876      (max = 0.876     )\n",
      "loss = 0.021368     (min = 0.020661    )  \taccuracy = 0.756      (max = 0.758     )\n"
     ]
    },
    {
     "name": "stderr",
     "output_type": "stream",
     "text": [
      " 54%|█████▍    | 65/120 [01:06<00:41,  1.33it/s]"
     ]
    },
    {
     "name": "stdout",
     "output_type": "stream",
     "text": [
      "\u001b[4A\n",
      "Epoch :         64,     713.6890 ms elapsed\n",
      "loss = 0.013776     (min = 0.012384    )  \taccuracy = 0.852      (max = 0.876     )\n",
      "loss = 0.021651     (min = 0.020661    )  \taccuracy = 0.748      (max = 0.758     )\n"
     ]
    },
    {
     "name": "stderr",
     "output_type": "stream",
     "text": [
      " 56%|█████▌    | 67/120 [01:07<00:41,  1.29it/s]"
     ]
    },
    {
     "name": "stdout",
     "output_type": "stream",
     "text": [
      "\u001b[4A\n",
      "Epoch :         66,     796.4530 ms elapsed\n",
      "loss = 0.012862     (min = 0.012372    )  \taccuracy = 0.858      (max = 0.876     )\n",
      "loss = 0.02151      (min = 0.020661    )  \taccuracy = 0.762      (max = 0.762     )\n"
     ]
    },
    {
     "name": "stderr",
     "output_type": "stream",
     "text": [
      " 57%|█████▊    | 69/120 [01:09<00:46,  1.10it/s]"
     ]
    },
    {
     "name": "stdout",
     "output_type": "stream",
     "text": [
      "\u001b[4A\n",
      "Epoch :         68,     994.5400 ms elapsed\n",
      "loss = 0.012695     (min = 0.012372    )  \taccuracy = 0.856      (max = 0.876     )\n",
      "loss = 0.02366      (min = 0.020661    )  \taccuracy = 0.75       (max = 0.762     )\n"
     ]
    },
    {
     "name": "stderr",
     "output_type": "stream",
     "text": [
      " 59%|█████▉    | 71/120 [01:11<00:46,  1.06it/s]"
     ]
    },
    {
     "name": "stdout",
     "output_type": "stream",
     "text": [
      "\u001b[4A\n",
      "Epoch :         70,     927.8270 ms elapsed\n",
      "loss = 0.012499     (min = 0.012372    )  \taccuracy = 0.856      (max = 0.876     )\n",
      "loss = 0.020939     (min = 0.020661    )  \taccuracy = 0.744      (max = 0.762     )\n"
     ]
    },
    {
     "name": "stderr",
     "output_type": "stream",
     "text": [
      " 61%|██████    | 73/120 [01:13<00:45,  1.04it/s]"
     ]
    },
    {
     "name": "stdout",
     "output_type": "stream",
     "text": [
      "\u001b[4A\n",
      "Epoch :         72,    1010.2640 ms elapsed\n",
      "loss = 0.012124     (min = 0.011884    )  \taccuracy = 0.868      (max = 0.876     )\n",
      "loss = 0.021543     (min = 0.020661    )  \taccuracy = 0.758      (max = 0.762     )\n"
     ]
    },
    {
     "name": "stderr",
     "output_type": "stream",
     "text": [
      " 62%|██████▎   | 75/120 [01:15<00:42,  1.05it/s]"
     ]
    },
    {
     "name": "stdout",
     "output_type": "stream",
     "text": [
      "\u001b[4A\n",
      "Epoch :         74,     941.8710 ms elapsed\n",
      "loss = 0.012099     (min = 0.011289    )  \taccuracy = 0.868      (max = 0.888     )\n",
      "loss = 0.02117      (min = 0.020661    )  \taccuracy = 0.762      (max = 0.762     )\n"
     ]
    },
    {
     "name": "stderr",
     "output_type": "stream",
     "text": [
      " 64%|██████▍   | 77/120 [01:16<00:32,  1.32it/s]"
     ]
    },
    {
     "name": "stdout",
     "output_type": "stream",
     "text": [
      "\u001b[4A\n",
      "Epoch :         76,     621.0640 ms elapsed\n",
      "loss = 0.011727     (min = 0.011289    )  \taccuracy = 0.872      (max = 0.888     )\n",
      "loss = 0.020791     (min = 0.020661    )  \taccuracy = 0.764      (max = 0.764     )\n"
     ]
    },
    {
     "name": "stderr",
     "output_type": "stream",
     "text": [
      " 66%|██████▌   | 79/120 [01:18<00:28,  1.45it/s]"
     ]
    },
    {
     "name": "stdout",
     "output_type": "stream",
     "text": [
      "\u001b[4A\n",
      "Epoch :         78,     623.7650 ms elapsed\n",
      "loss = 0.01174      (min = 0.011289    )  \taccuracy = 0.876      (max = 0.888     )\n",
      "loss = 0.021181     (min = 0.020661    )  \taccuracy = 0.756      (max = 0.764     )\n"
     ]
    },
    {
     "name": "stderr",
     "output_type": "stream",
     "text": [
      " 68%|██████▊   | 81/120 [01:19<00:32,  1.20it/s]"
     ]
    },
    {
     "name": "stdout",
     "output_type": "stream",
     "text": [
      "\u001b[4A\n",
      "Epoch :         80,    1164.2990 ms elapsed\n",
      "loss = 0.011863     (min = 0.011289    )  \taccuracy = 0.898      (max = 0.898     )\n",
      "loss = 0.0209       (min = 0.020661    )  \taccuracy = 0.762      (max = 0.764     )\n"
     ]
    },
    {
     "name": "stderr",
     "output_type": "stream",
     "text": [
      " 69%|██████▉   | 83/120 [01:21<00:31,  1.16it/s]"
     ]
    },
    {
     "name": "stdout",
     "output_type": "stream",
     "text": [
      "\u001b[4A\n",
      "Epoch :         82,     939.0180 ms elapsed\n",
      "loss = 0.011349     (min = 0.011289    )  \taccuracy = 0.886      (max = 0.898     )\n",
      "loss = 0.021994     (min = 0.020661    )  \taccuracy = 0.748      (max = 0.764     )\n"
     ]
    },
    {
     "name": "stderr",
     "output_type": "stream",
     "text": [
      " 71%|███████   | 85/120 [01:23<00:32,  1.06it/s]"
     ]
    },
    {
     "name": "stdout",
     "output_type": "stream",
     "text": [
      "\u001b[4A\n",
      "Epoch :         84,     930.8460 ms elapsed\n",
      "loss = 0.012211     (min = 0.011289    )  \taccuracy = 0.874      (max = 0.898     )\n",
      "loss = 0.023457     (min = 0.020661    )  \taccuracy = 0.742      (max = 0.766     )\n"
     ]
    },
    {
     "name": "stderr",
     "output_type": "stream",
     "text": [
      " 72%|███████▎  | 87/120 [01:25<00:31,  1.04it/s]"
     ]
    },
    {
     "name": "stdout",
     "output_type": "stream",
     "text": [
      "\u001b[4A\n",
      "Epoch :         86,     956.2880 ms elapsed\n",
      "loss = 0.010431     (min = 0.010431    )  \taccuracy = 0.894      (max = 0.898     )\n",
      "loss = 0.021219     (min = 0.020661    )  \taccuracy = 0.768      (max = 0.768     )\n"
     ]
    },
    {
     "name": "stderr",
     "output_type": "stream",
     "text": [
      " 74%|███████▍  | 89/120 [01:27<00:30,  1.01it/s]"
     ]
    },
    {
     "name": "stdout",
     "output_type": "stream",
     "text": [
      "\u001b[4A\n",
      "Epoch :         88,    1043.6910 ms elapsed\n",
      "loss = 0.0099626    (min = 0.0099626   )  \taccuracy = 0.904      (max = 0.904     )\n",
      "loss = 0.021818     (min = 0.020661    )  \taccuracy = 0.754      (max = 0.768     )\n"
     ]
    },
    {
     "name": "stderr",
     "output_type": "stream",
     "text": [
      " 76%|███████▌  | 91/120 [01:29<00:30,  1.04s/it]"
     ]
    },
    {
     "name": "stdout",
     "output_type": "stream",
     "text": [
      "\u001b[4A\n",
      "Epoch :         90,    1136.3030 ms elapsed\n",
      "loss = 0.010146     (min = 0.0099626   )  \taccuracy = 0.896      (max = 0.904     )\n",
      "loss = 0.021832     (min = 0.020661    )  \taccuracy = 0.77       (max = 0.77      )\n"
     ]
    },
    {
     "name": "stderr",
     "output_type": "stream",
     "text": [
      " 78%|███████▊  | 93/120 [01:31<00:27,  1.01s/it]"
     ]
    },
    {
     "name": "stdout",
     "output_type": "stream",
     "text": [
      "\u001b[4A\n",
      "Epoch :         92,    1022.2570 ms elapsed\n",
      "loss = 0.012128     (min = 0.0099626   )  \taccuracy = 0.872      (max = 0.904     )\n",
      "loss = 0.021399     (min = 0.020661    )  \taccuracy = 0.776      (max = 0.776     )\n"
     ]
    },
    {
     "name": "stderr",
     "output_type": "stream",
     "text": [
      " 79%|███████▉  | 95/120 [01:34<00:27,  1.10s/it]"
     ]
    },
    {
     "name": "stdout",
     "output_type": "stream",
     "text": [
      "\u001b[4A\n",
      "Epoch :         94,    1174.9200 ms elapsed\n",
      "loss = 0.010355     (min = 0.0099626   )  \taccuracy = 0.894      (max = 0.904     )\n",
      "loss = 0.021793     (min = 0.020661    )  \taccuracy = 0.766      (max = 0.776     )\n"
     ]
    },
    {
     "name": "stderr",
     "output_type": "stream",
     "text": [
      " 81%|████████  | 97/120 [01:36<00:25,  1.10s/it]"
     ]
    },
    {
     "name": "stdout",
     "output_type": "stream",
     "text": [
      "\u001b[4A\n",
      "Epoch :         96,    1120.8910 ms elapsed\n",
      "loss = 0.0096852    (min = 0.0096852   )  \taccuracy = 0.902      (max = 0.904     )\n",
      "loss = 0.021828     (min = 0.020661    )  \taccuracy = 0.774      (max = 0.776     )\n"
     ]
    },
    {
     "name": "stderr",
     "output_type": "stream",
     "text": [
      " 82%|████████▎ | 99/120 [01:38<00:23,  1.10s/it]"
     ]
    },
    {
     "name": "stdout",
     "output_type": "stream",
     "text": [
      "\u001b[4A\n",
      "Epoch :         98,    1134.2850 ms elapsed\n",
      "loss = 0.0094819    (min = 0.0094656   )  \taccuracy = 0.9        (max = 0.904     )\n",
      "loss = 0.021647     (min = 0.020661    )  \taccuracy = 0.784      (max = 0.784     )\n"
     ]
    },
    {
     "name": "stderr",
     "output_type": "stream",
     "text": [
      " 84%|████████▍ | 101/120 [01:40<00:20,  1.09s/it]"
     ]
    },
    {
     "name": "stdout",
     "output_type": "stream",
     "text": [
      "\u001b[4A\n",
      "Epoch :        100,    1100.8120 ms elapsed\n",
      "loss = 0.0093521    (min = 0.0093521   )  \taccuracy = 0.894      (max = 0.904     )\n",
      "loss = 0.023872     (min = 0.020661    )  \taccuracy = 0.732      (max = 0.784     )\n"
     ]
    },
    {
     "name": "stderr",
     "output_type": "stream",
     "text": [
      " 86%|████████▌ | 103/120 [01:42<00:17,  1.03s/it]"
     ]
    },
    {
     "name": "stdout",
     "output_type": "stream",
     "text": [
      "\u001b[4A\n",
      "Epoch :        102,     968.5760 ms elapsed\n",
      "loss = 0.009239     (min = 0.009239    )  \taccuracy = 0.91       (max = 0.91      )\n",
      "loss = 0.022026     (min = 0.020661    )  \taccuracy = 0.772      (max = 0.784     )\n"
     ]
    },
    {
     "name": "stderr",
     "output_type": "stream",
     "text": [
      " 88%|████████▊ | 105/120 [01:44<00:15,  1.02s/it]"
     ]
    },
    {
     "name": "stdout",
     "output_type": "stream",
     "text": [
      "\u001b[4A\n",
      "Epoch :        104,     958.9590 ms elapsed\n",
      "loss = 0.0092164    (min = 0.0092164   )  \taccuracy = 0.91       (max = 0.91      )\n",
      "loss = 0.023041     (min = 0.020661    )  \taccuracy = 0.756      (max = 0.784     )\n"
     ]
    },
    {
     "name": "stderr",
     "output_type": "stream",
     "text": [
      " 89%|████████▉ | 107/120 [01:46<00:13,  1.04s/it]"
     ]
    },
    {
     "name": "stdout",
     "output_type": "stream",
     "text": [
      "\u001b[4A\n",
      "Epoch :        106,    1102.9300 ms elapsed\n",
      "loss = 0.0091036    (min = 0.0089908   )  \taccuracy = 0.904      (max = 0.91      )\n",
      "loss = 0.0227       (min = 0.020661    )  \taccuracy = 0.748      (max = 0.784     )\n"
     ]
    },
    {
     "name": "stderr",
     "output_type": "stream",
     "text": [
      " 91%|█████████ | 109/120 [01:48<00:11,  1.04s/it]"
     ]
    },
    {
     "name": "stdout",
     "output_type": "stream",
     "text": [
      "\u001b[4A\n",
      "Epoch :        108,    1034.0770 ms elapsed\n",
      "loss = 0.0090487    (min = 0.0089908   )  \taccuracy = 0.91       (max = 0.91      )\n",
      "loss = 0.022115     (min = 0.020661    )  \taccuracy = 0.766      (max = 0.784     )\n"
     ]
    },
    {
     "name": "stderr",
     "output_type": "stream",
     "text": [
      " 92%|█████████▎| 111/120 [01:51<00:09,  1.09s/it]"
     ]
    },
    {
     "name": "stdout",
     "output_type": "stream",
     "text": [
      "\u001b[4A\n",
      "Epoch :        110,    1158.5940 ms elapsed\n",
      "loss = 0.0089234    (min = 0.0086448   )  \taccuracy = 0.902      (max = 0.914     )\n",
      "loss = 0.022195     (min = 0.020661    )  \taccuracy = 0.776      (max = 0.784     )\n"
     ]
    },
    {
     "name": "stderr",
     "output_type": "stream",
     "text": [
      " 94%|█████████▍| 113/120 [01:53<00:07,  1.08s/it]"
     ]
    },
    {
     "name": "stdout",
     "output_type": "stream",
     "text": [
      "\u001b[4A\n",
      "Epoch :        112,    1073.7320 ms elapsed\n",
      "loss = 0.0093619    (min = 0.0086366   )  \taccuracy = 0.904      (max = 0.914     )\n",
      "loss = 0.022744     (min = 0.020661    )  \taccuracy = 0.782      (max = 0.784     )\n"
     ]
    },
    {
     "name": "stderr",
     "output_type": "stream",
     "text": [
      " 96%|█████████▌| 115/120 [01:55<00:05,  1.00s/it]"
     ]
    },
    {
     "name": "stdout",
     "output_type": "stream",
     "text": [
      "\u001b[4A\n",
      "Epoch :        114,     913.2180 ms elapsed\n",
      "loss = 0.0085186    (min = 0.0085186   )  \taccuracy = 0.918      (max = 0.918     )\n",
      "loss = 0.02301      (min = 0.020661    )  \taccuracy = 0.762      (max = 0.784     )\n"
     ]
    },
    {
     "name": "stderr",
     "output_type": "stream",
     "text": [
      " 98%|█████████▊| 117/120 [01:57<00:03,  1.05s/it]"
     ]
    },
    {
     "name": "stdout",
     "output_type": "stream",
     "text": [
      "\u001b[4A\n",
      "Epoch :        116,    1169.9870 ms elapsed\n",
      "loss = 0.0087009    (min = 0.0085186   )  \taccuracy = 0.908      (max = 0.918     )\n",
      "loss = 0.022796     (min = 0.020661    )  \taccuracy = 0.782      (max = 0.784     )\n"
     ]
    },
    {
     "name": "stderr",
     "output_type": "stream",
     "text": [
      " 99%|█████████▉| 119/120 [01:59<00:01,  1.09s/it]"
     ]
    },
    {
     "name": "stdout",
     "output_type": "stream",
     "text": [
      "\u001b[4A\n",
      "Epoch :        118,    1123.2670 ms elapsed\n",
      "loss = 0.008728     (min = 0.0085186   )  \taccuracy = 0.892      (max = 0.918     )\n",
      "loss = 0.023663     (min = 0.020661    )  \taccuracy = 0.77       (max = 0.784     )\n"
     ]
    },
    {
     "name": "stderr",
     "output_type": "stream",
     "text": [
      "100%|██████████| 120/120 [02:00<00:00,  1.09s/it]\n"
     ]
    },
    {
     "name": "stdout",
     "output_type": "stream",
     "text": [
      "Finished Training\n"
     ]
    },
    {
     "data": {
      "image/png": "[encoded data removed]",
      "text/plain": [
       "<Figure size 432x288 with 1 Axes>"
      ]
     },
     "metadata": {
      "needs_background": "light"
     },
     "output_type": "display_data"
    },
    {
     "data": {
      "image/png": "[encoded data removed]",
      "text/plain": [
       "<Figure size 432x288 with 1 Axes>"
      ]
     },
     "metadata": {
      "needs_background": "light"
     },
     "output_type": "display_data"
    },
    {
     "name": "stdout",
     "output_type": "stream",
     "text": [
      "Saving models...\n"
     ]
    }
   ],
   "source": [
    "tailored_cnn_fashion = Tailored_CNN_Mnist().to(device)\n",
    "\n",
    "t_criterion = nn.CrossEntropyLoss()\n",
    "t_optimizer = optim.Adam(tailored_cnn_fashion.parameters(), lr=0.001)\n",
    "t_stats = learningStats()\n",
    "\n",
    "train(tailored_cnn_fashion,'tailor_cnn_Sfashion', \n",
    "      trainloader_cnn,testloader_cnn, \n",
    "      t_criterion, \n",
    "      t_optimizer,\n",
    "      t_stats,\n",
    "      epoch=EPOCH+20)"
   ]
  },
  {
   "cell_type": "code",
   "execution_count": 15,
   "metadata": {},
   "outputs": [
    {
     "name": "stdout",
     "output_type": "stream",
     "text": [
      "The classification accuracy:  0.744\n",
      "\n"
     ]
    },
    {
     "data": {
      "image/png": "[encoded data removed]",
      "text/plain": [
       "<Figure size 432x288 with 2 Axes>"
      ]
     },
     "metadata": {
      "needs_background": "light"
     },
     "output_type": "display_data"
    }
   ],
   "source": [
    "tailored_cnn_fashion = Tailored_CNN_Mnist().to(device)\n",
    "load_model('tailor_cnn_Sfashion', tailored_cnn_fashion)\n",
    "y_true, y_pred = get_labels(tailored_cnn_fashion, testloader_cnn, snn=False)\n",
    "test_method(y_true.cpu().numpy(), y_pred.cpu().numpy())"
   ]
  },
  {
   "cell_type": "markdown",
   "metadata": {},
   "source": [
    "# Test for SNN with weights from tailored CNN"
   ]
  },
  {
   "cell_type": "markdown",
   "metadata": {},
   "source": [
    "## Notes on the conv\n",
    "* kernel size of time should be 1, otherwise it gets convolved as well.\n",
    "* bias=False\n",
    "* replace their pool layer with nn.AvgPool3d. The pool they used is a $sum*\\theta$ not an average.\n",
    "* should recieve the Spikes from the previous layer\n",
    "* the input value should be within [0,1] before they go into the DataLoader\n",
    "## Pipeline\n",
    "raw data(B,C,H,W) --- spike generation ---> spike(B,C,H,W,T) --- Conv3d on spikes ---> X(t) for every t of T --- eq 1: LIF, threshold and reset ---> intermediate V(t), the membrane potential --- based on V(t) ---> Spikes for the next layer."
   ]
  },
  {
   "cell_type": "code",
   "execution_count": 16,
   "metadata": {},
   "outputs": [],
   "source": [
    "class custmized_SNN_Mnist(nn.Module):\n",
    "    \n",
    "    def __init__(self, thetas, leaks=[0,0,0,0,0], V_mins=[0,0,0,0,0]):\n",
    "        super(custmized_SNN_Mnist, self).__init__()\n",
    "        self.conv1 = convLayer(1, 3, 5, theta=thetas[0], padding=1)\n",
    "        self.pool1 = poolLayer(2, theta=thetas[1])\n",
    "        self.conv2 = convLayer(3, 12, 5, theta=thetas[2],padding=1)        \n",
    "        self.pool2 = poolLayer(2, theta=thetas[3])\n",
    "        self.fc1   = denseLayer((5 * 5 * 12), 10, theta=thetas[4])\n",
    "        \n",
    "    def forward(self, spikeInput):\n",
    "        spike_conv1 = self.conv1(spikeInput)\n",
    "        #print(spike_conv1)\n",
    "        spike_pool1 = self.pool1(spike_conv1)\n",
    "        #print(spike_pool1)\n",
    "        spike_conv2 = self.conv2(spike_pool1)\n",
    "        #print(spike_conv2.shape)\n",
    "        spike_pool2 = self.pool2(spike_conv2)\n",
    "        spike_for_fc1 = spike_pool2.reshape(-1, 5 * 5 * 12, 1, 1, spike_pool2.shape[-1])\n",
    "        spikeOut = self.fc1(spike_for_fc1)\n",
    "        \n",
    "        return spikeOut"
   ]
  },
  {
   "cell_type": "markdown",
   "metadata": {},
   "source": [
    "### experiment MNIST"
   ]
  },
  {
   "cell_type": "code",
   "execution_count": 17,
   "metadata": {
    "code_folding": []
   },
   "outputs": [],
   "source": [
    "# set up hyper params\n",
    "TIME_BINS = 100"
   ]
  },
  {
   "cell_type": "code",
   "execution_count": 18,
   "metadata": {},
   "outputs": [],
   "source": [
    "# Dataset and dataLoader instances.\n",
    "testingSet_M = SpikeDataset(datasetPath = './data', dataset='mnist',TimeBins=TIME_BINS,\n",
    "                    small=True, train=False)\n",
    "\n",
    "testLoader_M = DataLoader(dataset=testingSet_M, batch_size=64, shuffle=False, num_workers=4)"
   ]
  },
  {
   "cell_type": "markdown",
   "metadata": {},
   "source": [
    "* check the performance of a randomly initialized SNN"
   ]
  },
  {
   "cell_type": "code",
   "execution_count": 19,
   "metadata": {},
   "outputs": [],
   "source": [
    "thetas = [1, 0.99, 1, 0.99, 1]\n",
    "\n",
    "custmized_snn_mnist = custmized_SNN_Mnist(thetas=thetas).to(device)"
   ]
  },
  {
   "cell_type": "code",
   "execution_count": 20,
   "metadata": {},
   "outputs": [
    {
     "name": "stdout",
     "output_type": "stream",
     "text": [
      "The classification accuracy:  0.076\n",
      "\n"
     ]
    },
    {
     "data": {
      "image/png": "[encoded data removed]",
      "text/plain": [
       "<Figure size 432x288 with 2 Axes>"
      ]
     },
     "metadata": {
      "needs_background": "light"
     },
     "output_type": "display_data"
    }
   ],
   "source": [
    "y_true, y_pred = get_labels(custmized_snn_mnist, testLoader_M, snn=True)\n",
    "test_method(y_true.cpu().numpy(), y_pred.cpu().numpy())"
   ]
  },
  {
   "cell_type": "markdown",
   "metadata": {},
   "source": [
    "* now try with the weights learned from tailor_cnn"
   ]
  },
  {
   "cell_type": "code",
   "execution_count": 21,
   "metadata": {},
   "outputs": [
    {
     "name": "stdout",
     "output_type": "stream",
     "text": [
      "Layer conv1.weight\n",
      "torch.Size([3, 1, 5, 5])\n",
      "Layer conv2.weight\n",
      "torch.Size([12, 3, 5, 5])\n",
      "Layer fc1.weight\n",
      "torch.Size([10, 300])\n"
     ]
    }
   ],
   "source": [
    "# script to transport the weights\n",
    "tailor_cnn_weights = load_dict(\"tailor_cnn_Smnist\")\n",
    "snn_weights = custmized_snn_mnist.state_dict()\n",
    "\n",
    "for k in iter(tailor_cnn_weights):\n",
    "    print(\"Layer {}\".format(k))\n",
    "    print(tailor_cnn_weights[k].shape)\n",
    "    if k.startswith('conv') or k.startswith('fc'):\n",
    "        snn_weights[k] = tailor_cnn_weights[k].reshape(snn_weights[k].shape)"
   ]
  },
  {
   "cell_type": "code",
   "execution_count": 22,
   "metadata": {},
   "outputs": [
    {
     "data": {
      "text/plain": [
       "IncompatibleKeys(missing_keys=[], unexpected_keys=[])"
      ]
     },
     "execution_count": 22,
     "metadata": {},
     "output_type": "execute_result"
    }
   ],
   "source": [
    "transformed_snn_mnist = custmized_SNN_Mnist(thetas=thetas).to(device)\n",
    "transformed_snn_mnist.load_state_dict(snn_weights)\n",
    "\n",
    "# this warning can be ignored, it happens when using jupyter \n",
    "# even the weights are passed without problem"
   ]
  },
  {
   "cell_type": "code",
   "execution_count": 23,
   "metadata": {},
   "outputs": [
    {
     "name": "stdout",
     "output_type": "stream",
     "text": [
      "The classification accuracy:  0.692\n",
      "\n"
     ]
    },
    {
     "data": {
      "image/png": "[encoded data removed]",
      "text/plain": [
       "<Figure size 432x288 with 2 Axes>"
      ]
     },
     "metadata": {
      "needs_background": "light"
     },
     "output_type": "display_data"
    }
   ],
   "source": [
    "y_true, y_pred = get_labels(transformed_snn_mnist, testLoader_M, snn=True)\n",
    "test_method(y_true.cpu().numpy(), y_pred.cpu().numpy())"
   ]
  },
  {
   "cell_type": "markdown",
   "metadata": {},
   "source": [
    "### experiment FashionMnist"
   ]
  },
  {
   "cell_type": "code",
   "execution_count": 24,
   "metadata": {},
   "outputs": [],
   "source": [
    "testingSet_F = SpikeDataset(datasetPath = './data', dataset='fashion',TimeBins=TIME_BINS,\n",
    "                    small=True, train=False)\n",
    "testLoader_F = DataLoader(dataset=testingSet_F, batch_size=64, shuffle=False, num_workers=4)"
   ]
  },
  {
   "cell_type": "markdown",
   "metadata": {},
   "source": [
    "* check the performance of a randomly initialized SNN"
   ]
  },
  {
   "cell_type": "code",
   "execution_count": 32,
   "metadata": {},
   "outputs": [],
   "source": [
    "thetas = [10, 0.7, 0.9, 0.7, 1]\n",
    "\n",
    "custmized_snn_fashion = custmized_SNN_Mnist(thetas=thetas).to(device)"
   ]
  },
  {
   "cell_type": "code",
   "execution_count": 33,
   "metadata": {},
   "outputs": [
    {
     "name": "stdout",
     "output_type": "stream",
     "text": [
      "The classification accuracy:  0.096\n",
      "\n"
     ]
    },
    {
     "data": {
      "image/png": "[encoded data removed]",
      "text/plain": [
       "<Figure size 432x288 with 2 Axes>"
      ]
     },
     "metadata": {
      "needs_background": "light"
     },
     "output_type": "display_data"
    }
   ],
   "source": [
    "y_true, y_pred = get_labels(custmized_snn_fashion, testLoader_F, snn=True)\n",
    "test_method(y_true.cpu().numpy(), y_pred.cpu().numpy())"
   ]
  },
  {
   "cell_type": "markdown",
   "metadata": {},
   "source": [
    "* now try with the weights learned from tailor_cnn"
   ]
  },
  {
   "cell_type": "code",
   "execution_count": 34,
   "metadata": {},
   "outputs": [
    {
     "name": "stdout",
     "output_type": "stream",
     "text": [
      "Layer conv1.weight\n",
      "torch.Size([3, 1, 5, 5])\n",
      "Layer conv2.weight\n",
      "torch.Size([12, 3, 5, 5])\n",
      "Layer fc1.weight\n",
      "torch.Size([10, 300])\n"
     ]
    }
   ],
   "source": [
    "# script to transport the weights\n",
    "tailor_cnn_weights = load_dict(\"tailor_cnn_Sfashion\")\n",
    "snn_weights = custmized_snn_fashion.state_dict()\n",
    "\n",
    "for k in iter(tailor_cnn_weights):\n",
    "    print(\"Layer {}\".format(k))\n",
    "    print(tailor_cnn_weights[k].shape)\n",
    "    if k.startswith('conv') or k.startswith('fc'):\n",
    "        snn_weights[k] = tailor_cnn_weights[k].reshape(snn_weights[k].shape)"
   ]
  },
  {
   "cell_type": "code",
   "execution_count": 35,
   "metadata": {},
   "outputs": [
    {
     "data": {
      "text/plain": [
       "IncompatibleKeys(missing_keys=[], unexpected_keys=[])"
      ]
     },
     "execution_count": 35,
     "metadata": {},
     "output_type": "execute_result"
    }
   ],
   "source": [
    "transformed_snn_fashion = custmized_SNN_Mnist(thetas=thetas).to(device)\n",
    "transformed_snn_fashion.load_state_dict(snn_weights)\n",
    "\n",
    "# this warning can be ignored, it happens when using jupyter \n",
    "# even the weights are passed without problem"
   ]
  },
  {
   "cell_type": "code",
   "execution_count": 36,
   "metadata": {},
   "outputs": [
    {
     "name": "stdout",
     "output_type": "stream",
     "text": [
      "The classification accuracy:  0.572\n",
      "\n"
     ]
    },
    {
     "data": {
      "image/png": "[encoded data removed]",
      "text/plain": [
       "<Figure size 432x288 with 2 Axes>"
      ]
     },
     "metadata": {
      "needs_background": "light"
     },
     "output_type": "display_data"
    }
   ],
   "source": [
    "y_true, y_pred = get_labels(transformed_snn_fashion, testLoader_F, snn=True)\n",
    "test_method(y_true.cpu().numpy(), y_pred.cpu().numpy())"
   ]
  }
 ],
 "metadata": {
  "kernelspec": {
   "display_name": "Python 3",
   "language": "python",
   "name": "python3"
  },
  "language_info": {
   "codemirror_mode": {
    "name": "ipython",
    "version": 3
   },
   "file_extension": ".py",
   "mimetype": "text/x-python",
   "name": "python",
   "nbconvert_exporter": "python",
   "pygments_lexer": "ipython3",
   "version": "3.6.8"
  }
 },
 "nbformat": 4,
 "nbformat_minor": 2
}
